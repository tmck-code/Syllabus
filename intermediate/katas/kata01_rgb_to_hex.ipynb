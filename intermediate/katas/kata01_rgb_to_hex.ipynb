{
 "cells": [
  {
   "cell_type": "markdown",
   "id": "dbd48e7b-c7ec-4340-ba99-15baa5710556",
   "metadata": {},
   "source": [
    "## RGB to Hex\n",
    "\n",
    "The rgb function is incomplete. Complete it so that passing in RGB decimal values will \n",
    "result in a hexadecimal representation being returned.\n",
    "- Valid decimal values for RGB are 0 - 255.\n",
    "- Any values that fall out of that range must be rounded to the closest valid value.\n",
    "\n",
    "Note: Your answer should always be 6 characters long, the shorthand with 3 will not work \n",
    "here."
   ]
  },
  {
   "cell_type": "code",
   "execution_count": 87,
   "id": "d35b600e-e929-4e91-bae7-db4f41fb8e6f",
   "metadata": {},
   "outputs": [],
   "source": [
    "def test(f):\n",
    "    assert f(255, 255, 255) == 'FFFFFF', f\"✘ {f.__name__} t1: f(255, 255, 255) != 'FFFFFF'\"\n",
    "    assert f(255, 255, 300) == 'FFFFFF', f\"✘ {f.__name__} t2: f(255, 255, 300) != 'FFFFFF'\"\n",
    "    assert f(0,0,0)         == '000000', f\"✘ {f.__name__} t3: f(0,0,0) != '000000'\"\n",
    "    assert f(148, 0, 211)   == '9400D3', f\"✘ {f.__name__} t4: f(148, 0, 211) != '9400D3'\"\n",
    "    \n",
    "def test_all(*f):\n",
    "    for func in f:\n",
    "        try:\n",
    "            test(func)\n",
    "        except AssertionError as e:\n",
    "            print(e)\n",
    "            continue\n",
    "        print(f'✓ {func.__name__} passed')\n",
    "\n",
    "def time_all(*f):\n",
    "    for func in f:\n",
    "        print(f'⏱ {func.__name__} ', end='')\n",
    "        %timeit func(0, 255, 400)"
   ]
  },
  {
   "cell_type": "code",
   "execution_count": 88,
   "id": "4d6df381-417c-4e12-89f8-fb78e8cc4582",
   "metadata": {},
   "outputs": [
    {
     "name": "stdout",
     "output_type": "stream",
     "text": [
      "✘ rgb1 t1: f(255, 255, 255) != 'FFFFFF'\n"
     ]
    }
   ],
   "source": [
    "def rgb1(r: int, g: int, b: int) -> str:\n",
    "    pass\n",
    "\n",
    "test_all(rgb1)"
   ]
  },
  {
   "cell_type": "markdown",
   "id": "7f60774f-ce53-42b8-9c50-04067600cf0b",
   "metadata": {},
   "source": [
    "---\n",
    "\n",
    "### Firstly, how can we transform int -> hex?"
   ]
  },
  {
   "cell_type": "code",
   "execution_count": 93,
   "id": "a6073da5-8dcf-4fc9-b4ed-b46c8799cd8c",
   "metadata": {},
   "outputs": [
    {
     "name": "stdout",
     "output_type": "stream",
     "text": [
      "⏱ conv1 255 -> FF :302 ns ± 6.48 ns per loop (mean ± std. dev. of 7 runs, 1000000 loops each)\n",
      "⏱ conv2 255 -> FF :197 ns ± 3.54 ns per loop (mean ± std. dev. of 7 runs, 1000000 loops each)\n",
      "⏱ conv3 255 -> FF :381 ns ± 5.76 ns per loop (mean ± std. dev. of 7 runs, 1000000 loops each)\n",
      "⏱ conv4 255 -> FF :383 ns ± 4.89 ns per loop (mean ± std. dev. of 7 runs, 1000000 loops each)\n",
      "⏱ conv5 255 -> FF :196 ns ± 2.81 ns per loop (mean ± std. dev. of 7 runs, 1000000 loops each)\n"
     ]
    }
   ],
   "source": [
    "FMT = '{:02X}'\n",
    "FMTP = '%02X'\n",
    "\n",
    "def conv1(a): return f'{a:02X}'\n",
    "def conv2(a): return '%02X' % a\n",
    "def conv3(a): return '{:02X}'.format(a)\n",
    "def conv4(a): return FMT.format(a)\n",
    "def conv5(a): return FMTP % a\n",
    "\n",
    "for c in [conv1, conv2, conv3, conv4, conv5]:\n",
    "    print('⏱', c.__name__, '255 ->', c(255), end='')\n",
    "    %timeit c(255)"
   ]
  },
  {
   "cell_type": "code",
   "execution_count": 67,
   "id": "23555a46-3fa3-4e71-b45e-c2b833216dc3",
   "metadata": {},
   "outputs": [],
   "source": [
    "def rgb1(r: int, g: int, b: int) -> str:\n",
    "    return '%02X%02X%02X' % (r, g, b)"
   ]
  },
  {
   "cell_type": "code",
   "execution_count": 68,
   "id": "cf05617e-6b95-4702-bb8c-48cfeaf71f3f",
   "metadata": {},
   "outputs": [
    {
     "name": "stdout",
     "output_type": "stream",
     "text": [
      "✘ rgb1 t2: f(255, 255, 300) != 'FFFFFF'\n"
     ]
    }
   ],
   "source": [
    "test_all(rgb1)"
   ]
  },
  {
   "cell_type": "code",
   "execution_count": 69,
   "id": "683d5d47-41e7-4dc1-8802-7861bea8a8a7",
   "metadata": {},
   "outputs": [],
   "source": [
    "def normalise(n):\n",
    "    if n > 255:\n",
    "        return 255\n",
    "    elif n < 0:\n",
    "        return 0\n",
    "    return n\n",
    "\n",
    "def rgb2(r: int, g: int, b: int) -> str:\n",
    "    return '%02X%02X%02X' % (normalise(r), normalise(g), normalise(b))"
   ]
  },
  {
   "cell_type": "code",
   "execution_count": 70,
   "id": "f6c6d58d-0104-4e5e-be74-97a09cf6759a",
   "metadata": {},
   "outputs": [
    {
     "name": "stdout",
     "output_type": "stream",
     "text": [
      "✘ rgb1 t2: f(255, 255, 300) != 'FFFFFF'\n",
      "✓ rgb2 passed\n"
     ]
    }
   ],
   "source": [
    "test_all(rgb1, rgb2)"
   ]
  },
  {
   "cell_type": "code",
   "execution_count": 90,
   "id": "45957505-a659-4d70-803a-2a4fea33dab6",
   "metadata": {},
   "outputs": [
    {
     "name": "stdout",
     "output_type": "stream",
     "text": [
      "⏱ rgb1 63.2 ns ± 0.644 ns per loop (mean ± std. dev. of 7 runs, 10000000 loops each)\n",
      "⏱ rgb2 712 ns ± 6.74 ns per loop (mean ± std. dev. of 7 runs, 1000000 loops each)\n"
     ]
    }
   ],
   "source": [
    "time_all(rgb1, rgb2)"
   ]
  },
  {
   "cell_type": "code",
   "execution_count": 76,
   "id": "557e23e2-0c6f-4b17-a960-a7d8fa8afb7e",
   "metadata": {},
   "outputs": [],
   "source": [
    "def rgb3(r: int, g: int, b: int) -> str:\n",
    "    normalise = lambda n: min(255, max(0, n))\n",
    "    return '%02X%02X%02X' % (normalise(r), normalise(g), normalise(b))"
   ]
  },
  {
   "cell_type": "code",
   "execution_count": 91,
   "id": "1df5f1e8-b098-41f4-a322-136283e29fed",
   "metadata": {},
   "outputs": [
    {
     "name": "stdout",
     "output_type": "stream",
     "text": [
      "✓ rgb2 passed\n",
      "✓ rgb3 passed\n",
      "⏱ rgb2 725 ns ± 8.09 ns per loop (mean ± std. dev. of 7 runs, 1000000 loops each)\n",
      "⏱ rgb3 1.62 µs ± 14.2 ns per loop (mean ± std. dev. of 7 runs, 1000000 loops each)\n"
     ]
    }
   ],
   "source": [
    "test_all(rgb2, rgb3)\n",
    "time_all(rgb2, rgb3)"
   ]
  },
  {
   "cell_type": "code",
   "execution_count": 82,
   "id": "4c5eb74c-fc35-4da1-8c2c-70a0671b8eaa",
   "metadata": {},
   "outputs": [],
   "source": [
    "def rgb4(*args) -> str:\n",
    "    return ''.join('%02X' % normalise(x) for x in args)"
   ]
  },
  {
   "cell_type": "code",
   "execution_count": 92,
   "id": "bd02bf87-f69d-4754-a985-a6756f0d3bf8",
   "metadata": {},
   "outputs": [
    {
     "name": "stdout",
     "output_type": "stream",
     "text": [
      "✓ rgb4 passed\n",
      "⏱ rgb2 719 ns ± 5.71 ns per loop (mean ± std. dev. of 7 runs, 1000000 loops each)\n",
      "⏱ rgb3 1.62 µs ± 8.83 ns per loop (mean ± std. dev. of 7 runs, 1000000 loops each)\n",
      "⏱ rgb4 1.3 µs ± 19.9 ns per loop (mean ± std. dev. of 7 runs, 1000000 loops each)\n"
     ]
    }
   ],
   "source": [
    "test_all(rgb4)\n",
    "time_all(rgb2, rgb3, rgb4)"
   ]
  },
  {
   "cell_type": "code",
   "execution_count": null,
   "id": "76d0a9a5-59b8-4dc3-beae-bd70ece04001",
   "metadata": {},
   "outputs": [],
   "source": []
  }
 ],
 "metadata": {
  "kernelspec": {
   "display_name": "Python 3",
   "language": "python",
   "name": "python3"
  },
  "language_info": {
   "codemirror_mode": {
    "name": "ipython",
    "version": 3
   },
   "file_extension": ".py",
   "mimetype": "text/x-python",
   "name": "python",
   "nbconvert_exporter": "python",
   "pygments_lexer": "ipython3",
   "version": "3.9.2"
  }
 },
 "nbformat": 4,
 "nbformat_minor": 5
}
