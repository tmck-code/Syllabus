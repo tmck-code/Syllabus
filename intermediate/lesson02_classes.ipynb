{
 "cells": [
  {
   "cell_type": "markdown",
   "id": "municipal-tactics",
   "metadata": {},
   "source": [
    "# Lesson 2: Class Warfare\n",
    "\n",
    "> Disclaimer: Most of these points should only be applied to Python.\n",
    "\n",
    "- Overutilising or underutilising classes can lead to ruin\n",
    "- Classes can be a powerful tool or an endless garden path"
   ]
  },
  {
   "cell_type": "markdown",
   "id": "quantitative-partition",
   "metadata": {},
   "source": [
    "## Benefits vs Drawbacks\n",
    "\n",
    "### Benefits\n",
    "\n",
    "- Can keep track of state\n",
    "  - No need to pass parameters back and forth\n",
    "  - No thread-unsafe global variables\n",
    "  - Can logically initialise state and then use it\n",
    "- Can organise a hierarcy of states that belong together\n",
    "- Provide dot-methods for accessing properties\n",
    "  - \"ask, don't tell\""
   ]
  },
  {
   "cell_type": "markdown",
   "id": "a2159240-9002-4ef0-aa40-4fb246f164f9",
   "metadata": {},
   "source": [
    "- We have a collection of files\n",
    "- Must get some attributes from each, and add those into a shared collection"
   ]
  },
  {
   "cell_type": "markdown",
   "id": "polish-responsibility",
   "metadata": {},
   "source": [
    "## Functions vs Classes\n",
    "\n",
    "### Functions vs Methods\n",
    "\n",
    "In python\n",
    "\n",
    "- a **function** takes parameters, returns a value\n",
    "- a **method** can be called on an object, and can access state in the object"
   ]
  },
  {
   "cell_type": "markdown",
   "id": "fb773069-8ce6-4cbb-8f0d-5e5725a78c9d",
   "metadata": {},
   "source": [
    "## An Example\n",
    "\n",
    "- You have a collection of items, in this case ids and emails\n",
    "- Need to iterate through them, collect some values, and pass them on"
   ]
  },
  {
   "cell_type": "code",
   "execution_count": 1,
   "id": "faee5b3d-eafe-4258-9d61-2cf383d56e65",
   "metadata": {},
   "outputs": [
    {
     "name": "stdout",
     "output_type": "stream",
     "text": [
      "[\n",
      "  [\n",
      "    \u001b[38;2;102;102;102m0\u001b[39m,\n",
      "    \u001b[38;2;186;33;33m\"90c5a78b-5a98-412b-ac38-75c9237bdcc6\"\u001b[39m,\n",
      "    \u001b[38;2;186;33;33m\"lisa92@acosta.net\"\u001b[39m,\n",
      "    \u001b[38;2;102;102;102m4385\u001b[39m\n",
      "  ],\n",
      "  [\n",
      "    \u001b[38;2;102;102;102m1\u001b[39m,\n",
      "    \u001b[38;2;186;33;33m\"5d619a00-e2c5-4f94-92ca-6320155e5287\"\u001b[39m,\n",
      "    \u001b[38;2;186;33;33m\"calvarado@yahoo.com\"\u001b[39m,\n",
      "    \u001b[38;2;102;102;102m6823\u001b[39m\n",
      "  ]\n",
      "]\n",
      "\n"
     ]
    }
   ],
   "source": [
    "from faker import Faker\n",
    "from utils import ppj\n",
    "fake = Faker()\n",
    "\n",
    "def fake_record(i, spanner=False):\n",
    "    if spanner and i % 5 == 0:\n",
    "        return (i, fake.uuid4(), fake.email(), None)\n",
    "    else:\n",
    "        return (i, fake.uuid4(), fake.email(), fake.pyint())\n",
    "    \n",
    "for i in range(10):\n",
    "    collection = [fake_record(i) for i in range(10)]\n",
    "collection[:-1][-1] = False\n",
    "ppj(collection[:2])\n",
    "\n",
    "def iterate(c):\n",
    "    '''\n",
    "    This method will yield a tuple of each item, and a boolean indicating \n",
    "    if there are more items.\n",
    "    After all items are consumed, this method will yield None/False\n",
    "    (This means that we can't just do \"for item in iterate(collection)\")\n",
    "    '''\n",
    "    for el in c[:-2]:\n",
    "        yield el, True\n",
    "    yield c[-1], False\n",
    "    while True:\n",
    "        yield None, False"
   ]
  },
  {
   "cell_type": "markdown",
   "id": "1cd577cf-2511-4bc3-b874-17d8cbccf225",
   "metadata": {},
   "source": [
    "_For our exercise, we are only going to collect the ID if the last column has the value \"true\"_"
   ]
  },
  {
   "cell_type": "code",
   "execution_count": 2,
   "id": "fbde1c5f-bc21-4d16-9bba-73d929fcd9c9",
   "metadata": {},
   "outputs": [
    {
     "name": "stdout",
     "output_type": "stream",
     "text": [
      "(0, '90c5a78b-5a98-412b-ac38-75c9237bdcc6', 'lisa92@acosta.net', 4385) True\n",
      "(1, '5d619a00-e2c5-4f94-92ca-6320155e5287', 'calvarado@yahoo.com', 6823) True\n",
      "(2, 'ee44850f-9b5e-4c4a-aa6e-f00690d0bd94', 'kevin38@hotmail.com', 6622) True\n",
      "(3, '0d215529-e561-4b8d-92bd-31a57f1c5a39', 'fwalsh@hotmail.com', 1132) True\n",
      "(4, 'ff41defb-e6ac-4c65-81ec-f3b2ec460543', 'fmunoz@yahoo.com', 4544) True\n",
      "(5, '58badd05-a8c2-4f1f-80c7-706132651a2f', 'amberbrown@gmail.com', 6959) True\n",
      "(6, 'd29e5b85-24cc-42c1-80af-4c4b243feddb', 'phylliskim@fisher-norman.com', 4374) True\n",
      "(7, '45eaaa48-62ba-43a5-adeb-eb1f9a0dc555', 'mackenzie42@gaines.com', 4794) True\n",
      "(9, '95dc1f89-0287-42ba-8989-14cb50c1058d', 'thomasnoble@gmail.com', 9781) False\n"
     ]
    }
   ],
   "source": [
    "ids = []\n",
    "for el, has_next in iterate(collection):\n",
    "    print(el, has_next)\n",
    "    if el[3] % 2:\n",
    "        ids.append(el[1])\n",
    "    if not has_next:\n",
    "        break"
   ]
  },
  {
   "cell_type": "markdown",
   "id": "b619222d-8bfd-4409-8d5e-06e0de637d98",
   "metadata": {},
   "source": [
    "### Adding more stuff\n",
    "\n",
    "Let's add some details around how many items we consumed/are up to"
   ]
  },
  {
   "cell_type": "code",
   "execution_count": 3,
   "id": "9fe42b35-cd8e-4852-945b-5b3225db0c4b",
   "metadata": {},
   "outputs": [],
   "source": [
    "def process(collection):\n",
    "    ids = []\n",
    "    for i, (el, has_next) in enumerate(iterate(collection)):\n",
    "        print(i, el, has_next)\n",
    "        if el[3] % 2:\n",
    "            ids.append(el[1])\n",
    "        if has_next == False:\n",
    "            break"
   ]
  },
  {
   "cell_type": "markdown",
   "id": "04a73ee5-5b6b-4d2c-955c-cb607d39e525",
   "metadata": {},
   "source": [
    "## Problems\n",
    "\n",
    "Let's add a spanner"
   ]
  },
  {
   "cell_type": "code",
   "execution_count": 15,
   "id": "fc11c8ad-b2ed-4526-aa11-3b3b56fb7cb6",
   "metadata": {},
   "outputs": [
    {
     "name": "stdout",
     "output_type": "stream",
     "text": [
      "0 (0, 'b81afb04-8ace-401f-9fed-e9d0f8124c19', 'steven91@long.com', None) True\n",
      "1 (1, 'c2702775-a8c9-4a89-94e0-da0aba80b4bf', 'jeffreywilson@cline.org', 790) True\n",
      "!! 1-c2702775-a8c9-4a89-94e0-da0aba80b4bf-jeffreywilson@cline.org-790\n",
      "2 (2, '6138615b-66a8-49d6-8f1a-9fd6543a6ada', 'brandondennis@yahoo.com', 9504) True\n",
      "!! 2-6138615b-66a8-49d6-8f1a-9fd6543a6ada-brandondennis@yahoo.com-9504\n",
      "3 (3, '4fc5da45-f309-4c33-8d07-b773f2f414e8', 'olivia64@gmail.com', 4207) True\n",
      "4 (4, '10b4aeac-7177-486d-9f03-224d78fe8b22', 'karen37@baker.com', 6609) True\n",
      "5 (5, 'f3f644b8-d5b4-41c4-917f-c1f5c324b876', 'jeffrey63@gmail.com', None) True\n",
      "6 (6, 'a4c8ba4c-eddd-4db5-9d99-80269bb29776', 'david28@yahoo.com', 8843) True\n",
      "7 (7, '4543ac48-f772-4752-8b6f-0c1c0fdb97fb', 'victoriarichardson@gmail.com', 4045) True\n",
      "!! 7-4543ac48-f772-4752-8b6f-0c1c0fdb97fb-victoriarichardson@gmail.com-4045\n",
      "8 (9, '911b500b-dffc-4a20-8556-767190d6aa1e', 'mark31@gmail.com', 1103) False\n"
     ]
    }
   ],
   "source": [
    "collection = [fake_record(i, True) for i in range(10)]\n",
    "collection[:-1][-1] = False\n",
    "\n",
    "process(collection)"
   ]
  },
  {
   "cell_type": "code",
   "execution_count": 16,
   "id": "9d8438e3-afbf-4d97-995e-0210d147f20d",
   "metadata": {},
   "outputs": [],
   "source": [
    "def process(collection):\n",
    "    ids = []\n",
    "    for i, (el, has_next) in enumerate(iterate(collection)):\n",
    "        print(i, el, has_next)\n",
    "        if isinstance(el, int) and el[3] % 2:\n",
    "            ids.append(el[1])\n",
    "        if len(el[2]) > 15:\n",
    "            print(f'{\"-\".join(el)}')\n",
    "        if has_next == False:\n",
    "            break"
   ]
  },
  {
   "cell_type": "code",
   "execution_count": 17,
   "id": "61fd6a70-6e7c-4869-9164-ed492536d4a8",
   "metadata": {},
   "outputs": [
    {
     "name": "stdout",
     "output_type": "stream",
     "text": [
      "0 (0, 'b81afb04-8ace-401f-9fed-e9d0f8124c19', 'steven91@long.com', None) True\n"
     ]
    },
    {
     "ename": "TypeError",
     "evalue": "sequence item 0: expected str instance, int found",
     "output_type": "error",
     "traceback": [
      "\u001b[0;31m---------------------------------------------------------------------------\u001b[0m",
      "\u001b[0;31mTypeError\u001b[0m                                 Traceback (most recent call last)",
      "\u001b[0;32m<ipython-input-17-1a2245d790d9>\u001b[0m in \u001b[0;36m<module>\u001b[0;34m\u001b[0m\n\u001b[0;32m----> 1\u001b[0;31m \u001b[0mprocess\u001b[0m\u001b[0;34m(\u001b[0m\u001b[0mcollection\u001b[0m\u001b[0;34m)\u001b[0m\u001b[0;34m\u001b[0m\u001b[0;34m\u001b[0m\u001b[0m\n\u001b[0m",
      "\u001b[0;32m<ipython-input-16-f8bde4cb3e8e>\u001b[0m in \u001b[0;36mprocess\u001b[0;34m(collection)\u001b[0m\n\u001b[1;32m      6\u001b[0m             \u001b[0mids\u001b[0m\u001b[0;34m.\u001b[0m\u001b[0mappend\u001b[0m\u001b[0;34m(\u001b[0m\u001b[0mel\u001b[0m\u001b[0;34m[\u001b[0m\u001b[0;36m1\u001b[0m\u001b[0;34m]\u001b[0m\u001b[0;34m)\u001b[0m\u001b[0;34m\u001b[0m\u001b[0;34m\u001b[0m\u001b[0m\n\u001b[1;32m      7\u001b[0m         \u001b[0;32mif\u001b[0m \u001b[0mlen\u001b[0m\u001b[0;34m(\u001b[0m\u001b[0mel\u001b[0m\u001b[0;34m[\u001b[0m\u001b[0;36m2\u001b[0m\u001b[0;34m]\u001b[0m\u001b[0;34m)\u001b[0m \u001b[0;34m>\u001b[0m \u001b[0;36m15\u001b[0m\u001b[0;34m:\u001b[0m\u001b[0;34m\u001b[0m\u001b[0;34m\u001b[0m\u001b[0m\n\u001b[0;32m----> 8\u001b[0;31m             \u001b[0mprint\u001b[0m\u001b[0;34m(\u001b[0m\u001b[0;34mf'{\"-\".join(el)}'\u001b[0m\u001b[0;34m)\u001b[0m\u001b[0;34m\u001b[0m\u001b[0;34m\u001b[0m\u001b[0m\n\u001b[0m\u001b[1;32m      9\u001b[0m         \u001b[0;32mif\u001b[0m \u001b[0mhas_next\u001b[0m \u001b[0;34m==\u001b[0m \u001b[0;32mFalse\u001b[0m\u001b[0;34m:\u001b[0m\u001b[0;34m\u001b[0m\u001b[0;34m\u001b[0m\u001b[0m\n\u001b[1;32m     10\u001b[0m             \u001b[0;32mbreak\u001b[0m\u001b[0;34m\u001b[0m\u001b[0;34m\u001b[0m\u001b[0m\n",
      "\u001b[0;31mTypeError\u001b[0m: sequence item 0: expected str instance, int found"
     ]
    }
   ],
   "source": [
    "process(collection)"
   ]
  },
  {
   "cell_type": "code",
   "execution_count": 18,
   "id": "9d2087a9-87b9-4bf8-970c-180de0fc9af6",
   "metadata": {},
   "outputs": [
    {
     "name": "stdout",
     "output_type": "stream",
     "text": [
      "0 (0, 'b81afb04-8ace-401f-9fed-e9d0f8124c19', 'steven91@long.com', None) True\n",
      "1 (1, 'c2702775-a8c9-4a89-94e0-da0aba80b4bf', 'jeffreywilson@cline.org', 790) True\n",
      "!! 1-c2702775-a8c9-4a89-94e0-da0aba80b4bf-jeffreywilson@cline.org-790\n",
      "2 (2, '6138615b-66a8-49d6-8f1a-9fd6543a6ada', 'brandondennis@yahoo.com', 9504) True\n",
      "!! 2-6138615b-66a8-49d6-8f1a-9fd6543a6ada-brandondennis@yahoo.com-9504\n",
      "3 (3, '4fc5da45-f309-4c33-8d07-b773f2f414e8', 'olivia64@gmail.com', 4207) True\n",
      "4 (4, '10b4aeac-7177-486d-9f03-224d78fe8b22', 'karen37@baker.com', 6609) True\n",
      "5 (5, 'f3f644b8-d5b4-41c4-917f-c1f5c324b876', 'jeffrey63@gmail.com', None) True\n",
      "6 (6, 'a4c8ba4c-eddd-4db5-9d99-80269bb29776', 'david28@yahoo.com', 8843) True\n",
      "7 (7, '4543ac48-f772-4752-8b6f-0c1c0fdb97fb', 'victoriarichardson@gmail.com', 4045) True\n",
      "!! 7-4543ac48-f772-4752-8b6f-0c1c0fdb97fb-victoriarichardson@gmail.com-4045\n",
      "8 (9, '911b500b-dffc-4a20-8556-767190d6aa1e', 'mark31@gmail.com', 1103) False\n"
     ]
    }
   ],
   "source": [
    "def process(collection):\n",
    "    ids = []\n",
    "    for i, (el, has_next) in enumerate(iterate(collection)):\n",
    "        print(i, el, has_next)\n",
    "        if isinstance(el, int) and el[3] % 2:\n",
    "            ids.append(el[1])\n",
    "        if len(el[2]) > 20:\n",
    "            print(f'!! {\"-\".join(map(str, el))}')\n",
    "        if has_next == False:\n",
    "            break\n",
    "process(collection)"
   ]
  },
  {
   "cell_type": "code",
   "execution_count": 19,
   "id": "92139587-adb6-4ead-8263-ae27006bd77a",
   "metadata": {},
   "outputs": [
    {
     "name": "stdout",
     "output_type": "stream",
     "text": [
      "0 (0, 'b81afb04-8ace-401f-9fed-e9d0f8124c19', 'steven91@long.com', None) True\n",
      "1 (1, 'c2702775-a8c9-4a89-94e0-da0aba80b4bf', 'jeffreywilson@cline.org', 790) True\n",
      "!! 1-c2702775-a8c9-4a89-94e0-da0aba80b4bf-jeffreywilson@cline.org-790\n",
      "2 (2, '6138615b-66a8-49d6-8f1a-9fd6543a6ada', 'brandondennis@yahoo.com', 9504) True\n",
      "!! 2-6138615b-66a8-49d6-8f1a-9fd6543a6ada-brandondennis@yahoo.com-9504\n",
      "3 (3, '4fc5da45-f309-4c33-8d07-b773f2f414e8', 'olivia64@gmail.com', 4207) True\n",
      "4 (4, '10b4aeac-7177-486d-9f03-224d78fe8b22', 'karen37@baker.com', 6609) True\n",
      "5 (5, 'f3f644b8-d5b4-41c4-917f-c1f5c324b876', 'jeffrey63@gmail.com', None) True\n",
      "6 (6, 'a4c8ba4c-eddd-4db5-9d99-80269bb29776', 'david28@yahoo.com', 8843) True\n",
      "7 (7, '4543ac48-f772-4752-8b6f-0c1c0fdb97fb', 'victoriarichardson@gmail.com', 4045) True\n",
      "!! 7-4543ac48-f772-4752-8b6f-0c1c0fdb97fb-victoriarichardson@gmail.com-4045\n",
      "8 (9, '911b500b-dffc-4a20-8556-767190d6aa1e', 'mark31@gmail.com', 1103) False\n"
     ]
    }
   ],
   "source": [
    "def process(collection):\n",
    "    ids = []\n",
    "    for i, (el, has_next) in enumerate(iterate(collection)):\n",
    "        print(i, el, has_next)\n",
    "        # collect item if it's even\n",
    "        if isinstance(el, int) and el[3] % 2:\n",
    "            ids.append(el[1])\n",
    "        # Warn about large items\n",
    "        if len(el[2]) > 20:\n",
    "            print(f'!! {\"-\".join(map(str, el))}')\n",
    "        if has_next == False:\n",
    "            break\n",
    "\n",
    "process(collection)"
   ]
  },
  {
   "cell_type": "markdown",
   "id": "4f59bef8-4446-4e27-93e9-4c88556f3675",
   "metadata": {},
   "source": [
    "### Let's take a step back\n",
    "\n",
    "We use values from the raw item without knowing that they're usable\n",
    "\n",
    "Instead of holding all the logic in this method, what if we could _ask_ each element if it was even?"
   ]
  },
  {
   "cell_type": "code",
   "execution_count": 20,
   "id": "cdc2f14e-d419-442e-9752-d8ef09c40ab2",
   "metadata": {},
   "outputs": [
    {
     "name": "stdout",
     "output_type": "stream",
     "text": [
      "0 Element(numeric_id=0, uuid='b81afb04-8ace-401f-9fed-e9d0f8124c19', email='steven91@long.com', score=None) True\n",
      "1 Element(numeric_id=1, uuid='c2702775-a8c9-4a89-94e0-da0aba80b4bf', email='jeffreywilson@cline.org', score=790) True\n",
      "!! 1-c2702775-a8c9-4a89-94e0-da0aba80b4bf-jeffreywilson@cline.org-790\n",
      "2 Element(numeric_id=2, uuid='6138615b-66a8-49d6-8f1a-9fd6543a6ada', email='brandondennis@yahoo.com', score=9504) True\n",
      "!! 2-6138615b-66a8-49d6-8f1a-9fd6543a6ada-brandondennis@yahoo.com-9504\n",
      "3 Element(numeric_id=3, uuid='4fc5da45-f309-4c33-8d07-b773f2f414e8', email='olivia64@gmail.com', score=4207) True\n",
      "4 Element(numeric_id=4, uuid='10b4aeac-7177-486d-9f03-224d78fe8b22', email='karen37@baker.com', score=6609) True\n",
      "5 Element(numeric_id=5, uuid='f3f644b8-d5b4-41c4-917f-c1f5c324b876', email='jeffrey63@gmail.com', score=None) True\n",
      "6 Element(numeric_id=6, uuid='a4c8ba4c-eddd-4db5-9d99-80269bb29776', email='david28@yahoo.com', score=8843) True\n",
      "7 Element(numeric_id=7, uuid='4543ac48-f772-4752-8b6f-0c1c0fdb97fb', email='victoriarichardson@gmail.com', score=4045) True\n",
      "!! 7-4543ac48-f772-4752-8b6f-0c1c0fdb97fb-victoriarichardson@gmail.com-4045\n",
      "8 Element(numeric_id=9, uuid='911b500b-dffc-4a20-8556-767190d6aa1e', email='mark31@gmail.com', score=1103) False\n"
     ]
    }
   ],
   "source": [
    "from dataclasses import asdict, dataclass\n",
    "\n",
    "@dataclass\n",
    "class Element:\n",
    "    numeric_id: int\n",
    "    uuid: str\n",
    "    email: str\n",
    "    score: int\n",
    "        \n",
    "def process(collection):\n",
    "    ids = []\n",
    "    for i, (el, has_next) in enumerate(iterate(collection)):\n",
    "        el = Element(*el)\n",
    "        print(i, el, has_next)\n",
    "        # collect item if it's even\n",
    "        if isinstance(el.score, int) and el.score % 2:\n",
    "            ids.append(el.uuid)\n",
    "        # Warn about large items\n",
    "        if len(el.email) > 20:\n",
    "            print(f'!! {\"-\".join(map(str, asdict(el).values()))}')\n",
    "        if has_next == False:\n",
    "            break\n",
    "process(collection)"
   ]
  },
  {
   "cell_type": "code",
   "execution_count": 10,
   "id": "85b81c81-3a3a-49cc-9dfd-699f579850b6",
   "metadata": {},
   "outputs": [
    {
     "name": "stdout",
     "output_type": "stream",
     "text": [
      "0 Element(numeric_id=0, uuid='c874d923-4b38-4b16-9007-b68aa8ede91a', email='lwest@yahoo.com', score=None) True\n",
      "!! 0-c874d923-4b38-4b16-9007-b68aa8ede91a-lwest@yahoo.com-None\n",
      "1 Element(numeric_id=1, uuid='8e8500ca-b3d1-4673-9f27-df3b2b4607a2', email='daltontoni@burke.com', score=4724) True\n",
      "!! 1-8e8500ca-b3d1-4673-9f27-df3b2b4607a2-daltontoni@burke.com-4724\n",
      "2 Element(numeric_id=2, uuid='5631c54f-998f-4797-af81-b3f2a6f05973', email='samuellynch@wright.com', score=3975) True\n",
      "!! 2-5631c54f-998f-4797-af81-b3f2a6f05973-samuellynch@wright.com-3975\n",
      "3 Element(numeric_id=3, uuid='deff8f82-379d-4758-bd76-0a728e204de2', email='bishopchristine@gray.com', score=3006) True\n",
      "!! 3-deff8f82-379d-4758-bd76-0a728e204de2-bishopchristine@gray.com-3006\n",
      "4 Element(numeric_id=4, uuid='cabc3165-ef4e-4d29-b479-2698f9137ec7', email='hhenderson@hotmail.com', score=8951) True\n",
      "!! 4-cabc3165-ef4e-4d29-b479-2698f9137ec7-hhenderson@hotmail.com-8951\n",
      "5 Element(numeric_id=5, uuid='47dc445f-0dfc-43b0-8a15-7545c548a2fd', email='jonathan76@waller.com', score=None) True\n",
      "!! 5-47dc445f-0dfc-43b0-8a15-7545c548a2fd-jonathan76@waller.com-None\n",
      "6 Element(numeric_id=6, uuid='f4d436e8-10aa-407e-a08c-99ee98912516', email='amorales@hotmail.com', score=137) True\n",
      "!! 6-f4d436e8-10aa-407e-a08c-99ee98912516-amorales@hotmail.com-137\n",
      "7 Element(numeric_id=7, uuid='e8597e3a-a05e-430a-a533-b1952adab147', email='wmichael@hotmail.com', score=4110) True\n",
      "!! 7-e8597e3a-a05e-430a-a533-b1952adab147-wmichael@hotmail.com-4110\n",
      "8 Element(numeric_id=9, uuid='1b135dfe-4f80-4fdb-b107-2be73b9a7e07', email='monica84@johnson.net', score=8311) False\n",
      "!! 9-1b135dfe-4f80-4fdb-b107-2be73b9a7e07-monica84@johnson.net-8311\n"
     ]
    }
   ],
   "source": [
    "from dataclasses import asdict, dataclass\n",
    "\n",
    "@dataclass\n",
    "class Element:\n",
    "    numeric_id: int\n",
    "    uuid: str\n",
    "    email: str\n",
    "    score: int\n",
    "\n",
    "    def is_even(self) -> bool:\n",
    "        try:\n",
    "            return self.score % 2\n",
    "        except TypeError:\n",
    "            return False\n",
    "\n",
    "    def email_too_long(self, limit=20) -> bool:\n",
    "        return len(self.email) > limit\n",
    "    \n",
    "    def as_row(self, delim='-'):\n",
    "        return delim.join(map(str, [\n",
    "            self.numeric_id, self.uuid, self.email, self.score,\n",
    "        ]))\n",
    "        \n",
    "        \n",
    "def process(collection):\n",
    "    ids = []\n",
    "    for i, (el, has_next) in enumerate(iterate(collection)):\n",
    "        el = Element(*el)\n",
    "        print(i, el, has_next)\n",
    "\n",
    "        if el.is_even:\n",
    "            ids.append(el.uuid)\n",
    "        if el.email_too_long:\n",
    "            print(f'!! {el.as_row()}')\n",
    "\n",
    "        if has_next == False:\n",
    "            break\n",
    "process(collection)"
   ]
  },
  {
   "cell_type": "code",
   "execution_count": 11,
   "id": "4e6569c5-6d91-4e71-9f67-47b7bf010faf",
   "metadata": {},
   "outputs": [
    {
     "name": "stdout",
     "output_type": "stream",
     "text": [
      "4 10\n"
     ]
    }
   ],
   "source": [
    "from typing import List\n",
    "from dataclasses import field\n",
    "\n",
    "@dataclass\n",
    "class ElementCollection:\n",
    "    items: List[Element] = field(default_factory=list) \n",
    "\n",
    "    def from_raw(collection):\n",
    "        return ElementCollection([Element(*el) for el in collection])\n",
    "    \n",
    "    def even_items(self):\n",
    "        for el in self.items:\n",
    "            if el.is_even():\n",
    "                yield el\n",
    "\n",
    "c = ElementCollection.from_raw(collection)\n",
    "evens = list(c.even_items())\n",
    "print(len(evens), len(collection))"
   ]
  },
  {
   "cell_type": "markdown",
   "id": "f89d01e4-9202-4081-a8da-6b648d3fb6ae",
   "metadata": {},
   "source": [
    "## Now, let's look at all the code together again"
   ]
  },
  {
   "cell_type": "code",
   "execution_count": 12,
   "id": "b0952128-066a-4067-9b45-209abf4764cd",
   "metadata": {},
   "outputs": [
    {
     "name": "stdout",
     "output_type": "stream",
     "text": [
      "0 (0, 'c874d923-4b38-4b16-9007-b68aa8ede91a', 'lwest@yahoo.com', None) True\n",
      "1 (1, '8e8500ca-b3d1-4673-9f27-df3b2b4607a2', 'daltontoni@burke.com', 4724) True\n",
      "2 (2, '5631c54f-998f-4797-af81-b3f2a6f05973', 'samuellynch@wright.com', 3975) True\n",
      "!! 2-5631c54f-998f-4797-af81-b3f2a6f05973-samuellynch@wright.com-3975\n",
      "3 (3, 'deff8f82-379d-4758-bd76-0a728e204de2', 'bishopchristine@gray.com', 3006) True\n",
      "!! 3-deff8f82-379d-4758-bd76-0a728e204de2-bishopchristine@gray.com-3006\n",
      "4 (4, 'cabc3165-ef4e-4d29-b479-2698f9137ec7', 'hhenderson@hotmail.com', 8951) True\n",
      "!! 4-cabc3165-ef4e-4d29-b479-2698f9137ec7-hhenderson@hotmail.com-8951\n",
      "5 (5, '47dc445f-0dfc-43b0-8a15-7545c548a2fd', 'jonathan76@waller.com', None) True\n",
      "!! 5-47dc445f-0dfc-43b0-8a15-7545c548a2fd-jonathan76@waller.com-None\n",
      "6 (6, 'f4d436e8-10aa-407e-a08c-99ee98912516', 'amorales@hotmail.com', 137) True\n",
      "7 (7, 'e8597e3a-a05e-430a-a533-b1952adab147', 'wmichael@hotmail.com', 4110) True\n",
      "8 (9, '1b135dfe-4f80-4fdb-b107-2be73b9a7e07', 'monica84@johnson.net', 8311) False\n"
     ]
    }
   ],
   "source": [
    "from typing import List\n",
    "from dataclasses import field\n",
    "\n",
    "@dataclass\n",
    "class ElementCollection:\n",
    "    items: List[Element] = field(default_factory=list) \n",
    "\n",
    "    def from_raw(collection):\n",
    "        return ElementCollection([Element(*el) for el in collection])\n",
    "    \n",
    "    def even_items(self):\n",
    "        for el in self.items:\n",
    "            if el.is_even():\n",
    "                yield el\n",
    "\n",
    "def process(collection):\n",
    "    ids = []\n",
    "    for i, (el, has_next) in enumerate(iterate(collection)):\n",
    "        print(i, el, has_next)\n",
    "        if isinstance(el, int) and el[3] % 2:\n",
    "            ids.append(el[1])\n",
    "        if len(el[2]) > 20:\n",
    "            print(f'!! {\"-\".join(map(str, el))}')\n",
    "        if has_next == False:\n",
    "            break\n",
    "\n",
    "process(collection)"
   ]
  },
  {
   "cell_type": "code",
   "execution_count": 26,
   "id": "c4b3a660-7a29-406b-ab4e-ce4b6f3ac7af",
   "metadata": {},
   "outputs": [
    {
     "data": {
      "text/plain": [
       "ElementCollection(items=[Element(numeric_id=0, uuid='b81afb04-8ace-401f-9fed-e9d0f8124c19', email='steven91@long.com', score=None), Element(numeric_id=1, uuid='c2702775-a8c9-4a89-94e0-da0aba80b4bf', email='jeffreywilson@cline.org', score=790), Element(numeric_id=2, uuid='6138615b-66a8-49d6-8f1a-9fd6543a6ada', email='brandondennis@yahoo.com', score=9504), Element(numeric_id=3, uuid='4fc5da45-f309-4c33-8d07-b773f2f414e8', email='olivia64@gmail.com', score=4207), Element(numeric_id=4, uuid='10b4aeac-7177-486d-9f03-224d78fe8b22', email='karen37@baker.com', score=6609), Element(numeric_id=5, uuid='f3f644b8-d5b4-41c4-917f-c1f5c324b876', email='jeffrey63@gmail.com', score=None), Element(numeric_id=6, uuid='a4c8ba4c-eddd-4db5-9d99-80269bb29776', email='david28@yahoo.com', score=8843), Element(numeric_id=7, uuid='4543ac48-f772-4752-8b6f-0c1c0fdb97fb', email='victoriarichardson@gmail.com', score=4045), Element(numeric_id=9, uuid='911b500b-dffc-4a20-8556-767190d6aa1e', email='mark31@gmail.com', score=1103)])"
      ]
     },
     "execution_count": 26,
     "metadata": {},
     "output_type": "execute_result"
    }
   ],
   "source": [
    "from dataclasses import field\n",
    "\n",
    "@dataclass\n",
    "class Iterator:\n",
    "    raw: list\n",
    "    klass: type\n",
    "    \n",
    "    def __iter__(self):\n",
    "        for el, has_next in iterate(self.raw):\n",
    "            yield self.klass(*el)\n",
    "            if not has_next:\n",
    "                return\n",
    "\n",
    "def process(collection):\n",
    "    ids = []\n",
    "    for i, (el, has_next) in enumerate(iterate(collection)):\n",
    "        print(i, el, has_next)\n",
    "        if isinstance(el, int) and el[3] % 2:\n",
    "            ids.append(el[1])\n",
    "        if len(el[2]) > 20:\n",
    "            print(f'!! {\"-\".join(map(str, el))}')\n",
    "        if has_next == False:\n",
    "            break\n",
    "\n",
    "for el in Iterator(collection, Element):\n",
    "    print(el)"
   ]
  },
  {
   "cell_type": "code",
   "execution_count": null,
   "id": "a0f7f1fe-3422-4071-9604-6330389f0d6c",
   "metadata": {},
   "outputs": [],
   "source": []
  }
 ],
 "metadata": {
  "kernelspec": {
   "display_name": "Python 3",
   "language": "python",
   "name": "python3"
  },
  "language_info": {
   "codemirror_mode": {
    "name": "ipython",
    "version": 3
   },
   "file_extension": ".py",
   "mimetype": "text/x-python",
   "name": "python",
   "nbconvert_exporter": "python",
   "pygments_lexer": "ipython3",
   "version": "3.9.2"
  }
 },
 "nbformat": 4,
 "nbformat_minor": 5
}
