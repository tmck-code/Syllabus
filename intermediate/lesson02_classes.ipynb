{
 "cells": [
  {
   "cell_type": "markdown",
   "id": "municipal-tactics",
   "metadata": {},
   "source": [
    "# Lesson 2: Class Warfare\n",
    "\n",
    "> Disclaimer: Most of these points should only be applied to Python.\n",
    "\n",
    "- Overutilising or underutilising classes can lead to ruin\n",
    "- Classes can be a powerful tool or an endless garden path"
   ]
  },
  {
   "cell_type": "markdown",
   "id": "quantitative-partition",
   "metadata": {},
   "source": [
    "## Benefits vs Drawbacks\n",
    "\n",
    "### Benefits\n",
    "\n",
    "- Can keep track of state\n",
    "  - No need to pass parameters back and forth\n",
    "  - No thread-unsafe global variables\n",
    "  - Can logically initialise state and then use it\n",
    "- Can organise a hierarcy of states that belong together\n",
    "- Provide dot-methods for accessing properties\n",
    "  - \"ask, don't tell\""
   ]
  },
  {
   "cell_type": "markdown",
   "id": "a2159240-9002-4ef0-aa40-4fb246f164f9",
   "metadata": {},
   "source": [
    "- We have a collection of files\n",
    "- Must get some attributes from each, and add those into a shared collection"
   ]
  },
  {
   "cell_type": "markdown",
   "id": "polish-responsibility",
   "metadata": {},
   "source": [
    "## Functions vs Classes\n",
    "\n",
    "### Functions vs Methods\n",
    "\n",
    "In python\n",
    "\n",
    "- a **function** takes parameters, returns a value\n",
    "- a **method** can be called on an object, and can access state in the object"
   ]
  },
  {
   "cell_type": "markdown",
   "id": "d6857c44-a04a-4e95-80bd-5dff704f9d64",
   "metadata": {},
   "source": [
    "## Baby steps"
   ]
  },
  {
   "cell_type": "code",
   "execution_count": 1,
   "id": "283c4432-15be-4d87-a10e-78f08b92722b",
   "metadata": {},
   "outputs": [],
   "source": [
    "CONFIG = {\n",
    "    'thing': 'a',\n",
    "    'identifiier': 'b',\n",
    "    'name': 'c'\n",
    "}"
   ]
  },
  {
   "cell_type": "markdown",
   "id": "55fc2be6-d0d7-4047-a496-1112e3962d8c",
   "metadata": {},
   "source": [
    "_This isn't very safe if something goes wrong_"
   ]
  },
  {
   "cell_type": "code",
   "execution_count": 2,
   "id": "c2f74be8-6a0c-45af-b88b-539aded1e2c3",
   "metadata": {},
   "outputs": [
    {
     "ename": "KeyError",
     "evalue": "'identifier'",
     "output_type": "error",
     "traceback": [
      "\u001b[0;31m---------------------------------------------------------------------------\u001b[0m",
      "\u001b[0;31mKeyError\u001b[0m                                  Traceback (most recent call last)",
      "\u001b[0;32m<ipython-input-2-2293af29cfe7>\u001b[0m in \u001b[0;36m<module>\u001b[0;34m\u001b[0m\n\u001b[0;32m----> 1\u001b[0;31m \u001b[0mCONFIG\u001b[0m\u001b[0;34m[\u001b[0m\u001b[0;34m'identifier'\u001b[0m\u001b[0;34m]\u001b[0m\u001b[0;34m\u001b[0m\u001b[0;34m\u001b[0m\u001b[0m\n\u001b[0m",
      "\u001b[0;31mKeyError\u001b[0m: 'identifier'"
     ]
    }
   ],
   "source": [
    "CONFIG['identifier']"
   ]
  },
  {
   "cell_type": "markdown",
   "id": "2618e677-99e4-47a6-a784-70db4ef09d58",
   "metadata": {},
   "source": [
    "`namedtuple` == Quick 'n' dirty class!\n",
    "\n",
    "Used when you just need to\n",
    "- make sure that the correct keys/values are present\n",
    "- access something a few times (safely) via a dot method rather than a dict key lookup"
   ]
  },
  {
   "cell_type": "code",
   "execution_count": 3,
   "id": "5a3ce694-6758-46c1-b81f-4a0f6020f099",
   "metadata": {},
   "outputs": [
    {
     "name": "stdout",
     "output_type": "stream",
     "text": [
      "config(thing='a', identifier='b', name='c')\n",
      "a b\n"
     ]
    }
   ],
   "source": [
    "from collections import namedtuple\n",
    "\n",
    "Config = namedtuple('config', ['thing', 'identifier', 'name'])\n",
    "\n",
    "CONFIG = Config('a', 'b', 'c')\n",
    "\n",
    "print(CONFIG)\n",
    "print(CONFIG.thing, CONFIG.identifier)"
   ]
  },
  {
   "cell_type": "markdown",
   "id": "e105fea5-2efd-4793-9683-d691f5847889",
   "metadata": {},
   "source": [
    "Now let's try the failing example again"
   ]
  },
  {
   "cell_type": "code",
   "execution_count": 4,
   "id": "f034998c-445e-4870-9675-78e585211358",
   "metadata": {},
   "outputs": [
    {
     "ename": "TypeError",
     "evalue": "<lambda>() got an unexpected keyword argument 'identifiier'",
     "output_type": "error",
     "traceback": [
      "\u001b[0;31m---------------------------------------------------------------------------\u001b[0m",
      "\u001b[0;31mTypeError\u001b[0m                                 Traceback (most recent call last)",
      "\u001b[0;32m<ipython-input-4-32ff9271912c>\u001b[0m in \u001b[0;36m<module>\u001b[0;34m\u001b[0m\n\u001b[0;32m----> 1\u001b[0;31m Config(**{\n\u001b[0m\u001b[1;32m      2\u001b[0m     \u001b[0;34m'thing'\u001b[0m\u001b[0;34m:\u001b[0m \u001b[0;34m'a'\u001b[0m\u001b[0;34m,\u001b[0m\u001b[0;34m\u001b[0m\u001b[0;34m\u001b[0m\u001b[0m\n\u001b[1;32m      3\u001b[0m     \u001b[0;34m'identifiier'\u001b[0m\u001b[0;34m:\u001b[0m \u001b[0;34m'b'\u001b[0m\u001b[0;34m,\u001b[0m\u001b[0;34m\u001b[0m\u001b[0;34m\u001b[0m\u001b[0m\n\u001b[1;32m      4\u001b[0m     \u001b[0;34m'name'\u001b[0m\u001b[0;34m:\u001b[0m \u001b[0;34m'c'\u001b[0m\u001b[0;34m\u001b[0m\u001b[0;34m\u001b[0m\u001b[0m\n\u001b[1;32m      5\u001b[0m })\n",
      "\u001b[0;31mTypeError\u001b[0m: <lambda>() got an unexpected keyword argument 'identifiier'"
     ]
    }
   ],
   "source": [
    "Config(**{\n",
    "    'thing': 'a',\n",
    "    'identifiier': 'b',\n",
    "    'name': 'c'\n",
    "})"
   ]
  },
  {
   "cell_type": "markdown",
   "id": "5d61274a-c279-4a88-b2a8-0bb9615a0475",
   "metadata": {},
   "source": [
    "Much better! This is useful when loading a JSON config, and you need to make sure all the key are present"
   ]
  },
  {
   "cell_type": "code",
   "execution_count": 5,
   "id": "54ad55a1-4b7e-4443-aa01-df1d09aadf76",
   "metadata": {},
   "outputs": [
    {
     "data": {
      "text/plain": [
       "config(thing=123, identifier=123, name='me')"
      ]
     },
     "execution_count": 5,
     "metadata": {},
     "output_type": "execute_result"
    }
   ],
   "source": [
    "import json\n",
    "raw = '{\"identifier\": 123, \"name\": \"me\", \"thing\": 123}'\n",
    "\n",
    "Config(**json.loads(raw))"
   ]
  },
  {
   "cell_type": "code",
   "execution_count": 6,
   "id": "45ac3766-7fae-465d-8e57-bbffcb5f1c1d",
   "metadata": {},
   "outputs": [
    {
     "ename": "TypeError",
     "evalue": "<lambda>() got an unexpected keyword argument 'extra'",
     "output_type": "error",
     "traceback": [
      "\u001b[0;31m---------------------------------------------------------------------------\u001b[0m",
      "\u001b[0;31mTypeError\u001b[0m                                 Traceback (most recent call last)",
      "\u001b[0;32m<ipython-input-6-42d65a427a73>\u001b[0m in \u001b[0;36m<module>\u001b[0;34m\u001b[0m\n\u001b[1;32m      1\u001b[0m \u001b[0mraw\u001b[0m \u001b[0;34m=\u001b[0m \u001b[0;34m'{\"identifier\": 123, \"name\": \"me\", \"thing\": 123, \"extra\": 1}'\u001b[0m\u001b[0;34m\u001b[0m\u001b[0;34m\u001b[0m\u001b[0m\n\u001b[1;32m      2\u001b[0m \u001b[0;34m\u001b[0m\u001b[0m\n\u001b[0;32m----> 3\u001b[0;31m \u001b[0mConfig\u001b[0m\u001b[0;34m(\u001b[0m\u001b[0;34m**\u001b[0m\u001b[0mjson\u001b[0m\u001b[0;34m.\u001b[0m\u001b[0mloads\u001b[0m\u001b[0;34m(\u001b[0m\u001b[0mraw\u001b[0m\u001b[0;34m)\u001b[0m\u001b[0;34m)\u001b[0m\u001b[0;34m\u001b[0m\u001b[0;34m\u001b[0m\u001b[0m\n\u001b[0m",
      "\u001b[0;31mTypeError\u001b[0m: <lambda>() got an unexpected keyword argument 'extra'"
     ]
    }
   ],
   "source": [
    "raw = '{\"identifier\": 123, \"name\": \"me\", \"thing\": 123, \"extra\": 1}'\n",
    "\n",
    "Config(**json.loads(raw))"
   ]
  },
  {
   "cell_type": "markdown",
   "id": "fb773069-8ce6-4cbb-8f0d-5e5725a78c9d",
   "metadata": {},
   "source": [
    "---\n",
    "\n",
    "## An Example\n",
    "\n",
    "- You have a collection of items, in this case ids and emails\n",
    "- Need to iterate through them, collect some values, and pass them on"
   ]
  },
  {
   "cell_type": "code",
   "execution_count": 37,
   "id": "faee5b3d-eafe-4258-9d61-2cf383d56e65",
   "metadata": {
    "jupyter": {
     "source_hidden": true
    },
    "tags": []
   },
   "outputs": [],
   "source": [
    "from faker import Faker\n",
    "from utils import ppj\n",
    "from itertools import islice\n",
    "\n",
    "fake = Faker()\n",
    "\n",
    "def fake_record(i, spanner=False):\n",
    "    if spanner and i % 5 == 0:\n",
    "        return (i, fake.uuid4(), fake.email(), None)\n",
    "    else:\n",
    "        return (i, fake.uuid4(), fake.email(), fake.pyint())\n",
    "\n",
    "def iterate(n=10, spanner=False):\n",
    "    '''\n",
    "    This method will yield a tuple of each item, and a boolean indicating \n",
    "    if there are more items.\n",
    "    After all items are consumed, this method will yield None/False\n",
    "    (This means that we can't just do \"for item in iterate(collection)\")\n",
    "    '''\n",
    "    for i in range(n-1):\n",
    "        yield fake_record(i, spanner), True\n",
    "    yield fake_record(i, spanner), False\n",
    "    while True:\n",
    "        yield None, False"
   ]
  },
  {
   "cell_type": "code",
   "execution_count": 39,
   "id": "9d02a325-3f1f-46b1-8613-82984b1b1913",
   "metadata": {},
   "outputs": [
    {
     "name": "stdout",
     "output_type": "stream",
     "text": [
      "[\n",
      "  [\n",
      "    [\n",
      "      \u001b[38;2;102;102;102m0\u001b[39m,\n",
      "      \u001b[38;2;186;33;33m\"a0af3f82-089f-437d-bf08-2b5994ab0824\"\u001b[39m,\n",
      "      \u001b[38;2;186;33;33m\"smithelijah@gmail.com\"\u001b[39m,\n",
      "      \u001b[38;2;102;102;102m6957\u001b[39m\n",
      "    ],\n",
      "    \u001b[38;2;0;128;0;01mtrue\u001b[39;00m\n",
      "  ],\n",
      "  [\n",
      "    [\n",
      "      \u001b[38;2;102;102;102m1\u001b[39m,\n",
      "      \u001b[38;2;186;33;33m\"35a3006f-d53d-450d-a5c2-8766c183850b\"\u001b[39m,\n",
      "      \u001b[38;2;186;33;33m\"heatherjones@yahoo.com\"\u001b[39m,\n",
      "      \u001b[38;2;102;102;102m4612\u001b[39m\n",
      "    ],\n",
      "    \u001b[38;2;0;128;0;01mtrue\u001b[39;00m\n",
      "  ]\n",
      "]\n",
      "\n"
     ]
    }
   ],
   "source": [
    "collection = iterate()\n",
    "        \n",
    "sample = list(islice(collection, 2))\n",
    "ppj(json.dumps(sample, indent=2))"
   ]
  },
  {
   "cell_type": "code",
   "execution_count": 40,
   "id": "de4ff23a-52c0-4a58-ac21-bbcff0dbd4b0",
   "metadata": {},
   "outputs": [
    {
     "name": "stdout",
     "output_type": "stream",
     "text": [
      "0 (0, 'a9dedfac-4fb7-4125-bfc4-a32fffb0da7e', 'jacobgutierrez@spears.com', 2274) True\n",
      "1 (1, 'fbb9d54a-5e0e-45dd-8cc3-a8cf55460520', 'mgarcia@roach-rocha.com', 395) True\n",
      "2 (2, '8343bd45-6e43-475d-81e7-3fb6cd1e9040', 'jessica31@gill.com', 6241) True\n",
      "3 (3, 'a5f76e6d-7acc-49c0-8f4d-45e89e9b2fa8', 'hannah50@hotmail.com', 2526) True\n",
      "4 (4, 'd8ac05ce-e460-4d4b-b1b7-a267fcf35ff1', 'dustinwilson@gmail.com', 235) True\n",
      "5 (5, 'bc75006f-31fa-4adb-9820-6ef09f1472b0', 'judithwatts@bennett-shaw.com', 8462) True\n",
      "6 (6, '5eebd20c-31a2-46b7-818c-a99bf6693b41', 'hodgechristopher@gmail.com', 9908) True\n",
      "7 (7, '957b23da-60bc-468a-b209-54c324be4eb2', 'jessejarvis@hall.com', 1646) True\n",
      "8 (8, '49b4f394-3a2d-4071-9926-3642a52d636f', 'reedkevin@adams.net', 3694) True\n",
      "9 (8, '69d37719-7e1c-4551-92f1-1020c3d084df', 'zward@jones-morris.com', 4370) False\n",
      "10 None False\n",
      "11 None False\n",
      "12 None False\n"
     ]
    }
   ],
   "source": [
    "collection = iterate()\n",
    "for i, (el, has_next) in enumerate(collection):\n",
    "    print(i, el, has_next)\n",
    "    if i >= 12:\n",
    "        break"
   ]
  },
  {
   "cell_type": "markdown",
   "id": "1cd577cf-2511-4bc3-b874-17d8cbccf225",
   "metadata": {},
   "source": [
    "---\n",
    "\n",
    "_For our exercise, we are only going to collect the ID if the last column has the value \"true\"_"
   ]
  },
  {
   "cell_type": "code",
   "execution_count": 41,
   "id": "fbde1c5f-bc21-4d16-9bba-73d929fcd9c9",
   "metadata": {},
   "outputs": [
    {
     "name": "stdout",
     "output_type": "stream",
     "text": [
      "(0, '1cb201f8-5def-4f4b-8979-1e3b3ff8a310', 'jessepayne@gmail.com', 7111) True\n",
      "(1, 'd0d06752-8122-4620-bf45-7493b2495dcb', 'lblevins@gmail.com', 9351) True\n",
      "(2, '71155947-f977-43e1-9309-8cb1de08a1df', 'omccarthy@robinson.info', 2057) True\n",
      "(3, 'f2828bb1-f61f-4b57-bd57-7e48f6904af2', 'victor45@gmail.com', 2796) True\n",
      "(4, 'b1c28e1d-2f56-42cc-b465-32b88eed0513', 'igilmore@hotmail.com', 9946) True\n",
      "(5, '9712d1ff-36ae-42c8-99be-b9ee4596a072', 'michael26@welch-hoffman.net', 7678) True\n",
      "(6, '76ed314e-94fe-4002-8bb1-dfb596b95a27', 'rstafford@martinez.com', 4402) True\n",
      "(7, 'f11b0b86-7c1c-4cab-978b-506c2ffa8ebf', 'andrew51@delgado.com', 3332) True\n",
      "(8, '7206c1fa-3084-4f69-a5bb-28f01923e094', 'payneluis@gmail.com', 6878) True\n",
      "(8, '60d20e6f-d6d1-4355-a47c-def6a1b5a255', 'qpena@allen-lawson.biz', 1251) False\n"
     ]
    }
   ],
   "source": [
    "collection = iterate()\n",
    "\n",
    "ids = []\n",
    "for el, has_next in collection:\n",
    "    print(el, has_next)\n",
    "    if el[3] % 2:\n",
    "        ids.append(el[1])\n",
    "    if not has_next:\n",
    "        break"
   ]
  },
  {
   "cell_type": "markdown",
   "id": "b619222d-8bfd-4409-8d5e-06e0de637d98",
   "metadata": {},
   "source": [
    "### Adding more stuff\n",
    "\n",
    "Let's add some details around how many items we consumed/are up to"
   ]
  },
  {
   "cell_type": "code",
   "execution_count": 10,
   "id": "9fe42b35-cd8e-4852-945b-5b3225db0c4b",
   "metadata": {},
   "outputs": [],
   "source": [
    "def process(collection):\n",
    "    ids = []\n",
    "    for i, (el, has_next) in enumerate(collection):\n",
    "        print(i, el, has_next)\n",
    "        if el[3] % 2:\n",
    "            ids.append(el[1])\n",
    "        if has_next == False:\n",
    "            break"
   ]
  },
  {
   "cell_type": "markdown",
   "id": "04a73ee5-5b6b-4d2c-955c-cb607d39e525",
   "metadata": {},
   "source": [
    "## Problems\n",
    "\n",
    "Let's add a spanner"
   ]
  },
  {
   "cell_type": "code",
   "execution_count": 11,
   "id": "fc11c8ad-b2ed-4526-aa11-3b3b56fb7cb6",
   "metadata": {},
   "outputs": [
    {
     "name": "stdout",
     "output_type": "stream",
     "text": [
      "0 (0, '286e921d-6dca-4a10-91a6-7f93509fd7ec', 'christopherrobinson@maxwell-wells.com', None) True\n"
     ]
    },
    {
     "ename": "TypeError",
     "evalue": "unsupported operand type(s) for %: 'NoneType' and 'int'",
     "output_type": "error",
     "traceback": [
      "\u001b[0;31m---------------------------------------------------------------------------\u001b[0m",
      "\u001b[0;31mTypeError\u001b[0m                                 Traceback (most recent call last)",
      "\u001b[0;32m<ipython-input-11-5ba23d18e21f>\u001b[0m in \u001b[0;36m<module>\u001b[0;34m\u001b[0m\n\u001b[0;32m----> 1\u001b[0;31m \u001b[0mprocess\u001b[0m\u001b[0;34m(\u001b[0m\u001b[0miterate\u001b[0m\u001b[0;34m(\u001b[0m\u001b[0;36m10\u001b[0m\u001b[0;34m,\u001b[0m \u001b[0;32mTrue\u001b[0m\u001b[0;34m)\u001b[0m\u001b[0;34m)\u001b[0m\u001b[0;34m\u001b[0m\u001b[0;34m\u001b[0m\u001b[0m\n\u001b[0m",
      "\u001b[0;32m<ipython-input-10-c96722787a22>\u001b[0m in \u001b[0;36mprocess\u001b[0;34m(collection)\u001b[0m\n\u001b[1;32m      3\u001b[0m     \u001b[0;32mfor\u001b[0m \u001b[0mi\u001b[0m\u001b[0;34m,\u001b[0m \u001b[0;34m(\u001b[0m\u001b[0mel\u001b[0m\u001b[0;34m,\u001b[0m \u001b[0mhas_next\u001b[0m\u001b[0;34m)\u001b[0m \u001b[0;32min\u001b[0m \u001b[0menumerate\u001b[0m\u001b[0;34m(\u001b[0m\u001b[0mcollection\u001b[0m\u001b[0;34m)\u001b[0m\u001b[0;34m:\u001b[0m\u001b[0;34m\u001b[0m\u001b[0;34m\u001b[0m\u001b[0m\n\u001b[1;32m      4\u001b[0m         \u001b[0mprint\u001b[0m\u001b[0;34m(\u001b[0m\u001b[0mi\u001b[0m\u001b[0;34m,\u001b[0m \u001b[0mel\u001b[0m\u001b[0;34m,\u001b[0m \u001b[0mhas_next\u001b[0m\u001b[0;34m)\u001b[0m\u001b[0;34m\u001b[0m\u001b[0;34m\u001b[0m\u001b[0m\n\u001b[0;32m----> 5\u001b[0;31m         \u001b[0;32mif\u001b[0m \u001b[0mel\u001b[0m\u001b[0;34m[\u001b[0m\u001b[0;36m3\u001b[0m\u001b[0;34m]\u001b[0m \u001b[0;34m%\u001b[0m \u001b[0;36m2\u001b[0m\u001b[0;34m:\u001b[0m\u001b[0;34m\u001b[0m\u001b[0;34m\u001b[0m\u001b[0m\n\u001b[0m\u001b[1;32m      6\u001b[0m             \u001b[0mids\u001b[0m\u001b[0;34m.\u001b[0m\u001b[0mappend\u001b[0m\u001b[0;34m(\u001b[0m\u001b[0mel\u001b[0m\u001b[0;34m[\u001b[0m\u001b[0;36m1\u001b[0m\u001b[0;34m]\u001b[0m\u001b[0;34m)\u001b[0m\u001b[0;34m\u001b[0m\u001b[0;34m\u001b[0m\u001b[0m\n\u001b[1;32m      7\u001b[0m         \u001b[0;32mif\u001b[0m \u001b[0mhas_next\u001b[0m \u001b[0;34m==\u001b[0m \u001b[0;32mFalse\u001b[0m\u001b[0;34m:\u001b[0m\u001b[0;34m\u001b[0m\u001b[0;34m\u001b[0m\u001b[0m\n",
      "\u001b[0;31mTypeError\u001b[0m: unsupported operand type(s) for %: 'NoneType' and 'int'"
     ]
    }
   ],
   "source": [
    "process(iterate(10, True))"
   ]
  },
  {
   "cell_type": "markdown",
   "id": "edcf63e3-fccc-4868-a5fc-ae51ec7bf47e",
   "metadata": {},
   "source": [
    "OK, so let's just add an `isinstance` check"
   ]
  },
  {
   "cell_type": "code",
   "execution_count": 12,
   "id": "9d8438e3-afbf-4d97-995e-0210d147f20d",
   "metadata": {},
   "outputs": [],
   "source": [
    "def process(collection):\n",
    "    ids = []\n",
    "    for i, (el, has_next) in enumerate(collection):\n",
    "        print(i, el, has_next)\n",
    "        if isinstance(el, int) and el[3] % 2:\n",
    "            ids.append(el[1])\n",
    "        if len(el[2]) > 15:\n",
    "            print(f'{\"-\".join(el)}')\n",
    "        if has_next == False:\n",
    "            break"
   ]
  },
  {
   "cell_type": "code",
   "execution_count": 13,
   "id": "61fd6a70-6e7c-4869-9164-ed492536d4a8",
   "metadata": {},
   "outputs": [
    {
     "name": "stdout",
     "output_type": "stream",
     "text": [
      "0 (0, '77c6e156-07f7-47b2-af38-ae691341891e', 'schneiderkathy@gmail.com', 3982) True\n"
     ]
    },
    {
     "ename": "TypeError",
     "evalue": "sequence item 0: expected str instance, int found",
     "output_type": "error",
     "traceback": [
      "\u001b[0;31m---------------------------------------------------------------------------\u001b[0m",
      "\u001b[0;31mTypeError\u001b[0m                                 Traceback (most recent call last)",
      "\u001b[0;32m<ipython-input-13-3558f0effa15>\u001b[0m in \u001b[0;36m<module>\u001b[0;34m\u001b[0m\n\u001b[0;32m----> 1\u001b[0;31m \u001b[0mprocess\u001b[0m\u001b[0;34m(\u001b[0m\u001b[0miterate\u001b[0m\u001b[0;34m(\u001b[0m\u001b[0;34m)\u001b[0m\u001b[0;34m)\u001b[0m\u001b[0;34m\u001b[0m\u001b[0;34m\u001b[0m\u001b[0m\n\u001b[0m",
      "\u001b[0;32m<ipython-input-12-dc1837b73645>\u001b[0m in \u001b[0;36mprocess\u001b[0;34m(collection)\u001b[0m\n\u001b[1;32m      6\u001b[0m             \u001b[0mids\u001b[0m\u001b[0;34m.\u001b[0m\u001b[0mappend\u001b[0m\u001b[0;34m(\u001b[0m\u001b[0mel\u001b[0m\u001b[0;34m[\u001b[0m\u001b[0;36m1\u001b[0m\u001b[0;34m]\u001b[0m\u001b[0;34m)\u001b[0m\u001b[0;34m\u001b[0m\u001b[0;34m\u001b[0m\u001b[0m\n\u001b[1;32m      7\u001b[0m         \u001b[0;32mif\u001b[0m \u001b[0mlen\u001b[0m\u001b[0;34m(\u001b[0m\u001b[0mel\u001b[0m\u001b[0;34m[\u001b[0m\u001b[0;36m2\u001b[0m\u001b[0;34m]\u001b[0m\u001b[0;34m)\u001b[0m \u001b[0;34m>\u001b[0m \u001b[0;36m15\u001b[0m\u001b[0;34m:\u001b[0m\u001b[0;34m\u001b[0m\u001b[0;34m\u001b[0m\u001b[0m\n\u001b[0;32m----> 8\u001b[0;31m             \u001b[0mprint\u001b[0m\u001b[0;34m(\u001b[0m\u001b[0;34mf'{\"-\".join(el)}'\u001b[0m\u001b[0;34m)\u001b[0m\u001b[0;34m\u001b[0m\u001b[0;34m\u001b[0m\u001b[0m\n\u001b[0m\u001b[1;32m      9\u001b[0m         \u001b[0;32mif\u001b[0m \u001b[0mhas_next\u001b[0m \u001b[0;34m==\u001b[0m \u001b[0;32mFalse\u001b[0m\u001b[0;34m:\u001b[0m\u001b[0;34m\u001b[0m\u001b[0;34m\u001b[0m\u001b[0m\n\u001b[1;32m     10\u001b[0m             \u001b[0;32mbreak\u001b[0m\u001b[0;34m\u001b[0m\u001b[0;34m\u001b[0m\u001b[0m\n",
      "\u001b[0;31mTypeError\u001b[0m: sequence item 0: expected str instance, int found"
     ]
    }
   ],
   "source": [
    "process(iterate())"
   ]
  },
  {
   "cell_type": "markdown",
   "id": "8cdd974a-0ede-46d9-b4d8-ef086ae0472f",
   "metadata": {},
   "source": [
    "Now add something that makes sure we can stringify the item"
   ]
  },
  {
   "cell_type": "code",
   "execution_count": 14,
   "id": "9d2087a9-87b9-4bf8-970c-180de0fc9af6",
   "metadata": {},
   "outputs": [
    {
     "name": "stdout",
     "output_type": "stream",
     "text": [
      "0 (0, 'ddc68ae6-42a3-4d6a-97f1-e1faaa59d5c7', 'smitheric@hotmail.com', 4502) True\n",
      "!! 0-ddc68ae6-42a3-4d6a-97f1-e1faaa59d5c7-smitheric@hotmail.com-4502\n",
      "1 (1, '15964d0c-776e-44bb-843a-fd8a86598c4a', 'potterbradley@gmail.com', 8620) True\n",
      "!! 1-15964d0c-776e-44bb-843a-fd8a86598c4a-potterbradley@gmail.com-8620\n",
      "2 (2, 'c87a00fe-f844-4561-9e19-62a3db63f4f0', 'erik57@campbell.net', 2882) True\n",
      "3 (3, '902fcda8-164e-460f-8c0f-0cad7f778adf', 'boonemary@faulkner.com', 2293) True\n",
      "!! 3-902fcda8-164e-460f-8c0f-0cad7f778adf-boonemary@faulkner.com-2293\n",
      "4 (4, '529e5153-a3d1-414f-bac3-6bc9e5e09cba', 'sclarke@gmail.com', 4266) True\n",
      "5 (5, 'ae953247-e933-4ff4-9563-2b33439fc5ae', 'choinicholas@mendoza.biz', 2616) True\n",
      "!! 5-ae953247-e933-4ff4-9563-2b33439fc5ae-choinicholas@mendoza.biz-2616\n",
      "6 (6, 'dfb70b1a-2ec7-4295-b6bb-c7c798f55043', 'jstewart@yahoo.com', 7837) True\n",
      "7 (7, '894dbaa4-b6be-4ee3-9ff7-c6e82316da8f', 'lindarodriguez@gmail.com', 8875) True\n",
      "!! 7-894dbaa4-b6be-4ee3-9ff7-c6e82316da8f-lindarodriguez@gmail.com-8875\n",
      "8 (8, 'b57207bc-57fb-4718-a95f-4d9ee0dce15f', 'christina00@hotmail.com', 4474) True\n",
      "!! 8-b57207bc-57fb-4718-a95f-4d9ee0dce15f-christina00@hotmail.com-4474\n",
      "9 (8, '9625658e-bb9c-4c6f-9ace-a5066a913db3', 'lesliemosley@gmail.com', 6528) False\n",
      "!! 8-9625658e-bb9c-4c6f-9ace-a5066a913db3-lesliemosley@gmail.com-6528\n"
     ]
    }
   ],
   "source": [
    "def process(collection):\n",
    "    ids = []\n",
    "    for i, (el, has_next) in enumerate(collection):\n",
    "        print(i, el, has_next)\n",
    "        if isinstance(el, int) and el[3] % 2:\n",
    "            ids.append(el[1])\n",
    "        if len(el[2]) > 20:\n",
    "            print(f'!! {\"-\".join(map(str, el))}')\n",
    "        if has_next == False:\n",
    "            break\n",
    "process(iterate())"
   ]
  },
  {
   "cell_type": "markdown",
   "id": "7db264fa-5d4c-44d1-9e3e-4c49a9ae4411",
   "metadata": {},
   "source": [
    "It looks confusing now so let's add some comments"
   ]
  },
  {
   "cell_type": "code",
   "execution_count": 15,
   "id": "92139587-adb6-4ead-8263-ae27006bd77a",
   "metadata": {},
   "outputs": [
    {
     "name": "stdout",
     "output_type": "stream",
     "text": [
      "0 (0, 'd0638cdc-5451-4818-b0f4-6c7567c4254f', 'njohnson@sanchez.net', 6290) True\n",
      "1 (1, 'b1a1164c-a4eb-48c4-9556-060dbc32cd27', 'rjohnson@gmail.com', 5172) True\n",
      "2 (2, '3335de9c-4f44-4fa3-84dd-3f589fc1c944', 'ogalvan@kelly.biz', 7305) True\n",
      "3 (3, '6edfdbad-b4d8-42b7-a3a6-e7a77dfdcdb5', 'zrussell@williams.net', 4783) True\n",
      "!! 3-6edfdbad-b4d8-42b7-a3a6-e7a77dfdcdb5-zrussell@williams.net-4783\n",
      "4 (4, 'cf4c7925-db32-481b-9bf0-c8d5cde52ea7', 'rroberts@carter.com', 9756) True\n",
      "5 (5, '7e9d0305-56d6-42d6-ad5d-906a4ab1d182', 'tiffany98@carter.info', 8213) True\n",
      "!! 5-7e9d0305-56d6-42d6-ad5d-906a4ab1d182-tiffany98@carter.info-8213\n",
      "6 (6, 'f61bcd11-d45c-4693-8beb-5d2d4f519803', 'myerseric@hotmail.com', 7829) True\n",
      "!! 6-f61bcd11-d45c-4693-8beb-5d2d4f519803-myerseric@hotmail.com-7829\n",
      "7 (7, '66775230-1377-4a93-a5ab-2ef561a857dd', 'rmorrison@martin-smith.com', 3510) True\n",
      "!! 7-66775230-1377-4a93-a5ab-2ef561a857dd-rmorrison@martin-smith.com-3510\n",
      "8 (8, 'b2a6a7b2-4f83-4378-9006-d0aca09809da', 'alexanderraymond@gmail.com', 6876) True\n",
      "!! 8-b2a6a7b2-4f83-4378-9006-d0aca09809da-alexanderraymond@gmail.com-6876\n",
      "9 (8, 'd9702781-0cca-40d7-9b53-9c6585dcadf0', 'cgoodman@french.info', 7177) False\n"
     ]
    }
   ],
   "source": [
    "def process(collection):\n",
    "    ids = []\n",
    "    for i, (el, has_next) in enumerate(collection): # <--- ⚠\n",
    "        print(i, el, has_next)\n",
    "        # collect item if it's even\n",
    "        if isinstance(el, int) and el[3] % 2: # < ----------------⚠\n",
    "            ids.append(el[1])\n",
    "        # Warn about large items\n",
    "        if len(el[2]) > 20: # <-----------------------------------⚠\n",
    "            print(f'!! {\"-\".join(map(str, el))}') # <-------------⚠\n",
    "        if has_next == False:\n",
    "            break\n",
    "\n",
    "process(iterate())"
   ]
  },
  {
   "cell_type": "markdown",
   "id": "4f59bef8-4446-4e27-93e9-4c88556f3675",
   "metadata": {},
   "source": [
    "---\n",
    "\n",
    "### Let's take a step back\n",
    "\n",
    "We use values from the raw item without knowing that they're usable\n",
    "\n",
    "Instead of holding all the logic in this method, what if we could _ask_ each element if it was even?"
   ]
  },
  {
   "cell_type": "code",
   "execution_count": 16,
   "id": "cdc2f14e-d419-442e-9752-d8ef09c40ab2",
   "metadata": {},
   "outputs": [
    {
     "name": "stdout",
     "output_type": "stream",
     "text": [
      "0 Element(numeric_id=0, uuid='5031da3d-40f5-464a-9255-3af3d2098521', email='cochoa@hotmail.com', score=175) True\n",
      "1 Element(numeric_id=1, uuid='4b001e3b-ce75-48c3-9d0d-04c9ba210229', email='anna51@gmail.com', score=5019) True\n",
      "2 Element(numeric_id=2, uuid='3197f3c8-3a3c-4948-881a-6b597f14ac5e', email='annabarron@gmail.com', score=4862) True\n",
      "3 Element(numeric_id=3, uuid='625cd61c-315e-48e3-a994-28303fc11cf0', email='franklinjackson@yahoo.com', score=4481) True\n",
      "!! 3-625cd61c-315e-48e3-a994-28303fc11cf0-franklinjackson@yahoo.com-4481\n",
      "4 Element(numeric_id=4, uuid='74a61f75-e2f8-4406-a83c-704ca2cb5b5a', email='dmelton@yahoo.com', score=1617) True\n",
      "5 Element(numeric_id=5, uuid='af825dbd-a521-4ec4-b3f8-594410881a8f', email='nunezkenneth@church-davis.biz', score=9027) True\n",
      "!! 5-af825dbd-a521-4ec4-b3f8-594410881a8f-nunezkenneth@church-davis.biz-9027\n",
      "6 Element(numeric_id=6, uuid='0e7c058b-0c6e-47d8-b0ea-58b610ce27fd', email='silvasarah@henderson.com', score=1334) True\n",
      "!! 6-0e7c058b-0c6e-47d8-b0ea-58b610ce27fd-silvasarah@henderson.com-1334\n",
      "7 Element(numeric_id=7, uuid='5248742d-cac5-4c45-9b3f-a0b2c4453e00', email='jeffrey63@martin-anderson.info', score=8606) True\n",
      "!! 7-5248742d-cac5-4c45-9b3f-a0b2c4453e00-jeffrey63@martin-anderson.info-8606\n",
      "8 Element(numeric_id=8, uuid='b7c03059-3e03-4d2d-a80a-c66163f1aba0', email='nwilson@gmail.com', score=9569) True\n",
      "9 Element(numeric_id=8, uuid='42a814dc-aa51-4812-9ca1-09aa35db810b', email='kimberlylee@gmail.com', score=7349) False\n",
      "!! 8-42a814dc-aa51-4812-9ca1-09aa35db810b-kimberlylee@gmail.com-7349\n"
     ]
    }
   ],
   "source": [
    "from dataclasses import asdict, dataclass\n",
    "\n",
    "@dataclass\n",
    "class Element:\n",
    "    numeric_id: int\n",
    "    uuid: str\n",
    "    email: str\n",
    "    score: int\n",
    "        \n",
    "def process(collection):\n",
    "    ids = []\n",
    "    for i, (el, has_next) in enumerate(collection):\n",
    "        el = Element(*el)\n",
    "        print(i, el, has_next)\n",
    "        # collect item if it's even\n",
    "        if isinstance(el.score, int) and el.score % 2:\n",
    "            ids.append(el.uuid)\n",
    "        # Warn about large items\n",
    "        if len(el.email) > 20:\n",
    "            print(f'!! {\"-\".join(map(str, asdict(el).values()))}')\n",
    "        if has_next == False:\n",
    "            break\n",
    "process(iterate())"
   ]
  },
  {
   "cell_type": "code",
   "execution_count": 17,
   "id": "85b81c81-3a3a-49cc-9dfd-699f579850b6",
   "metadata": {},
   "outputs": [
    {
     "name": "stdout",
     "output_type": "stream",
     "text": [
      "0 Element(numeric_id=0, uuid='b966cc04-9d02-4187-8b9a-7abc57950645', email='clloyd@gmail.com', score=1629) True\n",
      "1 Element(numeric_id=1, uuid='7427c9fd-fe4f-457d-8c94-fc5e78279d89', email='johnanderson@freeman.com', score=3124) True\n",
      "2 Element(numeric_id=2, uuid='96edcbb4-0ac5-442b-ab84-c20d8491c71c', email='craig53@hotmail.com', score=9259) True\n",
      "3 Element(numeric_id=3, uuid='ad90883b-2a34-4e35-8851-b92a360ed73a', email='rhonda63@yahoo.com', score=9320) True\n",
      "4 Element(numeric_id=4, uuid='d85d4d58-ed83-4141-8871-17f4b07c0f2b', email='jamesandrea@reese.org', score=1586) True\n",
      "5 Element(numeric_id=5, uuid='d2e11475-3d93-4827-b1c6-54c77a775a1f', email='lowedaniel@gray.biz', score=2359) True\n",
      "6 Element(numeric_id=6, uuid='97fb1dc9-72c2-4e11-97a2-1b160491dbf7', email='frodriguez@thomas.com', score=7277) True\n",
      "7 Element(numeric_id=7, uuid='49e47e1f-1fa5-479d-8efe-8c19e6184140', email='denise95@welch-smith.com', score=8398) True\n",
      "8 Element(numeric_id=8, uuid='cc15a59f-cf3a-4c40-b0b4-85948e859c25', email='janicecollins@hotmail.com', score=1209) True\n",
      "9 Element(numeric_id=8, uuid='ac4abc41-ee3d-4183-b963-50b181d250f5', email='megancantrell@gmail.com', score=1772) False\n"
     ]
    }
   ],
   "source": [
    "from dataclasses import dataclass\n",
    "\n",
    "@dataclass\n",
    "class Element:\n",
    "    numeric_id: int\n",
    "    uuid: str\n",
    "    email: str\n",
    "    score: int\n",
    "\n",
    "    def is_even(self) -> bool:\n",
    "        try:\n",
    "            return self.score % 2\n",
    "        except TypeError:\n",
    "            return False\n",
    "\n",
    "    def email_len(self, limit=20) -> bool:\n",
    "        return len(self.email) > limit\n",
    "    \n",
    "    def as_row(self, delim='-'):\n",
    "        return delim.join(map(str, [\n",
    "            self.numeric_id, self.uuid, self.email, self.score,\n",
    "        ]))\n",
    "        \n",
    "        \n",
    "def process(collection):\n",
    "    ids = []\n",
    "    for i, (el, has_next) in enumerate(collection):\n",
    "        el = Element(*el)\n",
    "        print(i, el, has_next)\n",
    "\n",
    "        if el.is_even:\n",
    "            ids.append(el.uuid)\n",
    "        if el.email_len() > 20:\n",
    "            print(f'!! {el.as_row()}')\n",
    "\n",
    "        if has_next == False:\n",
    "            break\n",
    "process(iterate())"
   ]
  },
  {
   "cell_type": "markdown",
   "id": "f89d01e4-9202-4081-a8da-6b648d3fb6ae",
   "metadata": {},
   "source": [
    "## Now the collection itself\n",
    "\n",
    "The collection iterator needs some work.\n",
    "We need something that we can use like this:\n",
    "\n",
    "```python\n",
    "# Loop exits when no more items\n",
    "for el in X:\n",
    "    Element.from_api(el)\n",
    "```"
   ]
  },
  {
   "cell_type": "code",
   "execution_count": 18,
   "id": "a440ad4e-6164-4b35-a921-c2cb2c0d9025",
   "metadata": {},
   "outputs": [
    {
     "name": "stdout",
     "output_type": "stream",
     "text": [
      "---- old\n",
      "((0, '37773e43-8da4-4637-bcb7-4d5af7d6d8cb', 'anna41@hotmail.com', 9707), True)\n",
      "((1, '76c59f55-f876-4b90-bec9-6df9cdda5491', 'robert83@gmail.com', 2483), True)\n",
      "((2, 'cbd3cad0-be49-4a8c-a6dd-f493015bb9f2', 'roberta05@gmail.com', 2814), True)\n",
      "((3, 'cafa9d35-191a-4dca-b52e-fe507d4a3306', 'john73@hotmail.com', 8512), True)\n",
      "((3, 'f592e946-9af8-4ab9-beb2-0c252527fafe', 'brendan61@young.info', 9866), False)\n",
      "(None, False)\n",
      "(None, False)\n",
      "(None, False)\n",
      "(None, False)\n",
      "---- new\n",
      "(0, (0, 'd372c4e5-169d-4e3c-b549-967f32801ca5', 'derrickortiz@yahoo.com', 1257))\n",
      "(1, (1, '8fb8f6b4-0c62-4032-a898-be3320d6183a', 'angelahamilton@torres.com', 4038))\n",
      "(2, (2, '4eb11c0c-04db-442a-824c-facbcfef8b93', 'ibrooks@simmons-reynolds.com', 7695))\n",
      "(3, (3, '2297adcc-de3b-4156-b10c-88926aa19640', 'veronica92@morgan-fletcher.com', 4328))\n",
      "(4, (3, '5eca273f-669c-43e7-9ccd-9d2f6c510e3e', 'russellgregory@gallagher.net', 7332))\n"
     ]
    }
   ],
   "source": [
    "def paginate(collection):\n",
    "    for i, (el, has_next) in enumerate(collection):\n",
    "        yield i, el\n",
    "        if not has_next:\n",
    "            return\n",
    "\n",
    "print('---- old')\n",
    "for i, el in enumerate(iterate(5)):\n",
    "    if i > 8:\n",
    "        break\n",
    "    print(el)\n",
    "    \n",
    "print('---- new')\n",
    "for el in paginate(iterate(5)):\n",
    "    print(el)"
   ]
  },
  {
   "cell_type": "code",
   "execution_count": 19,
   "id": "c4b3a660-7a29-406b-ab4e-ce4b6f3ac7af",
   "metadata": {},
   "outputs": [
    {
     "name": "stdout",
     "output_type": "stream",
     "text": [
      "0 Element(numeric_id=0, uuid='f116aebf-93e1-4f84-b655-1b1b99933302', email='alicia39@yahoo.com', score=7240)\n",
      "1 Element(numeric_id=1, uuid='29555322-f3f1-4837-a979-e8f3d7b185c3', email='ashley18@hotmail.com', score=5827)\n",
      "2 Element(numeric_id=2, uuid='8aa41651-0152-4c43-9aa5-cd7e3fba0f73', email='llewis@livingston.com', score=4157)\n",
      "3 Element(numeric_id=3, uuid='841e397f-c496-4467-af45-a9f1ef6df03e', email='austinmcneil@simpson.com', score=6539)\n",
      "4 Element(numeric_id=3, uuid='b2ea3310-67bb-49ed-96a8-b50ebaa0450d', email='erinjimenez@hotmail.com', score=2369)\n"
     ]
    }
   ],
   "source": [
    "def process(collection):\n",
    "    ids = []\n",
    "    for i, el in paginate(collection): # <-------- ✓\n",
    "        el = Element(*el)              # <-------- ⚠\n",
    "        print(i, el)\n",
    "\n",
    "        if el.is_even:\n",
    "            ids.append(el.uuid)\n",
    "        if el.email_len() > 20:\n",
    "            print(f'!! {el.as_row()}')\n",
    "\n",
    "process(iterate(5))"
   ]
  },
  {
   "cell_type": "code",
   "execution_count": 20,
   "id": "a0f7f1fe-3422-4071-9604-6330389f0d6c",
   "metadata": {},
   "outputs": [
    {
     "name": "stdout",
     "output_type": "stream",
     "text": [
      "0 Element(numeric_id=0, uuid='69053f4e-0784-4a32-b2a3-674d5aae95ed', email='gibsonmeagan@parrish.com', score=4710)\n",
      "!! 0-69053f4e-0784-4a32-b2a3-674d5aae95ed-gibsonmeagan@parrish.com-4710\n",
      "1 Element(numeric_id=1, uuid='f1762314-551f-4947-9ca3-78316de85773', email='jason41@gmail.com', score=9549)\n",
      "2 Element(numeric_id=2, uuid='7e5d5cde-b743-40b5-9923-85af032ceb7d', email='wgarrett@tanner.org', score=9584)\n",
      "3 Element(numeric_id=3, uuid='f6a83638-1155-4942-bd73-97d1f36465b4', email='paul20@hotmail.com', score=1930)\n",
      "4 Element(numeric_id=3, uuid='539b7b00-8e79-40fe-9df8-bfcc0a4af24a', email='hsimon@hotmail.com', score=4449)\n"
     ]
    }
   ],
   "source": [
    "@dataclass\n",
    "class Element:\n",
    "    numeric_id: int\n",
    "    uuid: str\n",
    "    email: str\n",
    "    score: int\n",
    "\n",
    "    def is_even(self) -> bool:\n",
    "        try:\n",
    "            return self.score % 2\n",
    "        except TypeError:\n",
    "            return False\n",
    "\n",
    "    def email_len(self) -> bool:\n",
    "        return len(self.email)\n",
    "    \n",
    "    def as_row(self, delim='-'):\n",
    "        return delim.join(map(str, [\n",
    "            self.numeric_id, self.uuid, self.email, self.score,\n",
    "        ]))\n",
    "    \n",
    "    @staticmethod\n",
    "    def from_api(raw):\n",
    "        return Element(*raw)\n",
    "\n",
    "def paginate(collection):\n",
    "    for i, (el, has_next) in enumerate(collection):\n",
    "        yield i, el\n",
    "        if not has_next:\n",
    "            return\n",
    "    \n",
    "def process(collection):\n",
    "    ids = []\n",
    "    for i, el in paginate(collection):\n",
    "        el = Element.from_api(el)\n",
    "        print(i, el)\n",
    "\n",
    "        if el.is_even:\n",
    "            ids.append(el.uuid)\n",
    "        if el.email_len() > 20:\n",
    "            print(f'!! {el.as_row()}')\n",
    "\n",
    "process(iterate(5))"
   ]
  },
  {
   "cell_type": "markdown",
   "id": "a3650b00-cd47-45fc-88fd-c63eb03e969d",
   "metadata": {},
   "source": [
    "What if we want to send all the even and odd records to different places?\n",
    "Or, collect all the emails from both categories?"
   ]
  },
  {
   "cell_type": "code",
   "execution_count": 21,
   "id": "ff20ecd2-5238-429d-82ce-144b2b401959",
   "metadata": {},
   "outputs": [
    {
     "name": "stdout",
     "output_type": "stream",
     "text": [
      "0 Element(numeric_id=0, uuid='41fd6194-0ba9-43ad-986d-b0413dbb0096', email='ffrancis@buckley-alvarez.net', score=6558)\n",
      "1 Element(numeric_id=1, uuid='67385abf-e1ea-4033-b007-5fbac39e3882', email='michael02@yahoo.com', score=9177)\n",
      "2 Element(numeric_id=2, uuid='8d8b126b-1858-48bb-ac23-8e175954ab9d', email='gary58@rice.com', score=6762)\n",
      "3 Element(numeric_id=3, uuid='84f81dad-b4ab-44bb-9d65-e288fcf9f335', email='gamblejason@mcpherson.info', score=9362)\n",
      "4 Element(numeric_id=4, uuid='5edcf716-d01e-46f9-a461-4fd2c0b8af51', email='christopherrose@hall-montgomery.com', score=3072)\n",
      "5 Element(numeric_id=5, uuid='f20e0fc7-c763-414e-bcd3-e0216b709375', email='choimelissa@hotmail.com', score=2945)\n",
      "6 Element(numeric_id=6, uuid='0cc45990-9b7d-40ae-a448-5717397587dc', email='webercarol@yahoo.com', score=7343)\n",
      "7 Element(numeric_id=6, uuid='60e8b6e2-9c97-448d-b7c2-20468fde1a06', email='jordanjeffrey@hotmail.com', score=9857)\n",
      "\n",
      " even: 4 odd: 4\n",
      "['67385abf-e1ea-4033-b007-5fbac39e3882', 'f20e0fc7-c763-414e-bcd3-e0216b709375', '0cc45990-9b7d-40ae-a448-5717397587dc', '60e8b6e2-9c97-448d-b7c2-20468fde1a06']\n"
     ]
    }
   ],
   "source": [
    "def process(collection, debug=False):\n",
    "    even_ids = []\n",
    "    odd_ids = []\n",
    "    for i, el in paginate(collection):\n",
    "        el = Element.from_api(el)\n",
    "        print(i, el)\n",
    "\n",
    "        if el.is_even():\n",
    "            even_ids.append(el.uuid)\n",
    "        else:\n",
    "            odd_ids.append(el.uuid)\n",
    "        if el.email_len() > 20 and debug:\n",
    "            print(f'!! {el.as_row()}')\n",
    "    return even_ids, odd_ids\n",
    "\n",
    "even, odd = process(iterate(8))\n",
    "print('\\n', 'even:', len(even), 'odd:', len(odd))\n",
    "print(even)"
   ]
  },
  {
   "cell_type": "markdown",
   "id": "510618f0-6be0-4cdb-9fcc-d72a99862a28",
   "metadata": {},
   "source": [
    "What if we want to collect the emails of odd/even people instead? or something else in the future?\n",
    "\n",
    "Step 1: just return the entire objects, don't grab values from them"
   ]
  },
  {
   "cell_type": "code",
   "execution_count": 22,
   "id": "88bfc429-3c00-4f62-ac2f-ec97932afbcd",
   "metadata": {},
   "outputs": [
    {
     "name": "stdout",
     "output_type": "stream",
     "text": [
      "0 Element(numeric_id=0, uuid='cafcd7d2-367f-493c-a0ce-0875abdd9641', email='psmith@palmer.com', score=3898)\n",
      "1 Element(numeric_id=1, uuid='7221d8df-844e-431d-a880-5009cb413f03', email='hudsonjay@hotmail.com', score=1353)\n",
      "2 Element(numeric_id=2, uuid='5e219c0b-6d3d-443a-800f-ba6c74a6169b', email='hernandezdevin@gmail.com', score=1531)\n",
      "3 Element(numeric_id=3, uuid='f3c51d7f-ca88-49fa-b863-2927f1045133', email='turnerthomas@miller.com', score=9213)\n",
      "4 Element(numeric_id=4, uuid='5570a2bd-1c01-4d8b-9ba7-534f8928fdab', email='amanda90@newton.com', score=3296)\n",
      "5 Element(numeric_id=5, uuid='b895166e-61f2-4d70-b8ad-0d6345fe015f', email='ksimpson@webster.com', score=9639)\n",
      "6 Element(numeric_id=6, uuid='39385694-f51e-4503-8bfa-4fd682bed96e', email='darren16@mitchell.com', score=3675)\n",
      "7 Element(numeric_id=6, uuid='3ca687e1-3e08-4c25-8a2c-50e8c2e0358b', email='kathleentownsend@gmail.com', score=9431)\n",
      "\n",
      " even: 6 odd: 2\n",
      "['hudsonjay@hotmail.com', 'hernandezdevin@gmail.com', 'turnerthomas@miller.com', 'ksimpson@webster.com', 'darren16@mitchell.com', 'kathleentownsend@gmail.com']\n"
     ]
    }
   ],
   "source": [
    "def process(collection, debug=False):\n",
    "    even = []\n",
    "    odd = []\n",
    "    for i, el in paginate(collection):\n",
    "        el = Element.from_api(el)\n",
    "        print(i, el)\n",
    "\n",
    "        if el.is_even():\n",
    "            even.append(el)\n",
    "        else:\n",
    "            odd.append(el)\n",
    "        if el.email_len() > 20 and debug:\n",
    "            print(f'!! {el.as_row()}')\n",
    "    return even, odd\n",
    "\n",
    "even, odd = process(iterate(8))\n",
    "print('\\n', 'even:', len(even), 'odd:', len(odd))\n",
    "print([el.email for el in even])"
   ]
  },
  {
   "cell_type": "code",
   "execution_count": 23,
   "id": "1b6c07d3-de31-446f-82bd-8096be9300d5",
   "metadata": {},
   "outputs": [
    {
     "name": "stdout",
     "output_type": "stream",
     "text": [
      "all emails\n",
      " ['bvargas@morris-mueller.org', 'derekpope@horn-gomez.com', 'rgonzales@yahoo.com', 'phernandez@cooper.biz', 'loganleblanc@yahoo.com', 'natalie14@gmail.com', 'christie85@mahoney.com', 'michael64@gmail.com']\n",
      "\n",
      "odd records\n",
      " Collection(items=[Element(numeric_id=2, uuid='abe8e4d0-2a69-4b84-a61e-19dae340b084', email='rgonzales@yahoo.com', score=1009), Element(numeric_id=3, uuid='cabd1900-35d4-4eb6-8368-68a9e0d82686', email='phernandez@cooper.biz', score=4993), Element(numeric_id=4, uuid='e854a982-4593-458f-91b9-ea3db3169880', email='loganleblanc@yahoo.com', score=5665), Element(numeric_id=5, uuid='87569e30-93e6-44a0-bdd0-bc00fac8e3dc', email='natalie14@gmail.com', score=5843), Element(numeric_id=6, uuid='51092b04-a3ab-4d3b-9c00-7c17f2427d72', email='michael64@gmail.com', score=2259)])\n",
      "\n",
      "even records\n",
      " Collection(items=[Element(numeric_id=0, uuid='8d27f75a-1812-4ba9-af4f-ac873581a919', email='bvargas@morris-mueller.org', score=1876), Element(numeric_id=1, uuid='58f9a8b3-84f6-4450-a8c9-a89011b87400', email='derekpope@horn-gomez.com', score=9362), Element(numeric_id=6, uuid='c3fe8ea1-4b5e-4ac5-8213-5f978ad90ba0', email='christie85@mahoney.com', score=328)])\n",
      "\n",
      "even emails!\n",
      " ['bvargas@morris-mueller.org', 'derekpope@horn-gomez.com', 'christie85@mahoney.com']\n"
     ]
    }
   ],
   "source": [
    "from collections import Counter\n",
    "from typing import List\n",
    "from itertools import filterfalse\n",
    "\n",
    "def paginate(collection):\n",
    "    for el, has_next in collection:\n",
    "        yield el\n",
    "        if not has_next:\n",
    "            return\n",
    "\n",
    "@dataclass\n",
    "class Collection:\n",
    "    items: List[Element]\n",
    "\n",
    "    def from_raw(items):\n",
    "        return Collection(list(map(Element.from_api, items)))\n",
    "        \n",
    "    def emails(self):\n",
    "        return [el.email for el in self.items]\n",
    "\n",
    "    def __iter__(self):\n",
    "        yield from self.items\n",
    "        \n",
    "    def odd_records(self):\n",
    "        return Collection(list(filter(lambda x: x.score % 2, self.items)))\n",
    "    \n",
    "    def even_records(self):\n",
    "        return Collection(list(filterfalse(lambda x: x.score % 2, self.items)))\n",
    "\n",
    "\n",
    "c = Collection.from_raw(paginate(iterate(8)))\n",
    "print('all emails\\n', c.emails())\n",
    "\n",
    "print('\\nodd records\\n', c.odd_records())\n",
    "print('\\neven records\\n', c.even_records())\n",
    "\n",
    "print('\\neven emails!\\n', c.even_records().emails())"
   ]
  },
  {
   "cell_type": "markdown",
   "id": "02c73c8e-3256-4cc9-99b4-e7fb1ef3cff0",
   "metadata": {},
   "source": [
    "---\n",
    "\n",
    "### Filtering and sorting\n",
    "\n",
    "If you have a static method (not an instance method), you can filter with that instead of having to use a lambda"
   ]
  },
  {
   "cell_type": "code",
   "execution_count": 24,
   "id": "9d6b992f-4067-44e4-a9c5-57b361a7fe91",
   "metadata": {},
   "outputs": [
    {
     "name": "stdout",
     "output_type": "stream",
     "text": [
      "total items 10\n",
      "\n",
      "even items\n",
      " 4 ['yfitzpatrick@gmail.com', 'donaldsonjillian@davila.com', 'jonescatherine@davis.net', 'knoxthomas@gmail.com']\n",
      "\n",
      "odd items\n",
      " 4 ['yfitzpatrick@gmail.com', 'donaldsonjillian@davila.com', 'jonescatherine@davis.net', 'knoxthomas@gmail.com']\n"
     ]
    }
   ],
   "source": [
    "@dataclass\n",
    "class Element:\n",
    "    numeric_id: int\n",
    "    uuid: str\n",
    "    email: str\n",
    "    score: int\n",
    "\n",
    "    @staticmethod\n",
    "    def from_api(raw):\n",
    "        return Element(*raw)\n",
    "        \n",
    "    def is_even(self) -> bool:\n",
    "        try:\n",
    "            return self.score % 2\n",
    "        except TypeError:\n",
    "            return False\n",
    "    \n",
    "    @staticmethod\n",
    "    def _is_even(element):\n",
    "        return element._is_even()\n",
    "    \n",
    "    @staticmethod\n",
    "    def _is_false(element):\n",
    "        return not element._is_even()\n",
    "\n",
    "    def email_len(self) -> bool:\n",
    "        return len(self.email)\n",
    "    \n",
    "    def as_row(self, delim='-'):\n",
    "        return delim.join(map(str, [\n",
    "            self.numeric_id, self.uuid, self.email, self.score,\n",
    "        ]))\n",
    "\n",
    "@dataclass\n",
    "class Collection:\n",
    "    items: List[Element]\n",
    "\n",
    "    def from_raw(items):\n",
    "        return Collection(list(map(Element.from_api, items)))\n",
    "        \n",
    "    @property\n",
    "    def emails(self):\n",
    "        return [el.email for el in self.items]\n",
    "\n",
    "    def __iter__(self):\n",
    "        yield from self.items\n",
    "        \n",
    "    def filter_records(self, pred):\n",
    "        return Collection(list(filter(pred, self.items)))\n",
    "\n",
    "\n",
    "c = Collection.from_raw(paginate(iterate()))\n",
    "print('total items', len(c.items))\n",
    "\n",
    "even = c.filter_records(Element.is_even)\n",
    "print('\\neven items\\n', len(even.emails), even.emails)\n",
    "\n",
    "odd = c.filter_records(Element.is_even)\n",
    "print('\\nodd items\\n', len(even.emails), even.emails)"
   ]
  },
  {
   "cell_type": "code",
   "execution_count": 25,
   "id": "d811e65b-2fb5-4dfa-983c-327858253fff",
   "metadata": {},
   "outputs": [
    {
     "data": {
      "text/plain": [
       "Collection(items=[])"
      ]
     },
     "execution_count": 25,
     "metadata": {},
     "output_type": "execute_result"
    }
   ],
   "source": [
    "c.filter_records(lambda x: x.email.startswith('a'))"
   ]
  },
  {
   "cell_type": "code",
   "execution_count": 26,
   "id": "fa183c4b-6997-40d7-bbe9-5b891277ffeb",
   "metadata": {},
   "outputs": [
    {
     "data": {
      "text/plain": [
       "Collection(items=[Element(numeric_id=0, uuid='2d613f5b-43ab-4ecf-b9ee-51dadd3166b5', email='irivera@yahoo.com', score=5408), Element(numeric_id=1, uuid='8599f467-480d-4dd3-a257-96a76a10c5ee', email='yfitzpatrick@gmail.com', score=5779), Element(numeric_id=2, uuid='3aedc8b3-e4ca-4d92-9649-4cc464ab05ff', email='fosterphilip@gmail.com', score=5320), Element(numeric_id=3, uuid='fcad899c-26b1-4c13-a0aa-05923b66b393', email='donaldsonjillian@davila.com', score=7273), Element(numeric_id=4, uuid='633c519e-3b35-4077-b2cf-3ac74abb963f', email='robert02@hotmail.com', score=4468), Element(numeric_id=5, uuid='3d1aec3d-7159-4ee0-a15c-37f68aefaffb', email='jonescatherine@davis.net', score=5269), Element(numeric_id=6, uuid='89c3dcf9-6f49-427a-b68a-8d9be96d3692', email='xortega@singleton.com', score=6576), Element(numeric_id=7, uuid='b2d4f7e7-868a-450a-9af6-344410c99cc1', email='bobbylewis@hotmail.com', score=3588), Element(numeric_id=8, uuid='e1b88691-9e66-4baa-93e8-469ce592028e', email='knoxthomas@gmail.com', score=6407), Element(numeric_id=8, uuid='206c947f-61d7-4c0b-8300-4a63a141f1bd', email='vross@gmail.com', score=3838)])"
      ]
     },
     "execution_count": 26,
     "metadata": {},
     "output_type": "execute_result"
    }
   ],
   "source": [
    "c.filter_records(lambda x: '@' in x.email)"
   ]
  },
  {
   "cell_type": "code",
   "execution_count": 27,
   "id": "a2da5ab8-42fd-4c1f-b703-9e2795d1d7b3",
   "metadata": {},
   "outputs": [
    {
     "name": "stdout",
     "output_type": "stream",
     "text": [
      "total items 10\n",
      "\n",
      "even items\n",
      " 3 ['john91@hotmail.com', 'uarellano@jordan.com', 'anthony71@smith.com']\n",
      "\n",
      "odd items\n",
      " 3 ['john91@hotmail.com', 'uarellano@jordan.com', 'anthony71@smith.com']\n"
     ]
    }
   ],
   "source": [
    "@dataclass\n",
    "class Element:\n",
    "    numeric_id: int\n",
    "    uuid: str\n",
    "    email: str\n",
    "    score: int\n",
    "\n",
    "    @staticmethod\n",
    "    def from_api(raw):\n",
    "        return Element(*raw)\n",
    "        \n",
    "    def is_even(self) -> bool:\n",
    "        try:\n",
    "            return self.score % 2\n",
    "        except TypeError:\n",
    "            return False\n",
    "    \n",
    "    @staticmethod\n",
    "    def _is_even(element):\n",
    "        return element._is_even()\n",
    "    \n",
    "    @staticmethod\n",
    "    def _is_false(element):\n",
    "        return not element._is_even()\n",
    "\n",
    "    def email_len(self) -> bool:\n",
    "        return len(self.email)\n",
    "    \n",
    "    def as_row(self, delim='-'):\n",
    "        return delim.join(map(str, [\n",
    "            self.numeric_id, self.uuid, self.email, self.score,\n",
    "        ]))\n",
    "\n",
    "@dataclass\n",
    "class Collection:\n",
    "    items: List[Element]\n",
    "\n",
    "    def from_raw(items):\n",
    "        return Collection(list(map(Element.from_api, items)))\n",
    "\n",
    "    @property\n",
    "    def emails(self):\n",
    "        return [el.email for el in self.items]\n",
    "\n",
    "    def __iter__(self):\n",
    "        yield from self.items\n",
    "\n",
    "    def filter_records(self, pred):\n",
    "        return Collection(list(filter(pred, self.items)))\n",
    "\n",
    "    \n",
    "c = Collection.from_raw(paginate(iterate()))\n",
    "print('total items', len(c.items))\n",
    "\n",
    "even = c.filter_records(Element.is_even)\n",
    "print('\\neven items\\n', len(even.emails), even.emails)\n",
    "\n",
    "odd = c.filter_records(Element.is_even)\n",
    "print('\\nodd items\\n', len(even.emails), even.emails)"
   ]
  },
  {
   "cell_type": "markdown",
   "id": "4bb749f5-50aa-4650-a42e-0a679cce58d1",
   "metadata": {},
   "source": [
    "## Representation\n",
    "\n",
    "Dunder methods!\n",
    "\n",
    "Let's make a few options:\n",
    "\n",
    "- All objects as JSON\n",
    "- All objects as rows/lists"
   ]
  },
  {
   "cell_type": "code",
   "execution_count": 28,
   "id": "ea3f19ef-2bc3-4bfa-8f53-404eabbc5a09",
   "metadata": {},
   "outputs": [
    {
     "name": "stdout",
     "output_type": "stream",
     "text": [
      "total items 10\n",
      "\n",
      "even items\n",
      " 7 ['jacob47@gmail.com', 'stoneemily@hotmail.com', 'harrisbrianna@yahoo.com', 'whitedaniel@yahoo.com', 'kelly76@spence-fletcher.com', 'rlandry@hotmail.com', 'andrea28@hotmail.com']\n",
      "\n",
      "odd items\n",
      " 7 ['jacob47@gmail.com', 'stoneemily@hotmail.com', 'harrisbrianna@yahoo.com', 'whitedaniel@yahoo.com', 'kelly76@spence-fletcher.com', 'rlandry@hotmail.com', 'andrea28@hotmail.com']\n"
     ]
    }
   ],
   "source": [
    "@dataclass\n",
    "class Element:\n",
    "    numeric_id: int\n",
    "    uuid: str\n",
    "    email: str\n",
    "    score: int\n",
    "\n",
    "    @staticmethod\n",
    "    def from_api(raw):\n",
    "        return Element(*raw)\n",
    "        \n",
    "    def is_even(self) -> bool:\n",
    "        try:\n",
    "            return self.score % 2\n",
    "        except TypeError:\n",
    "            return False\n",
    "    \n",
    "    @staticmethod\n",
    "    def _is_even(element):\n",
    "        return element._is_even()\n",
    "    \n",
    "    @staticmethod\n",
    "    def _is_false(element):\n",
    "        return not element._is_even()\n",
    "\n",
    "    def email_len(self) -> bool:\n",
    "        return len(self.email)\n",
    "    \n",
    "    def as_row(self, delim='-'):\n",
    "        return delim.join(map(str, [\n",
    "            self.numeric_id, self.uuid, self.email, self.score,\n",
    "        ]))\n",
    "    \n",
    "    def as_json(self):\n",
    "        return json.dumps(self.__dict__)\n",
    "\n",
    "@dataclass\n",
    "class Collection:\n",
    "    items: List[Element]\n",
    "\n",
    "    def from_raw(items):\n",
    "        return Collection(list(map(Element.from_api, items)))\n",
    "        \n",
    "    @property\n",
    "    def emails(self):\n",
    "        return [el.email for el in self.items]\n",
    "\n",
    "    def __iter__(self):\n",
    "        yield from self.items\n",
    "        \n",
    "    def filter_records(self, pred):\n",
    "        return Collection(list(filter(pred, self.items)))\n",
    "    \n",
    "    def as_json(self, **kwargs):\n",
    "        return json.dumps(\n",
    "            [asdict(el) for el in self.items],\n",
    "            **kwargs\n",
    "        )\n",
    "\n",
    "    \n",
    "c = Collection.from_raw(paginate(iterate()))\n",
    "print('total items', len(c.items))\n",
    "\n",
    "even = c.filter_records(Element.is_even)\n",
    "print('\\neven items\\n', len(even.emails), even.emails)\n",
    "\n",
    "odd = c.filter_records(Element.is_even)\n",
    "print('\\nodd items\\n', len(even.emails), even.emails)"
   ]
  },
  {
   "cell_type": "code",
   "execution_count": 29,
   "id": "d9ad9f27-393d-41a0-8b47-130a64ee5df1",
   "metadata": {},
   "outputs": [
    {
     "name": "stdout",
     "output_type": "stream",
     "text": [
      "{\u001b[38;2;0;128;0;01m\"numeric_id\"\u001b[39;00m: \u001b[38;2;102;102;102m0\u001b[39m, \u001b[38;2;0;128;0;01m\"uuid\"\u001b[39;00m: \u001b[38;2;186;33;33m\"2d23a66c-0837-49c2-81a8-cf64236f3f47\"\u001b[39m, \u001b[38;2;0;128;0;01m\"email\"\u001b[39;00m: \u001b[38;2;186;33;33m\"ksanchez@hotmail.com\"\u001b[39m, \u001b[38;2;0;128;0;01m\"score\"\u001b[39;00m: \u001b[38;2;102;102;102m2082\u001b[39m}\n",
      "\n",
      "[{\u001b[38;2;0;128;0;01m\"numeric_id\"\u001b[39;00m: \u001b[38;2;102;102;102m0\u001b[39m, \u001b[38;2;0;128;0;01m\"uuid\"\u001b[39;00m: \u001b[38;2;186;33;33m\"2d23a66c-0837-49c2-81a8-cf64236f3f47\"\u001b[39m, \u001b[38;2;0;128;0;01m\"email\"\u001b[39;00m: \u001b[38;2;186;33;33m\"ksanchez@hotmail.com\"\u001b[39m, \u001b[38;2;0;128;0;01m\"score\"\u001b[39;00m: \u001b[38;2;102;102;102m2082\u001b[39m}, {\u001b[38;2;0;128;0;01m\"numeric_id\"\u001b[39;00m: \u001b[38;2;102;102;102m1\u001b[39m, \u001b[38;2;0;128;0;01m\"uuid\"\u001b[39;00m: \u001b[38;2;186;33;33m\"492620c2-455e-4ae5-b874-2a65ce3976ad\"\u001b[39m, \u001b[38;2;0;128;0;01m\"email\"\u001b[39;00m: \u001b[38;2;186;33;33m\"qbenson@gmail.com\"\u001b[39m, \u001b[38;2;0;128;0;01m\"score\"\u001b[39;00m: \u001b[38;2;102;102;102m8032\u001b[39m}, {\u001b[38;2;0;128;0;01m\"numeric_id\"\u001b[39;00m: \u001b[38;2;102;102;102m2\u001b[39m, \u001b[38;2;0;128;0;01m\"uuid\"\u001b[39;00m: \u001b[38;2;186;33;33m\"29cdb27d-f11f-4217-8d5b-cf2cddb4f31e\"\u001b[39m, \u001b[38;2;0;128;0;01m\"email\"\u001b[39;00m: \u001b[38;2;186;33;33m\"ocook@brown-lindsey.biz\"\u001b[39m, \u001b[38;2;0;128;0;01m\"score\"\u001b[39;00m: \u001b[38;2;102;102;102m3956\u001b[39m}, {\u001b[38;2;0;128;0;01m\"numeric_id\"\u001b[39;00m: \u001b[38;2;102;102;102m3\u001b[39m, \u001b[38;2;0;128;0;01m\"uuid\"\u001b[39;00m: \u001b[38;2;186;33;33m\"17844da5-01bf-4588-a400-af7663a341f1\"\u001b[39m, \u001b[38;2;0;128;0;01m\"email\"\u001b[39;00m: \u001b[38;2;186;33;33m\"efletcher@yahoo.com\"\u001b[39m, \u001b[38;2;0;128;0;01m\"score\"\u001b[39;00m: \u001b[38;2;102;102;102m3406\u001b[39m}, {\u001b[38;2;0;128;0;01m\"numeric_id\"\u001b[39;00m: \u001b[38;2;102;102;102m4\u001b[39m, \u001b[38;2;0;128;0;01m\"uuid\"\u001b[39;00m: \u001b[38;2;186;33;33m\"6d1c89ab-4c5e-4b49-8fc3-d38bed8e63a0\"\u001b[39m, \u001b[38;2;0;128;0;01m\"email\"\u001b[39;00m: \u001b[38;2;186;33;33m\"daniel96@gmail.com\"\u001b[39m, \u001b[38;2;0;128;0;01m\"score\"\u001b[39;00m: \u001b[38;2;102;102;102m5055\u001b[39m}, {\u001b[38;2;0;128;0;01m\"numeric_id\"\u001b[39;00m: \u001b[38;2;102;102;102m5\u001b[39m, \u001b[38;2;0;128;0;01m\"uuid\"\u001b[39;00m: \u001b[38;2;186;33;33m\"f3f34a48-569f-43e9-b3db-e7e456a743b3\"\u001b[39m, \u001b[38;2;0;128;0;01m\"email\"\u001b[39;00m: \u001b[38;2;186;33;33m\"wcowan@skinner-soto.net\"\u001b[39m, \u001b[38;2;0;128;0;01m\"score\"\u001b[39;00m: \u001b[38;2;102;102;102m9337\u001b[39m}, {\u001b[38;2;0;128;0;01m\"numeric_id\"\u001b[39;00m: \u001b[38;2;102;102;102m6\u001b[39m, \u001b[38;2;0;128;0;01m\"uuid\"\u001b[39;00m: \u001b[38;2;186;33;33m\"66add268-ca3d-4fe8-8a2b-bf53492c0d16\"\u001b[39m, \u001b[38;2;0;128;0;01m\"email\"\u001b[39;00m: \u001b[38;2;186;33;33m\"nrodriguez@gmail.com\"\u001b[39m, \u001b[38;2;0;128;0;01m\"score\"\u001b[39;00m: \u001b[38;2;102;102;102m4988\u001b[39m}, {\u001b[38;2;0;128;0;01m\"numeric_id\"\u001b[39;00m: \u001b[38;2;102;102;102m7\u001b[39m, \u001b[38;2;0;128;0;01m\"uuid\"\u001b[39;00m: \u001b[38;2;186;33;33m\"bc071d1a-2fac-4d82-b005-f1afcab11060\"\u001b[39m, \u001b[38;2;0;128;0;01m\"email\"\u001b[39;00m: \u001b[38;2;186;33;33m\"megannelson@crawford.com\"\u001b[39m, \u001b[38;2;0;128;0;01m\"score\"\u001b[39;00m: \u001b[38;2;102;102;102m635\u001b[39m}, {\u001b[38;2;0;128;0;01m\"numeric_id\"\u001b[39;00m: \u001b[38;2;102;102;102m8\u001b[39m, \u001b[38;2;0;128;0;01m\"uuid\"\u001b[39;00m: \u001b[38;2;186;33;33m\"b997a8bc-a09d-45b8-b0ed-bad951cf95be\"\u001b[39m, \u001b[38;2;0;128;0;01m\"email\"\u001b[39;00m: \u001b[38;2;186;33;33m\"ellengardner@yahoo.com\"\u001b[39m, \u001b[38;2;0;128;0;01m\"score\"\u001b[39;00m: \u001b[38;2;102;102;102m2947\u001b[39m}, {\u001b[38;2;0;128;0;01m\"numeric_id\"\u001b[39;00m: \u001b[38;2;102;102;102m8\u001b[39m, \u001b[38;2;0;128;0;01m\"uuid\"\u001b[39;00m: \u001b[38;2;186;33;33m\"b55aa26f-d054-4200-8d8d-b155352da130\"\u001b[39m, \u001b[38;2;0;128;0;01m\"email\"\u001b[39;00m: \u001b[38;2;186;33;33m\"heatherhernandez@fernandez.com\"\u001b[39m, \u001b[38;2;0;128;0;01m\"score\"\u001b[39;00m: \u001b[38;2;102;102;102m995\u001b[39m}]\n",
      "\n"
     ]
    }
   ],
   "source": [
    "c = Collection.from_raw(paginate(iterate()))\n",
    "\n",
    "ppj(c.items[0].as_json())\n",
    "ppj(c.as_json())"
   ]
  },
  {
   "cell_type": "code",
   "execution_count": 30,
   "id": "5485ded1-d634-44b1-b582-5c5c435405b2",
   "metadata": {},
   "outputs": [
    {
     "ename": "TypeError",
     "evalue": "'Collection' object is not subscriptable",
     "output_type": "error",
     "traceback": [
      "\u001b[0;31m---------------------------------------------------------------------------\u001b[0m",
      "\u001b[0;31mTypeError\u001b[0m                                 Traceback (most recent call last)",
      "\u001b[0;32m<ipython-input-30-98828f9eb2fc>\u001b[0m in \u001b[0;36m<module>\u001b[0;34m\u001b[0m\n\u001b[0;32m----> 1\u001b[0;31m \u001b[0mppj\u001b[0m\u001b[0;34m(\u001b[0m\u001b[0mc\u001b[0m\u001b[0;34m[\u001b[0m\u001b[0;34m:\u001b[0m\u001b[0;36m2\u001b[0m\u001b[0;34m]\u001b[0m\u001b[0;34m.\u001b[0m\u001b[0mas_json\u001b[0m\u001b[0;34m(\u001b[0m\u001b[0mindent\u001b[0m\u001b[0;34m=\u001b[0m\u001b[0;36m2\u001b[0m\u001b[0;34m)\u001b[0m\u001b[0;34m)\u001b[0m\u001b[0;34m\u001b[0m\u001b[0;34m\u001b[0m\u001b[0m\n\u001b[0m",
      "\u001b[0;31mTypeError\u001b[0m: 'Collection' object is not subscriptable"
     ]
    }
   ],
   "source": [
    "ppj(c[:2].as_json(indent=2))"
   ]
  },
  {
   "cell_type": "code",
   "execution_count": 31,
   "id": "91b83ee8-2e09-4233-86d6-86b6902667d3",
   "metadata": {},
   "outputs": [
    {
     "name": "stdout",
     "output_type": "stream",
     "text": [
      "Object `items` not found.\n"
     ]
    }
   ],
   "source": [
    "What if we just want to print the first few items?"
   ]
  },
  {
   "cell_type": "code",
   "execution_count": null,
   "id": "230b80fe-9d04-4dee-b02d-4cb792aab9f3",
   "metadata": {},
   "outputs": [],
   "source": [
    "What if we just want to print the first few items"
   ]
  },
  {
   "cell_type": "code",
   "execution_count": 32,
   "id": "17a1ee0f-9d60-4c55-83df-4b59c0fc8c28",
   "metadata": {},
   "outputs": [
    {
     "ename": "AttributeError",
     "evalue": "'list' object has no attribute 'as_json'",
     "output_type": "error",
     "traceback": [
      "\u001b[0;31m---------------------------------------------------------------------------\u001b[0m",
      "\u001b[0;31mAttributeError\u001b[0m                            Traceback (most recent call last)",
      "\u001b[0;32m<ipython-input-32-a5b09430d776>\u001b[0m in \u001b[0;36m<module>\u001b[0;34m\u001b[0m\n\u001b[0;32m----> 1\u001b[0;31m \u001b[0mppj\u001b[0m\u001b[0;34m(\u001b[0m\u001b[0mc\u001b[0m\u001b[0;34m.\u001b[0m\u001b[0mitems\u001b[0m\u001b[0;34m[\u001b[0m\u001b[0;34m:\u001b[0m\u001b[0;36m2\u001b[0m\u001b[0;34m]\u001b[0m\u001b[0;34m.\u001b[0m\u001b[0mas_json\u001b[0m\u001b[0;34m(\u001b[0m\u001b[0mindent\u001b[0m\u001b[0;34m=\u001b[0m\u001b[0;36m2\u001b[0m\u001b[0;34m)\u001b[0m\u001b[0;34m)\u001b[0m\u001b[0;34m\u001b[0m\u001b[0;34m\u001b[0m\u001b[0m\n\u001b[0m",
      "\u001b[0;31mAttributeError\u001b[0m: 'list' object has no attribute 'as_json'"
     ]
    }
   ],
   "source": [
    "ppj(c.items[:2].as_json(indent=2))"
   ]
  },
  {
   "cell_type": "code",
   "execution_count": 33,
   "id": "c4b9efdb-cb9e-4e4f-967a-c43ee107bb11",
   "metadata": {},
   "outputs": [
    {
     "name": "stdout",
     "output_type": "stream",
     "text": [
      "[\n",
      "  {\n",
      "    \u001b[38;2;0;128;0;01m\"numeric_id\"\u001b[39;00m: \u001b[38;2;102;102;102m0\u001b[39m,\n",
      "    \u001b[38;2;0;128;0;01m\"uuid\"\u001b[39;00m: \u001b[38;2;186;33;33m\"2d23a66c-0837-49c2-81a8-cf64236f3f47\"\u001b[39m,\n",
      "    \u001b[38;2;0;128;0;01m\"email\"\u001b[39;00m: \u001b[38;2;186;33;33m\"ksanchez@hotmail.com\"\u001b[39m,\n",
      "    \u001b[38;2;0;128;0;01m\"score\"\u001b[39;00m: \u001b[38;2;102;102;102m2082\u001b[39m\n",
      "  },\n",
      "  {\n",
      "    \u001b[38;2;0;128;0;01m\"numeric_id\"\u001b[39;00m: \u001b[38;2;102;102;102m1\u001b[39m,\n",
      "    \u001b[38;2;0;128;0;01m\"uuid\"\u001b[39;00m: \u001b[38;2;186;33;33m\"492620c2-455e-4ae5-b874-2a65ce3976ad\"\u001b[39m,\n",
      "    \u001b[38;2;0;128;0;01m\"email\"\u001b[39;00m: \u001b[38;2;186;33;33m\"qbenson@gmail.com\"\u001b[39m,\n",
      "    \u001b[38;2;0;128;0;01m\"score\"\u001b[39;00m: \u001b[38;2;102;102;102m8032\u001b[39m\n",
      "  }\n",
      "]\n",
      "\n"
     ]
    }
   ],
   "source": [
    "ppj(Collection(c.items[:2]).as_json(indent=2))"
   ]
  },
  {
   "cell_type": "code",
   "execution_count": 34,
   "id": "9db16564-7191-438a-b181-a8ac35bfae86",
   "metadata": {},
   "outputs": [],
   "source": [
    "@dataclass\n",
    "class Collection:\n",
    "    items: List[Element]\n",
    "\n",
    "    def from_raw(items):\n",
    "        return Collection(list(map(Element.from_api, items)))\n",
    "\n",
    "    def __getitem__(self, i):\n",
    "        return Collection(self.items[i])\n",
    "    \n",
    "    @property\n",
    "    def emails(self):\n",
    "        return [el.email for el in self.items]\n",
    "\n",
    "    def __iter__(self):\n",
    "        yield from self.items\n",
    "        \n",
    "    def filter_records(self, pred):\n",
    "        return Collection(list(filter(pred, self.items)))\n",
    "    \n",
    "    def as_json(self, **kwargs):\n",
    "        return json.dumps(\n",
    "            [asdict(el) for el in self.items],\n",
    "            **kwargs\n",
    "        )"
   ]
  },
  {
   "cell_type": "code",
   "execution_count": 35,
   "id": "6d41a3f7-6158-4936-ba06-060a562b4df0",
   "metadata": {},
   "outputs": [
    {
     "name": "stdout",
     "output_type": "stream",
     "text": [
      "[\n",
      "  {\n",
      "    \u001b[38;2;0;128;0;01m\"numeric_id\"\u001b[39;00m: \u001b[38;2;102;102;102m1\u001b[39m,\n",
      "    \u001b[38;2;0;128;0;01m\"uuid\"\u001b[39;00m: \u001b[38;2;186;33;33m\"dfe7fdbd-9f3d-444d-a856-7552fab7acdf\"\u001b[39m,\n",
      "    \u001b[38;2;0;128;0;01m\"email\"\u001b[39;00m: \u001b[38;2;186;33;33m\"moorejoshua@martin.com\"\u001b[39m,\n",
      "    \u001b[38;2;0;128;0;01m\"score\"\u001b[39;00m: \u001b[38;2;102;102;102m8345\u001b[39m\n",
      "  }\n",
      "]\n",
      "\n",
      "[\n",
      "  {\n",
      "    \u001b[38;2;0;128;0;01m\"numeric_id\"\u001b[39;00m: \u001b[38;2;102;102;102m1\u001b[39m,\n",
      "    \u001b[38;2;0;128;0;01m\"uuid\"\u001b[39;00m: \u001b[38;2;186;33;33m\"dfe7fdbd-9f3d-444d-a856-7552fab7acdf\"\u001b[39m,\n",
      "    \u001b[38;2;0;128;0;01m\"email\"\u001b[39;00m: \u001b[38;2;186;33;33m\"moorejoshua@martin.com\"\u001b[39m,\n",
      "    \u001b[38;2;0;128;0;01m\"score\"\u001b[39;00m: \u001b[38;2;102;102;102m8345\u001b[39m\n",
      "  },\n",
      "  {\n",
      "    \u001b[38;2;0;128;0;01m\"numeric_id\"\u001b[39;00m: \u001b[38;2;102;102;102m2\u001b[39m,\n",
      "    \u001b[38;2;0;128;0;01m\"uuid\"\u001b[39;00m: \u001b[38;2;186;33;33m\"64a35f6e-1561-430a-9c5a-fe89739e06d6\"\u001b[39m,\n",
      "    \u001b[38;2;0;128;0;01m\"email\"\u001b[39;00m: \u001b[38;2;186;33;33m\"george24@hotmail.com\"\u001b[39m,\n",
      "    \u001b[38;2;0;128;0;01m\"score\"\u001b[39;00m: \u001b[38;2;102;102;102m1768\u001b[39m\n",
      "  }\n",
      "]\n",
      "\n"
     ]
    }
   ],
   "source": [
    "c = Collection.from_raw(paginate(iterate()))\n",
    "\n",
    "ppj(c[1:2].as_json(indent=2))\n",
    "ppj(c[1:3].as_json(indent=2))"
   ]
  },
  {
   "cell_type": "markdown",
   "id": "66d1d473-11b5-44ff-b802-9b291233f908",
   "metadata": {},
   "source": [
    "### Sorting!\n",
    "\n",
    "You can sort easily if you already have handy methods available for getting the values to sort by"
   ]
  },
  {
   "cell_type": "code",
   "execution_count": 36,
   "id": "713b2c6d-4835-4359-ae92-220b8cd94fee",
   "metadata": {},
   "outputs": [
    {
     "data": {
      "text/plain": [
       "[Element(numeric_id=3, uuid='23b2b93e-24a5-49db-8c7f-76db20aedc55', email='floresbrandon@hotmail.com', score=1396),\n",
       " Element(numeric_id=2, uuid='64a35f6e-1561-430a-9c5a-fe89739e06d6', email='george24@hotmail.com', score=1768),\n",
       " Element(numeric_id=5, uuid='5431ad4c-6feb-45a9-ba71-4b5e42ecec8c', email='travis87@blake-brown.biz', score=2949),\n",
       " Element(numeric_id=8, uuid='c0edd942-2078-48ee-8c6a-93246a0e340e', email='carolburns@hotmail.com', score=3815),\n",
       " Element(numeric_id=0, uuid='89d6a291-e484-4149-838b-ebbcb7a87f5f', email='cherylellis@giles.com', score=5285),\n",
       " Element(numeric_id=6, uuid='79378ef4-49ea-4601-b6b2-59b062a81ecf', email='rbrown@hotmail.com', score=6605),\n",
       " Element(numeric_id=8, uuid='e17478a5-c64e-4cc0-a77d-3199d1f5579b', email='brenda03@casey-sharp.com', score=7416),\n",
       " Element(numeric_id=1, uuid='dfe7fdbd-9f3d-444d-a856-7552fab7acdf', email='moorejoshua@martin.com', score=8345),\n",
       " Element(numeric_id=7, uuid='7a2217a7-5864-4307-9f5a-9720d1a5a0b2', email='wrightjennifer@young.com', score=9330),\n",
       " Element(numeric_id=4, uuid='9176c40f-f634-4080-a167-595388b9bb04', email='wgomez@oconnor-carter.net', score=9961)]"
      ]
     },
     "execution_count": 36,
     "metadata": {},
     "output_type": "execute_result"
    }
   ],
   "source": [
    "list(sorted(c, key=lambda x: x.score))"
   ]
  },
  {
   "cell_type": "code",
   "execution_count": null,
   "id": "ca208a4a-7ec8-4f9d-b1cb-718413c3e9f3",
   "metadata": {},
   "outputs": [],
   "source": []
  }
 ],
 "metadata": {
  "kernelspec": {
   "display_name": "Python 3",
   "language": "python",
   "name": "python3"
  },
  "language_info": {
   "codemirror_mode": {
    "name": "ipython",
    "version": 3
   },
   "file_extension": ".py",
   "mimetype": "text/x-python",
   "name": "python",
   "nbconvert_exporter": "python",
   "pygments_lexer": "ipython3",
   "version": "3.9.2"
  }
 },
 "nbformat": 4,
 "nbformat_minor": 5
}
