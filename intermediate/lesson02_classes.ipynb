{
 "cells": [
  {
   "cell_type": "markdown",
   "id": "municipal-tactics",
   "metadata": {},
   "source": [
    "# Lesson 2: Class Warfare\n",
    "\n",
    "> Disclaimer: Most of these points should only be applied to Python.\n",
    "\n",
    "- Overutilising or underutilising classes can lead to ruin\n",
    "- Classes can be a powerful tool or an endless garden path"
   ]
  },
  {
   "cell_type": "markdown",
   "id": "quantitative-partition",
   "metadata": {},
   "source": [
    "## Benefits vs Drawbacks\n",
    "\n",
    "### Benefits\n",
    "\n",
    "- Can keep track of state\n",
    "  - No need to pass parameters back and forth\n",
    "  - No thread-unsafe global variables\n",
    "  - Can logically initialise state and then use it\n",
    "- Can organise a hierarcy of states that belong together"
   ]
  },
  {
   "cell_type": "code",
   "execution_count": null,
   "id": "varied-paintball",
   "metadata": {},
   "outputs": [],
   "source": [
    "# We need to represent a person, with limbs and a torso, and name/age\n",
    "\n"
   ]
  },
  {
   "cell_type": "markdown",
   "id": "polish-responsibility",
   "metadata": {},
   "source": [
    "## Functions vs Classes\n",
    "\n",
    "### Functions vs Methods\n",
    "\n",
    "In python\n",
    "\n",
    "- a **function** takes parameters, returns a value\n",
    "- a **method** can be called on an object, and can access state in the object"
   ]
  }
 ],
 "metadata": {
  "kernelspec": {
   "display_name": "Python 3",
   "language": "python",
   "name": "python3"
  },
  "language_info": {
   "codemirror_mode": {
    "name": "ipython",
    "version": 3
   },
   "file_extension": ".py",
   "mimetype": "text/x-python",
   "name": "python",
   "nbconvert_exporter": "python",
   "pygments_lexer": "ipython3",
   "version": "3.9.2"
  }
 },
 "nbformat": 4,
 "nbformat_minor": 5
}
