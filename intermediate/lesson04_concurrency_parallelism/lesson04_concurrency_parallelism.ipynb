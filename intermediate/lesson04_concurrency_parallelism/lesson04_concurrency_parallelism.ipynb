{
 "cells": [
  {
   "cell_type": "markdown",
   "id": "9cfefd37-a378-42f0-b0dc-3b479bbaec1e",
   "metadata": {},
   "source": [
    "# Lesson 04: Concurrency & Parallelism"
   ]
  },
  {
   "cell_type": "markdown",
   "id": "9b999bdd-43f0-4854-b4c7-616a05484547",
   "metadata": {},
   "source": [
    "## 1. Parallelism\n",
    "\n",
    "Compared to concurrency, parallelism is easier to use, and is _usually_ easier to think about and design.\n",
    "\n",
    "We can explore this through a data-processing scenario: going through a very large CSV/JSON doc and filtering out columns or keys.\n",
    "This is usually done when selecting a relevant subset of data from a very broad data set, usually sourced from a 3rd party.\n",
    "\n",
    "e.g. You want to download the wikipedia dataset and filter for actors, movie titles and release years, so that you can make a simple and comprehensive list.\n",
    "\n",
    "e.g.2 You want to make a demo example for this lesson, so you have to fake the data before demonstrating the filtering\n",
    "\n",
    "### Example 1: Generating a text file\n",
    "\n",
    "1. We need to generate a _very_ large NDJSON file (newline-delimited JSON). For simplicities sake, all lines are readable/same schema etc.\n",
    "\n",
    "    ```json\n",
    "    {\"a\": \"B\"}\n",
    "    {\"a\": \"C\"}\n",
    "    ```\n",
    "\n",
    "1.1. There are many language and OS-level optimisations around doing the _exact_ same thing, like performing the same calculation over the same file line data. This means that we have to randomise the values in order to make a good test file.\n",
    "\n",
    "    > use `faker`"
   ]
  },
  {
   "cell_type": "code",
   "execution_count": 36,
   "id": "4e6af7de-b21f-4443-a90c-98ec77e96e27",
   "metadata": {},
   "outputs": [],
   "source": [
    "from faker import (Faker, providers)\n",
    "F = Faker()\n",
    "F.add_provider(providers.misc)\n",
    "F.add_provider(providers.geo)"
   ]
  },
  {
   "cell_type": "code",
   "execution_count": 37,
   "id": "bb873a55-b643-4322-ab8e-958a05e9fa96",
   "metadata": {},
   "outputs": [],
   "source": [
    "def fkr_n(fkr, n): return [fkr() for _ in range(n)]"
   ]
  },
  {
   "cell_type": "code",
   "execution_count": 38,
   "id": "7b818fc6-b32d-4593-8a7d-52128e90e316",
   "metadata": {},
   "outputs": [],
   "source": [
    "def gen_movie(f=F):\n",
    "    return {\n",
    "        \"titleId\":         f.uuid4(),\n",
    "        \"ordering\":        f.random_int(),\n",
    "        \"title\":           f.catch_phrase(),\n",
    "        \"region\":          f.locale(),\n",
    "        \"language\":        f.language_name(),\n",
    "        \"types\":           fkr_n(f.name, 5),\n",
    "        \"attributes\":      fkr_n(f.name, 5),\n",
    "        \"isOriginalTitle\": f.boolean(),\n",
    "        \"tconst\":          f.uuid4(),\n",
    "        \"titleType\":       f.domain_name(),\n",
    "        \"primaryTitle\":    f.catch_phrase(),\n",
    "        \"originalTitle\":   \":\".join([f.company(), f.catch_phrase()]),\n",
    "        \"isAdult\":         f.boolean(),\n",
    "        \"startYear\":       f.date(),\n",
    "        \"endYear\":         f.year(),\n",
    "        \"runtimeMinutes\":  f.random_int(),\n",
    "        \"genres\":          fkr_n(f.country, 5),\n",
    "        \"tconst\":          f.hex_color(),\n",
    "        \"directors\":       fkr_n(f.name, 2),\n",
    "        \"writers\":         fkr_n(f.name, 15),\n",
    "        \"actors\":          fkr_n(f.name, 50),\n",
    "    }"
   ]
  },
  {
   "cell_type": "code",
   "execution_count": 39,
   "id": "cae05daa-f21f-449c-82d1-c7682bc7aae1",
   "metadata": {},
   "outputs": [
    {
     "data": {
      "application/json": {
       "actors": [
        "Ryan Rivera",
        "Gabriel Wood",
        "Jennifer Lynch",
        "Jennifer Monroe",
        "Rachel Richards",
        "Jay Brooks",
        "Mary Lowe",
        "Michael Diaz",
        "Barry King",
        "Daniel Rowland",
        "Monica Brown",
        "Melissa Bass",
        "Lindsey Cline",
        "Bradley Vargas",
        "Zachary Thomas",
        "Dwayne Mack",
        "Allison Rodriguez",
        "Harry Becker",
        "Brandon Chan",
        "Kelly Craig",
        "Cheryl Perry",
        "Michele Wells",
        "Terry Anderson",
        "Rachel Jensen",
        "Robert Morrison",
        "Patricia Pittman",
        "Joseph Jackson",
        "Mr. Darren Sanders",
        "Susan Guerra",
        "Amanda Munoz",
        "Amanda Knox",
        "Marissa Stout",
        "Stacy Griffith",
        "Amanda White",
        "Michael Flores",
        "Brianna Rodgers",
        "Cindy Harrison",
        "Albert Moore",
        "Lisa Johnson",
        "Molly Johnson",
        "Jose Flowers",
        "Jillian Gibson",
        "Erica Martinez",
        "Christopher Chavez",
        "Dylan Harding",
        "Carla Smith",
        "Angela Gay",
        "Julie Guzman",
        "Isabel Williams",
        "Ronald Steele"
       ],
       "attributes": [
        "Joseph Lucas",
        "Stephanie Boyle",
        "Gregory Morris",
        "Brandon Butler",
        "Brian Gomez"
       ],
       "directors": [
        "David Stark",
        "Erin Valentine"
       ],
       "endYear": "1973",
       "genres": [
        "Chad",
        "Serbia",
        "Singapore",
        "Cameroon",
        "Pakistan"
       ],
       "isAdult": true,
       "isOriginalTitle": false,
       "language": "German",
       "ordering": 6475,
       "originalTitle": "Perry-Davidson:Reverse-engineered global infrastructure",
       "primaryTitle": "Self-enabling needs-based database",
       "region": "ts_ZA",
       "runtimeMinutes": 3738,
       "startYear": "2017-08-12",
       "tconst": "#af9b8f",
       "title": "Profound asymmetric infrastructure",
       "titleId": "5f51dd85-6396-4690-a759-8e9c8235bc8f",
       "titleType": "wood-turner.com",
       "types": [
        "Rick Lopez",
        "William Bates",
        "Rachel Decker",
        "Mr. Charles Gregory",
        "William Brock"
       ],
       "writers": [
        "Lisa Klein",
        "John Johnson",
        "Martin Campbell",
        "Antonio Bradley",
        "Amy Lee",
        "Rebecca Cain",
        "Blake Hernandez",
        "Amy Norris",
        "Latasha Hall",
        "Toni Lewis",
        "Richard Hill",
        "Zachary Sloan",
        "Nicholas Francis",
        "Laura Stewart",
        "Stephen Ross"
       ]
      },
      "text/plain": [
       "<IPython.core.display.JSON object>"
      ]
     },
     "execution_count": 39,
     "metadata": {
      "application/json": {
       "expanded": false,
       "root": "root"
      }
     },
     "output_type": "execute_result"
    }
   ],
   "source": [
    "import json\n",
    "from IPython.display import JSON\n",
    "JSON(gen_movie(F))"
   ]
  },
  {
   "cell_type": "markdown",
   "id": "9ecf39df-2168-4231-8530-72516a1e7b1c",
   "metadata": {},
   "source": [
    "Woohoo! Now we just need to write this to a file\n",
    "\n",
    "Lets make a function that loops and `yields` data"
   ]
  },
  {
   "cell_type": "code",
   "execution_count": 40,
   "id": "851dfbf4-7d81-4e31-8a36-56944a564bc0",
   "metadata": {},
   "outputs": [],
   "source": [
    "class MovieTable:\n",
    "    def records(fpath, n_records=10):\n",
    "        print(f\"Writing {n_records} records to {fpath}\")\n",
    "        with open(fpath, \"w\") as ostream:\n",
    "            for line in MovieTable.iter(n_records):\n",
    "                print(line, file=ostream)\n",
    "\n",
    "    def iter(n_records=10):\n",
    "        for _ in range(n_records):\n",
    "            yield gen_movie()"
   ]
  },
  {
   "cell_type": "code",
   "execution_count": 41,
   "id": "87e5bf97-93ba-427b-8f4e-97beb3b939a1",
   "metadata": {},
   "outputs": [
    {
     "name": "stdout",
     "output_type": "stream",
     "text": [
      "Writing 20 records to /tmp/movies.ndjson\n",
      "Writing 20 records to /tmp/movies.ndjson\n",
      "Writing 20 records to /tmp/movies.ndjson\n",
      "Writing 20 records to /tmp/movies.ndjson\n",
      "Writing 20 records to /tmp/movies.ndjson\n",
      "Writing 20 records to /tmp/movies.ndjson\n",
      "Writing 20 records to /tmp/movies.ndjson\n",
      "Writing 20 records to /tmp/movies.ndjson\n",
      "243 ms ± 40.7 ms per loop (mean ± std. dev. of 7 runs, 1 loop each)\n"
     ]
    }
   ],
   "source": [
    "%timeit MovieTable.records(\"/tmp/movies.ndjson\", 20)"
   ]
  },
  {
   "cell_type": "markdown",
   "id": "0bbec93f-5a10-46ca-919e-c03902e467a5",
   "metadata": {},
   "source": [
    "But I need to show you the CPU usage _per core_!\n",
    "\n",
    "What about threading?\n",
    "\n",
    "> Use psutil"
   ]
  },
  {
   "cell_type": "code",
   "execution_count": 42,
   "id": "74bea59e",
   "metadata": {},
   "outputs": [],
   "source": [
    "import psutil\n",
    "def cpu():\n",
    "    print(\"\\t\".join(map(str, psutil.cpu_percent(percpu=True))))"
   ]
  },
  {
   "cell_type": "code",
   "execution_count": 43,
   "id": "2b45191d",
   "metadata": {},
   "outputs": [
    {
     "name": "stdout",
     "output_type": "stream",
     "text": [
      "0\n",
      "3.7\t4.0\t3.7\t3.1\t2.7\t3.2\n",
      "1\n",
      "2\n",
      "3\n",
      "4\n"
     ]
    }
   ],
   "source": [
    "import threading\n",
    "import time\n",
    "\n",
    "def loop_with_timer():\n",
    "    timer = threading.Timer(1, cpu, args=None, kwargs=None)\n",
    "    timer.start()\n",
    "\n",
    "    # Actually do stuff here\n",
    "    for i in range(5):\n",
    "        print(i)\n",
    "        time.sleep(1)\n",
    "\n",
    "    timer.cancel()\n",
    "\n",
    "loop_with_timer()"
   ]
  },
  {
   "cell_type": "markdown",
   "id": "afe74dba",
   "metadata": {},
   "source": [
    "Huh? The threading. Timer only printed once?!\n",
    "\n",
    "- The \"interval\" of the timer is more like a \"delay\"   \n",
    "- from the docs:\n",
    "    ```\n",
    "    \"Create a timer that will run function with arguments args and keyword arguments kwargs, \n",
    "    after interval seconds have passed.\"\n",
    "    ```"
   ]
  },
  {
   "cell_type": "code",
   "execution_count": 44,
   "id": "7157877f",
   "metadata": {},
   "outputs": [
    {
     "name": "stdout",
     "output_type": "stream",
     "text": [
      "0\n",
      "1\n",
      "3.6\t7.9\t7.1\t5.4\t4.8\t4.3\n",
      "2\n",
      "3\n",
      "1.5\t1.5\t0.5\t3.5\t0.5\t1.5\n",
      "4\n"
     ]
    }
   ],
   "source": [
    "# Shout out -> https://stackoverflow.com/a/48741004\n",
    "class RepeatTimer(threading.Timer):\n",
    "    def run(self):\n",
    "        while not self.finished.wait(self.interval):\n",
    "            self.function(*self.args, **self.kwargs)\n",
    "\n",
    "def loop_with_timer():\n",
    "    timer = RepeatTimer(2, cpu, args=None, kwargs=None)\n",
    "    timer.start()\n",
    "\n",
    "    for i in range(5):\n",
    "        print(i)\n",
    "        time.sleep(1)\n",
    "\n",
    "    timer.cancel()\n",
    "\n",
    "loop_with_timer()"
   ]
  },
  {
   "cell_type": "markdown",
   "id": "67bdc755",
   "metadata": {},
   "source": [
    "Hmmm, there's a downside here -   \n",
    "In every function that we want to track CPU usage for, we have to add all of this threading code -_-\n",
    "\n",
    "However - we could make a decorator function that would allow anything to be timed just by adding a @decoration"
   ]
  },
  {
   "cell_type": "code",
   "execution_count": 45,
   "id": "02825ce2",
   "metadata": {},
   "outputs": [],
   "source": [
    "import functools\n",
    "\n",
    "def with_cpu(func):\n",
    "    'Looks gross, but you only have to write it once!'\n",
    "\n",
    "    @functools.wraps(func)\n",
    "    def wrapper(*args, **kwargs):\n",
    "        timer = RepeatTimer(1, cpu, args=None, kwargs=None)\n",
    "        timer.start()\n",
    "\n",
    "        result = func(*args, **kwargs)\n",
    "\n",
    "        timer.cancel()\n",
    "        print(\"fin!\")\n",
    "        return result\n",
    "    return wrapper"
   ]
  },
  {
   "cell_type": "markdown",
   "id": "6bda1a64",
   "metadata": {},
   "source": [
    "Now, we can just add `@with_cpu` to any function that we need to investigate"
   ]
  },
  {
   "cell_type": "code",
   "execution_count": 46,
   "id": "160c61c7",
   "metadata": {},
   "outputs": [],
   "source": [
    "@with_cpu\n",
    "def poc():\n",
    "    for i in range(5):\n",
    "        print(i)\n",
    "        time.sleep(1)"
   ]
  },
  {
   "cell_type": "code",
   "execution_count": 47,
   "id": "6bd68fae",
   "metadata": {},
   "outputs": [
    {
     "name": "stdout",
     "output_type": "stream",
     "text": [
      "0\n",
      "1.9\t1.9\t5.1\t2.8\t2.3\t3.3\n",
      "1\n",
      "7.4\t4.1\t5.1\t8.3\t5.2\t5.1\n",
      "2\n",
      "3\n",
      "2.0\t2.0\t4.1\t3.0\t1.0\t2.0\n",
      "4\n",
      "8.1\t2.1\t5.0\t3.0\t2.0\t1.0\n",
      "fin!\n"
     ]
    }
   ],
   "source": [
    "poc()"
   ]
  },
  {
   "cell_type": "markdown",
   "id": "25978890",
   "metadata": {},
   "source": [
    "Let's add the decorator to our `MovieTable.records` method"
   ]
  },
  {
   "cell_type": "code",
   "execution_count": 48,
   "id": "0e3aeea5",
   "metadata": {},
   "outputs": [],
   "source": [
    "import math\n",
    "class MovieTable:\n",
    "    @with_cpu\n",
    "    def records(fpath, n_records=10):\n",
    "        print(f\"Writing {n_records} records to {fpath}\")\n",
    "        with open(fpath, \"w\") as ostream:\n",
    "            for i, line in enumerate(MovieTable.iter(n_records)):\n",
    "                print(line, file=ostream)\n",
    "\n",
    "    def iter(n_records=10):\n",
    "        for _ in range(n_records):\n",
    "            yield gen_movie()"
   ]
  },
  {
   "cell_type": "code",
   "execution_count": 49,
   "id": "e669530d",
   "metadata": {},
   "outputs": [
    {
     "name": "stdout",
     "output_type": "stream",
     "text": [
      "Writing 500 records to /tmp/movies.ndjson\n",
      "3.3\t3.3\t0.9\t3.8\t47.2\t6.6\n",
      "1.0\t100.0\t0.0\t1.0\t0.0\t0.0\n",
      "1.0\t100.0\t2.0\t4.0\t0.0\t2.0\n",
      "0.0\t99.0\t0.0\t1.9\t0.0\t1.0\n",
      "10.0\t100.0\t5.0\t5.1\t8.1\t8.0\n",
      "1.0\t100.0\t0.0\t0.0\t1.0\t0.0\n",
      "fin!\n"
     ]
    }
   ],
   "source": [
    "MovieTable.records(\"/tmp/movies.ndjson\", 500)"
   ]
  },
  {
   "cell_type": "markdown",
   "id": "d64f8214",
   "metadata": {},
   "source": [
    "Nice!\n",
    "\n",
    "- Now we're running some code, an running another looping bit of code in a thread on the side.\n",
    "- We can see that we are currently using 1 core\n",
    "\n",
    "- what about `async`?"
   ]
  },
  {
   "cell_type": "code",
   "execution_count": 50,
   "id": "c2ec4561-a162-4968-88a2-5897c0f58b8e",
   "metadata": {},
   "outputs": [],
   "source": [
    "import json\n",
    "import asyncio\n",
    "from dataclasses import dataclass\n",
    "import functools\n",
    "\n",
    "import psutil\n",
    "\n",
    "@dataclass\n",
    "class Timer:\n",
    "    f: object\n",
    "    sentinel: bool = False\n",
    "\n",
    "    def task(self):\n",
    "        async def run():\n",
    "            while not self.sentinel:\n",
    "                self.f()\n",
    "                await asyncio.sleep(1)\n",
    "        return asyncio.create_task(run())\n",
    "\n",
    "    async def stop(self):\n",
    "        self.sentinel = True\n",
    "\n",
    "async def run_with_timer(f: functools.partial, t: Timer):\n",
    "    tsk = t.task()\n",
    "    await f()\n",
    "    tsk.cancel()\n",
    "\n",
    "    try:\n",
    "        await tsk\n",
    "    except asyncio.CancelledError:\n",
    "        print(\"finished\")"
   ]
  },
  {
   "cell_type": "code",
   "execution_count": 51,
   "id": "75822a40-5374-47a0-9512-fc9046df9531",
   "metadata": {},
   "outputs": [],
   "source": [
    "class AMovieTable:\n",
    "    async def records(fpath, n_records=10):\n",
    "        print(f\"Writing {n_records} records to {fpath}\")\n",
    "        with open(fpath, \"w\") as ostream:\n",
    "            for _ in range(n_records):\n",
    "                print(json.dumps(gen_movie()), file=ostream, end=\"\\n\")\n",
    "                await asyncio.sleep(0)"
   ]
  },
  {
   "cell_type": "code",
   "execution_count": 52,
   "id": "7996b881-e88a-47e6-a24d-a25c3e3d64a0",
   "metadata": {},
   "outputs": [],
   "source": [
    "import asyncio\n",
    "\n",
    "def run_async(f):\n",
    "    try:\n",
    "        loop = asyncio.get_running_loop()\n",
    "    except RuntimeError:  # 'RuntimeError: There is no current event loop...'\n",
    "        loop = None\n",
    "\n",
    "    if loop and loop.is_running():\n",
    "        task = loop.create_task(f)\n",
    "        task.add_done_callback(lambda _: print('fin!'))\n",
    "    else:\n",
    "        asyncio.run(f)\n",
    "\n",
    "run_async(\n",
    "    run_with_timer(functools.partial(AMovieTable.records, *(\"/tmp/movies.ndjson\",500)), Timer(cpu))\n",
    ")"
   ]
  },
  {
   "cell_type": "markdown",
   "id": "b0f04891",
   "metadata": {},
   "source": [
    "Cool, cool. How could we do the same thing, but with a decorator?"
   ]
  },
  {
   "cell_type": "code",
   "execution_count": 53,
   "id": "66d46424",
   "metadata": {},
   "outputs": [
    {
     "name": "stdout",
     "output_type": "stream",
     "text": [
      "Writing 500 records to /tmp/movies.ndjson\n",
      "3.2\t66.7\t6.2\t10.8\t7.8\t6.2\n"
     ]
    }
   ],
   "source": [
    "\n",
    "def awith_cpu(func):\n",
    "    @functools.wraps(func)\n",
    "    async def wrapped(*args, **kwargs):\n",
    "        tsk = Timer(cpu).task()\n",
    "        result = await func(*args, **kwargs)\n",
    "        tsk.cancel()\n",
    "        try:\n",
    "            await tsk\n",
    "        except asyncio.CancelledError:\n",
    "            print(\"fin!\")\n",
    "            return result\n",
    "    return wrapped"
   ]
  },
  {
   "cell_type": "code",
   "execution_count": 61,
   "id": "5ddeb960",
   "metadata": {},
   "outputs": [
    {
     "name": "stdout",
     "output_type": "stream",
     "text": [
      "Writing 500 records to /tmp/movies.ndjson\n",
      "17.0\t13.5\t10.8\t2.7\t5.6\t11.3\n",
      "100.0\t3.0\t2.9\t1.0\t2.0\t1.9\n",
      "100.0\t2.9\t0.0\t1.0\t1.0\t0.0\n",
      "100.0\t5.9\t1.0\t2.0\t1.0\t1.0\n",
      "99.0\t2.9\t1.0\t0.0\t1.9\t0.0\n",
      "100.0\t4.0\t0.0\t5.0\t1.0\t1.9\n",
      "fin!\n",
      "callback fin!\n"
     ]
    }
   ],
   "source": [
    "class AMovieTable:\n",
    "    @awith_cpu\n",
    "    async def records(fpath, n_records=10):\n",
    "        print(f\"Writing {n_records} records to {fpath}\")\n",
    "        with open(fpath, \"w\") as ostream:\n",
    "            for _ in range(n_records):\n",
    "                print(json.dumps(gen_movie()), file=ostream, end=\"\\n\")\n",
    "                await asyncio.sleep(0)\n",
    "\n",
    "import asyncio\n",
    "\n",
    "def run_async(f):\n",
    "    try:\n",
    "        loop = asyncio.get_running_loop()\n",
    "    except RuntimeError:  # 'RuntimeError: There is no current event loop...'\n",
    "        loop = None\n",
    "\n",
    "    if loop and loop.is_running():\n",
    "        task = loop.create_task(f)\n",
    "        task.add_done_callback(lambda _: print('callback fin!'))\n",
    "    else:\n",
    "        asyncio.run(f)\n",
    "run_async(AMovieTable.records(\"/tmp/movies.ndjson\",500))"
   ]
  },
  {
   "cell_type": "code",
   "execution_count": 55,
   "id": "68a2c7ab-b01a-4552-8139-2387f65f17b3",
   "metadata": {},
   "outputs": [
    {
     "name": "stdout",
     "output_type": "stream",
     "text": [
      "Writing 500 records to /tmp/movies.ndjson\n",
      "14.8\t4.3\t11.5\t96.3\t28.0\t3.8\n",
      "4 /tmp/movies.ndjson\n",
      "-rw-r--r-- 1 jovyan users 23K Nov 30 11:25 /tmp/movies.ndjson\n"
     ]
    }
   ],
   "source": [
    "!wc -l \"/tmp/movies.ndjson\" && ls -alh \"/tmp/movies.ndjson\""
   ]
  },
  {
   "cell_type": "code",
   "execution_count": 62,
   "id": "fd036493-4c7f-48d3-b6c3-c7d515c8ccb4",
   "metadata": {},
   "outputs": [
    {
     "name": "stdout",
     "output_type": "stream",
     "text": [
      "Writing 500 records to /tmp/movies.ndjson\n",
      "Writing 500 records to /tmp/movies2.ndjson\n",
      "25.2\t1.8\t13.2\t1.5\t1.0\t13.1\n",
      "25.3\t2.0\t13.3\t1.6\t1.0\t13.2\n",
      "100.0\t99.0\t99.0\t7.0\t3.0\t4.9\n",
      "100.0\t99.0\t99.0\t6.7\t4.7\t3.7\n",
      "100.0\t100.0\t100.0\t3.8\t2.9\t0.0\n",
      "99.0\t100.0\t100.0\t3.0\t2.0\t1.0\n",
      "56.9\t100.0\t58.0\t26.2\t36.0\t37.3\n",
      "53.9\t100.0\t54.5\t26.2\t39.6\t41.2\n",
      "1.0\t100.0\t2.1\t2.0\t99.0\t100.0\n",
      "1.0\t100.0\t2.1\t2.9\t99.0\t99.0\n",
      "4.0\t100.0\t6.2\t11.7\t100.0\t99.0\n",
      "5.1\t100.0\t6.3\t11.9\t100.0\t100.0\n",
      "2.0\t100.0\t1.0\t3.9\t100.0\t100.0\n",
      "1.0\t100.0\t1.0\t3.9\t100.0\t100.0\n",
      "fin!\n",
      "fin!\n",
      "process fin!\n"
     ]
    }
   ],
   "source": [
    "from multiprocessing import Pool, Process\n",
    "\n",
    "procs = []\n",
    "for fpath in [\"/tmp/movies.ndjson\", \"/tmp/movies2.ndjson\"]:\n",
    "    p = Process(target=MovieTable.records, args=(fpath,500))\n",
    "    p.start()\n",
    "    procs.append(p)\n",
    "\n",
    "while True:\n",
    "    if not any(p.is_alive() for p in procs):\n",
    "        print(\"process fin!\")\n",
    "        break"
   ]
  },
  {
   "cell_type": "code",
   "execution_count": 66,
   "id": "264f330c",
   "metadata": {},
   "outputs": [],
   "source": [
    "def run_async_pool(args):\n",
    "    run_async(AMovieTable.records(*args))\n",
    "\n",
    "def _():\n",
    "    with Pool(2) as p:\n",
    "        p.map(run_async_pool, [(\"/tmp/movies.ndjson\", 500), (\"/tmp/movies2.ndjson\", 500)])"
   ]
  },
  {
   "cell_type": "code",
   "execution_count": 67,
   "id": "db6dad87",
   "metadata": {},
   "outputs": [
    {
     "name": "stdout",
     "output_type": "stream",
     "text": [
      "Writing 500 records to /tmp/movies2.ndjsonWriting 500 records to /tmp/movies.ndjson\n",
      "\n",
      "10.0\t12.6\t8.1\t2.6\t8.3\t9.1\n",
      "10.0\t12.6\t8.1\t2.7\t8.3\t9.1\n",
      "82.7\t99.0\t18.8\t2.9\t5.8\t3.8\n",
      "82.9\t100.0\t19.4\t2.0\t5.9\t2.9\n",
      "100.0\t100.0\t1.9\t1.9\t2.0\t0.0\n",
      "100.0\t100.0\t1.9\t1.0\t1.9\t1.9\n",
      "100.0\t100.0\t5.0\t2.0\t2.0\t3.0\n",
      "100.0\t99.0\t3.9\t2.9\t1.0\t1.0\n",
      "99.0\t99.0\t1.0\t1.0\t1.0\t1.0\n",
      "99.0\t100.0\t1.0\t1.0\t1.0\t1.0\n",
      "100.0\t100.0\t2.9\t4.9\t2.9\t2.0\n",
      "100.0\t99.1\t2.9\t5.8\t2.9\t2.0\n",
      "100.0\t99.0\t1.0\t1.9\t0.0\t1.0\n",
      "100.0\t100.0\t1.0\t1.0\t0.0\t1.0\n",
      "fin!\n",
      "fin!\n"
     ]
    }
   ],
   "source": [
    "_()"
   ]
  },
  {
   "cell_type": "code",
   "execution_count": null,
   "id": "d721fa2f",
   "metadata": {},
   "outputs": [],
   "source": []
  }
 ],
 "metadata": {
  "kernelspec": {
   "display_name": "Python 3 (ipykernel)",
   "language": "python",
   "name": "python3"
  },
  "language_info": {
   "codemirror_mode": {
    "name": "ipython",
    "version": 3
   },
   "file_extension": ".py",
   "mimetype": "text/x-python",
   "name": "python",
   "nbconvert_exporter": "python",
   "pygments_lexer": "ipython3",
   "version": "3.9.7"
  }
 },
 "nbformat": 4,
 "nbformat_minor": 5
}
