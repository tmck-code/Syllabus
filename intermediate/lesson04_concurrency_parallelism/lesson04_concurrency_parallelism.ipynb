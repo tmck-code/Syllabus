{
 "cells": [
  {
   "cell_type": "markdown",
   "id": "9cfefd37-a378-42f0-b0dc-3b479bbaec1e",
   "metadata": {},
   "source": [
    "# Lesson 04: Concurrency & Parallelism"
   ]
  },
  {
   "cell_type": "markdown",
   "id": "9b999bdd-43f0-4854-b4c7-616a05484547",
   "metadata": {},
   "source": [
    "## 1. Parallelism\n",
    "\n",
    "Compared to concurrency, parallelism is easier to use, and is _usually_ easier to think about and design.\n",
    "\n",
    "We can explore this through a data-processing scenario: going through a very large CSV/JSON doc and filtering out columns or keys.\n",
    "This is usually done when selecting a relevant subset of data from a very broad data set, usually sourced from a 3rd party.\n",
    "\n",
    "e.g. You want to download the wikipedia dataset and filter for actors, movie titles and release years, so that you can make a simple and comprehensive list.\n",
    "\n",
    "e.g.2 You want to make a demo example for this lesson, so you have to fake the data before demonstrating the filtering\n",
    "\n",
    "### Example 1: Generating a text file\n",
    "\n",
    "1. We need to generate a _very_ large NDJSON file (newline-delimited JSON). For simplicities sake, all lines are readable/same schema etc.\n",
    "\n",
    "    ```json\n",
    "    {\"a\": \"B\"}\n",
    "    {\"a\": \"C\"}\n",
    "    ```\n",
    "\n",
    "1.1. There are many language and OS-level optimisations around doing the _exact_ same thing, like performing the same calculation over the same file line data. This means that we have to randomise the values in order to make a good test file.\n",
    "\n",
    "    > use `faker`\n",
    "    \n",
    "itle.akas.tsv.gz - Contains the following information for titles:\n",
    "\n",
    "titleId (string) - a tconst, an alphanumeric unique identifier of the title\n",
    "ordering (integer) – a number to uniquely identify rows for a given titleId\n",
    "title (string) – the localized title\n",
    "region (string) - the region for this version of the title\n",
    "language (string) - the language of the title\n",
    "types (array) - Enumerated set of attributes for this alternative title. One or more of the following: \"alternative\", \"dvd\", \"festival\", \"tv\", \"video\", \"working\", \"original\", \"imdbDisplay\". New values may be added in the future without warning\n",
    "attributes (array) - Additional terms to describe this alternative title, not enumerated\n",
    "isOriginalTitle (boolean) – 0: not original title; 1: original title\n",
    "title.basics.tsv.gz - Contains the following information for titles:\n",
    "tconst (string) - alphanumeric unique identifier of the title\n",
    "titleType (string) – the type/format of the title (e.g. movie, short, tvseries, tvepisode, video, etc)\n",
    "primaryTitle (string) – the more popular title / the title used by the filmmakers on promotional materials at the point of release\n",
    "originalTitle (string) - original title, in the original language\n",
    "isAdult (boolean) - 0: non-adult title; 1: adult title\n",
    "startYear (YYYY) – represents the release year of a title. In the case of TV Series, it is the series start year\n",
    "endYear (YYYY) – TV Series end year. ‘\\N’ for all other title types\n",
    "runtimeMinutes – primary runtime of the title, in minutes\n",
    "genres (string array) – includes up to three genres associated with the title\n",
    "title.crew.tsv.gz – Contains the director and writer information for all the titles in IMDb. Fields include:\n",
    "tconst (string) - alphanumeric unique identifier of the title\n",
    "directors (array of nconsts) - director(s) of the given title\n",
    "writers (array of nconsts) – writer(s) of the given title"
   ]
  },
  {
   "cell_type": "code",
   "execution_count": 1,
   "id": "4e6af7de-b21f-4443-a90c-98ec77e96e27",
   "metadata": {},
   "outputs": [
    {
     "data": {
      "text/plain": [
       "[None, None]"
      ]
     },
     "execution_count": 1,
     "metadata": {},
     "output_type": "execute_result"
    }
   ],
   "source": [
    "from faker import (Faker, providers)\n",
    "f = Faker()\n",
    "list(map(f.add_provider, [providers.misc, providers.geo]))"
   ]
  },
  {
   "cell_type": "code",
   "execution_count": 2,
   "id": "a8f27e20-0713-4bc0-8aad-3bb941bc2a74",
   "metadata": {},
   "outputs": [
    {
     "data": {
      "text/plain": [
       "<map at 0x7f4688162b80>"
      ]
     },
     "execution_count": 2,
     "metadata": {},
     "output_type": "execute_result"
    }
   ],
   "source": [
    "map(f.name(), range(10))"
   ]
  },
  {
   "cell_type": "code",
   "execution_count": 3,
   "id": "bb873a55-b643-4322-ab8e-958a05e9fa96",
   "metadata": {},
   "outputs": [],
   "source": [
    "def fkr_n(fkr, n): return [fkr() for _ in range(n)]"
   ]
  },
  {
   "cell_type": "code",
   "execution_count": 4,
   "id": "7b818fc6-b32d-4593-8a7d-52128e90e316",
   "metadata": {},
   "outputs": [],
   "source": [
    "def gen_movie():\n",
    "    return {\n",
    "        \"titleId\":         f.uuid4(),\n",
    "        \"ordering\":        f.random_int(),\n",
    "        \"title\":           f.catch_phrase(),\n",
    "        \"region\":          f.locale(),\n",
    "        \"language\":        f.language_name(),\n",
    "        \"types\":           fkr_n(f.name, 5),\n",
    "        \"attributes\":      fkr_n(f.name, 5),\n",
    "        \"isOriginalTitle\": f.boolean(),\n",
    "        \"tconst\":          f.uuid4(),\n",
    "        \"titleType\":       f.domain_name(),\n",
    "        \"primaryTitle\":    f.catch_phrase(),\n",
    "        \"originalTitle\":   \":\".join([f.company(), f.catch_phrase()]),\n",
    "        \"isAdult\":         f.boolean(),\n",
    "        \"startYear\":       f.date(),\n",
    "        \"endYear\":         f.year(),\n",
    "        \"runtimeMinutes\":  f.random_int(),\n",
    "        \"genres\":          fkr_n(f.country, 5),\n",
    "        \"tconst\":          f.hex_color(),\n",
    "        \"directors\":       fkr_n(f.name, 2),\n",
    "        \"writers\":         fkr_n(f.name, 40),\n",
    "        \"actors\":          fkr_n(f.name, 120),\n",
    "    }"
   ]
  },
  {
   "cell_type": "code",
   "execution_count": 5,
   "id": "cae05daa-f21f-449c-82d1-c7682bc7aae1",
   "metadata": {},
   "outputs": [],
   "source": [
    "import json\n",
    "from IPython.display import JSON"
   ]
  },
  {
   "cell_type": "code",
   "execution_count": 6,
   "id": "2671ca84-ff12-4a19-9a3a-fb34ff8b30e0",
   "metadata": {},
   "outputs": [
    {
     "data": {
      "application/json": {
       "actors": [
        "Leslie Ramirez",
        "Curtis Carlson",
        "Mr. Ethan Dennis II",
        "Jason Turner",
        "Gregory Ochoa",
        "Jason Burke",
        "Andrew Hansen",
        "Rodney Sullivan",
        "Annette Garcia",
        "Laura Ellis",
        "Rebecca Galloway",
        "Mark Ward",
        "Ashley Patterson",
        "Jose Cole",
        "Kimberly Bond",
        "Charlene Leonard",
        "Angela Whitaker",
        "Pamela Rivera",
        "Andrew Hill",
        "Tony Shaffer",
        "Tonya Williams",
        "Terry Johnston",
        "Karina Day",
        "Stephanie Duncan",
        "Jennifer Walker",
        "Evan Wilson",
        "Rebecca Molina",
        "Stephanie Atkinson",
        "Brittany Mason",
        "John Collins",
        "Paul Smith",
        "Kelly Taylor",
        "Matthew Peters",
        "Maria White",
        "Deborah Russell",
        "Angela Morris",
        "Jerry Taylor",
        "Katie Grant",
        "Dustin Perez",
        "Chris Barnes",
        "Elizabeth Smith",
        "Cassandra Middleton",
        "Jo Odom",
        "Heather Wilson",
        "Kenneth Wheeler",
        "Donna Thompson",
        "Breanna Christensen",
        "Mr. Jason Mckay",
        "Carly King",
        "Sarah Sutton",
        "Nicholas Morris",
        "Richard Wall",
        "Danielle Cook",
        "Michelle Weaver",
        "Christian Green",
        "Kathryn Myers",
        "Rebecca Moreno",
        "Gina Case",
        "Alexander Wright",
        "Danielle Montes",
        "Taylor Kerr",
        "Mrs. Regina Mathews",
        "Audrey Moore",
        "Kenneth Webb",
        "Joseph Becker",
        "James Le",
        "Rachel Lopez",
        "Kristina Greer",
        "Todd Ray",
        "Melissa Li",
        "Tara Perez",
        "Christine Keith",
        "Tyler Farmer",
        "Victor Daniel",
        "Glenda Johns",
        "Kristin Jackson",
        "Erin Baxter",
        "Nicole Rivera",
        "Frank Johnson",
        "Nicolas Woods",
        "Cody Sullivan",
        "Anthony Simmons",
        "Laura Russell",
        "Christian Edwards",
        "Joe Clark",
        "Dennis Brown",
        "Christina Wilson",
        "Mike Evans",
        "Natalie Caldwell",
        "John Daugherty",
        "Dr. Susan Herman",
        "Ethan Johnson",
        "Jesse Hernandez",
        "Alexis Wilson",
        "Stephanie Bell",
        "Laurie Daniels",
        "Craig Smith",
        "Michael Jacobs",
        "Sandra Smith",
        "Crystal Sanders",
        "Jillian Holland",
        "Michael Warren",
        "Susan Robles",
        "Timothy Hays",
        "Jimmy Sanford",
        "Adam Small",
        "Tony Haney",
        "Kelsey Young",
        "Ryan Kelly",
        "Bradley Barrera",
        "Angel Barrett",
        "John Cook",
        "Brian Rice",
        "Kevin Nelson",
        "Larry Davies",
        "Anita Brady",
        "Jacob Brooks MD",
        "Mr. Cody Weiss",
        "Cheryl Peters",
        "Todd Brown"
       ],
       "attributes": [
        "Erica Snow",
        "Michelle Patterson",
        "Meghan Hamilton",
        "Lisa Hendrix",
        "Zachary Kline"
       ],
       "directors": [
        "Christopher Carpenter",
        "Janice Vasquez"
       ],
       "endYear": "2021",
       "genres": [
        "Gibraltar",
        "British Virgin Islands",
        "Ireland",
        "Saint Pierre and Miquelon",
        "Ecuador"
       ],
       "isAdult": true,
       "isOriginalTitle": false,
       "language": "Tigrinya",
       "ordering": 1182,
       "originalTitle": "Mckay-Blackburn:Implemented transitional website",
       "primaryTitle": "Sharable incremental matrices",
       "region": "sv_SE",
       "runtimeMinutes": 9001,
       "startYear": "2010-09-29",
       "tconst": "#9710cd",
       "title": "Multi-lateral neutral infrastructure",
       "titleId": "9b7501ac-5935-44dc-b771-a499d8a28191",
       "titleType": "spencer-weber.net",
       "types": [
        "Justin Callahan",
        "Justin Perkins",
        "Katherine Richardson",
        "Lindsay Mitchell",
        "Tammy Stanley"
       ],
       "writers": [
        "Jennifer Fleming",
        "Jeffrey Durham",
        "Michael Wallace",
        "Jennifer Miller",
        "Pamela Sharp",
        "Robin Hodges",
        "Tracy Owens",
        "Amber Stout",
        "John Orr",
        "Scott Cole",
        "Brooke Miller",
        "Gregory Gould",
        "Jason Adams",
        "Jonathan Patterson",
        "Bradley Morse",
        "Anthony Herrera",
        "Nicholas Bell",
        "Michelle Hudson",
        "Erica Jones",
        "Dale Barrett",
        "Andrew Reeves",
        "Andrew Choi",
        "Michael Kim",
        "Paul Cook",
        "Donald Garcia",
        "Nicole Escobar",
        "Tara Wallace",
        "Elizabeth White",
        "Phillip Greer",
        "Melinda Anderson",
        "Aaron Miller",
        "Steven Marshall",
        "Brandon Andrews",
        "Jacob Olson",
        "Kyle Garrett",
        "Brittany Sullivan",
        "Samantha Robertson",
        "Madison Rodriguez",
        "Douglas Collins",
        "Lori Barrett"
       ]
      },
      "text/plain": [
       "<IPython.core.display.JSON object>"
      ]
     },
     "execution_count": 6,
     "metadata": {
      "application/json": {
       "expanded": false,
       "root": "root"
      }
     },
     "output_type": "execute_result"
    }
   ],
   "source": [
    "JSON(gen_movie())"
   ]
  },
  {
   "cell_type": "markdown",
   "id": "9ecf39df-2168-4231-8530-72516a1e7b1c",
   "metadata": {},
   "source": [
    "Woohoo! Now we just need to write this to a file"
   ]
  },
  {
   "cell_type": "code",
   "execution_count": 7,
   "id": "851dfbf4-7d81-4e31-8a36-56944a564bc0",
   "metadata": {},
   "outputs": [],
   "source": [
    "class MovieTable:\n",
    "    def records(fpath, n_records=10):\n",
    "        for _ in range(n_records):\n",
    "            yield gen_movie()"
   ]
  },
  {
   "cell_type": "code",
   "execution_count": null,
   "id": "87e5bf97-93ba-427b-8f4e-97beb3b939a1",
   "metadata": {},
   "outputs": [],
   "source": [
    "%time list(MovieTable.records(\"/tmp/movies.ndjson\", 20_000))"
   ]
  }
 ],
 "metadata": {
  "kernelspec": {
   "display_name": "Python 3 (ipykernel)",
   "language": "python",
   "name": "python3"
  },
  "language_info": {
   "codemirror_mode": {
    "name": "ipython",
    "version": 3
   },
   "file_extension": ".py",
   "mimetype": "text/x-python",
   "name": "python",
   "nbconvert_exporter": "python",
   "pygments_lexer": "ipython3",
   "version": "3.9.7"
  }
 },
 "nbformat": 4,
 "nbformat_minor": 5
}
