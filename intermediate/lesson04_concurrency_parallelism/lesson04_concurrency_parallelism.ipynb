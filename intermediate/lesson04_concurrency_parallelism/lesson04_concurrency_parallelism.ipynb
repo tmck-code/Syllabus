{
 "cells": [
  {
   "cell_type": "markdown",
   "id": "9cfefd37-a378-42f0-b0dc-3b479bbaec1e",
   "metadata": {},
   "source": [
    "# Lesson 04: Concurrency & Parallelism"
   ]
  },
  {
   "cell_type": "markdown",
   "id": "9b999bdd-43f0-4854-b4c7-616a05484547",
   "metadata": {},
   "source": [
    "## 1. Parallelism\n",
    "\n",
    "Compared to concurrency, parallelism is easier to use, and is _usually_ easier to think about and design.\n",
    "\n",
    "We can explore this through a data-processing scenario: going through a very large CSV/JSON doc and filtering out columns or keys.\n",
    "This is usually done when selecting a relevant subset of data from a very broad data set, usually sourced from a 3rd party.\n",
    "\n",
    "e.g. You want to download the wikipedia dataset and filter for actors, movie titles and release years, so that you can make a simple and comprehensive list.\n",
    "\n",
    "e.g.2 You want to make a demo example for this lesson, so you have to fake the data before demonstrating the filtering\n",
    "\n",
    "### Example 1: Generating a text file\n",
    "\n",
    "1. We need to generate a _very_ large NDJSON file (newline-delimited JSON). For simplicities sake, all lines are readable/same schema etc.\n",
    "\n",
    "    ```json\n",
    "    {\"a\": \"B\"}\n",
    "    {\"a\": \"C\"}\n",
    "    ```\n",
    "\n",
    "1.1. There are many language and OS-level optimisations around doing the _exact_ same thing, like performing the same calculation over the same file line data. This means that we have to randomise the values in order to make a good test file.\n",
    "\n",
    "    > use `faker`"
   ]
  },
  {
   "cell_type": "code",
   "execution_count": null,
   "id": "4e6af7de-b21f-4443-a90c-98ec77e96e27",
   "metadata": {},
   "outputs": [],
   "source": [
    "from faker import (Faker, providers)\n",
    "F = Faker()\n",
    "F.add_provider(providers.misc)\n",
    "F.add_provider(providers.geo)"
   ]
  },
  {
   "cell_type": "code",
   "execution_count": null,
   "id": "bb873a55-b643-4322-ab8e-958a05e9fa96",
   "metadata": {},
   "outputs": [],
   "source": [
    "def fkr_n(fkr, n): return [fkr() for _ in range(n)]"
   ]
  },
  {
   "cell_type": "code",
   "execution_count": null,
   "id": "7b818fc6-b32d-4593-8a7d-52128e90e316",
   "metadata": {},
   "outputs": [],
   "source": [
    "def gen_movie(f=F):\n",
    "    return {\n",
    "        \"titleId\":         f.uuid4(),\n",
    "        \"ordering\":        f.random_int(),\n",
    "        \"title\":           f.catch_phrase(),\n",
    "        \"region\":          f.locale(),\n",
    "        \"language\":        f.language_name(),\n",
    "        \"types\":           fkr_n(f.name, 5),\n",
    "        \"attributes\":      fkr_n(f.name, 5),\n",
    "        \"isOriginalTitle\": f.boolean(),\n",
    "        \"tconst\":          f.uuid4(),\n",
    "        \"titleType\":       f.domain_name(),\n",
    "        \"primaryTitle\":    f.catch_phrase(),\n",
    "        \"originalTitle\":   \":\".join([f.company(), f.catch_phrase()]),\n",
    "        \"isAdult\":         f.boolean(),\n",
    "        \"startYear\":       f.date(),\n",
    "        \"endYear\":         f.year(),\n",
    "        \"runtimeMinutes\":  f.random_int(),\n",
    "        \"genres\":          fkr_n(f.country, 5),\n",
    "        \"tconst\":          f.hex_color(),\n",
    "        \"directors\":       fkr_n(f.name, 2),\n",
    "        \"writers\":         fkr_n(f.name, 15),\n",
    "        \"actors\":          fkr_n(f.name, 50),\n",
    "    }"
   ]
  },
  {
   "cell_type": "code",
   "execution_count": null,
   "id": "cae05daa-f21f-449c-82d1-c7682bc7aae1",
   "metadata": {},
   "outputs": [],
   "source": [
    "import json\n",
    "from IPython.display import JSON\n",
    "JSON(gen_movie(F))"
   ]
  },
  {
   "cell_type": "markdown",
   "id": "9ecf39df-2168-4231-8530-72516a1e7b1c",
   "metadata": {},
   "source": [
    "Woohoo! Now we just need to write this to a file\n",
    "\n",
    "Lets make a function that loops and `yields` data"
   ]
  },
  {
   "cell_type": "code",
   "execution_count": null,
   "id": "851dfbf4-7d81-4e31-8a36-56944a564bc0",
   "metadata": {},
   "outputs": [],
   "source": [
    "class MovieTable:\n",
    "    def records(fpath, n_records=10):\n",
    "        print(f\"Writing {n_records} records to {fpath}\")\n",
    "        with open(fpath, \"w\") as ostream:\n",
    "            for line in MovieTable.iter(n_records):\n",
    "                print(line, file=ostream)\n",
    "\n",
    "    def iter(n_records=10):\n",
    "        for _ in range(n_records):\n",
    "            yield gen_movie()"
   ]
  },
  {
   "cell_type": "code",
   "execution_count": null,
   "id": "87e5bf97-93ba-427b-8f4e-97beb3b939a1",
   "metadata": {},
   "outputs": [],
   "source": [
    "%timeit MovieTable.records(\"/tmp/movies.ndjson\", 20)"
   ]
  },
  {
   "cell_type": "markdown",
   "id": "0bbec93f-5a10-46ca-919e-c03902e467a5",
   "metadata": {},
   "source": [
    "But I need to show you the CPU usage _per core_!\n",
    "\n",
    "What about threading?\n",
    "\n",
    "> Use psutil"
   ]
  },
  {
   "cell_type": "code",
   "execution_count": null,
   "id": "74bea59e",
   "metadata": {},
   "outputs": [],
   "source": [
    "def cpu():\n",
    "    print(\"\\t\".join(map(str, psutil.cpu_percent(percpu=True))))"
   ]
  },
  {
   "cell_type": "code",
   "execution_count": null,
   "id": "0e3aeea5",
   "metadata": {},
   "outputs": [],
   "source": [
    "import math\n",
    "class MovieTable:\n",
    "    def records(fpath, n_records=10):\n",
    "        print(f\"Writing {n_records} records to {fpath}\")\n",
    "        with open(fpath, \"w\") as ostream:\n",
    "            for i, line in enumerate(MovieTable.iter(n_records)):\n",
    "                if (i+1)%(n_records/100) == 0:\n",
    "                    cpu()\n",
    "                print(line, file=ostream)\n",
    "\n",
    "    def iter(n_records=10):\n",
    "        for _ in range(n_records):\n",
    "            yield gen_movie()"
   ]
  },
  {
   "cell_type": "code",
   "execution_count": null,
   "id": "c2ec4561-a162-4968-88a2-5897c0f58b8e",
   "metadata": {},
   "outputs": [],
   "source": [
    "from itertools import count\n",
    "import json\n",
    "import asyncio\n",
    "from dataclasses import dataclass\n",
    "import functools\n",
    "\n",
    "import psutil\n",
    "\n",
    "@dataclass\n",
    "class Timer:\n",
    "    f: object\n",
    "    sentinel: bool = False\n",
    "\n",
    "    async def run(self):\n",
    "        while not self.sentinel:\n",
    "            self.f()\n",
    "            await asyncio.sleep(1)\n",
    "\n",
    "    def task(self):\n",
    "        return asyncio.create_task(self.run())\n",
    "\n",
    "    async def stop(self):\n",
    "        self.sentinel = True\n",
    "\n",
    "async def run_with_timer(f: functools.partial, t: Timer):\n",
    "    tsk = t.task()\n",
    "    await f()\n",
    "    tsk.cancel()\n",
    "\n",
    "    try:\n",
    "        await tsk\n",
    "    except asyncio.CancelledError:\n",
    "        print(\"finished\")"
   ]
  },
  {
   "cell_type": "code",
   "execution_count": null,
   "id": "75822a40-5374-47a0-9512-fc9046df9531",
   "metadata": {},
   "outputs": [],
   "source": [
    "class AMovieTable:\n",
    "    async def records(fpath, n_records=10):\n",
    "        print(f\"Writing {n_records} records to {fpath}\")\n",
    "        with open(fpath, \"w\") as ostream:\n",
    "            for _ in range(n_records):\n",
    "                print(json.dumps(gen_movie()), file=ostream, end=\"\\n\")\n",
    "                await asyncio.sleep(0)"
   ]
  },
  {
   "cell_type": "code",
   "execution_count": null,
   "id": "7996b881-e88a-47e6-a24d-a25c3e3d64a0",
   "metadata": {},
   "outputs": [],
   "source": [
    "import asyncio\n",
    "\n",
    "def run_async(f, args):\n",
    "    try:\n",
    "        loop = asyncio.get_running_loop()\n",
    "    except RuntimeError:  # 'RuntimeError: There is no current event loop...'\n",
    "        loop = None\n",
    "\n",
    "    ff = run_with_timer(functools.partial(f, *args), Timer(cpu))\n",
    "\n",
    "    if loop and loop.is_running():\n",
    "        task = loop.create_task(ff)\n",
    "        task.add_done_callback(lambda _: print('fin!'))\n",
    "    else:\n",
    "        asyncio.run(ff)"
   ]
  },
  {
   "cell_type": "code",
   "execution_count": null,
   "id": "68a2c7ab-b01a-4552-8139-2387f65f17b3",
   "metadata": {},
   "outputs": [],
   "source": [
    "!wc -l \"/tmp/movies.ndjson\" && ls -alh \"/tmp/movies.ndjson\""
   ]
  },
  {
   "cell_type": "code",
   "execution_count": 19,
   "id": "fd036493-4c7f-48d3-b6c3-c7d515c8ccb4",
   "metadata": {},
   "outputs": [],
   "source": [
    "from multiprocessing import Pool, Process\n",
    "\n",
    "procs = []\n",
    "for fpath in [\"/tmp/movies.ndjson\", \"/tmp/movies2.ndjson\"]:\n",
    "    p = Process(target=MovieTable.records, args=(fpath,500))\n",
    "    p.start()\n",
    "    procs.append(p)\n",
    "\n",
    "while True:\n",
    "    if all(p.is_alive() for p in procs):\n",
    "        print(\"fin!\")\n",
    "        break"
   ]
  },
  {
   "cell_type": "code",
   "execution_count": 31,
   "id": "264f330c",
   "metadata": {},
   "outputs": [],
   "source": [
    "def run_async_pool(args):\n",
    "    run_async(AMovieTable.records, args)\n",
    "\n",
    "def _():\n",
    "    with Pool(2) as p:\n",
    "        p.map(run_async_pool, [(\"/tmp/movies.ndjson\", 500), (\"/tmp/movies2.ndjson\", 500)])"
   ]
  },
  {
   "cell_type": "code",
   "execution_count": 32,
   "id": "db6dad87",
   "metadata": {},
   "outputs": [
    {
     "name": "stdout",
     "output_type": "stream",
     "text": [
      "Writing 500 records to /tmp/movies2.ndjsonWriting 500 records to /tmp/movies.ndjson\n",
      "\n",
      "1.9\t1.9\t1.6\t1.5\t2.0\t1.61.9\t1.9\t1.6\t1.5\t2.0\t1.6\n",
      "\n",
      "1.9\t99.0\t1.0\t2.9\t4.9\t99.0\n",
      "1.9\t99.0\t1.0\t2.9\t4.9\t99.0\n",
      "10.8\t63.1\t45.6\t10.9\t9.9\t100.0\n",
      "10.7\t61.5\t46.7\t12.5\t10.8\t100.0\n",
      "2.0\t97.1\t99.0\t4.8\t2.0\t3.9\n",
      "1.9\t99.1\t100.0\t3.8\t2.0\t1.0\n",
      "1.0\t100.0\t100.0\t4.8\t1.0\t1.9\n",
      "1.9\t100.0\t100.0\t4.8\t1.0\t1.9\n",
      "1.0\t100.0\t100.0\t1.0\t1.9\t0.0\n",
      "1.0\t100.0\t99.0\t0.0\t1.0\t0.0\n",
      "1.9\t99.0\t99.0\t3.9\t2.0\t1.9\n",
      "1.9\t99.0\t100.0\t4.7\t2.0\t1.9\n",
      "finished\n",
      "finished\n"
     ]
    }
   ],
   "source": [
    "_()"
   ]
  }
 ],
 "metadata": {
  "kernelspec": {
   "display_name": "Python 3 (ipykernel)",
   "language": "python",
   "name": "python3"
  },
  "language_info": {
   "codemirror_mode": {
    "name": "ipython",
    "version": 3
   },
   "file_extension": ".py",
   "mimetype": "text/x-python",
   "name": "python",
   "nbconvert_exporter": "python",
   "pygments_lexer": "ipython3",
   "version": "3.9.7"
  }
 },
 "nbformat": 4,
 "nbformat_minor": 5
}
