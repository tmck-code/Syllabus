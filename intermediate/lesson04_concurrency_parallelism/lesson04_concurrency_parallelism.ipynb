{
 "cells": [
  {
   "cell_type": "markdown",
   "id": "9cfefd37-a378-42f0-b0dc-3b479bbaec1e",
   "metadata": {},
   "source": [
    "# Lesson 04: Concurrency & Parallelism"
   ]
  },
  {
   "cell_type": "markdown",
   "id": "9b999bdd-43f0-4854-b4c7-616a05484547",
   "metadata": {},
   "source": [
    "## 1. Parallelism\n",
    "\n",
    "Compared to concurrency, parallelism is easier to use, and is _usually_ easier to think about and design.\n",
    "\n",
    "We can explore this through a data-processing scenario: going through a very large CSV/JSON doc and filtering out columns or keys.\n",
    "This is usually done when selecting a relevant subset of data from a very broad data set, usually sourced from a 3rd party.\n",
    "\n",
    "e.g. You want to download the wikipedia dataset and filter for actors, movie titles and release years, so that you can make a simple and comprehensive list.\n",
    "\n",
    "e.g.2 You want to make a demo example for this lesson, so you have to fake the data before demonstrating the filtering\n",
    "\n",
    "### Example 1: Generating a text file\n",
    "\n",
    "1. We need to generate a _very_ large NDJSON file (newline-delimited JSON). For simplicities sake, all lines are readable/same schema etc.\n",
    "\n",
    "    ```json\n",
    "    {\"a\": \"B\"}\n",
    "    {\"a\": \"C\"}\n",
    "    ```\n",
    "\n",
    "1.1. There are many language and OS-level optimisations around doing the _exact_ same thing, like performing the same calculation over the same file line data. This means that we have to randomise the values in order to make a good test file.\n",
    "\n",
    "    > use `faker`"
   ]
  },
  {
   "cell_type": "code",
   "execution_count": 4,
   "id": "4e6af7de-b21f-4443-a90c-98ec77e96e27",
   "metadata": {},
   "outputs": [],
   "source": [
    "from faker import (Faker, providers)\n",
    "f = Faker()\n",
    "f.add_provider(providers.misc)\n",
    "f.add_provider(providers.geo)"
   ]
  },
  {
   "cell_type": "code",
   "execution_count": 5,
   "id": "bb873a55-b643-4322-ab8e-958a05e9fa96",
   "metadata": {},
   "outputs": [],
   "source": [
    "def fkr_n(fkr, n): return [fkr() for _ in range(n)]"
   ]
  },
  {
   "cell_type": "code",
   "execution_count": 10,
   "id": "7b818fc6-b32d-4593-8a7d-52128e90e316",
   "metadata": {},
   "outputs": [],
   "source": [
    "def gen_movie():\n",
    "    return {\n",
    "        \"titleId\":         f.uuid4(),\n",
    "        \"ordering\":        f.random_int(),\n",
    "        \"title\":           f.catch_phrase(),\n",
    "        \"region\":          f.locale(),\n",
    "        \"language\":        f.language_name(),\n",
    "        \"types\":           fkr_n(f.name, 5),\n",
    "        \"attributes\":      fkr_n(f.name, 5),\n",
    "        \"isOriginalTitle\": f.boolean(),\n",
    "        \"tconst\":          f.uuid4(),\n",
    "        \"titleType\":       f.domain_name(),\n",
    "        \"primaryTitle\":    f.catch_phrase(),\n",
    "        \"originalTitle\":   \":\".join([f.company(), f.catch_phrase()]),\n",
    "        \"isAdult\":         f.boolean(),\n",
    "        \"startYear\":       f.date(),\n",
    "        \"endYear\":         f.year(),\n",
    "        \"runtimeMinutes\":  f.random_int(),\n",
    "        \"genres\":          fkr_n(f.country, 5),\n",
    "        \"tconst\":          f.hex_color(),\n",
    "        \"directors\":       fkr_n(f.name, 2),\n",
    "        \"writers\":         fkr_n(f.name, 15),\n",
    "        \"actors\":          fkr_n(f.name, 50),\n",
    "    }"
   ]
  },
  {
   "cell_type": "code",
   "execution_count": 14,
   "id": "cae05daa-f21f-449c-82d1-c7682bc7aae1",
   "metadata": {},
   "outputs": [
    {
     "data": {
      "application/json": {
       "actors": [
        "Brooke Foster",
        "Matthew Reed",
        "Amber Davis",
        "Jennifer Sherman",
        "Mark Blake",
        "Brian Lee",
        "Jennifer Walter",
        "Casey Johnson",
        "Faith Rodriguez",
        "Candice Lowe",
        "Karen Robinson",
        "Laura Lewis",
        "Karina James",
        "Tiffany Garcia",
        "Arthur Hess",
        "Jorge Kennedy",
        "Justin Patton",
        "Kathryn Watson",
        "Nicole Crawford",
        "Randy Davis",
        "Samuel Ramirez",
        "Jeffery Robles",
        "Samantha Walters",
        "Carrie Arellano",
        "Jeffery Thomas",
        "Scott Flores",
        "Darren Allen",
        "Jenny Schwartz",
        "Angela Martin",
        "Patricia Patel DVM",
        "Thomas Curtis",
        "Melissa Adams",
        "Heather Diaz",
        "Bruce Collins",
        "Amy Brady",
        "Zachary Thomas",
        "Jeffery Hansen",
        "Thomas Green",
        "Jason Ball",
        "Michael Johnson",
        "Rachel Thompson",
        "Jenny Edwards",
        "Samantha Thompson",
        "Debbie Lee",
        "Sandra Davis",
        "Gabriella Kennedy",
        "Catherine Soto",
        "Terrence Bell",
        "Jessica Mccarthy",
        "Daniel Fields"
       ],
       "attributes": [
        "Steven Elliott",
        "Allison Johnson",
        "Rebecca Moran",
        "Jeremy Anderson",
        "Bruce Wilcox"
       ],
       "directors": [
        "Tina Sullivan",
        "Adrian Marquez"
       ],
       "endYear": "2003",
       "genres": [
        "Bouvet Island (Bouvetoya)",
        "Serbia",
        "Pakistan",
        "Mongolia",
        "Belgium"
       ],
       "isAdult": false,
       "isOriginalTitle": false,
       "language": "Somali",
       "ordering": 3976,
       "originalTitle": "Wilson, Oliver and Jackson:Face-to-face logistical groupware",
       "primaryTitle": "Monitored background algorithm",
       "region": "wo_SN",
       "runtimeMinutes": 1043,
       "startYear": "2016-02-08",
       "tconst": "#4977b5",
       "title": "Multi-layered client-server methodology",
       "titleId": "1dfda784-4600-4e4e-83f8-ed94812212e3",
       "titleType": "mcintosh.com",
       "types": [
        "Amanda Young",
        "Jill Carlson",
        "Ashley Freeman",
        "Tonya Turner",
        "Amber Curtis"
       ],
       "writers": [
        "Dalton Garcia",
        "Steven Morris",
        "Dennis Pena",
        "Jennifer Quinn",
        "Phillip Moore",
        "Amanda Mcmahon",
        "Christopher Butler",
        "Christopher Garcia",
        "Karen Obrien",
        "Steven Jackson",
        "Kelli Scott",
        "Norman Hill",
        "Brenda Erickson",
        "Tiffany Cook",
        "Samantha Whitney"
       ]
      },
      "text/plain": [
       "<IPython.core.display.JSON object>"
      ]
     },
     "execution_count": 14,
     "metadata": {
      "application/json": {
       "expanded": false,
       "root": "root"
      }
     },
     "output_type": "execute_result"
    }
   ],
   "source": [
    "import json\n",
    "from IPython.display import JSON\n",
    "JSON(gen_movie())"
   ]
  },
  {
   "cell_type": "markdown",
   "id": "9ecf39df-2168-4231-8530-72516a1e7b1c",
   "metadata": {},
   "source": [
    "Woohoo! Now we just need to write this to a file\n",
    "\n",
    "Lets make a function that loops and `yields` data"
   ]
  },
  {
   "cell_type": "code",
   "execution_count": 19,
   "id": "851dfbf4-7d81-4e31-8a36-56944a564bc0",
   "metadata": {},
   "outputs": [],
   "source": [
    "class MovieTable:\n",
    "    def records(fpath, n_records=10):\n",
    "        for _ in range(n_records):\n",
    "            yield gen_movie()\n",
    "\n",
    "def test(g): list(g)"
   ]
  },
  {
   "cell_type": "code",
   "execution_count": 20,
   "id": "87e5bf97-93ba-427b-8f4e-97beb3b939a1",
   "metadata": {},
   "outputs": [
    {
     "name": "stdout",
     "output_type": "stream",
     "text": [
      "466 ms ± 9.09 ms per loop (mean ± std. dev. of 7 runs, 1 loop each)\n"
     ]
    }
   ],
   "source": [
    "%timeit test(MovieTable.records(\"/tmp/movies.ndjson\", 20))"
   ]
  },
  {
   "cell_type": "markdown",
   "id": "0bbec93f-5a10-46ca-919e-c03902e467a5",
   "metadata": {},
   "source": [
    "But I need to show you the CPU usage _per core_!\n",
    "\n",
    "What about threading?\n",
    "\n",
    "> Use psutil"
   ]
  },
  {
   "cell_type": "code",
   "execution_count": 24,
   "id": "c2ec4561-a162-4968-88a2-5897c0f58b8e",
   "metadata": {},
   "outputs": [],
   "source": [
    "from itertools import count\n",
    "import json\n",
    "import asyncio\n",
    "from dataclasses import dataclass\n",
    "import functools\n",
    "\n",
    "import psutil\n",
    "\n",
    "@dataclass\n",
    "class Timer:\n",
    "    f: object\n",
    "    sentinel: bool = False\n",
    "\n",
    "    async def cpu(self):\n",
    "        while not self.sentinel:\n",
    "            self.f()\n",
    "            await asyncio.sleep(1)\n",
    "\n",
    "    def task(self):\n",
    "        return asyncio.create_task(self.cpu())\n",
    "\n",
    "    async def stop(self):\n",
    "        self.sentinel = True\n",
    "\n",
    "async def run_with_timer(f: functools.partial, t: Timer):\n",
    "    tsk = t.task()\n",
    "    await f()\n",
    "    tsk.cancel()\n",
    "\n",
    "    try:\n",
    "        await tsk\n",
    "    except asyncio.CancelledError:\n",
    "        print(\"finished\")"
   ]
  },
  {
   "cell_type": "code",
   "execution_count": 25,
   "id": "75822a40-5374-47a0-9512-fc9046df9531",
   "metadata": {},
   "outputs": [],
   "source": [
    "class AMovieTable:\n",
    "    async def records(fpath, n_records=10):\n",
    "        with open(fpath, \"w\") as ostream:\n",
    "            for _ in range(n_records):\n",
    "                print(json.dumps(gen_movie()), file=ostream, end=\"\\n\")\n",
    "                await asyncio.sleep(0)\n",
    "\n",
    "def cpu():\n",
    "    print(\"\\t\".join(map(str, psutil.cpu_percent(percpu=True))))"
   ]
  },
  {
   "cell_type": "code",
   "execution_count": 26,
   "id": "7996b881-e88a-47e6-a24d-a25c3e3d64a0",
   "metadata": {},
   "outputs": [
    {
     "name": "stdout",
     "output_type": "stream",
     "text": [
      "1.5\t1.6\t1.8\t1.9\t1.9\t1.5\n",
      "0.0\t1.0\t0.0\t1.0\t0.0\t100.0\n",
      "1.9\t1.9\t1.9\t0.0\t1.9\t100.0\n",
      "1.9\t2.8\t1.9\t0.9\t0.9\t99.1\n",
      "0.0\t0.0\t0.0\t0.9\t1.0\t100.0\n",
      "0.9\t1.9\t0.9\t0.0\t1.0\t100.0\n",
      "0.9\t0.0\t0.0\t0.9\t0.9\t100.0\n",
      "2.8\t3.7\t0.9\t1.0\t0.0\t100.0\n",
      "0.0\t0.9\t0.9\t0.0\t0.9\t100.0\n",
      "2.8\t2.8\t0.0\t1.0\t1.0\t100.0\n",
      "0.9\t0.0\t0.0\t0.9\t1.0\t100.0\n",
      "1.0\t2.8\t1.9\t0.0\t1.0\t100.0\n",
      "0.0\t0.0\t0.0\t0.0\t0.9\t100.0\n",
      "finished\n"
     ]
    }
   ],
   "source": [
    "await run_with_timer(\n",
    "    functools.partial(AMovieTable.records, \"/tmp/movies.ndjson\", 500),\n",
    "    Timer(cpu)\n",
    ")"
   ]
  },
  {
   "cell_type": "code",
   "execution_count": 23,
   "id": "68a2c7ab-b01a-4552-8139-2387f65f17b3",
   "metadata": {},
   "outputs": [
    {
     "name": "stdout",
     "output_type": "stream",
     "text": [
      "500 /tmp/movies.ndjson\n",
      "-rw-r--r-- 1 jovyan users 1.8M Nov 22 15:41 /tmp/movies.ndjson\n"
     ]
    }
   ],
   "source": [
    "!wc -l \"/tmp/movies.ndjson\" && ls -alh \"/tmp/movies.ndjson\""
   ]
  },
  {
   "cell_type": "code",
   "execution_count": null,
   "id": "fd036493-4c7f-48d3-b6c3-c7d515c8ccb4",
   "metadata": {},
   "outputs": [],
   "source": [
    "asyncio.Queue(maxsize=0)"
   ]
  }
 ],
 "metadata": {
  "kernelspec": {
   "display_name": "Python 3 (ipykernel)",
   "language": "python",
   "name": "python3"
  },
  "language_info": {
   "codemirror_mode": {
    "name": "ipython",
    "version": 3
   },
   "file_extension": ".py",
   "mimetype": "text/x-python",
   "name": "python",
   "nbconvert_exporter": "python",
   "pygments_lexer": "ipython3",
   "version": "3.9.7"
  }
 },
 "nbformat": 4,
 "nbformat_minor": 5
}
