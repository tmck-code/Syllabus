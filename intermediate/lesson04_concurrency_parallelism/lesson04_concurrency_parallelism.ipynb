{
 "cells": [
  {
   "cell_type": "markdown",
   "id": "56795b1a-685c-491d-95cd-ecbfab338de1",
   "metadata": {},
   "source": [
    "# Lesson 04 - Concurrency & Parallelism"
   ]
  },
  {
   "cell_type": "code",
   "execution_count": 2,
   "id": "0c60ceab-94c8-4e96-8a2f-d811b51a5de0",
   "metadata": {},
   "outputs": [],
   "source": [
    "import os, sys"
   ]
  },
  {
   "cell_type": "code",
   "execution_count": 13,
   "id": "2fc11550-3d11-45e4-8d8e-867f08df835b",
   "metadata": {},
   "outputs": [
    {
     "name": "stderr",
     "output_type": "stream",
     "text": [
      "UsageError: %%sh is a cell magic, but the cell body is empty.\n"
     ]
    }
   ],
   "source": [
    "%%sh \"/usr/bin/time $( for i in {1..1000}; do /usr/games/fortune >> fortune.txt ; done )\""
   ]
  },
  {
   "cell_type": "code",
   "execution_count": null,
   "id": "0eb30954-62f0-4baf-80cc-e459d4fee101",
   "metadata": {},
   "outputs": [],
   "source": []
  }
 ],
 "metadata": {
  "kernelspec": {
   "display_name": "Python 3 (ipykernel)",
   "language": "python",
   "name": "python3"
  },
  "language_info": {
   "codemirror_mode": {
    "name": "ipython",
    "version": 3
   },
   "file_extension": ".py",
   "mimetype": "text/x-python",
   "name": "python",
   "nbconvert_exporter": "python",
   "pygments_lexer": "ipython3",
   "version": "3.9.7"
  }
 },
 "nbformat": 4,
 "nbformat_minor": 5
}
