{
 "cells": [
  {
   "cell_type": "markdown",
   "id": "9cfefd37-a378-42f0-b0dc-3b479bbaec1e",
   "metadata": {},
   "source": [
    "# Lesson 04: Concurrency & Parallelism"
   ]
  },
  {
   "cell_type": "markdown",
   "id": "9b999bdd-43f0-4854-b4c7-616a05484547",
   "metadata": {},
   "source": [
    "## 1. Parallelism\n",
    "\n",
    "Compared to concurrency, parallelism is easier to use, and is _usually_ easier to think about and design.\n",
    "\n",
    "We can explore this through a data-processing scenario: going through a very large CSV/JSON doc and filtering out columns or keys.\n",
    "This is usually done when selecting a relevant subset of data from a very broad data set, usually sourced from a 3rd party.\n",
    "\n",
    "e.g. You want to download the wikipedia dataset and filter for actors, movie titles and release years, so that you can make a simple and comprehensive list.\n",
    "\n",
    "e.g.2 You want to make a demo example for this lesson, so you have to fake the data before demonstrating the filtering\n",
    "\n",
    "### Example 1: Generating a text file\n",
    "\n",
    "1. We need to generate a _very_ large NDJSON file (newline-delimited JSON). For simplicities sake, all lines are readable/same schema etc.\n",
    "\n",
    "    ```json\n",
    "    {\"a\": \"B\"}\n",
    "    {\"a\": \"C\"}\n",
    "    ```\n",
    "\n",
    "1.1. There are many language and OS-level optimisations around doing the _exact_ same thing, like performing the same calculation over the same file line data. This means that we have to randomise the values in order to make a good test file.\n",
    "\n",
    "    > use `faker`"
   ]
  },
  {
   "cell_type": "code",
   "execution_count": 1,
   "id": "4e6af7de-b21f-4443-a90c-98ec77e96e27",
   "metadata": {},
   "outputs": [
    {
     "data": {
      "text/plain": [
       "[None, None]"
      ]
     },
     "execution_count": 1,
     "metadata": {},
     "output_type": "execute_result"
    }
   ],
   "source": [
    "from faker import (Faker, providers)\n",
    "f = Faker()\n",
    "list(map(f.add_provider, [providers.misc, providers.geo]))"
   ]
  },
  {
   "cell_type": "code",
   "execution_count": 2,
   "id": "a8f27e20-0713-4bc0-8aad-3bb941bc2a74",
   "metadata": {},
   "outputs": [
    {
     "data": {
      "text/plain": [
       "['Kimberly Scott', 'Mary Young', 'Alyssa Blackburn']"
      ]
     },
     "execution_count": 2,
     "metadata": {},
     "output_type": "execute_result"
    }
   ],
   "source": [
    "[f.name() for _ in range(3)]"
   ]
  },
  {
   "cell_type": "code",
   "execution_count": 3,
   "id": "bb873a55-b643-4322-ab8e-958a05e9fa96",
   "metadata": {},
   "outputs": [],
   "source": [
    "def fkr_n(fkr, n): return [fkr() for _ in range(n)]"
   ]
  },
  {
   "cell_type": "code",
   "execution_count": 4,
   "id": "7b818fc6-b32d-4593-8a7d-52128e90e316",
   "metadata": {},
   "outputs": [],
   "source": [
    "def gen_movie():\n",
    "    return {\n",
    "        \"titleId\":         f.uuid4(),\n",
    "        \"ordering\":        f.random_int(),\n",
    "        \"title\":           f.catch_phrase(),\n",
    "        \"region\":          f.locale(),\n",
    "        \"language\":        f.language_name(),\n",
    "        \"types\":           fkr_n(f.name, 5),\n",
    "        \"attributes\":      fkr_n(f.name, 5),\n",
    "        \"isOriginalTitle\": f.boolean(),\n",
    "        \"tconst\":          f.uuid4(),\n",
    "        \"titleType\":       f.domain_name(),\n",
    "        \"primaryTitle\":    f.catch_phrase(),\n",
    "        \"originalTitle\":   \":\".join([f.company(), f.catch_phrase()]),\n",
    "        \"isAdult\":         f.boolean(),\n",
    "        \"startYear\":       f.date(),\n",
    "        \"endYear\":         f.year(),\n",
    "        \"runtimeMinutes\":  f.random_int(),\n",
    "        \"genres\":          fkr_n(f.country, 5),\n",
    "        \"tconst\":          f.hex_color(),\n",
    "        \"directors\":       fkr_n(f.name, 2),\n",
    "        \"writers\":         fkr_n(f.name, 40),\n",
    "        \"actors\":          fkr_n(f.name, 120),\n",
    "    }"
   ]
  },
  {
   "cell_type": "code",
   "execution_count": 5,
   "id": "cae05daa-f21f-449c-82d1-c7682bc7aae1",
   "metadata": {},
   "outputs": [],
   "source": [
    "import json\n",
    "from IPython.display import JSON"
   ]
  },
  {
   "cell_type": "code",
   "execution_count": 6,
   "id": "2671ca84-ff12-4a19-9a3a-fb34ff8b30e0",
   "metadata": {},
   "outputs": [
    {
     "data": {
      "application/json": {
       "actors": [
        "Eric Norton",
        "Linda Grimes",
        "Stephanie Mitchell",
        "Robert Brown",
        "April May",
        "Maria Jones",
        "James Fisher",
        "Tina Lane",
        "Jimmy Compton",
        "Sheila Harvey",
        "Shannon Steele DDS",
        "Jonathan Knight",
        "Joseph Peters",
        "Kyle Kirk",
        "Gail Evans",
        "Brittany Sloan",
        "Megan Woodard",
        "Christopher Blair",
        "Alexandria Rodriguez",
        "Michele Watson",
        "Brianna Smith",
        "Shannon Howard",
        "Kristin Johnson",
        "Dr. Michael Garner DVM",
        "Rebecca Hill",
        "Barbara Boone",
        "Erika Carlson",
        "David Kane",
        "Justin Patel",
        "Joseph Rodriguez",
        "Amber Aguirre",
        "Autumn Peterson",
        "Daniel Williams",
        "David Williams",
        "Natasha Richardson",
        "Jack Ellis",
        "Thomas Gardner",
        "William Wilson",
        "Linda Carroll",
        "Russell Gonzalez",
        "Daniel Hickman",
        "Jacqueline Bond",
        "Miss Dawn Hill",
        "William Brown",
        "Lisa Huerta",
        "Justin Zhang",
        "Brittany Olsen",
        "Jacob Ward",
        "Thomas Coleman",
        "Logan Williams",
        "Derek Hicks",
        "Thomas Allen",
        "Joshua Singh",
        "Donald Huber",
        "Amy Flores",
        "Donald Jones",
        "Maurice Nunez",
        "Kimberly Anderson",
        "Gary Lewis",
        "Michael Holloway Jr.",
        "Philip Harvey",
        "Eric Klein",
        "Felicia Bowen",
        "Randall Martin",
        "Katelyn Mcclure",
        "Dawn Perez",
        "Christopher Blair",
        "Robert Jacobson",
        "Crystal Chavez",
        "Darlene Carroll",
        "Virginia Johnson",
        "Paige Morris",
        "Samantha Young",
        "Katherine Price",
        "Joseph Ramsey",
        "Robert Oliver",
        "Samantha Watkins",
        "Lindsay Davis",
        "Cindy Luna",
        "Cheryl Watson",
        "Mary Hall",
        "Kayla Munoz",
        "Jessica Coleman",
        "Kathryn Jackson",
        "Caitlin Hamilton",
        "Edward Franklin",
        "Jon Johnson",
        "Larry Garcia",
        "Christopher Ramos",
        "Michele Gray",
        "Christopher Boyd",
        "Damon Richardson",
        "Sergio Rogers",
        "Dr. Grace Maldonado DDS",
        "Beth Hopkins",
        "Jennifer Estrada",
        "Gary Walker",
        "Melissa Lara",
        "Catherine Benitez",
        "Timothy Bennett",
        "Jose Acevedo",
        "James Thornton",
        "Angela Fleming",
        "Charlene Daugherty",
        "Anthony Bentley",
        "Jasmine Rodriguez",
        "Debra Patterson",
        "Stacy Brooks",
        "Barbara Skinner",
        "Cindy Morales",
        "John Simmons",
        "Linda Lozano",
        "Amanda Chavez",
        "Andrew Kim",
        "Ralph Carlson",
        "Brandi Jones",
        "Jennifer Taylor",
        "Richard Munoz",
        "Jacob Norris",
        "Samantha Vasquez"
       ],
       "attributes": [
        "Alexander Dyer",
        "Dawn Baxter",
        "Amy Young",
        "Robert Waters",
        "Matthew Flores"
       ],
       "directors": [
        "Brian Franco",
        "Denise Smith"
       ],
       "endYear": "2010",
       "genres": [
        "Aruba",
        "Singapore",
        "Suriname",
        "Mexico",
        "Estonia"
       ],
       "isAdult": true,
       "isOriginalTitle": false,
       "language": "Zhuang",
       "ordering": 5717,
       "originalTitle": "Torres-Jones:Vision-oriented 4thgeneration process improvement",
       "primaryTitle": "Sharable exuding Graphic Interface",
       "region": "sid_ET",
       "runtimeMinutes": 440,
       "startYear": "1988-01-18",
       "tconst": "#c2108c",
       "title": "Sharable interactive support",
       "titleId": "b28259c9-d9a5-4ffc-bbcb-ea26cbbf3960",
       "titleType": "foster-fuentes.biz",
       "types": [
        "Victoria Bell",
        "Samantha Mullen",
        "Linda Ellis",
        "Melissa Salas",
        "Ashley Floyd"
       ],
       "writers": [
        "Thomas Foster",
        "Jeffrey Ross",
        "Charles Wilson",
        "Richard Lara",
        "Bridget Miles",
        "Susan Mills",
        "Jennifer Cardenas",
        "Robin Martinez",
        "Jennifer Goodwin",
        "Brandon Wilkinson",
        "Steven Ramos",
        "Roger Mills",
        "Austin Moss",
        "Paul Forbes",
        "Guy Rodriguez",
        "Stephen Rivera",
        "Rodney Gibbs",
        "April Mccarthy",
        "Jessica Bridges",
        "Jessica Hughes",
        "Sharon Herrera",
        "Terri Wright",
        "Rebecca Hanna",
        "Tricia Vargas",
        "Rebecca Cantrell",
        "Barry Phillips",
        "Albert Brown",
        "Kimberly Ross",
        "Dr. Joshua Mills",
        "Gregory Jackson",
        "Jay Williamson",
        "Natalie Torres",
        "Stephen Edwards",
        "Daniel Lopez",
        "Shelby Flores",
        "Jason Sanchez",
        "Joseph Sanchez",
        "David Estrada",
        "Carrie Jones",
        "Pamela Lee"
       ]
      },
      "text/plain": [
       "<IPython.core.display.JSON object>"
      ]
     },
     "execution_count": 6,
     "metadata": {
      "application/json": {
       "expanded": false,
       "root": "root"
      }
     },
     "output_type": "execute_result"
    }
   ],
   "source": [
    "JSON(gen_movie())"
   ]
  },
  {
   "cell_type": "markdown",
   "id": "9ecf39df-2168-4231-8530-72516a1e7b1c",
   "metadata": {},
   "source": [
    "Woohoo! Now we just need to write this to a file"
   ]
  },
  {
   "cell_type": "code",
   "execution_count": 7,
   "id": "851dfbf4-7d81-4e31-8a36-56944a564bc0",
   "metadata": {},
   "outputs": [],
   "source": [
    "class MovieTable:\n",
    "    def records(fpath, n_records=10):\n",
    "        for _ in range(n_records):\n",
    "            yield gen_movie()\n",
    "            \n",
    "def test(g): list(g)"
   ]
  },
  {
   "cell_type": "code",
   "execution_count": 8,
   "id": "87e5bf97-93ba-427b-8f4e-97beb3b939a1",
   "metadata": {},
   "outputs": [
    {
     "name": "stdout",
     "output_type": "stream",
     "text": [
      "321 ms ± 859 µs per loop (mean ± std. dev. of 7 runs, 1 loop each)\n"
     ]
    }
   ],
   "source": [
    "%timeit test(MovieTable.records(\"/tmp/movies.ndjson\", 20))"
   ]
  },
  {
   "cell_type": "markdown",
   "id": "0bbec93f-5a10-46ca-919e-c03902e467a5",
   "metadata": {},
   "source": [
    "But I need to show you the CPU usage _per core_!\n",
    "\n",
    "What about threading?\n",
    "\n",
    "> Use psutil"
   ]
  },
  {
   "cell_type": "code",
   "execution_count": 9,
   "id": "c2ec4561-a162-4968-88a2-5897c0f58b8e",
   "metadata": {},
   "outputs": [],
   "source": [
    "import psutil\n",
    "from itertools import count\n",
    "import json\n",
    "\n",
    "class AMovieTable:\n",
    "    async def records(fpath, n_records=10):\n",
    "        with open(fpath, \"w\") as ostream:\n",
    "            for _ in range(n_records):\n",
    "                print(json.dumps(gen_movie()), file=ostream, end=\"\\n\")\n",
    "                await asyncio.sleep(0)\n",
    "\n",
    "from dataclasses import dataclass\n",
    "import functools\n",
    "\n",
    "@dataclass\n",
    "class Timer:\n",
    "    f: object\n",
    "    sentinel: bool = False\n",
    "\n",
    "    async def cpu(self):\n",
    "        while not self.sentinel:\n",
    "            self.f()\n",
    "            await asyncio.sleep(1)\n",
    "\n",
    "    def task(self):\n",
    "        return asyncio.create_task(self.cpu())\n",
    "\n",
    "    async def stop(self):\n",
    "        self.sentinel = True\n",
    "        \n",
    "def cpu():\n",
    "    print(\"\\t\".join(map(str, psutil.cpu_percent(percpu=True))))\n",
    "    \n",
    "async def run_with_timer(f, t):\n",
    "    tsk = t.task()\n",
    "    await f()\n",
    "    tsk.cancel()\n",
    "\n",
    "    try:\n",
    "        await tsk\n",
    "    except asyncio.CancelledError:\n",
    "        print(\"finished\")"
   ]
  },
  {
   "cell_type": "code",
   "execution_count": 12,
   "id": "7996b881-e88a-47e6-a24d-a25c3e3d64a0",
   "metadata": {},
   "outputs": [
    {
     "name": "stdout",
     "output_type": "stream",
     "text": [
      "7.0\t4.7\t7.2\t6.0\t5.5\t10.9\t4.2\t5.1\t3.3\t5.2\t6.2\t4.1\t6.6\t7.3\t7.2\t7.1\n",
      "8.3\t2.9\t4.9\t1.0\t3.9\t80.8\t6.9\t0.0\t3.8\t3.8\t0.0\t21.0\t1.0\t18.4\t4.9\t10.8\n",
      "3.8\t5.8\t4.8\t1.9\t10.5\t20.2\t9.5\t4.8\t17.5\t2.9\t2.9\t10.6\t14.6\t87.4\t16.5\t1.9\n",
      "6.4\t2.9\t1.9\t10.6\t0.0\t1.0\t1.9\t0.0\t1.9\t2.9\t5.7\t1.9\t3.8\t100.0\t6.7\t1.9\n",
      "4.6\t7.7\t1.0\t25.2\t3.9\t0.0\t2.0\t1.0\t1.9\t6.7\t1.0\t5.8\t4.7\t99.1\t1.0\t8.7\n",
      "9.7\t4.9\t8.7\t12.5\t20.2\t11.5\t7.8\t0.0\t2.9\t10.7\t7.8\t1.9\t1.0\t30.1\t1.0\t73.1\n",
      "6.4\t8.7\t100.0\t22.6\t3.8\t4.9\t3.9\t4.9\t3.8\t5.8\t0.0\t5.8\t9.7\t6.8\t2.9\t0.0\n",
      "11.7\t3.8\t100.0\t8.7\t18.6\t17.5\t7.9\t1.0\t5.8\t6.6\t0.0\t7.7\t1.9\t11.5\t9.8\t5.8\n",
      "7.3\t3.8\t99.0\t1.9\t1.9\t6.7\t2.9\t13.3\t1.0\t0.0\t1.0\t4.8\t3.9\t1.0\t1.0\t0.0\n",
      "5.8\t5.8\t100.0\t2.9\t2.9\t3.8\t4.0\t4.8\t1.9\t8.7\t0.0\t19.2\t4.9\t1.9\t3.8\t3.8\n",
      "8.1\t8.5\t22.1\t78.3\t6.7\t4.8\t2.9\t4.8\t1.9\t2.9\t5.7\t5.7\t2.9\t1.0\t8.6\t4.8\n",
      "10.0\t14.6\t10.5\t100.0\t6.7\t2.9\t2.9\t1.0\t3.9\t5.8\t2.9\t0.0\t5.8\t1.9\t4.8\t1.0\n",
      "10.1\t7.7\t12.3\t100.0\t5.8\t8.6\t4.9\t5.7\t27.6\t7.7\t1.0\t0.0\t1.9\t1.0\t4.8\t6.7\n",
      "6.4\t1.0\t0.0\t100.0\t13.5\t4.9\t4.9\t6.7\t17.5\t3.9\t9.7\t0.0\t1.9\t4.9\t1.0\t1.0\n",
      "14.2\t6.7\t8.8\t99.0\t10.7\t22.1\t8.9\t16.5\t4.8\t1.9\t12.5\t1.0\t7.6\t3.8\t2.0\t6.7\n",
      "10.4\t5.8\t4.9\t100.0\t6.8\t1.9\t3.9\t1.9\t0.0\t3.8\t1.9\t0.0\t7.7\t5.8\t16.5\t9.7\n",
      "finished\n"
     ]
    }
   ],
   "source": [
    "import asyncio\n",
    "from functools import partial\n",
    "\n",
    "# t = Timer(cpu).task()\n",
    "# await AMovieTable.records(\"/tmp/movies.ndjson\", 100)\n",
    "# t.cancel()\n",
    "\n",
    "await run_with_timer(partial(AMovieTable.records, \"/tmp/movies.ndjson\", 1_000), Timer(cpu))"
   ]
  },
  {
   "cell_type": "code",
   "execution_count": 11,
   "id": "68a2c7ab-b01a-4552-8139-2387f65f17b3",
   "metadata": {},
   "outputs": [
    {
     "name": "stdout",
     "output_type": "stream",
     "text": [
      "100 /tmp/movies.ndjson\n",
      "-rw-r--r-- 1 jovyan users 349K Nov 22 15:08 /tmp/movies.ndjson\n"
     ]
    }
   ],
   "source": [
    "!wc -l \"/tmp/movies.ndjson\" && ls -alh \"/tmp/movies.ndjson\""
   ]
  },
  {
   "cell_type": "code",
   "execution_count": null,
   "id": "fd036493-4c7f-48d3-b6c3-c7d515c8ccb4",
   "metadata": {},
   "outputs": [],
   "source": []
  }
 ],
 "metadata": {
  "kernelspec": {
   "display_name": "Python 3 (ipykernel)",
   "language": "python",
   "name": "python3"
  },
  "language_info": {
   "codemirror_mode": {
    "name": "ipython",
    "version": 3
   },
   "file_extension": ".py",
   "mimetype": "text/x-python",
   "name": "python",
   "nbconvert_exporter": "python",
   "pygments_lexer": "ipython3",
   "version": "3.9.7"
  }
 },
 "nbformat": 4,
 "nbformat_minor": 5
}
