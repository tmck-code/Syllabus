{
 "cells": [
  {
   "cell_type": "markdown",
   "id": "9cfefd37-a378-42f0-b0dc-3b479bbaec1e",
   "metadata": {},
   "source": [
    "# Lesson 04: Concurrency & Parallelism"
   ]
  },
  {
   "cell_type": "markdown",
   "id": "9b999bdd-43f0-4854-b4c7-616a05484547",
   "metadata": {},
   "source": [
    "## 1. Parallelism\n",
    "\n",
    "Compared to concurrency, parallelism is easier to use, and is _usually_ easier to think about and design.\n",
    "\n",
    "We can explore this through a data-processing scenario: going through a very large CSV/JSON doc and filtering out columns or keys.\n",
    "This is usually done when selecting a relevant subset of data from a very broad data set, usually sourced from a 3rd party.\n",
    "\n",
    "e.g. You want to download the wikipedia dataset and filter for actors, movie titles and release years, so that you can make a simple and comprehensive list.\n",
    "\n",
    "e.g.2 You want to make a demo example for this lesson, so you have to fake the data before demonstrating the filtering\n",
    "\n",
    "### Example 1: Generating a text file\n",
    "\n",
    "1. We need to generate a _very_ large NDJSON file (newline-delimited JSON). For simplicities sake, all lines are readable/same schema etc.\n",
    "\n",
    "    ```json\n",
    "    {\"a\": \"B\"}\n",
    "    {\"a\": \"C\"}\n",
    "    ```\n",
    "\n",
    "1.1. There are many language and OS-level optimisations around doing the _exact_ same thing, like performing the same calculation over the same file line data. This means that we have to randomise the values in order to make a good test file.\n",
    "\n",
    "    > use `faker`"
   ]
  },
  {
   "cell_type": "code",
   "execution_count": 1,
   "id": "4e6af7de-b21f-4443-a90c-98ec77e96e27",
   "metadata": {},
   "outputs": [],
   "source": [
    "from faker import (Faker, providers)\n",
    "F = Faker()\n",
    "F.add_provider(providers.misc)\n",
    "F.add_provider(providers.geo)"
   ]
  },
  {
   "cell_type": "code",
   "execution_count": 2,
   "id": "bb873a55-b643-4322-ab8e-958a05e9fa96",
   "metadata": {},
   "outputs": [],
   "source": [
    "def fkr_n(fkr, n): return [fkr() for _ in range(n)]"
   ]
  },
  {
   "cell_type": "code",
   "execution_count": 3,
   "id": "7b818fc6-b32d-4593-8a7d-52128e90e316",
   "metadata": {},
   "outputs": [],
   "source": [
    "def gen_movie(f=F):\n",
    "    return {\n",
    "        \"titleId\":         f.uuid4(),\n",
    "        \"ordering\":        f.random_int(),\n",
    "        \"title\":           f.catch_phrase(),\n",
    "        \"region\":          f.locale(),\n",
    "        \"language\":        f.language_name(),\n",
    "        \"types\":           fkr_n(f.name, 5),\n",
    "        \"attributes\":      fkr_n(f.name, 5),\n",
    "        \"isOriginalTitle\": f.boolean(),\n",
    "        \"tconst\":          f.uuid4(),\n",
    "        \"titleType\":       f.domain_name(),\n",
    "        \"primaryTitle\":    f.catch_phrase(),\n",
    "        \"originalTitle\":   \":\".join([f.company(), f.catch_phrase()]),\n",
    "        \"isAdult\":         f.boolean(),\n",
    "        \"startYear\":       f.date(),\n",
    "        \"endYear\":         f.year(),\n",
    "        \"runtimeMinutes\":  f.random_int(),\n",
    "        \"genres\":          fkr_n(f.country, 5),\n",
    "        \"tconst\":          f.hex_color(),\n",
    "        \"directors\":       fkr_n(f.name, 2),\n",
    "        \"writers\":         fkr_n(f.name, 15),\n",
    "        \"actors\":          fkr_n(f.name, 50),\n",
    "    }"
   ]
  },
  {
   "cell_type": "code",
   "execution_count": 4,
   "id": "cae05daa-f21f-449c-82d1-c7682bc7aae1",
   "metadata": {},
   "outputs": [
    {
     "data": {
      "application/json": {
       "actors": [
        "Victor Hoover",
        "Douglas Hall",
        "Julie Vasquez",
        "Connie Blevins",
        "Amy Fox",
        "Beth Wilkins",
        "Patrick Mendoza",
        "Gary Johnson",
        "Benjamin Whitehead",
        "Kevin Lynch",
        "Christina Stevenson",
        "Arthur Reid",
        "Lisa Martinez",
        "Meredith Howell",
        "Debra Ramos",
        "Derrick Lee",
        "Nicholas Richardson",
        "Jose Garcia",
        "Erica Cox",
        "Dr. Michael Ware DDS",
        "Danielle Moran",
        "Randy Hickman DVM",
        "Wesley Perkins",
        "Anthony Rogers",
        "Kathy Gallegos",
        "Thomas Barker",
        "Lisa Daniel",
        "Charles Montgomery",
        "Marc Johnson",
        "Richard Hicks",
        "Kimberly Sanchez",
        "Mark Case",
        "John Sweeney",
        "Alexandra Poole",
        "Tina Murphy",
        "Nicholas Graham",
        "Tyler Lam",
        "Robert Andersen",
        "Dawn White",
        "Jonathan Oliver",
        "Sergio Price",
        "Morgan Ewing",
        "Melissa Miller",
        "Troy Roberts",
        "Marc Jackson",
        "Ryan Thomas",
        "Nancy Smith",
        "Vincent Williams",
        "Heather Burns",
        "Brooke Church"
       ],
       "attributes": [
        "Abigail Moon",
        "John Melendez",
        "David Weaver",
        "Mr. Stephen Black",
        "Charles Ross"
       ],
       "directors": [
        "James Anderson",
        "Laurie Jacobs"
       ],
       "endYear": "2001",
       "genres": [
        "Japan",
        "Belize",
        "Bulgaria",
        "Uganda",
        "Finland"
       ],
       "isAdult": false,
       "isOriginalTitle": true,
       "language": "Turkmen",
       "ordering": 5189,
       "originalTitle": "Manning-Ray:Proactive bottom-line data-warehouse",
       "primaryTitle": "Cross-group didactic product",
       "region": "es_EC",
       "runtimeMinutes": 8487,
       "startYear": "1988-05-09",
       "tconst": "#eef438",
       "title": "Reactive empowering hardware",
       "titleId": "72ccde38-2c75-429c-87da-50934cf68e48",
       "titleType": "cain.com",
       "types": [
        "Holly Fitzgerald",
        "Kathy Williams",
        "Maria Blevins",
        "Katherine Hart",
        "Joseph Francis"
       ],
       "writers": [
        "William Thompson",
        "Charles Garcia",
        "Phillip Wiley",
        "Kyle Joseph",
        "Jim Schmidt",
        "Stacie Bradley",
        "Kara Wright",
        "Douglas Cantu",
        "Cynthia Barnes",
        "Jacob Hawkins",
        "Gary Nicholson",
        "Lance Gordon",
        "Nancy Sherman",
        "David Marshall",
        "Kayla Ingram"
       ]
      },
      "text/plain": [
       "<IPython.core.display.JSON object>"
      ]
     },
     "execution_count": 4,
     "metadata": {
      "application/json": {
       "expanded": false,
       "root": "root"
      }
     },
     "output_type": "execute_result"
    }
   ],
   "source": [
    "import json\n",
    "from IPython.display import JSON\n",
    "JSON(gen_movie(F))"
   ]
  },
  {
   "cell_type": "markdown",
   "id": "9ecf39df-2168-4231-8530-72516a1e7b1c",
   "metadata": {},
   "source": [
    "Woohoo! Now we just need to write this to a file\n",
    "\n",
    "Lets make a function that loops and `yields` data"
   ]
  },
  {
   "cell_type": "code",
   "execution_count": 5,
   "id": "851dfbf4-7d81-4e31-8a36-56944a564bc0",
   "metadata": {},
   "outputs": [],
   "source": [
    "class MovieTable:\n",
    "    def records(fpath, n_records=10):\n",
    "        print(f\"Writing {n_records} records to {fpath}\")\n",
    "        with open(fpath, \"w\") as ostream:\n",
    "            for line in MovieTable.iter(n_records):\n",
    "                print(line, file=ostream)\n",
    "\n",
    "    def iter(n_records=10):\n",
    "        for _ in range(n_records):\n",
    "            yield gen_movie()"
   ]
  },
  {
   "cell_type": "code",
   "execution_count": 6,
   "id": "87e5bf97-93ba-427b-8f4e-97beb3b939a1",
   "metadata": {},
   "outputs": [
    {
     "name": "stdout",
     "output_type": "stream",
     "text": [
      "Writing 20 records to /tmp/movies.ndjson\n",
      "Writing 20 records to /tmp/movies.ndjson\n",
      "Writing 20 records to /tmp/movies.ndjson\n",
      "Writing 20 records to /tmp/movies.ndjson\n",
      "Writing 20 records to /tmp/movies.ndjson\n",
      "Writing 20 records to /tmp/movies.ndjson\n",
      "Writing 20 records to /tmp/movies.ndjson\n",
      "Writing 20 records to /tmp/movies.ndjson\n",
      "213 ms ± 6.68 ms per loop (mean ± std. dev. of 7 runs, 1 loop each)\n"
     ]
    }
   ],
   "source": [
    "%timeit MovieTable.records(\"/tmp/movies.ndjson\", 20)"
   ]
  },
  {
   "cell_type": "markdown",
   "id": "0bbec93f-5a10-46ca-919e-c03902e467a5",
   "metadata": {},
   "source": [
    "But I need to show you the CPU usage _per core_!\n",
    "\n",
    "What about threading?\n",
    "\n",
    "> Use psutil"
   ]
  },
  {
   "cell_type": "code",
   "execution_count": 7,
   "id": "74bea59e",
   "metadata": {},
   "outputs": [],
   "source": [
    "import psutil\n",
    "def cpu():\n",
    "    print(\"\\t\".join(map(str, psutil.cpu_percent(percpu=True))))"
   ]
  },
  {
   "cell_type": "code",
   "execution_count": 8,
   "id": "2b45191d",
   "metadata": {},
   "outputs": [
    {
     "name": "stdout",
     "output_type": "stream",
     "text": [
      "0\n",
      "0.9\t0.9\t1.9\t0.9\t1.9\t0.9\n",
      "1\n",
      "2\n",
      "3\n",
      "4\n"
     ]
    }
   ],
   "source": [
    "import threading\n",
    "import time\n",
    "\n",
    "def loop_with_timer():\n",
    "    timer = threading.Timer(1, cpu, args=None, kwargs=None)\n",
    "    timer.start()\n",
    "\n",
    "    # Actually do stuff here\n",
    "    for i in range(5):\n",
    "        print(i)\n",
    "        time.sleep(1)\n",
    "\n",
    "    timer.cancel()\n",
    "\n",
    "loop_with_timer()"
   ]
  },
  {
   "cell_type": "markdown",
   "id": "afe74dba",
   "metadata": {},
   "source": [
    "Huh? The threading. Timer only printed once?!\n",
    "\n",
    "- The \"interval\" of the timer is more like a \"delay\"   \n",
    "- from the docs:\n",
    "    ```\n",
    "    \"Create a timer that will run function with arguments args and keyword arguments kwargs, \n",
    "    after interval seconds have passed.\"\n",
    "    ```"
   ]
  },
  {
   "cell_type": "code",
   "execution_count": 9,
   "id": "7157877f",
   "metadata": {},
   "outputs": [
    {
     "name": "stdout",
     "output_type": "stream",
     "text": [
      "0\n",
      "1\n",
      "1.3\t1.2\t1.5\t0.5\t1.3\t1.5\n",
      "2\n",
      "3\n",
      "2.5\t2.0\t3.5\t6.1\t3.0\t1.0\n",
      "4\n"
     ]
    }
   ],
   "source": [
    "# Shout out -> https://stackoverflow.com/a/48741004\n",
    "class RepeatTimer(threading.Timer):\n",
    "    def run(self):\n",
    "        while not self.finished.wait(self.interval):\n",
    "            self.function(*self.args, **self.kwargs)\n",
    "\n",
    "def loop_with_timer():\n",
    "    timer = RepeatTimer(2, cpu, args=None, kwargs=None)\n",
    "    timer.start()\n",
    "\n",
    "    for i in range(5):\n",
    "        print(i)\n",
    "        time.sleep(1)\n",
    "\n",
    "    timer.cancel()\n",
    "\n",
    "loop_with_timer()"
   ]
  },
  {
   "cell_type": "markdown",
   "id": "67bdc755",
   "metadata": {},
   "source": [
    "Hmmm, there's a downside here -   \n",
    "In every function that we want to track CPU usage for, we have to add all of this threading code -_-\n",
    "\n",
    "However - we could make a decorator function that would allow anything to be timed just by adding a @decoration"
   ]
  },
  {
   "cell_type": "code",
   "execution_count": 10,
   "id": "02825ce2",
   "metadata": {},
   "outputs": [],
   "source": [
    "import functools\n",
    "\n",
    "def with_cpu(func):\n",
    "    'Looks gross, but you only have to write it once!'\n",
    "\n",
    "    @functools.wraps(func)\n",
    "    def wrapper(*args, **kwargs):\n",
    "        timer = RepeatTimer(1, cpu, args=None, kwargs=None)\n",
    "        timer.start()\n",
    "\n",
    "        result = func(*args, **kwargs)\n",
    "\n",
    "        timer.cancel()\n",
    "        print(\"fin!\")\n",
    "        return result\n",
    "    return wrapper"
   ]
  },
  {
   "cell_type": "markdown",
   "id": "6bda1a64",
   "metadata": {},
   "source": [
    "Now, we can just add `@with_cpu` to any function that we need to investigate"
   ]
  },
  {
   "cell_type": "code",
   "execution_count": 11,
   "id": "160c61c7",
   "metadata": {},
   "outputs": [],
   "source": [
    "@with_cpu\n",
    "def poc():\n",
    "    for i in range(5):\n",
    "        print(i)\n",
    "        time.sleep(1)"
   ]
  },
  {
   "cell_type": "code",
   "execution_count": 12,
   "id": "6bd68fae",
   "metadata": {},
   "outputs": [
    {
     "name": "stdout",
     "output_type": "stream",
     "text": [
      "0\n",
      "1\n",
      "5.8\t6.2\t4.3\t4.3\t5.8\t3.3\n",
      "2\n",
      "0.0\t2.0\t1.0\t1.0\t4.0\t3.0\n",
      "0.0\t0.0\t1.0\t0.0\t0.0\t0.0\n",
      "3\n",
      "1.0\t1.0\t2.0\t2.0\t4.1\t0.0\n",
      "4\n",
      "fin!\n",
      "1.0\t0.0\t1.0\t0.0\t1.0\t0.0\n"
     ]
    }
   ],
   "source": [
    "poc()"
   ]
  },
  {
   "cell_type": "markdown",
   "id": "25978890",
   "metadata": {},
   "source": [
    "Let's add the decorator to our `MovieTable.records` method"
   ]
  },
  {
   "cell_type": "code",
   "execution_count": 13,
   "id": "0e3aeea5",
   "metadata": {},
   "outputs": [],
   "source": [
    "import math\n",
    "class MovieTable:\n",
    "    @with_cpu\n",
    "    def records(fpath, n_records=10):\n",
    "        print(f\"Writing {n_records} records to {fpath}\")\n",
    "        with open(fpath, \"w\") as ostream:\n",
    "            for i, line in enumerate(MovieTable.iter(n_records)):\n",
    "                print(line, file=ostream)\n",
    "\n",
    "    def iter(n_records=10):\n",
    "        for _ in range(n_records):\n",
    "            yield gen_movie()"
   ]
  },
  {
   "cell_type": "code",
   "execution_count": 14,
   "id": "e669530d",
   "metadata": {},
   "outputs": [
    {
     "name": "stdout",
     "output_type": "stream",
     "text": [
      "Writing 500 records to /tmp/movies.ndjson\n",
      "95.3\t6.5\t1.9\t2.8\t4.7\t3.7\n",
      "100.0\t0.0\t0.0\t0.0\t0.0\t0.0\n",
      "100.0\t3.9\t1.9\t1.0\t0.0\t1.0\n",
      "100.0\t1.0\t1.0\t0.0\t1.0\t0.0\n",
      "100.0\t3.0\t2.0\t2.0\t0.0\t1.0\n",
      "fin!\n"
     ]
    }
   ],
   "source": [
    "MovieTable.records(\"/tmp/movies.ndjson\", 500)"
   ]
  },
  {
   "cell_type": "markdown",
   "id": "d64f8214",
   "metadata": {},
   "source": [
    "Nice!\n",
    "\n",
    "- Now we're running some code, an running another looping bit of code in a thread on the side.\n",
    "- We can see that we are currently using 1 core\n",
    "\n",
    "- what about `async`?"
   ]
  },
  {
   "cell_type": "code",
   "execution_count": 15,
   "id": "c2ec4561-a162-4968-88a2-5897c0f58b8e",
   "metadata": {},
   "outputs": [],
   "source": [
    "import json\n",
    "import asyncio\n",
    "from dataclasses import dataclass\n",
    "import functools\n",
    "\n",
    "import psutil\n",
    "\n",
    "@dataclass\n",
    "class Timer:\n",
    "    f: object\n",
    "    sentinel: bool = False\n",
    "\n",
    "    def task(self):\n",
    "        async def run():\n",
    "            while not self.sentinel:\n",
    "                self.f()\n",
    "                await asyncio.sleep(1)\n",
    "        return asyncio.create_task(run())\n",
    "\n",
    "    async def stop(self):\n",
    "        self.sentinel = True\n",
    "\n",
    "async def run_with_timer(f: functools.partial, t: Timer):\n",
    "    tsk = t.task()\n",
    "    await f()\n",
    "    tsk.cancel()\n",
    "\n",
    "    try:\n",
    "        await tsk\n",
    "    except asyncio.CancelledError:\n",
    "        print(\"finished\")"
   ]
  },
  {
   "cell_type": "code",
   "execution_count": 16,
   "id": "75822a40-5374-47a0-9512-fc9046df9531",
   "metadata": {},
   "outputs": [],
   "source": [
    "class AMovieTable:\n",
    "    async def records(fpath, n_records=10):\n",
    "        print(f\"Writing {n_records} records to {fpath}\")\n",
    "        with open(fpath, \"w\") as ostream:\n",
    "            for _ in range(n_records):\n",
    "                print(json.dumps(gen_movie()), file=ostream, end=\"\\n\")\n",
    "                await asyncio.sleep(0)"
   ]
  },
  {
   "cell_type": "code",
   "execution_count": 24,
   "id": "7996b881-e88a-47e6-a24d-a25c3e3d64a0",
   "metadata": {},
   "outputs": [
    {
     "name": "stdout",
     "output_type": "stream",
     "text": [
      "Writing 500 records to /tmp/movies.ndjson\n",
      "0.8\t1.0\t0.6\t5.9\t3.3\t3.3\n",
      "0.0\t0.0\t0.0\t0.0\t0.0\t0.0\n",
      "2.0\t1.0\t2.0\t6.8\t1.0\t100.0\n",
      "0.0\t0.0\t0.0\t0.0\t0.0\t0.0\n",
      "0.0\t1.0\t1.0\t2.9\t2.0\t100.0\n",
      "0.0\t0.0\t0.0\t0.0\t0.0\t0.0\n",
      "1.0\t2.0\t2.0\t5.0\t1.0\t100.0\n",
      "0.0\t0.0\t0.0\t0.0\t0.0\t100.0\n",
      "0.0\t0.0\t0.0\t1.0\t1.0\t100.0\n",
      "0.0\t0.0\t0.0\t0.0\t0.0\t100.0\n",
      "0.0\t1.0\t2.0\t5.9\t1.0\t100.0\n",
      "0.0\t0.0\t0.0\t0.0\t0.0\t100.0\n",
      "fin!\n",
      "finished\n",
      "fin!\n"
     ]
    }
   ],
   "source": [
    "import asyncio\n",
    "\n",
    "def run_async(f):\n",
    "    try:\n",
    "        loop = asyncio.get_running_loop()\n",
    "    except RuntimeError:  # 'RuntimeError: There is no current event loop...'\n",
    "        loop = None\n",
    "\n",
    "    if loop and loop.is_running():\n",
    "        task = loop.create_task(f)\n",
    "        task.add_done_callback(lambda _: print('fin!'))\n",
    "    else:\n",
    "        asyncio.run(f)\n",
    "\n",
    "run_async(\n",
    "    run_with_timer(functools.partial(AMovieTable.records, *(\"/tmp/movies.ndjson\",500)), Timer(cpu))\n",
    ")"
   ]
  },
  {
   "cell_type": "markdown",
   "id": "b0f04891",
   "metadata": {},
   "source": [
    "Cool, cool. How could we do the same thing, but with a decorator?"
   ]
  },
  {
   "cell_type": "code",
   "execution_count": 25,
   "id": "66d46424",
   "metadata": {},
   "outputs": [],
   "source": [
    "\n",
    "def awith_cpu(func):\n",
    "    @functools.wraps(func)\n",
    "    async def wrapped(*args, **kwargs):\n",
    "        tsk = Timer(cpu).task()\n",
    "        result = await func(*args, **kwargs)\n",
    "        tsk.cancel()\n",
    "        try:\n",
    "            await tsk\n",
    "        except asyncio.CancelledError:\n",
    "            print(\"fin!\")\n",
    "            return result\n",
    "    return wrapped"
   ]
  },
  {
   "cell_type": "code",
   "execution_count": 27,
   "id": "5ddeb960",
   "metadata": {},
   "outputs": [
    {
     "name": "stdout",
     "output_type": "stream",
     "text": [
      "Writing 500 records to /tmp/movies.ndjson\n",
      "1.9\t3.3\t5.7\t3.2\t2.7\t1.4\n",
      "13.7\t0.0\t2.0\t1.0\t86.4\t4.0\n",
      "100.0\t0.0\t0.0\t0.0\t1.0\t1.0\n",
      "100.0\t2.0\t1.0\t1.0\t4.9\t1.9\n",
      "100.0\t1.9\t0.0\t1.0\t1.0\t0.0\n",
      "100.0\t0.0\t1.0\t2.9\t6.9\t2.0\n",
      "fin!\n",
      "double fin!\n"
     ]
    }
   ],
   "source": [
    "class AMovieTable:\n",
    "    @awith_cpu\n",
    "    async def records(fpath, n_records=10):\n",
    "        print(f\"Writing {n_records} records to {fpath}\")\n",
    "        with open(fpath, \"w\") as ostream:\n",
    "            for _ in range(n_records):\n",
    "                print(json.dumps(gen_movie()), file=ostream, end=\"\\n\")\n",
    "                await asyncio.sleep(0)\n",
    "\n",
    "import asyncio\n",
    "\n",
    "def run_async(f):\n",
    "    try:\n",
    "        loop = asyncio.get_running_loop()\n",
    "    except RuntimeError:  # 'RuntimeError: There is no current event loop...'\n",
    "        loop = None\n",
    "\n",
    "    if loop and loop.is_running():\n",
    "        task = loop.create_task(f)\n",
    "        task.add_done_callback(lambda _: print('double fin!'))\n",
    "    else:\n",
    "        asyncio.run(f)\n",
    "run_async(AMovieTable.records(\"/tmp/movies.ndjson\",500))"
   ]
  },
  {
   "cell_type": "code",
   "execution_count": 20,
   "id": "68a2c7ab-b01a-4552-8139-2387f65f17b3",
   "metadata": {},
   "outputs": [
    {
     "name": "stdout",
     "output_type": "stream",
     "text": [
      "Writing 500 records to /tmp/movies.ndjson\n",
      "4.2\t4.3\t16.0\t0.0\t4.2\t95.8\n",
      "4 /tmp/movies.ndjson\n",
      "-rw-r--r-- 1 jovyan users 23K Nov 30 11:14 /tmp/movies.ndjson\n"
     ]
    }
   ],
   "source": [
    "!wc -l \"/tmp/movies.ndjson\" && ls -alh \"/tmp/movies.ndjson\""
   ]
  },
  {
   "cell_type": "code",
   "execution_count": 21,
   "id": "fd036493-4c7f-48d3-b6c3-c7d515c8ccb4",
   "metadata": {},
   "outputs": [
    {
     "name": "stdout",
     "output_type": "stream",
     "text": [
      "fin!\n",
      "Writing 500 records to /tmp/movies.ndjson\n",
      "Writing 500 records to /tmp/movies2.ndjson\n",
      "6.3\t62.6\t8.5\t82.3\t7.0\t72.26.9\t62.8\t9.7\t82.4\t6.9\t72.3\n",
      "\n",
      "99.0\t0.0\t1.0\t100.0\t4.0\t99.0\n",
      "99.0\t1.0\t2.9\t100.0\t3.8\t99.0\n",
      "100.0\t3.9\t3.0\t99.0\t7.0\t100.0\n",
      "100.0\t3.9\t3.0\t99.0\t7.9\t100.0\n",
      "100.0\t2.0\t0.0\t100.0\t7.8\t99.0\n",
      "100.0\t1.9\t1.0\t100.0\t6.9\t99.0\n",
      "100.0\t3.9\t3.0\t100.0\t7.1\t100.0\n",
      "99.0\t4.9\t2.0\t100.0\t8.1\t100.0\n",
      "fin!\n",
      "fin!\n"
     ]
    }
   ],
   "source": [
    "from multiprocessing import Pool, Process\n",
    "\n",
    "procs = []\n",
    "for fpath in [\"/tmp/movies.ndjson\", \"/tmp/movies2.ndjson\"]:\n",
    "    p = Process(target=MovieTable.records, args=(fpath,500))\n",
    "    p.start()\n",
    "    procs.append(p)\n",
    "\n",
    "while True:\n",
    "    if all(p.is_alive() for p in procs):\n",
    "        print(\"fin!\")\n",
    "        break"
   ]
  },
  {
   "cell_type": "code",
   "execution_count": 22,
   "id": "264f330c",
   "metadata": {},
   "outputs": [],
   "source": [
    "def run_async_pool(args):\n",
    "    run_async(AMovieTable.records, args)\n",
    "\n",
    "def _():\n",
    "    with Pool(2) as p:\n",
    "        p.map(run_async_pool, [(\"/tmp/movies.ndjson\", 500), (\"/tmp/movies2.ndjson\", 500)])"
   ]
  },
  {
   "cell_type": "code",
   "execution_count": 23,
   "id": "db6dad87",
   "metadata": {},
   "outputs": [
    {
     "name": "stdout",
     "output_type": "stream",
     "text": [
      "8.3\t29.3\t9.9\t67.1\t4.8\t48.2\n",
      "10.0\t100.0\t25.0\t100.0\t25.0\t100.0\n",
      "35.7\t65.1\t3.7\t100.0\t4.8\t98.8\n",
      "100.0\t0.0\t0.0\t100.0\t0.0\t100.0\n",
      "100.0\t2.3\t0.0\t98.8\t6.9\t100.0\n",
      "100.0\t10.5\t15.0\t100.0\t12.5\t100.0\n",
      "100.0\t2.4\t0.0\t100.0\t9.4\t98.8\n",
      "100.0\t0.0\t0.0\t100.0\t0.0\t100.0\n",
      "100.0\t2.3\t1.2\t100.0\t4.8\t100.0\n",
      "100.0\t10.5\t10.5\t100.0\t16.7\t100.0\n",
      "98.9\t2.4\t1.2\t98.9\t6.0\t100.0\n",
      "100.0\t0.0\t0.0\t100.0\t0.0\t95.2\n",
      "45.9\t2.3\t1.2\t43.5\t4.7\t100.0\n",
      "0.0\t11.1\t5.6\t9.5\t5.3\t100.0\n",
      "0.0\t1.1\t0.0\t0.0\t1.1\t100.0\n",
      "0.0\t0.0\t5.0\t0.0\t0.0\t100.0\n",
      "1.1\t2.3\t0.0\t0.0\t2.3\t100.0\n",
      "0.0\t0.0\t5.6\t5.9\t0.0\t100.0\n",
      "0.0\t1.1\t0.0\t0.0\t2.3\t100.0\n",
      "0.0\t5.0\t0.0\t0.0\t0.0\t100.0\n",
      "4.7\t1.2\t1.2\t2.3\t1.2\t100.0\n",
      "4.3\t8.3\t4.5\t0.0\t0.0\t100.0\n",
      "2.5\t1.2\t0.0\t53.1\t0.0\t43.0\n",
      "finished\n",
      "fin!\n",
      "fin!\n",
      "fin!\n"
     ]
    }
   ],
   "source": [
    "# _()"
   ]
  }
 ],
 "metadata": {
  "kernelspec": {
   "display_name": "Python 3 (ipykernel)",
   "language": "python",
   "name": "python3"
  },
  "language_info": {
   "codemirror_mode": {
    "name": "ipython",
    "version": 3
   },
   "file_extension": ".py",
   "mimetype": "text/x-python",
   "name": "python",
   "nbconvert_exporter": "python",
   "pygments_lexer": "ipython3",
   "version": "3.9.7"
  }
 },
 "nbformat": 4,
 "nbformat_minor": 5
}
