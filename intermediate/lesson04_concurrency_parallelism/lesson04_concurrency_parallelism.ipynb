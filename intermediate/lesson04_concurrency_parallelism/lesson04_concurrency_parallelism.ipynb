{
 "cells": [
  {
   "cell_type": "markdown",
   "id": "9cfefd37-a378-42f0-b0dc-3b479bbaec1e",
   "metadata": {},
   "source": [
    "# Lesson 04: Concurrency & Parallelism"
   ]
  },
  {
   "cell_type": "markdown",
   "id": "9b999bdd-43f0-4854-b4c7-616a05484547",
   "metadata": {},
   "source": [
    "## 1. Parallelism\n",
    "\n",
    "Compared to concurrency, parallelism is easier to use, and is _usually_ easier to think about and design.\n",
    "\n",
    "We can explore this through a data-processing scenario: going through a very large CSV/JSON doc and filtering out columns or keys.\n",
    "This is usually done when selecting a relevant subset of data from a very broad data set, usually sourced from a 3rd party.\n",
    "\n",
    "e.g. You want to download the wikipedia dataset and filter for actors, movie titles and release years, so that you can make a simple and comprehensive list.\n",
    "\n",
    "e.g.2 You want to make a demo example for this lesson, so you have to fake the data before demonstrating the filtering\n",
    "\n",
    "### Example 1: Generating a text file\n",
    "\n",
    "1. We need to generate a _very_ large NDJSON file (newline-delimited JSON). For simplicities sake, all lines are readable/same schema etc.\n",
    "\n",
    "    ```json\n",
    "    {\"a\": \"B\"}\n",
    "    {\"a\": \"C\"}\n",
    "    ```\n",
    "\n",
    "1.1. There are many language and OS-level optimisations around doing the _exact_ same thing, like performing the same calculation over the same file line data. This means that we have to randomise the values in order to make a good test file.\n",
    "\n",
    "    > use `faker`\n",
    "    \n",
    "itle.akas.tsv.gz - Contains the following information for titles:\n",
    "\n",
    "titleId (string) - a tconst, an alphanumeric unique identifier of the title\n",
    "ordering (integer) – a number to uniquely identify rows for a given titleId\n",
    "title (string) – the localized title\n",
    "region (string) - the region for this version of the title\n",
    "language (string) - the language of the title\n",
    "types (array) - Enumerated set of attributes for this alternative title. One or more of the following: \"alternative\", \"dvd\", \"festival\", \"tv\", \"video\", \"working\", \"original\", \"imdbDisplay\". New values may be added in the future without warning\n",
    "attributes (array) - Additional terms to describe this alternative title, not enumerated\n",
    "isOriginalTitle (boolean) – 0: not original title; 1: original title\n",
    "title.basics.tsv.gz - Contains the following information for titles:\n",
    "tconst (string) - alphanumeric unique identifier of the title\n",
    "titleType (string) – the type/format of the title (e.g. movie, short, tvseries, tvepisode, video, etc)\n",
    "primaryTitle (string) – the more popular title / the title used by the filmmakers on promotional materials at the point of release\n",
    "originalTitle (string) - original title, in the original language\n",
    "isAdult (boolean) - 0: non-adult title; 1: adult title\n",
    "startYear (YYYY) – represents the release year of a title. In the case of TV Series, it is the series start year\n",
    "endYear (YYYY) – TV Series end year. ‘\\N’ for all other title types\n",
    "runtimeMinutes – primary runtime of the title, in minutes\n",
    "genres (string array) – includes up to three genres associated with the title\n",
    "title.crew.tsv.gz – Contains the director and writer information for all the titles in IMDb. Fields include:\n",
    "tconst (string) - alphanumeric unique identifier of the title\n",
    "directors (array of nconsts) - director(s) of the given title\n",
    "writers (array of nconsts) – writer(s) of the given title"
   ]
  },
  {
   "cell_type": "code",
   "execution_count": 1,
   "id": "4e6af7de-b21f-4443-a90c-98ec77e96e27",
   "metadata": {},
   "outputs": [
    {
     "data": {
      "text/plain": [
       "[None, None]"
      ]
     },
     "execution_count": 1,
     "metadata": {},
     "output_type": "execute_result"
    }
   ],
   "source": [
    "from faker import (Faker, providers)\n",
    "f = Faker()\n",
    "list(map(f.add_provider, [providers.misc, providers.geo]))"
   ]
  },
  {
   "cell_type": "code",
   "execution_count": 2,
   "id": "a8f27e20-0713-4bc0-8aad-3bb941bc2a74",
   "metadata": {},
   "outputs": [
    {
     "data": {
      "text/plain": [
       "<map at 0x7fcc614d67f0>"
      ]
     },
     "execution_count": 2,
     "metadata": {},
     "output_type": "execute_result"
    }
   ],
   "source": [
    "map(f.name(), range(10))"
   ]
  },
  {
   "cell_type": "code",
   "execution_count": 3,
   "id": "bb873a55-b643-4322-ab8e-958a05e9fa96",
   "metadata": {},
   "outputs": [],
   "source": [
    "def fkr_n(fkr, n): return [fkr() for _ in range(n)]"
   ]
  },
  {
   "cell_type": "code",
   "execution_count": 4,
   "id": "7b818fc6-b32d-4593-8a7d-52128e90e316",
   "metadata": {},
   "outputs": [],
   "source": [
    "movie = {\n",
    "    \"titleId\":         f.uuid4(),\n",
    "    \"ordering\":        f.random_int(),\n",
    "    \"title\":           f.catch_phrase(),\n",
    "    \"region\":          f.locale(),\n",
    "    \"language\":        f.language_name(),\n",
    "    \"types\":           fkr_n(f.name, 5),\n",
    "    \"attributes\":      fkr_n(f.name, 5),\n",
    "    \"isOriginalTitle\": f.boolean(),\n",
    "    \"tconst\":          f.uuid4(),\n",
    "    \"titleType\":       f.domain_name(),\n",
    "    \"primaryTitle\":    f.catch_phrase(),\n",
    "    \"originalTitle\":   \":\".join([f.company(), f.catch_phrase()]),\n",
    "    \"isAdult\":         f.boolean(),\n",
    "    \"startYear\":       f.date(),\n",
    "    \"endYear\":         f.year(),\n",
    "    \"runtimeMinutes\":  f.random_int(),\n",
    "    \"genres\":          fkr_n(f.country, 5),\n",
    "    \"tconst\":          f.hex_color(),\n",
    "    \"directors\":       fkr_n(f.name, 2),\n",
    "    \"writers\":         fkr_n(f.name, 40),\n",
    "    \"actors\":          fkr_n(f.name, 120),\n",
    "}"
   ]
  },
  {
   "cell_type": "code",
   "execution_count": 9,
   "id": "cae05daa-f21f-449c-82d1-c7682bc7aae1",
   "metadata": {},
   "outputs": [],
   "source": [
    "import json\n",
    "from IPython.display import JSON"
   ]
  },
  {
   "cell_type": "code",
   "execution_count": 11,
   "id": "2671ca84-ff12-4a19-9a3a-fb34ff8b30e0",
   "metadata": {},
   "outputs": [
    {
     "data": {
      "application/json": {
       "actors": [
        "Tracy Marsh",
        "William Campbell",
        "Matthew Cunningham",
        "Cindy Hendrix",
        "Patricia Murphy",
        "Anthony Myers",
        "Cindy Lopez",
        "Kathryn Montes",
        "Derrick Bell",
        "Justin Herrera",
        "Margaret Thompson",
        "Kenneth Morales",
        "Mary Young",
        "Stephanie Fitzpatrick",
        "Tyrone Newton",
        "Deborah Garcia",
        "Samuel Acosta",
        "Gary Burgess",
        "Eric Luna",
        "Ann White",
        "Laura Whitaker",
        "Dr. Katherine Franklin",
        "Alicia Pitts",
        "Mary Anthony",
        "John Martin",
        "Jose Jones",
        "Carrie Foley",
        "Michael Weaver",
        "Christina Smith",
        "Steven Ramirez",
        "Steven Miles",
        "Jonathan Ramos",
        "Justin Hebert",
        "Isaac Davis",
        "Alan Jones",
        "Joshua Adams",
        "Tanya Blackburn",
        "Katie Wilson",
        "Aimee Wright",
        "Jenna Walker",
        "Robert Sanford",
        "Anthony Hatfield",
        "Kenneth Murphy",
        "Dawn Alexander",
        "Daniel Martin",
        "Michelle Austin",
        "Oscar Carter",
        "Sandra Perry",
        "Valerie Sutton",
        "Denise Warren",
        "Lisa Coleman",
        "Wesley Love",
        "Kenneth Stokes",
        "Anthony Jones",
        "Crystal Williams",
        "Ross Cowan",
        "Janet Rivas",
        "Jessica Sullivan",
        "Monica Johnson",
        "Brett Thompson",
        "Paul Solis",
        "Justin Warner",
        "Phillip Sullivan",
        "Justin Green",
        "Ashley Rodriguez",
        "Stephen Davis",
        "Nicole Hall",
        "Pamela Dominguez",
        "Teresa Chang",
        "Stephanie Stewart",
        "Geoffrey Pham",
        "Steven Robbins",
        "Margaret Sutton",
        "Jodi Boyd",
        "Amanda Roberts",
        "Pamela Williams",
        "Alexis Lee MD",
        "Marc Thompson",
        "Susan Dixon",
        "Jeanne Evans",
        "Timothy Rivera",
        "Deborah Brown",
        "Wesley Harrison DDS",
        "Michelle Fisher",
        "Andrea May",
        "Michelle Scott",
        "Jason Pacheco",
        "Brent Ray",
        "Theresa Davis",
        "Brandon Walter",
        "Linda Knight",
        "April Martinez",
        "Dr. Jaclyn Vasquez",
        "Dakota Garza",
        "James Yu",
        "Randy Smith",
        "Stacy Simpson",
        "Steven Smith",
        "Stephanie Decker",
        "Diana Brown",
        "Matthew Wolf",
        "Trevor Hamilton",
        "Roy Villegas",
        "Timothy Lam",
        "Michael Arnold",
        "David Henson",
        "Carolyn Rivera",
        "Troy Gibson",
        "Amanda Hartman",
        "Timothy West",
        "Rebecca Hughes",
        "Hannah Clark",
        "Christopher Espinoza",
        "Melissa Bailey",
        "Carl Acosta",
        "Jennifer Williams",
        "Courtney Jones",
        "Grant Grimes",
        "Angel Walker",
        "Lisa Mcconnell"
       ],
       "attributes": [
        "Christopher Nelson",
        "James Miller",
        "John Burns",
        "William Smith",
        "Carlos Wright"
       ],
       "directors": [
        "Jacqueline Sellers",
        "Benjamin Hunt"
       ],
       "endYear": "1970",
       "genres": [
        "South Africa",
        "Italy",
        "Bahamas",
        "Jersey",
        "Malaysia"
       ],
       "isAdult": false,
       "isOriginalTitle": true,
       "language": "Haitian",
       "ordering": 3096,
       "originalTitle": "Oconnor Ltd:Managed needs-based artificial intelligence",
       "primaryTitle": "Adaptive directional database",
       "region": "as_IN",
       "runtimeMinutes": 8531,
       "startYear": "1999-12-26",
       "tconst": "#ffeaf7",
       "title": "Secured homogeneous Internet solution",
       "titleId": "c2421acb-de33-4853-846f-c332c9e6ce7e",
       "titleType": "russell.net",
       "types": [
        "Nicole Kelly",
        "Nicholas Brown",
        "Debra Baker",
        "Pamela Hudson",
        "Michaela Brady"
       ],
       "writers": [
        "Natasha Jacobson",
        "Joseph Hayes",
        "Mrs. Crystal Durham",
        "Ms. Jo Garcia",
        "George Chapman",
        "Alexandra French",
        "Annette Nelson",
        "Joann Keith",
        "Gabriella Gutierrez",
        "Wendy Mcguire",
        "Samuel Madden",
        "Tracy Hudson",
        "Laurie Buck",
        "Timothy Kim",
        "John Saunders",
        "Craig Evans",
        "Scott Hart",
        "Jaime Brandt",
        "Kevin Shaw",
        "Patricia Nelson",
        "Scott Contreras",
        "Nancy Mckinney",
        "Matthew Chan",
        "Aaron Hall",
        "James Hodge",
        "Jennifer Young",
        "Jim Carrillo",
        "Taylor Martinez",
        "Justin Potts",
        "Eric Jones",
        "Debra Fowler",
        "Jeffrey Williams",
        "Kirsten Ortega",
        "Andrea Kelly",
        "Theresa Torres",
        "Duane Franco",
        "Vanessa Francis",
        "Nicholas Grant",
        "Crystal Stevens",
        "Zachary Jackson"
       ]
      },
      "text/plain": [
       "<IPython.core.display.JSON object>"
      ]
     },
     "execution_count": 11,
     "metadata": {
      "application/json": {
       "expanded": false,
       "root": "root"
      }
     },
     "output_type": "execute_result"
    }
   ],
   "source": [
    "JSON(json.dumps(movie))"
   ]
  },
  {
   "cell_type": "markdown",
   "id": "9ecf39df-2168-4231-8530-72516a1e7b1c",
   "metadata": {},
   "source": [
    "Woohoo! Now we just need to write this to a file"
   ]
  },
  {
   "cell_type": "code",
   "execution_count": null,
   "id": "851dfbf4-7d81-4e31-8a36-56944a564bc0",
   "metadata": {},
   "outputs": [],
   "source": []
  }
 ],
 "metadata": {
  "kernelspec": {
   "display_name": "Python 3 (ipykernel)",
   "language": "python",
   "name": "python3"
  },
  "language_info": {
   "codemirror_mode": {
    "name": "ipython",
    "version": 3
   },
   "file_extension": ".py",
   "mimetype": "text/x-python",
   "name": "python",
   "nbconvert_exporter": "python",
   "pygments_lexer": "ipython3",
   "version": "3.9.7"
  }
 },
 "nbformat": 4,
 "nbformat_minor": 5
}
