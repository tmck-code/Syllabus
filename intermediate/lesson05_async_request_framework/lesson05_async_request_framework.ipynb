{
 "cells": [
  {
   "cell_type": "code",
   "execution_count": 13,
   "metadata": {},
   "outputs": [
    {
     "name": "stdout",
     "output_type": "stream",
     "text": [
      "Hello, world\n",
      "\n",
      "[0, 1, 2, 3, 4, 5, 6, 7, 8, 9, 10, 11, 12, 13, 14, 15, 16, 17, 18, 19, 20, 21, 22, 23, 24, 25, 26, 27, 28, 29, 30, 31, 32, 33, 34, 35, 36, 37, 38, 39, 40, 41, 42, 43, 44, 45, 46, 47, 48, 49, 50, 51, 52, 53, 54, 55, 56, 57, 58, 59, 60, 61, 62, 63, 64, 65, 66, 67, 68, 69, 70, 71, 72, 73, 74, 75, 76, 77, 78, 79, 80, 81, 82, 83, 84, 85, 86, 87, 88, 89, 90, 91, 92, 93, 94, 95, 96, 97, 98, 99]\n",
      "{\"email\": \"josephpatel@example.org\"}\n"
     ]
    }
   ],
   "source": [
    "import requests\n",
    "\n",
    "print(requests.get(\"http://0.0.0.0:8080\").text)\n",
    "input()\n",
    "print(requests.get(\"http://0.0.0.0:8080/items\").text)\n",
    "input()\n",
    "print(requests.get(\"http://0.0.0.0:8080/items/1\").text)"
   ]
  },
  {
   "cell_type": "code",
   "execution_count": 15,
   "metadata": {},
   "outputs": [
    {
     "name": "stdout",
     "output_type": "stream",
     "text": [
      "{\"email\": \"tiffany09@example.com\"}\n",
      "{\"email\": \"tiffany09@example.com\"}\n",
      "{\"email\": \"tiffany09@example.com\"}\n",
      "{\"email\": \"tiffany09@example.com\"}\n",
      "{\"email\": \"tiffany09@example.com\"}\n",
      "{\"email\": \"tiffany09@example.com\"}\n",
      "{\"email\": \"tiffany09@example.com\"}\n",
      "{\"email\": \"tiffany09@example.com\"}\n",
      "{\"email\": \"tiffany09@example.com\"}\n",
      "{\"email\": \"tiffany09@example.com\"}\n",
      "{\"email\": \"tiffany09@example.com\"}\n",
      "{\"email\": \"tiffany09@example.com\"}\n",
      "{\"email\": \"tiffany09@example.com\"}\n",
      "{\"email\": \"tiffany09@example.com\"}\n",
      "{\"email\": \"tiffany09@example.com\"}\n",
      "{\"email\": \"tiffany09@example.com\"}\n",
      "{\"email\": \"tiffany09@example.com\"}\n",
      "{\"email\": \"tiffany09@example.com\"}\n",
      "{\"email\": \"tiffany09@example.com\"}\n",
      "{\"email\": \"tiffany09@example.com\"}\n",
      "{\"email\": \"tiffany09@example.com\"}\n",
      "{\"email\": \"tiffany09@example.com\"}\n",
      "{\"email\": \"tiffany09@example.com\"}\n",
      "{\"email\": \"tiffany09@example.com\"}\n",
      "{\"email\": \"tiffany09@example.com\"}\n",
      "{\"email\": \"tiffany09@example.com\"}\n",
      "{\"email\": \"tiffany09@example.com\"}\n",
      "{\"email\": \"tiffany09@example.com\"}\n",
      "{\"email\": \"tiffany09@example.com\"}\n",
      "{\"email\": \"tiffany09@example.com\"}\n",
      "{\"email\": \"tiffany09@example.com\"}\n",
      "{\"email\": \"tiffany09@example.com\"}\n",
      "{\"email\": \"tiffany09@example.com\"}\n",
      "{\"email\": \"tiffany09@example.com\"}\n",
      "{\"email\": \"tiffany09@example.com\"}\n",
      "{\"email\": \"tiffany09@example.com\"}\n",
      "{\"email\": \"tiffany09@example.com\"}\n",
      "{\"email\": \"tiffany09@example.com\"}\n",
      "{\"email\": \"tiffany09@example.com\"}\n",
      "{\"email\": \"tiffany09@example.com\"}\n",
      "{\"email\": \"tiffany09@example.com\"}\n",
      "{\"email\": \"tiffany09@example.com\"}\n",
      "{\"email\": \"tiffany09@example.com\"}\n",
      "{\"email\": \"tiffany09@example.com\"}\n",
      "{\"email\": \"tiffany09@example.com\"}\n",
      "{\"email\": \"tiffany09@example.com\"}\n",
      "{\"email\": \"tiffany09@example.com\"}\n",
      "{\"email\": \"tiffany09@example.com\"}\n",
      "{\"email\": \"tiffany09@example.com\"}\n",
      "{\"email\": \"tiffany09@example.com\"}\n",
      "{\"email\": \"tiffany09@example.com\"}\n",
      "{\"email\": \"tiffany09@example.com\"}\n",
      "{\"email\": \"tiffany09@example.com\"}\n",
      "{\"email\": \"tiffany09@example.com\"}\n",
      "{\"email\": \"tiffany09@example.com\"}\n",
      "{\"email\": \"tiffany09@example.com\"}\n",
      "{\"email\": \"tiffany09@example.com\"}\n",
      "{\"email\": \"tiffany09@example.com\"}\n",
      "{\"email\": \"tiffany09@example.com\"}\n",
      "{\"email\": \"tiffany09@example.com\"}\n",
      "{\"error\": {\"limit\": 60, \"current\": 61, \"remaining\": 55.48832941055298}}\n",
      "{\"error\": {\"limit\": 60, \"current\": 62, \"remaining\": 55.479055404663086}}\n",
      "{\"error\": {\"limit\": 60, \"current\": 63, \"remaining\": 55.47038459777832}}\n",
      "{\"error\": {\"limit\": 60, \"current\": 64, \"remaining\": 55.460585594177246}}\n",
      "{\"error\": {\"limit\": 60, \"current\": 65, \"remaining\": 55.45191168785095}}\n",
      "{\"error\": {\"limit\": 60, \"current\": 66, \"remaining\": 55.44162464141846}}\n",
      "{\"error\": {\"limit\": 60, \"current\": 67, \"remaining\": 55.433027505874634}}\n",
      "{\"error\": {\"limit\": 60, \"current\": 68, \"remaining\": 55.42455577850342}}\n",
      "{\"error\": {\"limit\": 60, \"current\": 69, \"remaining\": 55.41658353805542}}\n",
      "{\"error\": {\"limit\": 60, \"current\": 70, \"remaining\": 55.40800094604492}}\n"
     ]
    }
   ],
   "source": [
    "for _ in range(70):\n",
    "    print(requests.get(\"http://0.0.0.0:8080/items/1\").text)"
   ]
  },
  {
   "cell_type": "code",
   "execution_count": null,
   "metadata": {},
   "outputs": [],
   "source": [
    "from aiohttp.web_request import \n",
    "\n",
    "async def req(i):\n",
    "    await print(request.get(f\"http://0.0.0.0:8080/items/{i}\").text)\n",
    "\n"
   ]
  },
  {
   "cell_type": "code",
   "execution_count": null,
   "metadata": {},
   "outputs": [],
   "source": [
    "import asyncio\n",
    "import time\n",
    "\n",
    "class ThrottledQueue(asyncio.Queue):\n",
    "    \"subclass asyncio.Queue i.e. import all behaviour\"\n",
    "\n",
    "    def __init__(self, per_second, maxsize=0, *, loop=None, i=0):\n",
    "        \"Set up some extra vars and then call the original init\"\n",
    "\n",
    "        self.lock = asyncio.Lock()\n",
    "        self.i = i\n",
    "        self.per_second = per_second\n",
    "        self.last_get = time.time() # this is the fastest way... I think?\n",
    "        super(ThrottledQueue, self).__init__(maxsize=maxsize, loop=loop)\n",
    "\n",
    "    async def retry(self):\n",
    "        \"\"\"\n",
    "        Signals to the queue that an item is being retried, \n",
    "        so pause any get()s by aquiring the lock and throttling before releasing\n",
    "        \"\"\"\n",
    "        async with self.lock:\n",
    "            await self._throttle()\n",
    "\n",
    "    async def get(self):\n",
    "        async with self.lock:\n",
    "            await self._throttle()\n",
    "            result = await super(ThrottledQueue, self).get()\n",
    "\n",
    "            self.last_get = time.time()\n",
    "            return result\n",
    "\n",
    "    async def _throttle(self):\n",
    "        elapsed = time.time() - self.last_get\n",
    "        sleep_time = self.per_second - elapsed\n",
    "        print(self.i, '- times', f'{elapsed:.5f}', f'{sleep_time:.5f}', '- sizes', self.qsize(), f'{self.qsize() / self.maxsize:.5f}')\n",
    "        await asyncio.sleep(max(0, sleep_time)) # Make sure we wait at least 0 seconds\n"
   ]
  }
 ],
 "metadata": {
  "interpreter": {
   "hash": "d4d1e4263499bec80672ea0156c357c1ee493ec2b1c70f0acce89fc37c4a6abe"
  },
  "kernelspec": {
   "display_name": "Python 3.9.7 64-bit ('base': conda)",
   "language": "python",
   "name": "python3"
  },
  "language_info": {
   "codemirror_mode": {
    "name": "ipython",
    "version": 3
   },
   "file_extension": ".py",
   "mimetype": "text/x-python",
   "name": "python",
   "nbconvert_exporter": "python",
   "pygments_lexer": "ipython3",
   "version": "3.9.7"
  },
  "orig_nbformat": 4
 },
 "nbformat": 4,
 "nbformat_minor": 2
}
