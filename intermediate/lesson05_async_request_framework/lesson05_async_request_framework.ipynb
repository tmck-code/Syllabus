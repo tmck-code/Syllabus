{
 "cells": [
  {
   "cell_type": "code",
   "execution_count": null,
   "metadata": {},
   "outputs": [],
   "source": [
    "import asyncio\n",
    "import time\n",
    "\n",
    "class ThrottledQueue(asyncio.Queue):\n",
    "    \"subclass asyncio.Queue i.e. import all behaviour\"\n",
    "\n",
    "    def __init__(self, per_second, maxsize=0, *, loop=None, i=0):\n",
    "        \"Set up some extra vars and then call the original init\"\n",
    "\n",
    "        self.lock = asyncio.Lock()\n",
    "        self.i = i\n",
    "        self.per_second = per_second\n",
    "        self.last_get = time.time() # this is the fastest way... I think?\n",
    "        super(ThrottledQueue, self).__init__(maxsize=maxsize, loop=loop)\n",
    "\n",
    "    async def retry(self):\n",
    "        \"\"\"\n",
    "        Signals to the queue that an item is being retried, \n",
    "        so pause any get()s by aquiring the lock and throttling before releasing\n",
    "        \"\"\"\n",
    "        async with self.lock:\n",
    "            await self._throttle()\n",
    "\n",
    "    async def get(self):\n",
    "        async with self.lock:\n",
    "            await self._throttle()\n",
    "            result = await super(ThrottledQueue, self).get()\n",
    "\n",
    "            self.last_get = time.time()\n",
    "            return result\n",
    "\n",
    "    async def _throttle(self):\n",
    "        elapsed = time.time() - self.last_get\n",
    "        sleep_time = self.per_second - elapsed\n",
    "        print(self.i, '- times', f'{elapsed:.5f}', f'{sleep_time:.5f}', '- sizes', self.qsize(), f'{self.qsize() / self.maxsize:.5f}')\n",
    "        await asyncio.sleep(max(0, sleep_time)) # Make sure we wait at least 0 seconds\n"
   ]
  }
 ],
 "metadata": {
  "language_info": {
   "name": "python"
  },
  "orig_nbformat": 4
 },
 "nbformat": 4,
 "nbformat_minor": 2
}
