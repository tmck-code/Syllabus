{
 "cells": [
  {
   "cell_type": "markdown",
   "id": "e210fb6b-ad71-40ca-81a0-25771b309555",
   "metadata": {},
   "source": [
    "# Levels Of Testing"
   ]
  },
  {
   "cell_type": "markdown",
   "id": "72038633-2d71-4311-adc9-29223c4b0843",
   "metadata": {},
   "source": [
    "- Unit test\n",
    "- Integration test\n",
    "\n",
    "---\n",
    "\n",
    "- Unit testing\n",
    "- Method Mocking\n",
    "- Request Mocking\n",
    "- Infra using docker\n",
    "\n",
    "---\n",
    "\n",
    "- Code coverage\n",
    "- Linting\n",
    "- Performance\n",
    "- Good practices"
   ]
  },
  {
   "cell_type": "markdown",
   "id": "1021ee6b-403b-4c75-b043-6b93fe05ede9",
   "metadata": {},
   "source": [
    "## Example: formatting and uploading a file to s3"
   ]
  },
  {
   "cell_type": "code",
   "execution_count": 4,
   "id": "a9f1d682-5551-4b79-aaab-b0d9abcb50e0",
   "metadata": {},
   "outputs": [
    {
     "ename": "ModuleNotFoundError",
     "evalue": "No module named 'boto3'",
     "output_type": "error",
     "traceback": [
      "\u001b[0;31m---------------------------------------------------------------------------\u001b[0m",
      "\u001b[0;31mModuleNotFoundError\u001b[0m                       Traceback (most recent call last)",
      "Input \u001b[0;32mIn [4]\u001b[0m, in \u001b[0;36m<cell line: 1>\u001b[0;34m()\u001b[0m\n\u001b[0;32m----> 1\u001b[0m \u001b[38;5;28;01mimport\u001b[39;00m \u001b[38;5;21;01mboto3\u001b[39;00m\n\u001b[1;32m      3\u001b[0m \u001b[38;5;28;01mdef\u001b[39;00m \u001b[38;5;21mfmt\u001b[39m(msg):\n\u001b[1;32m      4\u001b[0m     \u001b[38;5;28;01mpass\u001b[39;00m\n",
      "\u001b[0;31mModuleNotFoundError\u001b[0m: No module named 'boto3'"
     ]
    }
   ],
   "source": [
    "import boto3\n",
    "\n",
    "def fmt(msg):\n",
    "    pass\n",
    "\n",
    "def upload(msg):\n",
    "    with open('tmp', 'w') as ostream:\n",
    "        ostream.write(fmt(msg))\n",
    "    boto3.client('s3').upload_file('tmp', bucket, object_name)"
   ]
  },
  {
   "cell_type": "markdown",
   "id": "44de80d7-4cc1-4094-aa55-3ca638ec095a",
   "metadata": {},
   "source": [
    "## 1. Unit testing\n",
    "\n",
    "The most basic kind of test. This tests the **public** behaviours of your code.\n",
    "\n",
    "> Do not write tests explicitly for private, test the public methods that use them instead"
   ]
  },
  {
   "cell_type": "code",
   "execution_count": null,
   "id": "fd2b501b-f075-4efe-961d-4375a8f13152",
   "metadata": {},
   "outputs": [],
   "source": []
  }
 ],
 "metadata": {
  "kernelspec": {
   "display_name": "Python 3 (ipykernel)",
   "language": "python",
   "name": "python3"
  },
  "language_info": {
   "codemirror_mode": {
    "name": "ipython",
    "version": 3
   },
   "file_extension": ".py",
   "mimetype": "text/x-python",
   "name": "python",
   "nbconvert_exporter": "python",
   "pygments_lexer": "ipython3",
   "version": "3.10.4"
  }
 },
 "nbformat": 4,
 "nbformat_minor": 5
}
