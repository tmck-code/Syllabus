{
 "cells": [
  {
   "cell_type": "markdown",
   "id": "fba5875b",
   "metadata": {},
   "source": [
    "# Lesson 2: Class Warfare\n",
    "\n",
    "> Disclaimer: Most of these points should only be applied to Python.\n",
    "\n",
    "- Overutilising or underutilising classes can lead to ruin\n",
    "- Classes can be a powerful tool or an endless garden path"
   ]
  },
  {
   "cell_type": "markdown",
   "id": "4deeb3af",
   "metadata": {},
   "source": [
    "## Benefits vs Drawbacks\n",
    "\n",
    "### Benefits\n",
    "\n",
    "- Can keep track of state\n",
    "  - No need to pass parameters back and forth\n",
    "  - No thread-unsafe global variables\n",
    "  - Can logically initialise state and then use it\n",
    "- Can organise a hierarcy of states that belong together\n",
    "- Provide dot-methods for accessing properties\n",
    "  - \"ask, don't tell\""
   ]
  },
  {
   "cell_type": "markdown",
   "id": "720aed0b",
   "metadata": {},
   "source": [
    "- We have a collection of files\n",
    "- Must get some attributes from each, and add those into a shared collection"
   ]
  },
  {
   "cell_type": "markdown",
   "id": "676f0df2",
   "metadata": {},
   "source": [
    "## Functions vs Classes\n",
    "\n",
    "### Functions vs Methods\n",
    "\n",
    "In python\n",
    "\n",
    "- a **function** takes parameters, returns a value\n",
    "- a **method** can be called on an object, and can access state in the object"
   ]
  },
  {
   "cell_type": "markdown",
   "id": "eda63bbe",
   "metadata": {},
   "source": [
    "## Baby steps"
   ]
  },
  {
   "cell_type": "code",
   "execution_count": 2,
   "id": "dd4c0875",
   "metadata": {},
   "outputs": [],
   "source": [
    "CONFIG = {\n",
    "    'thing': 'a',\n",
    "    'identifiier': 'b',\n",
    "    'name': 'c'\n",
    "}"
   ]
  },
  {
   "cell_type": "markdown",
   "id": "f4afd2ce",
   "metadata": {},
   "source": [
    "_This isn't very safe if something goes wrong_"
   ]
  },
  {
   "cell_type": "code",
   "execution_count": 3,
   "id": "93eaec9b",
   "metadata": {},
   "outputs": [
    {
     "ename": "KeyError",
     "evalue": "'identifier'",
     "output_type": "error",
     "traceback": [
      "\u001b[0;31m---------------------------------------------------------------------------\u001b[0m",
      "\u001b[0;31mKeyError\u001b[0m                                  Traceback (most recent call last)",
      "\u001b[0;32m<ipython-input-3-2293af29cfe7>\u001b[0m in \u001b[0;36m<module>\u001b[0;34m\u001b[0m\n\u001b[0;32m----> 1\u001b[0;31m \u001b[0mCONFIG\u001b[0m\u001b[0;34m[\u001b[0m\u001b[0;34m'identifier'\u001b[0m\u001b[0;34m]\u001b[0m\u001b[0;34m\u001b[0m\u001b[0;34m\u001b[0m\u001b[0m\n\u001b[0m",
      "\u001b[0;31mKeyError\u001b[0m: 'identifier'"
     ]
    }
   ],
   "source": [
    "CONFIG['identifier']"
   ]
  },
  {
   "cell_type": "markdown",
   "id": "56f808ef",
   "metadata": {},
   "source": [
    "`namedtuple` == Quick 'n' dirty class!\n",
    "\n",
    "Used when you just need to\n",
    "- make sure that the correct keys/values are present\n",
    "- access something a few times (safely) via a dot method rather than a dict key lookup"
   ]
  },
  {
   "cell_type": "code",
   "execution_count": 5,
   "id": "7de3785f",
   "metadata": {},
   "outputs": [
    {
     "data": {
      "text/html": [
       "\n",
       "<style>\n",
       "#notebook-container {\n",
       "    width: 100%\n",
       "}\n",
       "\n",
       ".code_cell {\n",
       "   flex-direction: row !important;\n",
       "}\n",
       "\n",
       ".code_cell .input {\n",
       "    width: 50%\n",
       "}\n",
       "\n",
       ".code_cell .output_wrapper {\n",
       "    width: 50%\n",
       "}\n",
       "</style>\n"
      ],
      "text/plain": [
       "<IPython.core.display.HTML object>"
      ]
     },
     "metadata": {},
     "output_type": "display_data"
    },
    {
     "name": "stdout",
     "output_type": "stream",
     "text": [
      "config(thing='a', identifier='b', name='c')\n",
      "a b\n"
     ]
    }
   ],
   "source": [
    "from collections import namedtuple\n",
    "\n",
    "Config = namedtuple('config', ['thing', 'identifier', 'name'])\n",
    "\n",
    "CONFIG = Config('a', 'b', 'c')\n",
    "\n",
    "print(CONFIG)\n",
    "print(CONFIG.thing, CONFIG.identifier)"
   ]
  },
  {
   "cell_type": "markdown",
   "id": "14c75beb",
   "metadata": {},
   "source": [
    "Now let's try the failing example again"
   ]
  },
  {
   "cell_type": "code",
   "execution_count": null,
   "id": "97c88240",
   "metadata": {},
   "outputs": [],
   "source": [
    "Config(**{\n",
    "    'thing': 'a',\n",
    "    'identifiier': 'b',\n",
    "    'name': 'c'\n",
    "})"
   ]
  },
  {
   "cell_type": "markdown",
   "id": "62223ab7",
   "metadata": {},
   "source": [
    "Much better! This is useful when loading a JSON config, and you need to make sure all the key are present"
   ]
  },
  {
   "cell_type": "code",
   "execution_count": null,
   "id": "ebed7607",
   "metadata": {},
   "outputs": [],
   "source": [
    "import json\n",
    "raw = '{\"identifier\": 123, \"name\": \"me\", \"thing\": 123}'\n",
    "\n",
    "Config(**json.loads(raw))"
   ]
  },
  {
   "cell_type": "code",
   "execution_count": null,
   "id": "216bd98e",
   "metadata": {},
   "outputs": [],
   "source": [
    "raw = '{\"identifier\": 123, \"name\": \"me\", \"thing\": 123, \"extra\": 1}'\n",
    "\n",
    "Config(**json.loads(raw))"
   ]
  },
  {
   "cell_type": "markdown",
   "id": "a00d4f7c",
   "metadata": {},
   "source": [
    "---\n",
    "\n",
    "## An Example\n",
    "\n",
    "- You have a collection of items, in this case ids and emails\n",
    "- Need to iterate through them, collect some values, and pass them on"
   ]
  },
  {
   "cell_type": "code",
   "execution_count": null,
   "id": "43c8c4c7",
   "metadata": {
    "jupyter": {
     "source_hidden": true
    },
    "tags": []
   },
   "outputs": [],
   "source": [
    "from faker import Faker\n",
    "from utils import ppj\n",
    "from itertools import islice\n",
    "\n",
    "fake = Faker()\n",
    "\n",
    "def fake_record(i, spanner=False):\n",
    "    if spanner and i % 5 == 0:\n",
    "        return (i, fake.uuid4(), fake.email(), None)\n",
    "    else:\n",
    "        return (i, fake.uuid4(), fake.email(), fake.pyint())\n",
    "\n",
    "def iterate(n=10, spanner=False):\n",
    "    '''\n",
    "    This method will yield a tuple of each item, and a boolean indicating \n",
    "    if there are more items.\n",
    "    After all items are consumed, this method will yield None/False\n",
    "    (This means that we can't just do \"for item in iterate(collection)\")\n",
    "    '''\n",
    "    for i in range(n-1):\n",
    "        yield fake_record(i, spanner), True\n",
    "    yield fake_record(i, spanner), False\n",
    "    while True:\n",
    "        yield None, False"
   ]
  },
  {
   "cell_type": "code",
   "execution_count": null,
   "id": "c9f13627",
   "metadata": {},
   "outputs": [],
   "source": [
    "collection = iterate()\n",
    "        \n",
    "sample = list(islice(collection, 2))\n",
    "ppj(json.dumps(sample, indent=2))"
   ]
  },
  {
   "cell_type": "code",
   "execution_count": null,
   "id": "0ac59ba7",
   "metadata": {},
   "outputs": [],
   "source": [
    "collection = iterate()\n",
    "for i, (el, has_next) in enumerate(collection):\n",
    "    print(i, el, has_next)\n",
    "    if i >= 12:\n",
    "        break"
   ]
  },
  {
   "cell_type": "markdown",
   "id": "0baa2989",
   "metadata": {},
   "source": [
    "---\n",
    "\n",
    "_For our exercise, we are only going to collect the ID if the last column has the value \"true\"_"
   ]
  },
  {
   "cell_type": "code",
   "execution_count": null,
   "id": "50f8c8bd",
   "metadata": {},
   "outputs": [],
   "source": [
    "collection = iterate()\n",
    "\n",
    "ids = []\n",
    "for el, has_next in collection:\n",
    "    print(el, has_next)\n",
    "    if el[3] % 2:\n",
    "        ids.append(el[1])\n",
    "    if not has_next:\n",
    "        break"
   ]
  },
  {
   "cell_type": "markdown",
   "id": "c952d08b",
   "metadata": {},
   "source": [
    "### Adding more stuff\n",
    "\n",
    "Let's add some details around how many items we consumed/are up to"
   ]
  },
  {
   "cell_type": "code",
   "execution_count": null,
   "id": "95ea196c",
   "metadata": {},
   "outputs": [],
   "source": [
    "def process(collection):\n",
    "    ids = []\n",
    "    for i, (el, has_next) in enumerate(collection):\n",
    "        print(i, el, has_next)\n",
    "        if el[3] % 2:\n",
    "            ids.append(el[1])\n",
    "        if has_next == False:\n",
    "            break"
   ]
  },
  {
   "cell_type": "markdown",
   "id": "368b2282",
   "metadata": {},
   "source": [
    "## Problems\n",
    "\n",
    "Let's add a spanner"
   ]
  },
  {
   "cell_type": "code",
   "execution_count": null,
   "id": "8370b9bd",
   "metadata": {},
   "outputs": [],
   "source": [
    "process(iterate(10, True))"
   ]
  },
  {
   "cell_type": "markdown",
   "id": "72ee535c",
   "metadata": {},
   "source": [
    "OK, so let's just add an `isinstance` check"
   ]
  },
  {
   "cell_type": "code",
   "execution_count": null,
   "id": "30dc83a4",
   "metadata": {},
   "outputs": [],
   "source": [
    "def process(collection):\n",
    "    ids = []\n",
    "    for i, (el, has_next) in enumerate(collection):\n",
    "        print(i, el, has_next)\n",
    "        if isinstance(el, int) and el[3] % 2:\n",
    "            ids.append(el[1])\n",
    "        if len(el[2]) > 15:\n",
    "            print(f'{\"-\".join(el)}')\n",
    "        if has_next == False:\n",
    "            break"
   ]
  },
  {
   "cell_type": "code",
   "execution_count": null,
   "id": "037e46cb",
   "metadata": {},
   "outputs": [],
   "source": [
    "process(iterate())"
   ]
  },
  {
   "cell_type": "markdown",
   "id": "4ddc3a68",
   "metadata": {},
   "source": [
    "Now add something that makes sure we can stringify the item"
   ]
  },
  {
   "cell_type": "code",
   "execution_count": null,
   "id": "02aa1f01",
   "metadata": {},
   "outputs": [],
   "source": [
    "def process(collection):\n",
    "    ids = []\n",
    "    for i, (el, has_next) in enumerate(collection):\n",
    "        print(i, el, has_next)\n",
    "        if isinstance(el, int) and el[3] % 2:\n",
    "            ids.append(el[1])\n",
    "        if len(el[2]) > 20:\n",
    "            print(f'!! {\"-\".join(map(str, el))}')\n",
    "        if has_next == False:\n",
    "            break\n",
    "process(iterate())"
   ]
  },
  {
   "cell_type": "markdown",
   "id": "fbbd7bc7",
   "metadata": {},
   "source": [
    "It looks confusing now so let's add some comments"
   ]
  },
  {
   "cell_type": "code",
   "execution_count": null,
   "id": "2e1c13e8",
   "metadata": {},
   "outputs": [],
   "source": [
    "def process(collection):\n",
    "    ids = []\n",
    "    for i, (el, has_next) in enumerate(collection): # <--- ⚠\n",
    "        print(i, el, has_next)\n",
    "        # collect item if it's even\n",
    "        if isinstance(el, int) and el[3] % 2: # < ----------------⚠\n",
    "            ids.append(el[1])\n",
    "        # Warn about large items\n",
    "        if len(el[2]) > 20: # <-----------------------------------⚠\n",
    "            print(f'!! {\"-\".join(map(str, el))}') # <-------------⚠\n",
    "        if has_next == False:\n",
    "            break\n",
    "\n",
    "process(iterate())"
   ]
  },
  {
   "cell_type": "markdown",
   "id": "a74eb990",
   "metadata": {},
   "source": [
    "---\n",
    "\n",
    "### Let's take a step back\n",
    "\n",
    "We use values from the raw item without knowing that they're usable\n",
    "\n",
    "Instead of holding all the logic in this method, what if we could _ask_ each element if it was even?"
   ]
  },
  {
   "cell_type": "code",
   "execution_count": null,
   "id": "779a0ed5",
   "metadata": {},
   "outputs": [],
   "source": [
    "from dataclasses import asdict, dataclass\n",
    "\n",
    "@dataclass\n",
    "class Element:\n",
    "    numeric_id: int\n",
    "    uuid: str\n",
    "    email: str\n",
    "    score: int\n",
    "        \n",
    "def process(collection):\n",
    "    ids = []\n",
    "    for i, (el, has_next) in enumerate(collection):\n",
    "        el = Element(*el)\n",
    "        print(i, el, has_next)\n",
    "        # collect item if it's even\n",
    "        if isinstance(el.score, int) and el.score % 2:\n",
    "            ids.append(el.uuid)\n",
    "        # Warn about large items\n",
    "        if len(el.email) > 20:\n",
    "            print(f'!! {\"-\".join(map(str, asdict(el).values()))}')\n",
    "        if has_next == False:\n",
    "            break\n",
    "process(iterate())"
   ]
  },
  {
   "cell_type": "code",
   "execution_count": null,
   "id": "d1d7cf8c",
   "metadata": {},
   "outputs": [],
   "source": [
    "from dataclasses import dataclass\n",
    "\n",
    "@dataclass\n",
    "class Element:\n",
    "    numeric_id: int\n",
    "    uuid: str\n",
    "    email: str\n",
    "    score: int\n",
    "\n",
    "    def is_even(self) -> bool:\n",
    "        try:\n",
    "            return self.score % 2\n",
    "        except TypeError:\n",
    "            return False\n",
    "\n",
    "    def email_len(self, limit=20) -> bool:\n",
    "        return len(self.email) > limit\n",
    "    \n",
    "    def as_row(self, delim='-'):\n",
    "        return delim.join(map(str, [\n",
    "            self.numeric_id, self.uuid, self.email, self.score,\n",
    "        ]))\n",
    "        \n",
    "        \n",
    "def process(collection):\n",
    "    ids = []\n",
    "    for i, (el, has_next) in enumerate(collection):\n",
    "        el = Element(*el)\n",
    "        print(i, el, has_next)\n",
    "\n",
    "        if el.is_even:\n",
    "            ids.append(el.uuid)\n",
    "        if el.email_len() > 20:\n",
    "            print(f'!! {el.as_row()}')\n",
    "\n",
    "        if has_next == False:\n",
    "            break\n",
    "process(iterate())"
   ]
  },
  {
   "cell_type": "markdown",
   "id": "f24b8d60",
   "metadata": {},
   "source": [
    "## Now the collection itself\n",
    "\n",
    "The collection iterator needs some work.\n",
    "We need something that we can use like this:\n",
    "\n",
    "```python\n",
    "# Loop exits when no more items\n",
    "for el in X:\n",
    "    Element.from_api(el)\n",
    "```"
   ]
  },
  {
   "cell_type": "code",
   "execution_count": null,
   "id": "12a92d48",
   "metadata": {},
   "outputs": [],
   "source": [
    "def paginate(collection):\n",
    "    for i, (el, has_next) in enumerate(collection):\n",
    "        yield i, el\n",
    "        if not has_next:\n",
    "            return\n",
    "\n",
    "print('---- old')\n",
    "for i, el in enumerate(iterate(5)):\n",
    "    if i > 8:\n",
    "        break\n",
    "    print(el)\n",
    "    \n",
    "print('---- new')\n",
    "for el in paginate(iterate(5)):\n",
    "    print(el)"
   ]
  },
  {
   "cell_type": "code",
   "execution_count": null,
   "id": "63bb917c",
   "metadata": {},
   "outputs": [],
   "source": [
    "def process(collection):\n",
    "    ids = []\n",
    "    for i, el in paginate(collection): # <-------- ✓\n",
    "        el = Element(*el)              # <-------- ⚠\n",
    "        print(i, el)\n",
    "\n",
    "        if el.is_even:\n",
    "            ids.append(el.uuid)\n",
    "        if el.email_len() > 20:\n",
    "            print(f'!! {el.as_row()}')\n",
    "\n",
    "process(iterate(5))"
   ]
  },
  {
   "cell_type": "code",
   "execution_count": null,
   "id": "f5e83169",
   "metadata": {},
   "outputs": [],
   "source": [
    "@dataclass\n",
    "class Element:\n",
    "    numeric_id: int\n",
    "    uuid: str\n",
    "    email: str\n",
    "    score: int\n",
    "\n",
    "    def is_even(self) -> bool:\n",
    "        try:\n",
    "            return self.score % 2\n",
    "        except TypeError:\n",
    "            return False\n",
    "\n",
    "    def email_len(self) -> bool:\n",
    "        return len(self.email)\n",
    "    \n",
    "    def as_row(self, delim='-'):\n",
    "        return delim.join(map(str, [\n",
    "            self.numeric_id, self.uuid, self.email, self.score,\n",
    "        ]))\n",
    "    \n",
    "    @staticmethod\n",
    "    def from_api(raw):\n",
    "        return Element(*raw)\n",
    "\n",
    "def paginate(collection):\n",
    "    for i, (el, has_next) in enumerate(collection):\n",
    "        yield i, el\n",
    "        if not has_next:\n",
    "            return\n",
    "    \n",
    "def process(collection):\n",
    "    ids = []\n",
    "    for i, el in paginate(collection):\n",
    "        el = Element.from_api(el)\n",
    "        print(i, el)\n",
    "\n",
    "        if el.is_even:\n",
    "            ids.append(el.uuid)\n",
    "        if el.email_len() > 20:\n",
    "            print(f'!! {el.as_row()}')\n",
    "\n",
    "process(iterate(5))"
   ]
  },
  {
   "cell_type": "markdown",
   "id": "19d1bdb0",
   "metadata": {},
   "source": [
    "What if we want to send all the even and odd records to different places?\n",
    "Or, collect all the emails from both categories?"
   ]
  },
  {
   "cell_type": "code",
   "execution_count": null,
   "id": "93cdef47",
   "metadata": {},
   "outputs": [],
   "source": [
    "def process(collection, debug=False):\n",
    "    even_ids = []\n",
    "    odd_ids = []\n",
    "    for i, el in paginate(collection):\n",
    "        el = Element.from_api(el)\n",
    "        print(i, el)\n",
    "\n",
    "        if el.is_even():\n",
    "            even_ids.append(el.uuid)\n",
    "        else:\n",
    "            odd_ids.append(el.uuid)\n",
    "        if el.email_len() > 20 and debug:\n",
    "            print(f'!! {el.as_row()}')\n",
    "    return even_ids, odd_ids\n",
    "\n",
    "even, odd = process(iterate(8))\n",
    "print('\\n', 'even:', len(even), 'odd:', len(odd))\n",
    "print(even)"
   ]
  },
  {
   "cell_type": "markdown",
   "id": "0368ec59",
   "metadata": {},
   "source": [
    "What if we want to collect the emails of odd/even people instead? or something else in the future?\n",
    "\n",
    "Step 1: just return the entire objects, don't grab values from them"
   ]
  },
  {
   "cell_type": "code",
   "execution_count": null,
   "id": "234248a8",
   "metadata": {},
   "outputs": [],
   "source": [
    "def process(collection, debug=False):\n",
    "    even = []\n",
    "    odd = []\n",
    "    for i, el in paginate(collection):\n",
    "        el = Element.from_api(el)\n",
    "        print(i, el)\n",
    "\n",
    "        if el.is_even():\n",
    "            even.append(el)\n",
    "        else:\n",
    "            odd.append(el)\n",
    "        if el.email_len() > 20 and debug:\n",
    "            print(f'!! {el.as_row()}')\n",
    "    return even, odd\n",
    "\n",
    "even, odd = process(iterate(8))\n",
    "print('\\n', 'even:', len(even), 'odd:', len(odd))\n",
    "print([el.email for el in even])"
   ]
  },
  {
   "cell_type": "code",
   "execution_count": null,
   "id": "0884bc10",
   "metadata": {},
   "outputs": [],
   "source": [
    "from collections import Counter\n",
    "from typing import List\n",
    "from itertools import filterfalse\n",
    "\n",
    "def paginate(collection):\n",
    "    for el, has_next in collection:\n",
    "        yield el\n",
    "        if not has_next:\n",
    "            return\n",
    "\n",
    "@dataclass\n",
    "class Collection:\n",
    "    items: List[Element]\n",
    "\n",
    "    def from_raw(items):\n",
    "        return Collection(list(map(Element.from_api, items)))\n",
    "        \n",
    "    def emails(self):\n",
    "        return [el.email for el in self.items]\n",
    "\n",
    "    def __iter__(self):\n",
    "        yield from self.items\n",
    "        \n",
    "    def odd_records(self):\n",
    "        return Collection(list(filter(lambda x: x.score % 2, self.items)))\n",
    "    \n",
    "    def even_records(self):\n",
    "        return Collection(list(filterfalse(lambda x: x.score % 2, self.items)))\n",
    "\n",
    "\n",
    "c = Collection.from_raw(paginate(iterate(8)))\n",
    "print('all emails\\n', c.emails())\n",
    "\n",
    "print('\\nodd records\\n', c.odd_records())\n",
    "print('\\neven records\\n', c.even_records())\n",
    "\n",
    "print('\\neven emails!\\n', c.even_records().emails())"
   ]
  },
  {
   "cell_type": "code",
   "execution_count": null,
   "id": "fc15856c",
   "metadata": {},
   "outputs": [],
   "source": [
    "from IPython.lib.display import YouTubeVideo\n",
    "YouTubeVideo('8bZh5LMaSmE?t=350')"
   ]
  },
  {
   "cell_type": "markdown",
   "id": "081a1248",
   "metadata": {},
   "source": [
    "---\n",
    "\n",
    "### Filtering and sorting\n",
    "\n",
    "If you have a static method (not an instance method), you can filter with that instead of having to use a lambda"
   ]
  },
  {
   "cell_type": "code",
   "execution_count": null,
   "id": "360b942c",
   "metadata": {},
   "outputs": [],
   "source": [
    "@dataclass\n",
    "class Element:\n",
    "    numeric_id: int\n",
    "    uuid: str\n",
    "    email: str\n",
    "    score: int\n",
    "\n",
    "    @staticmethod\n",
    "    def from_api(raw):\n",
    "        return Element(*raw)\n",
    "        \n",
    "    def is_even(self) -> bool:\n",
    "        try:\n",
    "            return self.score % 2\n",
    "        except TypeError:\n",
    "            return False\n",
    "    \n",
    "    @staticmethod\n",
    "    def _is_even(element):\n",
    "        return element._is_even()\n",
    "    \n",
    "    @staticmethod\n",
    "    def _is_false(element):\n",
    "        return not element._is_even()\n",
    "\n",
    "    def email_len(self) -> bool:\n",
    "        return len(self.email)\n",
    "    \n",
    "    def as_row(self, delim='-'):\n",
    "        return delim.join(map(str, [\n",
    "            self.numeric_id, self.uuid, self.email, self.score,\n",
    "        ]))\n",
    "\n",
    "@dataclass\n",
    "class Collection:\n",
    "    items: List[Element]\n",
    "\n",
    "    def from_raw(items):\n",
    "        return Collection(list(map(Element.from_api, items)))\n",
    "        \n",
    "    @property\n",
    "    def emails(self):\n",
    "        return [el.email for el in self.items]\n",
    "\n",
    "    def __iter__(self):\n",
    "        yield from self.items\n",
    "        \n",
    "    def filter_records(self, pred):\n",
    "        return Collection(list(filter(pred, self.items)))\n",
    "\n",
    "\n",
    "c = Collection.from_raw(paginate(iterate()))\n",
    "print('total items', len(c.items))\n",
    "\n",
    "even = c.filter_records(Element.is_even)\n",
    "print('\\neven items\\n', len(even.emails), even.emails)\n",
    "\n",
    "odd = c.filter_records(Element.is_even)\n",
    "print('\\nodd items\\n', len(even.emails), even.emails)"
   ]
  },
  {
   "cell_type": "code",
   "execution_count": null,
   "id": "33d9fd02",
   "metadata": {},
   "outputs": [],
   "source": [
    "c.filter_records(lambda x: x.email.startswith('a'))"
   ]
  },
  {
   "cell_type": "code",
   "execution_count": null,
   "id": "88da5ffc",
   "metadata": {},
   "outputs": [],
   "source": [
    "c.filter_records(lambda x: '@' in x.email)"
   ]
  },
  {
   "cell_type": "code",
   "execution_count": null,
   "id": "c96ffd83",
   "metadata": {},
   "outputs": [],
   "source": [
    "@dataclass\n",
    "class Element:\n",
    "    numeric_id: int\n",
    "    uuid: str\n",
    "    email: str\n",
    "    score: int\n",
    "\n",
    "    @staticmethod\n",
    "    def from_api(raw):\n",
    "        return Element(*raw)\n",
    "        \n",
    "    def is_even(self) -> bool:\n",
    "        try:\n",
    "            return self.score % 2\n",
    "        except TypeError:\n",
    "            return False\n",
    "    \n",
    "    @staticmethod\n",
    "    def _is_even(element):\n",
    "        return element._is_even()\n",
    "    \n",
    "    @staticmethod\n",
    "    def _is_false(element):\n",
    "        return not element._is_even()\n",
    "\n",
    "    def email_len(self) -> bool:\n",
    "        return len(self.email)\n",
    "    \n",
    "    def as_row(self, delim='-'):\n",
    "        return delim.join(map(str, [\n",
    "            self.numeric_id, self.uuid, self.email, self.score,\n",
    "        ]))\n",
    "\n",
    "@dataclass\n",
    "class Collection:\n",
    "    items: List[Element]\n",
    "\n",
    "    def from_raw(items):\n",
    "        return Collection(list(map(Element.from_api, items)))\n",
    "\n",
    "    @property\n",
    "    def emails(self):\n",
    "        return [el.email for el in self.items]\n",
    "\n",
    "    def __iter__(self):\n",
    "        yield from self.items\n",
    "\n",
    "    def filter_records(self, pred):\n",
    "        return Collection(list(filter(pred, self.items)))\n",
    "\n",
    "    \n",
    "c = Collection.from_raw(paginate(iterate()))\n",
    "print('total items', len(c.items))\n",
    "\n",
    "even = c.filter_records(Element.is_even)\n",
    "print('\\neven items\\n', len(even.emails), even.emails)\n",
    "\n",
    "odd = c.filter_records(Element.is_even)\n",
    "print('\\nodd items\\n', len(even.emails), even.emails)"
   ]
  },
  {
   "cell_type": "markdown",
   "id": "81c40b57",
   "metadata": {},
   "source": [
    "## Representation\n",
    "\n",
    "Dunder methods!\n",
    "\n",
    "Let's make a few options:\n",
    "\n",
    "- All objects as JSON\n",
    "- All objects as rows/lists"
   ]
  },
  {
   "cell_type": "code",
   "execution_count": null,
   "id": "593b7924",
   "metadata": {},
   "outputs": [],
   "source": [
    "@dataclass\n",
    "class Element:\n",
    "    numeric_id: int\n",
    "    uuid: str\n",
    "    email: str\n",
    "    score: int\n",
    "\n",
    "    @staticmethod\n",
    "    def from_api(raw):\n",
    "        return Element(*raw)\n",
    "        \n",
    "    def is_even(self) -> bool:\n",
    "        try:\n",
    "            return self.score % 2\n",
    "        except TypeError:\n",
    "            return False\n",
    "    \n",
    "    @staticmethod\n",
    "    def _is_even(element):\n",
    "        return element._is_even()\n",
    "    \n",
    "    @staticmethod\n",
    "    def _is_false(element):\n",
    "        return not element._is_even()\n",
    "\n",
    "    def email_len(self) -> bool:\n",
    "        return len(self.email)\n",
    "    \n",
    "    def as_row(self, delim='-'):\n",
    "        return delim.join(map(str, [\n",
    "            self.numeric_id, self.uuid, self.email, self.score,\n",
    "        ]))\n",
    "    \n",
    "    def as_json(self):\n",
    "        return json.dumps(self.__dict__)\n",
    "\n",
    "@dataclass\n",
    "class Collection:\n",
    "    items: List[Element]\n",
    "\n",
    "    def from_raw(items):\n",
    "        return Collection(list(map(Element.from_api, items)))\n",
    "        \n",
    "    @property\n",
    "    def emails(self):\n",
    "        return [el.email for el in self.items]\n",
    "\n",
    "    def __iter__(self):\n",
    "        yield from self.items\n",
    "        \n",
    "    def filter_records(self, pred):\n",
    "        return Collection(list(filter(pred, self.items)))\n",
    "    \n",
    "    def as_json(self, **kwargs):\n",
    "        return json.dumps(\n",
    "            [asdict(el) for el in self.items],\n",
    "            **kwargs\n",
    "        )\n",
    "\n",
    "    \n",
    "c = Collection.from_raw(paginate(iterate()))\n",
    "print('total items', len(c.items))\n",
    "\n",
    "even = c.filter_records(Element.is_even)\n",
    "print('\\neven items\\n', len(even.emails), even.emails)\n",
    "\n",
    "odd = c.filter_records(Element.is_even)\n",
    "print('\\nodd items\\n', len(even.emails), even.emails)"
   ]
  },
  {
   "cell_type": "code",
   "execution_count": null,
   "id": "abe1a209",
   "metadata": {},
   "outputs": [],
   "source": [
    "c = Collection.from_raw(paginate(iterate()))\n",
    "\n",
    "ppj(c.items[0].as_json())\n",
    "ppj(c.as_json())"
   ]
  },
  {
   "cell_type": "code",
   "execution_count": null,
   "id": "b15c45a4",
   "metadata": {},
   "outputs": [],
   "source": [
    "ppj(c[:2].as_json(indent=2))"
   ]
  },
  {
   "cell_type": "code",
   "execution_count": null,
   "id": "bfbad953",
   "metadata": {},
   "outputs": [],
   "source": [
    "What if we just want to print the first few items?"
   ]
  },
  {
   "cell_type": "code",
   "execution_count": null,
   "id": "5a72ab53",
   "metadata": {},
   "outputs": [],
   "source": [
    "What if we just want to print the first few items"
   ]
  },
  {
   "cell_type": "code",
   "execution_count": null,
   "id": "313d526c",
   "metadata": {},
   "outputs": [],
   "source": [
    "ppj(c.items[:2].as_json(indent=2))"
   ]
  },
  {
   "cell_type": "code",
   "execution_count": null,
   "id": "cd7fe241",
   "metadata": {},
   "outputs": [],
   "source": [
    "ppj(Collection(c.items[:2]).as_json(indent=2))"
   ]
  },
  {
   "cell_type": "code",
   "execution_count": null,
   "id": "d1a66513",
   "metadata": {},
   "outputs": [],
   "source": [
    "@dataclass\n",
    "class Collection:\n",
    "    items: List[Element]\n",
    "\n",
    "    def from_raw(items):\n",
    "        return Collection(list(map(Element.from_api, items)))\n",
    "\n",
    "    def __getitem__(self, i):\n",
    "        return Collection(self.items[i])\n",
    "    \n",
    "    @property\n",
    "    def emails(self):\n",
    "        return [el.email for el in self.items]\n",
    "\n",
    "    def __iter__(self):\n",
    "        yield from self.items\n",
    "        \n",
    "    def filter_records(self, pred):\n",
    "        return Collection(list(filter(pred, self.items)))\n",
    "    \n",
    "    def as_json(self, **kwargs):\n",
    "        return json.dumps(\n",
    "            [asdict(el) for el in self.items],\n",
    "            **kwargs\n",
    "        )"
   ]
  },
  {
   "cell_type": "code",
   "execution_count": null,
   "id": "dee0e7e2",
   "metadata": {},
   "outputs": [],
   "source": [
    "c = Collection.from_raw(paginate(iterate()))\n",
    "\n",
    "ppj(c[1:2].as_json(indent=2))\n",
    "ppj(c[1:3].as_json(indent=2))"
   ]
  },
  {
   "cell_type": "markdown",
   "id": "fe0920ab",
   "metadata": {},
   "source": [
    "### Sorting!\n",
    "\n",
    "You can sort easily if you already have handy methods available for getting the values to sort by"
   ]
  },
  {
   "cell_type": "code",
   "execution_count": null,
   "id": "c3e03297",
   "metadata": {},
   "outputs": [],
   "source": [
    "list(sorted(c, key=lambda x: x.score))"
   ]
  },
  {
   "cell_type": "markdown",
   "id": "cee25676",
   "metadata": {},
   "source": [
    "https://github.com/tomquirk/realestate-com-au-api/blob/8368da02a67aaf1c2fe9634f19181fb54685718d/realestate_com_au/realestate_com_au.py#L70-L118"
   ]
  }
 ],
 "metadata": {
  "kernelspec": {
   "display_name": "Python 3",
   "language": "python",
   "name": "python3"
  },
  "language_info": {
   "codemirror_mode": {
    "name": "ipython",
    "version": 3
   },
   "file_extension": ".py",
   "mimetype": "text/x-python",
   "name": "python",
   "nbconvert_exporter": "python",
   "pygments_lexer": "ipython3",
   "version": "3.7.3"
  }
 },
 "nbformat": 4,
 "nbformat_minor": 5
}
