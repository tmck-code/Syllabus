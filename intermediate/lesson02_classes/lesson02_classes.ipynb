{
 "cells": [
  {
   "cell_type": "markdown",
   "id": "fba5875b",
   "metadata": {
    "slideshow": {
     "slide_type": "slide"
    }
   },
   "source": [
    "# Lesson 2: Classing Up the Joint"
   ]
  },
  {
   "cell_type": "markdown",
   "id": "86face49",
   "metadata": {
    "slideshow": {
     "slide_type": "fragment"
    }
   },
   "source": [
    "> _Disclaimer: These points were intended to be applied to Python, your mileage may vary._\n",
    "\n",
    "- Overutilising or underutilising classes can lead to ruin\n",
    "- Classes can be a powerful tool or an endless garden path"
   ]
  },
  {
   "cell_type": "markdown",
   "id": "4deeb3af",
   "metadata": {
    "slideshow": {
     "slide_type": "slide"
    }
   },
   "source": [
    "## Pros\n",
    "\n",
    "- Can break up a complicated problem into smaller parts\n",
    "- Can keep track of state\n",
    "  - No need to pass parameters back and forth\n",
    "  - No thread-unsafe global variables\n",
    "  - Can logically initialise state and then use it\n",
    "- Can organise a hierarcy of states that belong together\n",
    "- Provide dot-methods for accessing properties\n",
    "  - \"ask, don't tell\"\n",
    "  - SOLID design principles"
   ]
  },
  {
   "cell_type": "markdown",
   "id": "3f1650d6",
   "metadata": {
    "slideshow": {
     "slide_type": "subslide"
    }
   },
   "source": [
    "## Cons\n",
    "\n",
    "- Can make code convoluted and hard to read\n",
    "  - code spread across multiple files\n",
    "  - logic for a single operation spread across multiple different parts\n",
    "  - buries actual logic\n",
    "  \n",
    "> _Good OOP in Python should make things **more** explicit, not **less** explicit_"
   ]
  },
  {
   "cell_type": "markdown",
   "id": "676f0df2",
   "metadata": {
    "slideshow": {
     "slide_type": "slide"
    }
   },
   "source": [
    "## Functions vs Classes\n",
    "\n",
    "### Functions vs Methods\n",
    "\n",
    "In python\n",
    "\n",
    "- a **function** takes parameters, returns a value\n",
    "- a **method** can be called on an object, and can access state in the object\n",
    "\n",
    "\n",
    "### Some examples of saturated methods\n",
    "\n",
    "- [pandas read_csv](https://github.com/pandas-dev/pandas/blob/d01561fb7b9ad337611fa38a3cfb7e8c2faec608/pandas/io/parsers/readers.py#L708-L747)\n",
    "- [wikipedia parser](https://github.com/Grasia/wiki-scripts/blob/a154b995fafe440014e28f1936367638a34c7942/wiki_dump_parser/wiki_dump_parser.py#L50-L79)"
   ]
  },
  {
   "cell_type": "markdown",
   "id": "eda63bbe",
   "metadata": {
    "slideshow": {
     "slide_type": "slide"
    }
   },
   "source": [
    "## Baby steps\n",
    "\n",
    "Let's examine a common case - we want to use a config dict safely\n",
    "\n",
    "e.g. what if there was a typo in one of the key names when coding it initially?"
   ]
  },
  {
   "cell_type": "code",
   "execution_count": 1,
   "id": "dd4c0875",
   "metadata": {
    "scrolled": true,
    "slideshow": {
     "slide_type": "subslide"
    }
   },
   "outputs": [
    {
     "data": {
      "text/plain": [
       "{'thing': 'a', 'identifiier': 'b', 'name': 'c'}"
      ]
     },
     "execution_count": 1,
     "metadata": {},
     "output_type": "execute_result"
    }
   ],
   "source": [
    "CONFIG = {\n",
    "    'thing': 'a',\n",
    "    'identifiier': 'b',\n",
    "    'name': 'c'\n",
    "}\n",
    "CONFIG"
   ]
  },
  {
   "cell_type": "markdown",
   "id": "f4afd2ce",
   "metadata": {
    "slideshow": {
     "slide_type": "fragment"
    }
   },
   "source": [
    "_This isn't very safe if something goes wrong, and the IDE can't offer us any help_\n",
    "\n",
    "Worse than that, we'll only be alerted at run-time when the code reaches this point"
   ]
  },
  {
   "cell_type": "code",
   "execution_count": 2,
   "id": "93eaec9b",
   "metadata": {
    "scrolled": true,
    "slideshow": {
     "slide_type": "fragment"
    }
   },
   "outputs": [
    {
     "ename": "KeyError",
     "evalue": "'identifier'",
     "output_type": "error",
     "traceback": [
      "\u001b[0;31m---------------------------------------------------------------------------\u001b[0m",
      "\u001b[0;31mKeyError\u001b[0m                                  Traceback (most recent call last)",
      "\u001b[0;32m<ipython-input-2-2293af29cfe7>\u001b[0m in \u001b[0;36m<module>\u001b[0;34m\u001b[0m\n\u001b[0;32m----> 1\u001b[0;31m \u001b[0mCONFIG\u001b[0m\u001b[0;34m[\u001b[0m\u001b[0;34m'identifier'\u001b[0m\u001b[0;34m]\u001b[0m\u001b[0;34m\u001b[0m\u001b[0;34m\u001b[0m\u001b[0m\n\u001b[0m",
      "\u001b[0;31mKeyError\u001b[0m: 'identifier'"
     ]
    }
   ],
   "source": [
    "CONFIG['identifier']"
   ]
  },
  {
   "cell_type": "markdown",
   "id": "56f808ef",
   "metadata": {
    "slideshow": {
     "slide_type": "slide"
    }
   },
   "source": [
    "## Namedtuple\n",
    "\n",
    "`namedtuple` == Quick 'n' dirty class!\n",
    "\n",
    "Use when you just need to\n",
    "- make sure that the correct keys/values are present\n",
    "- access something a few times (safely) via a dot method rather than a dict key lookup"
   ]
  },
  {
   "cell_type": "code",
   "execution_count": 3,
   "id": "7de3785f",
   "metadata": {
    "slideshow": {
     "slide_type": "subslide"
    }
   },
   "outputs": [
    {
     "name": "stdout",
     "output_type": "stream",
     "text": [
      "config(thing='a', identifier='b', name='c')\n",
      "a b\n"
     ]
    }
   ],
   "source": [
    "from collections import namedtuple\n",
    "\n",
    "Config = namedtuple('config', [\n",
    "    'thing',\n",
    "    'identifier',\n",
    "    'name'\n",
    "])\n",
    "CONFIG = Config('a', 'b', 'c')\n",
    "\n",
    "print(CONFIG)\n",
    "print(CONFIG.thing, CONFIG.identifier)"
   ]
  },
  {
   "cell_type": "markdown",
   "id": "95bf9694",
   "metadata": {
    "slideshow": {
     "slide_type": "slide"
    }
   },
   "source": [
    "Now, let's try the failing example again"
   ]
  },
  {
   "cell_type": "code",
   "execution_count": 5,
   "id": "1384e26d",
   "metadata": {
    "slideshow": {
     "slide_type": "subslide"
    }
   },
   "outputs": [
    {
     "ename": "TypeError",
     "evalue": "__new__() got an unexpected keyword argument 'identifiier'",
     "output_type": "error",
     "traceback": [
      "\u001b[0;31m---------------------------------------------------------------------------\u001b[0m",
      "\u001b[0;31mTypeError\u001b[0m                                 Traceback (most recent call last)",
      "\u001b[0;32m<ipython-input-5-32ff9271912c>\u001b[0m in \u001b[0;36m<module>\u001b[0;34m\u001b[0m\n\u001b[0;32m----> 1\u001b[0;31m Config(**{\n\u001b[0m\u001b[1;32m      2\u001b[0m     \u001b[0;34m'thing'\u001b[0m\u001b[0;34m:\u001b[0m \u001b[0;34m'a'\u001b[0m\u001b[0;34m,\u001b[0m\u001b[0;34m\u001b[0m\u001b[0;34m\u001b[0m\u001b[0m\n\u001b[1;32m      3\u001b[0m     \u001b[0;34m'identifiier'\u001b[0m\u001b[0;34m:\u001b[0m \u001b[0;34m'b'\u001b[0m\u001b[0;34m,\u001b[0m\u001b[0;34m\u001b[0m\u001b[0;34m\u001b[0m\u001b[0m\n\u001b[1;32m      4\u001b[0m     \u001b[0;34m'name'\u001b[0m\u001b[0;34m:\u001b[0m \u001b[0;34m'c'\u001b[0m\u001b[0;34m\u001b[0m\u001b[0;34m\u001b[0m\u001b[0m\n\u001b[1;32m      5\u001b[0m })\n",
      "\u001b[0;31mTypeError\u001b[0m: __new__() got an unexpected keyword argument 'identifiier'"
     ]
    }
   ],
   "source": [
    "Config(**{\n",
    "    'thing': 'a',\n",
    "    'identifiier': 'b',\n",
    "    'name': 'c'\n",
    "})"
   ]
  },
  {
   "cell_type": "markdown",
   "id": "dec0e4b0",
   "metadata": {
    "slideshow": {
     "slide_type": "slide"
    }
   },
   "source": [
    "### A multi-level config object"
   ]
  },
  {
   "cell_type": "code",
   "execution_count": 10,
   "id": "24b06a3a",
   "metadata": {
    "scrolled": true,
    "slideshow": {
     "slide_type": "fragment"
    }
   },
   "outputs": [
    {
     "name": "stdout",
     "output_type": "stream",
     "text": [
      "customers/search/\n"
     ]
    }
   ],
   "source": [
    "from collections import namedtuple\n",
    "\n",
    "# Define what your config objects need to contain\n",
    "Endpoints = namedtuple(\n",
    "    'endpoints', [\n",
    "        'customers',\n",
    "        'products'\n",
    "    ]\n",
    ")\n",
    "\n",
    "Endpoint = namedtuple(\n",
    "    'endpoints', [\n",
    "        'key',\n",
    "        'url',\n",
    "        'timeout',\n",
    "        'n_workers'\n",
    "    ]\n",
    ")\n",
    "# Initialise all configs with their values\n",
    "# Could read this from a JSON file, command-line args, or define it here\n",
    "# Either way, the namedtuple will ensure that the result is the same\n",
    "ENDPOINTS = Endpoints(**{\n",
    "    'customers': Endpoint('customers', 'customers/search/', 200, 2),\n",
    "    'products': Endpoint('products', 'products/all/search/', 100, 2)\n",
    "    })\n",
    "\n",
    "print(ENDPOINTS.customers.url)"
   ]
  },
  {
   "cell_type": "markdown",
   "id": "62223ab7",
   "metadata": {
    "slideshow": {
     "slide_type": "subslide"
    }
   },
   "source": [
    "Much better!\n",
    "\n",
    "This means that we catch the error when Config is _**initialised**_, rather than when trying to _**access**_ 'identifier' later on.\n",
    "\n",
    "This is also useful when loading a JSON config, and you need to make sure all the key are present"
   ]
  },
  {
   "cell_type": "code",
   "execution_count": 11,
   "id": "ebed7607",
   "metadata": {
    "slideshow": {
     "slide_type": "slide"
    }
   },
   "outputs": [
    {
     "name": "stdout",
     "output_type": "stream",
     "text": [
      "caught: __new__() missing 1 required positional argument: 'thing'\n",
      "caught: __new__() got an unexpected keyword argument 'extra'\n"
     ]
    }
   ],
   "source": [
    "import json\n",
    "configs = [\n",
    "    '{\"identifier\": 123, \"name\": \"me\"}',\n",
    "    '{\"identifier\": 123, \"name\": \"me\", \"thing\": 123, \"extra\": 1}',\n",
    "]\n",
    "for raw_config in configs:\n",
    "    try:\n",
    "        Config(**json.loads(raw_config))\n",
    "    except TypeError as e:\n",
    "        print(f'caught: {e}')"
   ]
  },
  {
   "cell_type": "markdown",
   "id": "8ec348e6",
   "metadata": {
    "slideshow": {
     "slide_type": "fragment"
    }
   },
   "source": [
    "- However, this doesn't give us much information when we're coding using this Config.\n",
    "  - We know about the _keys_ in our IDE, but not the _values_\n",
    "- The hierarchy works, but is hard to read"
   ]
  },
  {
   "cell_type": "markdown",
   "id": "de19b5c9",
   "metadata": {
    "slideshow": {
     "slide_type": "slide"
    }
   },
   "source": [
    "## Dataclasses\n",
    "\n",
    "- Python 3.7+\n",
    "- Syntactic sugar for defining an `__init__` method and instance variables\n",
    "- also provides a nice `__repr__` method, and some other things\n",
    "\n",
    "[https://docs.python.org/3/library/dataclasses.html](https://docs.python.org/3/library/dataclasses.html)"
   ]
  },
  {
   "cell_type": "markdown",
   "id": "e7b7588e",
   "metadata": {
    "slideshow": {
     "slide_type": "slide"
    }
   },
   "source": [
    "### A regular class example"
   ]
  },
  {
   "cell_type": "code",
   "execution_count": 15,
   "id": "72dfba57",
   "metadata": {
    "slideshow": {
     "slide_type": "fragment"
    }
   },
   "outputs": [
    {
     "data": {
      "text/plain": [
       "<__main__.Obj at 0x7faf62a76d00>"
      ]
     },
     "execution_count": 15,
     "metadata": {},
     "output_type": "execute_result"
    }
   ],
   "source": [
    "class Obj:\n",
    "    def __init__(self, a: int=1, b=2, c='default'):\n",
    "        self.a = a\n",
    "        self.b = b\n",
    "        self.c = c\n",
    "\n",
    "Obj(1)"
   ]
  },
  {
   "cell_type": "markdown",
   "id": "e82d9bcf",
   "metadata": {},
   "source": [
    "### An equivalent dataclass example"
   ]
  },
  {
   "cell_type": "code",
   "execution_count": 16,
   "id": "69b8e629",
   "metadata": {
    "slideshow": {
     "slide_type": "fragment"
    }
   },
   "outputs": [
    {
     "data": {
      "text/plain": [
       "Obj(a='a', b=2, c='default')"
      ]
     },
     "execution_count": 16,
     "metadata": {},
     "output_type": "execute_result"
    }
   ],
   "source": [
    "from dataclasses import dataclass\n",
    "\n",
    "@dataclass\n",
    "class Obj:\n",
    "    a: int = 1\n",
    "    b: int = 2\n",
    "    c: str = 'default'\n",
    "\n",
    "Obj('a')"
   ]
  },
  {
   "cell_type": "code",
   "execution_count": 17,
   "id": "475b988a",
   "metadata": {
    "slideshow": {
     "slide_type": "fragment"
    }
   },
   "outputs": [
    {
     "ename": "TypeError",
     "evalue": "__init__() got an unexpected keyword argument 'd'",
     "output_type": "error",
     "traceback": [
      "\u001b[0;31m---------------------------------------------------------------------------\u001b[0m",
      "\u001b[0;31mTypeError\u001b[0m                                 Traceback (most recent call last)",
      "\u001b[0;32m<ipython-input-17-e07846acd497>\u001b[0m in \u001b[0;36m<module>\u001b[0;34m\u001b[0m\n\u001b[0;32m----> 1\u001b[0;31m \u001b[0mObj\u001b[0m\u001b[0;34m(\u001b[0m\u001b[0md\u001b[0m\u001b[0;34m=\u001b[0m\u001b[0;36m5\u001b[0m\u001b[0;34m)\u001b[0m\u001b[0;34m\u001b[0m\u001b[0;34m\u001b[0m\u001b[0m\n\u001b[0m",
      "\u001b[0;31mTypeError\u001b[0m: __init__() got an unexpected keyword argument 'd'"
     ]
    }
   ],
   "source": [
    "Obj(d=5)"
   ]
  },
  {
   "cell_type": "markdown",
   "id": "d90c3951",
   "metadata": {
    "slideshow": {
     "slide_type": "slide"
    }
   },
   "source": [
    "### Mypy"
   ]
  },
  {
   "cell_type": "code",
   "execution_count": 20,
   "id": "858ddc8e",
   "metadata": {
    "slideshow": {
     "slide_type": "subslide"
    }
   },
   "outputs": [],
   "source": [
    "from collections import namedtuple\n",
    "\n",
    "Config = namedtuple('Config', ['a', 'b'])\n",
    "\n",
    "def test_nt():\n",
    "    Config(1,2).a + 'a'\n",
    "\n",
    "from dataclasses import dataclass\n",
    "\n",
    "@dataclass\n",
    "class Obj:\n",
    "    a: int = 1\n",
    "    b: int = 2\n",
    "    c: str = 'default'\n",
    "\n",
    "def test_dc():\n",
    "    Obj(1).a + 's'"
   ]
  },
  {
   "cell_type": "code",
   "execution_count": 21,
   "id": "f177ddd9",
   "metadata": {
    "slideshow": {
     "slide_type": "fragment"
    }
   },
   "outputs": [
    {
     "name": "stdout",
     "output_type": "stream",
     "text": [
      "my.py:14: \u001b[1m\u001b[31merror:\u001b[m Unsupported operand types for + (\u001b[m\u001b[1m\"int\"\u001b[m and \u001b[m\u001b[1m\"str\"\u001b[m)\u001b[m\r\n",
      "\u001b[1m\u001b[31mFound 1 error in 1 file (checked 1 source file)\u001b[m\r\n"
     ]
    }
   ],
   "source": [
    "!mypy \"/code/intermediate/lesson02_classes/my.py\""
   ]
  },
  {
   "cell_type": "markdown",
   "id": "a00d4f7c",
   "metadata": {
    "slideshow": {
     "slide_type": "slide"
    }
   },
   "source": [
    "---\n",
    "\n",
    "## An Example\n",
    "\n",
    "- You have a collection of items, in this case ids and emails\n",
    "- Need to iterate through them, collect some values, and pass them on"
   ]
  },
  {
   "cell_type": "code",
   "execution_count": 23,
   "id": "0ac59ba7",
   "metadata": {
    "slideshow": {
     "slide_type": "slide"
    }
   },
   "outputs": [
    {
     "name": "stdout",
     "output_type": "stream",
     "text": [
      "0 4905\n",
      "1 7821\n",
      "2 755\n",
      "3 8150\n",
      "4 6394\n",
      "5 None\n",
      "6 None\n"
     ]
    }
   ],
   "source": [
    "from api import API\n",
    "\n",
    "for i, el in enumerate(API.get('customers')):\n",
    "    print(i, el)\n",
    "    if i >= 6:\n",
    "        break"
   ]
  },
  {
   "cell_type": "markdown",
   "id": "0baa2989",
   "metadata": {
    "slideshow": {
     "slide_type": "slide"
    }
   },
   "source": [
    "For this exercise, we must consume a list of endpoints via key, and send them to their own file"
   ]
  },
  {
   "cell_type": "code",
   "execution_count": 25,
   "id": "e58f82b8",
   "metadata": {},
   "outputs": [
    {
     "name": "stdout",
     "output_type": "stream",
     "text": [
      "customer -- romerocody@lam-gonzalez.com\n",
      "customer -- robertbarnes@michael.com\n",
      "customer -- bradleyerica@gmail.com\n",
      "customer -- molly66@yahoo.com\n",
      "customer -- karen36@hotmail.com\n",
      "transactions -- 67334fe4-87d6-4b23-a888-4469c58fa903\n",
      "transactions -- 24cc16b8-930b-4bf5-abd1-cd4d80aa2b25\n",
      "transactions -- 89841889-99b1-483d-b2b6-2dc17f950c75\n",
      "transactions -- 8f13bb7b-c0fb-46ee-bdae-c03e654ed982\n",
      "transactions -- 8b785c66-f46c-4a46-a024-b02747b72e57\n"
     ]
    }
   ],
   "source": [
    "for endpoint in ['customer', 'transactions']:\n",
    "    if endpoint == 'customer':\n",
    "        for i in API.get(endpoint+'s'):\n",
    "            if i is None:\n",
    "                break\n",
    "            print(endpoint, '--', next(API.get(endpoint, {'cid': i})))\n",
    "    elif endpoint == 'transactions':\n",
    "        for i in API.get(endpoint, {'ts': 0, 'te': 5}):\n",
    "            if i is None:\n",
    "                break\n",
    "            print(endpoint, '--', i)"
   ]
  },
  {
   "cell_type": "markdown",
   "id": "7b4c41d2",
   "metadata": {},
   "source": [
    "### A Guest Speaker!"
   ]
  },
  {
   "cell_type": "code",
   "execution_count": 26,
   "id": "e3ffac14",
   "metadata": {
    "scrolled": false,
    "slideshow": {
     "slide_type": "slide"
    }
   },
   "outputs": [
    {
     "data": {
      "text/html": [
       "\n",
       "        <iframe\n",
       "            width=\"400\"\n",
       "            height=\"300\"\n",
       "            src=\"https://www.youtube.com/embed/8bZh5LMaSmE?t=330\"\n",
       "            frameborder=\"0\"\n",
       "            allowfullscreen\n",
       "        ></iframe>\n",
       "        "
      ],
      "text/plain": [
       "<IPython.lib.display.YouTubeVideo at 0x7faf62a7be80>"
      ]
     },
     "execution_count": 26,
     "metadata": {},
     "output_type": "execute_result"
    }
   ],
   "source": [
    "from IPython.lib.display import YouTubeVideo\n",
    "YouTubeVideo('8bZh5LMaSmE?t=330')"
   ]
  },
  {
   "cell_type": "markdown",
   "id": "2246087c",
   "metadata": {
    "slideshow": {
     "slide_type": "subslide"
    }
   },
   "source": [
    "[https://github.com/emilybache/GildedRose-Refactoring-Kata](https://github.com/emilybache/GildedRose-Refactoring-Kata)"
   ]
  },
  {
   "cell_type": "markdown",
   "id": "cee25676",
   "metadata": {
    "slideshow": {
     "slide_type": "fragment"
    }
   },
   "source": [
    "https://github.com/tomquirk/realestate-com-au-api/blob/8368da02a67aaf1c2fe9634f19181fb54685718d/realestate_com_au/realestate_com_au.py#L70-L118"
   ]
  },
  {
   "cell_type": "markdown",
   "id": "d1ea697f",
   "metadata": {
    "slideshow": {
     "slide_type": "fragment"
    }
   },
   "source": [
    "https://softwareengineering.stackexchange.com/questions/351389/dynamic-dispatch-from-a-string-python"
   ]
  },
  {
   "cell_type": "markdown",
   "id": "2e1e51f3",
   "metadata": {
    "slideshow": {
     "slide_type": "slide"
    }
   },
   "source": [
    "### What's the easiest thing to extract first?\n",
    "\n",
    "Probably the \"request\" logic"
   ]
  },
  {
   "cell_type": "code",
   "execution_count": 29,
   "id": "97fc5d9e",
   "metadata": {
    "scrolled": true,
    "slideshow": {
     "slide_type": "slide"
    }
   },
   "outputs": [
    {
     "name": "stdout",
     "output_type": "stream",
     "text": [
      "customer 0 jessicamarsh@williams.com\n",
      "customer 1 heather90@yahoo.com\n",
      "customer 2 gburns@gmail.com\n",
      "customer 3 rodney72@yahoo.com\n",
      "customer 4 susan23@hunter-rogers.com\n",
      "transactions 0 736db90c-ac06-4a4a-976a-3450772dbc42\n",
      "transactions 1 e726bfcf-9936-4944-a865-8134b9c3a55c\n",
      "transactions 2 d3ddc234-ca21-44b8-a228-1eee44618434\n",
      "transactions 3 59ddd7f8-4d50-4830-87d2-d70bf0cb1963\n",
      "transactions 4 e4088f98-5c81-4485-b340-85fe8e55246c\n"
     ]
    }
   ],
   "source": [
    "from api import API\n",
    "\n",
    "def request(endpoint, kwargs={}):\n",
    "    for r in API.get(endpoint, kwargs):\n",
    "        if r is None:\n",
    "            break\n",
    "        yield r\n",
    "\n",
    "for endpoint in ['customer', 'transactions']:\n",
    "    if endpoint == 'customer':\n",
    "        for i, c in enumerate(request(endpoint+'s')):\n",
    "            print(endpoint, i, next(request(endpoint, {'cid': c})))\n",
    "    elif endpoint == 'transactions':\n",
    "        for i, t in enumerate(request(endpoint, {'ts': 0, 'te': 5})):\n",
    "            print(endpoint, i, t)\n",
    "endpoint = ''\n"
   ]
  },
  {
   "cell_type": "code",
   "execution_count": 30,
   "id": "d7426ba2",
   "metadata": {
    "slideshow": {
     "slide_type": "slide"
    }
   },
   "outputs": [],
   "source": [
    "from dataclasses import dataclass\n",
    "from typing import Generator, ClassVar\n",
    "\n",
    "@dataclass\n",
    "class Transactions:\n",
    "    ts: int\n",
    "    te: int\n",
    "    endpoint: ClassVar[str] = 'transactions'\n",
    "    \n",
    "    @property\n",
    "    def params(self) -> dict:\n",
    "        return {'ts': self.ts, 'te': self.te}\n",
    "\n",
    "    def get(self) -> Generator:\n",
    "        yield from request(self.endpoint, self.params)\n",
    "\n",
    "        \n",
    "@dataclass\n",
    "class Customer:\n",
    "    cid:      int\n",
    "    endpoint: ClassVar[str] = 'customer'\n",
    "        \n",
    "    @property\n",
    "    def params(self) -> dict:\n",
    "        return {'id': self.cid}\n",
    "    \n",
    "    def get(self):\n",
    "        yield from request(self.endpoint, self.params)\n",
    "\n",
    "@dataclass\n",
    "class Customers:\n",
    "    endpoint: ClassVar[str] = 'customers'\n",
    "        \n",
    "    @property\n",
    "    def params(self) -> dict:\n",
    "        return {}\n",
    "\n",
    "    def get(self) -> Generator:\n",
    "        yield from request(self.endpoint, self.params)"
   ]
  },
  {
   "cell_type": "code",
   "execution_count": 32,
   "id": "1ae3f7f3",
   "metadata": {
    "scrolled": true,
    "slideshow": {
     "slide_type": "subslide"
    }
   },
   "outputs": [
    {
     "name": "stdout",
     "output_type": "stream",
     "text": [
      "customers:\n",
      "[\n",
      "  \u001b[38;2;102;102;102m5061\u001b[39m,\n",
      "  \u001b[38;2;102;102;102m2368\u001b[39m,\n",
      "  \u001b[38;2;102;102;102m8152\u001b[39m,\n",
      "  \u001b[38;2;102;102;102m5286\u001b[39m,\n",
      "  \u001b[38;2;102;102;102m9736\u001b[39m\n",
      "]\n",
      "\n",
      "transactions:\n",
      "[\n",
      "  \u001b[38;2;186;33;33m\"e538f653-a099-493a-9ffa-d7df4f7d7856\"\u001b[39m,\n",
      "  \u001b[38;2;186;33;33m\"4920ba15-4338-4bf2-83b2-4e2d49265a56\"\u001b[39m,\n",
      "  \u001b[38;2;186;33;33m\"604240e3-8df1-413d-9b43-714d9ff3964f\"\u001b[39m,\n",
      "  \u001b[38;2;186;33;33m\"8f9c8413-52ad-42dd-9e12-6ece8358a656\"\u001b[39m,\n",
      "  \u001b[38;2;186;33;33m\"99e33fc2-dbfd-45cc-932d-815d094e3dad\"\u001b[39m\n",
      "]\n",
      "\n"
     ]
    }
   ],
   "source": [
    "from utils import ppd\n",
    "\n",
    "print('customers:')\n",
    "ppd(list(\n",
    "    Customers().get()\n",
    "))\n",
    "\n",
    "print('transactions:')\n",
    "ppd(list(\n",
    "    Transactions(ts=0, te=5).get()\n",
    "))"
   ]
  },
  {
   "cell_type": "code",
   "execution_count": 34,
   "id": "a886b860",
   "metadata": {
    "slideshow": {
     "slide_type": "slide"
    }
   },
   "outputs": [],
   "source": [
    "from dataclasses import dataclass, field\n",
    "from typing import Generator, ClassVar\n",
    "\n",
    "from api import API\n",
    "\n",
    "def request(endpoint, kwargs={}):\n",
    "    for r in API.get(endpoint, kwargs):\n",
    "        if r is None:\n",
    "            break\n",
    "        yield r\n",
    "\n",
    "@dataclass\n",
    "class Stream:\n",
    "    endpoint: ClassVar[str]\n",
    "\n",
    "    def params(self) -> dict:\n",
    "        return {}\n",
    "\n",
    "    def get(self) -> Generator:\n",
    "        yield from request(self.endpoint, self.params())\n",
    "\n",
    "    \n",
    "@dataclass\n",
    "class Transactions(Stream):\n",
    "    ts:       int = ''\n",
    "    te:       int = ''\n",
    "    endpoint: ClassVar[str] = 'transactions'\n",
    "\n",
    "    def params(self) -> dict:\n",
    "        return {'ts': self.ts, 'te': self.te}\n",
    "\n",
    "        \n",
    "@dataclass\n",
    "class Customer(Stream):\n",
    "    cid:      int = ''\n",
    "    endpoint: ClassVar[str] = 'customer'\n",
    "        \n",
    "    def params(self) -> dict:\n",
    "        return {'cid': self.cid}\n",
    "\n",
    "\n",
    "@dataclass\n",
    "class Customers(Stream):\n",
    "    endpoint: ClassVar[str] = 'customers'\n",
    "\n",
    "    def get(self) -> Generator:\n",
    "        for result in request(self.endpoint, self.params()):\n",
    "            yield from Customer(cid=result).get()\n",
    "\n",
    "\n",
    "STREAMS = {\n",
    "    'customers':    Customers,\n",
    "    'transactions': Transactions\n",
    "}"
   ]
  },
  {
   "cell_type": "code",
   "execution_count": 37,
   "id": "2e88bb2f",
   "metadata": {
    "slideshow": {
     "slide_type": "subslide"
    }
   },
   "outputs": [
    {
     "name": "stdout",
     "output_type": "stream",
     "text": [
      "customers Customers() welchmichael@yahoo.com\n",
      "customers Customers() qcook@hotmail.com\n",
      "customers Customers() fharvey@yahoo.com\n",
      "customers Customers() priscillatorres@gmail.com\n",
      "customers Customers() ubrennan@gmail.com\n",
      "transactions Transactions(ts=0, te=5) 9851cf23-dc4a-4e32-9a02-440005d9107a\n",
      "transactions Transactions(ts=0, te=5) 26a20d34-0558-4cac-ab39-43918b8a20f0\n",
      "transactions Transactions(ts=0, te=5) 62b70806-6a40-4215-b9eb-51454a24b96b\n",
      "transactions Transactions(ts=0, te=5) a969e366-294a-4a6e-9904-70942d931442\n",
      "transactions Transactions(ts=0, te=5) 2ad04186-9d26-4e64-9309-83a87c68cca1\n",
      "Collecting tenacity\n",
      "  Downloading tenacity-7.0.0-py2.py3-none-any.whl (23 kB)\n",
      "Requirement already satisfied: six>=1.9.0 in /opt/conda/lib/python3.8/site-packages (from tenacity) (1.15.0)\n",
      "Installing collected packages: tenacity\n",
      "Successfully installed tenacity-7.0.0\n"
     ]
    }
   ],
   "source": [
    "def run(config):\n",
    "    for stream, conf in config.items():\n",
    "        worker = STREAMS[stream](**conf)\n",
    "        for result in worker.get():\n",
    "            print(stream, worker, result)\n",
    "\n",
    "run({\n",
    "    'customers': {},\n",
    "    'transactions': {'ts': 0, 'te': 5},\n",
    "})\n",
    "!pip install tenacity"
   ]
  },
  {
   "cell_type": "code",
   "execution_count": 39,
   "id": "6f5caad0",
   "metadata": {
    "slideshow": {
     "slide_type": "slide"
    }
   },
   "outputs": [
    {
     "ename": "ModuleNotFoundError",
     "evalue": "No module named 'singer'",
     "output_type": "error",
     "traceback": [
      "\u001b[0;31m---------------------------------------------------------------------------\u001b[0m",
      "\u001b[0;31mModuleNotFoundError\u001b[0m                       Traceback (most recent call last)",
      "\u001b[0;32m<ipython-input-39-2697d195d8d4>\u001b[0m in \u001b[0;36m<module>\u001b[0;34m\u001b[0m\n\u001b[1;32m      2\u001b[0m     \u001b[0mretry\u001b[0m\u001b[0;34m,\u001b[0m \u001b[0mretry_if_exception_type\u001b[0m\u001b[0;34m,\u001b[0m \u001b[0mstop_after_attempt\u001b[0m\u001b[0;34m,\u001b[0m \u001b[0mwait_random_exponential\u001b[0m\u001b[0;34m\u001b[0m\u001b[0;34m\u001b[0m\u001b[0m\n\u001b[1;32m      3\u001b[0m )\n\u001b[0;32m----> 4\u001b[0;31m \u001b[0;32mimport\u001b[0m \u001b[0msinger\u001b[0m\u001b[0;34m.\u001b[0m\u001b[0mmetrics\u001b[0m \u001b[0;32mas\u001b[0m \u001b[0mmetrics\u001b[0m\u001b[0;34m\u001b[0m\u001b[0;34m\u001b[0m\u001b[0m\n\u001b[0m\u001b[1;32m      5\u001b[0m \u001b[0;34m\u001b[0m\u001b[0m\n\u001b[1;32m      6\u001b[0m @retry(\n",
      "\u001b[0;31mModuleNotFoundError\u001b[0m: No module named 'singer'"
     ]
    }
   ],
   "source": [
    "from tenacity import (\n",
    "    retry, retry_if_exception_type, stop_after_attempt, wait_random_exponential\n",
    ")\n",
    "import singer.metrics as metrics\n",
    "\n",
    "@retry(\n",
    "    retry=retry_if_exception_type(HTTPError),\n",
    "    stop=(stop_after_attempt(MAX_ATTEMPTS)),\n",
    "    wait=wait_random_exponential(max=WAIT_EXPONENTIAL_MAX),\n",
    "    reraise=True\n",
    ")\n",
    "def gen_request(client, endpoint, params):\n",
    "    with metrics.http_request_timer(endpoint) as timer:\n",
    "        LOGGER.debug(f'Request for endpoint {endpoint}: {params}')\n",
    "        resp = client.get(endpoint, params=params)\n",
    "\n",
    "        timer.tags[metrics.Tag.http_status_code] = resp.status_code\n",
    "\n",
    "        resp.raise_for_status()\n",
    "        return json.loads(resp.content)"
   ]
  },
  {
   "cell_type": "code",
   "execution_count": null,
   "id": "c03967c6",
   "metadata": {
    "slideshow": {
     "slide_type": "subslide"
    }
   },
   "outputs": [],
   "source": [
    "import requests\n",
    "\n",
    "response = requests.get('http://canned/index/')\n",
    "\n",
    "print(response.status_code, response.json())\n",
    "!pip install tenacity"
   ]
  },
  {
   "cell_type": "code",
   "execution_count": 40,
   "id": "b79c6049",
   "metadata": {},
   "outputs": [],
   "source": [
    "import logging\n",
    "from dataclasses import dataclass, field\n",
    "from time import time\n",
    "from typing import Callable\n",
    "import functools\n",
    "import json\n",
    "import requests\n",
    "\n",
    "from tenacity import (\n",
    "    retry, retry_if_exception_type, stop_after_attempt, wait_random_exponential\n",
    ")\n",
    "\n",
    "LOG = logging.getLogger(__name__)\n",
    "logging.basicConfig()\n",
    "\n",
    "DEFAULT_MAX_ATTEMPTS = 10\n",
    "MAX_WAIT_SECONDS = 60\n",
    "MAX_ATTEMPTS = 5\n",
    "\n",
    "DEFAULT_RETRY_EXCEPTIONS = (ConnectionError,)\n",
    "\n",
    "def default_handler(d): print(d)\n",
    "def blank_handler(d):   pass\n",
    "\n",
    "\n",
    "@dataclass\n",
    "class Timer:\n",
    "    start_handler: Callable[[dict], None] = default_handler\n",
    "    end_handler:   Callable[[dict], None] = default_handler\n",
    "    start_time: float = field(default_factory=time)\n",
    "\n",
    "    def duration(self, current_time=time()):\n",
    "        return current_time - self.start_time\n",
    "\n",
    "    def __enter__(self):\n",
    "        self.start_handler()\n",
    "        return self\n",
    "\n",
    "    def __exit__(self, type, value, traceback):\n",
    "        self.end_handler(self.as_dict(time()))\n",
    "\n",
    "    def as_dict(self, stop_time):\n",
    "        return {\n",
    "            'start_time': self.start_time,\n",
    "            'stop_time': stop_time,\n",
    "            'duration': self.duration(stop_time),\n",
    "        }\n",
    "\n",
    "def start_handler(f,a,k):\n",
    "    print('starting', {'func': (f, a, k)})\n",
    "\n",
    "def end_handler(f, a, k, t, status):\n",
    "    print('finished', {\n",
    "        'func': (f, a, k),\n",
    "        'status': status,\n",
    "        'duration': '{:0.4f}'.format(t.as_dict(time())['duration']),\n",
    "    })\n",
    "\n",
    "def request_timer(func):\n",
    "    @functools.wraps(func)\n",
    "    def wrapper(*args, **kwargs):\n",
    "        with Timer(functools.partial(start_handler, func.__name__, args, kwargs), blank_handler) as timer:\n",
    "            status, result = func(*args, **kwargs)\n",
    "            end_handler(func.__name__, args, kwargs, timer, status)\n",
    "            return status, result\n",
    "    return wrapper\n",
    "\n",
    "@retry(\n",
    "    retry=retry_if_exception_type(DEFAULT_RETRY_EXCEPTIONS),\n",
    "    stop=(stop_after_attempt(MAX_ATTEMPTS)),\n",
    "    wait=wait_random_exponential(max=MAX_WAIT_SECONDS),\n",
    "    reraise=True\n",
    ")\n",
    "@request_timer\n",
    "def request(endpoint, params):\n",
    "    LOG.debug(f'Request for endpoint {endpoint}: {params}')\n",
    "    resp = requests.get(endpoint, params=params)\n",
    "    resp.raise_for_status()\n",
    "    return resp.status_code, resp.json()"
   ]
  },
  {
   "cell_type": "code",
   "execution_count": 41,
   "id": "3ba0475a",
   "metadata": {},
   "outputs": [
    {
     "name": "stdout",
     "output_type": "stream",
     "text": [
      "starting {'func': ('request', ('http://canned/index/', {}), {})}\n",
      "finished {'func': ('request', ('http://canned/index/', {}), {}), 'status': 200, 'duration': '0.0608'}\n",
      "(200, {'hello': 'world'}) \n",
      "\n",
      "starting {'func': ('request', ('http://canned/index/', {}), {})}\n",
      "finished {'func': ('request', ('http://canned/index/', {}), {}), 'status': 200, 'duration': '0.0126'}\n",
      "(200, {'hello': 'world'}) \n",
      "\n",
      "starting {'func': ('request', ('http://canned/index/', {}), {})}\n",
      "finished {'func': ('request', ('http://canned/index/', {}), {}), 'status': 200, 'duration': '0.0085'}\n",
      "(200, {'hello': 'world'}) \n",
      "\n",
      "starting {'func': ('request', ('http://canned/index/', {}), {})}\n",
      "finished {'func': ('request', ('http://canned/index/', {}), {}), 'status': 200, 'duration': '0.0130'}\n",
      "(200, {'hello': 'world'}) \n",
      "\n",
      "starting {'func': ('request', ('http://canned/index/', {}), {})}\n",
      "finished {'func': ('request', ('http://canned/index/', {}), {}), 'status': 200, 'duration': '0.0121'}\n",
      "(200, {'hello': 'world'}) \n",
      "\n",
      "starting {'func': ('request', ('http://canned/index/', {}), {})}\n",
      "finished {'func': ('request', ('http://canned/index/', {}), {}), 'status': 200, 'duration': '0.0125'}\n",
      "(200, {'hello': 'world'}) \n",
      "\n",
      "starting {'func': ('request', ('http://canned/index/', {}), {})}\n",
      "finished {'func': ('request', ('http://canned/index/', {}), {}), 'status': 200, 'duration': '0.0096'}\n",
      "(200, {'hello': 'world'}) \n",
      "\n",
      "starting {'func': ('request', ('http://canned/index/', {}), {})}\n",
      "finished {'func': ('request', ('http://canned/index/', {}), {}), 'status': 200, 'duration': '0.0078'}\n",
      "(200, {'hello': 'world'}) \n",
      "\n",
      "starting {'func': ('request', ('http://canned/index/', {}), {})}\n",
      "finished {'func': ('request', ('http://canned/index/', {}), {}), 'status': 200, 'duration': '0.0090'}\n",
      "(200, {'hello': 'world'}) \n",
      "\n",
      "starting {'func': ('request', ('http://canned/index/', {}), {})}\n",
      "finished {'func': ('request', ('http://canned/index/', {}), {}), 'status': 200, 'duration': '0.0090'}\n",
      "(200, {'hello': 'world'}) \n",
      "\n"
     ]
    }
   ],
   "source": [
    "for _ in range(10):\n",
    "    print(request('http://canned/index/', {}), '\\n')"
   ]
  },
  {
   "cell_type": "markdown",
   "id": "fcd31e45",
   "metadata": {
    "slideshow": {
     "slide_type": "slide"
    }
   },
   "source": [
    "## Some Tricks"
   ]
  },
  {
   "cell_type": "code",
   "execution_count": 43,
   "id": "881ef32c",
   "metadata": {
    "scrolled": true,
    "slideshow": {
     "slide_type": "fragment"
    }
   },
   "outputs": [
    {
     "name": "stdout",
     "output_type": "stream",
     "text": [
      "\n",
      "type(obj) : <class '__main__.Thingo'>\n",
      "\n",
      "obj.__class__ : <class '__main__.Thingo'>\n",
      "\n",
      "obj.__class__.__name__ : Thingo\n",
      "\n",
      "obj.__dict__ : {'a': 1}\n",
      "\n",
      "obj.__dir__ : ['a', '__module__', '__init__', '__dict__', '__weakref__', '__doc__', '__repr__', '__hash__', '__str__', '__getattribute__', '__setattr__', '__delattr__', '__lt__', '__le__', '__eq__', '__ne__', '__gt__', '__ge__', '__new__', '__reduce_ex__', '__reduce__', '__subclasshook__', '__init_subclass__', '__format__', '__sizeof__', '__dir__', '__class__']\n"
     ]
    }
   ],
   "source": [
    "class Thingo:\n",
    "    def __init__(self, a):\n",
    "        self.a = a\n",
    "    \n",
    "obj = Thingo(1)\n",
    "\n",
    "print('\\ntype(obj) :',              type(obj))\n",
    "print('\\nobj.__class__ :',          obj.__class__)\n",
    "print('\\nobj.__class__.__name__ :', obj.__class__.__name__)\n",
    "print('\\nobj.__dict__ :',           obj.__dict__)\n",
    "print('\\nobj.__dir__ :',            obj.__dir__())"
   ]
  },
  {
   "cell_type": "code",
   "execution_count": 45,
   "id": "8ffcb116",
   "metadata": {
    "scrolled": true,
    "slideshow": {
     "slide_type": "slide"
    }
   },
   "outputs": [
    {
     "name": "stdout",
     "output_type": "stream",
     "text": [
      "type(obj.__class__.__name__) : <class 'str'>\n",
      "type(obj.__class__) : <class 'type'>\n",
      "{'a': 'b'}\n"
     ]
    }
   ],
   "source": [
    "print('type(obj.__class__.__name__) :', type(obj.__class__.__name__))\n",
    "print('type(obj.__class__) :', type(obj.__class__))\n",
    "\n",
    "print(obj.__class__('b').__dict__)"
   ]
  },
  {
   "cell_type": "code",
   "execution_count": 46,
   "id": "624ce2ae",
   "metadata": {
    "slideshow": {
     "slide_type": "slide"
    }
   },
   "outputs": [
    {
     "ename": "SyntaxError",
     "evalue": "invalid syntax (<ipython-input-46-85e5f78d0023>, line 1)",
     "output_type": "error",
     "traceback": [
      "\u001b[0;36m  File \u001b[0;32m\"<ipython-input-46-85e5f78d0023>\"\u001b[0;36m, line \u001b[0;32m1\u001b[0m\n\u001b[0;31m    `__dict__` can be very useful\u001b[0m\n\u001b[0m    ^\u001b[0m\n\u001b[0;31mSyntaxError\u001b[0m\u001b[0;31m:\u001b[0m invalid syntax\n"
     ]
    }
   ],
   "source": [
    "`__dict__` can be very useful"
   ]
  },
  {
   "cell_type": "code",
   "execution_count": 47,
   "id": "c606b7c6",
   "metadata": {
    "slideshow": {
     "slide_type": "fragment"
    }
   },
   "outputs": [],
   "source": [
    "from argparse import ArgumentParser\n",
    "\n",
    "def run(integration, region):\n",
    "    pass\n",
    "\n",
    "def parse_args() -> dict:\n",
    "    parser = ArgumentParser(description='Run an integration')\n",
    "    parser.add_argument('--integration', required=True, help='the integration to run', choices=['a', 'b'])\n",
    "    parser.add_argument('--region',      required=True, help='the AWS region to run in', choices=['ap-southeast-2', 'us-west-2'])\n",
    "    return parser.parse_args().__dict__\n",
    "\n",
    "if False:\n",
    "    run(**parse_args())"
   ]
  },
  {
   "cell_type": "markdown",
   "id": "2b00babc",
   "metadata": {
    "slideshow": {
     "slide_type": "slide"
    }
   },
   "source": [
    "## Dunders"
   ]
  },
  {
   "cell_type": "code",
   "execution_count": 56,
   "id": "a4caa161",
   "metadata": {
    "slideshow": {
     "slide_type": "subslide"
    }
   },
   "outputs": [
    {
     "name": "stdout",
     "output_type": "stream",
     "text": [
      "[Thing(a=2, k='sally'), Thing(a=300, k='barry')]\n",
      "[Thing(a=2, k='sally'), Thing(a=300, k='barry')]\n"
     ]
    }
   ],
   "source": [
    "from dataclasses import dataclass, field\n",
    "\n",
    "@dataclass\n",
    "class Thing:\n",
    "    a: int\n",
    "    k: str\n",
    "\n",
    "    def __eq__(self, o):\n",
    "        return o.k == self.k\n",
    "\n",
    "    def __lt__(self, o):\n",
    "        return self.k < o.k\n",
    "    \n",
    "\n",
    "collection = [\n",
    "    Thing(2, 'sally'),\n",
    "    Thing(300, 'barry'),\n",
    "]\n",
    "print(collection)\n",
    "print(list(sorted(collection, key=lambda x: x.k)))"
   ]
  },
  {
   "cell_type": "code",
   "execution_count": 51,
   "id": "c6a2b865",
   "metadata": {
    "slideshow": {
     "slide_type": "subslide"
    }
   },
   "outputs": [],
   "source": [
    "from typing import List\n",
    "\n",
    "@dataclass\n",
    "class Things:\n",
    "    things: List[Thing] = field(default_factory=list)\n",
    "\n",
    "    def __getitem__(self, k):\n",
    "        for t in self.things:\n",
    "            if t.k == k:\n",
    "                return t\n",
    "\n",
    "    def __contains__(self, k):\n",
    "        return self.__getitem__(k) is not None\n",
    "    \n",
    "    def __iter__(self):\n",
    "        yield from self.things"
   ]
  },
  {
   "cell_type": "code",
   "execution_count": 53,
   "id": "e675e4bd",
   "metadata": {
    "slideshow": {
     "slide_type": "subslide"
    }
   },
   "outputs": [
    {
     "name": "stdout",
     "output_type": "stream",
     "text": [
      "Things(things=[Thing(a=2, k='sally'), Thing(a=1, k='barry')])\n",
      "harry: False\n",
      "sally: Thing(a=2, k='sally')\n",
      "-- Thing(a=2, k='sally')\n",
      "-- Thing(a=1, k='barry')\n"
     ]
    }
   ],
   "source": [
    "collection = Things([\n",
    "    Thing(2, 'sally'),\n",
    "    Thing(1, 'barry'),\n",
    "])\n",
    "print(collection)\n",
    "print('harry:', 'harry' in collection)\n",
    "print('sally:', collection['sally'])\n",
    "\n",
    "for thing in collection:\n",
    "    print('--', thing)"
   ]
  },
  {
   "cell_type": "markdown",
   "id": "7cd7465e",
   "metadata": {},
   "source": [
    "Don't do things like this!"
   ]
  },
  {
   "cell_type": "code",
   "execution_count": 54,
   "id": "2223e3ac",
   "metadata": {},
   "outputs": [
    {
     "name": "stdout",
     "output_type": "stream",
     "text": [
      "b d\n",
      "v ko\n"
     ]
    }
   ],
   "source": [
    "# Assigning instance vars is too tedious!\n",
    "# Let's magically populate all the dot methods using the __dict__\n",
    "class Thingo:\n",
    "    def __init__(self, **kwargs):\n",
    "        self.__dict__.update(kwargs)\n",
    "\n",
    "\n",
    "t = Thingo(**{'a': 'b', 'c': 'd'})\n",
    "print(t.a, t.c)\n",
    "\n",
    "t = Thingo(**{'k': 'v', 'ok': 'ko'})\n",
    "print(t.k, t.ok)"
   ]
  },
  {
   "cell_type": "code",
   "execution_count": null,
   "id": "4d1d637b",
   "metadata": {},
   "outputs": [],
   "source": []
  }
 ],
 "metadata": {
  "celltoolbar": "Slideshow",
  "kernelspec": {
   "display_name": "Python 3",
   "language": "python",
   "name": "python3"
  },
  "language_info": {
   "codemirror_mode": {
    "name": "ipython",
    "version": 3
   },
   "file_extension": ".py",
   "mimetype": "text/x-python",
   "name": "python",
   "nbconvert_exporter": "python",
   "pygments_lexer": "ipython3",
   "version": "3.8.8"
  }
 },
 "nbformat": 4,
 "nbformat_minor": 5
}
