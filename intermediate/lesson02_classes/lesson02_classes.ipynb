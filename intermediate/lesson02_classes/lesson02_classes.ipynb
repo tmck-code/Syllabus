{
 "cells": [
  {
   "cell_type": "markdown",
   "id": "fba5875b",
   "metadata": {
    "slideshow": {
     "slide_type": "slide"
    }
   },
   "source": [
    "# Lesson 2: Classes in the Wild\n",
    "\n",
    "> _Disclaimer: These points were intended to be applied to Python, your mileage may vary._\n",
    "\n",
    "- Overutilising or underutilising classes can lead to ruin\n",
    "- Classes can be a powerful tool or an endless garden path"
   ]
  },
  {
   "cell_type": "markdown",
   "id": "4deeb3af",
   "metadata": {
    "slideshow": {
     "slide_type": "slide"
    }
   },
   "source": [
    "## Pros\n",
    "\n",
    "- Can break up a complicated problem into smaller parts\n",
    "- Can keep track of state\n",
    "  - No need to pass parameters back and forth\n",
    "  - No thread-unsafe global variables\n",
    "  - Can logically initialise state and then use it\n",
    "- Can organise a hierarcy of states that belong together\n",
    "- Provide dot-methods for accessing properties\n",
    "  - \"ask, don't tell\"\n",
    "  \n",
    "## Cons\n",
    "\n",
    "- Can make code convoluted and hard to read\n",
    "  - code spread across multiple files\n",
    "  - logic for a single operation spread across multiple different parts"
   ]
  },
  {
   "cell_type": "markdown",
   "id": "676f0df2",
   "metadata": {
    "slideshow": {
     "slide_type": "slide"
    }
   },
   "source": [
    "## Functions vs Classes\n",
    "\n",
    "### Functions vs Methods\n",
    "\n",
    "In python\n",
    "\n",
    "- a **function** takes parameters, returns a value\n",
    "- a **method** can be called on an object, and can access state in the object\n",
    "\n",
    "\n",
    "### Some examples of saturated methods\n",
    "\n",
    "https://github.com/pandas-dev/pandas/blob/d01561fb7b9ad337611fa38a3cfb7e8c2faec608/pandas/io/parsers/readers.py#L708-L747\n",
    "https://github.com/Grasia/wiki-scripts/blob/a154b995fafe440014e28f1936367638a34c7942/wiki_dump_parser/wiki_dump_parser.py#L50-L79"
   ]
  },
  {
   "cell_type": "markdown",
   "id": "eda63bbe",
   "metadata": {
    "slideshow": {
     "slide_type": "slide"
    }
   },
   "source": [
    "## Baby steps"
   ]
  },
  {
   "cell_type": "code",
   "execution_count": 1,
   "id": "dd4c0875",
   "metadata": {
    "scrolled": true,
    "slideshow": {
     "slide_type": "subslide"
    }
   },
   "outputs": [
    {
     "data": {
      "text/plain": [
       "{'thing': 'a', 'identifiier': 'b', 'name': 'c'}"
      ]
     },
     "execution_count": 1,
     "metadata": {},
     "output_type": "execute_result"
    }
   ],
   "source": [
    "CONFIG = {\n",
    "    'thing': 'a',\n",
    "    'identifiier': 'b',\n",
    "    'name': 'c'\n",
    "}\n",
    "CONFIG"
   ]
  },
  {
   "cell_type": "markdown",
   "id": "f4afd2ce",
   "metadata": {
    "slideshow": {
     "slide_type": "fragment"
    }
   },
   "source": [
    "_This isn't very safe if something goes wrong, and the IDE can't offer us any help_"
   ]
  },
  {
   "cell_type": "code",
   "execution_count": 4,
   "id": "93eaec9b",
   "metadata": {
    "scrolled": true,
    "slideshow": {
     "slide_type": "fragment"
    }
   },
   "outputs": [
    {
     "ename": "KeyError",
     "evalue": "'identifier'",
     "output_type": "error",
     "traceback": [
      "\u001b[0;31m---------------------------------------------------------------------------\u001b[0m",
      "\u001b[0;31mKeyError\u001b[0m                                  Traceback (most recent call last)",
      "\u001b[0;32m<ipython-input-4-2293af29cfe7>\u001b[0m in \u001b[0;36m<module>\u001b[0;34m\u001b[0m\n\u001b[0;32m----> 1\u001b[0;31m \u001b[0mCONFIG\u001b[0m\u001b[0;34m[\u001b[0m\u001b[0;34m'identifier'\u001b[0m\u001b[0;34m]\u001b[0m\u001b[0;34m\u001b[0m\u001b[0;34m\u001b[0m\u001b[0m\n\u001b[0m",
      "\u001b[0;31mKeyError\u001b[0m: 'identifier'"
     ]
    }
   ],
   "source": [
    "CONFIG['identifier']"
   ]
  },
  {
   "cell_type": "markdown",
   "id": "56f808ef",
   "metadata": {
    "slideshow": {
     "slide_type": "slide"
    }
   },
   "source": [
    "## Namedtuple\n",
    "\n",
    "`namedtuple` == Quick 'n' dirty class!\n",
    "\n",
    "Use when you just need to\n",
    "- make sure that the correct keys/values are present\n",
    "- access something a few times (safely) via a dot method rather than a dict key lookup"
   ]
  },
  {
   "cell_type": "code",
   "execution_count": 2,
   "id": "7de3785f",
   "metadata": {
    "slideshow": {
     "slide_type": "fragment"
    }
   },
   "outputs": [
    {
     "name": "stdout",
     "output_type": "stream",
     "text": [
      "config(thing='a', identifier='b', name='c')\n",
      "a b\n"
     ]
    }
   ],
   "source": [
    "from collections import namedtuple\n",
    "\n",
    "Config = namedtuple('config', ['thing', 'identifier', 'name'])\n",
    "\n",
    "CONFIG = Config('a', 'b', 'c')\n",
    "\n",
    "print(CONFIG)\n",
    "print(CONFIG.thing, CONFIG.identifier)"
   ]
  },
  {
   "cell_type": "markdown",
   "id": "dec0e4b0",
   "metadata": {
    "slideshow": {
     "slide_type": "slide"
    }
   },
   "source": [
    "### A multi-level config object"
   ]
  },
  {
   "cell_type": "code",
   "execution_count": 4,
   "id": "24b06a3a",
   "metadata": {
    "scrolled": true,
    "slideshow": {
     "slide_type": "fragment"
    }
   },
   "outputs": [
    {
     "name": "stdout",
     "output_type": "stream",
     "text": [
      "customers customers/search/\n",
      "products products/all/search/\n"
     ]
    }
   ],
   "source": [
    "from collections import namedtuple\n",
    "\n",
    "# Define what your config objects need to contain\n",
    "Endpoint = namedtuple('endpoints', ['key', 'url', 'timeout', 'n_workers'])\n",
    "Endpoints = namedtuple('endpoints', ['customers', 'products'])\n",
    "\n",
    "# Initialise all configs with their values\n",
    "# Could read this from a JSON file, command-line args, or define it here\n",
    "# Either way, the namedtuple will ensure that the result is the same\n",
    "ENDPOINTS = {\n",
    "    'customers': Endpoint('customers', 'customers/search/', 200, 2),\n",
    "    'products': Endpoint('products', 'products/all/search/', 100, 2)\n",
    "}\n",
    "\n",
    "for endpoint, config in ENDPOINTS.items():\n",
    "    print(endpoint, config.url)"
   ]
  },
  {
   "cell_type": "markdown",
   "id": "14c75beb",
   "metadata": {
    "slideshow": {
     "slide_type": "slide"
    }
   },
   "source": [
    "Now let's try the failing example again"
   ]
  },
  {
   "cell_type": "code",
   "execution_count": 5,
   "id": "97c88240",
   "metadata": {
    "slideshow": {
     "slide_type": "subslide"
    }
   },
   "outputs": [
    {
     "ename": "TypeError",
     "evalue": "<lambda>() got an unexpected keyword argument 'identifiier'",
     "output_type": "error",
     "traceback": [
      "\u001b[0;31m---------------------------------------------------------------------------\u001b[0m",
      "\u001b[0;31mTypeError\u001b[0m                                 Traceback (most recent call last)",
      "\u001b[0;32m<ipython-input-5-32ff9271912c>\u001b[0m in \u001b[0;36m<module>\u001b[0;34m\u001b[0m\n\u001b[0;32m----> 1\u001b[0;31m Config(**{\n\u001b[0m\u001b[1;32m      2\u001b[0m     \u001b[0;34m'thing'\u001b[0m\u001b[0;34m:\u001b[0m \u001b[0;34m'a'\u001b[0m\u001b[0;34m,\u001b[0m\u001b[0;34m\u001b[0m\u001b[0;34m\u001b[0m\u001b[0m\n\u001b[1;32m      3\u001b[0m     \u001b[0;34m'identifiier'\u001b[0m\u001b[0;34m:\u001b[0m \u001b[0;34m'b'\u001b[0m\u001b[0;34m,\u001b[0m\u001b[0;34m\u001b[0m\u001b[0;34m\u001b[0m\u001b[0m\n\u001b[1;32m      4\u001b[0m     \u001b[0;34m'name'\u001b[0m\u001b[0;34m:\u001b[0m \u001b[0;34m'c'\u001b[0m\u001b[0;34m\u001b[0m\u001b[0;34m\u001b[0m\u001b[0m\n\u001b[1;32m      5\u001b[0m })\n",
      "\u001b[0;31mTypeError\u001b[0m: <lambda>() got an unexpected keyword argument 'identifiier'"
     ]
    }
   ],
   "source": [
    "Config(**{\n",
    "    'thing': 'a',\n",
    "    'identifiier': 'b',\n",
    "    'name': 'c'\n",
    "})"
   ]
  },
  {
   "cell_type": "markdown",
   "id": "62223ab7",
   "metadata": {
    "slideshow": {
     "slide_type": "fragment"
    }
   },
   "source": [
    "Much better!\n",
    "\n",
    "This means that we catch the error when Config is _**initialised**_, rather than when trying to _**access**_ 'identifier' later on.\n",
    "\n",
    "This is also useful when loading a JSON config, and you need to make sure all the key are present"
   ]
  },
  {
   "cell_type": "code",
   "execution_count": 6,
   "id": "ebed7607",
   "metadata": {
    "slideshow": {
     "slide_type": "slide"
    }
   },
   "outputs": [
    {
     "data": {
      "text/plain": [
       "config(thing=123, identifier=123, name='me')"
      ]
     },
     "execution_count": 6,
     "metadata": {},
     "output_type": "execute_result"
    }
   ],
   "source": [
    "import json\n",
    "raw = '{\"identifier\": 123, \"name\": \"me\", \"thing\": 123}'\n",
    "\n",
    "Config(**json.loads(raw))"
   ]
  },
  {
   "cell_type": "code",
   "execution_count": 7,
   "id": "216bd98e",
   "metadata": {},
   "outputs": [
    {
     "ename": "TypeError",
     "evalue": "<lambda>() got an unexpected keyword argument 'extra'",
     "output_type": "error",
     "traceback": [
      "\u001b[0;31m---------------------------------------------------------------------------\u001b[0m",
      "\u001b[0;31mTypeError\u001b[0m                                 Traceback (most recent call last)",
      "\u001b[0;32m<ipython-input-7-42d65a427a73>\u001b[0m in \u001b[0;36m<module>\u001b[0;34m\u001b[0m\n\u001b[1;32m      1\u001b[0m \u001b[0mraw\u001b[0m \u001b[0;34m=\u001b[0m \u001b[0;34m'{\"identifier\": 123, \"name\": \"me\", \"thing\": 123, \"extra\": 1}'\u001b[0m\u001b[0;34m\u001b[0m\u001b[0;34m\u001b[0m\u001b[0m\n\u001b[1;32m      2\u001b[0m \u001b[0;34m\u001b[0m\u001b[0m\n\u001b[0;32m----> 3\u001b[0;31m \u001b[0mConfig\u001b[0m\u001b[0;34m(\u001b[0m\u001b[0;34m**\u001b[0m\u001b[0mjson\u001b[0m\u001b[0;34m.\u001b[0m\u001b[0mloads\u001b[0m\u001b[0;34m(\u001b[0m\u001b[0mraw\u001b[0m\u001b[0;34m)\u001b[0m\u001b[0;34m)\u001b[0m\u001b[0;34m\u001b[0m\u001b[0;34m\u001b[0m\u001b[0m\n\u001b[0m",
      "\u001b[0;31mTypeError\u001b[0m: <lambda>() got an unexpected keyword argument 'extra'"
     ]
    }
   ],
   "source": [
    "raw = '{\"identifier\": 123, \"name\": \"me\", \"thing\": 123, \"extra\": 1}'\n",
    "\n",
    "Config(**json.loads(raw))"
   ]
  },
  {
   "cell_type": "markdown",
   "id": "de19b5c9",
   "metadata": {
    "slideshow": {
     "slide_type": "slide"
    }
   },
   "source": [
    "## Dataclasses\n",
    "\n",
    "- Python 3.7+\n",
    "- Syntactic sugar for defining an `__init__` method and instance variables\n",
    "- also provides a nice `__repr__` method, and some other things"
   ]
  },
  {
   "cell_type": "markdown",
   "id": "e7b7588e",
   "metadata": {
    "slideshow": {
     "slide_type": "slide"
    }
   },
   "source": [
    "A regular class:"
   ]
  },
  {
   "cell_type": "code",
   "execution_count": 8,
   "id": "72dfba57",
   "metadata": {
    "slideshow": {
     "slide_type": "fragment"
    }
   },
   "outputs": [
    {
     "data": {
      "text/plain": [
       "<__main__.Obj at 0x1030faee0>"
      ]
     },
     "execution_count": 8,
     "metadata": {},
     "output_type": "execute_result"
    }
   ],
   "source": [
    "class Obj:\n",
    "    def __init__(self, a=1, b=2, c='default'):\n",
    "        self.a = a\n",
    "        self.b = b\n",
    "        self.c = c\n",
    "\n",
    "Obj(1)"
   ]
  },
  {
   "cell_type": "markdown",
   "id": "ed69b813",
   "metadata": {},
   "source": [
    "The same, but as a dataclass"
   ]
  },
  {
   "cell_type": "code",
   "execution_count": 9,
   "id": "69b8e629",
   "metadata": {
    "slideshow": {
     "slide_type": "fragment"
    }
   },
   "outputs": [
    {
     "data": {
      "text/plain": [
       "Obj(a=1, b=2, c='default')"
      ]
     },
     "execution_count": 9,
     "metadata": {},
     "output_type": "execute_result"
    }
   ],
   "source": [
    "from dataclasses import dataclass\n",
    "\n",
    "@dataclass\n",
    "class Obj:\n",
    "    a: int = 1\n",
    "    b: int = 2\n",
    "    c: str = 'default'\n",
    "\n",
    "Obj(1)"
   ]
  },
  {
   "cell_type": "code",
   "execution_count": 10,
   "id": "475b988a",
   "metadata": {
    "slideshow": {
     "slide_type": "fragment"
    }
   },
   "outputs": [
    {
     "ename": "TypeError",
     "evalue": "__init__() got an unexpected keyword argument 'd'",
     "output_type": "error",
     "traceback": [
      "\u001b[0;31m---------------------------------------------------------------------------\u001b[0m",
      "\u001b[0;31mTypeError\u001b[0m                                 Traceback (most recent call last)",
      "\u001b[0;32m<ipython-input-10-e07846acd497>\u001b[0m in \u001b[0;36m<module>\u001b[0;34m\u001b[0m\n\u001b[0;32m----> 1\u001b[0;31m \u001b[0mObj\u001b[0m\u001b[0;34m(\u001b[0m\u001b[0md\u001b[0m\u001b[0;34m=\u001b[0m\u001b[0;36m5\u001b[0m\u001b[0;34m)\u001b[0m\u001b[0;34m\u001b[0m\u001b[0;34m\u001b[0m\u001b[0m\n\u001b[0m",
      "\u001b[0;31mTypeError\u001b[0m: __init__() got an unexpected keyword argument 'd'"
     ]
    }
   ],
   "source": [
    "Obj(d=5)"
   ]
  },
  {
   "cell_type": "markdown",
   "id": "a00d4f7c",
   "metadata": {
    "slideshow": {
     "slide_type": "slide"
    }
   },
   "source": [
    "---\n",
    "\n",
    "## An Example\n",
    "\n",
    "- You have a collection of items, in this case ids and emails\n",
    "- Need to iterate through them, collect some values, and pass them on"
   ]
  },
  {
   "cell_type": "code",
   "execution_count": 8,
   "id": "a559f6e7",
   "metadata": {
    "slideshow": {
     "slide_type": "slide"
    }
   },
   "outputs": [],
   "source": [
    "from api import API"
   ]
  },
  {
   "cell_type": "code",
   "execution_count": 18,
   "id": "0ac59ba7",
   "metadata": {
    "slideshow": {
     "slide_type": "slide"
    }
   },
   "outputs": [
    {
     "name": "stdout",
     "output_type": "stream",
     "text": [
      "0 4844\n",
      "1 1936\n",
      "2 5354\n",
      "3 1036\n",
      "4 6584\n",
      "5 None\n",
      "6 None\n"
     ]
    }
   ],
   "source": [
    "for i, el in enumerate(API.get('customers')):\n",
    "    print(i, el)\n",
    "    if i >= 6:\n",
    "        break"
   ]
  },
  {
   "cell_type": "markdown",
   "id": "0baa2989",
   "metadata": {
    "slideshow": {
     "slide_type": "slide"
    }
   },
   "source": [
    "For this exercise, we must consume a list of endpoints via key, and send them to their own file"
   ]
  },
  {
   "cell_type": "code",
   "execution_count": 32,
   "id": "e58f82b8",
   "metadata": {},
   "outputs": [
    {
     "name": "stdout",
     "output_type": "stream",
     "text": [
      "customer -- arobinson@ward.com\n",
      "customer -- fernandezbrittany@haney.net\n",
      "customer -- esanchez@gmail.com\n",
      "customer -- vwatson@gmail.com\n",
      "customer -- yhall@ferguson-bell.com\n",
      "transactions -- 32c3751e-8088-4e33-9ab4-b0d4f0afcf9b\n",
      "transactions -- 09a1ad38-b86e-4790-84de-50547deabe35\n",
      "transactions -- a30d01f6-220a-4963-b16d-9795c65ab654\n",
      "transactions -- 9be8a546-7f3f-45ad-97f3-6222ef55c522\n",
      "transactions -- e1e6052b-e481-4a88-a786-59cd439b17b1\n"
     ]
    }
   ],
   "source": [
    "for endpoint in ['customer', 'transactions']:\n",
    "    if endpoint == 'customer':\n",
    "        for i in API.get(endpoint+'s'):\n",
    "            if i is None:\n",
    "                break\n",
    "            print(endpoint, '--', next(API.get(endpoint, {'cid': i})))\n",
    "    elif endpoint == 'transactions':\n",
    "        for i in API.get(endpoint, {'ts': 0, 'te': 5}):\n",
    "            if i is None:\n",
    "                break\n",
    "            print(endpoint, '--', i)"
   ]
  },
  {
   "cell_type": "markdown",
   "id": "7b4c41d2",
   "metadata": {},
   "source": [
    "### A Guest Speaker!"
   ]
  },
  {
   "cell_type": "code",
   "execution_count": 4,
   "id": "e3ffac14",
   "metadata": {
    "scrolled": false,
    "slideshow": {
     "slide_type": "slide"
    }
   },
   "outputs": [
    {
     "data": {
      "text/html": [
       "\n",
       "        <iframe\n",
       "            width=\"400\"\n",
       "            height=\"300\"\n",
       "            src=\"https://www.youtube.com/embed/8bZh5LMaSmE?t=330\"\n",
       "            frameborder=\"0\"\n",
       "            allowfullscreen\n",
       "        ></iframe>\n",
       "        "
      ],
      "text/plain": [
       "<IPython.lib.display.YouTubeVideo at 0x7f896024a5b0>"
      ]
     },
     "execution_count": 4,
     "metadata": {},
     "output_type": "execute_result"
    }
   ],
   "source": [
    "from IPython.lib.display import YouTubeVideo\n",
    "YouTubeVideo('8bZh5LMaSmE?t=330')"
   ]
  },
  {
   "cell_type": "markdown",
   "id": "2246087c",
   "metadata": {
    "slideshow": {
     "slide_type": "fragment"
    }
   },
   "source": [
    "[https://github.com/emilybache/GildedRose-Refactoring-Kata](https://github.com/emilybache/GildedRose-Refactoring-Kata)"
   ]
  },
  {
   "cell_type": "markdown",
   "id": "cee25676",
   "metadata": {
    "slideshow": {
     "slide_type": "fragment"
    }
   },
   "source": [
    "https://github.com/tomquirk/realestate-com-au-api/blob/8368da02a67aaf1c2fe9634f19181fb54685718d/realestate_com_au/realestate_com_au.py#L70-L118"
   ]
  },
  {
   "cell_type": "markdown",
   "id": "d1ea697f",
   "metadata": {
    "slideshow": {
     "slide_type": "fragment"
    }
   },
   "source": [
    "https://softwareengineering.stackexchange.com/questions/351389/dynamic-dispatch-from-a-string-python"
   ]
  },
  {
   "cell_type": "markdown",
   "id": "2e1e51f3",
   "metadata": {
    "slideshow": {
     "slide_type": "slide"
    }
   },
   "source": [
    "### What's the easiest thing to extract first?"
   ]
  },
  {
   "cell_type": "code",
   "execution_count": 9,
   "id": "97fc5d9e",
   "metadata": {
    "scrolled": true,
    "slideshow": {
     "slide_type": "slide"
    }
   },
   "outputs": [
    {
     "ename": "ModuleNotFoundError",
     "evalue": "No module named 'faker'",
     "output_type": "error",
     "traceback": [
      "\u001b[0;31m---------------------------------------------------------------------------\u001b[0m",
      "\u001b[0;31mModuleNotFoundError\u001b[0m                       Traceback (most recent call last)",
      "\u001b[0;32m<ipython-input-9-24f257bef810>\u001b[0m in \u001b[0;36m<module>\u001b[0;34m\u001b[0m\n\u001b[0;32m----> 1\u001b[0;31m \u001b[0;32mfrom\u001b[0m \u001b[0mapi\u001b[0m \u001b[0;32mimport\u001b[0m \u001b[0mAPI\u001b[0m\u001b[0;34m\u001b[0m\u001b[0;34m\u001b[0m\u001b[0m\n\u001b[0m\u001b[1;32m      2\u001b[0m \u001b[0;34m\u001b[0m\u001b[0m\n\u001b[1;32m      3\u001b[0m \u001b[0;32mdef\u001b[0m \u001b[0mrequest\u001b[0m\u001b[0;34m(\u001b[0m\u001b[0mendpoint\u001b[0m\u001b[0;34m,\u001b[0m \u001b[0mkwargs\u001b[0m\u001b[0;34m=\u001b[0m\u001b[0;34m{\u001b[0m\u001b[0;34m}\u001b[0m\u001b[0;34m)\u001b[0m\u001b[0;34m:\u001b[0m\u001b[0;34m\u001b[0m\u001b[0;34m\u001b[0m\u001b[0m\n\u001b[1;32m      4\u001b[0m     \u001b[0;32mfor\u001b[0m \u001b[0mr\u001b[0m \u001b[0;32min\u001b[0m \u001b[0mAPI\u001b[0m\u001b[0;34m.\u001b[0m\u001b[0mget\u001b[0m\u001b[0;34m(\u001b[0m\u001b[0mendpoint\u001b[0m\u001b[0;34m,\u001b[0m \u001b[0mkwargs\u001b[0m\u001b[0;34m)\u001b[0m\u001b[0;34m:\u001b[0m\u001b[0;34m\u001b[0m\u001b[0;34m\u001b[0m\u001b[0m\n\u001b[1;32m      5\u001b[0m         \u001b[0;32mif\u001b[0m \u001b[0mr\u001b[0m \u001b[0;32mis\u001b[0m \u001b[0;32mNone\u001b[0m\u001b[0;34m:\u001b[0m\u001b[0;34m\u001b[0m\u001b[0;34m\u001b[0m\u001b[0m\n",
      "\u001b[0;32m/code/intermediate/lesson02_classes/api.py\u001b[0m in \u001b[0;36m<module>\u001b[0;34m\u001b[0m\n\u001b[1;32m      1\u001b[0m \u001b[0;32mfrom\u001b[0m \u001b[0mdataclasses\u001b[0m \u001b[0;32mimport\u001b[0m \u001b[0mdataclass\u001b[0m\u001b[0;34m\u001b[0m\u001b[0;34m\u001b[0m\u001b[0m\n\u001b[1;32m      2\u001b[0m \u001b[0;34m\u001b[0m\u001b[0m\n\u001b[0;32m----> 3\u001b[0;31m \u001b[0;32mfrom\u001b[0m \u001b[0mfaker\u001b[0m \u001b[0;32mimport\u001b[0m \u001b[0mFaker\u001b[0m\u001b[0;34m\u001b[0m\u001b[0;34m\u001b[0m\u001b[0m\n\u001b[0m\u001b[1;32m      4\u001b[0m \u001b[0;34m\u001b[0m\u001b[0m\n\u001b[1;32m      5\u001b[0m \u001b[0mfake\u001b[0m \u001b[0;34m=\u001b[0m \u001b[0mFaker\u001b[0m\u001b[0;34m(\u001b[0m\u001b[0;34m)\u001b[0m\u001b[0;34m\u001b[0m\u001b[0;34m\u001b[0m\u001b[0m\n",
      "\u001b[0;31mModuleNotFoundError\u001b[0m: No module named 'faker'"
     ]
    }
   ],
   "source": [
    "from api import API\n",
    "\n",
    "def request(endpoint, kwargs={}):\n",
    "    for r in API.get(endpoint, kwargs):\n",
    "        if r is None:\n",
    "            break\n",
    "        yield r\n",
    "\n",
    "\n",
    "for endpoint in ['customer', 'transactions']:\n",
    "    if endpoint == 'customer':\n",
    "        for i, c in enumerate(request(endpoint+'s')):\n",
    "            print(endpoint, i, next(request(endpoint, {'cid': c})))\n",
    "    elif endpoint == 'transactions':\n",
    "        for i, t in enumerate(request(endpoint, {'ts': 0, 'te': 5})):\n",
    "            print(endpoint, i, t)\n",
    "endpoint = ''"
   ]
  },
  {
   "cell_type": "code",
   "execution_count": 7,
   "id": "d7426ba2",
   "metadata": {
    "slideshow": {
     "slide_type": "slide"
    }
   },
   "outputs": [],
   "source": [
    "from dataclasses import dataclass\n",
    "from typing import Generator, ClassVar\n",
    "\n",
    "@dataclass\n",
    "class Transactions:\n",
    "    ts: int\n",
    "    te: int\n",
    "    endpoint: ClassVar[str] = 'transactions'\n",
    "    \n",
    "    @property\n",
    "    def params(self) -> dict:\n",
    "        return {'ts': self.ts, 'te': self.te}\n",
    "\n",
    "    def get(self) -> Generator:\n",
    "        yield from request(self.endpoint, self.params)\n",
    "\n",
    "        \n",
    "@dataclass\n",
    "class Customer:\n",
    "    cid:      int\n",
    "    endpoint: ClassVar[str] = 'customer'\n",
    "        \n",
    "    @property\n",
    "    def params(self) -> dict:\n",
    "        return {'id': self.cid}\n",
    "    \n",
    "    def get(self):\n",
    "        yield from request(self.endpoint, self.params)\n",
    "\n",
    "@dataclass\n",
    "class Customers:\n",
    "    endpoint: ClassVar[str] = 'customers'\n",
    "        \n",
    "    @property\n",
    "    def params(self) -> dict:\n",
    "        return {}\n",
    "\n",
    "    def get(self) -> Generator:\n",
    "        yield from request(self.endpoint, self.params)"
   ]
  },
  {
   "cell_type": "code",
   "execution_count": 8,
   "id": "1ae3f7f3",
   "metadata": {
    "scrolled": true,
    "slideshow": {
     "slide_type": "subslide"
    }
   },
   "outputs": [
    {
     "name": "stdout",
     "output_type": "stream",
     "text": [
      "customers:\n"
     ]
    },
    {
     "ename": "NameError",
     "evalue": "name 'request' is not defined",
     "output_type": "error",
     "traceback": [
      "\u001b[0;31m---------------------------------------------------------------------------\u001b[0m",
      "\u001b[0;31mNameError\u001b[0m                                 Traceback (most recent call last)",
      "\u001b[0;32m<ipython-input-8-0e79d44fe1ec>\u001b[0m in \u001b[0;36m<module>\u001b[0;34m\u001b[0m\n\u001b[1;32m      2\u001b[0m \u001b[0;34m\u001b[0m\u001b[0m\n\u001b[1;32m      3\u001b[0m \u001b[0mprint\u001b[0m\u001b[0;34m(\u001b[0m\u001b[0;34m'customers:'\u001b[0m\u001b[0;34m)\u001b[0m\u001b[0;34m\u001b[0m\u001b[0;34m\u001b[0m\u001b[0m\n\u001b[0;32m----> 4\u001b[0;31m ppd(list(\n\u001b[0m\u001b[1;32m      5\u001b[0m     \u001b[0mCustomers\u001b[0m\u001b[0;34m(\u001b[0m\u001b[0;34m)\u001b[0m\u001b[0;34m.\u001b[0m\u001b[0mget\u001b[0m\u001b[0;34m(\u001b[0m\u001b[0;34m)\u001b[0m\u001b[0;34m\u001b[0m\u001b[0;34m\u001b[0m\u001b[0m\n\u001b[1;32m      6\u001b[0m ))\n",
      "\u001b[0;32m<ipython-input-7-edc47a2f8cf0>\u001b[0m in \u001b[0;36mget\u001b[0;34m(self)\u001b[0m\n\u001b[1;32m     37\u001b[0m \u001b[0;34m\u001b[0m\u001b[0m\n\u001b[1;32m     38\u001b[0m     \u001b[0;32mdef\u001b[0m \u001b[0mget\u001b[0m\u001b[0;34m(\u001b[0m\u001b[0mself\u001b[0m\u001b[0;34m)\u001b[0m \u001b[0;34m->\u001b[0m \u001b[0mGenerator\u001b[0m\u001b[0;34m:\u001b[0m\u001b[0;34m\u001b[0m\u001b[0;34m\u001b[0m\u001b[0m\n\u001b[0;32m---> 39\u001b[0;31m         \u001b[0;32myield\u001b[0m \u001b[0;32mfrom\u001b[0m \u001b[0mrequest\u001b[0m\u001b[0;34m(\u001b[0m\u001b[0mself\u001b[0m\u001b[0;34m.\u001b[0m\u001b[0mendpoint\u001b[0m\u001b[0;34m,\u001b[0m \u001b[0mself\u001b[0m\u001b[0;34m.\u001b[0m\u001b[0mparams\u001b[0m\u001b[0;34m)\u001b[0m\u001b[0;34m\u001b[0m\u001b[0;34m\u001b[0m\u001b[0m\n\u001b[0m",
      "\u001b[0;31mNameError\u001b[0m: name 'request' is not defined"
     ]
    }
   ],
   "source": [
    "from utils import ppd\n",
    "\n",
    "print('customers:')\n",
    "ppd(list(\n",
    "    Customers().get()\n",
    "))\n",
    "\n",
    "print('transactions:')\n",
    "ppd(list(\n",
    "    Transactions(ts=0, te=5).get()\n",
    "))"
   ]
  },
  {
   "cell_type": "code",
   "execution_count": 53,
   "id": "a886b860",
   "metadata": {
    "slideshow": {
     "slide_type": "slide"
    }
   },
   "outputs": [],
   "source": [
    "from dataclasses import dataclass, field\n",
    "from typing import Generator, ClassVar\n",
    "\n",
    "from api import API\n",
    "\n",
    "def request(endpoint, kwargs={}):\n",
    "    for r in API.get(endpoint, kwargs):\n",
    "        if r is None:\n",
    "            break\n",
    "        yield r\n",
    "\n",
    "@dataclass\n",
    "class Stream:\n",
    "    endpoint: ClassVar[str]\n",
    "\n",
    "    def params(self) -> dict:\n",
    "        return {}\n",
    "\n",
    "    def get(self) -> Generator:\n",
    "        yield from request(self.endpoint, self.params())\n",
    "\n",
    "    \n",
    "@dataclass\n",
    "class Transactions(Stream):\n",
    "    ts:       int = ''\n",
    "    te:       int = ''\n",
    "    endpoint: ClassVar[str] = 'transactions'\n",
    "\n",
    "    def params(self) -> dict:\n",
    "        return {'ts': self.ts, 'te': self.te}\n",
    "\n",
    "        \n",
    "@dataclass\n",
    "class Customer(Stream):\n",
    "    cid:      int = ''\n",
    "    endpoint: ClassVar[str] = 'customer'\n",
    "        \n",
    "    def params(self) -> dict:\n",
    "        return {'cid': self.cid}\n",
    "\n",
    "\n",
    "@dataclass\n",
    "class Customers(Stream):\n",
    "    endpoint: ClassVar[str] = 'customers'\n",
    "\n",
    "    def get(self) -> Generator:\n",
    "        for result in request(self.endpoint, self.params()):\n",
    "            yield from Customer(cid=result).get()\n",
    "\n",
    "\n",
    "STREAMS = {\n",
    "    'customers':    Customers,\n",
    "    'transactions': Transactions\n",
    "}"
   ]
  },
  {
   "cell_type": "code",
   "execution_count": 54,
   "id": "2e88bb2f",
   "metadata": {
    "slideshow": {
     "slide_type": "subslide"
    }
   },
   "outputs": [
    {
     "name": "stdout",
     "output_type": "stream",
     "text": [
      "customers Customers() dmoore@owen.com\n",
      "customers Customers() escobarmichael@spencer.com\n",
      "customers Customers() lukelowery@yahoo.com\n",
      "customers Customers() mhatfield@gmail.com\n",
      "customers Customers() bmelton@vaughn-morgan.com\n",
      "transactions Transactions(ts=0, te=5) 99ef65ac-d8f3-4e93-ba75-c77204609bc5\n",
      "transactions Transactions(ts=0, te=5) 299fa825-4f95-4ba5-8a5c-e966ec53f81c\n",
      "transactions Transactions(ts=0, te=5) a1951c2e-6446-4521-94da-d9ce59481175\n",
      "transactions Transactions(ts=0, te=5) b28368d3-2f72-4725-af94-7c897c2b6816\n",
      "transactions Transactions(ts=0, te=5) 271072f4-3869-4d6f-9a5f-fed49e01c1ab\n"
     ]
    }
   ],
   "source": [
    "def run(config):\n",
    "    for stream, conf in config.items():\n",
    "        worker = STREAMS[stream](**conf)\n",
    "        for result in worker.get():\n",
    "            print(stream, worker, result)\n",
    "\n",
    "run({\n",
    "    'customers': {},\n",
    "    'transactions': {'ts': 0, 'te': 5},\n",
    "})"
   ]
  },
  {
   "cell_type": "code",
   "execution_count": null,
   "id": "6f5caad0",
   "metadata": {
    "slideshow": {
     "slide_type": "slide"
    }
   },
   "outputs": [],
   "source": [
    "from tenacity import (\n",
    "    retry, retry_if_exception_type, stop_after_attempt, wait_random_exponential\n",
    ")\n",
    "import singer.metrics as metrics\n",
    "\n",
    "@retry(\n",
    "    retry=retry_if_exception_type(HTTPError),\n",
    "    stop=(stop_after_attempt(MAX_ATTEMPTS)),\n",
    "    wait=wait_random_exponential(max=WAIT_EXPONENTIAL_MAX),\n",
    "    reraise=True\n",
    ")\n",
    "def gen_request(client, endpoint, params):\n",
    "    with metrics.http_request_timer(endpoint) as timer:\n",
    "        LOGGER.debug(f'Request for endpoint {endpoint}: {params}')\n",
    "        resp = client.get(endpoint, params=params)\n",
    "\n",
    "        timer.tags[metrics.Tag.http_status_code] = resp.status_code\n",
    "\n",
    "        resp.raise_for_status()\n",
    "        return json.loads(resp.content)"
   ]
  },
  {
   "cell_type": "code",
   "execution_count": null,
   "id": "c03967c6",
   "metadata": {
    "slideshow": {
     "slide_type": "subslide"
    }
   },
   "outputs": [],
   "source": [
    "import requests\n",
    "\n",
    "response = requests.get('http://canned/index/')\n",
    "\n",
    "print(response.status_code, response.json())"
   ]
  },
  {
   "cell_type": "markdown",
   "id": "fcd31e45",
   "metadata": {
    "slideshow": {
     "slide_type": "slide"
    }
   },
   "source": [
    "## Some Tricks"
   ]
  },
  {
   "cell_type": "code",
   "execution_count": 56,
   "id": "c5e8fac2",
   "metadata": {
    "slideshow": {
     "slide_type": "fragment"
    }
   },
   "outputs": [
    {
     "name": "stdout",
     "output_type": "stream",
     "text": [
      "type(obj): <class 'str'>\n"
     ]
    }
   ],
   "source": [
    "obj = 's'\n",
    "\n",
    "print('type(obj):', type(obj))"
   ]
  },
  {
   "cell_type": "code",
   "execution_count": 62,
   "id": "881ef32c",
   "metadata": {
    "slideshow": {
     "slide_type": "fragment"
    }
   },
   "outputs": [
    {
     "name": "stdout",
     "output_type": "stream",
     "text": [
      "\n",
      "type(obj) : <class '__main__.Thingo'>\n",
      "\n",
      "obj.__class__ : <class '__main__.Thingo'>\n",
      "\n",
      "obj.__class__.__name__ : Thingo\n",
      "\n",
      "obj.__dict__ : {'a': 1}\n",
      "\n",
      "obj.__dir__ : ['a', '__module__', '__init__', '__dict__', '__weakref__', '__doc__', '__repr__', '__hash__', '__str__', '__getattribute__', '__setattr__', '__delattr__', '__lt__', '__le__', '__eq__', '__ne__', '__gt__', '__ge__', '__new__', '__reduce_ex__', '__reduce__', '__subclasshook__', '__init_subclass__', '__format__', '__sizeof__', '__dir__', '__class__']\n"
     ]
    }
   ],
   "source": [
    "class Thingo:\n",
    "    def __init__(self, a):\n",
    "        self.a = a\n",
    "    \n",
    "obj = Thingo(1)\n",
    "\n",
    "print('\\ntype(obj) :',              type(obj))\n",
    "print('\\nobj.__class__ :',          obj.__class__)\n",
    "print('\\nobj.__class__.__name__ :', obj.__class__.__name__)\n",
    "print('\\nobj.__dict__ :',           obj.__dict__)\n",
    "print('\\nobj.__dir__ :',            obj.__dir__())"
   ]
  },
  {
   "cell_type": "code",
   "execution_count": 67,
   "id": "8ffcb116",
   "metadata": {
    "slideshow": {
     "slide_type": "fragment"
    }
   },
   "outputs": [
    {
     "name": "stdout",
     "output_type": "stream",
     "text": [
      "type(obj.__class__.__name__) : <class 'str'>\n",
      "type(obj.__class__) : <class 'type'>\n",
      "{'a': 'b'}\n"
     ]
    }
   ],
   "source": [
    "print('type(obj.__class__.__name__) :', type(obj.__class__.__name__))\n",
    "print('type(obj.__class__) :', type(obj.__class__))\n",
    "\n",
    "print(obj.__class__('b').__dict__)"
   ]
  },
  {
   "cell_type": "code",
   "execution_count": null,
   "id": "9e53bfbd",
   "metadata": {},
   "outputs": [],
   "source": []
  }
 ],
 "metadata": {
  "celltoolbar": "Slideshow",
  "kernelspec": {
   "display_name": "Python 3",
   "language": "python",
   "name": "python3"
  },
  "language_info": {
   "codemirror_mode": {
    "name": "ipython",
    "version": 3
   },
   "file_extension": ".py",
   "mimetype": "text/x-python",
   "name": "python",
   "nbconvert_exporter": "python",
   "pygments_lexer": "ipython3",
   "version": "3.8.8"
  }
 },
 "nbformat": 4,
 "nbformat_minor": 5
}
