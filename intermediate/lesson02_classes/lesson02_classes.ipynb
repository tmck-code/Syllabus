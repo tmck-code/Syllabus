{
 "cells": [
  {
   "cell_type": "markdown",
   "id": "fba5875b",
   "metadata": {
    "slideshow": {
     "slide_type": "slide"
    }
   },
   "source": [
    "# Lesson 2: Classes in the Wild\n",
    "\n",
    "> _Disclaimer: These points were intended to be applied to Python, your mileage may vary._\n",
    "\n",
    "- Overutilising or underutilising classes can lead to ruin\n",
    "- Classes can be a powerful tool or an endless garden path"
   ]
  },
  {
   "cell_type": "markdown",
   "id": "4deeb3af",
   "metadata": {
    "slideshow": {
     "slide_type": "slide"
    }
   },
   "source": [
    "## Pros\n",
    "\n",
    "- Can keep track of state\n",
    "  - No need to pass parameters back and forth\n",
    "  - No thread-unsafe global variables\n",
    "  - Can logically initialise state and then use it\n",
    "- Can organise a hierarcy of states that belong together\n",
    "- Provide dot-methods for accessing properties\n",
    "  - \"ask, don't tell\"\n",
    "  \n",
    "## Cons\n",
    "\n",
    "- Can make code convoluted and hard to read\n",
    "  - code spread across multiple files\n",
    "  - logic for a single operation spread across multiple different parts"
   ]
  },
  {
   "cell_type": "markdown",
   "id": "676f0df2",
   "metadata": {
    "slideshow": {
     "slide_type": "slide"
    }
   },
   "source": [
    "## Functions vs Classes\n",
    "\n",
    "### Functions vs Methods\n",
    "\n",
    "In python\n",
    "\n",
    "- a **function** takes parameters, returns a value\n",
    "- a **method** can be called on an object, and can access state in the object"
   ]
  },
  {
   "cell_type": "markdown",
   "id": "eda63bbe",
   "metadata": {
    "slideshow": {
     "slide_type": "slide"
    }
   },
   "source": [
    "## Baby steps"
   ]
  },
  {
   "cell_type": "code",
   "execution_count": 1,
   "id": "dd4c0875",
   "metadata": {
    "scrolled": true,
    "slideshow": {
     "slide_type": "subslide"
    }
   },
   "outputs": [],
   "source": [
    "CONFIG = {\n",
    "    'thing': 'a',\n",
    "    'identifiier': 'b',\n",
    "    'name': 'c'\n",
    "}"
   ]
  },
  {
   "cell_type": "markdown",
   "id": "f4afd2ce",
   "metadata": {
    "slideshow": {
     "slide_type": "fragment"
    }
   },
   "source": [
    "_This isn't very safe if something goes wrong, and the IDE can't offer us any help_"
   ]
  },
  {
   "cell_type": "code",
   "execution_count": 2,
   "id": "93eaec9b",
   "metadata": {
    "scrolled": true,
    "slideshow": {
     "slide_type": "fragment"
    }
   },
   "outputs": [
    {
     "ename": "KeyError",
     "evalue": "'identifier'",
     "output_type": "error",
     "traceback": [
      "\u001b[0;31m---------------------------------------------------------------------------\u001b[0m",
      "\u001b[0;31mKeyError\u001b[0m                                  Traceback (most recent call last)",
      "\u001b[0;32m<ipython-input-2-2293af29cfe7>\u001b[0m in \u001b[0;36m<module>\u001b[0;34m\u001b[0m\n\u001b[0;32m----> 1\u001b[0;31m \u001b[0mCONFIG\u001b[0m\u001b[0;34m[\u001b[0m\u001b[0;34m'identifier'\u001b[0m\u001b[0;34m]\u001b[0m\u001b[0;34m\u001b[0m\u001b[0;34m\u001b[0m\u001b[0m\n\u001b[0m",
      "\u001b[0;31mKeyError\u001b[0m: 'identifier'"
     ]
    }
   ],
   "source": [
    "CONFIG['identifier']"
   ]
  },
  {
   "cell_type": "markdown",
   "id": "56f808ef",
   "metadata": {
    "slideshow": {
     "slide_type": "slide"
    }
   },
   "source": [
    "## Namedtuple\n",
    "\n",
    "`namedtuple` == Quick 'n' dirty class!\n",
    "\n",
    "Use when you just need to\n",
    "- make sure that the correct keys/values are present\n",
    "- access something a few times (safely) via a dot method rather than a dict key lookup"
   ]
  },
  {
   "cell_type": "code",
   "execution_count": 3,
   "id": "7de3785f",
   "metadata": {
    "slideshow": {
     "slide_type": "fragment"
    }
   },
   "outputs": [
    {
     "name": "stdout",
     "output_type": "stream",
     "text": [
      "config(thing='a', identifier='b', name='c')\n",
      "a b\n"
     ]
    }
   ],
   "source": [
    "from collections import namedtuple\n",
    "\n",
    "Config = namedtuple('config', ['thing', 'identifier', 'name'])\n",
    "\n",
    "CONFIG = Config('a', 'b', 'c')\n",
    "\n",
    "print(CONFIG)\n",
    "print(CONFIG.thing, CONFIG.identifier)"
   ]
  },
  {
   "cell_type": "markdown",
   "id": "dec0e4b0",
   "metadata": {
    "slideshow": {
     "slide_type": "slide"
    }
   },
   "source": [
    "### A multi-level config object"
   ]
  },
  {
   "cell_type": "code",
   "execution_count": 4,
   "id": "24b06a3a",
   "metadata": {
    "scrolled": true,
    "slideshow": {
     "slide_type": "fragment"
    }
   },
   "outputs": [
    {
     "name": "stdout",
     "output_type": "stream",
     "text": [
      "customers customers/search/\n",
      "products products/all/search/\n"
     ]
    }
   ],
   "source": [
    "from collections import namedtuple\n",
    "\n",
    "# Define what your config objects need to contain\n",
    "Endpoint = namedtuple('endpoints', ['key', 'url', 'timeout', 'n_workers'])\n",
    "Endpoints = namedtuple('endpoints', ['customers', 'products'])\n",
    "\n",
    "# Initialise all configs with their values\n",
    "# Could read this from a JSON file, command-line args, or define it here\n",
    "# Either way, the namedtuple will ensure that the result is the same\n",
    "ENDPOINTS = {\n",
    "    'customers': Endpoint('customers', 'customers/search/', 200, 2),\n",
    "    'products': Endpoint('products', 'products/all/search/', 100, 2)\n",
    "}\n",
    "\n",
    "for endpoint, config in ENDPOINTS.items():\n",
    "    print(endpoint, config.url)"
   ]
  },
  {
   "cell_type": "markdown",
   "id": "14c75beb",
   "metadata": {
    "slideshow": {
     "slide_type": "slide"
    }
   },
   "source": [
    "Now let's try the failing example again"
   ]
  },
  {
   "cell_type": "code",
   "execution_count": 5,
   "id": "97c88240",
   "metadata": {
    "slideshow": {
     "slide_type": "subslide"
    }
   },
   "outputs": [
    {
     "ename": "TypeError",
     "evalue": "<lambda>() got an unexpected keyword argument 'identifiier'",
     "output_type": "error",
     "traceback": [
      "\u001b[0;31m---------------------------------------------------------------------------\u001b[0m",
      "\u001b[0;31mTypeError\u001b[0m                                 Traceback (most recent call last)",
      "\u001b[0;32m<ipython-input-5-32ff9271912c>\u001b[0m in \u001b[0;36m<module>\u001b[0;34m\u001b[0m\n\u001b[0;32m----> 1\u001b[0;31m Config(**{\n\u001b[0m\u001b[1;32m      2\u001b[0m     \u001b[0;34m'thing'\u001b[0m\u001b[0;34m:\u001b[0m \u001b[0;34m'a'\u001b[0m\u001b[0;34m,\u001b[0m\u001b[0;34m\u001b[0m\u001b[0;34m\u001b[0m\u001b[0m\n\u001b[1;32m      3\u001b[0m     \u001b[0;34m'identifiier'\u001b[0m\u001b[0;34m:\u001b[0m \u001b[0;34m'b'\u001b[0m\u001b[0;34m,\u001b[0m\u001b[0;34m\u001b[0m\u001b[0;34m\u001b[0m\u001b[0m\n\u001b[1;32m      4\u001b[0m     \u001b[0;34m'name'\u001b[0m\u001b[0;34m:\u001b[0m \u001b[0;34m'c'\u001b[0m\u001b[0;34m\u001b[0m\u001b[0;34m\u001b[0m\u001b[0m\n\u001b[1;32m      5\u001b[0m })\n",
      "\u001b[0;31mTypeError\u001b[0m: <lambda>() got an unexpected keyword argument 'identifiier'"
     ]
    }
   ],
   "source": [
    "Config(**{\n",
    "    'thing': 'a',\n",
    "    'identifiier': 'b',\n",
    "    'name': 'c'\n",
    "})"
   ]
  },
  {
   "cell_type": "markdown",
   "id": "62223ab7",
   "metadata": {
    "slideshow": {
     "slide_type": "fragment"
    }
   },
   "source": [
    "Much better!\n",
    "This means that we catch the error when Config is _**initialised**_, rather than when trying to _**access**_ 'identifier' later on.\n",
    "\n",
    "This is also useful when loading a JSON config, and you need to make sure all the key are present"
   ]
  },
  {
   "cell_type": "code",
   "execution_count": 6,
   "id": "ebed7607",
   "metadata": {
    "slideshow": {
     "slide_type": "slide"
    }
   },
   "outputs": [
    {
     "data": {
      "text/plain": [
       "config(thing=123, identifier=123, name='me')"
      ]
     },
     "execution_count": 6,
     "metadata": {},
     "output_type": "execute_result"
    }
   ],
   "source": [
    "import json\n",
    "raw = '{\"identifier\": 123, \"name\": \"me\", \"thing\": 123}'\n",
    "\n",
    "Config(**json.loads(raw))"
   ]
  },
  {
   "cell_type": "code",
   "execution_count": 7,
   "id": "216bd98e",
   "metadata": {},
   "outputs": [
    {
     "ename": "TypeError",
     "evalue": "<lambda>() got an unexpected keyword argument 'extra'",
     "output_type": "error",
     "traceback": [
      "\u001b[0;31m---------------------------------------------------------------------------\u001b[0m",
      "\u001b[0;31mTypeError\u001b[0m                                 Traceback (most recent call last)",
      "\u001b[0;32m<ipython-input-7-42d65a427a73>\u001b[0m in \u001b[0;36m<module>\u001b[0;34m\u001b[0m\n\u001b[1;32m      1\u001b[0m \u001b[0mraw\u001b[0m \u001b[0;34m=\u001b[0m \u001b[0;34m'{\"identifier\": 123, \"name\": \"me\", \"thing\": 123, \"extra\": 1}'\u001b[0m\u001b[0;34m\u001b[0m\u001b[0;34m\u001b[0m\u001b[0m\n\u001b[1;32m      2\u001b[0m \u001b[0;34m\u001b[0m\u001b[0m\n\u001b[0;32m----> 3\u001b[0;31m \u001b[0mConfig\u001b[0m\u001b[0;34m(\u001b[0m\u001b[0;34m**\u001b[0m\u001b[0mjson\u001b[0m\u001b[0;34m.\u001b[0m\u001b[0mloads\u001b[0m\u001b[0;34m(\u001b[0m\u001b[0mraw\u001b[0m\u001b[0;34m)\u001b[0m\u001b[0;34m)\u001b[0m\u001b[0;34m\u001b[0m\u001b[0;34m\u001b[0m\u001b[0m\n\u001b[0m",
      "\u001b[0;31mTypeError\u001b[0m: <lambda>() got an unexpected keyword argument 'extra'"
     ]
    }
   ],
   "source": [
    "raw = '{\"identifier\": 123, \"name\": \"me\", \"thing\": 123, \"extra\": 1}'\n",
    "\n",
    "Config(**json.loads(raw))"
   ]
  },
  {
   "cell_type": "markdown",
   "id": "de19b5c9",
   "metadata": {
    "slideshow": {
     "slide_type": "slide"
    }
   },
   "source": [
    "## Dataclasses\n",
    "\n",
    "- Python 3.7+\n",
    "- Syntactic sugar for defining an `__init__` method and instance variables\n",
    "- also provides a nice `__repr__` method, and some other things"
   ]
  },
  {
   "cell_type": "markdown",
   "id": "e7b7588e",
   "metadata": {
    "slideshow": {
     "slide_type": "slide"
    }
   },
   "source": [
    "A regular class:"
   ]
  },
  {
   "cell_type": "code",
   "execution_count": 8,
   "id": "72dfba57",
   "metadata": {
    "slideshow": {
     "slide_type": "fragment"
    }
   },
   "outputs": [
    {
     "data": {
      "text/plain": [
       "<__main__.Obj at 0x1030faee0>"
      ]
     },
     "execution_count": 8,
     "metadata": {},
     "output_type": "execute_result"
    }
   ],
   "source": [
    "class Obj:\n",
    "    def __init__(self, a=1, b=2, c='default'):\n",
    "        self.a = a\n",
    "        self.b = b\n",
    "        self.c = c\n",
    "\n",
    "Obj(1)"
   ]
  },
  {
   "cell_type": "markdown",
   "id": "ed69b813",
   "metadata": {},
   "source": [
    "The same, but as a dataclass"
   ]
  },
  {
   "cell_type": "code",
   "execution_count": 9,
   "id": "69b8e629",
   "metadata": {
    "slideshow": {
     "slide_type": "fragment"
    }
   },
   "outputs": [
    {
     "data": {
      "text/plain": [
       "Obj(a=1, b=2, c='default')"
      ]
     },
     "execution_count": 9,
     "metadata": {},
     "output_type": "execute_result"
    }
   ],
   "source": [
    "from dataclasses import dataclass\n",
    "\n",
    "@dataclass\n",
    "class Obj:\n",
    "    a: int = 1\n",
    "    b: int = 2\n",
    "    c: str = 'default'\n",
    "\n",
    "Obj(1)"
   ]
  },
  {
   "cell_type": "code",
   "execution_count": 10,
   "id": "475b988a",
   "metadata": {
    "slideshow": {
     "slide_type": "fragment"
    }
   },
   "outputs": [
    {
     "ename": "TypeError",
     "evalue": "__init__() got an unexpected keyword argument 'd'",
     "output_type": "error",
     "traceback": [
      "\u001b[0;31m---------------------------------------------------------------------------\u001b[0m",
      "\u001b[0;31mTypeError\u001b[0m                                 Traceback (most recent call last)",
      "\u001b[0;32m<ipython-input-10-e07846acd497>\u001b[0m in \u001b[0;36m<module>\u001b[0;34m\u001b[0m\n\u001b[0;32m----> 1\u001b[0;31m \u001b[0mObj\u001b[0m\u001b[0;34m(\u001b[0m\u001b[0md\u001b[0m\u001b[0;34m=\u001b[0m\u001b[0;36m5\u001b[0m\u001b[0;34m)\u001b[0m\u001b[0;34m\u001b[0m\u001b[0;34m\u001b[0m\u001b[0m\n\u001b[0m",
      "\u001b[0;31mTypeError\u001b[0m: __init__() got an unexpected keyword argument 'd'"
     ]
    }
   ],
   "source": [
    "Obj(d=5)"
   ]
  },
  {
   "cell_type": "markdown",
   "id": "a00d4f7c",
   "metadata": {
    "slideshow": {
     "slide_type": "slide"
    }
   },
   "source": [
    "---\n",
    "\n",
    "## An Example\n",
    "\n",
    "- You have a collection of items, in this case ids and emails\n",
    "- Need to iterate through them, collect some values, and pass them on"
   ]
  },
  {
   "cell_type": "code",
   "execution_count": 11,
   "id": "a559f6e7",
   "metadata": {
    "slideshow": {
     "slide_type": "slide"
    }
   },
   "outputs": [],
   "source": [
    "from api import API"
   ]
  },
  {
   "cell_type": "code",
   "execution_count": 12,
   "id": "0ac59ba7",
   "metadata": {
    "slideshow": {
     "slide_type": "slide"
    }
   },
   "outputs": [
    {
     "name": "stdout",
     "output_type": "stream",
     "text": [
      "7966\n",
      "438\n",
      "1237\n",
      "7644\n",
      "6843\n",
      "None\n",
      "None\n",
      "None\n",
      "None\n",
      "None\n",
      "None\n",
      "None\n",
      "None\n"
     ]
    }
   ],
   "source": [
    "for i, el in enumerate(API.get('customers')):\n",
    "    print(el)\n",
    "    if i >= 12:\n",
    "        break"
   ]
  },
  {
   "cell_type": "markdown",
   "id": "0baa2989",
   "metadata": {
    "slideshow": {
     "slide_type": "slide"
    }
   },
   "source": [
    "For this exercise, we must consume a list of endpoints via key, and send them to their own file"
   ]
  },
  {
   "cell_type": "code",
   "execution_count": 13,
   "id": "e58f82b8",
   "metadata": {},
   "outputs": [
    {
     "name": "stdout",
     "output_type": "stream",
     "text": [
      "customer carol32@gmail.com\n",
      "customer brianmcfarland@yahoo.com\n",
      "customer jamieestes@chan-miller.com\n",
      "customer ugreen@parker.com\n",
      "customer browncourtney@moore.com\n",
      "transactions bbf47b52-34c0-4c55-94f9-4741abaa18c3\n",
      "transactions ed93880a-f0f2-406a-a916-ab3fab358bdd\n",
      "transactions c51cdcc8-5cdd-4635-b5cd-f012a3adc882\n",
      "transactions 091d1a5f-48be-4a1b-85a9-4a051714b675\n",
      "transactions 47ac3a8c-3e02-4732-8fa1-02997ba968b2\n"
     ]
    }
   ],
   "source": [
    "for endpoint in ['customer', 'transactions']:\n",
    "    if endpoint == 'customer':\n",
    "        for i in API.get(endpoint+'s'):\n",
    "            if i is None:\n",
    "                break\n",
    "            print(endpoint, next(API.get(endpoint, {'cid': i})))\n",
    "    elif endpoint == 'transactions':\n",
    "        for i in API.get(endpoint, {'ts': 0, 'te': 5}):\n",
    "            if i is None:\n",
    "                break\n",
    "            print(endpoint, i)"
   ]
  },
  {
   "cell_type": "code",
   "execution_count": 14,
   "id": "69b15da9",
   "metadata": {},
   "outputs": [
    {
     "name": "stdout",
     "output_type": "stream",
     "text": [
      "customer 0 christopherlynch@lawson-davis.net\n",
      "customer 1 nguyenbrenda@yahoo.com\n",
      "customer 2 hraymond@hotmail.com\n",
      "customer 3 kimmccarthy@hotmail.com\n",
      "customer 4 matthewskevin@hotmail.com\n",
      "transactions 8166176f-4ed9-4b7c-b614-e550733ff0d9\n",
      "transactions 2fbb6550-fba3-43a7-9c7e-5f380f11dd19\n",
      "transactions 7211bb90-dcb1-41c6-a1b5-62e0ee6cba0b\n",
      "transactions d46650c4-51d7-41bc-9ec7-9f1d018ee03d\n",
      "transactions b8a1de89-00ef-4706-a028-95531ff8c8b8\n"
     ]
    }
   ],
   "source": [
    "for endpoint in ['customer', 'transactions']:\n",
    "    if endpoint == 'customer':\n",
    "        for i, c in enumerate(API.get(endpoint+'s')):\n",
    "            if c is None:\n",
    "                break\n",
    "            print(endpoint, i, next(API.get(endpoint, {'cid': c})))\n",
    "    elif endpoint == 'transactions':\n",
    "        for i, t in enumerate(API.get(endpoint, {'ts': 0, 'te': 5})):\n",
    "            if t is None:\n",
    "                break\n",
    "            print(endpoint, t)"
   ]
  },
  {
   "cell_type": "code",
   "execution_count": 15,
   "id": "e3ffac14",
   "metadata": {
    "scrolled": true,
    "slideshow": {
     "slide_type": "slide"
    }
   },
   "outputs": [
    {
     "data": {
      "text/html": [
       "\n",
       "        <iframe\n",
       "            width=\"400\"\n",
       "            height=\"300\"\n",
       "            src=\"https://www.youtube.com/embed/8bZh5LMaSmE?t=350\"\n",
       "            frameborder=\"0\"\n",
       "            allowfullscreen\n",
       "        ></iframe>\n",
       "        "
      ],
      "text/plain": [
       "<IPython.lib.display.YouTubeVideo at 0x107906d60>"
      ]
     },
     "execution_count": 15,
     "metadata": {},
     "output_type": "execute_result"
    }
   ],
   "source": [
    "from IPython.lib.display import YouTubeVideo\n",
    "YouTubeVideo('8bZh5LMaSmE?t=350')"
   ]
  },
  {
   "cell_type": "markdown",
   "id": "2246087c",
   "metadata": {
    "slideshow": {
     "slide_type": "fragment"
    }
   },
   "source": [
    "[https://github.com/emilybache/GildedRose-Refactoring-Kata](https://github.com/emilybache/GildedRose-Refactoring-Kata)"
   ]
  },
  {
   "cell_type": "markdown",
   "id": "cee25676",
   "metadata": {},
   "source": [
    "https://github.com/tomquirk/realestate-com-au-api/blob/8368da02a67aaf1c2fe9634f19181fb54685718d/realestate_com_au/realestate_com_au.py#L70-L118"
   ]
  },
  {
   "cell_type": "markdown",
   "id": "d1ea697f",
   "metadata": {},
   "source": [
    "https://softwareengineering.stackexchange.com/questions/351389/dynamic-dispatch-from-a-string-python"
   ]
  },
  {
   "cell_type": "code",
   "execution_count": 48,
   "id": "97fc5d9e",
   "metadata": {
    "scrolled": true
   },
   "outputs": [
    {
     "name": "stdout",
     "output_type": "stream",
     "text": [
      "customer 0 fwiggins@hotmail.com\n",
      "customer 1 john63@gmail.com\n",
      "customer 2 joel10@yahoo.com\n",
      "customer 3 davismaria@gmail.com\n",
      "customer 4 newmanrichard@hotmail.com\n",
      "transactions 0 a8a563e6-5fb6-4137-bd6c-55ff8ad3bf8e\n",
      "transactions 1 afc566a1-8b3c-419c-a4a5-3d74b5f34157\n",
      "transactions 2 c8af3f9a-55cb-4879-8279-54d99d5c83c0\n",
      "transactions 3 992b8885-20d6-4f2c-9c4b-03173dd389b7\n",
      "transactions 4 98e23b01-3602-46f1-9557-9ec0648be198\n"
     ]
    }
   ],
   "source": [
    "from api import API\n",
    "\n",
    "def request(endpoint, kwargs={}):\n",
    "    for r in API.get(endpoint, kwargs):\n",
    "        if r is None:\n",
    "            break\n",
    "        yield r\n",
    "\n",
    "\n",
    "for endpoint in ['customer', 'transactions']:\n",
    "    if endpoint == 'customer':\n",
    "        for i, c in enumerate(request(endpoint+'s')):\n",
    "            print(endpoint, i, next(request(endpoint, {'cid': c})))\n",
    "    elif endpoint == 'transactions':\n",
    "        for i, t in enumerate(request(endpoint, {'ts': 0, 'te': 5})):\n",
    "            print(endpoint, i, t)\n",
    "endpoint = ''"
   ]
  },
  {
   "cell_type": "code",
   "execution_count": 49,
   "id": "b4cdfa2b",
   "metadata": {},
   "outputs": [
    {
     "name": "stdout",
     "output_type": "stream",
     "text": [
      "Transactions(endpoint='transactions')\n"
     ]
    }
   ],
   "source": [
    "from dataclasses import dataclass, field\n",
    "from typing import Generator\n",
    "\n",
    "\n",
    "# TODO: implement \"extra\" params e.g. limit/type=='all'\n",
    "@dataclass\n",
    "class Endpoint:\n",
    "    endpoint: str = field(init=False)\n",
    "\n",
    "    def params(self) -> dict:\n",
    "        return {}\n",
    "\n",
    "    def get(self, kwargs) -> Generator:\n",
    "        yield from request(self.endpoint, self.params(**kwargs))\n",
    "\n",
    "    \n",
    "@dataclass\n",
    "class Transactions(Endpoint):\n",
    "    endpoint: str = 'transactions'\n",
    "\n",
    "    def params(self, ts: int, te: int) -> dict:\n",
    "        return {'ts': ts, 'te': te}\n",
    "\n",
    "        \n",
    "@dataclass\n",
    "class Customer(Endpoint):\n",
    "    endpoint: str = 'customer'\n",
    "        \n",
    "    def params(self, cid) -> dict:\n",
    "        return {'cid': cid}\n",
    "\n",
    "\n",
    "@dataclass\n",
    "class Customers(Endpoint):\n",
    "    endpoint: str = 'customers'\n",
    "\n",
    "    def get(self) -> Generator:\n",
    "        for result in request(self.endpoint, self.params()):\n",
    "            for cust in Customer().get({'cid': result}):\n",
    "                yield cust\n",
    "\n",
    "print(Transactions())"
   ]
  },
  {
   "cell_type": "code",
   "execution_count": 50,
   "id": "926905ce",
   "metadata": {
    "scrolled": true
   },
   "outputs": [
    {
     "name": "stdout",
     "output_type": "stream",
     "text": [
      "Transactions(endpoint='transactions')\n",
      "a1f38600-4e70-4114-90ad-64a31f5a4b5a\n",
      "eae05d5e-a423-4485-90c5-a93617966fcc\n",
      "ef0c3db6-5a78-402b-b927-64019fff22c1\n",
      "fe50d5a2-8dfb-4ad3-abc0-a49dd2df24a9\n",
      "2ebceb26-40ae-42bc-b121-90f0f7e283d5\n"
     ]
    }
   ],
   "source": [
    "t = Transactions()\n",
    "print(t)\n",
    "for i in t.get({'ts':0,'te':5}):\n",
    "    print(i)"
   ]
  },
  {
   "cell_type": "code",
   "execution_count": 51,
   "id": "0d100dc7",
   "metadata": {},
   "outputs": [
    {
     "name": "stdout",
     "output_type": "stream",
     "text": [
      "Customers(endpoint='customers')\n",
      "joshuaodonnell@hotmail.com\n",
      "robert02@yahoo.com\n",
      "edwin42@yahoo.com\n",
      "christopher14@lane.com\n",
      "williamsmaria@shaffer.com\n"
     ]
    }
   ],
   "source": [
    "c = Customers()\n",
    "print(c)\n",
    "for i in c.get():\n",
    "    print(i)"
   ]
  },
  {
   "cell_type": "code",
   "execution_count": 52,
   "id": "d7426ba2",
   "metadata": {},
   "outputs": [
    {
     "name": "stdout",
     "output_type": "stream",
     "text": [
      "[5646, 8266, 5008, 1245, 5675]\n",
      "['8ed2fd4a-07d2-4eb6-b039-fbf431e27615', '4fe55cbf-b53c-42c0-a9b9-a9db3e742264', '57b6d668-55c0-43b5-82c2-2b229cb69985', '8e692b65-1b56-4a41-9c7e-90903f989e23', 'db28b6d5-704c-4f53-8280-fd459e6ee3b2']\n"
     ]
    }
   ],
   "source": [
    "from dataclasses import dataclass\n",
    "from typing import Generator\n",
    "\n",
    "# TODO: implement \"extra\" params e.g. limit/type=='all'\n",
    "@dataclass\n",
    "class Transactions:\n",
    "    ts: int\n",
    "    te: int\n",
    "    endpoint: str = 'transactions'\n",
    "    \n",
    "    @property\n",
    "    def params(self) -> dict:\n",
    "        return {'ts': self.ts, 'te': self.te}\n",
    "\n",
    "    def get(self) -> Generator:\n",
    "        yield from request(self.endpoint, self.params)\n",
    "\n",
    "        \n",
    "@dataclass\n",
    "class Customer:\n",
    "    cid:      int\n",
    "    endpoint: str = 'customer'\n",
    "        \n",
    "    @property\n",
    "    def params(self) -> dict:\n",
    "        return {'id': self.cid}\n",
    "    \n",
    "    def get(self):\n",
    "        yield from request(self.endpoint, self.params)\n",
    "\n",
    "@dataclass\n",
    "class Customers:\n",
    "    endpoint: str = 'customers'\n",
    "        \n",
    "    @property\n",
    "    def params(self) -> dict:\n",
    "        return {}\n",
    "\n",
    "    def get(self) -> Generator:\n",
    "        yield from request(self.endpoint, self.params)\n",
    "        \n",
    "print(list(Customers().get()))\n",
    "print(list(Transactions(ts=0, te=5).get()))\n"
   ]
  },
  {
   "cell_type": "code",
   "execution_count": 55,
   "id": "a886b860",
   "metadata": {},
   "outputs": [],
   "source": [
    "from dataclasses import dataclass, field\n",
    "from typing import Generator\n",
    "\n",
    "from api import API\n",
    "\n",
    "def request(endpoint, kwargs={}):\n",
    "    for r in API.get(endpoint, kwargs):\n",
    "        if r is None:\n",
    "            break\n",
    "        yield r\n",
    "\n",
    "@dataclass\n",
    "class Stream:\n",
    "    def params(self) -> dict:\n",
    "        return {}\n",
    "\n",
    "    def get(self) -> Generator:\n",
    "        yield from request(self.endpoint, self.params())\n",
    "\n",
    "    \n",
    "@dataclass\n",
    "class Transactions(Stream):\n",
    "    ts:       int = ''\n",
    "    te:       int = ''\n",
    "    endpoint: str = 'transactions'\n",
    "\n",
    "    def params(self) -> dict:\n",
    "        return {'ts': self.ts, 'te': self.te}\n",
    "\n",
    "        \n",
    "@dataclass\n",
    "class Customer(Stream):\n",
    "    cid:      int = ''\n",
    "    endpoint: str = 'customer'\n",
    "        \n",
    "    def params(self) -> dict:\n",
    "        return {'cid': self.cid}\n",
    "\n",
    "\n",
    "@dataclass\n",
    "class Customers(Stream):\n",
    "    endpoint: str = 'customers'\n",
    "\n",
    "    def get(self) -> Generator:\n",
    "        for result in request(self.endpoint, self.params()):\n",
    "            yield from Customer(cid=result).get()\n",
    "\n",
    "\n",
    "STREAMS = {\n",
    "    'customers':    Customers,\n",
    "    'transactions': Transactions\n",
    "}"
   ]
  },
  {
   "cell_type": "code",
   "execution_count": 56,
   "id": "2e88bb2f",
   "metadata": {},
   "outputs": [
    {
     "name": "stdout",
     "output_type": "stream",
     "text": [
      "customers Customers(endpoint='customers') howardalexandra@gmail.com\n",
      "customers Customers(endpoint='customers') nchristian@gmail.com\n",
      "customers Customers(endpoint='customers') christopherfoley@pitts.com\n",
      "customers Customers(endpoint='customers') aaron76@henry.com\n",
      "customers Customers(endpoint='customers') julie62@leon.net\n",
      "transactions Transactions(ts=0, te=5, endpoint='transactions') fd07e6ea-314d-4753-b5f4-9246d53db628\n",
      "transactions Transactions(ts=0, te=5, endpoint='transactions') af112964-b5d7-4b9d-b4c0-8075b0710524\n",
      "transactions Transactions(ts=0, te=5, endpoint='transactions') bd540135-383d-4aee-aaca-34065859cbaa\n",
      "transactions Transactions(ts=0, te=5, endpoint='transactions') 112e88f0-9bc3-4c9d-b8b3-e958792c2392\n",
      "transactions Transactions(ts=0, te=5, endpoint='transactions') 139d273b-c243-4e05-9bf6-598143eb546d\n"
     ]
    }
   ],
   "source": [
    "def run(config):\n",
    "    for stream, conf in config.items():\n",
    "        worker = STREAMS[stream](**conf)\n",
    "        for result in worker.get():\n",
    "            print(stream, worker, result)\n",
    "\n",
    "run({\n",
    "    'customers': {},\n",
    "    'transactions': {'ts': 0, 'te': 5},\n",
    "})"
   ]
  },
  {
   "cell_type": "code",
   "execution_count": null,
   "id": "6f5caad0",
   "metadata": {},
   "outputs": [],
   "source": []
  }
 ],
 "metadata": {
  "celltoolbar": "Slideshow",
  "kernelspec": {
   "display_name": "Python 3",
   "language": "python",
   "name": "python3"
  },
  "language_info": {
   "codemirror_mode": {
    "name": "ipython",
    "version": 3
   },
   "file_extension": ".py",
   "mimetype": "text/x-python",
   "name": "python",
   "nbconvert_exporter": "python",
   "pygments_lexer": "ipython3",
   "version": "3.9.2"
  }
 },
 "nbformat": 4,
 "nbformat_minor": 5
}
