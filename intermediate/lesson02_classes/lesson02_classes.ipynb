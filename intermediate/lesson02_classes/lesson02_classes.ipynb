{
 "cells": [
  {
   "cell_type": "markdown",
   "id": "fba5875b",
   "metadata": {
    "slideshow": {
     "slide_type": "slide"
    }
   },
   "source": [
    "# Lesson 2: Classes in the Wild\n",
    "\n",
    "> _Disclaimer: These points were intended to be applied to Python, your mileage may vary._\n",
    "\n",
    "- Overutilising or underutilising classes can lead to ruin\n",
    "- Classes can be a powerful tool or an endless garden path"
   ]
  },
  {
   "cell_type": "markdown",
   "id": "4deeb3af",
   "metadata": {
    "slideshow": {
     "slide_type": "slide"
    }
   },
   "source": [
    "## Pros\n",
    "\n",
    "- Can keep track of state\n",
    "  - No need to pass parameters back and forth\n",
    "  - No thread-unsafe global variables\n",
    "  - Can logically initialise state and then use it\n",
    "- Can organise a hierarcy of states that belong together\n",
    "- Provide dot-methods for accessing properties\n",
    "  - \"ask, don't tell\"\n",
    "  \n",
    "## Cons\n",
    "\n",
    "- Can make code convoluted and hard to read\n",
    "  - code spread across multiple files\n",
    "  - logic for a single operation spread across multiple different parts"
   ]
  },
  {
   "cell_type": "markdown",
   "id": "676f0df2",
   "metadata": {
    "slideshow": {
     "slide_type": "slide"
    }
   },
   "source": [
    "## Functions vs Classes\n",
    "\n",
    "### Functions vs Methods\n",
    "\n",
    "In python\n",
    "\n",
    "- a **function** takes parameters, returns a value\n",
    "- a **method** can be called on an object, and can access state in the object"
   ]
  },
  {
   "cell_type": "markdown",
   "id": "eda63bbe",
   "metadata": {
    "slideshow": {
     "slide_type": "slide"
    }
   },
   "source": [
    "## Baby steps"
   ]
  },
  {
   "cell_type": "code",
   "execution_count": 1,
   "id": "dd4c0875",
   "metadata": {
    "scrolled": true,
    "slideshow": {
     "slide_type": "subslide"
    }
   },
   "outputs": [],
   "source": [
    "CONFIG = {\n",
    "    'thing': 'a',\n",
    "    'identifiier': 'b',\n",
    "    'name': 'c'\n",
    "}"
   ]
  },
  {
   "cell_type": "markdown",
   "id": "f4afd2ce",
   "metadata": {
    "slideshow": {
     "slide_type": "fragment"
    }
   },
   "source": [
    "_This isn't very safe if something goes wrong, and the IDE can't offer us any help_"
   ]
  },
  {
   "cell_type": "code",
   "execution_count": 2,
   "id": "93eaec9b",
   "metadata": {
    "scrolled": true,
    "slideshow": {
     "slide_type": "fragment"
    }
   },
   "outputs": [
    {
     "ename": "KeyError",
     "evalue": "'identifier'",
     "output_type": "error",
     "traceback": [
      "\u001b[0;31m---------------------------------------------------------------------------\u001b[0m",
      "\u001b[0;31mKeyError\u001b[0m                                  Traceback (most recent call last)",
      "\u001b[0;32m<ipython-input-2-2293af29cfe7>\u001b[0m in \u001b[0;36m<module>\u001b[0;34m\u001b[0m\n\u001b[0;32m----> 1\u001b[0;31m \u001b[0mCONFIG\u001b[0m\u001b[0;34m[\u001b[0m\u001b[0;34m'identifier'\u001b[0m\u001b[0;34m]\u001b[0m\u001b[0;34m\u001b[0m\u001b[0;34m\u001b[0m\u001b[0m\n\u001b[0m",
      "\u001b[0;31mKeyError\u001b[0m: 'identifier'"
     ]
    }
   ],
   "source": [
    "CONFIG['identifier']"
   ]
  },
  {
   "cell_type": "markdown",
   "id": "56f808ef",
   "metadata": {
    "slideshow": {
     "slide_type": "slide"
    }
   },
   "source": [
    "## Namedtuple\n",
    "\n",
    "`namedtuple` == Quick 'n' dirty class!\n",
    "\n",
    "Use when you just need to\n",
    "- make sure that the correct keys/values are present\n",
    "- access something a few times (safely) via a dot method rather than a dict key lookup"
   ]
  },
  {
   "cell_type": "code",
   "execution_count": 2,
   "id": "7de3785f",
   "metadata": {
    "slideshow": {
     "slide_type": "fragment"
    }
   },
   "outputs": [
    {
     "name": "stdout",
     "output_type": "stream",
     "text": [
      "config(thing='a', identifier='b', name='c')\n",
      "a b\n"
     ]
    }
   ],
   "source": [
    "from collections import namedtuple\n",
    "\n",
    "Config = namedtuple('config', ['thing', 'identifier', 'name'])\n",
    "\n",
    "CONFIG = Config('a', 'b', 'c')\n",
    "\n",
    "print(CONFIG)\n",
    "print(CONFIG.thing, CONFIG.identifier)"
   ]
  },
  {
   "cell_type": "markdown",
   "id": "dec0e4b0",
   "metadata": {
    "slideshow": {
     "slide_type": "slide"
    }
   },
   "source": [
    "### A multi-level config object"
   ]
  },
  {
   "cell_type": "code",
   "execution_count": 3,
   "id": "24b06a3a",
   "metadata": {
    "scrolled": true,
    "slideshow": {
     "slide_type": "fragment"
    }
   },
   "outputs": [
    {
     "name": "stdout",
     "output_type": "stream",
     "text": [
      "customers customers/search/\n",
      "products products/all/search/\n"
     ]
    }
   ],
   "source": [
    "from collections import namedtuple\n",
    "\n",
    "# Define what your config objects need to contain\n",
    "Endpoint = namedtuple('endpoints', ['key', 'url', 'timeout', 'n_workers'])\n",
    "Endpoints = namedtuple('endpoints', ['customers', 'products'])\n",
    "\n",
    "# Initialise all configs with their values\n",
    "# Could read this from a JSON file, command-line args, or define it here\n",
    "# Either way, the namedtuple will ensure that the result is the same\n",
    "ENDPOINTS = {\n",
    "    'customers': Endpoint('customers', 'customers/search/', 200, 2),\n",
    "    'products': Endpoint('products', 'products/all/search/', 100, 2)\n",
    "}\n",
    "\n",
    "for endpoint, config in ENDPOINTS.items():\n",
    "    print(endpoint, config.url)"
   ]
  },
  {
   "cell_type": "markdown",
   "id": "14c75beb",
   "metadata": {
    "slideshow": {
     "slide_type": "slide"
    }
   },
   "source": [
    "Now let's try the failing example again"
   ]
  },
  {
   "cell_type": "code",
   "execution_count": 15,
   "id": "97c88240",
   "metadata": {
    "slideshow": {
     "slide_type": "subslide"
    }
   },
   "outputs": [
    {
     "ename": "TypeError",
     "evalue": "<lambda>() got an unexpected keyword argument 'identifiier'",
     "output_type": "error",
     "traceback": [
      "\u001b[0;31m---------------------------------------------------------------------------\u001b[0m",
      "\u001b[0;31mTypeError\u001b[0m                                 Traceback (most recent call last)",
      "\u001b[0;32m<ipython-input-15-32ff9271912c>\u001b[0m in \u001b[0;36m<module>\u001b[0;34m\u001b[0m\n\u001b[0;32m----> 1\u001b[0;31m Config(**{\n\u001b[0m\u001b[1;32m      2\u001b[0m     \u001b[0;34m'thing'\u001b[0m\u001b[0;34m:\u001b[0m \u001b[0;34m'a'\u001b[0m\u001b[0;34m,\u001b[0m\u001b[0;34m\u001b[0m\u001b[0;34m\u001b[0m\u001b[0m\n\u001b[1;32m      3\u001b[0m     \u001b[0;34m'identifiier'\u001b[0m\u001b[0;34m:\u001b[0m \u001b[0;34m'b'\u001b[0m\u001b[0;34m,\u001b[0m\u001b[0;34m\u001b[0m\u001b[0;34m\u001b[0m\u001b[0m\n\u001b[1;32m      4\u001b[0m     \u001b[0;34m'name'\u001b[0m\u001b[0;34m:\u001b[0m \u001b[0;34m'c'\u001b[0m\u001b[0;34m\u001b[0m\u001b[0;34m\u001b[0m\u001b[0m\n\u001b[1;32m      5\u001b[0m })\n",
      "\u001b[0;31mTypeError\u001b[0m: <lambda>() got an unexpected keyword argument 'identifiier'"
     ]
    }
   ],
   "source": [
    "Config(**{\n",
    "    'thing': 'a',\n",
    "    'identifiier': 'b',\n",
    "    'name': 'c'\n",
    "})"
   ]
  },
  {
   "cell_type": "markdown",
   "id": "62223ab7",
   "metadata": {
    "slideshow": {
     "slide_type": "fragment"
    }
   },
   "source": [
    "Much better!\n",
    "This means that we catch the error when Config is _**initialised**_, rather than when trying to _**access**_ 'identifier' later on.\n",
    "\n",
    "This is also useful when loading a JSON config, and you need to make sure all the key are present"
   ]
  },
  {
   "cell_type": "code",
   "execution_count": 16,
   "id": "ebed7607",
   "metadata": {
    "slideshow": {
     "slide_type": "slide"
    }
   },
   "outputs": [
    {
     "data": {
      "text/plain": [
       "config(thing=123, identifier=123, name='me')"
      ]
     },
     "execution_count": 16,
     "metadata": {},
     "output_type": "execute_result"
    }
   ],
   "source": [
    "import json\n",
    "raw = '{\"identifier\": 123, \"name\": \"me\", \"thing\": 123}'\n",
    "\n",
    "Config(**json.loads(raw))"
   ]
  },
  {
   "cell_type": "code",
   "execution_count": 17,
   "id": "216bd98e",
   "metadata": {},
   "outputs": [
    {
     "ename": "TypeError",
     "evalue": "<lambda>() got an unexpected keyword argument 'extra'",
     "output_type": "error",
     "traceback": [
      "\u001b[0;31m---------------------------------------------------------------------------\u001b[0m",
      "\u001b[0;31mTypeError\u001b[0m                                 Traceback (most recent call last)",
      "\u001b[0;32m<ipython-input-17-42d65a427a73>\u001b[0m in \u001b[0;36m<module>\u001b[0;34m\u001b[0m\n\u001b[1;32m      1\u001b[0m \u001b[0mraw\u001b[0m \u001b[0;34m=\u001b[0m \u001b[0;34m'{\"identifier\": 123, \"name\": \"me\", \"thing\": 123, \"extra\": 1}'\u001b[0m\u001b[0;34m\u001b[0m\u001b[0;34m\u001b[0m\u001b[0m\n\u001b[1;32m      2\u001b[0m \u001b[0;34m\u001b[0m\u001b[0m\n\u001b[0;32m----> 3\u001b[0;31m \u001b[0mConfig\u001b[0m\u001b[0;34m(\u001b[0m\u001b[0;34m**\u001b[0m\u001b[0mjson\u001b[0m\u001b[0;34m.\u001b[0m\u001b[0mloads\u001b[0m\u001b[0;34m(\u001b[0m\u001b[0mraw\u001b[0m\u001b[0;34m)\u001b[0m\u001b[0;34m)\u001b[0m\u001b[0;34m\u001b[0m\u001b[0;34m\u001b[0m\u001b[0m\n\u001b[0m",
      "\u001b[0;31mTypeError\u001b[0m: <lambda>() got an unexpected keyword argument 'extra'"
     ]
    }
   ],
   "source": [
    "raw = '{\"identifier\": 123, \"name\": \"me\", \"thing\": 123, \"extra\": 1}'\n",
    "\n",
    "Config(**json.loads(raw))"
   ]
  },
  {
   "cell_type": "markdown",
   "id": "de19b5c9",
   "metadata": {
    "slideshow": {
     "slide_type": "slide"
    }
   },
   "source": [
    "## Dataclasses\n",
    "\n",
    "- Python 3.7+\n",
    "- Syntactic sugar for defining an `__init__` method and instance variables\n",
    "- also provides a nice `__repr__` method, and some other things"
   ]
  },
  {
   "cell_type": "markdown",
   "id": "87a8430d",
   "metadata": {
    "slideshow": {
     "slide_type": "slide"
    }
   },
   "source": [
    "A regular class:"
   ]
  },
  {
   "cell_type": "code",
   "execution_count": 6,
   "id": "72dfba57",
   "metadata": {
    "slideshow": {
     "slide_type": "fragment"
    }
   },
   "outputs": [
    {
     "data": {
      "text/plain": [
       "<__main__.Obj at 0x10995b700>"
      ]
     },
     "execution_count": 6,
     "metadata": {},
     "output_type": "execute_result"
    }
   ],
   "source": [
    "class Obj:\n",
    "    def __init__(self, a=1, b=2, c='default'):\n",
    "        self.a = a\n",
    "        self.b = b\n",
    "        self.c = c\n",
    "\n",
    "Obj(1)"
   ]
  },
  {
   "cell_type": "markdown",
   "id": "e5dbd0b6",
   "metadata": {},
   "source": [
    "The same, but as a dataclass"
   ]
  },
  {
   "cell_type": "code",
   "execution_count": 5,
   "id": "69b8e629",
   "metadata": {
    "slideshow": {
     "slide_type": "fragment"
    }
   },
   "outputs": [
    {
     "data": {
      "text/plain": [
       "Obj(a=1, b=2, c='default')"
      ]
     },
     "execution_count": 5,
     "metadata": {},
     "output_type": "execute_result"
    }
   ],
   "source": [
    "from dataclasses import dataclass\n",
    "\n",
    "@dataclass\n",
    "class Obj:\n",
    "    a: int = 1\n",
    "    b: int = 2\n",
    "    c: str = 'default'\n",
    "\n",
    "Obj(1)"
   ]
  },
  {
   "cell_type": "code",
   "execution_count": 20,
   "id": "475b988a",
   "metadata": {
    "slideshow": {
     "slide_type": "fragment"
    }
   },
   "outputs": [
    {
     "ename": "TypeError",
     "evalue": "__init__() got an unexpected keyword argument 'd'",
     "output_type": "error",
     "traceback": [
      "\u001b[0;31m---------------------------------------------------------------------------\u001b[0m",
      "\u001b[0;31mTypeError\u001b[0m                                 Traceback (most recent call last)",
      "\u001b[0;32m<ipython-input-20-e07846acd497>\u001b[0m in \u001b[0;36m<module>\u001b[0;34m\u001b[0m\n\u001b[0;32m----> 1\u001b[0;31m \u001b[0mObj\u001b[0m\u001b[0;34m(\u001b[0m\u001b[0md\u001b[0m\u001b[0;34m=\u001b[0m\u001b[0;36m5\u001b[0m\u001b[0;34m)\u001b[0m\u001b[0;34m\u001b[0m\u001b[0;34m\u001b[0m\u001b[0m\n\u001b[0m",
      "\u001b[0;31mTypeError\u001b[0m: __init__() got an unexpected keyword argument 'd'"
     ]
    }
   ],
   "source": [
    "Obj(d=5)"
   ]
  },
  {
   "cell_type": "markdown",
   "id": "a00d4f7c",
   "metadata": {
    "slideshow": {
     "slide_type": "slide"
    }
   },
   "source": [
    "---\n",
    "\n",
    "## An Example\n",
    "\n",
    "- You have a collection of items, in this case ids and emails\n",
    "- Need to iterate through them, collect some values, and pass them on"
   ]
  },
  {
   "cell_type": "code",
   "execution_count": 8,
   "id": "a559f6e7",
   "metadata": {
    "slideshow": {
     "slide_type": "slide"
    }
   },
   "outputs": [],
   "source": [
    "from itertools import islice\n",
    "from faker import Faker\n",
    "from utils import ppd\n",
    "\n",
    "fake = Faker()\n",
    "\n",
    "def fake_record(i, spanner=False):\n",
    "    if spanner and i % 5 == 0:\n",
    "        return (i, fake.uuid4().split('-')[0], fake.email(), None)\n",
    "    else:\n",
    "        return (i, fake.uuid4().split('-')[0], fake.email(), fake.pyint())\n",
    "\n",
    "def iterate(n=10, spanner=False):\n",
    "    '''\n",
    "    This method will yield a tuple of each item, and a boolean indicating \n",
    "    if there are more items.\n",
    "    After all items are consumed, this method will yield None/False\n",
    "    (This means that we can't just do \"for item in iterate(collection)\")\n",
    "    '''\n",
    "    for i in range(n-1):\n",
    "        yield fake_record(i, spanner), True\n",
    "    yield fake_record(i, spanner), False\n",
    "    while True:\n",
    "        yield None, False"
   ]
  },
  {
   "cell_type": "code",
   "execution_count": 10,
   "id": "0ac59ba7",
   "metadata": {
    "slideshow": {
     "slide_type": "slide"
    }
   },
   "outputs": [
    {
     "name": "stdout",
     "output_type": "stream",
     "text": [
      "((0, 'ed2f75fb', 'edward92@gmail.com', 6440), True)\n",
      "((1, '73355c12', 'joseph26@hamilton.com', 6975), True)\n",
      "((2, '70177ecf', 'kleindanielle@gmail.com', 4390), True)\n",
      "((3, '46284377', 'barkerlisa@brown.com', 7283), True)\n",
      "((4, '6d624aaf', 'wbailey@hunter.com', 2649), True)\n",
      "((5, 'f5a5145c', 'kcole@gmail.com', 6259), True)\n",
      "((6, '0194e5d1', 'uavila@yahoo.com', 5547), True)\n",
      "((7, '92055157', 'carolreyes@gmail.com', 4563), True)\n",
      "((8, '44da408f', 'kylemanning@gmail.com', 2572), True)\n",
      "((8, '5a2eb161', 'wyang@gmail.com', 8797), False)\n",
      "(None, False)\n",
      "(None, False)\n",
      "(None, False)\n"
     ]
    }
   ],
   "source": [
    "collection = iterate()\n",
    "for i, el in enumerate(collection):\n",
    "    print(el)\n",
    "    if i >= 12:\n",
    "        break"
   ]
  },
  {
   "cell_type": "markdown",
   "id": "0baa2989",
   "metadata": {
    "slideshow": {
     "slide_type": "slide"
    }
   },
   "source": [
    "---\n",
    "\n",
    "Let's add some mandatory conditional logic that evaluates whether a result is useful\n",
    "\n",
    "_For our exercise, we are only going to collect the ID if the last column (int) value is even_"
   ]
  },
  {
   "cell_type": "code",
   "execution_count": 11,
   "id": "50f8c8bd",
   "metadata": {
    "slideshow": {
     "slide_type": "subslide"
    }
   },
   "outputs": [
    {
     "name": "stdout",
     "output_type": "stream",
     "text": [
      "-1 (0, '466a2f56', 'zmartin@gmail.com', 8214) True\n",
      "-1 (1, '1793d38c', 'qbutler@gmail.com', 4337) True\n",
      "-1 (2, '4e3ec023', 'shaneconley@anderson-west.biz', 8296) True\n",
      "-1 (3, 'aa28bcca', 'eric05@yahoo.com', 1243) True\n",
      "-1 (4, '60e442af', 'apierce@johnson.info', 7344) True\n",
      "-1 (5, '7c8001d1', 'oweber@gmail.com', 4316) True\n",
      "-1 (6, '10dfbb18', 'reyesjose@yahoo.com', 1595) True\n",
      "-1 (7, '14351687', 'rebeccaharrison@foster-garcia.org', 6551) True\n",
      "-1 (8, 'ac9b6bbb', 'combsjonathan@gmail.com', 3067) True\n",
      "-1 (8, '36c7c610', 'megan17@gmail.com', 9140) False\n"
     ]
    }
   ],
   "source": [
    "collection = iterate()\n",
    "\n",
    "ids = []\n",
    "for el, has_next in collection:\n",
    "    print(-1, el, has_next)\n",
    "    if el[3] % 2:\n",
    "        ids.append(el[1])\n",
    "    if not has_next:\n",
    "        break"
   ]
  },
  {
   "cell_type": "markdown",
   "id": "c952d08b",
   "metadata": {
    "slideshow": {
     "slide_type": "slide"
    }
   },
   "source": [
    "### Adding more stuff\n",
    "\n",
    "Let's add\n",
    "- some details around how many items we consumed/are up to\n",
    "- a string representation method"
   ]
  },
  {
   "cell_type": "code",
   "execution_count": 12,
   "id": "95ea196c",
   "metadata": {
    "slideshow": {
     "slide_type": "slide"
    }
   },
   "outputs": [],
   "source": [
    "def ppr(i=-1, el=[], has_next=False):\n",
    "    if el is None:\n",
    "        print(i, el, has_next)\n",
    "    else:\n",
    "        print('{:<2d}{:<2} {:} {:<30} {:<5} {:}'.format(i, *list(map(str, el)), str(has_next)))\n",
    "\n",
    "def process(collection):\n",
    "    ids = []\n",
    "    for i, (el, has_next) in enumerate(collection):\n",
    "        ppr(i, el, has_next)\n",
    "        if el[3] % 2:\n",
    "            ids.append(el[1])\n",
    "        if has_next == False:\n",
    "            break\n",
    "    print(f'total items: {len(ids)}')\n",
    "    return ids"
   ]
  },
  {
   "cell_type": "markdown",
   "id": "368b2282",
   "metadata": {},
   "source": [
    "## Problems\n",
    "\n",
    "Let's add a spanner"
   ]
  },
  {
   "cell_type": "code",
   "execution_count": 13,
   "id": "8370b9bd",
   "metadata": {},
   "outputs": [
    {
     "name": "stdout",
     "output_type": "stream",
     "text": [
      "0 0  db9260ee ggarcia@weeks.com              None  True\n"
     ]
    },
    {
     "ename": "TypeError",
     "evalue": "unsupported operand type(s) for %: 'NoneType' and 'int'",
     "output_type": "error",
     "traceback": [
      "\u001b[0;31m---------------------------------------------------------------------------\u001b[0m",
      "\u001b[0;31mTypeError\u001b[0m                                 Traceback (most recent call last)",
      "\u001b[0;32m<ipython-input-13-5ba23d18e21f>\u001b[0m in \u001b[0;36m<module>\u001b[0;34m\u001b[0m\n\u001b[0;32m----> 1\u001b[0;31m \u001b[0mprocess\u001b[0m\u001b[0;34m(\u001b[0m\u001b[0miterate\u001b[0m\u001b[0;34m(\u001b[0m\u001b[0;36m10\u001b[0m\u001b[0;34m,\u001b[0m \u001b[0;32mTrue\u001b[0m\u001b[0;34m)\u001b[0m\u001b[0;34m)\u001b[0m\u001b[0;34m\u001b[0m\u001b[0;34m\u001b[0m\u001b[0m\n\u001b[0m",
      "\u001b[0;32m<ipython-input-12-5bb1d84db166>\u001b[0m in \u001b[0;36mprocess\u001b[0;34m(collection)\u001b[0m\n\u001b[1;32m      9\u001b[0m     \u001b[0;32mfor\u001b[0m \u001b[0mi\u001b[0m\u001b[0;34m,\u001b[0m \u001b[0;34m(\u001b[0m\u001b[0mel\u001b[0m\u001b[0;34m,\u001b[0m \u001b[0mhas_next\u001b[0m\u001b[0;34m)\u001b[0m \u001b[0;32min\u001b[0m \u001b[0menumerate\u001b[0m\u001b[0;34m(\u001b[0m\u001b[0mcollection\u001b[0m\u001b[0;34m)\u001b[0m\u001b[0;34m:\u001b[0m\u001b[0;34m\u001b[0m\u001b[0;34m\u001b[0m\u001b[0m\n\u001b[1;32m     10\u001b[0m         \u001b[0mppr\u001b[0m\u001b[0;34m(\u001b[0m\u001b[0mi\u001b[0m\u001b[0;34m,\u001b[0m \u001b[0mel\u001b[0m\u001b[0;34m,\u001b[0m \u001b[0mhas_next\u001b[0m\u001b[0;34m)\u001b[0m\u001b[0;34m\u001b[0m\u001b[0;34m\u001b[0m\u001b[0m\n\u001b[0;32m---> 11\u001b[0;31m         \u001b[0;32mif\u001b[0m \u001b[0mel\u001b[0m\u001b[0;34m[\u001b[0m\u001b[0;36m3\u001b[0m\u001b[0;34m]\u001b[0m \u001b[0;34m%\u001b[0m \u001b[0;36m2\u001b[0m\u001b[0;34m:\u001b[0m\u001b[0;34m\u001b[0m\u001b[0;34m\u001b[0m\u001b[0m\n\u001b[0m\u001b[1;32m     12\u001b[0m             \u001b[0mids\u001b[0m\u001b[0;34m.\u001b[0m\u001b[0mappend\u001b[0m\u001b[0;34m(\u001b[0m\u001b[0mel\u001b[0m\u001b[0;34m[\u001b[0m\u001b[0;36m1\u001b[0m\u001b[0;34m]\u001b[0m\u001b[0;34m)\u001b[0m\u001b[0;34m\u001b[0m\u001b[0;34m\u001b[0m\u001b[0m\n\u001b[1;32m     13\u001b[0m         \u001b[0;32mif\u001b[0m \u001b[0mhas_next\u001b[0m \u001b[0;34m==\u001b[0m \u001b[0;32mFalse\u001b[0m\u001b[0;34m:\u001b[0m\u001b[0;34m\u001b[0m\u001b[0;34m\u001b[0m\u001b[0m\n",
      "\u001b[0;31mTypeError\u001b[0m: unsupported operand type(s) for %: 'NoneType' and 'int'"
     ]
    }
   ],
   "source": [
    "process(iterate(10, True))"
   ]
  },
  {
   "cell_type": "markdown",
   "id": "72ee535c",
   "metadata": {},
   "source": [
    "OK, so let's just add an `isinstance` check"
   ]
  },
  {
   "cell_type": "code",
   "execution_count": 15,
   "id": "30dc83a4",
   "metadata": {},
   "outputs": [
    {
     "name": "stdout",
     "output_type": "stream",
     "text": [
      "0 0  cba8b99d cbullock@hotmail.com           5190  True\n",
      "1 1  3cc038ea yolandacampbell@gmail.com      282   True\n",
      "2 2  031f7f85 christopherwilliams@gmail.com  6796  True\n",
      "3 3  56f715dc adamsamanda@hotmail.com        445   True\n",
      "4 4  50357d2e ortegasteven@yahoo.com         9190  True\n",
      "5 5  6705d82e hendersoncathy@hotmail.com     2835  True\n",
      "6 6  6209de26 suzannekelly@robinson-paul.com 3764  True\n",
      "7 7  d9942801 eric17@reynolds-cowan.com      3400  True\n",
      "8 8  ad6532eb yvette29@fernandez-durham.biz  4302  True\n",
      "9 8  0908389c milleramanda@cabrera.biz       6420  False\n",
      "total items: 2\n",
      "[\n",
      "  \u001b[38;2;186;33;33m\"56f715dc\"\u001b[39m,\n",
      "  \u001b[38;2;186;33;33m\"6705d82e\"\u001b[39m\n",
      "]\n",
      "\n"
     ]
    }
   ],
   "source": [
    "def process(collection):\n",
    "    ids = []\n",
    "    for i, (el, has_next) in enumerate(collection):\n",
    "        ppr(i, el, has_next)\n",
    "        if isinstance(el[3], int) and el[3] % 2:\n",
    "            ids.append(el[1])\n",
    "        if has_next == False:\n",
    "            break\n",
    "    print(f'total items: {len(ids)}')\n",
    "    return ids\n",
    "\n",
    "ppd(process(iterate()))"
   ]
  },
  {
   "cell_type": "markdown",
   "id": "4ddc3a68",
   "metadata": {},
   "source": [
    "Also, we now want to skip and warn if any records have an email > 20 chars"
   ]
  },
  {
   "cell_type": "code",
   "execution_count": 16,
   "id": "02aa1f01",
   "metadata": {},
   "outputs": [
    {
     "name": "stdout",
     "output_type": "stream",
     "text": [
      "0 0  30e3024b brandihickman@jones.com        7034  True\n",
      "!! skipping 0: (0, '30e3024b', 'brandihickman@jones.com', 7034)\n",
      "\n",
      "1 1  4f101ac0 christina18@williams-campos.info 8105  True\n",
      "!! skipping 1: (1, '4f101ac0', 'christina18@williams-campos.info', 8105)\n",
      "\n",
      "2 2  65e395f1 taylorstephen@bell-cohen.info  4342  True\n",
      "!! skipping 2: (2, '65e395f1', 'taylorstephen@bell-cohen.info', 4342)\n",
      "\n",
      "3 3  80e5725a glenngross@nelson.info         3568  True\n",
      "!! skipping 3: (3, '80e5725a', 'glenngross@nelson.info', 3568)\n",
      "\n",
      "4 4  16850fc5 brianbarrett@gmail.com         7460  True\n",
      "!! skipping 4: (4, '16850fc5', 'brianbarrett@gmail.com', 7460)\n",
      "\n",
      "5 5  8107d8c1 vhardy@savage.com              1493  True\n",
      "6 6  dd712322 andrewsjames@rice.com          9511  True\n",
      "!! skipping 6: (6, 'dd712322', 'andrewsjames@rice.com', 9511)\n",
      "\n",
      "7 7  909b94ec timothy44@evans.net            8930  True\n",
      "8 8  76f7d387 nicholebarrett@gmail.com       8464  True\n",
      "!! skipping 8: (8, '76f7d387', 'nicholebarrett@gmail.com', 8464)\n",
      "\n",
      "9 8  57a3503e lauren27@hotmail.com           9385  False\n",
      "total items: 0\n"
     ]
    },
    {
     "data": {
      "text/plain": [
       "[]"
      ]
     },
     "execution_count": 16,
     "metadata": {},
     "output_type": "execute_result"
    }
   ],
   "source": [
    "def process(collection):\n",
    "    ids = []\n",
    "    for i, (el, has_next) in enumerate(collection):\n",
    "        ppr(i, el, has_next)\n",
    "        if isinstance(el, int) and el[3] % 2:\n",
    "            ids.append(el[1])\n",
    "        if len(el[2]) > 20:\n",
    "            print(f'!! skipping {i}: {el}\\n')\n",
    "        if has_next == False:\n",
    "            break\n",
    "    print(f'total items: {len(ids)}')\n",
    "    return ids\n",
    "\n",
    "process(iterate())"
   ]
  },
  {
   "cell_type": "markdown",
   "id": "fbbd7bc7",
   "metadata": {},
   "source": [
    "It looks confusing now so let's add some comments"
   ]
  },
  {
   "cell_type": "code",
   "execution_count": 17,
   "id": "2e1c13e8",
   "metadata": {},
   "outputs": [
    {
     "name": "stdout",
     "output_type": "stream",
     "text": [
      "0 0  c43a5a35 nlowery@thompson-blair.com     3627  True\n",
      "!! (0, 'c43a5a35', 'nlowery@thompson-blair.com', 3627)\n",
      "1 1  4ecaa651 brendan41@yahoo.com            9548  True\n",
      "2 2  735fc4fa susanwilliams@gmail.com        316   True\n",
      "!! (2, '735fc4fa', 'susanwilliams@gmail.com', 316)\n",
      "3 3  7bc3d64f stephanie04@cochran-miller.com 2355  True\n",
      "!! (3, '7bc3d64f', 'stephanie04@cochran-miller.com', 2355)\n",
      "4 4  9c0f5d89 priscillayang@freeman.net      9272  True\n",
      "!! (4, '9c0f5d89', 'priscillayang@freeman.net', 9272)\n",
      "5 5  062a6382 wendy25@mullins.com            1171  True\n",
      "6 6  5dc7ca99 shane18@hull-reynolds.com      8306  True\n",
      "!! (6, '5dc7ca99', 'shane18@hull-reynolds.com', 8306)\n",
      "7 7  1a17819d berglauren@yahoo.com           916   True\n",
      "8 8  fdb3837d dsmith@garcia.biz              1104  True\n",
      "9 8  827fedc2 nortonjohn@davis.org           8150  False\n",
      "total items: 0\n",
      "[]\n",
      "\n"
     ]
    }
   ],
   "source": [
    "def process(collection):\n",
    "    ids = []\n",
    "    for i, (el, has_next) in enumerate(collection): # <--- ⚠\n",
    "        ppr(i, el, has_next)\n",
    "        # collect item if it's even\n",
    "        if isinstance(el, int) and el[3] % 2: # < ----------------⚠\n",
    "            ids.append(el[1])\n",
    "        # Warn about large items\n",
    "        if len(el[2]) > 20: # <-----------------------------------⚠\n",
    "            print(f'!! {el}') # <-------------⚠\n",
    "        if has_next == False:\n",
    "            break\n",
    "    print(f'total items: {len(ids)}')\n",
    "    return ids\n",
    "\n",
    "ppd(process(iterate()))"
   ]
  },
  {
   "cell_type": "markdown",
   "id": "9d86e5bd",
   "metadata": {},
   "source": [
    "Must protect against unexpected errors"
   ]
  },
  {
   "cell_type": "code",
   "execution_count": 20,
   "id": "88808a2e",
   "metadata": {
    "scrolled": true
   },
   "outputs": [
    {
     "name": "stdout",
     "output_type": "stream",
     "text": [
      "0 0  e7c3a69a guerrerolisa@yahoo.com         1948  True\n",
      "!! (0, 'e7c3a69a', 'guerrerolisa@yahoo.com', 1948)\n",
      "1 1  e05eddbb xthomas@hayes-dixon.com        8625  True\n",
      "!! (1, 'e05eddbb', 'xthomas@hayes-dixon.com', 8625)\n",
      "2 2  3473a75a roberthood@houston.org         9203  True\n",
      "!! (2, '3473a75a', 'roberthood@houston.org', 9203)\n",
      "3 3  45b700b4 murphyangela@blankenship.org   7165  True\n",
      "!! (3, '45b700b4', 'murphyangela@blankenship.org', 7165)\n",
      "4 4  884186c4 christine94@aguilar.org        409   True\n",
      "!! (4, '884186c4', 'christine94@aguilar.org', 409)\n",
      "5 5  06bc4d16 jennifer49@ford.biz            8395  True\n",
      "6 6  3186d631 heidi63@lambert.net            700   True\n",
      "7 7  8ef4ed79 gdavidson@yahoo.com            9359  True\n",
      "8 8  6b849134 katrinarodriguez@casey-johnson.org 3141  True\n",
      "!! (8, '6b849134', 'katrinarodriguez@casey-johnson.org', 3141)\n",
      "9 8  3ec7552a anthonycarson@jones.org        2572  False\n",
      "!! (8, '3ec7552a', 'anthonycarson@jones.org', 2572)\n",
      "total items: 7\n",
      "[\n",
      "  \u001b[38;2;186;33;33m\"e05eddbb\"\u001b[39m,\n",
      "  \u001b[38;2;186;33;33m\"3473a75a\"\u001b[39m,\n",
      "  \u001b[38;2;186;33;33m\"45b700b4\"\u001b[39m,\n",
      "  \u001b[38;2;186;33;33m\"884186c4\"\u001b[39m,\n",
      "  \u001b[38;2;186;33;33m\"06bc4d16\"\u001b[39m,\n",
      "  \u001b[38;2;186;33;33m\"8ef4ed79\"\u001b[39m,\n",
      "  \u001b[38;2;186;33;33m\"6b849134\"\u001b[39m\n",
      "]\n",
      "\n"
     ]
    }
   ],
   "source": [
    "def process(collection):\n",
    "    ids = []\n",
    "    for i, (el, has_next) in enumerate(collection): # <--- ⚠\n",
    "        try:\n",
    "            ppr(i, el, has_next)\n",
    "            # collect item if it's even\n",
    "            if isinstance(el[3], int) and el[3] % 2: # < ----------------⚠\n",
    "                ids.append(el[1])\n",
    "            # Warn about large items\n",
    "            if len(el[2]) > 20: # <-----------------------------------⚠\n",
    "                print(f'!! {el}') # <-------------⚠\n",
    "            if has_next == False:\n",
    "                break\n",
    "        except IndexError as e:\n",
    "            print(f'{el} does not have 4 items')\n",
    "    print(f'total items: {len(ids)}')\n",
    "    return ids\n",
    "\n",
    "ppd(process(iterate()))"
   ]
  },
  {
   "cell_type": "markdown",
   "id": "a74eb990",
   "metadata": {},
   "source": [
    "---\n",
    "\n",
    "### Let's take a step back\n",
    "\n",
    "We use values from the raw item without knowing that they're usable\n",
    "\n",
    "Instead of holding all the logic in this method, what if we could _ask_ each element if it was even?"
   ]
  },
  {
   "cell_type": "code",
   "execution_count": 97,
   "id": "779a0ed5",
   "metadata": {},
   "outputs": [
    {
     "name": "stdout",
     "output_type": "stream",
     "text": [
      "0 Element(numeric_id=0, uuid='252231b3', email='vharvey@hotmail.com', score=6995) True\n",
      "1 Element(numeric_id=1, uuid='f2e8e6f1', email='anita41@lyons.com', score=7931) True\n",
      "2 Element(numeric_id=2, uuid='b4448646', email='zperez@hotmail.com', score=5693) True\n",
      "3 Element(numeric_id=3, uuid='0dc91e5d', email='ashley32@gmail.com', score=5043) True\n",
      "4 Element(numeric_id=4, uuid='4f3dd2a6', email='xfisher@barrett.net', score=6192) True\n",
      "5 Element(numeric_id=5, uuid='1c9f26ca', email='umartinez@yahoo.com', score=7052) True\n",
      "6 Element(numeric_id=6, uuid='ee79ed2c', email='linda49@rich.com', score=1944) True\n",
      "7 Element(numeric_id=7, uuid='ec81942d', email='jonathanmcgee@yahoo.com', score=3751) True\n",
      "!! 7-ec81942d-jonathanmcgee@yahoo.com-3751\n",
      "8 Element(numeric_id=8, uuid='d289f2e1', email='jenningsjoshua@gmail.com', score=2535) True\n",
      "!! 8-d289f2e1-jenningsjoshua@gmail.com-2535\n",
      "9 Element(numeric_id=8, uuid='cd109e69', email='croberson@hotmail.com', score=3585) False\n",
      "!! 8-cd109e69-croberson@hotmail.com-3585\n"
     ]
    }
   ],
   "source": [
    "from dataclasses import asdict, dataclass\n",
    "\n",
    "@dataclass\n",
    "class Element:\n",
    "    numeric_id: int\n",
    "    uuid: str\n",
    "    email: str\n",
    "    score: int\n",
    "\n",
    "def process(collection):\n",
    "    ids = []\n",
    "    for i, (el, has_next) in enumerate(collection):\n",
    "        el = Element(*el)\n",
    "        print(i, el, has_next)\n",
    "        # collect item if it's even\n",
    "        if isinstance(el.score, int) and el.score % 2:\n",
    "            ids.append(el.uuid)\n",
    "        # Warn about large items\n",
    "        if len(el.email) > 20:\n",
    "            print(f'!! {\"-\".join(map(str, asdict(el).values()))}')\n",
    "        if has_next == False:\n",
    "            break\n",
    "process(iterate())"
   ]
  },
  {
   "cell_type": "code",
   "execution_count": null,
   "id": "d1d7cf8c",
   "metadata": {},
   "outputs": [],
   "source": [
    "from dataclasses import dataclass\n",
    "\n",
    "@dataclass\n",
    "class Element:\n",
    "    numeric_id: int\n",
    "    uuid: str\n",
    "    email: str\n",
    "    score: int\n",
    "\n",
    "    def is_even(self) -> bool:\n",
    "        try:\n",
    "            return self.score % 2\n",
    "        except TypeError:\n",
    "            return False\n",
    "\n",
    "    def email_len(self, limit=20) -> bool:\n",
    "        return len(self.email) > limit\n",
    "    \n",
    "    def as_row(self, delim='-'):\n",
    "        return delim.join(map(str, [\n",
    "            self.numeric_id, self.uuid, self.email, self.score,\n",
    "        ]))\n",
    "        \n",
    "        \n",
    "def process(collection):\n",
    "    ids = []\n",
    "    for i, (el, has_next) in enumerate(collection):\n",
    "        el = Element(*el)\n",
    "        print(i, el, has_next)\n",
    "\n",
    "        if el.is_even:\n",
    "            ids.append(el.uuid)\n",
    "        if el.email_len() > 20:\n",
    "            print(f'!! {el.as_row()}')\n",
    "\n",
    "        if has_next == False:\n",
    "            break\n",
    "process(iterate())"
   ]
  },
  {
   "cell_type": "markdown",
   "id": "f24b8d60",
   "metadata": {},
   "source": [
    "## Now the collection itself\n",
    "\n",
    "The collection iterator needs some work.\n",
    "We need something that we can use like this:\n",
    "\n",
    "```python\n",
    "# Loop exits when no more items\n",
    "for el in X:\n",
    "    Element.from_api(el)\n",
    "```"
   ]
  },
  {
   "cell_type": "code",
   "execution_count": null,
   "id": "12a92d48",
   "metadata": {},
   "outputs": [],
   "source": [
    "def paginate(collection):\n",
    "    for i, (el, has_next) in enumerate(collection):\n",
    "        yield i, el\n",
    "        if not has_next:\n",
    "            return\n",
    "\n",
    "print('---- old')\n",
    "for i, el in enumerate(iterate(5)):\n",
    "    if i > 8:\n",
    "        break\n",
    "    print(el)\n",
    "    \n",
    "print('---- new')\n",
    "for el in paginate(iterate(5)):\n",
    "    print(el)"
   ]
  },
  {
   "cell_type": "code",
   "execution_count": null,
   "id": "63bb917c",
   "metadata": {},
   "outputs": [],
   "source": [
    "def process(collection):\n",
    "    ids = []\n",
    "    for i, el in paginate(collection): # <-------- ✓\n",
    "        el = Element(*el)              # <-------- ⚠\n",
    "        print(i, el)\n",
    "\n",
    "        if el.is_even:\n",
    "            ids.append(el.uuid)\n",
    "        if el.email_len() > 20:\n",
    "            print(f'!! {el.as_row()}')\n",
    "\n",
    "process(iterate(5))"
   ]
  },
  {
   "cell_type": "code",
   "execution_count": null,
   "id": "f5e83169",
   "metadata": {},
   "outputs": [],
   "source": [
    "@dataclass\n",
    "class Element:\n",
    "    numeric_id: int\n",
    "    uuid: str\n",
    "    email: str\n",
    "    score: int\n",
    "\n",
    "    def is_even(self) -> bool:\n",
    "        try:\n",
    "            return self.score % 2\n",
    "        except TypeError:\n",
    "            return False\n",
    "\n",
    "    def email_len(self) -> bool:\n",
    "        return len(self.email)\n",
    "    \n",
    "    def as_row(self, delim='-'):\n",
    "        return delim.join(map(str, [\n",
    "            self.numeric_id, self.uuid, self.email, self.score,\n",
    "        ]))\n",
    "    \n",
    "    @staticmethod\n",
    "    def from_api(raw):\n",
    "        return Element(*raw)\n",
    "\n",
    "def paginate(collection):\n",
    "    for i, (el, has_next) in enumerate(collection):\n",
    "        yield i, el\n",
    "        if not has_next:\n",
    "            return\n",
    "    \n",
    "def process(collection):\n",
    "    ids = []\n",
    "    for i, el in paginate(collection):\n",
    "        el = Element.from_api(el)\n",
    "        print(i, el)\n",
    "\n",
    "        if el.is_even:\n",
    "            ids.append(el.uuid)\n",
    "        if el.email_len() > 20:\n",
    "            print(f'!! {el.as_row()}')\n",
    "\n",
    "process(iterate(5))"
   ]
  },
  {
   "cell_type": "markdown",
   "id": "19d1bdb0",
   "metadata": {},
   "source": [
    "What if we want to send all the even and odd records to different places?\n",
    "Or, collect all the emails from both categories?"
   ]
  },
  {
   "cell_type": "code",
   "execution_count": null,
   "id": "93cdef47",
   "metadata": {},
   "outputs": [],
   "source": [
    "def process(collection, debug=False):\n",
    "    even_ids = []\n",
    "    odd_ids = []\n",
    "    for i, el in paginate(collection):\n",
    "        el = Element.from_api(el)\n",
    "        print(i, el)\n",
    "\n",
    "        if el.is_even():\n",
    "            even_ids.append(el.uuid)\n",
    "        else:\n",
    "            odd_ids.append(el.uuid)\n",
    "        if el.email_len() > 20 and debug:\n",
    "            print(f'!! {el.as_row()}')\n",
    "    return even_ids, odd_ids\n",
    "\n",
    "even, odd = process(iterate(8))\n",
    "print('\\n', 'even:', len(even), 'odd:', len(odd))\n",
    "print(even)"
   ]
  },
  {
   "cell_type": "markdown",
   "id": "0368ec59",
   "metadata": {},
   "source": [
    "What if we want to collect the emails of odd/even people instead? or something else in the future?\n",
    "\n",
    "Step 1: just return the entire objects, don't grab values from them"
   ]
  },
  {
   "cell_type": "code",
   "execution_count": null,
   "id": "234248a8",
   "metadata": {},
   "outputs": [],
   "source": [
    "def process(collection, debug=False):\n",
    "    even = []\n",
    "    odd = []\n",
    "    for i, el in paginate(collection):\n",
    "        el = Element.from_api(el)\n",
    "        print(i, el)\n",
    "\n",
    "        if el.is_even():\n",
    "            even.append(el)\n",
    "        else:\n",
    "            odd.append(el)\n",
    "        if el.email_len() > 20 and debug:\n",
    "            print(f'!! {el.as_row()}')\n",
    "    return even, odd\n",
    "\n",
    "even, odd = process(iterate(8))\n",
    "print('\\n', 'even:', len(even), 'odd:', len(odd))\n",
    "print([el.email for el in even])"
   ]
  },
  {
   "cell_type": "code",
   "execution_count": null,
   "id": "0884bc10",
   "metadata": {},
   "outputs": [],
   "source": [
    "from collections import Counter\n",
    "from typing import List\n",
    "from itertools import filterfalse\n",
    "\n",
    "def paginate(collection):\n",
    "    for el, has_next in collection:\n",
    "        yield el\n",
    "        if not has_next:\n",
    "            return\n",
    "\n",
    "@dataclass\n",
    "class Collection:\n",
    "    items: List[Element]\n",
    "\n",
    "    def from_raw(items):\n",
    "        return Collection(list(map(Element.from_api, items)))\n",
    "        \n",
    "    def emails(self):\n",
    "        return [el.email for el in self.items]\n",
    "\n",
    "    def __iter__(self):\n",
    "        yield from self.items\n",
    "        \n",
    "    def odd_records(self):\n",
    "        return Collection(list(filter(lambda x: x.score % 2, self.items)))\n",
    "    \n",
    "    def even_records(self):\n",
    "        return Collection(list(filterfalse(lambda x: x.score % 2, self.items)))\n",
    "\n",
    "\n",
    "c = Collection.from_raw(paginate(iterate(8)))\n",
    "print('all emails\\n', c.emails())\n",
    "\n",
    "print('\\nodd records\\n', c.odd_records())\n",
    "print('\\neven records\\n', c.even_records())\n",
    "\n",
    "print('\\neven emails!\\n', c.even_records().emails())"
   ]
  },
  {
   "cell_type": "code",
   "execution_count": 21,
   "id": "fc15856c",
   "metadata": {
    "slideshow": {
     "slide_type": "slide"
    }
   },
   "outputs": [
    {
     "data": {
      "text/html": [
       "\n",
       "        <iframe\n",
       "            width=\"400\"\n",
       "            height=\"300\"\n",
       "            src=\"https://www.youtube.com/embed/8bZh5LMaSmE?t=350\"\n",
       "            frameborder=\"0\"\n",
       "            allowfullscreen\n",
       "        ></iframe>\n",
       "        "
      ],
      "text/plain": [
       "<IPython.lib.display.YouTubeVideo at 0x10e036b20>"
      ]
     },
     "execution_count": 21,
     "metadata": {},
     "output_type": "execute_result"
    }
   ],
   "source": [
    "from IPython.lib.display import YouTubeVideo\n",
    "YouTubeVideo('8bZh5LMaSmE?t=350')"
   ]
  },
  {
   "cell_type": "markdown",
   "id": "081a1248",
   "metadata": {},
   "source": [
    "---\n",
    "\n",
    "### Filtering and sorting\n",
    "\n",
    "If you have a static method (not an instance method), you can filter with that instead of having to use a lambda"
   ]
  },
  {
   "cell_type": "code",
   "execution_count": null,
   "id": "360b942c",
   "metadata": {},
   "outputs": [],
   "source": [
    "@dataclass\n",
    "class Element:\n",
    "    numeric_id: int\n",
    "    uuid: str\n",
    "    email: str\n",
    "    score: int\n",
    "\n",
    "    @staticmethod\n",
    "    def from_api(raw):\n",
    "        return Element(*raw)\n",
    "        \n",
    "    def is_even(self) -> bool:\n",
    "        try:\n",
    "            return self.score % 2\n",
    "        except TypeError:\n",
    "            return False\n",
    "    \n",
    "    @staticmethod\n",
    "    def _is_even(element):\n",
    "        return element._is_even()\n",
    "    \n",
    "    @staticmethod\n",
    "    def _is_false(element):\n",
    "        return not element._is_even()\n",
    "\n",
    "    def email_len(self) -> bool:\n",
    "        return len(self.email)\n",
    "    \n",
    "    def as_row(self, delim='-'):\n",
    "        return delim.join(map(str, [\n",
    "            self.numeric_id, self.uuid, self.email, self.score,\n",
    "        ]))\n",
    "\n",
    "@dataclass\n",
    "class Collection:\n",
    "    items: List[Element]\n",
    "\n",
    "    def from_raw(items):\n",
    "        return Collection(list(map(Element.from_api, items)))\n",
    "        \n",
    "    @property\n",
    "    def emails(self):\n",
    "        return [el.email for el in self.items]\n",
    "\n",
    "    def __iter__(self):\n",
    "        yield from self.items\n",
    "        \n",
    "    def filter_records(self, pred):\n",
    "        return Collection(list(filter(pred, self.items)))\n",
    "\n",
    "\n",
    "c = Collection.from_raw(paginate(iterate()))\n",
    "print('total items', len(c.items))\n",
    "\n",
    "even = c.filter_records(Element.is_even)\n",
    "print('\\neven items\\n', len(even.emails), even.emails)\n",
    "\n",
    "odd = c.filter_records(Element.is_even)\n",
    "print('\\nodd items\\n', len(even.emails), even.emails)"
   ]
  },
  {
   "cell_type": "code",
   "execution_count": null,
   "id": "33d9fd02",
   "metadata": {},
   "outputs": [],
   "source": [
    "c.filter_records(lambda x: x.email.startswith('a'))"
   ]
  },
  {
   "cell_type": "code",
   "execution_count": null,
   "id": "88da5ffc",
   "metadata": {},
   "outputs": [],
   "source": [
    "c.filter_records(lambda x: '@' in x.email)"
   ]
  },
  {
   "cell_type": "code",
   "execution_count": null,
   "id": "c96ffd83",
   "metadata": {},
   "outputs": [],
   "source": [
    "@dataclass\n",
    "class Element:\n",
    "    numeric_id: int\n",
    "    uuid: str\n",
    "    email: str\n",
    "    score: int\n",
    "\n",
    "    @staticmethod\n",
    "    def from_api(raw):\n",
    "        return Element(*raw)\n",
    "        \n",
    "    def is_even(self) -> bool:\n",
    "        try:\n",
    "            return self.score % 2\n",
    "        except TypeError:\n",
    "            return False\n",
    "    \n",
    "    @staticmethod\n",
    "    def _is_even(element):\n",
    "        return element._is_even()\n",
    "    \n",
    "    @staticmethod\n",
    "    def _is_false(element):\n",
    "        return not element._is_even()\n",
    "\n",
    "    def email_len(self) -> bool:\n",
    "        return len(self.email)\n",
    "    \n",
    "    def as_row(self, delim='-'):\n",
    "        return delim.join(map(str, [\n",
    "            self.numeric_id, self.uuid, self.email, self.score,\n",
    "        ]))\n",
    "\n",
    "@dataclass\n",
    "class Collection:\n",
    "    items: List[Element]\n",
    "\n",
    "    def from_raw(items):\n",
    "        return Collection(list(map(Element.from_api, items)))\n",
    "\n",
    "    @property\n",
    "    def emails(self):\n",
    "        return [el.email for el in self.items]\n",
    "\n",
    "    def __iter__(self):\n",
    "        yield from self.items\n",
    "\n",
    "    def filter_records(self, pred):\n",
    "        return Collection(list(filter(pred, self.items)))\n",
    "\n",
    "    \n",
    "c = Collection.from_raw(paginate(iterate()))\n",
    "print('total items', len(c.items))\n",
    "\n",
    "even = c.filter_records(Element.is_even)\n",
    "print('\\neven items\\n', len(even.emails), even.emails)\n",
    "\n",
    "odd = c.filter_records(Element.is_even)\n",
    "print('\\nodd items\\n', len(even.emails), even.emails)"
   ]
  },
  {
   "cell_type": "markdown",
   "id": "81c40b57",
   "metadata": {},
   "source": [
    "## Representation\n",
    "\n",
    "Dunder methods!\n",
    "\n",
    "Let's make a few options:\n",
    "\n",
    "- All objects as JSON\n",
    "- All objects as rows/lists"
   ]
  },
  {
   "cell_type": "code",
   "execution_count": null,
   "id": "593b7924",
   "metadata": {},
   "outputs": [],
   "source": [
    "@dataclass\n",
    "class Element:\n",
    "    numeric_id: int\n",
    "    uuid: str\n",
    "    email: str\n",
    "    score: int\n",
    "\n",
    "    @staticmethod\n",
    "    def from_api(raw):\n",
    "        return Element(*raw)\n",
    "        \n",
    "    def is_even(self) -> bool:\n",
    "        try:\n",
    "            return self.score % 2\n",
    "        except TypeError:\n",
    "            return False\n",
    "    \n",
    "    @staticmethod\n",
    "    def _is_even(element):\n",
    "        return element._is_even()\n",
    "    \n",
    "    @staticmethod\n",
    "    def _is_false(element):\n",
    "        return not element._is_even()\n",
    "\n",
    "    def email_len(self) -> bool:\n",
    "        return len(self.email)\n",
    "    \n",
    "    def as_row(self, delim='-'):\n",
    "        return delim.join(map(str, [\n",
    "            self.numeric_id, self.uuid, self.email, self.score,\n",
    "        ]))\n",
    "    \n",
    "    def as_json(self):\n",
    "        return json.dumps(self.__dict__)\n",
    "\n",
    "@dataclass\n",
    "class Collection:\n",
    "    items: List[Element]\n",
    "\n",
    "    def from_raw(items):\n",
    "        return Collection(list(map(Element.from_api, items)))\n",
    "        \n",
    "    @property\n",
    "    def emails(self):\n",
    "        return [el.email for el in self.items]\n",
    "\n",
    "    def __iter__(self):\n",
    "        yield from self.items\n",
    "        \n",
    "    def filter_records(self, pred):\n",
    "        return Collection(list(filter(pred, self.items)))\n",
    "    \n",
    "    def as_json(self, **kwargs):\n",
    "        return json.dumps(\n",
    "            [asdict(el) for el in self.items],\n",
    "            **kwargs\n",
    "        )\n",
    "\n",
    "    \n",
    "c = Collection.from_raw(paginate(iterate()))\n",
    "print('total items', len(c.items))\n",
    "\n",
    "even = c.filter_records(Element.is_even)\n",
    "print('\\neven items\\n', len(even.emails), even.emails)\n",
    "\n",
    "odd = c.filter_records(Element.is_even)\n",
    "print('\\nodd items\\n', len(even.emails), even.emails)"
   ]
  },
  {
   "cell_type": "code",
   "execution_count": null,
   "id": "abe1a209",
   "metadata": {},
   "outputs": [],
   "source": [
    "c = Collection.from_raw(paginate(iterate()))\n",
    "\n",
    "ppj(c.items[0].as_json())\n",
    "ppj(c.as_json())"
   ]
  },
  {
   "cell_type": "code",
   "execution_count": null,
   "id": "b15c45a4",
   "metadata": {},
   "outputs": [],
   "source": [
    "ppj(c[:2].as_json(indent=2))"
   ]
  },
  {
   "cell_type": "code",
   "execution_count": null,
   "id": "bfbad953",
   "metadata": {},
   "outputs": [],
   "source": [
    "What if we just want to print the first few items?"
   ]
  },
  {
   "cell_type": "code",
   "execution_count": null,
   "id": "5a72ab53",
   "metadata": {},
   "outputs": [],
   "source": [
    "What if we just want to print the first few items"
   ]
  },
  {
   "cell_type": "code",
   "execution_count": null,
   "id": "313d526c",
   "metadata": {},
   "outputs": [],
   "source": [
    "ppj(c.items[:2].as_json(indent=2))"
   ]
  },
  {
   "cell_type": "code",
   "execution_count": null,
   "id": "cd7fe241",
   "metadata": {},
   "outputs": [],
   "source": [
    "ppj(Collection(c.items[:2]).as_json(indent=2))"
   ]
  },
  {
   "cell_type": "code",
   "execution_count": null,
   "id": "d1a66513",
   "metadata": {},
   "outputs": [],
   "source": [
    "@dataclass\n",
    "class Collection:\n",
    "    items: List[Element]\n",
    "\n",
    "    def from_raw(items):\n",
    "        return Collection(list(map(Element.from_api, items)))\n",
    "\n",
    "    def __getitem__(self, i):\n",
    "        return Collection(self.items[i])\n",
    "    \n",
    "    @property\n",
    "    def emails(self):\n",
    "        return [el.email for el in self.items]\n",
    "\n",
    "    def __iter__(self):\n",
    "        yield from self.items\n",
    "        \n",
    "    def filter_records(self, pred):\n",
    "        return Collection(list(filter(pred, self.items)))\n",
    "    \n",
    "    def as_json(self, **kwargs):\n",
    "        return json.dumps(\n",
    "            [asdict(el) for el in self.items],\n",
    "            **kwargs\n",
    "        )"
   ]
  },
  {
   "cell_type": "code",
   "execution_count": null,
   "id": "dee0e7e2",
   "metadata": {
    "slideshow": {
     "slide_type": "-"
    }
   },
   "outputs": [],
   "source": [
    "c = Collection.from_raw(paginate(iterate()))\n",
    "\n",
    "ppj(c[1:2].as_json(indent=2))\n",
    "ppj(c[1:3].as_json(indent=2))"
   ]
  },
  {
   "cell_type": "markdown",
   "id": "fe0920ab",
   "metadata": {},
   "source": [
    "### Sorting!\n",
    "\n",
    "You can sort easily if you already have handy methods available for getting the values to sort by"
   ]
  },
  {
   "cell_type": "code",
   "execution_count": null,
   "id": "c3e03297",
   "metadata": {},
   "outputs": [],
   "source": [
    "list(sorted(c, key=lambda x: x.score))"
   ]
  },
  {
   "cell_type": "markdown",
   "id": "cee25676",
   "metadata": {},
   "source": [
    "https://github.com/tomquirk/realestate-com-au-api/blob/8368da02a67aaf1c2fe9634f19181fb54685718d/realestate_com_au/realestate_com_au.py#L70-L118"
   ]
  }
 ],
 "metadata": {
  "celltoolbar": "Slideshow",
  "kernelspec": {
   "display_name": "Python 3",
   "language": "python",
   "name": "python3"
  },
  "language_info": {
   "codemirror_mode": {
    "name": "ipython",
    "version": 3
   },
   "file_extension": ".py",
   "mimetype": "text/x-python",
   "name": "python",
   "nbconvert_exporter": "python",
   "pygments_lexer": "ipython3",
   "version": "3.9.2"
  }
 },
 "nbformat": 4,
 "nbformat_minor": 5
}
