{
 "cells": [
  {
   "cell_type": "markdown",
   "id": "f68f9c59",
   "metadata": {},
   "source": [
    "# Lesson 03: Pythonics"
   ]
  },
  {
   "cell_type": "markdown",
   "id": "e7dadb84",
   "metadata": {},
   "source": [
    "## built-in functions\n",
    "\n",
    "[https://docs.python.org/3/library/functions.html](https://docs.python.org/3/library/functions.html)\n",
    "\n",
    "```python\n",
    "__import__()\n",
    "\n",
    "breakpoint()\n",
    "callable()\n",
    "compile()\n",
    "eval()\n",
    "exec()\n",
    "object()\n",
    "property()\n",
    "\n",
    "format()\n",
    "input()\n",
    "open()\n",
    "print()\n",
    "\n",
    "all()\n",
    "any()\n",
    "enumerate()\n",
    "filter()\n",
    "iter()\n",
    "map()\n",
    "next()\n",
    "range()\n",
    "reversed()\n",
    "slice()\n",
    "sorted()\n",
    "zip()\n",
    "\n",
    "divmod()\n",
    "max()\n",
    "min()\n",
    "sum()\n",
    "\n",
    "classmethod()\n",
    "delattr()\n",
    "dir()\n",
    "getattr()\n",
    "globals()\n",
    "hasattr()\n",
    "isinstance()\n",
    "issubclass()\n",
    "locals()\n",
    "memoryview()\n",
    "setattr()\n",
    "staticmethod()\n",
    "super()\n",
    "type()\n",
    "vars()\n",
    "\n",
    "abs()\n",
    "bin()\n",
    "help()\n",
    "id()\n",
    "pow()\n",
    "round()\n",
    "\n",
    "ascii()\n",
    "hash()\n",
    "len()\n",
    "repr()\n",
    "\n",
    "bool()\n",
    "bytearray()\n",
    "bytes()\n",
    "chr()\n",
    "complex()\n",
    "dict()\n",
    "float()\n",
    "frozenset()\n",
    "hex()\n",
    "int()\n",
    "list()\n",
    "oct()\n",
    "ord()\n",
    "set()\n",
    "str()\n",
    "tuple()\n",
    "```"
   ]
  },
  {
   "cell_type": "markdown",
   "id": "064f6934",
   "metadata": {},
   "source": [
    "## collections\n",
    "\n",
    "[https://docs.python.org/3/library/collections.html](https://docs.python.org/3/library/collections.html)\n",
    "\n",
    "```python\n",
    "from collections import namedtuple, deque, Counter, defaultdict\n",
    "\n",
    "namedtuple\n",
    "deque\n",
    "Counter\n",
    "defaultdict\n",
    "```"
   ]
  },
  {
   "cell_type": "markdown",
   "id": "a219e145",
   "metadata": {},
   "source": [
    "## itertools\n",
    "\n",
    "[https://docs.python.org/3/library/itertools.html](https://docs.python.org/3/library/itertools.html)\n",
    "\n",
    "```python\n",
    "from itertools import *\n",
    "\n",
    "count()\n",
    "cycle()\n",
    "repeat()\n",
    "\n",
    "chain()\n",
    "filterfalse()\n",
    "groupby()\n",
    "islice()\n",
    "\n",
    "product()\n",
    "permutations()\n",
    "combinations()\n",
    "\n",
    "```"
   ]
  },
  {
   "cell_type": "markdown",
   "id": "868f2730",
   "metadata": {},
   "source": [
    "## functools\n",
    "\n",
    "[https://docs.python.org/3/library/functools.html](https://docs.python.org/3/library/functools.html)\n",
    "\n",
    "```python\n",
    "from functools import *\n",
    "\n",
    "cache()\n",
    "lru_cache()\n",
    "\n",
    "reduce()\n",
    "wraps()\n",
    "\n",
    "```"
   ]
  },
  {
   "cell_type": "markdown",
   "id": "3934496f",
   "metadata": {},
   "source": [
    "## Useful applications"
   ]
  },
  {
   "cell_type": "markdown",
   "id": "79ad2f6d",
   "metadata": {},
   "source": [
    "### String printf options"
   ]
  },
  {
   "cell_type": "code",
   "execution_count": 5,
   "id": "1578379e",
   "metadata": {},
   "outputs": [
    {
     "name": "stdout",
     "output_type": "stream",
     "text": [
      "1.398\n",
      "1.40\n",
      "\n",
      "|     hello-world\n"
     ]
    }
   ],
   "source": [
    "print('{}'.format(1.398))\n",
    "print('{:.2f}'.format(1.398))\n",
    "\n",
    "print()\n",
    "\n",
    "print('|{:>10s}-{:s}'.format('hello', 'world'))\n"
   ]
  },
  {
   "cell_type": "code",
   "execution_count": 6,
   "id": "69f00be7",
   "metadata": {
    "scrolled": false
   },
   "outputs": [
    {
     "name": "stdout",
     "output_type": "stream",
     "text": [
      "1.398\n",
      "1.40\n",
      "\n",
      "00000001\n",
      "00000300\n",
      "00002342\n",
      "00024523\n",
      "\n",
      "|     hello-world\n"
     ]
    }
   ],
   "source": [
    "\n",
    "val = 1.398\n",
    "print(f'{val}')\n",
    "print(f'{val:.2f}')\n",
    "\n",
    "print()\n",
    "\n",
    "vals = (1, 300, 2342, 24523)\n",
    "for v in vals:\n",
    "    print(f'{v:08d}')\n",
    "\n",
    "print()\n",
    "\n",
    "msg = ('hello', 'world')\n",
    "\n",
    "print('|{:>10s}-{:s}'.format(*msg))"
   ]
  },
  {
   "cell_type": "markdown",
   "id": "bb15eaa1",
   "metadata": {},
   "source": [
    "### Tuple unpacking"
   ]
  },
  {
   "cell_type": "code",
   "execution_count": 9,
   "id": "51e40082",
   "metadata": {
    "scrolled": true
   },
   "outputs": [
    {
     "name": "stdout",
     "output_type": "stream",
     "text": [
      "a b\n",
      "a ['b', 'c', 'd', 'e', 'f']\n"
     ]
    }
   ],
   "source": [
    "a, b = 'a,b'.split(',')\n",
    "print(a, b)\n",
    "\n",
    "\n",
    "head, *tail = 'a,b,c,d,e,f'.split(',')\n",
    "print(head, tail)"
   ]
  },
  {
   "cell_type": "code",
   "execution_count": 10,
   "id": "4ddf422d",
   "metadata": {
    "scrolled": true
   },
   "outputs": [
    {
     "name": "stdout",
     "output_type": "stream",
     "text": [
      "a b\n",
      "('a', 'b')\n",
      "(0, ('a', 'b'))\n",
      "0 a b\n",
      "0 a b\n"
     ]
    }
   ],
   "source": [
    "d = {'a': 'b'}\n",
    "\n",
    "for k, v in d.items():\n",
    "    print(k, v)\n",
    "\n",
    "for a in d.items():\n",
    "    print(a)\n",
    "\n",
    "for a in enumerate(d.items()):\n",
    "    print(a)\n",
    "\n",
    "for i, (k, v) in enumerate(d.items()):\n",
    "    print(i, k, v)\n",
    "\n",
    "i, (k, v) = (0, ('a', 'b'))\n",
    "print(i, k, v)"
   ]
  },
  {
   "cell_type": "markdown",
   "id": "cfa460e5",
   "metadata": {},
   "source": [
    "### List index slicing"
   ]
  },
  {
   "cell_type": "code",
   "execution_count": 11,
   "id": "e0ce7339",
   "metadata": {
    "scrolled": true
   },
   "outputs": [
    {
     "name": "stdout",
     "output_type": "stream",
     "text": [
      "[0, 1, 2, 3, 4, 5, 6, 7, 8, 9] \n",
      "\n",
      "[0, 1] [2, 3, 4, 5, 6, 7, 8, 9]\n",
      "9 8 0\n",
      "[2, 3, 4, 5, 6, 7, 8, 9] [0, 1]\n",
      "[0, 2, 4, 6, 8]\n"
     ]
    }
   ],
   "source": [
    "l = list(range(10))\n",
    "print(l, '\\n')\n",
    "\n",
    "print(l[:2], l[2:])\n",
    "\n",
    "print(l[-1], l[-2], l[-10])\n",
    "\n",
    "# rotate\n",
    "print(l[2:], l[:2])\n",
    "\n",
    "# take every nth item\n",
    "print(l[::2])"
   ]
  },
  {
   "cell_type": "markdown",
   "id": "5dae6cc1",
   "metadata": {},
   "source": [
    "### Counter refactor"
   ]
  },
  {
   "cell_type": "code",
   "execution_count": 12,
   "id": "ab782974",
   "metadata": {},
   "outputs": [
    {
     "name": "stdout",
     "output_type": "stream",
     "text": [
      "{'the': 2, 'quick': 1, 'brown': 1, 'fox': 1, 'jumps': 1, 'over': 1, 'lazy': 1, 'dog.': 1}\n",
      "{'the': 2, 'quick': 1, 'brown': 1, 'fox': 1, 'jumps': 1, 'over': 1, 'lazy': 1, 'dog.': 1}\n"
     ]
    }
   ],
   "source": [
    "from collections import Counter\n",
    "\n",
    "# taken from https://www.w3resource.com/python-exercises/string/python-data-type-string-exercise-12.php\n",
    "# ew! raymond would be sad.\n",
    "def word_count(s):\n",
    "    counts = dict()\n",
    "    words = s.split()\n",
    "    for word in words:\n",
    "        if word in counts:\n",
    "            counts[word] += 1\n",
    "        else:\n",
    "            counts[word] = 1\n",
    "    return counts\n",
    "\n",
    "def word_counter(s):\n",
    "  return dict(Counter(s.split()))\n",
    "\n",
    "\n",
    "print(word_count('the quick brown fox jumps over the lazy dog.'))\n",
    "print(word_counter('the quick brown fox jumps over the lazy dog.'))"
   ]
  },
  {
   "cell_type": "markdown",
   "id": "79f78104",
   "metadata": {},
   "source": [
    "### Datetime timezone manipulation"
   ]
  },
  {
   "cell_type": "code",
   "execution_count": 13,
   "id": "7054e8e9",
   "metadata": {},
   "outputs": [
    {
     "name": "stdout",
     "output_type": "stream",
     "text": [
      "2021-05-03 13:49:36.060429+00:00\n",
      "2021-05-03 23:49:36.060630+10:00\n",
      "\n",
      "2021-05-03T23:49:36+1000\n",
      "2021-05-03T23:49:36+10:00\n"
     ]
    }
   ],
   "source": [
    "#!/usr/bin/env python3\n",
    "\n",
    "from datetime import datetime, timezone, timedelta\n",
    "\n",
    "def current_datetime(utc_offset=0):\n",
    "     return datetime.now(timezone(timedelta(hours=utc_offset)))\n",
    "\n",
    "def convert_datetime_timezone(dt, utc_offset=0):\n",
    "    return dt.astimezone(timezone(timedelta(hours=utc_offset)))\n",
    "\n",
    "def iso8601_str1(dt):\n",
    "    return dt.strftime('%Y-%m-%dT%H:%M:%S%z')\n",
    "\n",
    "def iso8601_str2(dt):\n",
    "    return dt.replace(microsecond=0).isoformat()\n",
    "\n",
    "print(current_datetime())\n",
    "print(current_datetime(10))\n",
    "\n",
    "print()\n",
    "\n",
    "print(iso8601_str1(current_datetime(10)))\n",
    "print(iso8601_str2(current_datetime(10)))"
   ]
  },
  {
   "cell_type": "code",
   "execution_count": 14,
   "id": "670d5cf4",
   "metadata": {},
   "outputs": [
    {
     "name": "stdout",
     "output_type": "stream",
     "text": [
      "1\n",
      "3\n",
      "5\n",
      "7\n",
      "9\n"
     ]
    }
   ],
   "source": [
    "a = list(range(10))\n",
    "\n",
    "for i in filter(lambda x: x % 2 == 1, a):\n",
    "    print(i)"
   ]
  },
  {
   "cell_type": "code",
   "execution_count": 15,
   "id": "a3bb0531",
   "metadata": {},
   "outputs": [
    {
     "name": "stdout",
     "output_type": "stream",
     "text": [
      "['helloworld']\n",
      "a <class 'str'>\n",
      "('a',) <class 'tuple'>\n"
     ]
    }
   ],
   "source": [
    "a = [\n",
    "    'hello'\n",
    "    'world'\n",
    "]\n",
    "\n",
    "print(a)\n",
    "\n",
    "a = ('a')\n",
    "print(a, type(a))\n",
    "\n",
    "a = ('a',)\n",
    "print(a, type(a))"
   ]
  },
  {
   "cell_type": "markdown",
   "id": "a445f446",
   "metadata": {},
   "source": [
    "### File iteration"
   ]
  },
  {
   "cell_type": "code",
   "execution_count": 16,
   "id": "2b9c4673",
   "metadata": {},
   "outputs": [],
   "source": [
    "fpath, text = 'text.csv', '''\\\n",
    "id,name\n",
    "1,ben\n",
    "2,jane\n",
    "3,rover\n",
    "4,daisy\n",
    "'''\n",
    "\n",
    "with open(fpath, 'w') as ostream:\n",
    "    ostream.write(text)"
   ]
  },
  {
   "cell_type": "code",
   "execution_count": 17,
   "id": "25b0bef9",
   "metadata": {
    "scrolled": true
   },
   "outputs": [
    {
     "name": "stdout",
     "output_type": "stream",
     "text": [
      "id,name\n",
      "\n",
      "1,ben\n",
      "\n",
      "2,jane\n",
      "\n",
      "3,rover\n",
      "\n",
      "4,daisy\n",
      "\n"
     ]
    }
   ],
   "source": [
    "with open(fpath) as istream:\n",
    "    for line in istream:\n",
    "        print(line)"
   ]
  },
  {
   "cell_type": "code",
   "execution_count": 18,
   "id": "a6de86cb",
   "metadata": {},
   "outputs": [
    {
     "name": "stdout",
     "output_type": "stream",
     "text": [
      "['id,name\\n', '1,ben\\n', '2,jane\\n', '3,rover\\n', '4,daisy\\n']\n",
      "['id,name\\n', '1,ben\\n', '2,jane\\n', '3,rover\\n', '4,daisy\\n']\n"
     ]
    }
   ],
   "source": [
    "with open(fpath) as istream:\n",
    "    print(list(line for line in istream))\n",
    "    \n",
    "with open(fpath) as istream:\n",
    "    print(list(istream))"
   ]
  },
  {
   "cell_type": "markdown",
   "id": "116cf468",
   "metadata": {},
   "source": [
    "### File iteration with strip"
   ]
  },
  {
   "cell_type": "code",
   "execution_count": 19,
   "id": "fcdbcd0d",
   "metadata": {},
   "outputs": [
    {
     "name": "stdout",
     "output_type": "stream",
     "text": [
      "id,name\n",
      "1,ben\n",
      "2,jane\n",
      "3,rover\n",
      "4,daisy\n",
      "\n",
      "id,name\n",
      "1,ben\n",
      "2,jane\n",
      "3,rover\n",
      "4,daisy\n"
     ]
    }
   ],
   "source": [
    "with open(fpath) as istream:\n",
    "    for line in istream:\n",
    "        print(line.strip())\n",
    "\n",
    "print()\n",
    "        \n",
    "with open(fpath) as istream:\n",
    "    for line in map(str.strip, istream):\n",
    "        print(line)"
   ]
  },
  {
   "cell_type": "markdown",
   "id": "07e07e2d",
   "metadata": {},
   "source": [
    "### map is lazy\n",
    "\n",
    "_the same goes for all of the iterable functions_"
   ]
  },
  {
   "cell_type": "code",
   "execution_count": 20,
   "id": "6b7fde2b",
   "metadata": {},
   "outputs": [
    {
     "name": "stdout",
     "output_type": "stream",
     "text": [
      "called with 0\n",
      "0\n",
      "----\n",
      "called with 0\n",
      "called with 1\n",
      "['0', '1']\n"
     ]
    }
   ],
   "source": [
    "def trns(ch):\n",
    "    print(f'called with {ch}')\n",
    "    return str(ch)\n",
    "\n",
    "for i in map(trns, range(2)):\n",
    "    print(i)\n",
    "    break\n",
    "    \n",
    "print('----')\n",
    "\n",
    "print(list(map(trns, range(2))))"
   ]
  },
  {
   "cell_type": "markdown",
   "id": "a1715836",
   "metadata": {},
   "source": [
    "### For-loop tricks"
   ]
  },
  {
   "cell_type": "code",
   "execution_count": 29,
   "id": "e0ea8191",
   "metadata": {},
   "outputs": [
    {
     "name": "stdout",
     "output_type": "stream",
     "text": [
      "[]\n",
      "[]\n",
      "[]\n"
     ]
    }
   ],
   "source": [
    "items = []\n",
    "\n",
    "def iterate(i):\n",
    "    if len(i) < 1:\n",
    "        return\n",
    "    for el in i:\n",
    "        yield i\n",
    "\n",
    "def iterate2(i):\n",
    "    for el in i:\n",
    "        yield el\n",
    "\n",
    "def iterate3(i):\n",
    "    yield from i\n",
    "    \n",
    "print(list(iterate(items)))\n",
    "print(list(iterate2(items)))\n",
    "print(list(iterate3(items)))"
   ]
  },
  {
   "cell_type": "markdown",
   "id": "c10f6cb1",
   "metadata": {},
   "source": [
    "---"
   ]
  },
  {
   "cell_type": "code",
   "execution_count": 21,
   "id": "214fd934",
   "metadata": {
    "scrolled": true
   },
   "outputs": [
    {
     "name": "stdout",
     "output_type": "stream",
     "text": [
      "ifmmp xpsme\n",
      "7.51 µs ± 82.2 ns per loop (mean ± std. dev. of 7 runs, 100000 loops each)\n"
     ]
    }
   ],
   "source": [
    "import itertools\n",
    "import sys\n",
    "\n",
    "import string\n",
    "from collections import deque\n",
    "\n",
    "shift=1\n",
    "rot = deque(string.ascii_lowercase)\n",
    "rot.rotate(-shift)\n",
    "lookup = dict(zip(string.ascii_lowercase, rot))\n",
    "\n",
    "def find(char, lookup):\n",
    "    try:\n",
    "        return lookup.get(char, char)\n",
    "    except KeyError:\n",
    "        return char\n",
    "\n",
    "def encode(msg):\n",
    "    return ''.join(list(map(lambda x: find(x, lookup), msg)))\n",
    "\n",
    "print(encode('hello world'))\n",
    "%timeit encode('hello world')"
   ]
  },
  {
   "cell_type": "code",
   "execution_count": 22,
   "id": "38abf306",
   "metadata": {},
   "outputs": [
    {
     "name": "stdout",
     "output_type": "stream",
     "text": [
      "4.58 µs ± 259 ns per loop (mean ± std. dev. of 7 runs, 100000 loops each)\n"
     ]
    }
   ],
   "source": [
    "shift=1\n",
    "rot = deque(string.ascii_lowercase)\n",
    "rot.rotate(-shift)\n",
    "lookup = dict(zip(string.ascii_lowercase, rot))\n",
    "\n",
    "def find(char, lookup):\n",
    "    return lookup.get(char, char)\n",
    "\n",
    "def encode(msg):\n",
    "    return ''.join(list(map(lambda x: lookup.get(x, x), msg)))\n",
    "\n",
    "msg = 'hello world'\n",
    "%timeit encode('hello world')"
   ]
  },
  {
   "cell_type": "code",
   "execution_count": 23,
   "id": "346b4ba6",
   "metadata": {},
   "outputs": [
    {
     "name": "stdout",
     "output_type": "stream",
     "text": [
      "ifmmp xpsme\n",
      "9.79 µs ± 133 ns per loop (mean ± std. dev. of 7 runs, 100000 loops each)\n"
     ]
    }
   ],
   "source": [
    "import string\n",
    "\n",
    "def encode(msg, shift=1):\n",
    "    lookup = dict(zip(\n",
    "        string.ascii_lowercase,\n",
    "        string.ascii_lowercase[shift:] + string.ascii_lowercase[0:shift]\n",
    "    ))\n",
    "    return ''.join(list(map(lambda x: lookup.get(x, x), msg)))\n",
    "\n",
    "print(encode('hello world'))\n",
    "\n",
    "%timeit encode('hello world')"
   ]
  },
  {
   "cell_type": "code",
   "execution_count": 24,
   "id": "adb3e641",
   "metadata": {},
   "outputs": [
    {
     "name": "stdout",
     "output_type": "stream",
     "text": [
      "ifmmp xpsme\n",
      "4.54 µs ± 77.5 ns per loop (mean ± std. dev. of 7 runs, 100000 loops each)\n"
     ]
    }
   ],
   "source": [
    "import string\n",
    "\n",
    "lookup = dict(zip(\n",
    "    string.ascii_lowercase,\n",
    "    string.ascii_lowercase[shift:] + string.ascii_lowercase[0:shift]\n",
    "))\n",
    "\n",
    "def encode(msg, shift=1):\n",
    "    return ''.join(list(map(lambda x: lookup.get(x, x), msg)))\n",
    "\n",
    "print(encode('hello world'))\n",
    "\n",
    "%timeit encode('hello world')"
   ]
  },
  {
   "cell_type": "code",
   "execution_count": 25,
   "id": "6ef0b4d5",
   "metadata": {},
   "outputs": [
    {
     "name": "stdout",
     "output_type": "stream",
     "text": [
      "ifmmp xpsme\n",
      "776 ns ± 19.2 ns per loop (mean ± std. dev. of 7 runs, 1000000 loops each)\n"
     ]
    }
   ],
   "source": [
    "import string\n",
    "\n",
    "lookup = str.maketrans(\n",
    "    string.ascii_lowercase,\n",
    "    string.ascii_lowercase[shift:] + string.ascii_lowercase[0:shift]\n",
    ")\n",
    "\n",
    "def encode(msg):\n",
    "    return msg.translate(lookup)\n",
    "\n",
    "print(encode('hello world'))\n",
    "\n",
    "%timeit encode('hello world')"
   ]
  },
  {
   "cell_type": "code",
   "execution_count": null,
   "id": "8233b681",
   "metadata": {},
   "outputs": [],
   "source": []
  }
 ],
 "metadata": {
  "kernelspec": {
   "display_name": "Python 3",
   "language": "python",
   "name": "python3"
  },
  "language_info": {
   "codemirror_mode": {
    "name": "ipython",
    "version": 3
   },
   "file_extension": ".py",
   "mimetype": "text/x-python",
   "name": "python",
   "nbconvert_exporter": "python",
   "pygments_lexer": "ipython3",
   "version": "3.8.8"
  }
 },
 "nbformat": 4,
 "nbformat_minor": 5
}
