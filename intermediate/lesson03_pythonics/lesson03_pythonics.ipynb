{
 "cells": [
  {
   "cell_type": "markdown",
   "id": "23069514",
   "metadata": {},
   "source": [
    "[https://docs.python.org/3/library/functions.html](https://docs.python.org/3/library/functions.html)"
   ]
  },
  {
   "cell_type": "markdown",
   "id": "912e105e",
   "metadata": {},
   "source": [
    "## Built-in Functions\n",
    "```python\n",
    "__import__()\n",
    "\n",
    "breakpoint()\n",
    "callable()\n",
    "compile()\n",
    "eval()\n",
    "exec()\n",
    "object()\n",
    "property()\n",
    "\n",
    "format()\n",
    "input()\n",
    "open()\n",
    "print()\n",
    "\n",
    "all()\n",
    "any()\n",
    "enumerate()\n",
    "filter()\n",
    "iter()\n",
    "map()\n",
    "next()\n",
    "range()\n",
    "reversed()\n",
    "slice()\n",
    "sorted()\n",
    "zip()\n",
    "\n",
    "divmod()\n",
    "max()\n",
    "min()\n",
    "sum()\n",
    "\n",
    "classmethod()\n",
    "delattr()\n",
    "dir()\n",
    "getattr()\n",
    "globals()\n",
    "hasattr()\n",
    "isinstance()\n",
    "issubclass()\n",
    "locals()\n",
    "memoryview()\n",
    "setattr()\n",
    "staticmethod()\n",
    "super()\n",
    "type()\n",
    "vars()\n",
    "\n",
    "abs()\n",
    "bin()\n",
    "help()\n",
    "id()\n",
    "pow()\n",
    "round()\n",
    "\n",
    "ascii()\n",
    "hash()\n",
    "len()\n",
    "repr()\n",
    "\n",
    "bool()\n",
    "bytearray()\n",
    "bytes()\n",
    "chr()\n",
    "complex()\n",
    "dict()\n",
    "float()\n",
    "frozenset()\n",
    "hex()\n",
    "int()\n",
    "list()\n",
    "oct()\n",
    "ord()\n",
    "set()\n",
    "str()\n",
    "tuple()\n",
    "```"
   ]
  },
  {
   "cell_type": "markdown",
   "id": "68f0feb3",
   "metadata": {},
   "source": [
    "## collections\n",
    "\n",
    "[https://docs.python.org/3/library/collections.html](https://docs.python.org/3/library/collections.html)\n",
    "\n",
    "```python\n",
    "from collections import namedtuple, deque, Counter, defaultdict\n",
    "\n",
    "namedtuple\n",
    "deque\n",
    "Counter\n",
    "defaultdict\n",
    "```"
   ]
  },
  {
   "cell_type": "markdown",
   "id": "c66e53f3",
   "metadata": {},
   "source": [
    "## itertools\n",
    "\n",
    "[https://docs.python.org/3/library/itertools.html](https://docs.python.org/3/library/itertools.html)\n",
    "\n",
    "```python\n",
    "from itertools import *\n",
    "\n",
    "count()\n",
    "cycle()\n",
    "repeat()\n",
    "\n",
    "chain()\n",
    "filterfalse()\n",
    "groupby()\n",
    "islice()\n",
    "\n",
    "product()\n",
    "permutations()\n",
    "combinations()\n",
    "\n",
    "```"
   ]
  },
  {
   "cell_type": "markdown",
   "id": "5a5d929b",
   "metadata": {},
   "source": [
    "## functools\n",
    "\n",
    "[https://docs.python.org/3/library/functools.html](https://docs.python.org/3/library/functools.html)\n",
    "\n",
    "```python\n",
    "from functools import *\n",
    "\n",
    "cache()\n",
    "lru_cache()\n",
    "\n",
    "reduce()\n",
    "wraps()\n",
    "\n",
    "```"
   ]
  },
  {
   "cell_type": "code",
   "execution_count": 9,
   "id": "1d5535e3",
   "metadata": {},
   "outputs": [
    {
     "name": "stdout",
     "output_type": "stream",
     "text": [
      "ifmmp xpsme\n",
      "3.54 µs ± 66.3 ns per loop (mean ± std. dev. of 7 runs, 100000 loops each)\n"
     ]
    }
   ],
   "source": [
    "import itertools\n",
    "import sys\n",
    "\n",
    "import string\n",
    "from collections import deque\n",
    "\n",
    "shift=1\n",
    "rot = deque(string.ascii_lowercase)\n",
    "rot.rotate(-shift)\n",
    "lookup = dict(zip(string.ascii_lowercase, rot))\n",
    "\n",
    "def find(char, lookup):\n",
    "    try:\n",
    "        return lookup.get(char, char)\n",
    "    except KeyError:\n",
    "        return char\n",
    "\n",
    "def encode(msg):\n",
    "    return ''.join(list(map(lambda x: find(x, lookup), msg)))\n",
    "\n",
    "print(encode('hello world'))\n",
    "%timeit encode('hello world')"
   ]
  },
  {
   "cell_type": "code",
   "execution_count": 10,
   "id": "d69d7293",
   "metadata": {},
   "outputs": [
    {
     "name": "stdout",
     "output_type": "stream",
     "text": [
      "2.63 µs ± 49.8 ns per loop (mean ± std. dev. of 7 runs, 100000 loops each)\n"
     ]
    }
   ],
   "source": [
    "shift=1\n",
    "rot = deque(string.ascii_lowercase)\n",
    "rot.rotate(-shift)\n",
    "lookup = dict(zip(string.ascii_lowercase, rot))\n",
    "\n",
    "def find(char, lookup):\n",
    "    return lookup.get(char, char)\n",
    "\n",
    "def encode(msg):\n",
    "    return ''.join(list(map(lambda x: lookup.get(x, x), msg)))\n",
    "\n",
    "msg = 'hello world'\n",
    "%timeit encode('hello world')"
   ]
  },
  {
   "cell_type": "code",
   "execution_count": 11,
   "id": "af99ac5a",
   "metadata": {},
   "outputs": [
    {
     "name": "stdout",
     "output_type": "stream",
     "text": [
      "ifmmp xpsme\n",
      "5.72 µs ± 125 ns per loop (mean ± std. dev. of 7 runs, 100000 loops each)\n"
     ]
    }
   ],
   "source": [
    "import string\n",
    "\n",
    "def encode(msg, shift=1):\n",
    "    lookup = dict(zip(\n",
    "        string.ascii_lowercase,\n",
    "        string.ascii_lowercase[shift:] + string.ascii_lowercase[0:shift]\n",
    "    ))\n",
    "    return ''.join(list(map(lambda x: lookup.get(x, x), msg)))\n",
    "\n",
    "print(encode('hello world'))\n",
    "\n",
    "%timeit encode('hello world')"
   ]
  },
  {
   "cell_type": "code",
   "execution_count": 12,
   "id": "56a65591",
   "metadata": {},
   "outputs": [
    {
     "name": "stdout",
     "output_type": "stream",
     "text": [
      "ifmmp xpsme\n",
      "2.66 µs ± 53.9 ns per loop (mean ± std. dev. of 7 runs, 100000 loops each)\n"
     ]
    }
   ],
   "source": [
    "import string\n",
    "\n",
    "lookup = dict(zip(\n",
    "    string.ascii_lowercase,\n",
    "    string.ascii_lowercase[shift:] + string.ascii_lowercase[0:shift]\n",
    "))\n",
    "\n",
    "def encode(msg, shift=1):\n",
    "    return ''.join(list(map(lambda x: lookup.get(x, x), msg)))\n",
    "\n",
    "print(encode('hello world'))\n",
    "\n",
    "%timeit encode('hello world')"
   ]
  },
  {
   "cell_type": "code",
   "execution_count": 13,
   "id": "03a25da7",
   "metadata": {},
   "outputs": [
    {
     "name": "stdout",
     "output_type": "stream",
     "text": [
      "ifmmp xpsme\n",
      "536 ns ± 5.14 ns per loop (mean ± std. dev. of 7 runs, 1000000 loops each)\n"
     ]
    }
   ],
   "source": [
    "import string\n",
    "\n",
    "lookup = str.maketrans(\n",
    "    string.ascii_lowercase,\n",
    "    string.ascii_lowercase[shift:] + string.ascii_lowercase[0:shift]\n",
    ")\n",
    "\n",
    "def encode(msg):\n",
    "    return msg.translate(lookup)\n",
    "\n",
    "print(encode('hello world'))\n",
    "\n",
    "%timeit encode('hello world')"
   ]
  },
  {
   "cell_type": "code",
   "execution_count": 25,
   "id": "a3e4e44b",
   "metadata": {},
   "outputs": [
    {
     "name": "stdout",
     "output_type": "stream",
     "text": [
      "1.398\n",
      "1.40\n",
      "\n",
      "|     hello-world\n"
     ]
    }
   ],
   "source": [
    "print('{}'.format(1.398))\n",
    "print('{:.2f}'.format(1.398))\n",
    "\n",
    "print()\n",
    "\n",
    "print('|{:>10s}-{:s}'.format('hello', 'world'))\n"
   ]
  },
  {
   "cell_type": "code",
   "execution_count": 32,
   "id": "69466b08",
   "metadata": {},
   "outputs": [
    {
     "name": "stdout",
     "output_type": "stream",
     "text": [
      "1.398\n",
      "1.40\n",
      "\n",
      "00000001\n",
      "00000300\n",
      "00002342\n",
      "00024523\n",
      "\n",
      "|     hello-world\n"
     ]
    }
   ],
   "source": [
    "\n",
    "val = 1.398\n",
    "print(f'{val}')\n",
    "print(f'{val:.2f}')\n",
    "\n",
    "print()\n",
    "\n",
    "vals = (1, 300, 2342, 24523)\n",
    "for v in vals:\n",
    "    print(f'{v:08d}')\n",
    "\n",
    "print()\n",
    "\n",
    "msg = ('hello', 'world')\n",
    "\n",
    "print('|{:>10s}-{:s}'.format(*msg))"
   ]
  },
  {
   "cell_type": "code",
   "execution_count": 46,
   "id": "91a74391",
   "metadata": {},
   "outputs": [
    {
     "name": "stdout",
     "output_type": "stream",
     "text": [
      "a b\n",
      "a ['b', 'c', 'd', 'e', 'f']\n"
     ]
    }
   ],
   "source": [
    "a, b = 'a,b'.split(',')\n",
    "print(a, b)\n",
    "\n",
    "\n",
    "head, *tail = 'a,b,c,d,e,f'.split(',')\n",
    "print(head, tail)\n",
    "\n",
    "header, *rows = istream.readlines()\n",
    "header, *rows = istream.read().split(\"\\n\")"
   ]
  },
  {
   "cell_type": "code",
   "execution_count": 54,
   "id": "1d23e2cf",
   "metadata": {},
   "outputs": [
    {
     "name": "stdout",
     "output_type": "stream",
     "text": [
      "a b\n",
      "('a', 'b')\n",
      "(0, ('a', 'b'))\n",
      "0 a b\n",
      "0 a b\n"
     ]
    }
   ],
   "source": [
    "d = {'a': 'b'}\n",
    "\n",
    "for k, v in d.items():\n",
    "    print(k, v)\n",
    "\n",
    "for a in d.items():\n",
    "    print(a)\n",
    "\n",
    "for a in enumerate(d.items()):\n",
    "    print(a)\n",
    "\n",
    "for i, (k, v) in enumerate(d.items()):\n",
    "    print(i, k, v)\n",
    "\n",
    "i, (k, v) = (0, ('a', 'b'))\n",
    "print(i, k, v)"
   ]
  },
  {
   "cell_type": "code",
   "execution_count": 74,
   "id": "aa42fb70",
   "metadata": {},
   "outputs": [
    {
     "name": "stdout",
     "output_type": "stream",
     "text": [
      "[0, 1, 2, 3, 4, 5, 6, 7, 8, 9] \n",
      "\n",
      "[0, 1] [2, 3, 4, 5, 6, 7, 8, 9]\n",
      "9 8 0\n",
      "[2, 3, 4, 5, 6, 7, 8, 9] [0, 1]\n",
      "[0, 2, 4, 6, 8]\n"
     ]
    }
   ],
   "source": [
    "l = list(range(10))\n",
    "print(l, '\\n')\n",
    "\n",
    "print(l[:2], l[2:])\n",
    "\n",
    "print(l[-1], l[-2], l[-10])\n",
    "\n",
    "# rotate\n",
    "print(l[2:], l[:2])\n",
    "\n",
    "# take every nth item\n",
    "print(l[::2])"
   ]
  },
  {
   "cell_type": "code",
   "execution_count": 84,
   "id": "96dc6a50",
   "metadata": {},
   "outputs": [
    {
     "name": "stdout",
     "output_type": "stream",
     "text": [
      "{'the': 2, 'quick': 1, 'brown': 1, 'fox': 1, 'jumps': 1, 'over': 1, 'lazy': 1, 'dog.': 1}\n",
      "{'the': 2, 'quick': 1, 'brown': 1, 'fox': 1, 'jumps': 1, 'over': 1, 'lazy': 1, 'dog.': 1}\n"
     ]
    }
   ],
   "source": [
    "from collections import Counter\n",
    "\n",
    "# taken from https://www.w3resource.com/python-exercises/string/python-data-type-string-exercise-12.php\n",
    "# ew! raymond would be sad.\n",
    "def word_count(s):\n",
    "    counts = dict()\n",
    "    words = s.split()\n",
    "    for word in words:\n",
    "        if word in counts:\n",
    "            counts[word] += 1\n",
    "        else:\n",
    "            counts[word] = 1\n",
    "    return counts\n",
    "\n",
    "def word_counter(s):\n",
    "  return dict(Counter(s.split()))\n",
    "\n",
    "\n",
    "print(word_count('the quick brown fox jumps over the lazy dog.'))\n",
    "print(word_counter('the quick brown fox jumps over the lazy dog.'))"
   ]
  },
  {
   "cell_type": "code",
   "execution_count": 92,
   "id": "4e27bf38",
   "metadata": {},
   "outputs": [
    {
     "name": "stdout",
     "output_type": "stream",
     "text": [
      "2021-05-01 13:38:42.090084+00:00\n",
      "2021-05-01 23:38:42.091432+10:00\n",
      "2021-05-01T23:38:42+1000\n",
      "2021-05-01T23:38:42+10:00\n"
     ]
    }
   ],
   "source": [
    "#!/usr/bin/env python3\n",
    "\n",
    "from datetime import datetime, timezone, timedelta\n",
    "\n",
    "def current_datetime(utc_offset=0):\n",
    "     return datetime.now(timezone(timedelta(hours=utc_offset)))\n",
    "\n",
    "def convert_datetime_timezone(dt, utc_offset=0):\n",
    "    return dt.astimezone(timezone(timedelta(hours=utc_offset)))\n",
    "\n",
    "def iso8601_str1(dt):\n",
    "    return dt.strftime('%Y-%m-%dT%H:%M:%S%z')\n",
    "\n",
    "def iso8601_str2(dt):\n",
    "    return dt.replace(microsecond=0).isoformat()\n",
    "\n",
    "print(current_datetime())\n",
    "print(current_datetime(10))\n",
    "\n",
    "print()\n",
    "\n",
    "print(iso8601_str1(current_datetime(10)))\n",
    "print(iso8601_str2(current_datetime(10)))"
   ]
  },
  {
   "cell_type": "code",
   "execution_count": 101,
   "id": "af043ba5",
   "metadata": {},
   "outputs": [
    {
     "name": "stdout",
     "output_type": "stream",
     "text": [
      "False\n",
      "True\n",
      "False\n",
      "True\n",
      "False\n",
      "True\n",
      "False\n",
      "True\n",
      "False\n",
      "True\n"
     ]
    }
   ],
   "source": [
    "a = list(range(10))\n",
    "\n",
    "for i in filter(lambda x: x % 2 == 1, a):\n",
    "    print(i)"
   ]
  },
  {
   "cell_type": "code",
   "execution_count": 99,
   "id": "89f824da",
   "metadata": {},
   "outputs": [
    {
     "name": "stdout",
     "output_type": "stream",
     "text": [
      "['helloworld']\n",
      "a <class 'str'>\n",
      "('a',) <class 'tuple'>\n"
     ]
    }
   ],
   "source": [
    "a = [\n",
    "    'hello'\n",
    "    'world'\n",
    "]\n",
    "\n",
    "print(a)\n",
    "\n",
    "a = ('a')\n",
    "print(a, type(a))\n",
    "\n",
    "a = ('a',)\n",
    "print(a, type(a))"
   ]
  },
  {
   "cell_type": "code",
   "execution_count": null,
   "id": "295b811c",
   "metadata": {},
   "outputs": [],
   "source": []
  }
 ],
 "metadata": {
  "kernelspec": {
   "display_name": "Python 3",
   "language": "python",
   "name": "python3"
  },
  "language_info": {
   "codemirror_mode": {
    "name": "ipython",
    "version": 3
   },
   "file_extension": ".py",
   "mimetype": "text/x-python",
   "name": "python",
   "nbconvert_exporter": "python",
   "pygments_lexer": "ipython3",
   "version": "3.7.3"
  }
 },
 "nbformat": 4,
 "nbformat_minor": 5
}
