{
 "cells": [
  {
   "cell_type": "markdown",
   "metadata": {},
   "source": [
    "# Lesson 1: Intro to Style\n",
    "\n",
    "Code can be fast or slow, perform well or poorly, but the most important think is that it is understandable.\n",
    "\n",
    "> “Indeed, the ratio of time spent reading versus writing is well over 10 to 1. We are constantly reading old code as part of the effort to write new code. ...[Therefore,] making it easy to read makes it easier to write.”\n",
    "\n",
    "― _Robert C. Martin, Clean Code: A Handbook of Agile Software Craftsmanship_\n",
    "\n",
    "This means that it is **not good enough** if a solution is programatically elegant, but unreadable. The order of precedence goes:\n",
    "\n",
    "1. Readability\n",
    "2. Elegance\n",
    "3. Performance\n",
    "\n",
    "The aim of programming style should be to make the code as easily understandable as possible, everything else is secondary"
   ]
  },
  {
   "cell_type": "markdown",
   "metadata": {},
   "source": [
    "\n",
    "## A quick aside\n",
    "\n",
    "#### - Nothing is new in programming\n",
    "\n",
    "Programming is about _concepts_ used to rationalise problem solving.\n",
    "\n",
    "> _All of the concepts **you will ever need** have already been designed and perfected, up to decades ago_\n",
    "\n",
    "This means that searching on your own will be most successful if you **don't** include the name of the language in searches around design.\n",
    "\n",
    "___\n",
    "\n",
    "#### - Beware!\n",
    "\n",
    "> \"I suppose it is tempting, if the only tool you have is a hammer, to treat everything as if it were a nail.\"\n",
    "\n",
    "- _Abraham Maslow, 1966_ \n",
    "\n",
    "When learning design patterns it is imperative that they are not shoe-horned into code where they don't belong. For this reason, it's better to learn principles via solving a problem than to rote learn all the patterns.\n",
    "\n",
    "___\n"
   ]
  },
  {
   "cell_type": "markdown",
   "metadata": {},
   "source": [
    "## What is there to learn?\n",
    "\n",
    "Broadly, the most useful areas are\n",
    "\n",
    "* Design Principles\n",
    "* Object-Oriented Programming (OOP)\n",
    "* Testing\n",
    "* Data Structures & Algorithms (DSA)\n",
    "* Refactoring\n",
    "* Design Patterns\n",
    "\n",
    "### Some Principles\n",
    "\n",
    "* SOLID\n",
    "  (Next week's topic)\n",
    "* Law of Demeter\n",
    "  Don't chain methods\n",
    "* Liskov Substitution principle\n",
    "  > Subtype Requirement: Let **Φ(x)** be a property provable about objects x of type T. Then **Φ(y)** should be true for objects y of type S where S is a subtype of T.\n",
    "* DRY\n",
    "* Separation of concerns\n",
    "\n",
    "\n",
    "### Some Styles\n",
    "\n",
    "* Procedural\n",
    "* Object-Oriented Programming (OOP)\n",
    "* Domain-Specific Language (Rails, Django, React)\n",
    "* APIs/Interface implementation\n",
    "\n",
    "___\n"
   ]
  },
  {
   "cell_type": "markdown",
   "metadata": {},
   "source": [
    "## Interfaces\n",
    "\n",
    "All these styles are well and good, but how do we decide when to use them? Interface design can be a quick and easy way to solidify what you need from your code, and how you plan to use it.\n",
    "\n",
    "> The interface-segregation principle (ISP) states that no client should be forced to depend on methods it does not use.\n",
    "\n",
    "> ISP splits interfaces that are very large into smaller and more specific ones so that clients will only have to know about the methods that are of interest to them.\n",
    "\n",
    "> ISP is intended to keep a system decoupled and thus easier to refactor, change, and redeploy. ISP is one of the five SOLID principles of object-oriented design.\n",
    "\n",
    "\n",
    "#### Example 1:\n",
    "\n",
    "The Caesar cipher! What would our interface look like if we wanted to use this for messages?\n",
    "\n",
    "```\n",
    "encode(message, rot)\n",
    "decode(message, rot)\n",
    "```\n",
    "\n",
    "What style of coding would we choose based on this?\n",
    "\n",
    "#### Example 2:\n",
    "\n",
    "We want to launch a satellite around orbit, which we can then ask to provide us with weather data.\n",
    "\n",
    "```\n",
    "__init__(self, model, name, planned_orbit)\n",
    "\n",
    "```\n",
    "\n",
    "#### Example 3:\n",
    "\n",
    "Let's design our own interface on the fly here\n",
    "\n",
    "___\n"
   ]
  },
  {
   "cell_type": "markdown",
   "metadata": {},
   "source": [
    "## Other rules\n",
    "\n",
    "* Any method defined in your interface is **public**. Any other method inside the same class/module is **private**.\n",
    "* Only test your **public** methods"
   ]
  },
  {
   "cell_type": "markdown",
   "metadata": {},
   "source": [
    "## Interfaces in the Wild\n",
    "\n",
    "https://golang.org/pkg/encoding/csv/\n",
    "\n",
    "https://docs.python.org/3/library/csv.html\n",
    "\n",
    "https://commons.apache.org/proper/commons-csv/apidocs/org/apache/commons/csv/package-tree.html\n",
    "\n",
    "___\n"
   ]
  },
  {
   "cell_type": "markdown",
   "metadata": {},
   "source": [
    "## What next?\n",
    "\n",
    "* CompSci contains a mountain of stuff to learn, just have to chip away\n",
    "* POODR\n",
    "* Personal project, non work-related, in a new programming language\n",
    "  * Pick a problem to solve!\n",
    "  * Pick a language that would suit the task that you're interested in learning\n",
    "    * Rust\n",
    "    * Haskell\n",
    "    * C++\n",
    "    * Go\n",
    "    * Java\n",
    "    * Javascript"
   ]
  }
 ],
 "metadata": {
  "kernelspec": {
   "display_name": "Python 3",
   "language": "python",
   "name": "python3"
  },
  "language_info": {
   "codemirror_mode": {
    "name": "ipython",
    "version": 3
   },
   "file_extension": ".py",
   "mimetype": "text/x-python",
   "name": "python",
   "nbconvert_exporter": "python",
   "pygments_lexer": "ipython3",
   "version": "3.6.5"
  }
 },
 "nbformat": 4,
 "nbformat_minor": 2
}
