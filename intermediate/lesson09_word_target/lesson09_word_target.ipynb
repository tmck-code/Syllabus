{
 "cells": [
  {
   "cell_type": "markdown",
   "id": "d9bbd75f-4f56-4a66-be08-6e25923e7e3e",
   "metadata": {},
   "source": [
    "Setup method (grabs 9-letter words)"
   ]
  },
  {
   "cell_type": "code",
   "execution_count": 1,
   "id": "bc3ac2ba-d633-48dc-b846-45c8716898fc",
   "metadata": {},
   "outputs": [],
   "source": [
    "import urllib.request\n",
    "def get_words():\n",
    "    urllib.request.urlretrieve(\"https://github.com/dwyl/english-words/raw/master/words_alpha.txt\", \"words_alpha.txt\")\n",
    "    with open('words_alpha.txt', 'r') as istream:\n",
    "        for line in map(str.strip, istream):\n",
    "            if len(line) == 9:\n",
    "                yield line"
   ]
  },
  {
   "cell_type": "code",
   "execution_count": 2,
   "id": "0bdacbea-1ddc-4e0d-8de3-1fe1b50b0430",
   "metadata": {},
   "outputs": [
    {
     "name": "stdout",
     "output_type": "stream",
     "text": [
      "\u001b[38;2;137;221;255m[\u001b[39m\n",
      "\u001b[38;2;238;255;255m  \u001b[39m\u001b[38;2;195;232;141m\"abactinal\"\u001b[39m\u001b[38;2;137;221;255m,\u001b[39m\n",
      "\u001b[38;2;238;255;255m  \u001b[39m\u001b[38;2;195;232;141m\"abalation\"\u001b[39m\u001b[38;2;137;221;255m,\u001b[39m\n",
      "\u001b[38;2;238;255;255m  \u001b[39m\u001b[38;2;195;232;141m\"aasvogels\"\u001b[39m\u001b[38;2;137;221;255m,\u001b[39m\n",
      "\u001b[38;2;238;255;255m  \u001b[39m\u001b[38;2;195;232;141m\"abacinate\"\u001b[39m\u001b[38;2;137;221;255m,\u001b[39m\n",
      "\u001b[38;2;238;255;255m  \u001b[39m\u001b[38;2;195;232;141m\"aardvarks\"\u001b[39m\u001b[38;2;137;221;255m,\u001b[39m\n",
      "\u001b[38;2;238;255;255m  \u001b[39m\u001b[38;2;195;232;141m\"abandoner\"\u001b[39m\u001b[38;2;137;221;255m,\u001b[39m\n",
      "\u001b[38;2;238;255;255m  \u001b[39m\u001b[38;2;195;232;141m\"aaronitic\"\u001b[39m\u001b[38;2;137;221;255m,\u001b[39m\n",
      "\u001b[38;2;238;255;255m  \u001b[39m\u001b[38;2;195;232;141m\"abaisance\"\u001b[39m\u001b[38;2;137;221;255m,\u001b[39m\n",
      "\u001b[38;2;238;255;255m  \u001b[39m\u001b[38;2;195;232;141m\"abandonee\"\u001b[39m\u001b[38;2;137;221;255m,\u001b[39m\n",
      "\u001b[38;2;238;255;255m  \u001b[39m\u001b[38;2;195;232;141m\"abaciscus\"\u001b[39m\u001b[38;2;137;221;255m,\u001b[39m\n",
      "\u001b[38;2;238;255;255m  \u001b[39m\u001b[38;2;195;232;141m\"abandoned\"\u001b[39m\u001b[38;2;137;221;255m,\u001b[39m\n",
      "\u001b[38;2;238;255;255m  \u001b[39m\u001b[38;2;195;232;141m\"abamperes\"\u001b[39m\u001b[38;2;137;221;255m,\u001b[39m\n",
      "\u001b[38;2;238;255;255m  \u001b[39m\u001b[38;2;195;232;141m\"aaronical\"\u001b[39m\n",
      "\u001b[38;2;137;221;255m]\u001b[39m\n"
     ]
    }
   ],
   "source": [
    "from vis_utils import *\n",
    "from itertools import islice\n",
    "\n",
    "ppd(set(islice(get_words(), 13)))"
   ]
  },
  {
   "cell_type": "markdown",
   "id": "3f42b85a-150e-4aa0-917b-4328a4f1c5e8",
   "metadata": {},
   "source": [
    "class / method interface"
   ]
  },
  {
   "cell_type": "code",
   "execution_count": 3,
   "id": "4c0add15-ff14-4b8d-b722-05c085952edf",
   "metadata": {},
   "outputs": [],
   "source": [
    "from dataclasses import dataclass\n",
    "\n",
    "class Solver:\n",
    "    def __init__(self, words):\n",
    "        pass\n",
    "\n",
    "    def solve(self, puzzle: str) -> str:\n",
    "        pass"
   ]
  },
  {
   "cell_type": "code",
   "execution_count": 4,
   "id": "6af34a02-b10a-49fd-b936-b70dde247c1f",
   "metadata": {},
   "outputs": [],
   "source": [
    "Solver(get_words()).solve('IELGAPPAN')\n",
    "# -> APPEALING"
   ]
  },
  {
   "cell_type": "code",
   "execution_count": 5,
   "id": "89956d4a-1478-48a6-9a09-857522ab3147",
   "metadata": {},
   "outputs": [],
   "source": [
    "from itertools import permutations\n",
    "class MySolver(Solver):\n",
    "    def __init__(self, words):\n",
    "        self.words = set(words)\n",
    "        \n",
    "    def solve(self, puzzle: str):\n",
    "        seen = []\n",
    "        for possible in permutations(puzzle.lower()):\n",
    "            if ''.join(possible) in self.words:\n",
    "                result = ''.join(possible)\n",
    "                if result not in seen:\n",
    "                    yield result\n",
    "                    seen.append(result)"
   ]
  },
  {
   "cell_type": "code",
   "execution_count": null,
   "id": "55f65989-5135-48c5-bcb8-22d59a5a29aa",
   "metadata": {},
   "outputs": [],
   "source": [
    "MySolver(get_words()).solve('IELGAPPAN')"
   ]
  },
  {
   "cell_type": "code",
   "execution_count": null,
   "id": "50c206bb-66a8-47ac-866f-6bfe04fc1566",
   "metadata": {},
   "outputs": [],
   "source": [
    "%load_ext memory_profiler\n",
    "\n",
    "%timeit list(MySolver(get_words()).solve('IELGAPPAN'))\n",
    "%memit list(MySolver(get_words()).solve('IELGAPPAN'))\n",
    "\n",
    "solver = MySolver(get_words())\n",
    "%timeit list(solver.solve('IELGAPPAN'))\n",
    "%memit list(solver.solve('IELGAPPAN'))"
   ]
  },
  {
   "cell_type": "markdown",
   "id": "44e443ba-3718-4afa-9bc1-a0e47038d59a",
   "metadata": {},
   "source": [
    "Implement you own solution! aim for low time, low memory, or both!"
   ]
  },
  {
   "cell_type": "markdown",
   "id": "1b68d807-3100-44b0-98f8-d7c95173e6fc",
   "metadata": {
    "tags": []
   },
   "source": [
    "## My Solution\n",
    "\n",
    "I'm going to need my own permutation function so that I can hook into the behaviour"
   ]
  },
  {
   "cell_type": "code",
   "execution_count": 17,
   "id": "30d74e6f-d182-48ad-99d6-ae7ec04c8afd",
   "metadata": {},
   "outputs": [],
   "source": [
    "def perm(a):\n",
    "    def sub(i):\n",
    "        if i == len(a) - 1:\n",
    "            yield tuple(a)\n",
    "        else:\n",
    "            for k in range(i, len(a)):\n",
    "                a[i], a[k] = a[k], a[i]\n",
    "                yield from sub(i + 1)\n",
    "                a[i], a[k] = a[k], a[i]\n",
    "    yield from sub(0)"
   ]
  },
  {
   "cell_type": "code",
   "execution_count": 20,
   "id": "ff744113-91f9-4db1-b1c5-60361d462d3f",
   "metadata": {},
   "outputs": [
    {
     "data": {
      "text/plain": [
       "[('l', 's', 'k', 'd'),\n",
       " ('l', 's', 'd', 'k'),\n",
       " ('l', 'k', 's', 'd'),\n",
       " ('l', 'k', 'd', 's'),\n",
       " ('l', 'd', 'k', 's'),\n",
       " ('l', 'd', 's', 'k'),\n",
       " ('s', 'l', 'k', 'd'),\n",
       " ('s', 'l', 'd', 'k'),\n",
       " ('s', 'k', 'l', 'd'),\n",
       " ('s', 'k', 'd', 'l'),\n",
       " ('s', 'd', 'k', 'l'),\n",
       " ('s', 'd', 'l', 'k'),\n",
       " ('k', 's', 'l', 'd'),\n",
       " ('k', 's', 'd', 'l'),\n",
       " ('k', 'l', 's', 'd'),\n",
       " ('k', 'l', 'd', 's'),\n",
       " ('k', 'd', 'l', 's'),\n",
       " ('k', 'd', 's', 'l'),\n",
       " ('d', 's', 'k', 'l'),\n",
       " ('d', 's', 'l', 'k'),\n",
       " ('d', 'k', 's', 'l'),\n",
       " ('d', 'k', 'l', 's'),\n",
       " ('d', 'l', 'k', 's'),\n",
       " ('d', 'l', 's', 'k')]"
      ]
     },
     "execution_count": 20,
     "metadata": {},
     "output_type": "execute_result"
    }
   ],
   "source": [
    "list(perm(list('lskd')))"
   ]
  },
  {
   "cell_type": "code",
   "execution_count": null,
   "id": "f6d80f1b-e2d0-493c-999b-48d32e7f66bb",
   "metadata": {},
   "outputs": [],
   "source": [
    "from itertools import permutations\n",
    "\n",
    "class MySolver(Solver):\n",
    "    def __init__(self, words):\n",
    "        self.words, self.mapping = set(words), set()\n",
    "        for w in self.words:\n",
    "            if len(w) == 9:\n",
    "                self.mapping.add(w[:2])\n",
    "        \n",
    "    def solve(self, puzzle: str):\n",
    "        seen = []\n",
    "        for possible in permutations(puzzle.lower()):\n",
    "            if ''.join(possible) in self.words:\n",
    "                result = ''.join(possible)\n",
    "                if result not in seen:\n",
    "                    yield result\n",
    "                    seen.append(result)\n",
    "\n",
    "    def _permute(self, puzzle: str):\n",
    "        mappings = set()\n",
    "        \n",
    "        for ch1 in puzzle:\n",
    "            for ch2 in puzzle:\n",
    "                if (ch1, ch2) not in self.mappings:\n",
    "                    continue\n",
    "                for perm in permutations(\n",
    "\n",
    "        for perm in permutations(puzzle):\n",
    "            h1, h2, *tail = puzzle\n",
    "\n",
    "            if mapping in self.mapping:\n",
    "                for perm in permutations("
   ]
  }
 ],
 "metadata": {
  "kernelspec": {
   "display_name": "Python 3 (ipykernel)",
   "language": "python",
   "name": "python3"
  },
  "language_info": {
   "codemirror_mode": {
    "name": "ipython",
    "version": 3
   },
   "file_extension": ".py",
   "mimetype": "text/x-python",
   "name": "python",
   "nbconvert_exporter": "python",
   "pygments_lexer": "ipython3",
   "version": "3.10.4"
  }
 },
 "nbformat": 4,
 "nbformat_minor": 5
}
