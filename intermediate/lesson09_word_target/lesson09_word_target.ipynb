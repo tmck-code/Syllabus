{
 "cells": [
  {
   "cell_type": "markdown",
   "id": "d9bbd75f-4f56-4a66-be08-6e25923e7e3e",
   "metadata": {},
   "source": [
    "Setup method (grabs 9-letter words)"
   ]
  },
  {
   "cell_type": "code",
   "execution_count": 1,
   "id": "bc3ac2ba-d633-48dc-b846-45c8716898fc",
   "metadata": {},
   "outputs": [],
   "source": [
    "import urllib.request\n",
    "def get_words():\n",
    "    urllib.request.urlretrieve(\"https://github.com/dwyl/english-words/raw/master/words_alpha.txt\", \"words_alpha.txt\")\n",
    "    with open('words_alpha.txt', 'r') as istream:\n",
    "        for line in map(str.strip, istream):\n",
    "            if len(line) == 9:\n",
    "                yield line"
   ]
  },
  {
   "cell_type": "code",
   "execution_count": 2,
   "id": "0bdacbea-1ddc-4e0d-8de3-1fe1b50b0430",
   "metadata": {},
   "outputs": [
    {
     "name": "stdout",
     "output_type": "stream",
     "text": [
      "\u001b[38;2;137;221;255m[\u001b[39m\n",
      "\u001b[38;2;238;255;255m  \u001b[39m\u001b[38;2;195;232;141m\"abaisance\"\u001b[39m\u001b[38;2;137;221;255m,\u001b[39m\n",
      "\u001b[38;2;238;255;255m  \u001b[39m\u001b[38;2;195;232;141m\"aaronical\"\u001b[39m\u001b[38;2;137;221;255m,\u001b[39m\n",
      "\u001b[38;2;238;255;255m  \u001b[39m\u001b[38;2;195;232;141m\"abandoner\"\u001b[39m\u001b[38;2;137;221;255m,\u001b[39m\n",
      "\u001b[38;2;238;255;255m  \u001b[39m\u001b[38;2;195;232;141m\"abacinate\"\u001b[39m\u001b[38;2;137;221;255m,\u001b[39m\n",
      "\u001b[38;2;238;255;255m  \u001b[39m\u001b[38;2;195;232;141m\"abaciscus\"\u001b[39m\u001b[38;2;137;221;255m,\u001b[39m\n",
      "\u001b[38;2;238;255;255m  \u001b[39m\u001b[38;2;195;232;141m\"aardvarks\"\u001b[39m\u001b[38;2;137;221;255m,\u001b[39m\n",
      "\u001b[38;2;238;255;255m  \u001b[39m\u001b[38;2;195;232;141m\"abandonee\"\u001b[39m\u001b[38;2;137;221;255m,\u001b[39m\n",
      "\u001b[38;2;238;255;255m  \u001b[39m\u001b[38;2;195;232;141m\"aasvogels\"\u001b[39m\u001b[38;2;137;221;255m,\u001b[39m\n",
      "\u001b[38;2;238;255;255m  \u001b[39m\u001b[38;2;195;232;141m\"abactinal\"\u001b[39m\u001b[38;2;137;221;255m,\u001b[39m\n",
      "\u001b[38;2;238;255;255m  \u001b[39m\u001b[38;2;195;232;141m\"abalation\"\u001b[39m\u001b[38;2;137;221;255m,\u001b[39m\n",
      "\u001b[38;2;238;255;255m  \u001b[39m\u001b[38;2;195;232;141m\"abandoned\"\u001b[39m\u001b[38;2;137;221;255m,\u001b[39m\n",
      "\u001b[38;2;238;255;255m  \u001b[39m\u001b[38;2;195;232;141m\"abamperes\"\u001b[39m\u001b[38;2;137;221;255m,\u001b[39m\n",
      "\u001b[38;2;238;255;255m  \u001b[39m\u001b[38;2;195;232;141m\"aaronitic\"\u001b[39m\n",
      "\u001b[38;2;137;221;255m]\u001b[39m\n"
     ]
    }
   ],
   "source": [
    "from vis_utils import *\n",
    "from itertools import islice\n",
    "\n",
    "ppd(set(islice(get_words(), 13)))"
   ]
  },
  {
   "cell_type": "markdown",
   "id": "3f42b85a-150e-4aa0-917b-4328a4f1c5e8",
   "metadata": {},
   "source": [
    "class / method interface"
   ]
  },
  {
   "cell_type": "code",
   "execution_count": 3,
   "id": "4c0add15-ff14-4b8d-b722-05c085952edf",
   "metadata": {},
   "outputs": [],
   "source": [
    "from dataclasses import dataclass\n",
    "\n",
    "class Solver:\n",
    "    def __init__(self, words):\n",
    "        pass\n",
    "\n",
    "    def solve(self, puzzle: str) -> str:\n",
    "        pass"
   ]
  },
  {
   "cell_type": "code",
   "execution_count": 4,
   "id": "6af34a02-b10a-49fd-b936-b70dde247c1f",
   "metadata": {},
   "outputs": [],
   "source": [
    "Solver(get_words()).solve('IELGAPPAN')\n",
    "# -> APPEALING"
   ]
  },
  {
   "cell_type": "code",
   "execution_count": 5,
   "id": "89956d4a-1478-48a6-9a09-857522ab3147",
   "metadata": {},
   "outputs": [],
   "source": [
    "from itertools import permutations\n",
    "\n",
    "class MySolver(Solver):\n",
    "    def __init__(self, words):\n",
    "        self.words = set(words)\n",
    "        \n",
    "    def solve(self, puzzle: str):\n",
    "        seen = []\n",
    "        for possible in permutations(puzzle.lower()):\n",
    "            if ''.join(possible) in self.words:\n",
    "                result = ''.join(possible)\n",
    "                if result not in seen:\n",
    "                    yield result\n",
    "                    seen.append(result)"
   ]
  },
  {
   "cell_type": "code",
   "execution_count": 6,
   "id": "55f65989-5135-48c5-bcb8-22d59a5a29aa",
   "metadata": {},
   "outputs": [
    {
     "data": {
      "text/plain": [
       "['lagniappe', 'appealing', 'panplegia']"
      ]
     },
     "execution_count": 6,
     "metadata": {},
     "output_type": "execute_result"
    }
   ],
   "source": [
    "list(MySolver(get_words()).solve('IELGAPPAN'))"
   ]
  },
  {
   "cell_type": "code",
   "execution_count": 7,
   "id": "50c206bb-66a8-47ac-866f-6bfe04fc1566",
   "metadata": {},
   "outputs": [
    {
     "name": "stdout",
     "output_type": "stream",
     "text": [
      "1.86 s ± 153 ms per loop (mean ± std. dev. of 7 runs, 1 loop each)\n",
      "peak memory: 137.03 MiB, increment: 0.71 MiB\n",
      "540 ms ± 2.78 ms per loop (mean ± std. dev. of 7 runs, 1 loop each)\n",
      "peak memory: 137.44 MiB, increment: 0.00 MiB\n"
     ]
    }
   ],
   "source": [
    "%load_ext memory_profiler\n",
    "\n",
    "%timeit list(MySolver(get_words()).solve('IELGAPPAN'))\n",
    "%memit list(MySolver(get_words()).solve('IELGAPPAN'))\n",
    "\n",
    "solver = MySolver(get_words())\n",
    "%timeit list(solver.solve('IELGAPPAN'))\n",
    "%memit list(solver.solve('IELGAPPAN'))"
   ]
  },
  {
   "cell_type": "markdown",
   "id": "44e443ba-3718-4afa-9bc1-a0e47038d59a",
   "metadata": {},
   "source": [
    "Implement you own solution! aim for low time, low memory, or both!"
   ]
  },
  {
   "cell_type": "markdown",
   "id": "1b68d807-3100-44b0-98f8-d7c95173e6fc",
   "metadata": {
    "tags": []
   },
   "source": [
    "## My Solution\n",
    "\n",
    "I'm going to need my own permutation function so that I can hook into the behaviour"
   ]
  },
  {
   "cell_type": "code",
   "execution_count": 8,
   "id": "30d74e6f-d182-48ad-99d6-ae7ec04c8afd",
   "metadata": {},
   "outputs": [],
   "source": [
    "def perm(a):\n",
    "    def sub(i):\n",
    "        if i == len(a) - 1:\n",
    "            yield tuple(a)\n",
    "        else:\n",
    "            for k in range(i, len(a)):\n",
    "                a[i], a[k] = a[k], a[i]\n",
    "                yield from sub(i + 1)\n",
    "                a[i], a[k] = a[k], a[i]\n",
    "    yield from sub(0)"
   ]
  },
  {
   "cell_type": "code",
   "execution_count": 9,
   "id": "ff744113-91f9-4db1-b1c5-60361d462d3f",
   "metadata": {},
   "outputs": [
    {
     "data": {
      "text/plain": [
       "[('l', 's', 'k'),\n",
       " ('l', 'k', 's'),\n",
       " ('s', 'l', 'k'),\n",
       " ('s', 'k', 'l'),\n",
       " ('k', 's', 'l'),\n",
       " ('k', 'l', 's')]"
      ]
     },
     "execution_count": 9,
     "metadata": {},
     "output_type": "execute_result"
    }
   ],
   "source": [
    "list(perm(list('lsk')))"
   ]
  },
  {
   "cell_type": "code",
   "execution_count": 10,
   "id": "9dc71e2b-9352-4138-b1a3-3938e7ad5021",
   "metadata": {},
   "outputs": [],
   "source": [
    "'''\n",
    "Let's make a version to hook into that can skip a permutation branch if the first 2 chars don't seem good\n",
    "'''\n",
    "\n",
    "\n",
    "def perm(a, mapping):\n",
    "    def sub(i):\n",
    "        if i == 2:\n",
    "            print(''.join(a[:2]), mapping)\n",
    "            if ''.join(a[:2]) not in mapping:\n",
    "                return\n",
    "        if i == len(a) - 1:\n",
    "            yield tuple(a)\n",
    "        else:\n",
    "            for k in range(i, len(a)):\n",
    "                a[i], a[k] = a[k], a[i]\n",
    "                yield from sub(i + 1)\n",
    "                a[i], a[k] = a[k], a[i]\n",
    "    yield from sub(0)"
   ]
  },
  {
   "cell_type": "code",
   "execution_count": 11,
   "id": "743a70e2-04af-494c-a09c-535038804fcf",
   "metadata": {},
   "outputs": [
    {
     "name": "stdout",
     "output_type": "stream",
     "text": [
      "ab ['ac']\n",
      "ac ['ac']\n",
      "ad ['ac']\n",
      "ba ['ac']\n",
      "bc ['ac']\n",
      "bd ['ac']\n",
      "cb ['ac']\n",
      "ca ['ac']\n",
      "cd ['ac']\n",
      "db ['ac']\n",
      "dc ['ac']\n",
      "da ['ac']\n"
     ]
    },
    {
     "data": {
      "text/plain": [
       "[('a', 'c', 'b', 'd'), ('a', 'c', 'd', 'b')]"
      ]
     },
     "execution_count": 11,
     "metadata": {},
     "output_type": "execute_result"
    }
   ],
   "source": [
    "list(perm(list('abcd'), ['ac']))"
   ]
  },
  {
   "cell_type": "code",
   "execution_count": 12,
   "id": "f6d80f1b-e2d0-493c-999b-48d32e7f66bb",
   "metadata": {},
   "outputs": [],
   "source": [
    "from itertools import permutations\n",
    "\n",
    "class MySolver2(Solver):\n",
    "    def __init__(self, words):\n",
    "        self.words, self.mapping = set(words), set()\n",
    "        for w in self.words:\n",
    "            if len(w) == 9:\n",
    "                self.mapping.add(w[:2])\n",
    "        \n",
    "    def solve(self, puzzle: str):\n",
    "        seen = []\n",
    "        for possible in self.perm(list(puzzle.lower())):\n",
    "            if ''.join(possible) in self.words:\n",
    "                result = ''.join(possible)\n",
    "                if result not in seen:\n",
    "                    yield result\n",
    "                    seen.append(result)\n",
    "\n",
    "    def perm(self, a):\n",
    "        def sub(i):\n",
    "            if i == 2:\n",
    "                # print(''.join(a[:2]), mapping)\n",
    "                if ''.join(a[:2]) not in self.mapping:\n",
    "                    return\n",
    "            if i == len(a) - 1:\n",
    "                yield tuple(a)\n",
    "            else:\n",
    "                for k in range(i, len(a)):\n",
    "                    a[i], a[k] = a[k], a[i]\n",
    "                    yield from sub(i + 1)\n",
    "                    a[i], a[k] = a[k], a[i]\n",
    "        yield from sub(0)"
   ]
  },
  {
   "cell_type": "code",
   "execution_count": 13,
   "id": "7c379b7e-3098-4cec-a48f-bed9476a639d",
   "metadata": {},
   "outputs": [
    {
     "data": {
      "text/plain": [
       "['lagniappe', 'appealing', 'panplegia']"
      ]
     },
     "execution_count": 13,
     "metadata": {},
     "output_type": "execute_result"
    }
   ],
   "source": [
    "list(MySolver2(get_words()).solve('IELGAPPAN'))"
   ]
  },
  {
   "cell_type": "code",
   "execution_count": 15,
   "id": "a2bdef85-0e25-41cf-b589-1b7eeca50b3b",
   "metadata": {},
   "outputs": [],
   "source": [
    "s = MySolver(get_words())\n",
    "s2 = MySolver2(get_words())"
   ]
  },
  {
   "cell_type": "code",
   "execution_count": 16,
   "id": "14a51039-bf56-43c6-878a-678d897f236b",
   "metadata": {},
   "outputs": [
    {
     "name": "stdout",
     "output_type": "stream",
     "text": [
      "542 ms ± 4.61 ms per loop (mean ± std. dev. of 7 runs, 1 loop each)\n",
      "1.18 s ± 2.48 ms per loop (mean ± std. dev. of 7 runs, 1 loop each)\n"
     ]
    }
   ],
   "source": [
    "%timeit list(s.solve('KDJSNDILK'))\n",
    "%timeit list(s2.solve('KDJSNDILK'))"
   ]
  }
 ],
 "metadata": {
  "kernelspec": {
   "display_name": "Python 3 (ipykernel)",
   "language": "python",
   "name": "python3"
  },
  "language_info": {
   "codemirror_mode": {
    "name": "ipython",
    "version": 3
   },
   "file_extension": ".py",
   "mimetype": "text/x-python",
   "name": "python",
   "nbconvert_exporter": "python",
   "pygments_lexer": "ipython3",
   "version": "3.10.4"
  }
 },
 "nbformat": 4,
 "nbformat_minor": 5
}
