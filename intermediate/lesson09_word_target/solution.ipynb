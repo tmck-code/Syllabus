{
 "cells": [
  {
   "cell_type": "markdown",
   "id": "118276a6-92c7-4047-aff9-05a913cef1fe",
   "metadata": {},
   "source": [
    "# Solution\n",
    "\n",
    "> Official python docs: [https://docs.python.org/3/library/itertools.html#itertools.permutations](https://docs.python.org/3/library/itertools.html#itertools.permutations)"
   ]
  },
  {
   "cell_type": "markdown",
   "id": "8884517a-68a3-4fc8-85ee-2882a59ea061",
   "metadata": {},
   "source": [
    "## 1. define permutation function"
   ]
  },
  {
   "cell_type": "code",
   "execution_count": null,
   "id": "a368e02b-7298-4b08-ab39-f135775266e1",
   "metadata": {},
   "outputs": [],
   "source": [
    "def permutations(iterable, r=None):\n",
    "    # permutations('ABCD', 2) --> AB AC AD BA BC BD CA CB CD DA DB DC\n",
    "    # permutations(range(3)) --> 012 021 102 120 201 210\n",
    "\n",
    "    pool = tuple(iterable)\n",
    "    n = len(pool)\n",
    "    r = n if r is None else r\n",
    "    if r > n:\n",
    "        return\n",
    "    indices = list(range(n))\n",
    "    cycles = list(range(n, n-r, -1))\n",
    "    yield tuple(pool[i] for i in indices[:r])\n",
    "    while n:\n",
    "        for i in reversed(range(r)):\n",
    "            cycles[i] -= 1\n",
    "            if cycles[i] == 0:\n",
    "                indices[i:] = indices[i+1:] + indices[i:i+1]\n",
    "                cycles[i] = n - i\n",
    "            else:\n",
    "                j = cycles[i]\n",
    "                indices[i], indices[-j] = indices[-j], indices[i]\n",
    "                yield tuple(pool[i] for i in indices[:r])\n",
    "                break\n",
    "        else:\n",
    "            return"
   ]
  },
  {
   "cell_type": "markdown",
   "id": "a8d95c02-8b6c-4c78-b1c3-3a9e36b48295",
   "metadata": {},
   "source": [
    "## 2. unit tests\n",
    "\n",
    "Let's modify this function to include our desired behaviour.\n",
    "\n",
    "But first, to make this easy, let's make a test to make sure our function is working correctly"
   ]
  },
  {
   "cell_type": "code",
   "execution_count": null,
   "id": "f1a9fbe0-e896-4d51-ad4c-b4abd111431b",
   "metadata": {},
   "outputs": [],
   "source": [
    "def test_permutations(permutation_func):\n",
    "    result = list(permutation_func(\n",
    "        'abc',\n",
    "        r=3,\n",
    "    ))\n",
    "    expected = [\n",
    "        ('a', 'b', 'c'),\n",
    "        ('a', 'c', 'b'),\n",
    "        ('b', 'a', 'c'),\n",
    "        ('b', 'c', 'a'),\n",
    "        ('c', 'a', 'b'),\n",
    "        ('c', 'b', 'a'),\n",
    "    ]\n",
    "    assert expected == result, f'{expected} != {result}'\n",
    "\n",
    "def test_permutations_mapping(permutation_func):\n",
    "    result = list(permutation_func(\n",
    "        'abcd',\n",
    "        r=4,\n",
    "        mapping=[('a', 'c')],\n",
    "    ))\n",
    "    expected = [\n",
    "        ('a', 'c', 'b', 'd'),\n",
    "        ('a', 'c', 'd', 'b'),\n",
    "    ]\n",
    "    assert expected == result, f'{expected} != {result}'\n",
    "    \n",
    "def test_func(f):\n",
    "    test_permutations(f)\n",
    "    test_permutations_mapping(f)"
   ]
  },
  {
   "cell_type": "code",
   "execution_count": null,
   "id": "7e7dbbc2-aeab-4ce0-a7ee-a6b365e3abe4",
   "metadata": {},
   "outputs": [],
   "source": [
    "def permutations(iterable, r=None, mapping=[]):\n",
    "    # permutations('ABCD', 2) --> AB AC AD BA BC BD CA CB CD DA DB DC\n",
    "    # permutations(range(3)) --> 012 021 102 120 201 210\n",
    "\n",
    "    pool = tuple(iterable)\n",
    "    n = len(pool)\n",
    "    r = n if r is None else r\n",
    "    if r > n:\n",
    "        return\n",
    "    indices = list(range(n))\n",
    "    cycles = list(range(n, n-r, -1))\n",
    "    yield tuple(pool[i] for i in indices[:r])\n",
    "    while n:\n",
    "        for i in reversed(range(r)):\n",
    "            cycles[i] -= 1\n",
    "            if cycles[i] == 0:\n",
    "                indices[i:] = indices[i+1:] + indices[i:i+1]\n",
    "                cycles[i] = n - i\n",
    "            else:\n",
    "                j = cycles[i]\n",
    "                indices[i], indices[-j] = indices[-j], indices[i]\n",
    "                yield tuple(pool[i] for i in indices[:r])\n",
    "                break\n",
    "        else:\n",
    "            return"
   ]
  },
  {
   "cell_type": "code",
   "execution_count": null,
   "id": "ff08f0f5-8a0d-4590-9114-f775fd5a78d4",
   "metadata": {},
   "outputs": [],
   "source": [
    "test_permutations_mapping(permutations)"
   ]
  },
  {
   "cell_type": "markdown",
   "id": "c0a9371c-b011-4a80-b91c-40c56dfdc816",
   "metadata": {
    "tags": []
   },
   "source": [
    "### 2.1. Customise function\n",
    "\n",
    "Cool! Now that we have our failing test, let's update the code to work as we would like"
   ]
  },
  {
   "cell_type": "code",
   "execution_count": null,
   "id": "47ffe6b5-830f-47e3-8ec1-fc442593b1c1",
   "metadata": {},
   "outputs": [],
   "source": [
    "list(permutations('abc', r=3, mapping=[('a',)]))"
   ]
  },
  {
   "cell_type": "code",
   "execution_count": null,
   "id": "2dfd086f-94a1-49e7-9986-d63493dcbdd6",
   "metadata": {},
   "outputs": [],
   "source": [
    "def permutations(iterable, r=None, mapping=[]):\n",
    "    # permutations('ABCD', 2) --> AB AC AD BA BC BD CA CB CD DA DB DC\n",
    "    # permutations(range(3)) --> 012 021 102 120 201 210\n",
    "\n",
    "    pool = tuple(iterable)\n",
    "    n = len(pool)\n",
    "    r = n if r is None else r\n",
    "    if r > n:\n",
    "        return\n",
    "    indices = list(range(n))\n",
    "    cycles = list(range(n, n-r, -1))\n",
    "    \n",
    "    option = tuple(pool[i] for i in indices[:r])\n",
    "\n",
    "    if mapping:\n",
    "        for m in mapping:\n",
    "            # print('->', m, option, option[:len(m)])\n",
    "            if m == option[:len(m)]:\n",
    "                # print('✓', option)\n",
    "                yield option\n",
    "    else:\n",
    "        yield option\n",
    "\n",
    "    while n:\n",
    "        for i in reversed(range(r)):\n",
    "            cycles[i] -= 1\n",
    "            if cycles[i] == 0:\n",
    "                indices[i:] = indices[i+1:] + indices[i:i+1]\n",
    "                cycles[i] = n - i\n",
    "            else:\n",
    "                j = cycles[i]\n",
    "                indices[i], indices[-j] = indices[-j], indices[i]\n",
    "                option = tuple(pool[i] for i in indices[:r])\n",
    "                # print('->', option)\n",
    "\n",
    "                if mapping:\n",
    "                    for m in mapping:\n",
    "                        # print('->', m, option, option[:len(m)])\n",
    "                        if m == option[:len(m)]:\n",
    "                            # print('✓', option)\n",
    "                            yield option\n",
    "                else:\n",
    "                    yield option\n",
    "                break\n",
    "        else:\n",
    "            return"
   ]
  },
  {
   "cell_type": "code",
   "execution_count": null,
   "id": "85e51e7a-e97d-463d-93b9-f2aa99e340b5",
   "metadata": {},
   "outputs": [],
   "source": [
    "list(permutations('abc', r=3, mapping=[('a',)]))"
   ]
  },
  {
   "cell_type": "code",
   "execution_count": null,
   "id": "5e43eb3e-89a6-4b42-8c27-8cc40b7392aa",
   "metadata": {},
   "outputs": [],
   "source": [
    "list(permutations('abcd', r=4, mapping=[('a', 'c')]))"
   ]
  },
  {
   "cell_type": "code",
   "execution_count": null,
   "id": "884bf559-e54a-47fb-acb3-eec635ae77a8",
   "metadata": {},
   "outputs": [],
   "source": [
    "list(permutations('abc'))"
   ]
  },
  {
   "cell_type": "code",
   "execution_count": null,
   "id": "6df82f57-804a-449d-a285-a9b16e0d423a",
   "metadata": {},
   "outputs": [],
   "source": [
    "test_func(permutations)"
   ]
  },
  {
   "cell_type": "code",
   "execution_count": null,
   "id": "5f0c3f9d-a043-4fba-8db0-14eba00f3cef",
   "metadata": {},
   "outputs": [],
   "source": [
    "import urllib.request\n",
    "def get_words():\n",
    "    urllib.request.urlretrieve(\"https://github.com/dwyl/english-words/raw/master/words_alpha.txt\", \"words_alpha.txt\")\n",
    "    with open('words_alpha.txt', 'r') as istream:\n",
    "        for line in map(str.strip, istream):\n",
    "            if len(line) == 9:\n",
    "                yield line"
   ]
  },
  {
   "cell_type": "code",
   "execution_count": null,
   "id": "8fba3b97-a03e-4e72-9e90-0d58104b9c48",
   "metadata": {},
   "outputs": [],
   "source": [
    "from dataclasses import dataclass\n",
    "\n",
    "class Solver:\n",
    "    def __init__(self, words):\n",
    "        pass\n",
    "\n",
    "    def solve(self, puzzle: str) -> str:\n",
    "        pass\n",
    "\n",
    "class MySolver(Solver):\n",
    "    def __init__(self, words):\n",
    "        self.words = set(words)\n",
    "        self.mappings = set()\n",
    "        for word in self.words:\n",
    "            self.mappings.add(tuple(word[:2]))\n",
    "        \n",
    "    def solve(self, puzzle: str):\n",
    "        seen = []\n",
    "        # options = list(permutations(puzzle.lower(), r=9, mapping=list(self.mappings)))\n",
    "        options = list(permutations(puzzle.lower(), r=9))\n",
    "        print('->', len(options), options)\n",
    "        for possible in options:\n",
    "            if ''.join(possible) in self.words:\n",
    "                result = ''.join(possible)\n",
    "                if result not in seen:\n",
    "                    yield result\n",
    "                    seen.append(result)"
   ]
  },
  {
   "cell_type": "code",
   "execution_count": null,
   "id": "9135273a-c777-4fac-bc1b-7a080531ba36",
   "metadata": {},
   "outputs": [],
   "source": [
    "s = MySolver(get_words())"
   ]
  },
  {
   "cell_type": "code",
   "execution_count": null,
   "id": "9c3e909f-fb86-403d-bbf2-166c7677920b",
   "metadata": {},
   "outputs": [],
   "source": [
    "result = list(s.solve('appealign'))"
   ]
  },
  {
   "cell_type": "code",
   "execution_count": null,
   "id": "cced1c4f-538c-448e-9556-ec6472cdfce4",
   "metadata": {},
   "outputs": [],
   "source": [
    "len(list(permutations('appealing')))"
   ]
  },
  {
   "cell_type": "code",
   "execution_count": null,
   "id": "b874282a-dcf2-403f-b18f-e427373c78ae",
   "metadata": {},
   "outputs": [],
   "source": []
  }
 ],
 "metadata": {
  "kernelspec": {
   "display_name": "Python 3 (ipykernel)",
   "language": "python",
   "name": "python3"
  },
  "language_info": {
   "codemirror_mode": {
    "name": "ipython",
    "version": 3
   },
   "file_extension": ".py",
   "mimetype": "text/x-python",
   "name": "python",
   "nbconvert_exporter": "python",
   "pygments_lexer": "ipython3",
   "version": "3.10.4"
  }
 },
 "nbformat": 4,
 "nbformat_minor": 5
}
