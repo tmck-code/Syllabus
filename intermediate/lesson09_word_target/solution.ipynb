{
 "cells": [
  {
   "cell_type": "markdown",
   "id": "118276a6-92c7-4047-aff9-05a913cef1fe",
   "metadata": {},
   "source": [
    "# Solution\n",
    "\n",
    "> Official python docs: [https://docs.python.org/3/library/itertools.html#itertools.permutations](https://docs.python.org/3/library/itertools.html#itertools.permutations)"
   ]
  },
  {
   "cell_type": "markdown",
   "id": "8884517a-68a3-4fc8-85ee-2882a59ea061",
   "metadata": {},
   "source": [
    "## 1. define permutation function"
   ]
  },
  {
   "cell_type": "code",
   "execution_count": 1,
   "id": "a368e02b-7298-4b08-ab39-f135775266e1",
   "metadata": {},
   "outputs": [],
   "source": [
    "def permutations(iterable, r=None):\n",
    "    # permutations('ABCD', 2) --> AB AC AD BA BC BD CA CB CD DA DB DC\n",
    "    # permutations(range(3)) --> 012 021 102 120 201 210\n",
    "\n",
    "    pool = tuple(iterable)\n",
    "    n = len(pool)\n",
    "    r = n if r is None else r\n",
    "    if r > n:\n",
    "        return\n",
    "    indices = list(range(n))\n",
    "    cycles = list(range(n, n-r, -1))\n",
    "    yield tuple(pool[i] for i in indices[:r])\n",
    "    while n:\n",
    "        for i in reversed(range(r)):\n",
    "            cycles[i] -= 1\n",
    "            if cycles[i] == 0:\n",
    "                indices[i:] = indices[i+1:] + indices[i:i+1]\n",
    "                cycles[i] = n - i\n",
    "            else:\n",
    "                j = cycles[i]\n",
    "                indices[i], indices[-j] = indices[-j], indices[i]\n",
    "                yield tuple(pool[i] for i in indices[:r])\n",
    "                break\n",
    "        else:\n",
    "            return"
   ]
  },
  {
   "cell_type": "markdown",
   "id": "a8d95c02-8b6c-4c78-b1c3-3a9e36b48295",
   "metadata": {},
   "source": [
    "## 2. unit tests\n",
    "\n",
    "Let's modify this function to include our desired behaviour.\n",
    "\n",
    "But first, to make this easy, let's make a test to make sure our function is working correctly"
   ]
  },
  {
   "cell_type": "code",
   "execution_count": 10,
   "id": "f1a9fbe0-e896-4d51-ad4c-b4abd111431b",
   "metadata": {},
   "outputs": [],
   "source": [
    "def test_permutations(permutation_func):\n",
    "    result = list(permutation_func(\n",
    "        'abc',\n",
    "        r=3,\n",
    "    ))\n",
    "    expected = [\n",
    "        ('a', 'b', 'c'),\n",
    "        ('a', 'c', 'b'),\n",
    "        ('b', 'a', 'c'),\n",
    "        ('b', 'c', 'a'),\n",
    "        ('c', 'a', 'b'),\n",
    "        ('c', 'b', 'a'),\n",
    "    ]\n",
    "    assert expected == result, f'{expected} != {result}'\n",
    "\n",
    "def test_permutations_mapping(permutation_func):\n",
    "    result = list(permutation_func(\n",
    "        'abcd',\n",
    "        r=4,\n",
    "        mapping=[('a', 'c')],\n",
    "    ))\n",
    "    expected = [\n",
    "        ('a', 'c', 'b', 'd'),\n",
    "        ('a', 'c', 'd', 'b'),\n",
    "    ]\n",
    "    assert expected == result, f'{expected} != {result}'\n",
    "    \n",
    "def test_func(f):\n",
    "    test_permutations(f)\n",
    "    test_permutations_mapping(f)"
   ]
  },
  {
   "cell_type": "code",
   "execution_count": 3,
   "id": "7e7dbbc2-aeab-4ce0-a7ee-a6b365e3abe4",
   "metadata": {},
   "outputs": [],
   "source": [
    "def permutations(iterable, r=None, mapping=[]):\n",
    "    # permutations('ABCD', 2) --> AB AC AD BA BC BD CA CB CD DA DB DC\n",
    "    # permutations(range(3)) --> 012 021 102 120 201 210\n",
    "\n",
    "    pool = tuple(iterable)\n",
    "    n = len(pool)\n",
    "    r = n if r is None else r\n",
    "    if r > n:\n",
    "        return\n",
    "    indices = list(range(n))\n",
    "    cycles = list(range(n, n-r, -1))\n",
    "    yield tuple(pool[i] for i in indices[:r])\n",
    "    while n:\n",
    "        for i in reversed(range(r)):\n",
    "            cycles[i] -= 1\n",
    "            if cycles[i] == 0:\n",
    "                indices[i:] = indices[i+1:] + indices[i:i+1]\n",
    "                cycles[i] = n - i\n",
    "            else:\n",
    "                j = cycles[i]\n",
    "                indices[i], indices[-j] = indices[-j], indices[i]\n",
    "                yield tuple(pool[i] for i in indices[:r])\n",
    "                break\n",
    "        else:\n",
    "            return"
   ]
  },
  {
   "cell_type": "code",
   "execution_count": 4,
   "id": "ff08f0f5-8a0d-4590-9114-f775fd5a78d4",
   "metadata": {},
   "outputs": [
    {
     "ename": "AssertionError",
     "evalue": "(('a', 'c', 'b', 'd'), ('a', 'c', 'd', 'b')) != [('a', 'b', 'c', 'd'), ('a', 'b', 'd', 'c'), ('a', 'c', 'b', 'd'), ('a', 'c', 'd', 'b'), ('a', 'd', 'b', 'c'), ('a', 'd', 'c', 'b'), ('b', 'a', 'c', 'd'), ('b', 'a', 'd', 'c'), ('b', 'c', 'a', 'd'), ('b', 'c', 'd', 'a'), ('b', 'd', 'a', 'c'), ('b', 'd', 'c', 'a'), ('c', 'a', 'b', 'd'), ('c', 'a', 'd', 'b'), ('c', 'b', 'a', 'd'), ('c', 'b', 'd', 'a'), ('c', 'd', 'a', 'b'), ('c', 'd', 'b', 'a'), ('d', 'a', 'b', 'c'), ('d', 'a', 'c', 'b'), ('d', 'b', 'a', 'c'), ('d', 'b', 'c', 'a'), ('d', 'c', 'a', 'b'), ('d', 'c', 'b', 'a')]",
     "output_type": "error",
     "traceback": [
      "\u001b[0;31m---------------------------------------------------------------------------\u001b[0m",
      "\u001b[0;31mAssertionError\u001b[0m                            Traceback (most recent call last)",
      "Input \u001b[0;32mIn [4]\u001b[0m, in \u001b[0;36m<cell line: 1>\u001b[0;34m()\u001b[0m\n\u001b[0;32m----> 1\u001b[0m \u001b[43mtest_permutations_mapping\u001b[49m\u001b[43m(\u001b[49m\u001b[43mpermutations\u001b[49m\u001b[43m)\u001b[49m\n",
      "Input \u001b[0;32mIn [2]\u001b[0m, in \u001b[0;36mtest_permutations_mapping\u001b[0;34m(permutation_func)\u001b[0m\n\u001b[1;32m     17\u001b[0m result \u001b[38;5;241m=\u001b[39m \u001b[38;5;28mlist\u001b[39m(permutation_func(\n\u001b[1;32m     18\u001b[0m     \u001b[38;5;124m'\u001b[39m\u001b[38;5;124mabcd\u001b[39m\u001b[38;5;124m'\u001b[39m,\n\u001b[1;32m     19\u001b[0m     r\u001b[38;5;241m=\u001b[39m\u001b[38;5;241m4\u001b[39m,\n\u001b[1;32m     20\u001b[0m     mapping\u001b[38;5;241m=\u001b[39m[(\u001b[38;5;124m'\u001b[39m\u001b[38;5;124ma\u001b[39m\u001b[38;5;124m'\u001b[39m, \u001b[38;5;124m'\u001b[39m\u001b[38;5;124mc\u001b[39m\u001b[38;5;124m'\u001b[39m)],\n\u001b[1;32m     21\u001b[0m ))\n\u001b[1;32m     22\u001b[0m expected \u001b[38;5;241m=\u001b[39m (\n\u001b[1;32m     23\u001b[0m     (\u001b[38;5;124m'\u001b[39m\u001b[38;5;124ma\u001b[39m\u001b[38;5;124m'\u001b[39m, \u001b[38;5;124m'\u001b[39m\u001b[38;5;124mc\u001b[39m\u001b[38;5;124m'\u001b[39m, \u001b[38;5;124m'\u001b[39m\u001b[38;5;124mb\u001b[39m\u001b[38;5;124m'\u001b[39m, \u001b[38;5;124m'\u001b[39m\u001b[38;5;124md\u001b[39m\u001b[38;5;124m'\u001b[39m),\n\u001b[1;32m     24\u001b[0m     (\u001b[38;5;124m'\u001b[39m\u001b[38;5;124ma\u001b[39m\u001b[38;5;124m'\u001b[39m, \u001b[38;5;124m'\u001b[39m\u001b[38;5;124mc\u001b[39m\u001b[38;5;124m'\u001b[39m, \u001b[38;5;124m'\u001b[39m\u001b[38;5;124md\u001b[39m\u001b[38;5;124m'\u001b[39m, \u001b[38;5;124m'\u001b[39m\u001b[38;5;124mb\u001b[39m\u001b[38;5;124m'\u001b[39m),\n\u001b[1;32m     25\u001b[0m )\n\u001b[0;32m---> 26\u001b[0m \u001b[38;5;28;01massert\u001b[39;00m expected \u001b[38;5;241m==\u001b[39m result, \u001b[38;5;124mf\u001b[39m\u001b[38;5;124m'\u001b[39m\u001b[38;5;132;01m{\u001b[39;00mexpected\u001b[38;5;132;01m}\u001b[39;00m\u001b[38;5;124m != \u001b[39m\u001b[38;5;132;01m{\u001b[39;00mresult\u001b[38;5;132;01m}\u001b[39;00m\u001b[38;5;124m'\u001b[39m\n",
      "\u001b[0;31mAssertionError\u001b[0m: (('a', 'c', 'b', 'd'), ('a', 'c', 'd', 'b')) != [('a', 'b', 'c', 'd'), ('a', 'b', 'd', 'c'), ('a', 'c', 'b', 'd'), ('a', 'c', 'd', 'b'), ('a', 'd', 'b', 'c'), ('a', 'd', 'c', 'b'), ('b', 'a', 'c', 'd'), ('b', 'a', 'd', 'c'), ('b', 'c', 'a', 'd'), ('b', 'c', 'd', 'a'), ('b', 'd', 'a', 'c'), ('b', 'd', 'c', 'a'), ('c', 'a', 'b', 'd'), ('c', 'a', 'd', 'b'), ('c', 'b', 'a', 'd'), ('c', 'b', 'd', 'a'), ('c', 'd', 'a', 'b'), ('c', 'd', 'b', 'a'), ('d', 'a', 'b', 'c'), ('d', 'a', 'c', 'b'), ('d', 'b', 'a', 'c'), ('d', 'b', 'c', 'a'), ('d', 'c', 'a', 'b'), ('d', 'c', 'b', 'a')]"
     ]
    }
   ],
   "source": [
    "test_permutations_mapping(permutations)"
   ]
  },
  {
   "cell_type": "markdown",
   "id": "c0a9371c-b011-4a80-b91c-40c56dfdc816",
   "metadata": {},
   "source": [
    "### 2.1. Customise function\n",
    "\n",
    "Cool! Now that we have our failing test, let's update the code to work as we would like"
   ]
  },
  {
   "cell_type": "code",
   "execution_count": 5,
   "id": "47ffe6b5-830f-47e3-8ec1-fc442593b1c1",
   "metadata": {},
   "outputs": [
    {
     "data": {
      "text/plain": [
       "[('a', 'b', 'c'),\n",
       " ('a', 'c', 'b'),\n",
       " ('b', 'a', 'c'),\n",
       " ('b', 'c', 'a'),\n",
       " ('c', 'a', 'b'),\n",
       " ('c', 'b', 'a')]"
      ]
     },
     "execution_count": 5,
     "metadata": {},
     "output_type": "execute_result"
    }
   ],
   "source": [
    "list(permutations('abc', r=3, mapping=[('a',)]))"
   ]
  },
  {
   "cell_type": "code",
   "execution_count": 6,
   "id": "2dfd086f-94a1-49e7-9986-d63493dcbdd6",
   "metadata": {},
   "outputs": [],
   "source": [
    "def permutations(iterable, r=None, mapping=[]):\n",
    "    # permutations('ABCD', 2) --> AB AC AD BA BC BD CA CB CD DA DB DC\n",
    "    # permutations(range(3)) --> 012 021 102 120 201 210\n",
    "\n",
    "    pool = tuple(iterable)\n",
    "    n = len(pool)\n",
    "    r = n if r is None else r\n",
    "    if r > n:\n",
    "        return\n",
    "    indices = list(range(n))\n",
    "    cycles = list(range(n, n-r, -1))\n",
    "    \n",
    "    option = tuple(pool[i] for i in indices[:r])\n",
    "\n",
    "    if mapping:\n",
    "        for m in mapping:\n",
    "            # print('->', m, option, option[:len(m)])\n",
    "            if m == option[:len(m)]:\n",
    "                # print('✓', option)\n",
    "                yield option\n",
    "    else:\n",
    "        yield option\n",
    "\n",
    "    while n:\n",
    "        for i in reversed(range(r)):\n",
    "            cycles[i] -= 1\n",
    "            if cycles[i] == 0:\n",
    "                indices[i:] = indices[i+1:] + indices[i:i+1]\n",
    "                cycles[i] = n - i\n",
    "            else:\n",
    "                j = cycles[i]\n",
    "                indices[i], indices[-j] = indices[-j], indices[i]\n",
    "                option = tuple(pool[i] for i in indices[:r])\n",
    "                # print('->', option)\n",
    "\n",
    "                if mapping:\n",
    "                    for m in mapping:\n",
    "                        # print('->', m, option, option[:len(m)])\n",
    "                        if m == option[:len(m)]:\n",
    "                            # print('✓', option)\n",
    "                            yield option\n",
    "                else:\n",
    "                    yield option\n",
    "                break\n",
    "        else:\n",
    "            return"
   ]
  },
  {
   "cell_type": "code",
   "execution_count": 7,
   "id": "85e51e7a-e97d-463d-93b9-f2aa99e340b5",
   "metadata": {},
   "outputs": [
    {
     "data": {
      "text/plain": [
       "[('a', 'b', 'c'), ('a', 'c', 'b')]"
      ]
     },
     "execution_count": 7,
     "metadata": {},
     "output_type": "execute_result"
    }
   ],
   "source": [
    "list(permutations('abc', r=3, mapping=[('a',)]))"
   ]
  },
  {
   "cell_type": "code",
   "execution_count": 13,
   "id": "5e43eb3e-89a6-4b42-8c27-8cc40b7392aa",
   "metadata": {},
   "outputs": [
    {
     "data": {
      "text/plain": [
       "[('a', 'c', 'b', 'd'), ('a', 'c', 'd', 'b')]"
      ]
     },
     "execution_count": 13,
     "metadata": {},
     "output_type": "execute_result"
    }
   ],
   "source": [
    "list(permutations('abcd', r=4, mapping=[('a', 'c')]))"
   ]
  },
  {
   "cell_type": "code",
   "execution_count": 11,
   "id": "884bf559-e54a-47fb-acb3-eec635ae77a8",
   "metadata": {},
   "outputs": [
    {
     "data": {
      "text/plain": [
       "[('a', 'b', 'c'),\n",
       " ('a', 'c', 'b'),\n",
       " ('b', 'a', 'c'),\n",
       " ('b', 'c', 'a'),\n",
       " ('c', 'a', 'b'),\n",
       " ('c', 'b', 'a')]"
      ]
     },
     "execution_count": 11,
     "metadata": {},
     "output_type": "execute_result"
    }
   ],
   "source": [
    "list(permutations('abc'))"
   ]
  },
  {
   "cell_type": "code",
   "execution_count": 12,
   "id": "6df82f57-804a-449d-a285-a9b16e0d423a",
   "metadata": {},
   "outputs": [],
   "source": [
    "test_func(permutations)"
   ]
  },
  {
   "cell_type": "code",
   "execution_count": null,
   "id": "5f0c3f9d-a043-4fba-8db0-14eba00f3cef",
   "metadata": {},
   "outputs": [],
   "source": []
  }
 ],
 "metadata": {
  "kernelspec": {
   "display_name": "Python 3 (ipykernel)",
   "language": "python",
   "name": "python3"
  },
  "language_info": {
   "codemirror_mode": {
    "name": "ipython",
    "version": 3
   },
   "file_extension": ".py",
   "mimetype": "text/x-python",
   "name": "python",
   "nbconvert_exporter": "python",
   "pygments_lexer": "ipython3",
   "version": "3.10.4"
  }
 },
 "nbformat": 4,
 "nbformat_minor": 5
}
