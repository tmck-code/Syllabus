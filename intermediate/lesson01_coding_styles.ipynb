{
 "cells": [
  {
   "cell_type": "markdown",
   "metadata": {},
   "source": [
    "# Coding styles\n",
    "\n",
    "Code can be fast or slow, perform well or poorly, but the most important think is that it is understandable.\n",
    "\n",
    "> “Indeed, the ratio of time spent reading versus writing is well over 10 to 1. We are constantly reading old code as part of the effort to write new code. ...[Therefore,] making it easy to read makes it easier to write.”\n",
    "\n",
    "― **Robert C. Martin**, _Clean Code: A Handbook of Agile Software Craftsmanship_\n",
    "\n",
    "This means that it is **not good enough** if a solution is programatically elegant, but unreadable. The order of precedence goes:\n",
    "\n",
    "1. Readability\n",
    "2. Elegance\n",
    "3. Performance"
   ]
  },
  {
   "cell_type": "markdown",
   "metadata": {},
   "source": [
    "## A quick aside\n",
    "\n",
    "Programming is about _concepts_ used to rationalise problem solving.\n",
    "\n",
    "> _All of the concepts **you will ever need** have already been designed and perfected, up to decades ago_\n",
    "\n",
    "This means that searching on your own will be most successful if you **don't** include the name of the language in searches around design.\n",
    "\n",
    "___\n",
    "\n",
    "> \"I suppose it is tempting, if the only tool you have is a hammer, to treat everything as if it were a nail.\"\n",
    "\n",
    "- **Abraham Maslow**, _1966_ "
   ]
  },
  {
   "cell_type": "markdown",
   "metadata": {},
   "source": [
    "## Some Styles\n",
    "\n",
    "* Procedural\n",
    "* Object-Oriented Programming (OOP)\n",
    "* Domain-Specific Language (Rails, Django, React)\n",
    "* REST API"
   ]
  },
  {
   "cell_type": "code",
   "execution_count": null,
   "metadata": {},
   "outputs": [],
   "source": []
  }
 ],
 "metadata": {
  "kernelspec": {
   "display_name": "Python 3",
   "language": "python",
   "name": "python3"
  },
  "language_info": {
   "codemirror_mode": {
    "name": "ipython",
    "version": 3
   },
   "file_extension": ".py",
   "mimetype": "text/x-python",
   "name": "python",
   "nbconvert_exporter": "python",
   "pygments_lexer": "ipython3",
   "version": "3.6.5"
  }
 },
 "nbformat": 4,
 "nbformat_minor": 2
}
