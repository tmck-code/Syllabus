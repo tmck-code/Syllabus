{
 "cells": [
  {
   "cell_type": "code",
   "execution_count": 1,
   "id": "4f13c7cb-b790-4e05-aee7-63c0d1d3adc4",
   "metadata": {},
   "outputs": [
    {
     "name": "stderr",
     "output_type": "stream",
     "text": [
      "WARNING: An illegal reflective access operation has occurred\n",
      "WARNING: Illegal reflective access by org.apache.spark.unsafe.Platform (file:/usr/local/spark/jars/spark-unsafe_2.12-3.1.1.jar) to constructor java.nio.DirectByteBuffer(long,int)\n",
      "WARNING: Please consider reporting this to the maintainers of org.apache.spark.unsafe.Platform\n",
      "WARNING: Use --illegal-access=warn to enable warnings of further illegal reflective access operations\n",
      "WARNING: All illegal access operations will be denied in a future release\n",
      "22/06/21 09:30:11 WARN NativeCodeLoader: Unable to load native-hadoop library for your platform... using builtin-java classes where applicable\n",
      "Using Spark's default log4j profile: org/apache/spark/log4j-defaults.properties\n",
      "Setting default log level to \"WARN\".\n",
      "To adjust logging level use sc.setLogLevel(newLevel). For SparkR, use setLogLevel(newLevel).\n"
     ]
    },
    {
     "data": {
      "text/html": [
       "\n",
       "            <div>\n",
       "                <p><b>SparkSession - in-memory</b></p>\n",
       "                \n",
       "        <div>\n",
       "            <p><b>SparkContext</b></p>\n",
       "\n",
       "            <p><a href=\"http://3a3e56bc7ab2:4040\">Spark UI</a></p>\n",
       "\n",
       "            <dl>\n",
       "              <dt>Version</dt>\n",
       "                <dd><code>v3.1.1</code></dd>\n",
       "              <dt>Master</dt>\n",
       "                <dd><code>local</code></dd>\n",
       "              <dt>AppName</dt>\n",
       "                <dd><code>syllabus</code></dd>\n",
       "            </dl>\n",
       "        </div>\n",
       "        \n",
       "            </div>\n",
       "        "
      ],
      "text/plain": [
       "<pyspark.sql.session.SparkSession at 0x40911660e0>"
      ]
     },
     "execution_count": 1,
     "metadata": {},
     "output_type": "execute_result"
    }
   ],
   "source": [
    "from pyspark.sql import SparkSession\n",
    "\n",
    "def _spark_context():\n",
    "    'Creates a local spark context'\n",
    "\n",
    "    return SparkSession.builder \\\n",
    "      .master('local') \\\n",
    "      .appName('syllabus') \\\n",
    "      .getOrCreate()\n",
    "\n",
    "SPARK = _spark_context()\n",
    "SPARK"
   ]
  },
  {
   "cell_type": "code",
   "execution_count": 76,
   "id": "12f8c6a6-9ff0-4913-9b92-2d93b762b610",
   "metadata": {},
   "outputs": [],
   "source": [
    "import json\n",
    "\n",
    "from pyspark.sql import DataFrame\n",
    "from pyspark.sql import functions as F\n",
    "\n",
    "from pygments import highlight\n",
    "from pygments.lexers import JsonLexer\n",
    "from pygments.formatters import TerminalTrueColorFormatter\n",
    "\n",
    "def ppj(j, indent=2):\n",
    "    print(highlight(\n",
    "        code      = json.dumps(json.loads(j), indent=indent),\n",
    "        lexer     = JsonLexer(),\n",
    "        formatter = TerminalTrueColorFormatter()\n",
    "    ).strip())\n",
    "   \n",
    "def ppd(d, indent=2):\n",
    "    ppj(json.dumps(d), indent=indent)\n",
    "\n",
    "def count_nulls(df: DataFrame) -> int:\n",
    "    return df.select(\n",
    "        sum([F.count(F.when(F.col(c).isNull(), c)).alias(c) for c in df.columns])\n",
    "    ).collect()[0][0]\n",
    "\n",
    "def count_cells(df: DataFrame) -> int:\n",
    "    return df.count() * len(df.columns)\n",
    "\n",
    "class DFLoader:\n",
    "    @staticmethod\n",
    "    def from_file(records: list, fpath: str) -> DataFrame:\n",
    "        with open(fpath, 'w') as ostream:\n",
    "            for record in records:\n",
    "                print(json.dumps(record), file=ostream, end='\\n')\n",
    "        df = SPARK.read.json(fpath)\n",
    "        df.show()\n",
    "        print('cells', count_cells(df), '/', 'nulls', count_nulls(df))\n",
    "        print(ppj(df.schema.json()))\n",
    "        return df"
   ]
  },
  {
   "cell_type": "code",
   "execution_count": 69,
   "id": "72a2a01a-9a26-4d95-9257-d76828baec10",
   "metadata": {},
   "outputs": [
    {
     "name": "stdout",
     "output_type": "stream",
     "text": [
      "+---+----+----+\n",
      "|  a|   c|   d|\n",
      "+---+----+----+\n",
      "|  a|   d|null|\n",
      "|  b|null|null|\n",
      "|  c|null|null|\n",
      "|  1|null|   z|\n",
      "+---+----+----+\n",
      "\n",
      "cells 12 / nulls 6\n",
      "{\n",
      "\u001b[38;2;187;187;187m  \u001b[39m\u001b[38;2;0;128;0;01m\"fields\"\u001b[39;00m:\u001b[38;2;187;187;187m \u001b[39m[\n",
      "\u001b[38;2;187;187;187m    \u001b[39m{\n",
      "\u001b[38;2;187;187;187m      \u001b[39m\u001b[38;2;0;128;0;01m\"metadata\"\u001b[39;00m:\u001b[38;2;187;187;187m \u001b[39m{},\n",
      "\u001b[38;2;187;187;187m      \u001b[39m\u001b[38;2;0;128;0;01m\"name\"\u001b[39;00m:\u001b[38;2;187;187;187m \u001b[39m\u001b[38;2;186;33;33m\"a\"\u001b[39m,\n",
      "\u001b[38;2;187;187;187m      \u001b[39m\u001b[38;2;0;128;0;01m\"nullable\"\u001b[39;00m:\u001b[38;2;187;187;187m \u001b[39m\u001b[38;2;0;128;0;01mtrue\u001b[39;00m,\n",
      "\u001b[38;2;187;187;187m      \u001b[39m\u001b[38;2;0;128;0;01m\"type\"\u001b[39;00m:\u001b[38;2;187;187;187m \u001b[39m\u001b[38;2;186;33;33m\"string\"\u001b[39m\n",
      "\u001b[38;2;187;187;187m    \u001b[39m},\n",
      "\u001b[38;2;187;187;187m    \u001b[39m{\n",
      "\u001b[38;2;187;187;187m      \u001b[39m\u001b[38;2;0;128;0;01m\"metadata\"\u001b[39;00m:\u001b[38;2;187;187;187m \u001b[39m{},\n",
      "\u001b[38;2;187;187;187m      \u001b[39m\u001b[38;2;0;128;0;01m\"name\"\u001b[39;00m:\u001b[38;2;187;187;187m \u001b[39m\u001b[38;2;186;33;33m\"c\"\u001b[39m,\n",
      "\u001b[38;2;187;187;187m      \u001b[39m\u001b[38;2;0;128;0;01m\"nullable\"\u001b[39;00m:\u001b[38;2;187;187;187m \u001b[39m\u001b[38;2;0;128;0;01mtrue\u001b[39;00m,\n",
      "\u001b[38;2;187;187;187m      \u001b[39m\u001b[38;2;0;128;0;01m\"type\"\u001b[39;00m:\u001b[38;2;187;187;187m \u001b[39m\u001b[38;2;186;33;33m\"string\"\u001b[39m\n",
      "\u001b[38;2;187;187;187m    \u001b[39m},\n",
      "\u001b[38;2;187;187;187m    \u001b[39m{\n",
      "\u001b[38;2;187;187;187m      \u001b[39m\u001b[38;2;0;128;0;01m\"metadata\"\u001b[39;00m:\u001b[38;2;187;187;187m \u001b[39m{},\n",
      "\u001b[38;2;187;187;187m      \u001b[39m\u001b[38;2;0;128;0;01m\"name\"\u001b[39;00m:\u001b[38;2;187;187;187m \u001b[39m\u001b[38;2;186;33;33m\"d\"\u001b[39m,\n",
      "\u001b[38;2;187;187;187m      \u001b[39m\u001b[38;2;0;128;0;01m\"nullable\"\u001b[39;00m:\u001b[38;2;187;187;187m \u001b[39m\u001b[38;2;0;128;0;01mtrue\u001b[39;00m,\n",
      "\u001b[38;2;187;187;187m      \u001b[39m\u001b[38;2;0;128;0;01m\"type\"\u001b[39;00m:\u001b[38;2;187;187;187m \u001b[39m\u001b[38;2;186;33;33m\"string\"\u001b[39m\n",
      "\u001b[38;2;187;187;187m    \u001b[39m}\n",
      "\u001b[38;2;187;187;187m  \u001b[39m],\n",
      "\u001b[38;2;187;187;187m  \u001b[39m\u001b[38;2;0;128;0;01m\"type\"\u001b[39;00m:\u001b[38;2;187;187;187m \u001b[39m\u001b[38;2;186;33;33m\"struct\"\u001b[39m\n",
      "}\n",
      "\n",
      "None\n"
     ]
    },
    {
     "data": {
      "text/plain": [
       "6"
      ]
     },
     "execution_count": 69,
     "metadata": {},
     "output_type": "execute_result"
    }
   ],
   "source": [
    "records = [\n",
    "    { \"a\": \"a\", \"c\": \"d\" },\n",
    "    { \"a\": \"b\" },\n",
    "    { \"a\": \"c\" },\n",
    "    { \"a\": 1, \"d\": \"z\" }\n",
    "]\n",
    "df = DFLoader.from_file(records, 'f.ndjson')\n",
    "count_nulls(df)"
   ]
  },
  {
   "cell_type": "code",
   "execution_count": 70,
   "id": "97db5c1e-4e49-40dd-859e-ee9b1f6270ed",
   "metadata": {
    "tags": []
   },
   "outputs": [
    {
     "name": "stdout",
     "output_type": "stream",
     "text": [
      "+---+----+----+\n",
      "|  a|   c|   d|\n",
      "+---+----+----+\n",
      "|  1|   d|null|\n",
      "|  b|null|null|\n",
      "|  c|null|null|\n",
      "|123|null|   z|\n",
      "+---+----+----+\n",
      "\n",
      "cells 12 / nulls 6\n",
      "{\n",
      "\u001b[38;2;187;187;187m  \u001b[39m\u001b[38;2;0;128;0;01m\"fields\"\u001b[39;00m:\u001b[38;2;187;187;187m \u001b[39m[\n",
      "\u001b[38;2;187;187;187m    \u001b[39m{\n",
      "\u001b[38;2;187;187;187m      \u001b[39m\u001b[38;2;0;128;0;01m\"metadata\"\u001b[39;00m:\u001b[38;2;187;187;187m \u001b[39m{},\n",
      "\u001b[38;2;187;187;187m      \u001b[39m\u001b[38;2;0;128;0;01m\"name\"\u001b[39;00m:\u001b[38;2;187;187;187m \u001b[39m\u001b[38;2;186;33;33m\"a\"\u001b[39m,\n",
      "\u001b[38;2;187;187;187m      \u001b[39m\u001b[38;2;0;128;0;01m\"nullable\"\u001b[39;00m:\u001b[38;2;187;187;187m \u001b[39m\u001b[38;2;0;128;0;01mtrue\u001b[39;00m,\n",
      "\u001b[38;2;187;187;187m      \u001b[39m\u001b[38;2;0;128;0;01m\"type\"\u001b[39;00m:\u001b[38;2;187;187;187m \u001b[39m\u001b[38;2;186;33;33m\"string\"\u001b[39m\n",
      "\u001b[38;2;187;187;187m    \u001b[39m},\n",
      "\u001b[38;2;187;187;187m    \u001b[39m{\n",
      "\u001b[38;2;187;187;187m      \u001b[39m\u001b[38;2;0;128;0;01m\"metadata\"\u001b[39;00m:\u001b[38;2;187;187;187m \u001b[39m{},\n",
      "\u001b[38;2;187;187;187m      \u001b[39m\u001b[38;2;0;128;0;01m\"name\"\u001b[39;00m:\u001b[38;2;187;187;187m \u001b[39m\u001b[38;2;186;33;33m\"c\"\u001b[39m,\n",
      "\u001b[38;2;187;187;187m      \u001b[39m\u001b[38;2;0;128;0;01m\"nullable\"\u001b[39;00m:\u001b[38;2;187;187;187m \u001b[39m\u001b[38;2;0;128;0;01mtrue\u001b[39;00m,\n",
      "\u001b[38;2;187;187;187m      \u001b[39m\u001b[38;2;0;128;0;01m\"type\"\u001b[39;00m:\u001b[38;2;187;187;187m \u001b[39m\u001b[38;2;186;33;33m\"string\"\u001b[39m\n",
      "\u001b[38;2;187;187;187m    \u001b[39m},\n",
      "\u001b[38;2;187;187;187m    \u001b[39m{\n",
      "\u001b[38;2;187;187;187m      \u001b[39m\u001b[38;2;0;128;0;01m\"metadata\"\u001b[39;00m:\u001b[38;2;187;187;187m \u001b[39m{},\n",
      "\u001b[38;2;187;187;187m      \u001b[39m\u001b[38;2;0;128;0;01m\"name\"\u001b[39;00m:\u001b[38;2;187;187;187m \u001b[39m\u001b[38;2;186;33;33m\"d\"\u001b[39m,\n",
      "\u001b[38;2;187;187;187m      \u001b[39m\u001b[38;2;0;128;0;01m\"nullable\"\u001b[39;00m:\u001b[38;2;187;187;187m \u001b[39m\u001b[38;2;0;128;0;01mtrue\u001b[39;00m,\n",
      "\u001b[38;2;187;187;187m      \u001b[39m\u001b[38;2;0;128;0;01m\"type\"\u001b[39;00m:\u001b[38;2;187;187;187m \u001b[39m\u001b[38;2;186;33;33m\"string\"\u001b[39m\n",
      "\u001b[38;2;187;187;187m    \u001b[39m}\n",
      "\u001b[38;2;187;187;187m  \u001b[39m],\n",
      "\u001b[38;2;187;187;187m  \u001b[39m\u001b[38;2;0;128;0;01m\"type\"\u001b[39;00m:\u001b[38;2;187;187;187m \u001b[39m\u001b[38;2;186;33;33m\"struct\"\u001b[39m\n",
      "}\n",
      "\n",
      "None\n"
     ]
    }
   ],
   "source": [
    "records = [\n",
    "    { \"a\": 1, \"c\": \"d\" },\n",
    "    { \"a\": \"b\" },\n",
    "    { \"a\": \"c\" },\n",
    "    { \"a\": \"123\", \"d\": \"z\" }\n",
    "]\n",
    "df = DFLoader.from_file(records, 'f.ndjson')"
   ]
  },
  {
   "cell_type": "code",
   "execution_count": 160,
   "id": "a900f7ee-16ee-4359-a0c0-baa8a551ba37",
   "metadata": {},
   "outputs": [
    {
     "name": "stdout",
     "output_type": "stream",
     "text": [
      "+---+----+----+---+\n",
      "|  a|   c|   d| id|\n",
      "+---+----+----+---+\n",
      "|  1|   d|null|123|\n",
      "|  b|null|null|122|\n",
      "|  c|null|null|111|\n",
      "|  1|null|   z|234|\n",
      "+---+----+----+---+\n",
      "\n"
     ]
    },
    {
     "name": "stderr",
     "output_type": "stream",
     "text": [
      "[Stage 76:>                                                         (0 + 1) / 1]\r"
     ]
    },
    {
     "name": "stdout",
     "output_type": "stream",
     "text": [
      "cells 16 / nulls 6\n",
      "{\n",
      "\u001b[38;2;187;187;187m  \u001b[39m\u001b[38;2;0;128;0;01m\"fields\"\u001b[39;00m:\u001b[38;2;187;187;187m \u001b[39m[\n",
      "\u001b[38;2;187;187;187m    \u001b[39m{\n",
      "\u001b[38;2;187;187;187m      \u001b[39m\u001b[38;2;0;128;0;01m\"metadata\"\u001b[39;00m:\u001b[38;2;187;187;187m \u001b[39m{},\n",
      "\u001b[38;2;187;187;187m      \u001b[39m\u001b[38;2;0;128;0;01m\"name\"\u001b[39;00m:\u001b[38;2;187;187;187m \u001b[39m\u001b[38;2;186;33;33m\"a\"\u001b[39m,\n",
      "\u001b[38;2;187;187;187m      \u001b[39m\u001b[38;2;0;128;0;01m\"nullable\"\u001b[39;00m:\u001b[38;2;187;187;187m \u001b[39m\u001b[38;2;0;128;0;01mtrue\u001b[39;00m,\n",
      "\u001b[38;2;187;187;187m      \u001b[39m\u001b[38;2;0;128;0;01m\"type\"\u001b[39;00m:\u001b[38;2;187;187;187m \u001b[39m\u001b[38;2;186;33;33m\"string\"\u001b[39m\n",
      "\u001b[38;2;187;187;187m    \u001b[39m},\n",
      "\u001b[38;2;187;187;187m    \u001b[39m{\n",
      "\u001b[38;2;187;187;187m      \u001b[39m\u001b[38;2;0;128;0;01m\"metadata\"\u001b[39;00m:\u001b[38;2;187;187;187m \u001b[39m{},\n",
      "\u001b[38;2;187;187;187m      \u001b[39m\u001b[38;2;0;128;0;01m\"name\"\u001b[39;00m:\u001b[38;2;187;187;187m \u001b[39m\u001b[38;2;186;33;33m\"c\"\u001b[39m,\n",
      "\u001b[38;2;187;187;187m      \u001b[39m\u001b[38;2;0;128;0;01m\"nullable\"\u001b[39;00m:\u001b[38;2;187;187;187m \u001b[39m\u001b[38;2;0;128;0;01mtrue\u001b[39;00m,\n",
      "\u001b[38;2;187;187;187m      \u001b[39m\u001b[38;2;0;128;0;01m\"type\"\u001b[39;00m:\u001b[38;2;187;187;187m \u001b[39m\u001b[38;2;186;33;33m\"string\"\u001b[39m\n",
      "\u001b[38;2;187;187;187m    \u001b[39m},\n",
      "\u001b[38;2;187;187;187m    \u001b[39m{\n",
      "\u001b[38;2;187;187;187m      \u001b[39m\u001b[38;2;0;128;0;01m\"metadata\"\u001b[39;00m:\u001b[38;2;187;187;187m \u001b[39m{},\n",
      "\u001b[38;2;187;187;187m      \u001b[39m\u001b[38;2;0;128;0;01m\"name\"\u001b[39;00m:\u001b[38;2;187;187;187m \u001b[39m\u001b[38;2;186;33;33m\"d\"\u001b[39m,\n",
      "\u001b[38;2;187;187;187m      \u001b[39m\u001b[38;2;0;128;0;01m\"nullable\"\u001b[39;00m:\u001b[38;2;187;187;187m \u001b[39m\u001b[38;2;0;128;0;01mtrue\u001b[39;00m,\n",
      "\u001b[38;2;187;187;187m      \u001b[39m\u001b[38;2;0;128;0;01m\"type\"\u001b[39;00m:\u001b[38;2;187;187;187m \u001b[39m\u001b[38;2;186;33;33m\"string\"\u001b[39m\n",
      "\u001b[38;2;187;187;187m    \u001b[39m},\n",
      "\u001b[38;2;187;187;187m    \u001b[39m{\n",
      "\u001b[38;2;187;187;187m      \u001b[39m\u001b[38;2;0;128;0;01m\"metadata\"\u001b[39;00m:\u001b[38;2;187;187;187m \u001b[39m{},\n",
      "\u001b[38;2;187;187;187m      \u001b[39m\u001b[38;2;0;128;0;01m\"name\"\u001b[39;00m:\u001b[38;2;187;187;187m \u001b[39m\u001b[38;2;186;33;33m\"id\"\u001b[39m,\n",
      "\u001b[38;2;187;187;187m      \u001b[39m\u001b[38;2;0;128;0;01m\"nullable\"\u001b[39;00m:\u001b[38;2;187;187;187m \u001b[39m\u001b[38;2;0;128;0;01mtrue\u001b[39;00m,\n",
      "\u001b[38;2;187;187;187m      \u001b[39m\u001b[38;2;0;128;0;01m\"type\"\u001b[39;00m:\u001b[38;2;187;187;187m \u001b[39m\u001b[38;2;186;33;33m\"long\"\u001b[39m\n",
      "\u001b[38;2;187;187;187m    \u001b[39m}\n",
      "\u001b[38;2;187;187;187m  \u001b[39m],\n",
      "\u001b[38;2;187;187;187m  \u001b[39m\u001b[38;2;0;128;0;01m\"type\"\u001b[39;00m:\u001b[38;2;187;187;187m \u001b[39m\u001b[38;2;186;33;33m\"struct\"\u001b[39m\n",
      "}\n",
      "None\n"
     ]
    },
    {
     "name": "stderr",
     "output_type": "stream",
     "text": [
      "                                                                                \r"
     ]
    }
   ],
   "source": [
    "records = [\n",
    "    { \"id\": 123, \"a\": 1, \"c\": \"d\" },\n",
    "    { \"id\": 122, \"a\": \"b\" },\n",
    "    { \"id\": 111, \"a\": \"c\" },\n",
    "    { \"id\": 234, \"a\": 1, \"d\": \"z\" }\n",
    "]\n",
    "df = DFLoader.from_file(records, 'f.ndjson')"
   ]
  },
  {
   "cell_type": "code",
   "execution_count": 180,
   "id": "57817241-09f1-49c4-b443-06454c545e46",
   "metadata": {},
   "outputs": [
    {
     "name": "stdout",
     "output_type": "stream",
     "text": [
      "+---+---+-----+\n",
      "| id|key|value|\n",
      "+---+---+-----+\n",
      "|123|  a|    1|\n",
      "|123|  c|    d|\n",
      "|122|  a|    b|\n",
      "|111|  a|    c|\n",
      "|234|  a|    1|\n",
      "|234|  d|    z|\n",
      "+---+---+-----+\n",
      "\n"
     ]
    },
    {
     "name": "stderr",
     "output_type": "stream",
     "text": [
      "[Stage 88:>                                                         (0 + 1) / 1]\r"
     ]
    },
    {
     "name": "stdout",
     "output_type": "stream",
     "text": [
      "cells 18 / nulls 0\n",
      "{\n",
      "\u001b[38;2;187;187;187m  \u001b[39m\u001b[38;2;0;128;0;01m\"fields\"\u001b[39;00m:\u001b[38;2;187;187;187m \u001b[39m[\n",
      "\u001b[38;2;187;187;187m    \u001b[39m{\n",
      "\u001b[38;2;187;187;187m      \u001b[39m\u001b[38;2;0;128;0;01m\"metadata\"\u001b[39;00m:\u001b[38;2;187;187;187m \u001b[39m{},\n",
      "\u001b[38;2;187;187;187m      \u001b[39m\u001b[38;2;0;128;0;01m\"name\"\u001b[39;00m:\u001b[38;2;187;187;187m \u001b[39m\u001b[38;2;186;33;33m\"id\"\u001b[39m,\n",
      "\u001b[38;2;187;187;187m      \u001b[39m\u001b[38;2;0;128;0;01m\"nullable\"\u001b[39;00m:\u001b[38;2;187;187;187m \u001b[39m\u001b[38;2;0;128;0;01mtrue\u001b[39;00m,\n",
      "\u001b[38;2;187;187;187m      \u001b[39m\u001b[38;2;0;128;0;01m\"type\"\u001b[39;00m:\u001b[38;2;187;187;187m \u001b[39m\u001b[38;2;186;33;33m\"long\"\u001b[39m\n",
      "\u001b[38;2;187;187;187m    \u001b[39m},\n",
      "\u001b[38;2;187;187;187m    \u001b[39m{\n",
      "\u001b[38;2;187;187;187m      \u001b[39m\u001b[38;2;0;128;0;01m\"metadata\"\u001b[39;00m:\u001b[38;2;187;187;187m \u001b[39m{},\n",
      "\u001b[38;2;187;187;187m      \u001b[39m\u001b[38;2;0;128;0;01m\"name\"\u001b[39;00m:\u001b[38;2;187;187;187m \u001b[39m\u001b[38;2;186;33;33m\"key\"\u001b[39m,\n",
      "\u001b[38;2;187;187;187m      \u001b[39m\u001b[38;2;0;128;0;01m\"nullable\"\u001b[39;00m:\u001b[38;2;187;187;187m \u001b[39m\u001b[38;2;0;128;0;01mtrue\u001b[39;00m,\n",
      "\u001b[38;2;187;187;187m      \u001b[39m\u001b[38;2;0;128;0;01m\"type\"\u001b[39;00m:\u001b[38;2;187;187;187m \u001b[39m\u001b[38;2;186;33;33m\"string\"\u001b[39m\n",
      "\u001b[38;2;187;187;187m    \u001b[39m},\n",
      "\u001b[38;2;187;187;187m    \u001b[39m{\n",
      "\u001b[38;2;187;187;187m      \u001b[39m\u001b[38;2;0;128;0;01m\"metadata\"\u001b[39;00m:\u001b[38;2;187;187;187m \u001b[39m{},\n",
      "\u001b[38;2;187;187;187m      \u001b[39m\u001b[38;2;0;128;0;01m\"name\"\u001b[39;00m:\u001b[38;2;187;187;187m \u001b[39m\u001b[38;2;186;33;33m\"value\"\u001b[39m,\n",
      "\u001b[38;2;187;187;187m      \u001b[39m\u001b[38;2;0;128;0;01m\"nullable\"\u001b[39;00m:\u001b[38;2;187;187;187m \u001b[39m\u001b[38;2;0;128;0;01mtrue\u001b[39;00m,\n",
      "\u001b[38;2;187;187;187m      \u001b[39m\u001b[38;2;0;128;0;01m\"type\"\u001b[39;00m:\u001b[38;2;187;187;187m \u001b[39m\u001b[38;2;186;33;33m\"string\"\u001b[39m\n",
      "\u001b[38;2;187;187;187m    \u001b[39m}\n",
      "\u001b[38;2;187;187;187m  \u001b[39m],\n",
      "\u001b[38;2;187;187;187m  \u001b[39m\u001b[38;2;0;128;0;01m\"type\"\u001b[39;00m:\u001b[38;2;187;187;187m \u001b[39m\u001b[38;2;186;33;33m\"struct\"\u001b[39m\n",
      "}\n",
      "None\n"
     ]
    },
    {
     "name": "stderr",
     "output_type": "stream",
     "text": [
      "                                                                                \r"
     ]
    }
   ],
   "source": [
    "records = [\n",
    "    { \"id\": 123, \"key\": \"a\", \"value\": 1},\n",
    "    { \"id\": 123, \"key\": \"c\", \"value\": \"d\" },\n",
    "    { \"id\": 122, \"key\": \"a\", \"value\": \"b\" },\n",
    "    { \"id\": 111, \"key\": \"a\", \"value\": \"c\" },\n",
    "    { \"id\": 234, \"key\": \"a\", \"value\": 1 },\n",
    "    { \"id\": 234, \"key\": \"d\", \"value\": \"z\" },\n",
    "]\n",
    "df = DFLoader.from_file(records, 'f.ndjson')"
   ]
  },
  {
   "cell_type": "code",
   "execution_count": 193,
   "id": "4d7cc8d3-8226-418a-b4e7-3b01c54cb892",
   "metadata": {},
   "outputs": [
    {
     "name": "stdout",
     "output_type": "stream",
     "text": [
      "--- records\n",
      "[\n",
      "\u001b[38;2;187;187;187m  \u001b[39m{\n",
      "\u001b[38;2;187;187;187m    \u001b[39m\u001b[38;2;0;128;0;01m\"id\"\u001b[39;00m:\u001b[38;2;187;187;187m \u001b[39m\u001b[38;2;102;102;102m123\u001b[39m,\n",
      "\u001b[38;2;187;187;187m    \u001b[39m\u001b[38;2;0;128;0;01m\"a\"\u001b[39;00m:\u001b[38;2;187;187;187m \u001b[39m\u001b[38;2;186;33;33m\"1\"\u001b[39m,\n",
      "\u001b[38;2;187;187;187m    \u001b[39m\u001b[38;2;0;128;0;01m\"c\"\u001b[39;00m:\u001b[38;2;187;187;187m \u001b[39m\u001b[38;2;186;33;33m\"d\"\u001b[39m\n",
      "\u001b[38;2;187;187;187m  \u001b[39m},\n",
      "\u001b[38;2;187;187;187m  \u001b[39m{\n",
      "\u001b[38;2;187;187;187m    \u001b[39m\u001b[38;2;0;128;0;01m\"id\"\u001b[39;00m:\u001b[38;2;187;187;187m \u001b[39m\u001b[38;2;102;102;102m122\u001b[39m,\n",
      "\u001b[38;2;187;187;187m    \u001b[39m\u001b[38;2;0;128;0;01m\"a\"\u001b[39;00m:\u001b[38;2;187;187;187m \u001b[39m\u001b[38;2;186;33;33m\"b\"\u001b[39m\n",
      "\u001b[38;2;187;187;187m  \u001b[39m},\n",
      "\u001b[38;2;187;187;187m  \u001b[39m{\n",
      "\u001b[38;2;187;187;187m    \u001b[39m\u001b[38;2;0;128;0;01m\"id\"\u001b[39;00m:\u001b[38;2;187;187;187m \u001b[39m\u001b[38;2;102;102;102m111\u001b[39m,\n",
      "\u001b[38;2;187;187;187m    \u001b[39m\u001b[38;2;0;128;0;01m\"a\"\u001b[39;00m:\u001b[38;2;187;187;187m \u001b[39m\u001b[38;2;186;33;33m\"c\"\u001b[39m\n",
      "\u001b[38;2;187;187;187m  \u001b[39m},\n",
      "\u001b[38;2;187;187;187m  \u001b[39m{\n",
      "\u001b[38;2;187;187;187m    \u001b[39m\u001b[38;2;0;128;0;01m\"id\"\u001b[39;00m:\u001b[38;2;187;187;187m \u001b[39m\u001b[38;2;102;102;102m234\u001b[39m,\n",
      "\u001b[38;2;187;187;187m    \u001b[39m\u001b[38;2;0;128;0;01m\"a\"\u001b[39;00m:\u001b[38;2;187;187;187m \u001b[39m\u001b[38;2;186;33;33m\"z\"\u001b[39m,\n",
      "\u001b[38;2;187;187;187m    \u001b[39m\u001b[38;2;0;128;0;01m\"d\"\u001b[39;00m:\u001b[38;2;187;187;187m \u001b[39m\u001b[38;2;186;33;33m\"z\"\u001b[39m\n",
      "\u001b[38;2;187;187;187m  \u001b[39m}\n",
      "]\n",
      "--- schema\n",
      "{\n",
      "\u001b[38;2;187;187;187m  \u001b[39m\u001b[38;2;0;128;0;01m\"type\"\u001b[39;00m:\u001b[38;2;187;187;187m \u001b[39m\u001b[38;2;186;33;33m\"object\"\u001b[39m,\n",
      "\u001b[38;2;187;187;187m  \u001b[39m\u001b[38;2;0;128;0;01m\"properties\"\u001b[39;00m:\u001b[38;2;187;187;187m \u001b[39m{\n",
      "\u001b[38;2;187;187;187m    \u001b[39m\u001b[38;2;0;128;0;01m\"id\"\u001b[39;00m:\u001b[38;2;187;187;187m \u001b[39m{\n",
      "\u001b[38;2;187;187;187m      \u001b[39m\u001b[38;2;0;128;0;01m\"type\"\u001b[39;00m:\u001b[38;2;187;187;187m \u001b[39m\u001b[38;2;186;33;33m\"integer\"\u001b[39m\n",
      "\u001b[38;2;187;187;187m    \u001b[39m},\n",
      "\u001b[38;2;187;187;187m    \u001b[39m\u001b[38;2;0;128;0;01m\"a\"\u001b[39;00m:\u001b[38;2;187;187;187m \u001b[39m{\n",
      "\u001b[38;2;187;187;187m      \u001b[39m\u001b[38;2;0;128;0;01m\"type\"\u001b[39;00m:\u001b[38;2;187;187;187m \u001b[39m\u001b[38;2;186;33;33m\"string\"\u001b[39m\n",
      "\u001b[38;2;187;187;187m    \u001b[39m}\n",
      "\u001b[38;2;187;187;187m  \u001b[39m},\n",
      "\u001b[38;2;187;187;187m  \u001b[39m\u001b[38;2;0;128;0;01m\"required\"\u001b[39;00m:\u001b[38;2;187;187;187m \u001b[39m[\n",
      "\u001b[38;2;187;187;187m    \u001b[39m\u001b[38;2;186;33;33m\"id\"\u001b[39m\n",
      "\u001b[38;2;187;187;187m  \u001b[39m],\n",
      "\u001b[38;2;187;187;187m  \u001b[39m\u001b[38;2;0;128;0;01m\"additionalProperties\"\u001b[39;00m:\u001b[38;2;187;187;187m \u001b[39m\u001b[38;2;0;128;0;01mfalse\u001b[39;00m\n",
      "}\n"
     ]
    }
   ],
   "source": [
    "records = [\n",
    "    { \"id\": 123, \"a\": \"1\", \"c\": \"d\" },\n",
    "    { \"id\": 122, \"a\": \"b\" },\n",
    "    { \"id\": 111, \"a\": \"c\" },\n",
    "    { \"id\": 234, \"a\": \"z\", \"d\": \"z\" }\n",
    "]\n",
    "\n",
    "schema = {\n",
    "    \"type\" : \"object\",\n",
    "    \"properties\" : {\n",
    "        \"id\" : {\"type\" : \"integer\"},\n",
    "        \"a\": {\"type\": \"string\"},\n",
    "    },\n",
    "    \"required\": [\"id\"],\n",
    "    \"additionalProperties\": False\n",
    "}\n",
    "\n",
    "print(\"--- records\")\n",
    "ppd(records)\n",
    "print(\"--- schema\")\n",
    "ppd(schema)"
   ]
  },
  {
   "cell_type": "code",
   "execution_count": 194,
   "id": "8b4d5b75-d7ec-4235-839e-e1b791a4db32",
   "metadata": {},
   "outputs": [
    {
     "name": "stdout",
     "output_type": "stream",
     "text": [
      "{\n",
      "\u001b[38;2;187;187;187m  \u001b[39m\u001b[38;2;0;128;0;01m\"instance\"\u001b[39;00m:\u001b[38;2;187;187;187m \u001b[39m{\n",
      "\u001b[38;2;187;187;187m    \u001b[39m\u001b[38;2;0;128;0;01m\"id\"\u001b[39;00m:\u001b[38;2;187;187;187m \u001b[39m\u001b[38;2;102;102;102m123\u001b[39m,\n",
      "\u001b[38;2;187;187;187m    \u001b[39m\u001b[38;2;0;128;0;01m\"a\"\u001b[39;00m:\u001b[38;2;187;187;187m \u001b[39m\u001b[38;2;186;33;33m\"1\"\u001b[39m,\n",
      "\u001b[38;2;187;187;187m    \u001b[39m\u001b[38;2;0;128;0;01m\"c\"\u001b[39;00m:\u001b[38;2;187;187;187m \u001b[39m\u001b[38;2;186;33;33m\"d\"\u001b[39m\n",
      "\u001b[38;2;187;187;187m  \u001b[39m},\n",
      "\u001b[38;2;187;187;187m  \u001b[39m\u001b[38;2;0;128;0;01m\"error\"\u001b[39;00m:\u001b[38;2;187;187;187m \u001b[39m\u001b[38;2;186;33;33m\"Additional properties are not allowed ('c' was unexpected)\"\u001b[39m,\n",
      "\u001b[38;2;187;187;187m  \u001b[39m\u001b[38;2;0;128;0;01m\"keys\"\u001b[39;00m:\u001b[38;2;187;187;187m \u001b[39m[\n",
      "\u001b[38;2;187;187;187m    \u001b[39m\u001b[38;2;186;33;33m\"c\"\u001b[39m\n",
      "\u001b[38;2;187;187;187m  \u001b[39m]\n",
      "}\n",
      "{\n",
      "\u001b[38;2;187;187;187m  \u001b[39m\u001b[38;2;0;128;0;01m\"instance\"\u001b[39;00m:\u001b[38;2;187;187;187m \u001b[39m{\n",
      "\u001b[38;2;187;187;187m    \u001b[39m\u001b[38;2;0;128;0;01m\"id\"\u001b[39;00m:\u001b[38;2;187;187;187m \u001b[39m\u001b[38;2;102;102;102m234\u001b[39m,\n",
      "\u001b[38;2;187;187;187m    \u001b[39m\u001b[38;2;0;128;0;01m\"a\"\u001b[39;00m:\u001b[38;2;187;187;187m \u001b[39m\u001b[38;2;186;33;33m\"z\"\u001b[39m,\n",
      "\u001b[38;2;187;187;187m    \u001b[39m\u001b[38;2;0;128;0;01m\"d\"\u001b[39;00m:\u001b[38;2;187;187;187m \u001b[39m\u001b[38;2;186;33;33m\"z\"\u001b[39m\n",
      "\u001b[38;2;187;187;187m  \u001b[39m},\n",
      "\u001b[38;2;187;187;187m  \u001b[39m\u001b[38;2;0;128;0;01m\"error\"\u001b[39;00m:\u001b[38;2;187;187;187m \u001b[39m\u001b[38;2;186;33;33m\"Additional properties are not allowed ('d' was unexpected)\"\u001b[39m,\n",
      "\u001b[38;2;187;187;187m  \u001b[39m\u001b[38;2;0;128;0;01m\"keys\"\u001b[39;00m:\u001b[38;2;187;187;187m \u001b[39m[\n",
      "\u001b[38;2;187;187;187m    \u001b[39m\u001b[38;2;186;33;33m\"d\"\u001b[39m\n",
      "\u001b[38;2;187;187;187m  \u001b[39m]\n",
      "}\n"
     ]
    }
   ],
   "source": [
    "from typing import Dict, List\n",
    "from jsonschema.exceptions import ValidationError\n",
    "from jsonschema.validators import Draft3Validator\n",
    "\n",
    "def translate(df: dict) -> dict:\n",
    "    v = Draft3Validator(schema)\n",
    "    for record in df:\n",
    "        for error in sorted(v.iter_errors(record), key=str):\n",
    "            yield record, error\n",
    "\n",
    "def parse_unexpected_keys(instance: dict, e: ValidationError) -> List[str]:\n",
    "    '''\n",
    "    \"Additional properties are not allowed ('a' was unexpected)\" -> ['a']\n",
    "    \"Additional properties are not allowed ('a', 'c' were unexpected)\" -> ['a', 'c']\n",
    "    '''\n",
    "    return (\n",
    "        list(map(\n",
    "            # Strip the single quote from the outside of each key\n",
    "            lambda x: x.strip(\"'\"),\n",
    "            # Strip the message of the beginning/end, \n",
    "            e.args[0]\n",
    "            .lstrip('Additional properties are not allowed (')\n",
    "            .rstrip(' was unexpected)')\n",
    "            .rstrip(' were unexpected)')\n",
    "            # split on comma e.g. \"('a', 'c' was...)\" -> [\"'a'\", \"'b'\"]\n",
    "            .split(', ')\n",
    "        ))\n",
    "    )\n",
    "            \n",
    "for record, error in translate(records):\n",
    "    ppd({\n",
    "        'instance': record,\n",
    "        'error': error.message,\n",
    "        'keys': parse_unexpected_keys(record, error)\n",
    "    })"
   ]
  },
  {
   "cell_type": "code",
   "execution_count": 195,
   "id": "6e99805c-494f-4ff5-8890-c4f8bf37cc4a",
   "metadata": {},
   "outputs": [],
   "source": [
    "from dataclasses import dataclass, field\n",
    "\n",
    "@dataclass\n",
    "class UnexpectedKeys:\n",
    "    schema: dict\n",
    "    unique_keys: set = field(default_factory=set)\n",
    "    \n",
    "    def __post_init__(self):\n",
    "        self.validator = Draft3Validator(self.schema)\n",
    "\n",
    "    @property\n",
    "    def keys(self):\n",
    "        return list(sorted(self.unique_keys))\n",
    "\n",
    "    @staticmethod\n",
    "    def parse_unexpected_keys(e: ValidationError) -> List[str]:\n",
    "        '''\n",
    "        \"Additional properties are not allowed ('a' was unexpected)\" -> ['a']\n",
    "        \"Additional properties are not allowed ('a', 'c' were unexpected)\" -> ['a', 'c']\n",
    "        '''\n",
    "        return (\n",
    "            list(map(\n",
    "                # Strip the single quote from the outside of each key\n",
    "                lambda x: x.strip(\"'\"),\n",
    "                # Strip the message of the beginning/end, \n",
    "                e.args[0]\n",
    "                .lstrip('Additional properties are not allowed (')\n",
    "                .rstrip(' was unexpected)')\n",
    "                .rstrip(' were unexpected)')\n",
    "                # split on comma e.g. \"('a', 'c' was...)\" -> [\"'a'\", \"'b'\"]\n",
    "                .split(', ')\n",
    "            ))\n",
    "        )\n",
    "\n",
    "    \n",
    "    def check(self, instance: dict):\n",
    "        for error in sorted(self.validator.iter_errors(instance), key=str):\n",
    "            for key in UnexpectedKeys.parse_unexpected_keys(error):\n",
    "                self.unique_keys.add(key)\n",
    "            yield error"
   ]
  },
  {
   "cell_type": "code",
   "execution_count": 196,
   "id": "4f9ca6b8-1c4f-4726-855a-3c45a5087758",
   "metadata": {},
   "outputs": [
    {
     "name": "stdout",
     "output_type": "stream",
     "text": [
      "{'id': 123, 'a': '1', 'c': 'd'} Additional properties are not allowed ('c' was unexpected)\n",
      "\n",
      "Failed validating 'additionalProperties' in schema:\n",
      "    {'additionalProperties': False,\n",
      "     'properties': {'a': {'type': 'string'}, 'id': {'type': 'integer'}},\n",
      "     'required': ['id'],\n",
      "     'type': 'object'}\n",
      "\n",
      "On instance:\n",
      "    {'a': '1', 'c': 'd', 'id': 123}\n",
      "{'id': 234, 'a': 'z', 'd': 'z'} Additional properties are not allowed ('d' was unexpected)\n",
      "\n",
      "Failed validating 'additionalProperties' in schema:\n",
      "    {'additionalProperties': False,\n",
      "     'properties': {'a': {'type': 'string'}, 'id': {'type': 'integer'}},\n",
      "     'required': ['id'],\n",
      "     'type': 'object'}\n",
      "\n",
      "On instance:\n",
      "    {'a': 'z', 'd': 'z', 'id': 234}\n"
     ]
    }
   ],
   "source": [
    "k = UnexpectedKeys(schema)\n",
    "for record in records:\n",
    "    for error in k.check(record):\n",
    "        print(record, error)"
   ]
  },
  {
   "cell_type": "code",
   "execution_count": 197,
   "id": "40950ba8-bbc6-4f66-8682-77840d4a2099",
   "metadata": {},
   "outputs": [
    {
     "data": {
      "text/plain": [
       "{'c', 'd'}"
      ]
     },
     "execution_count": 197,
     "metadata": {},
     "output_type": "execute_result"
    }
   ],
   "source": [
    "k.unique_keys"
   ]
  },
  {
   "cell_type": "code",
   "execution_count": 220,
   "id": "c3a894a0-e997-4fc3-9331-7455422531c4",
   "metadata": {},
   "outputs": [],
   "source": [
    "k.unique_keys\n",
    "\n",
    "def split_dict(d: dict, keys: list):\n",
    "    dd, extras = {}, {}\n",
    "    for k in d.keys():\n",
    "        if k in keys:\n",
    "            extras[k] = d[k]\n",
    "        else:\n",
    "            dd[k] = d[k]\n",
    "    return dd, extras\n",
    "\n",
    "def translate(df: list) -> list:\n",
    "    uk = UnexpectedKeys(schema)\n",
    "    for record in records:\n",
    "        for error in uk.check(record):\n",
    "            d, extras = split_dict(record, UnexpectedKeys.parse_unexpected_keys(error))\n",
    "            if extras:\n",
    "                for k, v in extras.items():\n",
    "                    yield {\n",
    "                        **d,\n",
    "                        **{\n",
    "                            \"custom\": [\n",
    "                                {\"key\": k, \"value\": v}\n",
    "                            ]\n",
    "                        }\n",
    "                    }\n",
    "            else:\n",
    "                yield {**d, **{\"custom\": []}}\n",
    "            break\n",
    "        else:\n",
    "            yield {**record, **{\"custom\": []}}"
   ]
  },
  {
   "cell_type": "code",
   "execution_count": 221,
   "id": "e1841e9c-eba2-457d-8ea9-21ed9b2fc1b9",
   "metadata": {},
   "outputs": [
    {
     "name": "stdout",
     "output_type": "stream",
     "text": [
      "--- records\n",
      "{\u001b[38;2;0;128;0;01m\"id\"\u001b[39;00m:\u001b[38;2;187;187;187m \u001b[39m\u001b[38;2;102;102;102m123\u001b[39m,\u001b[38;2;187;187;187m \u001b[39m\u001b[38;2;0;128;0;01m\"a\"\u001b[39;00m:\u001b[38;2;187;187;187m \u001b[39m\u001b[38;2;186;33;33m\"1\"\u001b[39m,\u001b[38;2;187;187;187m \u001b[39m\u001b[38;2;0;128;0;01m\"c\"\u001b[39;00m:\u001b[38;2;187;187;187m \u001b[39m\u001b[38;2;186;33;33m\"d\"\u001b[39m}\n",
      "{\u001b[38;2;0;128;0;01m\"id\"\u001b[39;00m:\u001b[38;2;187;187;187m \u001b[39m\u001b[38;2;102;102;102m122\u001b[39m,\u001b[38;2;187;187;187m \u001b[39m\u001b[38;2;0;128;0;01m\"a\"\u001b[39;00m:\u001b[38;2;187;187;187m \u001b[39m\u001b[38;2;186;33;33m\"b\"\u001b[39m}\n",
      "{\u001b[38;2;0;128;0;01m\"id\"\u001b[39;00m:\u001b[38;2;187;187;187m \u001b[39m\u001b[38;2;102;102;102m111\u001b[39m,\u001b[38;2;187;187;187m \u001b[39m\u001b[38;2;0;128;0;01m\"a\"\u001b[39;00m:\u001b[38;2;187;187;187m \u001b[39m\u001b[38;2;186;33;33m\"c\"\u001b[39m}\n",
      "{\u001b[38;2;0;128;0;01m\"id\"\u001b[39;00m:\u001b[38;2;187;187;187m \u001b[39m\u001b[38;2;102;102;102m234\u001b[39m,\u001b[38;2;187;187;187m \u001b[39m\u001b[38;2;0;128;0;01m\"a\"\u001b[39;00m:\u001b[38;2;187;187;187m \u001b[39m\u001b[38;2;186;33;33m\"z\"\u001b[39m,\u001b[38;2;187;187;187m \u001b[39m\u001b[38;2;0;128;0;01m\"d\"\u001b[39;00m:\u001b[38;2;187;187;187m \u001b[39m\u001b[38;2;186;33;33m\"z\"\u001b[39m}\n",
      "--- translated\n",
      "{\u001b[38;2;0;128;0;01m\"id\"\u001b[39;00m:\u001b[38;2;187;187;187m \u001b[39m\u001b[38;2;102;102;102m123\u001b[39m,\u001b[38;2;187;187;187m \u001b[39m\u001b[38;2;0;128;0;01m\"a\"\u001b[39;00m:\u001b[38;2;187;187;187m \u001b[39m\u001b[38;2;186;33;33m\"1\"\u001b[39m,\u001b[38;2;187;187;187m \u001b[39m\u001b[38;2;0;128;0;01m\"custom\"\u001b[39;00m:\u001b[38;2;187;187;187m \u001b[39m[{\u001b[38;2;0;128;0;01m\"key\"\u001b[39;00m:\u001b[38;2;187;187;187m \u001b[39m\u001b[38;2;186;33;33m\"c\"\u001b[39m,\u001b[38;2;187;187;187m \u001b[39m\u001b[38;2;0;128;0;01m\"value\"\u001b[39;00m:\u001b[38;2;187;187;187m \u001b[39m\u001b[38;2;186;33;33m\"d\"\u001b[39m}]}\n",
      "{\u001b[38;2;0;128;0;01m\"id\"\u001b[39;00m:\u001b[38;2;187;187;187m \u001b[39m\u001b[38;2;102;102;102m122\u001b[39m,\u001b[38;2;187;187;187m \u001b[39m\u001b[38;2;0;128;0;01m\"a\"\u001b[39;00m:\u001b[38;2;187;187;187m \u001b[39m\u001b[38;2;186;33;33m\"b\"\u001b[39m,\u001b[38;2;187;187;187m \u001b[39m\u001b[38;2;0;128;0;01m\"custom\"\u001b[39;00m:\u001b[38;2;187;187;187m \u001b[39m[]}\n",
      "{\u001b[38;2;0;128;0;01m\"id\"\u001b[39;00m:\u001b[38;2;187;187;187m \u001b[39m\u001b[38;2;102;102;102m111\u001b[39m,\u001b[38;2;187;187;187m \u001b[39m\u001b[38;2;0;128;0;01m\"a\"\u001b[39;00m:\u001b[38;2;187;187;187m \u001b[39m\u001b[38;2;186;33;33m\"c\"\u001b[39m,\u001b[38;2;187;187;187m \u001b[39m\u001b[38;2;0;128;0;01m\"custom\"\u001b[39;00m:\u001b[38;2;187;187;187m \u001b[39m[]}\n",
      "{\u001b[38;2;0;128;0;01m\"id\"\u001b[39;00m:\u001b[38;2;187;187;187m \u001b[39m\u001b[38;2;102;102;102m234\u001b[39m,\u001b[38;2;187;187;187m \u001b[39m\u001b[38;2;0;128;0;01m\"a\"\u001b[39;00m:\u001b[38;2;187;187;187m \u001b[39m\u001b[38;2;186;33;33m\"z\"\u001b[39m,\u001b[38;2;187;187;187m \u001b[39m\u001b[38;2;0;128;0;01m\"custom\"\u001b[39;00m:\u001b[38;2;187;187;187m \u001b[39m[{\u001b[38;2;0;128;0;01m\"key\"\u001b[39;00m:\u001b[38;2;187;187;187m \u001b[39m\u001b[38;2;186;33;33m\"d\"\u001b[39m,\u001b[38;2;187;187;187m \u001b[39m\u001b[38;2;0;128;0;01m\"value\"\u001b[39;00m:\u001b[38;2;187;187;187m \u001b[39m\u001b[38;2;186;33;33m\"z\"\u001b[39m}]}\n"
     ]
    }
   ],
   "source": [
    "print('--- records')\n",
    "for record in records:\n",
    "    ppd(record, indent=None)\n",
    "print('--- translated')\n",
    "for record in translate(records):\n",
    "    ppd(record, indent=None)"
   ]
  },
  {
   "cell_type": "code",
   "execution_count": 222,
   "id": "70d8c03d-7422-4c9c-9326-e7b9a46cf900",
   "metadata": {},
   "outputs": [],
   "source": [
    "schema = {\n",
    "    \"type\" : \"object\",\n",
    "    \"properties\" : {\n",
    "        \"id\" : {\"type\" : \"integer\"},\n",
    "        \"a\": {\"type\": \"string\"},\n",
    "        \"custom\": {\n",
    "            \"type\": \"array\",\n",
    "            \"items\": {\n",
    "                \"type\": \"object\",\n",
    "                \"properties\": {\n",
    "                    \"key\": {\"type\": \"string\"},\n",
    "                    \"value\": {\"type\": \"string\"},\n",
    "                }\n",
    "            }\n",
    "        }\n",
    "    },\n",
    "    \"required\": [\"id\", \"custom\"],\n",
    "    \"additionalProperties\": False\n",
    "}"
   ]
  },
  {
   "cell_type": "code",
   "execution_count": 223,
   "id": "b0955f5e-dad8-45be-94fc-81955e5921d9",
   "metadata": {},
   "outputs": [
    {
     "name": "stdout",
     "output_type": "stream",
     "text": [
      "{\u001b[38;2;0;128;0;01m\"id\"\u001b[39;00m:\u001b[38;2;187;187;187m \u001b[39m\u001b[38;2;102;102;102m123\u001b[39m,\u001b[38;2;187;187;187m \u001b[39m\u001b[38;2;0;128;0;01m\"a\"\u001b[39;00m:\u001b[38;2;187;187;187m \u001b[39m\u001b[38;2;186;33;33m\"1\"\u001b[39m,\u001b[38;2;187;187;187m \u001b[39m\u001b[38;2;0;128;0;01m\"custom\"\u001b[39;00m:\u001b[38;2;187;187;187m \u001b[39m[{\u001b[38;2;0;128;0;01m\"key\"\u001b[39;00m:\u001b[38;2;187;187;187m \u001b[39m\u001b[38;2;186;33;33m\"c\"\u001b[39m,\u001b[38;2;187;187;187m \u001b[39m\u001b[38;2;0;128;0;01m\"value\"\u001b[39;00m:\u001b[38;2;187;187;187m \u001b[39m\u001b[38;2;186;33;33m\"d\"\u001b[39m}]}\n",
      "{\u001b[38;2;0;128;0;01m\"id\"\u001b[39;00m:\u001b[38;2;187;187;187m \u001b[39m\u001b[38;2;102;102;102m122\u001b[39m,\u001b[38;2;187;187;187m \u001b[39m\u001b[38;2;0;128;0;01m\"a\"\u001b[39;00m:\u001b[38;2;187;187;187m \u001b[39m\u001b[38;2;186;33;33m\"b\"\u001b[39m,\u001b[38;2;187;187;187m \u001b[39m\u001b[38;2;0;128;0;01m\"custom\"\u001b[39;00m:\u001b[38;2;187;187;187m \u001b[39m[]}\n",
      "{\u001b[38;2;0;128;0;01m\"id\"\u001b[39;00m:\u001b[38;2;187;187;187m \u001b[39m\u001b[38;2;102;102;102m111\u001b[39m,\u001b[38;2;187;187;187m \u001b[39m\u001b[38;2;0;128;0;01m\"a\"\u001b[39;00m:\u001b[38;2;187;187;187m \u001b[39m\u001b[38;2;186;33;33m\"c\"\u001b[39m,\u001b[38;2;187;187;187m \u001b[39m\u001b[38;2;0;128;0;01m\"custom\"\u001b[39;00m:\u001b[38;2;187;187;187m \u001b[39m[]}\n",
      "{\u001b[38;2;0;128;0;01m\"id\"\u001b[39;00m:\u001b[38;2;187;187;187m \u001b[39m\u001b[38;2;102;102;102m234\u001b[39m,\u001b[38;2;187;187;187m \u001b[39m\u001b[38;2;0;128;0;01m\"a\"\u001b[39;00m:\u001b[38;2;187;187;187m \u001b[39m\u001b[38;2;186;33;33m\"z\"\u001b[39m,\u001b[38;2;187;187;187m \u001b[39m\u001b[38;2;0;128;0;01m\"custom\"\u001b[39;00m:\u001b[38;2;187;187;187m \u001b[39m[{\u001b[38;2;0;128;0;01m\"key\"\u001b[39;00m:\u001b[38;2;187;187;187m \u001b[39m\u001b[38;2;186;33;33m\"d\"\u001b[39m,\u001b[38;2;187;187;187m \u001b[39m\u001b[38;2;0;128;0;01m\"value\"\u001b[39;00m:\u001b[38;2;187;187;187m \u001b[39m\u001b[38;2;186;33;33m\"z\"\u001b[39m}]}\n"
     ]
    }
   ],
   "source": [
    "for record in translate(records):\n",
    "    ppd(record, indent=None)\n",
    "    validate(record, schema)"
   ]
  },
  {
   "cell_type": "code",
   "execution_count": null,
   "id": "f19e8a3d-d021-4fdb-b4ed-ba6d817a2ada",
   "metadata": {},
   "outputs": [],
   "source": []
  }
 ],
 "metadata": {
  "kernelspec": {
   "display_name": "Python 3 (ipykernel)",
   "language": "python",
   "name": "python3"
  },
  "language_info": {
   "codemirror_mode": {
    "name": "ipython",
    "version": 3
   },
   "file_extension": ".py",
   "mimetype": "text/x-python",
   "name": "python",
   "nbconvert_exporter": "python",
   "pygments_lexer": "ipython3",
   "version": "3.10.4"
  }
 },
 "nbformat": 4,
 "nbformat_minor": 5
}
