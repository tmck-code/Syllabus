{
 "cells": [
  {
   "cell_type": "code",
   "execution_count": 1,
   "id": "4f13c7cb-b790-4e05-aee7-63c0d1d3adc4",
   "metadata": {},
   "outputs": [
    {
     "name": "stderr",
     "output_type": "stream",
     "text": [
      "Setting default log level to \"WARN\".\n",
      "To adjust logging level use sc.setLogLevel(newLevel). For SparkR, use setLogLevel(newLevel).\n"
     ]
    },
    {
     "name": "stdout",
     "output_type": "stream",
     "text": [
      "22/06/21 00:16:21 WARN NativeCodeLoader: Unable to load native-hadoop library for your platform... using builtin-java classes where applicable\n"
     ]
    },
    {
     "data": {
      "text/html": [
       "\n",
       "            <div>\n",
       "                <p><b>SparkSession - in-memory</b></p>\n",
       "                \n",
       "        <div>\n",
       "            <p><b>SparkContext</b></p>\n",
       "\n",
       "            <p><a href=\"http://d6827207724e:4040\">Spark UI</a></p>\n",
       "\n",
       "            <dl>\n",
       "              <dt>Version</dt>\n",
       "                <dd><code>v3.3.0</code></dd>\n",
       "              <dt>Master</dt>\n",
       "                <dd><code>local</code></dd>\n",
       "              <dt>AppName</dt>\n",
       "                <dd><code>syllabus</code></dd>\n",
       "            </dl>\n",
       "        </div>\n",
       "        \n",
       "            </div>\n",
       "        "
      ],
      "text/plain": [
       "<pyspark.sql.session.SparkSession at 0x7f5a7ef917b0>"
      ]
     },
     "execution_count": 1,
     "metadata": {},
     "output_type": "execute_result"
    }
   ],
   "source": [
    "from pyspark.sql import SparkSession\n",
    "\n",
    "def _spark_context():\n",
    "    'Creates a local spark context'\n",
    "\n",
    "    return SparkSession.builder \\\n",
    "      .master('local') \\\n",
    "      .appName('syllabus') \\\n",
    "      .getOrCreate()\n",
    "\n",
    "SPARK = _spark_context()\n",
    "SPARK"
   ]
  },
  {
   "cell_type": "code",
   "execution_count": 29,
   "id": "12f8c6a6-9ff0-4913-9b92-2d93b762b610",
   "metadata": {},
   "outputs": [],
   "source": [
    "import json\n",
    "\n",
    "from pyspark.sql import DataFrame\n",
    "from pyspark.sql import functions as F\n",
    "\n",
    "from pygments import highlight\n",
    "from pygments.lexers import JsonLexer\n",
    "from pygments.formatters import TerminalTrueColorFormatter\n",
    "\n",
    "def ppj(j, indent=2):\n",
    "    j = json.dumps(json.loads(j), indent=indent)\n",
    "    print(highlight(j, JsonLexer(), TerminalTrueColorFormatter()))\n",
    "   \n",
    "def ppd(d, indent=2):\n",
    "    ppj(json.dumps(d, indent=indent))\n",
    "\n",
    "def count_nulls(df: DataFrame) -> int:\n",
    "    return df.select(\n",
    "        sum([F.count(F.when(F.col(c).isNull(), c)).alias(c) for c in df.columns])\n",
    "    ).collect()[0][0]\n",
    "\n",
    "def count_cells(df: DataFrame) -> int:\n",
    "    return df.count() * len(df.columns)\n",
    "\n",
    "class DFLoader:\n",
    "    @staticmethod\n",
    "    def from_file(records: list, fpath: str) -> DataFrame:\n",
    "        with open(fpath, 'w') as ostream:\n",
    "            for record in records:\n",
    "                print(json.dumps(record), file=ostream, end='\\n')\n",
    "        df = SPARK.read.json(fpath)\n",
    "        df.show()\n",
    "        print('cells', count_cells(df), '/', 'nulls', count_nulls(df))\n",
    "        print(ppj(df.schema.json()))\n",
    "        return df    \n"
   ]
  },
  {
   "cell_type": "code",
   "execution_count": 30,
   "id": "72a2a01a-9a26-4d95-9257-d76828baec10",
   "metadata": {},
   "outputs": [
    {
     "name": "stdout",
     "output_type": "stream",
     "text": [
      "+---+----+----+\n",
      "|  a|   c|   d|\n",
      "+---+----+----+\n",
      "|  a|   d|null|\n",
      "|  b|null|null|\n",
      "|  c|null|null|\n",
      "|  1|null|   z|\n",
      "+---+----+----+\n",
      "\n",
      "cells 12 / nulls 6\n",
      "{\n",
      "\u001b[38;2;187;187;187m  \u001b[39m\u001b[38;2;0;128;0;01m\"fields\"\u001b[39;00m:\u001b[38;2;187;187;187m \u001b[39m[\n",
      "\u001b[38;2;187;187;187m    \u001b[39m{\n",
      "\u001b[38;2;187;187;187m      \u001b[39m\u001b[38;2;0;128;0;01m\"metadata\"\u001b[39;00m:\u001b[38;2;187;187;187m \u001b[39m{},\n",
      "\u001b[38;2;187;187;187m      \u001b[39m\u001b[38;2;0;128;0;01m\"name\"\u001b[39;00m:\u001b[38;2;187;187;187m \u001b[39m\u001b[38;2;186;33;33m\"a\"\u001b[39m,\n",
      "\u001b[38;2;187;187;187m      \u001b[39m\u001b[38;2;0;128;0;01m\"nullable\"\u001b[39;00m:\u001b[38;2;187;187;187m \u001b[39m\u001b[38;2;0;128;0;01mtrue\u001b[39;00m,\n",
      "\u001b[38;2;187;187;187m      \u001b[39m\u001b[38;2;0;128;0;01m\"type\"\u001b[39;00m:\u001b[38;2;187;187;187m \u001b[39m\u001b[38;2;186;33;33m\"string\"\u001b[39m\n",
      "\u001b[38;2;187;187;187m    \u001b[39m},\n",
      "\u001b[38;2;187;187;187m    \u001b[39m{\n",
      "\u001b[38;2;187;187;187m      \u001b[39m\u001b[38;2;0;128;0;01m\"metadata\"\u001b[39;00m:\u001b[38;2;187;187;187m \u001b[39m{},\n",
      "\u001b[38;2;187;187;187m      \u001b[39m\u001b[38;2;0;128;0;01m\"name\"\u001b[39;00m:\u001b[38;2;187;187;187m \u001b[39m\u001b[38;2;186;33;33m\"c\"\u001b[39m,\n",
      "\u001b[38;2;187;187;187m      \u001b[39m\u001b[38;2;0;128;0;01m\"nullable\"\u001b[39;00m:\u001b[38;2;187;187;187m \u001b[39m\u001b[38;2;0;128;0;01mtrue\u001b[39;00m,\n",
      "\u001b[38;2;187;187;187m      \u001b[39m\u001b[38;2;0;128;0;01m\"type\"\u001b[39;00m:\u001b[38;2;187;187;187m \u001b[39m\u001b[38;2;186;33;33m\"string\"\u001b[39m\n",
      "\u001b[38;2;187;187;187m    \u001b[39m},\n",
      "\u001b[38;2;187;187;187m    \u001b[39m{\n",
      "\u001b[38;2;187;187;187m      \u001b[39m\u001b[38;2;0;128;0;01m\"metadata\"\u001b[39;00m:\u001b[38;2;187;187;187m \u001b[39m{},\n",
      "\u001b[38;2;187;187;187m      \u001b[39m\u001b[38;2;0;128;0;01m\"name\"\u001b[39;00m:\u001b[38;2;187;187;187m \u001b[39m\u001b[38;2;186;33;33m\"d\"\u001b[39m,\n",
      "\u001b[38;2;187;187;187m      \u001b[39m\u001b[38;2;0;128;0;01m\"nullable\"\u001b[39;00m:\u001b[38;2;187;187;187m \u001b[39m\u001b[38;2;0;128;0;01mtrue\u001b[39;00m,\n",
      "\u001b[38;2;187;187;187m      \u001b[39m\u001b[38;2;0;128;0;01m\"type\"\u001b[39;00m:\u001b[38;2;187;187;187m \u001b[39m\u001b[38;2;186;33;33m\"string\"\u001b[39m\n",
      "\u001b[38;2;187;187;187m    \u001b[39m}\n",
      "\u001b[38;2;187;187;187m  \u001b[39m],\n",
      "\u001b[38;2;187;187;187m  \u001b[39m\u001b[38;2;0;128;0;01m\"type\"\u001b[39;00m:\u001b[38;2;187;187;187m \u001b[39m\u001b[38;2;186;33;33m\"struct\"\u001b[39m\n",
      "}\n",
      "\n",
      "None\n"
     ]
    },
    {
     "data": {
      "text/plain": [
       "6"
      ]
     },
     "execution_count": 30,
     "metadata": {},
     "output_type": "execute_result"
    }
   ],
   "source": [
    "records = [\n",
    "    { \"a\": \"a\", \"c\": \"d\" },\n",
    "    { \"a\": \"b\" },\n",
    "    { \"a\": \"c\" },\n",
    "    { \"a\": 1, \"d\": \"z\" }\n",
    "]\n",
    "df = DFLoader.from_file(records, 'f.ndjson')\n",
    "count_nulls(df)"
   ]
  },
  {
   "cell_type": "code",
   "execution_count": 31,
   "id": "97db5c1e-4e49-40dd-859e-ee9b1f6270ed",
   "metadata": {},
   "outputs": [
    {
     "name": "stdout",
     "output_type": "stream",
     "text": [
      "+---+----+----+\n",
      "|  a|   c|   d|\n",
      "+---+----+----+\n",
      "|  1|   d|null|\n",
      "|  b|null|null|\n",
      "|  c|null|null|\n",
      "|123|null|   z|\n",
      "+---+----+----+\n",
      "\n",
      "cells 12 / nulls 6\n",
      "{\n",
      "\u001b[38;2;187;187;187m  \u001b[39m\u001b[38;2;0;128;0;01m\"fields\"\u001b[39;00m:\u001b[38;2;187;187;187m \u001b[39m[\n",
      "\u001b[38;2;187;187;187m    \u001b[39m{\n",
      "\u001b[38;2;187;187;187m      \u001b[39m\u001b[38;2;0;128;0;01m\"metadata\"\u001b[39;00m:\u001b[38;2;187;187;187m \u001b[39m{},\n",
      "\u001b[38;2;187;187;187m      \u001b[39m\u001b[38;2;0;128;0;01m\"name\"\u001b[39;00m:\u001b[38;2;187;187;187m \u001b[39m\u001b[38;2;186;33;33m\"a\"\u001b[39m,\n",
      "\u001b[38;2;187;187;187m      \u001b[39m\u001b[38;2;0;128;0;01m\"nullable\"\u001b[39;00m:\u001b[38;2;187;187;187m \u001b[39m\u001b[38;2;0;128;0;01mtrue\u001b[39;00m,\n",
      "\u001b[38;2;187;187;187m      \u001b[39m\u001b[38;2;0;128;0;01m\"type\"\u001b[39;00m:\u001b[38;2;187;187;187m \u001b[39m\u001b[38;2;186;33;33m\"string\"\u001b[39m\n",
      "\u001b[38;2;187;187;187m    \u001b[39m},\n",
      "\u001b[38;2;187;187;187m    \u001b[39m{\n",
      "\u001b[38;2;187;187;187m      \u001b[39m\u001b[38;2;0;128;0;01m\"metadata\"\u001b[39;00m:\u001b[38;2;187;187;187m \u001b[39m{},\n",
      "\u001b[38;2;187;187;187m      \u001b[39m\u001b[38;2;0;128;0;01m\"name\"\u001b[39;00m:\u001b[38;2;187;187;187m \u001b[39m\u001b[38;2;186;33;33m\"c\"\u001b[39m,\n",
      "\u001b[38;2;187;187;187m      \u001b[39m\u001b[38;2;0;128;0;01m\"nullable\"\u001b[39;00m:\u001b[38;2;187;187;187m \u001b[39m\u001b[38;2;0;128;0;01mtrue\u001b[39;00m,\n",
      "\u001b[38;2;187;187;187m      \u001b[39m\u001b[38;2;0;128;0;01m\"type\"\u001b[39;00m:\u001b[38;2;187;187;187m \u001b[39m\u001b[38;2;186;33;33m\"string\"\u001b[39m\n",
      "\u001b[38;2;187;187;187m    \u001b[39m},\n",
      "\u001b[38;2;187;187;187m    \u001b[39m{\n",
      "\u001b[38;2;187;187;187m      \u001b[39m\u001b[38;2;0;128;0;01m\"metadata\"\u001b[39;00m:\u001b[38;2;187;187;187m \u001b[39m{},\n",
      "\u001b[38;2;187;187;187m      \u001b[39m\u001b[38;2;0;128;0;01m\"name\"\u001b[39;00m:\u001b[38;2;187;187;187m \u001b[39m\u001b[38;2;186;33;33m\"d\"\u001b[39m,\n",
      "\u001b[38;2;187;187;187m      \u001b[39m\u001b[38;2;0;128;0;01m\"nullable\"\u001b[39;00m:\u001b[38;2;187;187;187m \u001b[39m\u001b[38;2;0;128;0;01mtrue\u001b[39;00m,\n",
      "\u001b[38;2;187;187;187m      \u001b[39m\u001b[38;2;0;128;0;01m\"type\"\u001b[39;00m:\u001b[38;2;187;187;187m \u001b[39m\u001b[38;2;186;33;33m\"string\"\u001b[39m\n",
      "\u001b[38;2;187;187;187m    \u001b[39m}\n",
      "\u001b[38;2;187;187;187m  \u001b[39m],\n",
      "\u001b[38;2;187;187;187m  \u001b[39m\u001b[38;2;0;128;0;01m\"type\"\u001b[39;00m:\u001b[38;2;187;187;187m \u001b[39m\u001b[38;2;186;33;33m\"struct\"\u001b[39m\n",
      "}\n",
      "\n",
      "None\n"
     ]
    }
   ],
   "source": [
    "records = [\n",
    "    { \"a\": 1, \"c\": \"d\" },\n",
    "    { \"a\": \"b\" },\n",
    "    { \"a\": \"c\" },\n",
    "    { \"a\": \"123\", \"d\": \"z\" }\n",
    "]\n",
    "df = DFLoader.from_file(records, 'f.ndjson')"
   ]
  },
  {
   "cell_type": "code",
   "execution_count": 32,
   "id": "a900f7ee-16ee-4359-a0c0-baa8a551ba37",
   "metadata": {},
   "outputs": [
    {
     "name": "stdout",
     "output_type": "stream",
     "text": [
      "+---+----+----+---+\n",
      "|  a|   c|   d| id|\n",
      "+---+----+----+---+\n",
      "|  1|   d|null|123|\n",
      "|  b|null|null|122|\n",
      "|  c|null|null|111|\n",
      "|  1|null|   z|234|\n",
      "+---+----+----+---+\n",
      "\n",
      "cells 16 / nulls 6\n",
      "{\n",
      "\u001b[38;2;187;187;187m  \u001b[39m\u001b[38;2;0;128;0;01m\"fields\"\u001b[39;00m:\u001b[38;2;187;187;187m \u001b[39m[\n",
      "\u001b[38;2;187;187;187m    \u001b[39m{\n",
      "\u001b[38;2;187;187;187m      \u001b[39m\u001b[38;2;0;128;0;01m\"metadata\"\u001b[39;00m:\u001b[38;2;187;187;187m \u001b[39m{},\n",
      "\u001b[38;2;187;187;187m      \u001b[39m\u001b[38;2;0;128;0;01m\"name\"\u001b[39;00m:\u001b[38;2;187;187;187m \u001b[39m\u001b[38;2;186;33;33m\"a\"\u001b[39m,\n",
      "\u001b[38;2;187;187;187m      \u001b[39m\u001b[38;2;0;128;0;01m\"nullable\"\u001b[39;00m:\u001b[38;2;187;187;187m \u001b[39m\u001b[38;2;0;128;0;01mtrue\u001b[39;00m,\n",
      "\u001b[38;2;187;187;187m      \u001b[39m\u001b[38;2;0;128;0;01m\"type\"\u001b[39;00m:\u001b[38;2;187;187;187m \u001b[39m\u001b[38;2;186;33;33m\"string\"\u001b[39m\n",
      "\u001b[38;2;187;187;187m    \u001b[39m},\n",
      "\u001b[38;2;187;187;187m    \u001b[39m{\n",
      "\u001b[38;2;187;187;187m      \u001b[39m\u001b[38;2;0;128;0;01m\"metadata\"\u001b[39;00m:\u001b[38;2;187;187;187m \u001b[39m{},\n",
      "\u001b[38;2;187;187;187m      \u001b[39m\u001b[38;2;0;128;0;01m\"name\"\u001b[39;00m:\u001b[38;2;187;187;187m \u001b[39m\u001b[38;2;186;33;33m\"c\"\u001b[39m,\n",
      "\u001b[38;2;187;187;187m      \u001b[39m\u001b[38;2;0;128;0;01m\"nullable\"\u001b[39;00m:\u001b[38;2;187;187;187m \u001b[39m\u001b[38;2;0;128;0;01mtrue\u001b[39;00m,\n",
      "\u001b[38;2;187;187;187m      \u001b[39m\u001b[38;2;0;128;0;01m\"type\"\u001b[39;00m:\u001b[38;2;187;187;187m \u001b[39m\u001b[38;2;186;33;33m\"string\"\u001b[39m\n",
      "\u001b[38;2;187;187;187m    \u001b[39m},\n",
      "\u001b[38;2;187;187;187m    \u001b[39m{\n",
      "\u001b[38;2;187;187;187m      \u001b[39m\u001b[38;2;0;128;0;01m\"metadata\"\u001b[39;00m:\u001b[38;2;187;187;187m \u001b[39m{},\n",
      "\u001b[38;2;187;187;187m      \u001b[39m\u001b[38;2;0;128;0;01m\"name\"\u001b[39;00m:\u001b[38;2;187;187;187m \u001b[39m\u001b[38;2;186;33;33m\"d\"\u001b[39m,\n",
      "\u001b[38;2;187;187;187m      \u001b[39m\u001b[38;2;0;128;0;01m\"nullable\"\u001b[39;00m:\u001b[38;2;187;187;187m \u001b[39m\u001b[38;2;0;128;0;01mtrue\u001b[39;00m,\n",
      "\u001b[38;2;187;187;187m      \u001b[39m\u001b[38;2;0;128;0;01m\"type\"\u001b[39;00m:\u001b[38;2;187;187;187m \u001b[39m\u001b[38;2;186;33;33m\"string\"\u001b[39m\n",
      "\u001b[38;2;187;187;187m    \u001b[39m},\n",
      "\u001b[38;2;187;187;187m    \u001b[39m{\n",
      "\u001b[38;2;187;187;187m      \u001b[39m\u001b[38;2;0;128;0;01m\"metadata\"\u001b[39;00m:\u001b[38;2;187;187;187m \u001b[39m{},\n",
      "\u001b[38;2;187;187;187m      \u001b[39m\u001b[38;2;0;128;0;01m\"name\"\u001b[39;00m:\u001b[38;2;187;187;187m \u001b[39m\u001b[38;2;186;33;33m\"id\"\u001b[39m,\n",
      "\u001b[38;2;187;187;187m      \u001b[39m\u001b[38;2;0;128;0;01m\"nullable\"\u001b[39;00m:\u001b[38;2;187;187;187m \u001b[39m\u001b[38;2;0;128;0;01mtrue\u001b[39;00m,\n",
      "\u001b[38;2;187;187;187m      \u001b[39m\u001b[38;2;0;128;0;01m\"type\"\u001b[39;00m:\u001b[38;2;187;187;187m \u001b[39m\u001b[38;2;186;33;33m\"long\"\u001b[39m\n",
      "\u001b[38;2;187;187;187m    \u001b[39m}\n",
      "\u001b[38;2;187;187;187m  \u001b[39m],\n",
      "\u001b[38;2;187;187;187m  \u001b[39m\u001b[38;2;0;128;0;01m\"type\"\u001b[39;00m:\u001b[38;2;187;187;187m \u001b[39m\u001b[38;2;186;33;33m\"struct\"\u001b[39m\n",
      "}\n",
      "\n",
      "None\n"
     ]
    }
   ],
   "source": [
    "records = [\n",
    "    { \"id\": 123, \"a\": 1, \"c\": \"d\" },\n",
    "    { \"id\": 122, \"a\": \"b\" },\n",
    "    { \"id\": 111, \"a\": \"c\" },\n",
    "    { \"id\": 234, \"a\": 1, \"d\": \"z\" }\n",
    "]\n",
    "df = DFLoader.from_file(records, 'f.ndjson')"
   ]
  },
  {
   "cell_type": "code",
   "execution_count": 33,
   "id": "57817241-09f1-49c4-b443-06454c545e46",
   "metadata": {},
   "outputs": [
    {
     "name": "stdout",
     "output_type": "stream",
     "text": [
      "+---+---+-----+\n",
      "| id|key|value|\n",
      "+---+---+-----+\n",
      "|123|  a|    1|\n",
      "|123|  c|    d|\n",
      "|122|  a|    b|\n",
      "|111|  a|    c|\n",
      "|234|  a|    1|\n",
      "|234|  d|    z|\n",
      "+---+---+-----+\n",
      "\n",
      "cells 18 / nulls 0\n",
      "{\n",
      "\u001b[38;2;187;187;187m  \u001b[39m\u001b[38;2;0;128;0;01m\"fields\"\u001b[39;00m:\u001b[38;2;187;187;187m \u001b[39m[\n",
      "\u001b[38;2;187;187;187m    \u001b[39m{\n",
      "\u001b[38;2;187;187;187m      \u001b[39m\u001b[38;2;0;128;0;01m\"metadata\"\u001b[39;00m:\u001b[38;2;187;187;187m \u001b[39m{},\n",
      "\u001b[38;2;187;187;187m      \u001b[39m\u001b[38;2;0;128;0;01m\"name\"\u001b[39;00m:\u001b[38;2;187;187;187m \u001b[39m\u001b[38;2;186;33;33m\"id\"\u001b[39m,\n",
      "\u001b[38;2;187;187;187m      \u001b[39m\u001b[38;2;0;128;0;01m\"nullable\"\u001b[39;00m:\u001b[38;2;187;187;187m \u001b[39m\u001b[38;2;0;128;0;01mtrue\u001b[39;00m,\n",
      "\u001b[38;2;187;187;187m      \u001b[39m\u001b[38;2;0;128;0;01m\"type\"\u001b[39;00m:\u001b[38;2;187;187;187m \u001b[39m\u001b[38;2;186;33;33m\"long\"\u001b[39m\n",
      "\u001b[38;2;187;187;187m    \u001b[39m},\n",
      "\u001b[38;2;187;187;187m    \u001b[39m{\n",
      "\u001b[38;2;187;187;187m      \u001b[39m\u001b[38;2;0;128;0;01m\"metadata\"\u001b[39;00m:\u001b[38;2;187;187;187m \u001b[39m{},\n",
      "\u001b[38;2;187;187;187m      \u001b[39m\u001b[38;2;0;128;0;01m\"name\"\u001b[39;00m:\u001b[38;2;187;187;187m \u001b[39m\u001b[38;2;186;33;33m\"key\"\u001b[39m,\n",
      "\u001b[38;2;187;187;187m      \u001b[39m\u001b[38;2;0;128;0;01m\"nullable\"\u001b[39;00m:\u001b[38;2;187;187;187m \u001b[39m\u001b[38;2;0;128;0;01mtrue\u001b[39;00m,\n",
      "\u001b[38;2;187;187;187m      \u001b[39m\u001b[38;2;0;128;0;01m\"type\"\u001b[39;00m:\u001b[38;2;187;187;187m \u001b[39m\u001b[38;2;186;33;33m\"string\"\u001b[39m\n",
      "\u001b[38;2;187;187;187m    \u001b[39m},\n",
      "\u001b[38;2;187;187;187m    \u001b[39m{\n",
      "\u001b[38;2;187;187;187m      \u001b[39m\u001b[38;2;0;128;0;01m\"metadata\"\u001b[39;00m:\u001b[38;2;187;187;187m \u001b[39m{},\n",
      "\u001b[38;2;187;187;187m      \u001b[39m\u001b[38;2;0;128;0;01m\"name\"\u001b[39;00m:\u001b[38;2;187;187;187m \u001b[39m\u001b[38;2;186;33;33m\"value\"\u001b[39m,\n",
      "\u001b[38;2;187;187;187m      \u001b[39m\u001b[38;2;0;128;0;01m\"nullable\"\u001b[39;00m:\u001b[38;2;187;187;187m \u001b[39m\u001b[38;2;0;128;0;01mtrue\u001b[39;00m,\n",
      "\u001b[38;2;187;187;187m      \u001b[39m\u001b[38;2;0;128;0;01m\"type\"\u001b[39;00m:\u001b[38;2;187;187;187m \u001b[39m\u001b[38;2;186;33;33m\"string\"\u001b[39m\n",
      "\u001b[38;2;187;187;187m    \u001b[39m}\n",
      "\u001b[38;2;187;187;187m  \u001b[39m],\n",
      "\u001b[38;2;187;187;187m  \u001b[39m\u001b[38;2;0;128;0;01m\"type\"\u001b[39;00m:\u001b[38;2;187;187;187m \u001b[39m\u001b[38;2;186;33;33m\"struct\"\u001b[39m\n",
      "}\n",
      "\n",
      "None\n"
     ]
    }
   ],
   "source": [
    "records = [\n",
    "    { \"id\": 123, \"key\": \"a\", \"value\": 1},\n",
    "    { \"id\": 123, \"key\": \"c\", \"value\": \"d\" },\n",
    "    { \"id\": 122, \"key\": \"a\", \"value\": \"b\" },\n",
    "    { \"id\": 111, \"key\": \"a\", \"value\": \"c\" },\n",
    "    { \"id\": 234, \"key\": \"a\", \"value\": 1 },\n",
    "    { \"id\": 234, \"key\": \"d\", \"value\": \"z\" },\n",
    "]\n",
    "df = DFLoader.from_file(records, 'f.ndjson')"
   ]
  }
 ],
 "metadata": {
  "kernelspec": {
   "display_name": "Python 3 (ipykernel)",
   "language": "python",
   "name": "python3"
  },
  "language_info": {
   "codemirror_mode": {
    "name": "ipython",
    "version": 3
   },
   "file_extension": ".py",
   "mimetype": "text/x-python",
   "name": "python",
   "nbconvert_exporter": "python",
   "pygments_lexer": "ipython3",
   "version": "3.10.4"
  }
 },
 "nbformat": 4,
 "nbformat_minor": 5
}
