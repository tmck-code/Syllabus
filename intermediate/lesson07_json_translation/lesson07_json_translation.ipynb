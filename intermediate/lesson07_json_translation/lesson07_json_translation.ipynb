{
 "cells": [
  {
   "cell_type": "code",
   "execution_count": 9,
   "id": "4f13c7cb-b790-4e05-aee7-63c0d1d3adc4",
   "metadata": {},
   "outputs": [
    {
     "data": {
      "text/html": [
       "\n",
       "            <div>\n",
       "                <p><b>SparkSession - in-memory</b></p>\n",
       "                \n",
       "        <div>\n",
       "            <p><b>SparkContext</b></p>\n",
       "\n",
       "            <p><a href=\"http://d6827207724e:4040\">Spark UI</a></p>\n",
       "\n",
       "            <dl>\n",
       "              <dt>Version</dt>\n",
       "                <dd><code>v3.3.0</code></dd>\n",
       "              <dt>Master</dt>\n",
       "                <dd><code>local</code></dd>\n",
       "              <dt>AppName</dt>\n",
       "                <dd><code>identity-etl-data-types</code></dd>\n",
       "            </dl>\n",
       "        </div>\n",
       "        \n",
       "            </div>\n",
       "        "
      ],
      "text/plain": [
       "<pyspark.sql.session.SparkSession at 0x7ff8d83b3730>"
      ]
     },
     "execution_count": 9,
     "metadata": {},
     "output_type": "execute_result"
    }
   ],
   "source": [
    "from pyspark.sql import SparkSession\n",
    "\n",
    "def _spark_context():\n",
    "    'Creates a local spark context'\n",
    "\n",
    "    return SparkSession.builder \\\n",
    "      .master('local') \\\n",
    "      .appName('syllabus') \\\n",
    "      .getOrCreate()\n",
    "\n",
    "SPARK = _spark_context()\n",
    "SPARK"
   ]
  },
  {
   "cell_type": "code",
   "execution_count": 10,
   "id": "72a2a01a-9a26-4d95-9257-d76828baec10",
   "metadata": {},
   "outputs": [],
   "source": [
    "records = [\n",
    "    {\n",
    "        \"a\": \"b\",\n",
    "        \"c\": \"d\"\n",
    "    },\n",
    "    {\n",
    "        \"a\": \"b\"\n",
    "    },\n",
    "    {\n",
    "        \"a\": \"c\"\n",
    "    },\n",
    "    {\n",
    "        \"a\": \"c\",\n",
    "        \"d\": \"z\"\n",
    "    }\n",
    "]"
   ]
  },
  {
   "cell_type": "code",
   "execution_count": null,
   "id": "73aa2ba5-b837-472d-bbdf-d81987c1e0a2",
   "metadata": {},
   "outputs": [],
   "source": []
  }
 ],
 "metadata": {
  "kernelspec": {
   "display_name": "Python 3 (ipykernel)",
   "language": "python",
   "name": "python3"
  },
  "language_info": {
   "codemirror_mode": {
    "name": "ipython",
    "version": 3
   },
   "file_extension": ".py",
   "mimetype": "text/x-python",
   "name": "python",
   "nbconvert_exporter": "python",
   "pygments_lexer": "ipython3",
   "version": "3.10.4"
  }
 },
 "nbformat": 4,
 "nbformat_minor": 5
}
