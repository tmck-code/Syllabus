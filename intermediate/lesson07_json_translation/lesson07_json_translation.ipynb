{
 "cells": [
  {
   "cell_type": "code",
   "execution_count": 9,
   "id": "4f13c7cb-b790-4e05-aee7-63c0d1d3adc4",
   "metadata": {},
   "outputs": [
    {
     "data": {
      "text/html": [
       "\n",
       "            <div>\n",
       "                <p><b>SparkSession - in-memory</b></p>\n",
       "                \n",
       "        <div>\n",
       "            <p><b>SparkContext</b></p>\n",
       "\n",
       "            <p><a href=\"http://d6827207724e:4040\">Spark UI</a></p>\n",
       "\n",
       "            <dl>\n",
       "              <dt>Version</dt>\n",
       "                <dd><code>v3.3.0</code></dd>\n",
       "              <dt>Master</dt>\n",
       "                <dd><code>local</code></dd>\n",
       "              <dt>AppName</dt>\n",
       "                <dd><code>identity-etl-data-types</code></dd>\n",
       "            </dl>\n",
       "        </div>\n",
       "        \n",
       "            </div>\n",
       "        "
      ],
      "text/plain": [
       "<pyspark.sql.session.SparkSession at 0x7ff8d83b3730>"
      ]
     },
     "execution_count": 9,
     "metadata": {},
     "output_type": "execute_result"
    }
   ],
   "source": [
    "from pyspark.sql import SparkSession\n",
    "\n",
    "def _spark_context():\n",
    "    'Creates a local spark context'\n",
    "\n",
    "    return SparkSession.builder \\\n",
    "      .master('local') \\\n",
    "      .appName('syllabus') \\\n",
    "      .getOrCreate()\n",
    "\n",
    "SPARK = _spark_context()\n",
    "SPARK"
   ]
  },
  {
   "cell_type": "code",
   "execution_count": 12,
   "id": "236f691b-3ff8-4993-8fca-b7a4752d426a",
   "metadata": {},
   "outputs": [],
   "source": [
    "from pyspark.sql import DataFrame"
   ]
  },
  {
   "cell_type": "code",
   "execution_count": 36,
   "id": "12f8c6a6-9ff0-4913-9b92-2d93b762b610",
   "metadata": {},
   "outputs": [],
   "source": [
    "import json\n",
    "\n",
    "from pygments import highlight\n",
    "from pygments.lexers import JsonLexer\n",
    "from pygments.formatters import TerminalTrueColorFormatter\n",
    "\n",
    "def ppj(j, indent=2):\n",
    "    j = json.dumps(json.loads(j), indent=indent)\n",
    "    print(highlight(j, JsonLexer(), TerminalTrueColorFormatter()))\n",
    "   \n",
    "def ppd(d, indent=2):\n",
    "    ppj(json.dumps(d, indent=indent))\n",
    "\n",
    "class DFLoader:\n",
    "    \n",
    "    @staticmethod\n",
    "    def from_file(records: list, fpath: str) -> DataFrame:\n",
    "        with open(fpath, 'w') as ostream:\n",
    "            for record in records:\n",
    "                print(json.dumps(record), file=ostream, end='\\n')\n",
    "        df = SPARK.read.json(fpath)\n",
    "        df.show()\n",
    "        print(ppj(df.schema.json()))\n",
    "        return df\n",
    "    \n",
    "    "
   ]
  },
  {
   "cell_type": "code",
   "execution_count": 37,
   "id": "72a2a01a-9a26-4d95-9257-d76828baec10",
   "metadata": {},
   "outputs": [],
   "source": [
    "records = [\n",
    "    {\n",
    "        \"a\": \"b\",\n",
    "        \"c\": \"d\"\n",
    "    },\n",
    "    {\n",
    "        \"a\": \"b\"\n",
    "    },\n",
    "    {\n",
    "        \"a\": \"c\"\n",
    "    },\n",
    "    {\n",
    "        \"a\": \"c\",\n",
    "        \"d\": \"z\"\n",
    "    }\n",
    "]"
   ]
  },
  {
   "cell_type": "code",
   "execution_count": 38,
   "id": "73aa2ba5-b837-472d-bbdf-d81987c1e0a2",
   "metadata": {},
   "outputs": [
    {
     "name": "stdout",
     "output_type": "stream",
     "text": [
      "+---+----+----+\n",
      "|  a|   c|   d|\n",
      "+---+----+----+\n",
      "|  b|   d|null|\n",
      "|  b|null|null|\n",
      "|  c|null|null|\n",
      "|  c|null|   z|\n",
      "+---+----+----+\n",
      "\n",
      "{\n",
      "\u001b[38;2;187;187;187m  \u001b[39m\u001b[38;2;0;128;0;01m\"fields\"\u001b[39;00m:\u001b[38;2;187;187;187m \u001b[39m[\n",
      "\u001b[38;2;187;187;187m    \u001b[39m{\n",
      "\u001b[38;2;187;187;187m      \u001b[39m\u001b[38;2;0;128;0;01m\"metadata\"\u001b[39;00m:\u001b[38;2;187;187;187m \u001b[39m{},\n",
      "\u001b[38;2;187;187;187m      \u001b[39m\u001b[38;2;0;128;0;01m\"name\"\u001b[39;00m:\u001b[38;2;187;187;187m \u001b[39m\u001b[38;2;186;33;33m\"a\"\u001b[39m,\n",
      "\u001b[38;2;187;187;187m      \u001b[39m\u001b[38;2;0;128;0;01m\"nullable\"\u001b[39;00m:\u001b[38;2;187;187;187m \u001b[39m\u001b[38;2;0;128;0;01mtrue\u001b[39;00m,\n",
      "\u001b[38;2;187;187;187m      \u001b[39m\u001b[38;2;0;128;0;01m\"type\"\u001b[39;00m:\u001b[38;2;187;187;187m \u001b[39m\u001b[38;2;186;33;33m\"string\"\u001b[39m\n",
      "\u001b[38;2;187;187;187m    \u001b[39m},\n",
      "\u001b[38;2;187;187;187m    \u001b[39m{\n",
      "\u001b[38;2;187;187;187m      \u001b[39m\u001b[38;2;0;128;0;01m\"metadata\"\u001b[39;00m:\u001b[38;2;187;187;187m \u001b[39m{},\n",
      "\u001b[38;2;187;187;187m      \u001b[39m\u001b[38;2;0;128;0;01m\"name\"\u001b[39;00m:\u001b[38;2;187;187;187m \u001b[39m\u001b[38;2;186;33;33m\"c\"\u001b[39m,\n",
      "\u001b[38;2;187;187;187m      \u001b[39m\u001b[38;2;0;128;0;01m\"nullable\"\u001b[39;00m:\u001b[38;2;187;187;187m \u001b[39m\u001b[38;2;0;128;0;01mtrue\u001b[39;00m,\n",
      "\u001b[38;2;187;187;187m      \u001b[39m\u001b[38;2;0;128;0;01m\"type\"\u001b[39;00m:\u001b[38;2;187;187;187m \u001b[39m\u001b[38;2;186;33;33m\"string\"\u001b[39m\n",
      "\u001b[38;2;187;187;187m    \u001b[39m},\n",
      "\u001b[38;2;187;187;187m    \u001b[39m{\n",
      "\u001b[38;2;187;187;187m      \u001b[39m\u001b[38;2;0;128;0;01m\"metadata\"\u001b[39;00m:\u001b[38;2;187;187;187m \u001b[39m{},\n",
      "\u001b[38;2;187;187;187m      \u001b[39m\u001b[38;2;0;128;0;01m\"name\"\u001b[39;00m:\u001b[38;2;187;187;187m \u001b[39m\u001b[38;2;186;33;33m\"d\"\u001b[39m,\n",
      "\u001b[38;2;187;187;187m      \u001b[39m\u001b[38;2;0;128;0;01m\"nullable\"\u001b[39;00m:\u001b[38;2;187;187;187m \u001b[39m\u001b[38;2;0;128;0;01mtrue\u001b[39;00m,\n",
      "\u001b[38;2;187;187;187m      \u001b[39m\u001b[38;2;0;128;0;01m\"type\"\u001b[39;00m:\u001b[38;2;187;187;187m \u001b[39m\u001b[38;2;186;33;33m\"string\"\u001b[39m\n",
      "\u001b[38;2;187;187;187m    \u001b[39m}\n",
      "\u001b[38;2;187;187;187m  \u001b[39m],\n",
      "\u001b[38;2;187;187;187m  \u001b[39m\u001b[38;2;0;128;0;01m\"type\"\u001b[39;00m:\u001b[38;2;187;187;187m \u001b[39m\u001b[38;2;186;33;33m\"struct\"\u001b[39m\n",
      "}\n",
      "\n",
      "None\n"
     ]
    }
   ],
   "source": [
    "df = DFLoader.from_file(records, 'f.ndjson')"
   ]
  },
  {
   "cell_type": "code",
   "execution_count": 26,
   "id": "97db5c1e-4e49-40dd-859e-ee9b1f6270ed",
   "metadata": {},
   "outputs": [],
   "source": [
    "records = [\n",
    "    {\n",
    "        \"a\": 1,\n",
    "        \"c\": \"d\"\n",
    "    },\n",
    "    {\n",
    "        \"a\": \"b\"\n",
    "    },\n",
    "    {\n",
    "        \"a\": \"c\"\n",
    "    },\n",
    "    {\n",
    "        \"a\": \"c\",\n",
    "        \"d\": \"z\"\n",
    "    }\n",
    "]"
   ]
  },
  {
   "cell_type": "code",
   "execution_count": 27,
   "id": "2abe1778-480f-448f-8d3e-d39957a5bb8d",
   "metadata": {},
   "outputs": [
    {
     "name": "stdout",
     "output_type": "stream",
     "text": [
      "+---+----+----+\n",
      "|  a|   c|   d|\n",
      "+---+----+----+\n",
      "|  1|   d|null|\n",
      "|  b|null|null|\n",
      "|  c|null|null|\n",
      "|  c|null|   z|\n",
      "+---+----+----+\n",
      "\n",
      "StructType([StructField('a', StringType(), True), StructField('c', StringType(), True), StructField('d', StringType(), True)])\n"
     ]
    }
   ],
   "source": [
    "df = DFLoader.from_file(records, 'f.ndjson')"
   ]
  },
  {
   "cell_type": "code",
   "execution_count": 28,
   "id": "a900f7ee-16ee-4359-a0c0-baa8a551ba37",
   "metadata": {},
   "outputs": [
    {
     "name": "stdout",
     "output_type": "stream",
     "text": [
      "+---+----+----+\n",
      "|  a|   c|   d|\n",
      "+---+----+----+\n",
      "|  1|   d|null|\n",
      "|  b|null|null|\n",
      "|  c|null|null|\n",
      "|  1|null|   z|\n",
      "+---+----+----+\n",
      "\n",
      "StructType([StructField('a', StringType(), True), StructField('c', StringType(), True), StructField('d', StringType(), True)])\n"
     ]
    }
   ],
   "source": [
    "records = [\n",
    "    {\n",
    "        \"a\": 1,\n",
    "        \"c\": \"d\"\n",
    "    },\n",
    "    {\n",
    "        \"a\": \"b\"\n",
    "    },\n",
    "    {\n",
    "        \"a\": \"c\"\n",
    "    },\n",
    "    {\n",
    "        \"a\": 1,\n",
    "        \"d\": \"z\"\n",
    "    }\n",
    "]\n",
    "df = DFLoader.from_file(records, 'f.ndjson')"
   ]
  },
  {
   "cell_type": "code",
   "execution_count": null,
   "id": "57817241-09f1-49c4-b443-06454c545e46",
   "metadata": {},
   "outputs": [],
   "source": []
  }
 ],
 "metadata": {
  "kernelspec": {
   "display_name": "Python 3 (ipykernel)",
   "language": "python",
   "name": "python3"
  },
  "language_info": {
   "codemirror_mode": {
    "name": "ipython",
    "version": 3
   },
   "file_extension": ".py",
   "mimetype": "text/x-python",
   "name": "python",
   "nbconvert_exporter": "python",
   "pygments_lexer": "ipython3",
   "version": "3.10.4"
  }
 },
 "nbformat": 4,
 "nbformat_minor": 5
}
