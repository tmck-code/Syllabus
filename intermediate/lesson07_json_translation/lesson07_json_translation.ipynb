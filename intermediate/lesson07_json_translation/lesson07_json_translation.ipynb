{
 "cells": [
  {
   "cell_type": "code",
   "execution_count": 172,
   "id": "4f13c7cb-b790-4e05-aee7-63c0d1d3adc4",
   "metadata": {},
   "outputs": [
    {
     "data": {
      "text/html": [
       "\n",
       "            <div>\n",
       "                <p><b>SparkSession - in-memory</b></p>\n",
       "                \n",
       "        <div>\n",
       "            <p><b>SparkContext</b></p>\n",
       "\n",
       "            <p><a href=\"http://a2f204619e3d:4040\">Spark UI</a></p>\n",
       "\n",
       "            <dl>\n",
       "              <dt>Version</dt>\n",
       "                <dd><code>v3.3.0</code></dd>\n",
       "              <dt>Master</dt>\n",
       "                <dd><code>local</code></dd>\n",
       "              <dt>AppName</dt>\n",
       "                <dd><code>syllabus</code></dd>\n",
       "            </dl>\n",
       "        </div>\n",
       "        \n",
       "            </div>\n",
       "        "
      ],
      "text/plain": [
       "<pyspark.sql.session.SparkSession at 0x7f92903291f0>"
      ]
     },
     "execution_count": 172,
     "metadata": {},
     "output_type": "execute_result"
    }
   ],
   "source": [
    "from pyspark.sql import SparkSession\n",
    "\n",
    "def _spark_context():\n",
    "    'Creates a local spark context'\n",
    "\n",
    "    return SparkSession.builder \\\n",
    "      .master('local') \\\n",
    "      .appName('syllabus') \\\n",
    "      .getOrCreate()\n",
    "\n",
    "SPARK = _spark_context()\n",
    "SPARK"
   ]
  },
  {
   "cell_type": "code",
   "execution_count": 173,
   "id": "12f8c6a6-9ff0-4913-9b92-2d93b762b610",
   "metadata": {},
   "outputs": [],
   "source": [
    "import json\n",
    "\n",
    "from pyspark.sql import DataFrame\n",
    "from pyspark.sql import functions as F\n",
    "from pyspark.sql import types as T\n",
    "\n",
    "from pygments import highlight\n",
    "from pygments.lexers import JsonLexer\n",
    "from pygments.formatters import TerminalTrueColorFormatter\n",
    "\n",
    "def ppj(j, indent=2):\n",
    "    print(highlight(\n",
    "        code      = json.dumps(json.loads(j), indent=indent),\n",
    "        lexer     = JsonLexer(),\n",
    "        formatter = TerminalTrueColorFormatter()\n",
    "    ).strip())\n",
    "   \n",
    "def ppd(d, indent=2):\n",
    "    ppj(json.dumps(d), indent=indent)\n",
    "\n",
    "def count_nulls(df: DataFrame) -> int:\n",
    "    return df.select(\n",
    "        sum([F.count(F.when(F.col(c).isNull(), c)).alias(c) for c in df.columns])\n",
    "    ).collect()[0][0]\n",
    "\n",
    "def count_cells(df: DataFrame) -> int:\n",
    "    return df.count() * len(df.columns)\n",
    "\n",
    "class DFLoader:\n",
    "    @staticmethod\n",
    "    def from_file(records: list, fpath: str = 'f.ndjson', schema: dict = {}) -> DataFrame:\n",
    "        with open(fpath, 'w') as ostream:\n",
    "            for record in records:\n",
    "                print(json.dumps(record), file=ostream, end='\\n')\n",
    "        if schema:\n",
    "            df = SPARK.read.json(fpath, schema=T.StructType.fromJson(schema))\n",
    "        else:\n",
    "            df = SPARK.read.json(fpath)\n",
    "        df.show()\n",
    "        print('cells', count_cells(df), '/', 'nulls', count_nulls(df))\n",
    "        ppj(df.schema.json())\n",
    "        return df"
   ]
  },
  {
   "cell_type": "code",
   "execution_count": 174,
   "id": "72a2a01a-9a26-4d95-9257-d76828baec10",
   "metadata": {},
   "outputs": [
    {
     "name": "stdout",
     "output_type": "stream",
     "text": [
      "+---+----+----+\n",
      "|  a|   c|   d|\n",
      "+---+----+----+\n",
      "|  a|   d|null|\n",
      "|  b|null|null|\n",
      "|  c|null|null|\n",
      "|  1|null|   z|\n",
      "+---+----+----+\n",
      "\n",
      "cells 12 / nulls 6\n",
      "{\n",
      "\u001b[38;2;187;187;187m  \u001b[39m\u001b[38;2;0;128;0;01m\"fields\"\u001b[39;00m:\u001b[38;2;187;187;187m \u001b[39m[\n",
      "\u001b[38;2;187;187;187m    \u001b[39m{\n",
      "\u001b[38;2;187;187;187m      \u001b[39m\u001b[38;2;0;128;0;01m\"metadata\"\u001b[39;00m:\u001b[38;2;187;187;187m \u001b[39m{},\n",
      "\u001b[38;2;187;187;187m      \u001b[39m\u001b[38;2;0;128;0;01m\"name\"\u001b[39;00m:\u001b[38;2;187;187;187m \u001b[39m\u001b[38;2;186;33;33m\"a\"\u001b[39m,\n",
      "\u001b[38;2;187;187;187m      \u001b[39m\u001b[38;2;0;128;0;01m\"nullable\"\u001b[39;00m:\u001b[38;2;187;187;187m \u001b[39m\u001b[38;2;0;128;0;01mtrue\u001b[39;00m,\n",
      "\u001b[38;2;187;187;187m      \u001b[39m\u001b[38;2;0;128;0;01m\"type\"\u001b[39;00m:\u001b[38;2;187;187;187m \u001b[39m\u001b[38;2;186;33;33m\"string\"\u001b[39m\n",
      "\u001b[38;2;187;187;187m    \u001b[39m},\n",
      "\u001b[38;2;187;187;187m    \u001b[39m{\n",
      "\u001b[38;2;187;187;187m      \u001b[39m\u001b[38;2;0;128;0;01m\"metadata\"\u001b[39;00m:\u001b[38;2;187;187;187m \u001b[39m{},\n",
      "\u001b[38;2;187;187;187m      \u001b[39m\u001b[38;2;0;128;0;01m\"name\"\u001b[39;00m:\u001b[38;2;187;187;187m \u001b[39m\u001b[38;2;186;33;33m\"c\"\u001b[39m,\n",
      "\u001b[38;2;187;187;187m      \u001b[39m\u001b[38;2;0;128;0;01m\"nullable\"\u001b[39;00m:\u001b[38;2;187;187;187m \u001b[39m\u001b[38;2;0;128;0;01mtrue\u001b[39;00m,\n",
      "\u001b[38;2;187;187;187m      \u001b[39m\u001b[38;2;0;128;0;01m\"type\"\u001b[39;00m:\u001b[38;2;187;187;187m \u001b[39m\u001b[38;2;186;33;33m\"string\"\u001b[39m\n",
      "\u001b[38;2;187;187;187m    \u001b[39m},\n",
      "\u001b[38;2;187;187;187m    \u001b[39m{\n",
      "\u001b[38;2;187;187;187m      \u001b[39m\u001b[38;2;0;128;0;01m\"metadata\"\u001b[39;00m:\u001b[38;2;187;187;187m \u001b[39m{},\n",
      "\u001b[38;2;187;187;187m      \u001b[39m\u001b[38;2;0;128;0;01m\"name\"\u001b[39;00m:\u001b[38;2;187;187;187m \u001b[39m\u001b[38;2;186;33;33m\"d\"\u001b[39m,\n",
      "\u001b[38;2;187;187;187m      \u001b[39m\u001b[38;2;0;128;0;01m\"nullable\"\u001b[39;00m:\u001b[38;2;187;187;187m \u001b[39m\u001b[38;2;0;128;0;01mtrue\u001b[39;00m,\n",
      "\u001b[38;2;187;187;187m      \u001b[39m\u001b[38;2;0;128;0;01m\"type\"\u001b[39;00m:\u001b[38;2;187;187;187m \u001b[39m\u001b[38;2;186;33;33m\"string\"\u001b[39m\n",
      "\u001b[38;2;187;187;187m    \u001b[39m}\n",
      "\u001b[38;2;187;187;187m  \u001b[39m],\n",
      "\u001b[38;2;187;187;187m  \u001b[39m\u001b[38;2;0;128;0;01m\"type\"\u001b[39;00m:\u001b[38;2;187;187;187m \u001b[39m\u001b[38;2;186;33;33m\"struct\"\u001b[39m\n",
      "}\n"
     ]
    },
    {
     "data": {
      "text/plain": [
       "6"
      ]
     },
     "execution_count": 174,
     "metadata": {},
     "output_type": "execute_result"
    }
   ],
   "source": [
    "records = [\n",
    "    { \"a\": \"a\", \"c\": \"d\" },\n",
    "    { \"a\": \"b\" },\n",
    "    { \"a\": \"c\" },\n",
    "    { \"a\": 1, \"d\": \"z\" }\n",
    "]\n",
    "df = DFLoader.from_file(records)\n",
    "count_nulls(df)"
   ]
  },
  {
   "cell_type": "code",
   "execution_count": 175,
   "id": "97db5c1e-4e49-40dd-859e-ee9b1f6270ed",
   "metadata": {
    "tags": []
   },
   "outputs": [
    {
     "name": "stdout",
     "output_type": "stream",
     "text": [
      "+---+----+----+\n",
      "|  a|   c|   d|\n",
      "+---+----+----+\n",
      "|  1|   d|null|\n",
      "|  b|null|null|\n",
      "|  c|null|null|\n",
      "|123|null|   z|\n",
      "+---+----+----+\n",
      "\n",
      "cells 12 / nulls 6\n",
      "{\n",
      "\u001b[38;2;187;187;187m  \u001b[39m\u001b[38;2;0;128;0;01m\"fields\"\u001b[39;00m:\u001b[38;2;187;187;187m \u001b[39m[\n",
      "\u001b[38;2;187;187;187m    \u001b[39m{\n",
      "\u001b[38;2;187;187;187m      \u001b[39m\u001b[38;2;0;128;0;01m\"metadata\"\u001b[39;00m:\u001b[38;2;187;187;187m \u001b[39m{},\n",
      "\u001b[38;2;187;187;187m      \u001b[39m\u001b[38;2;0;128;0;01m\"name\"\u001b[39;00m:\u001b[38;2;187;187;187m \u001b[39m\u001b[38;2;186;33;33m\"a\"\u001b[39m,\n",
      "\u001b[38;2;187;187;187m      \u001b[39m\u001b[38;2;0;128;0;01m\"nullable\"\u001b[39;00m:\u001b[38;2;187;187;187m \u001b[39m\u001b[38;2;0;128;0;01mtrue\u001b[39;00m,\n",
      "\u001b[38;2;187;187;187m      \u001b[39m\u001b[38;2;0;128;0;01m\"type\"\u001b[39;00m:\u001b[38;2;187;187;187m \u001b[39m\u001b[38;2;186;33;33m\"string\"\u001b[39m\n",
      "\u001b[38;2;187;187;187m    \u001b[39m},\n",
      "\u001b[38;2;187;187;187m    \u001b[39m{\n",
      "\u001b[38;2;187;187;187m      \u001b[39m\u001b[38;2;0;128;0;01m\"metadata\"\u001b[39;00m:\u001b[38;2;187;187;187m \u001b[39m{},\n",
      "\u001b[38;2;187;187;187m      \u001b[39m\u001b[38;2;0;128;0;01m\"name\"\u001b[39;00m:\u001b[38;2;187;187;187m \u001b[39m\u001b[38;2;186;33;33m\"c\"\u001b[39m,\n",
      "\u001b[38;2;187;187;187m      \u001b[39m\u001b[38;2;0;128;0;01m\"nullable\"\u001b[39;00m:\u001b[38;2;187;187;187m \u001b[39m\u001b[38;2;0;128;0;01mtrue\u001b[39;00m,\n",
      "\u001b[38;2;187;187;187m      \u001b[39m\u001b[38;2;0;128;0;01m\"type\"\u001b[39;00m:\u001b[38;2;187;187;187m \u001b[39m\u001b[38;2;186;33;33m\"string\"\u001b[39m\n",
      "\u001b[38;2;187;187;187m    \u001b[39m},\n",
      "\u001b[38;2;187;187;187m    \u001b[39m{\n",
      "\u001b[38;2;187;187;187m      \u001b[39m\u001b[38;2;0;128;0;01m\"metadata\"\u001b[39;00m:\u001b[38;2;187;187;187m \u001b[39m{},\n",
      "\u001b[38;2;187;187;187m      \u001b[39m\u001b[38;2;0;128;0;01m\"name\"\u001b[39;00m:\u001b[38;2;187;187;187m \u001b[39m\u001b[38;2;186;33;33m\"d\"\u001b[39m,\n",
      "\u001b[38;2;187;187;187m      \u001b[39m\u001b[38;2;0;128;0;01m\"nullable\"\u001b[39;00m:\u001b[38;2;187;187;187m \u001b[39m\u001b[38;2;0;128;0;01mtrue\u001b[39;00m,\n",
      "\u001b[38;2;187;187;187m      \u001b[39m\u001b[38;2;0;128;0;01m\"type\"\u001b[39;00m:\u001b[38;2;187;187;187m \u001b[39m\u001b[38;2;186;33;33m\"string\"\u001b[39m\n",
      "\u001b[38;2;187;187;187m    \u001b[39m}\n",
      "\u001b[38;2;187;187;187m  \u001b[39m],\n",
      "\u001b[38;2;187;187;187m  \u001b[39m\u001b[38;2;0;128;0;01m\"type\"\u001b[39;00m:\u001b[38;2;187;187;187m \u001b[39m\u001b[38;2;186;33;33m\"struct\"\u001b[39m\n",
      "}\n"
     ]
    }
   ],
   "source": [
    "records = [\n",
    "    { \"a\": 1, \"c\": \"d\" },\n",
    "    { \"a\": \"b\" },\n",
    "    { \"a\": \"c\" },\n",
    "    { \"a\": \"123\", \"d\": \"z\" }\n",
    "]\n",
    "df = DFLoader.from_file(records)"
   ]
  },
  {
   "cell_type": "code",
   "execution_count": 176,
   "id": "a900f7ee-16ee-4359-a0c0-baa8a551ba37",
   "metadata": {},
   "outputs": [
    {
     "name": "stdout",
     "output_type": "stream",
     "text": [
      "+---+----+----+---+\n",
      "|  a|   c|   d| id|\n",
      "+---+----+----+---+\n",
      "|  1|   d|null|123|\n",
      "|  b|null|null|122|\n",
      "|  c|null|null|111|\n",
      "|  1|null|   z|234|\n",
      "+---+----+----+---+\n",
      "\n",
      "cells 16 / nulls 6\n",
      "{\n",
      "\u001b[38;2;187;187;187m  \u001b[39m\u001b[38;2;0;128;0;01m\"fields\"\u001b[39;00m:\u001b[38;2;187;187;187m \u001b[39m[\n",
      "\u001b[38;2;187;187;187m    \u001b[39m{\n",
      "\u001b[38;2;187;187;187m      \u001b[39m\u001b[38;2;0;128;0;01m\"metadata\"\u001b[39;00m:\u001b[38;2;187;187;187m \u001b[39m{},\n",
      "\u001b[38;2;187;187;187m      \u001b[39m\u001b[38;2;0;128;0;01m\"name\"\u001b[39;00m:\u001b[38;2;187;187;187m \u001b[39m\u001b[38;2;186;33;33m\"a\"\u001b[39m,\n",
      "\u001b[38;2;187;187;187m      \u001b[39m\u001b[38;2;0;128;0;01m\"nullable\"\u001b[39;00m:\u001b[38;2;187;187;187m \u001b[39m\u001b[38;2;0;128;0;01mtrue\u001b[39;00m,\n",
      "\u001b[38;2;187;187;187m      \u001b[39m\u001b[38;2;0;128;0;01m\"type\"\u001b[39;00m:\u001b[38;2;187;187;187m \u001b[39m\u001b[38;2;186;33;33m\"string\"\u001b[39m\n",
      "\u001b[38;2;187;187;187m    \u001b[39m},\n",
      "\u001b[38;2;187;187;187m    \u001b[39m{\n",
      "\u001b[38;2;187;187;187m      \u001b[39m\u001b[38;2;0;128;0;01m\"metadata\"\u001b[39;00m:\u001b[38;2;187;187;187m \u001b[39m{},\n",
      "\u001b[38;2;187;187;187m      \u001b[39m\u001b[38;2;0;128;0;01m\"name\"\u001b[39;00m:\u001b[38;2;187;187;187m \u001b[39m\u001b[38;2;186;33;33m\"c\"\u001b[39m,\n",
      "\u001b[38;2;187;187;187m      \u001b[39m\u001b[38;2;0;128;0;01m\"nullable\"\u001b[39;00m:\u001b[38;2;187;187;187m \u001b[39m\u001b[38;2;0;128;0;01mtrue\u001b[39;00m,\n",
      "\u001b[38;2;187;187;187m      \u001b[39m\u001b[38;2;0;128;0;01m\"type\"\u001b[39;00m:\u001b[38;2;187;187;187m \u001b[39m\u001b[38;2;186;33;33m\"string\"\u001b[39m\n",
      "\u001b[38;2;187;187;187m    \u001b[39m},\n",
      "\u001b[38;2;187;187;187m    \u001b[39m{\n",
      "\u001b[38;2;187;187;187m      \u001b[39m\u001b[38;2;0;128;0;01m\"metadata\"\u001b[39;00m:\u001b[38;2;187;187;187m \u001b[39m{},\n",
      "\u001b[38;2;187;187;187m      \u001b[39m\u001b[38;2;0;128;0;01m\"name\"\u001b[39;00m:\u001b[38;2;187;187;187m \u001b[39m\u001b[38;2;186;33;33m\"d\"\u001b[39m,\n",
      "\u001b[38;2;187;187;187m      \u001b[39m\u001b[38;2;0;128;0;01m\"nullable\"\u001b[39;00m:\u001b[38;2;187;187;187m \u001b[39m\u001b[38;2;0;128;0;01mtrue\u001b[39;00m,\n",
      "\u001b[38;2;187;187;187m      \u001b[39m\u001b[38;2;0;128;0;01m\"type\"\u001b[39;00m:\u001b[38;2;187;187;187m \u001b[39m\u001b[38;2;186;33;33m\"string\"\u001b[39m\n",
      "\u001b[38;2;187;187;187m    \u001b[39m},\n",
      "\u001b[38;2;187;187;187m    \u001b[39m{\n",
      "\u001b[38;2;187;187;187m      \u001b[39m\u001b[38;2;0;128;0;01m\"metadata\"\u001b[39;00m:\u001b[38;2;187;187;187m \u001b[39m{},\n",
      "\u001b[38;2;187;187;187m      \u001b[39m\u001b[38;2;0;128;0;01m\"name\"\u001b[39;00m:\u001b[38;2;187;187;187m \u001b[39m\u001b[38;2;186;33;33m\"id\"\u001b[39m,\n",
      "\u001b[38;2;187;187;187m      \u001b[39m\u001b[38;2;0;128;0;01m\"nullable\"\u001b[39;00m:\u001b[38;2;187;187;187m \u001b[39m\u001b[38;2;0;128;0;01mtrue\u001b[39;00m,\n",
      "\u001b[38;2;187;187;187m      \u001b[39m\u001b[38;2;0;128;0;01m\"type\"\u001b[39;00m:\u001b[38;2;187;187;187m \u001b[39m\u001b[38;2;186;33;33m\"long\"\u001b[39m\n",
      "\u001b[38;2;187;187;187m    \u001b[39m}\n",
      "\u001b[38;2;187;187;187m  \u001b[39m],\n",
      "\u001b[38;2;187;187;187m  \u001b[39m\u001b[38;2;0;128;0;01m\"type\"\u001b[39;00m:\u001b[38;2;187;187;187m \u001b[39m\u001b[38;2;186;33;33m\"struct\"\u001b[39m\n",
      "}\n"
     ]
    }
   ],
   "source": [
    "records = [\n",
    "    { \"id\": 123, \"a\": 1, \"c\": \"d\" },\n",
    "    { \"id\": 122, \"a\": \"b\" },\n",
    "    { \"id\": 111, \"a\": \"c\" },\n",
    "    { \"id\": 234, \"a\": 1, \"d\": \"z\" }\n",
    "]\n",
    "df = DFLoader.from_file(records)"
   ]
  },
  {
   "cell_type": "code",
   "execution_count": 177,
   "id": "57817241-09f1-49c4-b443-06454c545e46",
   "metadata": {},
   "outputs": [
    {
     "name": "stdout",
     "output_type": "stream",
     "text": [
      "+---+---+-----+\n",
      "| id|key|value|\n",
      "+---+---+-----+\n",
      "|123|  a|    1|\n",
      "|123|  c|    d|\n",
      "|122|  a|    b|\n",
      "|111|  a|    c|\n",
      "|234|  a|    1|\n",
      "|234|  d|    z|\n",
      "+---+---+-----+\n",
      "\n",
      "cells 18 / nulls 0\n",
      "{\n",
      "\u001b[38;2;187;187;187m  \u001b[39m\u001b[38;2;0;128;0;01m\"fields\"\u001b[39;00m:\u001b[38;2;187;187;187m \u001b[39m[\n",
      "\u001b[38;2;187;187;187m    \u001b[39m{\n",
      "\u001b[38;2;187;187;187m      \u001b[39m\u001b[38;2;0;128;0;01m\"metadata\"\u001b[39;00m:\u001b[38;2;187;187;187m \u001b[39m{},\n",
      "\u001b[38;2;187;187;187m      \u001b[39m\u001b[38;2;0;128;0;01m\"name\"\u001b[39;00m:\u001b[38;2;187;187;187m \u001b[39m\u001b[38;2;186;33;33m\"id\"\u001b[39m,\n",
      "\u001b[38;2;187;187;187m      \u001b[39m\u001b[38;2;0;128;0;01m\"nullable\"\u001b[39;00m:\u001b[38;2;187;187;187m \u001b[39m\u001b[38;2;0;128;0;01mtrue\u001b[39;00m,\n",
      "\u001b[38;2;187;187;187m      \u001b[39m\u001b[38;2;0;128;0;01m\"type\"\u001b[39;00m:\u001b[38;2;187;187;187m \u001b[39m\u001b[38;2;186;33;33m\"long\"\u001b[39m\n",
      "\u001b[38;2;187;187;187m    \u001b[39m},\n",
      "\u001b[38;2;187;187;187m    \u001b[39m{\n",
      "\u001b[38;2;187;187;187m      \u001b[39m\u001b[38;2;0;128;0;01m\"metadata\"\u001b[39;00m:\u001b[38;2;187;187;187m \u001b[39m{},\n",
      "\u001b[38;2;187;187;187m      \u001b[39m\u001b[38;2;0;128;0;01m\"name\"\u001b[39;00m:\u001b[38;2;187;187;187m \u001b[39m\u001b[38;2;186;33;33m\"key\"\u001b[39m,\n",
      "\u001b[38;2;187;187;187m      \u001b[39m\u001b[38;2;0;128;0;01m\"nullable\"\u001b[39;00m:\u001b[38;2;187;187;187m \u001b[39m\u001b[38;2;0;128;0;01mtrue\u001b[39;00m,\n",
      "\u001b[38;2;187;187;187m      \u001b[39m\u001b[38;2;0;128;0;01m\"type\"\u001b[39;00m:\u001b[38;2;187;187;187m \u001b[39m\u001b[38;2;186;33;33m\"string\"\u001b[39m\n",
      "\u001b[38;2;187;187;187m    \u001b[39m},\n",
      "\u001b[38;2;187;187;187m    \u001b[39m{\n",
      "\u001b[38;2;187;187;187m      \u001b[39m\u001b[38;2;0;128;0;01m\"metadata\"\u001b[39;00m:\u001b[38;2;187;187;187m \u001b[39m{},\n",
      "\u001b[38;2;187;187;187m      \u001b[39m\u001b[38;2;0;128;0;01m\"name\"\u001b[39;00m:\u001b[38;2;187;187;187m \u001b[39m\u001b[38;2;186;33;33m\"value\"\u001b[39m,\n",
      "\u001b[38;2;187;187;187m      \u001b[39m\u001b[38;2;0;128;0;01m\"nullable\"\u001b[39;00m:\u001b[38;2;187;187;187m \u001b[39m\u001b[38;2;0;128;0;01mtrue\u001b[39;00m,\n",
      "\u001b[38;2;187;187;187m      \u001b[39m\u001b[38;2;0;128;0;01m\"type\"\u001b[39;00m:\u001b[38;2;187;187;187m \u001b[39m\u001b[38;2;186;33;33m\"string\"\u001b[39m\n",
      "\u001b[38;2;187;187;187m    \u001b[39m}\n",
      "\u001b[38;2;187;187;187m  \u001b[39m],\n",
      "\u001b[38;2;187;187;187m  \u001b[39m\u001b[38;2;0;128;0;01m\"type\"\u001b[39;00m:\u001b[38;2;187;187;187m \u001b[39m\u001b[38;2;186;33;33m\"struct\"\u001b[39m\n",
      "}\n"
     ]
    }
   ],
   "source": [
    "records = [\n",
    "    { \"id\": 123, \"key\": \"a\", \"value\": 1},\n",
    "    { \"id\": 123, \"key\": \"c\", \"value\": \"d\" },\n",
    "    { \"id\": 122, \"key\": \"a\", \"value\": \"b\" },\n",
    "    { \"id\": 111, \"key\": \"a\", \"value\": \"c\" },\n",
    "    { \"id\": 234, \"key\": \"a\", \"value\": 1 },\n",
    "    { \"id\": 234, \"key\": \"d\", \"value\": \"z\" },\n",
    "]\n",
    "df = DFLoader.from_file(records)"
   ]
  },
  {
   "cell_type": "code",
   "execution_count": 178,
   "id": "4d7cc8d3-8226-418a-b4e7-3b01c54cb892",
   "metadata": {},
   "outputs": [
    {
     "name": "stdout",
     "output_type": "stream",
     "text": [
      "--- records\n",
      "[\n",
      "\u001b[38;2;187;187;187m  \u001b[39m{\n",
      "\u001b[38;2;187;187;187m    \u001b[39m\u001b[38;2;0;128;0;01m\"id\"\u001b[39;00m:\u001b[38;2;187;187;187m \u001b[39m\u001b[38;2;102;102;102m123\u001b[39m,\n",
      "\u001b[38;2;187;187;187m    \u001b[39m\u001b[38;2;0;128;0;01m\"a\"\u001b[39;00m:\u001b[38;2;187;187;187m \u001b[39m\u001b[38;2;186;33;33m\"1\"\u001b[39m,\n",
      "\u001b[38;2;187;187;187m    \u001b[39m\u001b[38;2;0;128;0;01m\"c\"\u001b[39;00m:\u001b[38;2;187;187;187m \u001b[39m\u001b[38;2;186;33;33m\"d\"\u001b[39m\n",
      "\u001b[38;2;187;187;187m  \u001b[39m},\n",
      "\u001b[38;2;187;187;187m  \u001b[39m{\n",
      "\u001b[38;2;187;187;187m    \u001b[39m\u001b[38;2;0;128;0;01m\"id\"\u001b[39;00m:\u001b[38;2;187;187;187m \u001b[39m\u001b[38;2;102;102;102m122\u001b[39m,\n",
      "\u001b[38;2;187;187;187m    \u001b[39m\u001b[38;2;0;128;0;01m\"a\"\u001b[39;00m:\u001b[38;2;187;187;187m \u001b[39m\u001b[38;2;186;33;33m\"b\"\u001b[39m\n",
      "\u001b[38;2;187;187;187m  \u001b[39m},\n",
      "\u001b[38;2;187;187;187m  \u001b[39m{\n",
      "\u001b[38;2;187;187;187m    \u001b[39m\u001b[38;2;0;128;0;01m\"id\"\u001b[39;00m:\u001b[38;2;187;187;187m \u001b[39m\u001b[38;2;102;102;102m111\u001b[39m,\n",
      "\u001b[38;2;187;187;187m    \u001b[39m\u001b[38;2;0;128;0;01m\"a\"\u001b[39;00m:\u001b[38;2;187;187;187m \u001b[39m\u001b[38;2;186;33;33m\"c\"\u001b[39m\n",
      "\u001b[38;2;187;187;187m  \u001b[39m},\n",
      "\u001b[38;2;187;187;187m  \u001b[39m{\n",
      "\u001b[38;2;187;187;187m    \u001b[39m\u001b[38;2;0;128;0;01m\"id\"\u001b[39;00m:\u001b[38;2;187;187;187m \u001b[39m\u001b[38;2;102;102;102m234\u001b[39m,\n",
      "\u001b[38;2;187;187;187m    \u001b[39m\u001b[38;2;0;128;0;01m\"a\"\u001b[39;00m:\u001b[38;2;187;187;187m \u001b[39m\u001b[38;2;186;33;33m\"z\"\u001b[39m,\n",
      "\u001b[38;2;187;187;187m    \u001b[39m\u001b[38;2;0;128;0;01m\"d\"\u001b[39;00m:\u001b[38;2;187;187;187m \u001b[39m\u001b[38;2;186;33;33m\"z\"\u001b[39m\n",
      "\u001b[38;2;187;187;187m  \u001b[39m}\n",
      "]\n",
      "--- schema\n",
      "{\n",
      "\u001b[38;2;187;187;187m  \u001b[39m\u001b[38;2;0;128;0;01m\"type\"\u001b[39;00m:\u001b[38;2;187;187;187m \u001b[39m\u001b[38;2;186;33;33m\"object\"\u001b[39m,\n",
      "\u001b[38;2;187;187;187m  \u001b[39m\u001b[38;2;0;128;0;01m\"properties\"\u001b[39;00m:\u001b[38;2;187;187;187m \u001b[39m{\n",
      "\u001b[38;2;187;187;187m    \u001b[39m\u001b[38;2;0;128;0;01m\"id\"\u001b[39;00m:\u001b[38;2;187;187;187m \u001b[39m{\n",
      "\u001b[38;2;187;187;187m      \u001b[39m\u001b[38;2;0;128;0;01m\"type\"\u001b[39;00m:\u001b[38;2;187;187;187m \u001b[39m\u001b[38;2;186;33;33m\"integer\"\u001b[39m\n",
      "\u001b[38;2;187;187;187m    \u001b[39m},\n",
      "\u001b[38;2;187;187;187m    \u001b[39m\u001b[38;2;0;128;0;01m\"a\"\u001b[39;00m:\u001b[38;2;187;187;187m \u001b[39m{\n",
      "\u001b[38;2;187;187;187m      \u001b[39m\u001b[38;2;0;128;0;01m\"type\"\u001b[39;00m:\u001b[38;2;187;187;187m \u001b[39m\u001b[38;2;186;33;33m\"string\"\u001b[39m\n",
      "\u001b[38;2;187;187;187m    \u001b[39m}\n",
      "\u001b[38;2;187;187;187m  \u001b[39m},\n",
      "\u001b[38;2;187;187;187m  \u001b[39m\u001b[38;2;0;128;0;01m\"required\"\u001b[39;00m:\u001b[38;2;187;187;187m \u001b[39m[\n",
      "\u001b[38;2;187;187;187m    \u001b[39m\u001b[38;2;186;33;33m\"id\"\u001b[39m\n",
      "\u001b[38;2;187;187;187m  \u001b[39m],\n",
      "\u001b[38;2;187;187;187m  \u001b[39m\u001b[38;2;0;128;0;01m\"additionalProperties\"\u001b[39;00m:\u001b[38;2;187;187;187m \u001b[39m\u001b[38;2;0;128;0;01mfalse\u001b[39;00m\n",
      "}\n"
     ]
    }
   ],
   "source": [
    "records = [\n",
    "    { \"id\": 123, \"a\": \"1\", \"c\": \"d\" },\n",
    "    { \"id\": 122, \"a\": \"b\" },\n",
    "    { \"id\": 111, \"a\": \"c\" },\n",
    "    { \"id\": 234, \"a\": \"z\", \"d\": \"z\" }\n",
    "]\n",
    "\n",
    "schema = {\n",
    "    \"type\" : \"object\",\n",
    "    \"properties\" : {\n",
    "        \"id\" : {\"type\" : \"integer\"},\n",
    "        \"a\": {\"type\": \"string\"},\n",
    "    },\n",
    "    \"required\": [\"id\"],\n",
    "    \"additionalProperties\": False\n",
    "}\n",
    "\n",
    "print(\"--- records\")\n",
    "ppd(records)\n",
    "print(\"--- schema\")\n",
    "ppd(schema)"
   ]
  },
  {
   "cell_type": "code",
   "execution_count": 179,
   "id": "8b4d5b75-d7ec-4235-839e-e1b791a4db32",
   "metadata": {},
   "outputs": [
    {
     "name": "stdout",
     "output_type": "stream",
     "text": [
      "{\n",
      "\u001b[38;2;187;187;187m  \u001b[39m\u001b[38;2;0;128;0;01m\"instance\"\u001b[39;00m:\u001b[38;2;187;187;187m \u001b[39m{\n",
      "\u001b[38;2;187;187;187m    \u001b[39m\u001b[38;2;0;128;0;01m\"id\"\u001b[39;00m:\u001b[38;2;187;187;187m \u001b[39m\u001b[38;2;102;102;102m123\u001b[39m,\n",
      "\u001b[38;2;187;187;187m    \u001b[39m\u001b[38;2;0;128;0;01m\"a\"\u001b[39;00m:\u001b[38;2;187;187;187m \u001b[39m\u001b[38;2;186;33;33m\"1\"\u001b[39m,\n",
      "\u001b[38;2;187;187;187m    \u001b[39m\u001b[38;2;0;128;0;01m\"c\"\u001b[39;00m:\u001b[38;2;187;187;187m \u001b[39m\u001b[38;2;186;33;33m\"d\"\u001b[39m\n",
      "\u001b[38;2;187;187;187m  \u001b[39m},\n",
      "\u001b[38;2;187;187;187m  \u001b[39m\u001b[38;2;0;128;0;01m\"error\"\u001b[39;00m:\u001b[38;2;187;187;187m \u001b[39m\u001b[38;2;186;33;33m\"Additional properties are not allowed ('c' was unexpected)\"\u001b[39m,\n",
      "\u001b[38;2;187;187;187m  \u001b[39m\u001b[38;2;0;128;0;01m\"keys\"\u001b[39;00m:\u001b[38;2;187;187;187m \u001b[39m[\n",
      "\u001b[38;2;187;187;187m    \u001b[39m\u001b[38;2;186;33;33m\"c\"\u001b[39m\n",
      "\u001b[38;2;187;187;187m  \u001b[39m]\n",
      "}\n",
      "{\n",
      "\u001b[38;2;187;187;187m  \u001b[39m\u001b[38;2;0;128;0;01m\"instance\"\u001b[39;00m:\u001b[38;2;187;187;187m \u001b[39m{\n",
      "\u001b[38;2;187;187;187m    \u001b[39m\u001b[38;2;0;128;0;01m\"id\"\u001b[39;00m:\u001b[38;2;187;187;187m \u001b[39m\u001b[38;2;102;102;102m234\u001b[39m,\n",
      "\u001b[38;2;187;187;187m    \u001b[39m\u001b[38;2;0;128;0;01m\"a\"\u001b[39;00m:\u001b[38;2;187;187;187m \u001b[39m\u001b[38;2;186;33;33m\"z\"\u001b[39m,\n",
      "\u001b[38;2;187;187;187m    \u001b[39m\u001b[38;2;0;128;0;01m\"d\"\u001b[39;00m:\u001b[38;2;187;187;187m \u001b[39m\u001b[38;2;186;33;33m\"z\"\u001b[39m\n",
      "\u001b[38;2;187;187;187m  \u001b[39m},\n",
      "\u001b[38;2;187;187;187m  \u001b[39m\u001b[38;2;0;128;0;01m\"error\"\u001b[39;00m:\u001b[38;2;187;187;187m \u001b[39m\u001b[38;2;186;33;33m\"Additional properties are not allowed ('d' was unexpected)\"\u001b[39m,\n",
      "\u001b[38;2;187;187;187m  \u001b[39m\u001b[38;2;0;128;0;01m\"keys\"\u001b[39;00m:\u001b[38;2;187;187;187m \u001b[39m[\n",
      "\u001b[38;2;187;187;187m    \u001b[39m\u001b[38;2;186;33;33m\"d\"\u001b[39m\n",
      "\u001b[38;2;187;187;187m  \u001b[39m]\n",
      "}\n"
     ]
    }
   ],
   "source": [
    "from typing import Dict, List\n",
    "from jsonschema.exceptions import ValidationError\n",
    "from jsonschema.validators import Draft3Validator\n",
    "from jsonschema import validate\n",
    "\n",
    "def translate(df: dict) -> dict:\n",
    "    v = Draft3Validator(schema)\n",
    "    for record in df:\n",
    "        for error in sorted(v.iter_errors(record), key=str):\n",
    "            yield record, error\n",
    "\n",
    "def parse_unexpected_keys(instance: dict, e: ValidationError) -> List[str]:\n",
    "    '''\n",
    "    \"Additional properties are not allowed ('a' was unexpected)\" -> ['a']\n",
    "    \"Additional properties are not allowed ('a', 'c' were unexpected)\" -> ['a', 'c']\n",
    "    '''\n",
    "    return (\n",
    "        list(map(\n",
    "            # Strip the single quote from the outside of each key\n",
    "            lambda x: x.strip(\"'\"),\n",
    "            # Strip the message of the beginning/end, \n",
    "            e.args[0]\n",
    "            .lstrip('Additional properties are not allowed (')\n",
    "            .rstrip(' was unexpected)')\n",
    "            .rstrip(' were unexpected)')\n",
    "            # split on comma e.g. \"('a', 'c' was...)\" -> [\"'a'\", \"'b'\"]\n",
    "            .split(', ')\n",
    "        ))\n",
    "    )\n",
    "            \n",
    "for record, error in translate(records):\n",
    "    ppd({\n",
    "        'instance': record,\n",
    "        'error': error.message,\n",
    "        'keys': parse_unexpected_keys(record, error)\n",
    "    })"
   ]
  },
  {
   "cell_type": "code",
   "execution_count": 180,
   "id": "6e99805c-494f-4ff5-8890-c4f8bf37cc4a",
   "metadata": {},
   "outputs": [],
   "source": [
    "from dataclasses import dataclass, field\n",
    "\n",
    "@dataclass\n",
    "class UnexpectedKeys:\n",
    "    schema: dict\n",
    "    unique_keys: set = field(default_factory=set)\n",
    "    \n",
    "    def __post_init__(self):\n",
    "        self.validator = Draft3Validator(self.schema)\n",
    "\n",
    "    @property\n",
    "    def keys(self):\n",
    "        return list(sorted(self.unique_keys))\n",
    "\n",
    "    @staticmethod\n",
    "    def parse_unexpected_keys(e: ValidationError) -> List[str]:\n",
    "        '''\n",
    "        \"Additional properties are not allowed ('a' was unexpected)\" -> ['a']\n",
    "        \"Additional properties are not allowed ('a', 'c' were unexpected)\" -> ['a', 'c']\n",
    "        '''\n",
    "        return (\n",
    "            list(map(\n",
    "                # Strip the single quote from the outside of each key\n",
    "                lambda x: x.strip(\"'\"),\n",
    "                # Strip the message of the beginning/end, \n",
    "                e.args[0]\n",
    "                .lstrip('Additional properties are not allowed (')\n",
    "                .rstrip(' was unexpected)')\n",
    "                .rstrip(' were unexpected)')\n",
    "                # split on comma e.g. \"('a', 'c' was...)\" -> [\"'a'\", \"'b'\"]\n",
    "                .split(', ')\n",
    "            ))\n",
    "        )\n",
    "\n",
    "    \n",
    "    def check(self, instance: dict):\n",
    "        for error in sorted(self.validator.iter_errors(instance), key=str):\n",
    "            for key in UnexpectedKeys.parse_unexpected_keys(error):\n",
    "                self.unique_keys.add(key)\n",
    "            yield error"
   ]
  },
  {
   "cell_type": "code",
   "execution_count": 181,
   "id": "4f9ca6b8-1c4f-4726-855a-3c45a5087758",
   "metadata": {},
   "outputs": [
    {
     "name": "stdout",
     "output_type": "stream",
     "text": [
      "--- record\n",
      "{\n",
      "\u001b[38;2;187;187;187m  \u001b[39m\u001b[38;2;0;128;0;01m\"id\"\u001b[39;00m:\u001b[38;2;187;187;187m \u001b[39m\u001b[38;2;102;102;102m123\u001b[39m,\n",
      "\u001b[38;2;187;187;187m  \u001b[39m\u001b[38;2;0;128;0;01m\"a\"\u001b[39;00m:\u001b[38;2;187;187;187m \u001b[39m\u001b[38;2;186;33;33m\"1\"\u001b[39m,\n",
      "\u001b[38;2;187;187;187m  \u001b[39m\u001b[38;2;0;128;0;01m\"c\"\u001b[39;00m:\u001b[38;2;187;187;187m \u001b[39m\u001b[38;2;186;33;33m\"d\"\u001b[39m\n",
      "}\n",
      "--- error\n",
      "Additional properties are not allowed ('c' was unexpected)\n",
      "\n",
      "Failed validating 'additionalProperties' in schema:\n",
      "    {'additionalProperties': False,\n",
      "     'properties': {'a': {'type': 'string'}, 'id': {'type': 'integer'}},\n",
      "     'required': ['id'],\n",
      "     'type': 'object'}\n",
      "\n",
      "On instance:\n",
      "    {'a': '1', 'c': 'd', 'id': 123}\n",
      "--- record\n",
      "{\n",
      "\u001b[38;2;187;187;187m  \u001b[39m\u001b[38;2;0;128;0;01m\"id\"\u001b[39;00m:\u001b[38;2;187;187;187m \u001b[39m\u001b[38;2;102;102;102m234\u001b[39m,\n",
      "\u001b[38;2;187;187;187m  \u001b[39m\u001b[38;2;0;128;0;01m\"a\"\u001b[39;00m:\u001b[38;2;187;187;187m \u001b[39m\u001b[38;2;186;33;33m\"z\"\u001b[39m,\n",
      "\u001b[38;2;187;187;187m  \u001b[39m\u001b[38;2;0;128;0;01m\"d\"\u001b[39;00m:\u001b[38;2;187;187;187m \u001b[39m\u001b[38;2;186;33;33m\"z\"\u001b[39m\n",
      "}\n",
      "--- error\n",
      "Additional properties are not allowed ('d' was unexpected)\n",
      "\n",
      "Failed validating 'additionalProperties' in schema:\n",
      "    {'additionalProperties': False,\n",
      "     'properties': {'a': {'type': 'string'}, 'id': {'type': 'integer'}},\n",
      "     'required': ['id'],\n",
      "     'type': 'object'}\n",
      "\n",
      "On instance:\n",
      "    {'a': 'z', 'd': 'z', 'id': 234}\n"
     ]
    }
   ],
   "source": [
    "k = UnexpectedKeys(schema)\n",
    "for record in records:\n",
    "    for error in k.check(record):\n",
    "        print('--- record')\n",
    "        ppd(record)\n",
    "        print('--- error', error, sep='\\n')"
   ]
  },
  {
   "cell_type": "code",
   "execution_count": 182,
   "id": "40950ba8-bbc6-4f66-8682-77840d4a2099",
   "metadata": {},
   "outputs": [
    {
     "data": {
      "text/plain": [
       "{'c', 'd'}"
      ]
     },
     "execution_count": 182,
     "metadata": {},
     "output_type": "execute_result"
    }
   ],
   "source": [
    "k.unique_keys"
   ]
  },
  {
   "cell_type": "code",
   "execution_count": 183,
   "id": "c3a894a0-e997-4fc3-9331-7455422531c4",
   "metadata": {},
   "outputs": [],
   "source": [
    "k.unique_keys\n",
    "\n",
    "def split_dict(d: dict, keys: list):\n",
    "    dd, extras = {}, {}\n",
    "    for k in d.keys():\n",
    "        if k in keys:\n",
    "            extras[k] = d[k]\n",
    "        else:\n",
    "            dd[k] = d[k]\n",
    "    return dd, extras\n",
    "\n",
    "def translate(df: list) -> list:\n",
    "    uk = UnexpectedKeys(schema)\n",
    "    for record in records:\n",
    "        for error in uk.check(record):\n",
    "            d, extras = split_dict(record, UnexpectedKeys.parse_unexpected_keys(error))\n",
    "            if extras:\n",
    "                for k, v in extras.items():\n",
    "                    yield {\n",
    "                        **d, **{\"custom\": [{\"key\": k, \"value\": v}]}\n",
    "                    }\n",
    "            else:\n",
    "                yield {**d, **{\"custom\": []}}\n",
    "            break\n",
    "        else:\n",
    "            yield {**record, **{\"custom\": []}}"
   ]
  },
  {
   "cell_type": "code",
   "execution_count": 184,
   "id": "e1841e9c-eba2-457d-8ea9-21ed9b2fc1b9",
   "metadata": {},
   "outputs": [
    {
     "name": "stdout",
     "output_type": "stream",
     "text": [
      "--- records\n",
      "{\u001b[38;2;0;128;0;01m\"id\"\u001b[39;00m:\u001b[38;2;187;187;187m \u001b[39m\u001b[38;2;102;102;102m123\u001b[39m,\u001b[38;2;187;187;187m \u001b[39m\u001b[38;2;0;128;0;01m\"a\"\u001b[39;00m:\u001b[38;2;187;187;187m \u001b[39m\u001b[38;2;186;33;33m\"1\"\u001b[39m,\u001b[38;2;187;187;187m \u001b[39m\u001b[38;2;0;128;0;01m\"c\"\u001b[39;00m:\u001b[38;2;187;187;187m \u001b[39m\u001b[38;2;186;33;33m\"d\"\u001b[39m}\n",
      "{\u001b[38;2;0;128;0;01m\"id\"\u001b[39;00m:\u001b[38;2;187;187;187m \u001b[39m\u001b[38;2;102;102;102m122\u001b[39m,\u001b[38;2;187;187;187m \u001b[39m\u001b[38;2;0;128;0;01m\"a\"\u001b[39;00m:\u001b[38;2;187;187;187m \u001b[39m\u001b[38;2;186;33;33m\"b\"\u001b[39m}\n",
      "{\u001b[38;2;0;128;0;01m\"id\"\u001b[39;00m:\u001b[38;2;187;187;187m \u001b[39m\u001b[38;2;102;102;102m111\u001b[39m,\u001b[38;2;187;187;187m \u001b[39m\u001b[38;2;0;128;0;01m\"a\"\u001b[39;00m:\u001b[38;2;187;187;187m \u001b[39m\u001b[38;2;186;33;33m\"c\"\u001b[39m}\n",
      "{\u001b[38;2;0;128;0;01m\"id\"\u001b[39;00m:\u001b[38;2;187;187;187m \u001b[39m\u001b[38;2;102;102;102m234\u001b[39m,\u001b[38;2;187;187;187m \u001b[39m\u001b[38;2;0;128;0;01m\"a\"\u001b[39;00m:\u001b[38;2;187;187;187m \u001b[39m\u001b[38;2;186;33;33m\"z\"\u001b[39m,\u001b[38;2;187;187;187m \u001b[39m\u001b[38;2;0;128;0;01m\"d\"\u001b[39;00m:\u001b[38;2;187;187;187m \u001b[39m\u001b[38;2;186;33;33m\"z\"\u001b[39m}\n",
      "--- translated\n",
      "{\u001b[38;2;0;128;0;01m\"id\"\u001b[39;00m:\u001b[38;2;187;187;187m \u001b[39m\u001b[38;2;102;102;102m123\u001b[39m,\u001b[38;2;187;187;187m \u001b[39m\u001b[38;2;0;128;0;01m\"a\"\u001b[39;00m:\u001b[38;2;187;187;187m \u001b[39m\u001b[38;2;186;33;33m\"1\"\u001b[39m,\u001b[38;2;187;187;187m \u001b[39m\u001b[38;2;0;128;0;01m\"custom\"\u001b[39;00m:\u001b[38;2;187;187;187m \u001b[39m[{\u001b[38;2;0;128;0;01m\"key\"\u001b[39;00m:\u001b[38;2;187;187;187m \u001b[39m\u001b[38;2;186;33;33m\"c\"\u001b[39m,\u001b[38;2;187;187;187m \u001b[39m\u001b[38;2;0;128;0;01m\"value\"\u001b[39;00m:\u001b[38;2;187;187;187m \u001b[39m\u001b[38;2;186;33;33m\"d\"\u001b[39m}]}\n",
      "{\u001b[38;2;0;128;0;01m\"id\"\u001b[39;00m:\u001b[38;2;187;187;187m \u001b[39m\u001b[38;2;102;102;102m122\u001b[39m,\u001b[38;2;187;187;187m \u001b[39m\u001b[38;2;0;128;0;01m\"a\"\u001b[39;00m:\u001b[38;2;187;187;187m \u001b[39m\u001b[38;2;186;33;33m\"b\"\u001b[39m,\u001b[38;2;187;187;187m \u001b[39m\u001b[38;2;0;128;0;01m\"custom\"\u001b[39;00m:\u001b[38;2;187;187;187m \u001b[39m[]}\n",
      "{\u001b[38;2;0;128;0;01m\"id\"\u001b[39;00m:\u001b[38;2;187;187;187m \u001b[39m\u001b[38;2;102;102;102m111\u001b[39m,\u001b[38;2;187;187;187m \u001b[39m\u001b[38;2;0;128;0;01m\"a\"\u001b[39;00m:\u001b[38;2;187;187;187m \u001b[39m\u001b[38;2;186;33;33m\"c\"\u001b[39m,\u001b[38;2;187;187;187m \u001b[39m\u001b[38;2;0;128;0;01m\"custom\"\u001b[39;00m:\u001b[38;2;187;187;187m \u001b[39m[]}\n",
      "{\u001b[38;2;0;128;0;01m\"id\"\u001b[39;00m:\u001b[38;2;187;187;187m \u001b[39m\u001b[38;2;102;102;102m234\u001b[39m,\u001b[38;2;187;187;187m \u001b[39m\u001b[38;2;0;128;0;01m\"a\"\u001b[39;00m:\u001b[38;2;187;187;187m \u001b[39m\u001b[38;2;186;33;33m\"z\"\u001b[39m,\u001b[38;2;187;187;187m \u001b[39m\u001b[38;2;0;128;0;01m\"custom\"\u001b[39;00m:\u001b[38;2;187;187;187m \u001b[39m[{\u001b[38;2;0;128;0;01m\"key\"\u001b[39;00m:\u001b[38;2;187;187;187m \u001b[39m\u001b[38;2;186;33;33m\"d\"\u001b[39m,\u001b[38;2;187;187;187m \u001b[39m\u001b[38;2;0;128;0;01m\"value\"\u001b[39;00m:\u001b[38;2;187;187;187m \u001b[39m\u001b[38;2;186;33;33m\"z\"\u001b[39m}]}\n"
     ]
    }
   ],
   "source": [
    "print('--- records')\n",
    "for record in records:\n",
    "    ppd(record, indent=None)\n",
    "print('--- translated')\n",
    "for record in translate(records):\n",
    "    ppd(record, indent=None)"
   ]
  },
  {
   "cell_type": "code",
   "execution_count": 185,
   "id": "70d8c03d-7422-4c9c-9326-e7b9a46cf900",
   "metadata": {},
   "outputs": [
    {
     "name": "stdout",
     "output_type": "stream",
     "text": [
      "{\n",
      "\u001b[38;2;187;187;187m  \u001b[39m\u001b[38;2;0;128;0;01m\"type\"\u001b[39;00m:\u001b[38;2;187;187;187m \u001b[39m\u001b[38;2;186;33;33m\"object\"\u001b[39m,\n",
      "\u001b[38;2;187;187;187m  \u001b[39m\u001b[38;2;0;128;0;01m\"properties\"\u001b[39;00m:\u001b[38;2;187;187;187m \u001b[39m{\n",
      "\u001b[38;2;187;187;187m    \u001b[39m\u001b[38;2;0;128;0;01m\"id\"\u001b[39;00m:\u001b[38;2;187;187;187m \u001b[39m{\n",
      "\u001b[38;2;187;187;187m      \u001b[39m\u001b[38;2;0;128;0;01m\"type\"\u001b[39;00m:\u001b[38;2;187;187;187m \u001b[39m\u001b[38;2;186;33;33m\"integer\"\u001b[39m\n",
      "\u001b[38;2;187;187;187m    \u001b[39m},\n",
      "\u001b[38;2;187;187;187m    \u001b[39m\u001b[38;2;0;128;0;01m\"a\"\u001b[39;00m:\u001b[38;2;187;187;187m \u001b[39m{\n",
      "\u001b[38;2;187;187;187m      \u001b[39m\u001b[38;2;0;128;0;01m\"type\"\u001b[39;00m:\u001b[38;2;187;187;187m \u001b[39m\u001b[38;2;186;33;33m\"string\"\u001b[39m\n",
      "\u001b[38;2;187;187;187m    \u001b[39m},\n",
      "\u001b[38;2;187;187;187m    \u001b[39m\u001b[38;2;0;128;0;01m\"custom\"\u001b[39;00m:\u001b[38;2;187;187;187m \u001b[39m{\n",
      "\u001b[38;2;187;187;187m      \u001b[39m\u001b[38;2;0;128;0;01m\"type\"\u001b[39;00m:\u001b[38;2;187;187;187m \u001b[39m\u001b[38;2;186;33;33m\"array\"\u001b[39m,\n",
      "\u001b[38;2;187;187;187m      \u001b[39m\u001b[38;2;0;128;0;01m\"items\"\u001b[39;00m:\u001b[38;2;187;187;187m \u001b[39m{\n",
      "\u001b[38;2;187;187;187m        \u001b[39m\u001b[38;2;0;128;0;01m\"type\"\u001b[39;00m:\u001b[38;2;187;187;187m \u001b[39m\u001b[38;2;186;33;33m\"object\"\u001b[39m,\n",
      "\u001b[38;2;187;187;187m        \u001b[39m\u001b[38;2;0;128;0;01m\"properties\"\u001b[39;00m:\u001b[38;2;187;187;187m \u001b[39m{\n",
      "\u001b[38;2;187;187;187m          \u001b[39m\u001b[38;2;0;128;0;01m\"key\"\u001b[39;00m:\u001b[38;2;187;187;187m \u001b[39m{\n",
      "\u001b[38;2;187;187;187m            \u001b[39m\u001b[38;2;0;128;0;01m\"type\"\u001b[39;00m:\u001b[38;2;187;187;187m \u001b[39m\u001b[38;2;186;33;33m\"string\"\u001b[39m\n",
      "\u001b[38;2;187;187;187m          \u001b[39m},\n",
      "\u001b[38;2;187;187;187m          \u001b[39m\u001b[38;2;0;128;0;01m\"value\"\u001b[39;00m:\u001b[38;2;187;187;187m \u001b[39m{\n",
      "\u001b[38;2;187;187;187m            \u001b[39m\u001b[38;2;0;128;0;01m\"type\"\u001b[39;00m:\u001b[38;2;187;187;187m \u001b[39m\u001b[38;2;186;33;33m\"string\"\u001b[39m\n",
      "\u001b[38;2;187;187;187m          \u001b[39m}\n",
      "\u001b[38;2;187;187;187m        \u001b[39m}\n",
      "\u001b[38;2;187;187;187m      \u001b[39m}\n",
      "\u001b[38;2;187;187;187m    \u001b[39m}\n",
      "\u001b[38;2;187;187;187m  \u001b[39m},\n",
      "\u001b[38;2;187;187;187m  \u001b[39m\u001b[38;2;0;128;0;01m\"required\"\u001b[39;00m:\u001b[38;2;187;187;187m \u001b[39m[\n",
      "\u001b[38;2;187;187;187m    \u001b[39m\u001b[38;2;186;33;33m\"id\"\u001b[39m,\n",
      "\u001b[38;2;187;187;187m    \u001b[39m\u001b[38;2;186;33;33m\"custom\"\u001b[39m\n",
      "\u001b[38;2;187;187;187m  \u001b[39m],\n",
      "\u001b[38;2;187;187;187m  \u001b[39m\u001b[38;2;0;128;0;01m\"additionalProperties\"\u001b[39;00m:\u001b[38;2;187;187;187m \u001b[39m\u001b[38;2;0;128;0;01mfalse\u001b[39;00m\n",
      "}\n"
     ]
    }
   ],
   "source": [
    "schema = {\n",
    "    \"type\" : \"object\",\n",
    "    \"properties\" : {\n",
    "        \"id\" : {\"type\" : \"integer\"},\n",
    "        \"a\": {\"type\": \"string\"},\n",
    "        \"custom\": {\n",
    "            \"type\": \"array\",\n",
    "            \"items\": {\n",
    "                \"type\": \"object\",\n",
    "                \"properties\": {\n",
    "                    \"key\": {\"type\": \"string\"},\n",
    "                    \"value\": {\"type\": \"string\"},\n",
    "                }\n",
    "            }\n",
    "        }\n",
    "    },\n",
    "    \"required\": [\"id\", \"custom\"],\n",
    "    \"additionalProperties\": False\n",
    "}\n",
    "ppd(schema)"
   ]
  },
  {
   "cell_type": "code",
   "execution_count": 186,
   "id": "b0955f5e-dad8-45be-94fc-81955e5921d9",
   "metadata": {},
   "outputs": [
    {
     "name": "stdout",
     "output_type": "stream",
     "text": [
      "{\u001b[38;2;0;128;0;01m\"id\"\u001b[39;00m:\u001b[38;2;187;187;187m \u001b[39m\u001b[38;2;102;102;102m123\u001b[39m,\u001b[38;2;187;187;187m \u001b[39m\u001b[38;2;0;128;0;01m\"a\"\u001b[39;00m:\u001b[38;2;187;187;187m \u001b[39m\u001b[38;2;186;33;33m\"1\"\u001b[39m,\u001b[38;2;187;187;187m \u001b[39m\u001b[38;2;0;128;0;01m\"custom\"\u001b[39;00m:\u001b[38;2;187;187;187m \u001b[39m[{\u001b[38;2;0;128;0;01m\"key\"\u001b[39;00m:\u001b[38;2;187;187;187m \u001b[39m\u001b[38;2;186;33;33m\"c\"\u001b[39m,\u001b[38;2;187;187;187m \u001b[39m\u001b[38;2;0;128;0;01m\"value\"\u001b[39;00m:\u001b[38;2;187;187;187m \u001b[39m\u001b[38;2;186;33;33m\"d\"\u001b[39m}]}\n",
      "{\u001b[38;2;0;128;0;01m\"id\"\u001b[39;00m:\u001b[38;2;187;187;187m \u001b[39m\u001b[38;2;102;102;102m122\u001b[39m,\u001b[38;2;187;187;187m \u001b[39m\u001b[38;2;0;128;0;01m\"a\"\u001b[39;00m:\u001b[38;2;187;187;187m \u001b[39m\u001b[38;2;186;33;33m\"b\"\u001b[39m,\u001b[38;2;187;187;187m \u001b[39m\u001b[38;2;0;128;0;01m\"custom\"\u001b[39;00m:\u001b[38;2;187;187;187m \u001b[39m[]}\n",
      "{\u001b[38;2;0;128;0;01m\"id\"\u001b[39;00m:\u001b[38;2;187;187;187m \u001b[39m\u001b[38;2;102;102;102m111\u001b[39m,\u001b[38;2;187;187;187m \u001b[39m\u001b[38;2;0;128;0;01m\"a\"\u001b[39;00m:\u001b[38;2;187;187;187m \u001b[39m\u001b[38;2;186;33;33m\"c\"\u001b[39m,\u001b[38;2;187;187;187m \u001b[39m\u001b[38;2;0;128;0;01m\"custom\"\u001b[39;00m:\u001b[38;2;187;187;187m \u001b[39m[]}\n",
      "{\u001b[38;2;0;128;0;01m\"id\"\u001b[39;00m:\u001b[38;2;187;187;187m \u001b[39m\u001b[38;2;102;102;102m234\u001b[39m,\u001b[38;2;187;187;187m \u001b[39m\u001b[38;2;0;128;0;01m\"a\"\u001b[39;00m:\u001b[38;2;187;187;187m \u001b[39m\u001b[38;2;186;33;33m\"z\"\u001b[39m,\u001b[38;2;187;187;187m \u001b[39m\u001b[38;2;0;128;0;01m\"custom\"\u001b[39;00m:\u001b[38;2;187;187;187m \u001b[39m[{\u001b[38;2;0;128;0;01m\"key\"\u001b[39;00m:\u001b[38;2;187;187;187m \u001b[39m\u001b[38;2;186;33;33m\"d\"\u001b[39m,\u001b[38;2;187;187;187m \u001b[39m\u001b[38;2;0;128;0;01m\"value\"\u001b[39;00m:\u001b[38;2;187;187;187m \u001b[39m\u001b[38;2;186;33;33m\"z\"\u001b[39m}]}\n"
     ]
    }
   ],
   "source": [
    "for record in translate(records):\n",
    "    ppd(record, indent=None)\n",
    "    validate(record, schema)"
   ]
  },
  {
   "cell_type": "code",
   "execution_count": 187,
   "id": "12af2873-8fed-4403-9221-bef4566388c1",
   "metadata": {},
   "outputs": [
    {
     "name": "stdout",
     "output_type": "stream",
     "text": [
      "--- records\n",
      "{\u001b[38;2;0;128;0;01m\"id\"\u001b[39;00m:\u001b[38;2;187;187;187m \u001b[39m\u001b[38;2;102;102;102m123\u001b[39m,\u001b[38;2;187;187;187m \u001b[39m\u001b[38;2;0;128;0;01m\"a\"\u001b[39;00m:\u001b[38;2;187;187;187m \u001b[39m\u001b[38;2;186;33;33m\"1\"\u001b[39m,\u001b[38;2;187;187;187m \u001b[39m\u001b[38;2;0;128;0;01m\"c\"\u001b[39;00m:\u001b[38;2;187;187;187m \u001b[39m\u001b[38;2;186;33;33m\"d\"\u001b[39m,\u001b[38;2;187;187;187m \u001b[39m\u001b[38;2;0;128;0;01m\"z\"\u001b[39;00m:\u001b[38;2;187;187;187m \u001b[39m\u001b[38;2;186;33;33m\"zz\"\u001b[39m}\n",
      "{\u001b[38;2;0;128;0;01m\"id\"\u001b[39;00m:\u001b[38;2;187;187;187m \u001b[39m\u001b[38;2;102;102;102m122\u001b[39m,\u001b[38;2;187;187;187m \u001b[39m\u001b[38;2;0;128;0;01m\"a\"\u001b[39;00m:\u001b[38;2;187;187;187m \u001b[39m\u001b[38;2;186;33;33m\"b\"\u001b[39m}\n",
      "{\u001b[38;2;0;128;0;01m\"id\"\u001b[39;00m:\u001b[38;2;187;187;187m \u001b[39m\u001b[38;2;102;102;102m111\u001b[39m,\u001b[38;2;187;187;187m \u001b[39m\u001b[38;2;0;128;0;01m\"a\"\u001b[39;00m:\u001b[38;2;187;187;187m \u001b[39m\u001b[38;2;186;33;33m\"c\"\u001b[39m}\n",
      "{\u001b[38;2;0;128;0;01m\"id\"\u001b[39;00m:\u001b[38;2;187;187;187m \u001b[39m\u001b[38;2;102;102;102m234\u001b[39m,\u001b[38;2;187;187;187m \u001b[39m\u001b[38;2;0;128;0;01m\"a\"\u001b[39;00m:\u001b[38;2;187;187;187m \u001b[39m\u001b[38;2;186;33;33m\"z\"\u001b[39m,\u001b[38;2;187;187;187m \u001b[39m\u001b[38;2;0;128;0;01m\"d\"\u001b[39;00m:\u001b[38;2;187;187;187m \u001b[39m\u001b[38;2;186;33;33m\"z\"\u001b[39m}\n",
      "--- translated\n",
      "{\u001b[38;2;0;128;0;01m\"id\"\u001b[39;00m:\u001b[38;2;187;187;187m \u001b[39m\u001b[38;2;102;102;102m123\u001b[39m,\u001b[38;2;187;187;187m \u001b[39m\u001b[38;2;0;128;0;01m\"a\"\u001b[39;00m:\u001b[38;2;187;187;187m \u001b[39m\u001b[38;2;186;33;33m\"1\"\u001b[39m,\u001b[38;2;187;187;187m \u001b[39m\u001b[38;2;0;128;0;01m\"custom\"\u001b[39;00m:\u001b[38;2;187;187;187m \u001b[39m[{\u001b[38;2;0;128;0;01m\"key\"\u001b[39;00m:\u001b[38;2;187;187;187m \u001b[39m\u001b[38;2;186;33;33m\"c\"\u001b[39m,\u001b[38;2;187;187;187m \u001b[39m\u001b[38;2;0;128;0;01m\"value\"\u001b[39;00m:\u001b[38;2;187;187;187m \u001b[39m\u001b[38;2;186;33;33m\"d\"\u001b[39m}]}\n",
      "{\u001b[38;2;0;128;0;01m\"id\"\u001b[39;00m:\u001b[38;2;187;187;187m \u001b[39m\u001b[38;2;102;102;102m123\u001b[39m,\u001b[38;2;187;187;187m \u001b[39m\u001b[38;2;0;128;0;01m\"a\"\u001b[39;00m:\u001b[38;2;187;187;187m \u001b[39m\u001b[38;2;186;33;33m\"1\"\u001b[39m,\u001b[38;2;187;187;187m \u001b[39m\u001b[38;2;0;128;0;01m\"custom\"\u001b[39;00m:\u001b[38;2;187;187;187m \u001b[39m[{\u001b[38;2;0;128;0;01m\"key\"\u001b[39;00m:\u001b[38;2;187;187;187m \u001b[39m\u001b[38;2;186;33;33m\"z\"\u001b[39m,\u001b[38;2;187;187;187m \u001b[39m\u001b[38;2;0;128;0;01m\"value\"\u001b[39;00m:\u001b[38;2;187;187;187m \u001b[39m\u001b[38;2;186;33;33m\"zz\"\u001b[39m}]}\n",
      "{\u001b[38;2;0;128;0;01m\"id\"\u001b[39;00m:\u001b[38;2;187;187;187m \u001b[39m\u001b[38;2;102;102;102m122\u001b[39m,\u001b[38;2;187;187;187m \u001b[39m\u001b[38;2;0;128;0;01m\"a\"\u001b[39;00m:\u001b[38;2;187;187;187m \u001b[39m\u001b[38;2;186;33;33m\"b\"\u001b[39m,\u001b[38;2;187;187;187m \u001b[39m\u001b[38;2;0;128;0;01m\"custom\"\u001b[39;00m:\u001b[38;2;187;187;187m \u001b[39m[]}\n",
      "{\u001b[38;2;0;128;0;01m\"id\"\u001b[39;00m:\u001b[38;2;187;187;187m \u001b[39m\u001b[38;2;102;102;102m111\u001b[39m,\u001b[38;2;187;187;187m \u001b[39m\u001b[38;2;0;128;0;01m\"a\"\u001b[39;00m:\u001b[38;2;187;187;187m \u001b[39m\u001b[38;2;186;33;33m\"c\"\u001b[39m,\u001b[38;2;187;187;187m \u001b[39m\u001b[38;2;0;128;0;01m\"custom\"\u001b[39;00m:\u001b[38;2;187;187;187m \u001b[39m[]}\n",
      "{\u001b[38;2;0;128;0;01m\"id\"\u001b[39;00m:\u001b[38;2;187;187;187m \u001b[39m\u001b[38;2;102;102;102m234\u001b[39m,\u001b[38;2;187;187;187m \u001b[39m\u001b[38;2;0;128;0;01m\"a\"\u001b[39;00m:\u001b[38;2;187;187;187m \u001b[39m\u001b[38;2;186;33;33m\"z\"\u001b[39m,\u001b[38;2;187;187;187m \u001b[39m\u001b[38;2;0;128;0;01m\"custom\"\u001b[39;00m:\u001b[38;2;187;187;187m \u001b[39m[{\u001b[38;2;0;128;0;01m\"key\"\u001b[39;00m:\u001b[38;2;187;187;187m \u001b[39m\u001b[38;2;186;33;33m\"d\"\u001b[39m,\u001b[38;2;187;187;187m \u001b[39m\u001b[38;2;0;128;0;01m\"value\"\u001b[39;00m:\u001b[38;2;187;187;187m \u001b[39m\u001b[38;2;186;33;33m\"z\"\u001b[39m}]}\n"
     ]
    }
   ],
   "source": [
    "records = [\n",
    "    { \"id\": 123, \"a\": \"1\", \"c\": \"d\", \"z\": \"zz\" },\n",
    "    { \"id\": 122, \"a\": \"b\" },\n",
    "    { \"id\": 111, \"a\": \"c\" },\n",
    "    { \"id\": 234, \"a\": \"z\", \"d\": \"z\" }\n",
    "]\n",
    "\n",
    "print('--- records')\n",
    "for record in records:\n",
    "    ppd(record, indent=None)\n",
    "\n",
    "print('--- translated')\n",
    "for record in translate(records):\n",
    "    ppd(record, indent=None)"
   ]
  },
  {
   "cell_type": "code",
   "execution_count": 188,
   "id": "cae9c2bd-70d8-4a7b-a31f-4534d5993671",
   "metadata": {},
   "outputs": [
    {
     "name": "stdout",
     "output_type": "stream",
     "text": [
      "+---+---------+---+\n",
      "|  a|   custom| id|\n",
      "+---+---------+---+\n",
      "|  1| [{c, d}]|123|\n",
      "|  1|[{z, zz}]|123|\n",
      "|  b|       []|122|\n",
      "|  c|       []|111|\n",
      "|  z| [{d, z}]|234|\n",
      "+---+---------+---+\n",
      "\n",
      "cells 15 / nulls 0\n",
      "{\n",
      "\u001b[38;2;187;187;187m  \u001b[39m\u001b[38;2;0;128;0;01m\"fields\"\u001b[39;00m:\u001b[38;2;187;187;187m \u001b[39m[\n",
      "\u001b[38;2;187;187;187m    \u001b[39m{\n",
      "\u001b[38;2;187;187;187m      \u001b[39m\u001b[38;2;0;128;0;01m\"metadata\"\u001b[39;00m:\u001b[38;2;187;187;187m \u001b[39m{},\n",
      "\u001b[38;2;187;187;187m      \u001b[39m\u001b[38;2;0;128;0;01m\"name\"\u001b[39;00m:\u001b[38;2;187;187;187m \u001b[39m\u001b[38;2;186;33;33m\"a\"\u001b[39m,\n",
      "\u001b[38;2;187;187;187m      \u001b[39m\u001b[38;2;0;128;0;01m\"nullable\"\u001b[39;00m:\u001b[38;2;187;187;187m \u001b[39m\u001b[38;2;0;128;0;01mtrue\u001b[39;00m,\n",
      "\u001b[38;2;187;187;187m      \u001b[39m\u001b[38;2;0;128;0;01m\"type\"\u001b[39;00m:\u001b[38;2;187;187;187m \u001b[39m\u001b[38;2;186;33;33m\"string\"\u001b[39m\n",
      "\u001b[38;2;187;187;187m    \u001b[39m},\n",
      "\u001b[38;2;187;187;187m    \u001b[39m{\n",
      "\u001b[38;2;187;187;187m      \u001b[39m\u001b[38;2;0;128;0;01m\"metadata\"\u001b[39;00m:\u001b[38;2;187;187;187m \u001b[39m{},\n",
      "\u001b[38;2;187;187;187m      \u001b[39m\u001b[38;2;0;128;0;01m\"name\"\u001b[39;00m:\u001b[38;2;187;187;187m \u001b[39m\u001b[38;2;186;33;33m\"custom\"\u001b[39m,\n",
      "\u001b[38;2;187;187;187m      \u001b[39m\u001b[38;2;0;128;0;01m\"nullable\"\u001b[39;00m:\u001b[38;2;187;187;187m \u001b[39m\u001b[38;2;0;128;0;01mtrue\u001b[39;00m,\n",
      "\u001b[38;2;187;187;187m      \u001b[39m\u001b[38;2;0;128;0;01m\"type\"\u001b[39;00m:\u001b[38;2;187;187;187m \u001b[39m{\n",
      "\u001b[38;2;187;187;187m        \u001b[39m\u001b[38;2;0;128;0;01m\"containsNull\"\u001b[39;00m:\u001b[38;2;187;187;187m \u001b[39m\u001b[38;2;0;128;0;01mtrue\u001b[39;00m,\n",
      "\u001b[38;2;187;187;187m        \u001b[39m\u001b[38;2;0;128;0;01m\"elementType\"\u001b[39;00m:\u001b[38;2;187;187;187m \u001b[39m{\n",
      "\u001b[38;2;187;187;187m          \u001b[39m\u001b[38;2;0;128;0;01m\"fields\"\u001b[39;00m:\u001b[38;2;187;187;187m \u001b[39m[\n",
      "\u001b[38;2;187;187;187m            \u001b[39m{\n",
      "\u001b[38;2;187;187;187m              \u001b[39m\u001b[38;2;0;128;0;01m\"metadata\"\u001b[39;00m:\u001b[38;2;187;187;187m \u001b[39m{},\n",
      "\u001b[38;2;187;187;187m              \u001b[39m\u001b[38;2;0;128;0;01m\"name\"\u001b[39;00m:\u001b[38;2;187;187;187m \u001b[39m\u001b[38;2;186;33;33m\"key\"\u001b[39m,\n",
      "\u001b[38;2;187;187;187m              \u001b[39m\u001b[38;2;0;128;0;01m\"nullable\"\u001b[39;00m:\u001b[38;2;187;187;187m \u001b[39m\u001b[38;2;0;128;0;01mtrue\u001b[39;00m,\n",
      "\u001b[38;2;187;187;187m              \u001b[39m\u001b[38;2;0;128;0;01m\"type\"\u001b[39;00m:\u001b[38;2;187;187;187m \u001b[39m\u001b[38;2;186;33;33m\"string\"\u001b[39m\n",
      "\u001b[38;2;187;187;187m            \u001b[39m},\n",
      "\u001b[38;2;187;187;187m            \u001b[39m{\n",
      "\u001b[38;2;187;187;187m              \u001b[39m\u001b[38;2;0;128;0;01m\"metadata\"\u001b[39;00m:\u001b[38;2;187;187;187m \u001b[39m{},\n",
      "\u001b[38;2;187;187;187m              \u001b[39m\u001b[38;2;0;128;0;01m\"name\"\u001b[39;00m:\u001b[38;2;187;187;187m \u001b[39m\u001b[38;2;186;33;33m\"value\"\u001b[39m,\n",
      "\u001b[38;2;187;187;187m              \u001b[39m\u001b[38;2;0;128;0;01m\"nullable\"\u001b[39;00m:\u001b[38;2;187;187;187m \u001b[39m\u001b[38;2;0;128;0;01mtrue\u001b[39;00m,\n",
      "\u001b[38;2;187;187;187m              \u001b[39m\u001b[38;2;0;128;0;01m\"type\"\u001b[39;00m:\u001b[38;2;187;187;187m \u001b[39m\u001b[38;2;186;33;33m\"string\"\u001b[39m\n",
      "\u001b[38;2;187;187;187m            \u001b[39m}\n",
      "\u001b[38;2;187;187;187m          \u001b[39m],\n",
      "\u001b[38;2;187;187;187m          \u001b[39m\u001b[38;2;0;128;0;01m\"type\"\u001b[39;00m:\u001b[38;2;187;187;187m \u001b[39m\u001b[38;2;186;33;33m\"struct\"\u001b[39m\n",
      "\u001b[38;2;187;187;187m        \u001b[39m},\n",
      "\u001b[38;2;187;187;187m        \u001b[39m\u001b[38;2;0;128;0;01m\"type\"\u001b[39;00m:\u001b[38;2;187;187;187m \u001b[39m\u001b[38;2;186;33;33m\"array\"\u001b[39m\n",
      "\u001b[38;2;187;187;187m      \u001b[39m}\n",
      "\u001b[38;2;187;187;187m    \u001b[39m},\n",
      "\u001b[38;2;187;187;187m    \u001b[39m{\n",
      "\u001b[38;2;187;187;187m      \u001b[39m\u001b[38;2;0;128;0;01m\"metadata\"\u001b[39;00m:\u001b[38;2;187;187;187m \u001b[39m{},\n",
      "\u001b[38;2;187;187;187m      \u001b[39m\u001b[38;2;0;128;0;01m\"name\"\u001b[39;00m:\u001b[38;2;187;187;187m \u001b[39m\u001b[38;2;186;33;33m\"id\"\u001b[39m,\n",
      "\u001b[38;2;187;187;187m      \u001b[39m\u001b[38;2;0;128;0;01m\"nullable\"\u001b[39;00m:\u001b[38;2;187;187;187m \u001b[39m\u001b[38;2;0;128;0;01mtrue\u001b[39;00m,\n",
      "\u001b[38;2;187;187;187m      \u001b[39m\u001b[38;2;0;128;0;01m\"type\"\u001b[39;00m:\u001b[38;2;187;187;187m \u001b[39m\u001b[38;2;186;33;33m\"long\"\u001b[39m\n",
      "\u001b[38;2;187;187;187m    \u001b[39m}\n",
      "\u001b[38;2;187;187;187m  \u001b[39m],\n",
      "\u001b[38;2;187;187;187m  \u001b[39m\u001b[38;2;0;128;0;01m\"type\"\u001b[39;00m:\u001b[38;2;187;187;187m \u001b[39m\u001b[38;2;186;33;33m\"struct\"\u001b[39m\n",
      "}\n"
     ]
    }
   ],
   "source": [
    "df = DFLoader.from_file(translate(records))"
   ]
  },
  {
   "cell_type": "code",
   "execution_count": 189,
   "id": "7c89a6b1-c0eb-4b4c-9f25-51494e72a059",
   "metadata": {},
   "outputs": [
    {
     "name": "stdout",
     "output_type": "stream",
     "text": [
      "+---+---+----------+------------+\n",
      "| id|  a|custom.key|custom.value|\n",
      "+---+---+----------+------------+\n",
      "|123|  1|       [c]|         [d]|\n",
      "|123|  1|       [z]|        [zz]|\n",
      "|122|  b|        []|          []|\n",
      "|111|  c|        []|          []|\n",
      "|234|  z|       [d]|         [z]|\n",
      "+---+---+----------+------------+\n",
      "\n"
     ]
    }
   ],
   "source": [
    "df.select(df.id, df.a, df.custom.key, df.custom.value).show()"
   ]
  },
  {
   "cell_type": "code",
   "execution_count": 190,
   "id": "33aef8e0-1ac7-4e46-a154-9290cf9f258e",
   "metadata": {},
   "outputs": [],
   "source": [
    "def translate2(df: list) -> list:\n",
    "    uk = UnexpectedKeys(schema)\n",
    "    for record in records:\n",
    "        for error in uk.check(record):\n",
    "            d, extras = split_dict(record, UnexpectedKeys.parse_unexpected_keys(error))\n",
    "            custom = []\n",
    "            if extras:\n",
    "                for k, v in extras.items():\n",
    "                    custom.append({\"key\": k, \"value\": v})\n",
    "                yield {**d, **{\"custom\": custom}}\n",
    "            else:\n",
    "                yield {**d, **{\"custom\": custom}}\n",
    "            break\n",
    "        else:\n",
    "            yield {**record, **{\"custom\": []}}"
   ]
  },
  {
   "cell_type": "code",
   "execution_count": 191,
   "id": "b851acef-f692-4307-bcc4-7da6514a5f52",
   "metadata": {},
   "outputs": [
    {
     "name": "stdout",
     "output_type": "stream",
     "text": [
      "--- records\n",
      "{\u001b[38;2;0;128;0;01m\"id\"\u001b[39;00m:\u001b[38;2;187;187;187m \u001b[39m\u001b[38;2;102;102;102m123\u001b[39m,\u001b[38;2;187;187;187m \u001b[39m\u001b[38;2;0;128;0;01m\"a\"\u001b[39;00m:\u001b[38;2;187;187;187m \u001b[39m\u001b[38;2;186;33;33m\"1\"\u001b[39m,\u001b[38;2;187;187;187m \u001b[39m\u001b[38;2;0;128;0;01m\"c\"\u001b[39;00m:\u001b[38;2;187;187;187m \u001b[39m\u001b[38;2;186;33;33m\"d\"\u001b[39m,\u001b[38;2;187;187;187m \u001b[39m\u001b[38;2;0;128;0;01m\"z\"\u001b[39;00m:\u001b[38;2;187;187;187m \u001b[39m\u001b[38;2;186;33;33m\"zz\"\u001b[39m}\n",
      "{\u001b[38;2;0;128;0;01m\"id\"\u001b[39;00m:\u001b[38;2;187;187;187m \u001b[39m\u001b[38;2;102;102;102m122\u001b[39m,\u001b[38;2;187;187;187m \u001b[39m\u001b[38;2;0;128;0;01m\"a\"\u001b[39;00m:\u001b[38;2;187;187;187m \u001b[39m\u001b[38;2;186;33;33m\"b\"\u001b[39m}\n",
      "{\u001b[38;2;0;128;0;01m\"id\"\u001b[39;00m:\u001b[38;2;187;187;187m \u001b[39m\u001b[38;2;102;102;102m111\u001b[39m,\u001b[38;2;187;187;187m \u001b[39m\u001b[38;2;0;128;0;01m\"a\"\u001b[39;00m:\u001b[38;2;187;187;187m \u001b[39m\u001b[38;2;186;33;33m\"c\"\u001b[39m}\n",
      "{\u001b[38;2;0;128;0;01m\"id\"\u001b[39;00m:\u001b[38;2;187;187;187m \u001b[39m\u001b[38;2;102;102;102m234\u001b[39m,\u001b[38;2;187;187;187m \u001b[39m\u001b[38;2;0;128;0;01m\"a\"\u001b[39;00m:\u001b[38;2;187;187;187m \u001b[39m\u001b[38;2;186;33;33m\"z\"\u001b[39m,\u001b[38;2;187;187;187m \u001b[39m\u001b[38;2;0;128;0;01m\"d\"\u001b[39;00m:\u001b[38;2;187;187;187m \u001b[39m\u001b[38;2;186;33;33m\"z\"\u001b[39m}\n",
      "--- translated\n",
      "{\u001b[38;2;0;128;0;01m\"id\"\u001b[39;00m:\u001b[38;2;187;187;187m \u001b[39m\u001b[38;2;102;102;102m123\u001b[39m,\u001b[38;2;187;187;187m \u001b[39m\u001b[38;2;0;128;0;01m\"a\"\u001b[39;00m:\u001b[38;2;187;187;187m \u001b[39m\u001b[38;2;186;33;33m\"1\"\u001b[39m,\u001b[38;2;187;187;187m \u001b[39m\u001b[38;2;0;128;0;01m\"custom\"\u001b[39;00m:\u001b[38;2;187;187;187m \u001b[39m[{\u001b[38;2;0;128;0;01m\"key\"\u001b[39;00m:\u001b[38;2;187;187;187m \u001b[39m\u001b[38;2;186;33;33m\"c\"\u001b[39m,\u001b[38;2;187;187;187m \u001b[39m\u001b[38;2;0;128;0;01m\"value\"\u001b[39;00m:\u001b[38;2;187;187;187m \u001b[39m\u001b[38;2;186;33;33m\"d\"\u001b[39m},\u001b[38;2;187;187;187m \u001b[39m{\u001b[38;2;0;128;0;01m\"key\"\u001b[39;00m:\u001b[38;2;187;187;187m \u001b[39m\u001b[38;2;186;33;33m\"z\"\u001b[39m,\u001b[38;2;187;187;187m \u001b[39m\u001b[38;2;0;128;0;01m\"value\"\u001b[39;00m:\u001b[38;2;187;187;187m \u001b[39m\u001b[38;2;186;33;33m\"zz\"\u001b[39m}]}\n",
      "{\u001b[38;2;0;128;0;01m\"id\"\u001b[39;00m:\u001b[38;2;187;187;187m \u001b[39m\u001b[38;2;102;102;102m122\u001b[39m,\u001b[38;2;187;187;187m \u001b[39m\u001b[38;2;0;128;0;01m\"a\"\u001b[39;00m:\u001b[38;2;187;187;187m \u001b[39m\u001b[38;2;186;33;33m\"b\"\u001b[39m,\u001b[38;2;187;187;187m \u001b[39m\u001b[38;2;0;128;0;01m\"custom\"\u001b[39;00m:\u001b[38;2;187;187;187m \u001b[39m[]}\n",
      "{\u001b[38;2;0;128;0;01m\"id\"\u001b[39;00m:\u001b[38;2;187;187;187m \u001b[39m\u001b[38;2;102;102;102m111\u001b[39m,\u001b[38;2;187;187;187m \u001b[39m\u001b[38;2;0;128;0;01m\"a\"\u001b[39;00m:\u001b[38;2;187;187;187m \u001b[39m\u001b[38;2;186;33;33m\"c\"\u001b[39m,\u001b[38;2;187;187;187m \u001b[39m\u001b[38;2;0;128;0;01m\"custom\"\u001b[39;00m:\u001b[38;2;187;187;187m \u001b[39m[]}\n",
      "{\u001b[38;2;0;128;0;01m\"id\"\u001b[39;00m:\u001b[38;2;187;187;187m \u001b[39m\u001b[38;2;102;102;102m234\u001b[39m,\u001b[38;2;187;187;187m \u001b[39m\u001b[38;2;0;128;0;01m\"a\"\u001b[39;00m:\u001b[38;2;187;187;187m \u001b[39m\u001b[38;2;186;33;33m\"z\"\u001b[39m,\u001b[38;2;187;187;187m \u001b[39m\u001b[38;2;0;128;0;01m\"custom\"\u001b[39;00m:\u001b[38;2;187;187;187m \u001b[39m[{\u001b[38;2;0;128;0;01m\"key\"\u001b[39;00m:\u001b[38;2;187;187;187m \u001b[39m\u001b[38;2;186;33;33m\"d\"\u001b[39m,\u001b[38;2;187;187;187m \u001b[39m\u001b[38;2;0;128;0;01m\"value\"\u001b[39;00m:\u001b[38;2;187;187;187m \u001b[39m\u001b[38;2;186;33;33m\"z\"\u001b[39m}]}\n"
     ]
    }
   ],
   "source": [
    "records = [\n",
    "    { \"id\": 123, \"a\": \"1\", \"c\": \"d\", \"z\": \"zz\" },\n",
    "    { \"id\": 122, \"a\": \"b\" },\n",
    "    { \"id\": 111, \"a\": \"c\" },\n",
    "    { \"id\": 234, \"a\": \"z\", \"d\": \"z\" }\n",
    "]\n",
    "\n",
    "print('--- records')\n",
    "for record in records:\n",
    "    ppd(record, indent=None)\n",
    "\n",
    "print('--- translated')\n",
    "for record in translate2(records):\n",
    "    ppd(record, indent=None)"
   ]
  },
  {
   "cell_type": "code",
   "execution_count": 192,
   "id": "fe06887c-73ec-4e04-83dd-4fb1574f0453",
   "metadata": {},
   "outputs": [
    {
     "name": "stdout",
     "output_type": "stream",
     "text": [
      "+---+-----------------+---+\n",
      "|  a|           custom| id|\n",
      "+---+-----------------+---+\n",
      "|  1|[{c, d}, {z, zz}]|123|\n",
      "|  b|               []|122|\n",
      "|  c|               []|111|\n",
      "|  z|         [{d, z}]|234|\n",
      "+---+-----------------+---+\n",
      "\n",
      "cells 12 / nulls 0\n",
      "{\n",
      "\u001b[38;2;187;187;187m  \u001b[39m\u001b[38;2;0;128;0;01m\"fields\"\u001b[39;00m:\u001b[38;2;187;187;187m \u001b[39m[\n",
      "\u001b[38;2;187;187;187m    \u001b[39m{\n",
      "\u001b[38;2;187;187;187m      \u001b[39m\u001b[38;2;0;128;0;01m\"metadata\"\u001b[39;00m:\u001b[38;2;187;187;187m \u001b[39m{},\n",
      "\u001b[38;2;187;187;187m      \u001b[39m\u001b[38;2;0;128;0;01m\"name\"\u001b[39;00m:\u001b[38;2;187;187;187m \u001b[39m\u001b[38;2;186;33;33m\"a\"\u001b[39m,\n",
      "\u001b[38;2;187;187;187m      \u001b[39m\u001b[38;2;0;128;0;01m\"nullable\"\u001b[39;00m:\u001b[38;2;187;187;187m \u001b[39m\u001b[38;2;0;128;0;01mtrue\u001b[39;00m,\n",
      "\u001b[38;2;187;187;187m      \u001b[39m\u001b[38;2;0;128;0;01m\"type\"\u001b[39;00m:\u001b[38;2;187;187;187m \u001b[39m\u001b[38;2;186;33;33m\"string\"\u001b[39m\n",
      "\u001b[38;2;187;187;187m    \u001b[39m},\n",
      "\u001b[38;2;187;187;187m    \u001b[39m{\n",
      "\u001b[38;2;187;187;187m      \u001b[39m\u001b[38;2;0;128;0;01m\"metadata\"\u001b[39;00m:\u001b[38;2;187;187;187m \u001b[39m{},\n",
      "\u001b[38;2;187;187;187m      \u001b[39m\u001b[38;2;0;128;0;01m\"name\"\u001b[39;00m:\u001b[38;2;187;187;187m \u001b[39m\u001b[38;2;186;33;33m\"custom\"\u001b[39m,\n",
      "\u001b[38;2;187;187;187m      \u001b[39m\u001b[38;2;0;128;0;01m\"nullable\"\u001b[39;00m:\u001b[38;2;187;187;187m \u001b[39m\u001b[38;2;0;128;0;01mtrue\u001b[39;00m,\n",
      "\u001b[38;2;187;187;187m      \u001b[39m\u001b[38;2;0;128;0;01m\"type\"\u001b[39;00m:\u001b[38;2;187;187;187m \u001b[39m{\n",
      "\u001b[38;2;187;187;187m        \u001b[39m\u001b[38;2;0;128;0;01m\"containsNull\"\u001b[39;00m:\u001b[38;2;187;187;187m \u001b[39m\u001b[38;2;0;128;0;01mtrue\u001b[39;00m,\n",
      "\u001b[38;2;187;187;187m        \u001b[39m\u001b[38;2;0;128;0;01m\"elementType\"\u001b[39;00m:\u001b[38;2;187;187;187m \u001b[39m{\n",
      "\u001b[38;2;187;187;187m          \u001b[39m\u001b[38;2;0;128;0;01m\"fields\"\u001b[39;00m:\u001b[38;2;187;187;187m \u001b[39m[\n",
      "\u001b[38;2;187;187;187m            \u001b[39m{\n",
      "\u001b[38;2;187;187;187m              \u001b[39m\u001b[38;2;0;128;0;01m\"metadata\"\u001b[39;00m:\u001b[38;2;187;187;187m \u001b[39m{},\n",
      "\u001b[38;2;187;187;187m              \u001b[39m\u001b[38;2;0;128;0;01m\"name\"\u001b[39;00m:\u001b[38;2;187;187;187m \u001b[39m\u001b[38;2;186;33;33m\"key\"\u001b[39m,\n",
      "\u001b[38;2;187;187;187m              \u001b[39m\u001b[38;2;0;128;0;01m\"nullable\"\u001b[39;00m:\u001b[38;2;187;187;187m \u001b[39m\u001b[38;2;0;128;0;01mtrue\u001b[39;00m,\n",
      "\u001b[38;2;187;187;187m              \u001b[39m\u001b[38;2;0;128;0;01m\"type\"\u001b[39;00m:\u001b[38;2;187;187;187m \u001b[39m\u001b[38;2;186;33;33m\"string\"\u001b[39m\n",
      "\u001b[38;2;187;187;187m            \u001b[39m},\n",
      "\u001b[38;2;187;187;187m            \u001b[39m{\n",
      "\u001b[38;2;187;187;187m              \u001b[39m\u001b[38;2;0;128;0;01m\"metadata\"\u001b[39;00m:\u001b[38;2;187;187;187m \u001b[39m{},\n",
      "\u001b[38;2;187;187;187m              \u001b[39m\u001b[38;2;0;128;0;01m\"name\"\u001b[39;00m:\u001b[38;2;187;187;187m \u001b[39m\u001b[38;2;186;33;33m\"value\"\u001b[39m,\n",
      "\u001b[38;2;187;187;187m              \u001b[39m\u001b[38;2;0;128;0;01m\"nullable\"\u001b[39;00m:\u001b[38;2;187;187;187m \u001b[39m\u001b[38;2;0;128;0;01mtrue\u001b[39;00m,\n",
      "\u001b[38;2;187;187;187m              \u001b[39m\u001b[38;2;0;128;0;01m\"type\"\u001b[39;00m:\u001b[38;2;187;187;187m \u001b[39m\u001b[38;2;186;33;33m\"string\"\u001b[39m\n",
      "\u001b[38;2;187;187;187m            \u001b[39m}\n",
      "\u001b[38;2;187;187;187m          \u001b[39m],\n",
      "\u001b[38;2;187;187;187m          \u001b[39m\u001b[38;2;0;128;0;01m\"type\"\u001b[39;00m:\u001b[38;2;187;187;187m \u001b[39m\u001b[38;2;186;33;33m\"struct\"\u001b[39m\n",
      "\u001b[38;2;187;187;187m        \u001b[39m},\n",
      "\u001b[38;2;187;187;187m        \u001b[39m\u001b[38;2;0;128;0;01m\"type\"\u001b[39;00m:\u001b[38;2;187;187;187m \u001b[39m\u001b[38;2;186;33;33m\"array\"\u001b[39m\n",
      "\u001b[38;2;187;187;187m      \u001b[39m}\n",
      "\u001b[38;2;187;187;187m    \u001b[39m},\n",
      "\u001b[38;2;187;187;187m    \u001b[39m{\n",
      "\u001b[38;2;187;187;187m      \u001b[39m\u001b[38;2;0;128;0;01m\"metadata\"\u001b[39;00m:\u001b[38;2;187;187;187m \u001b[39m{},\n",
      "\u001b[38;2;187;187;187m      \u001b[39m\u001b[38;2;0;128;0;01m\"name\"\u001b[39;00m:\u001b[38;2;187;187;187m \u001b[39m\u001b[38;2;186;33;33m\"id\"\u001b[39m,\n",
      "\u001b[38;2;187;187;187m      \u001b[39m\u001b[38;2;0;128;0;01m\"nullable\"\u001b[39;00m:\u001b[38;2;187;187;187m \u001b[39m\u001b[38;2;0;128;0;01mtrue\u001b[39;00m,\n",
      "\u001b[38;2;187;187;187m      \u001b[39m\u001b[38;2;0;128;0;01m\"type\"\u001b[39;00m:\u001b[38;2;187;187;187m \u001b[39m\u001b[38;2;186;33;33m\"long\"\u001b[39m\n",
      "\u001b[38;2;187;187;187m    \u001b[39m}\n",
      "\u001b[38;2;187;187;187m  \u001b[39m],\n",
      "\u001b[38;2;187;187;187m  \u001b[39m\u001b[38;2;0;128;0;01m\"type\"\u001b[39;00m:\u001b[38;2;187;187;187m \u001b[39m\u001b[38;2;186;33;33m\"struct\"\u001b[39m\n",
      "}\n"
     ]
    }
   ],
   "source": [
    "df = DFLoader.from_file(translate2(records))"
   ]
  },
  {
   "cell_type": "code",
   "execution_count": 193,
   "id": "75d54999-156f-4d24-9378-47bd92261074",
   "metadata": {},
   "outputs": [
    {
     "name": "stdout",
     "output_type": "stream",
     "text": [
      "+---+---+----------+------------+\n",
      "| id|  a|custom.key|custom.value|\n",
      "+---+---+----------+------------+\n",
      "|123|  1|    [c, z]|     [d, zz]|\n",
      "|122|  b|        []|          []|\n",
      "|111|  c|        []|          []|\n",
      "|234|  z|       [d]|         [z]|\n",
      "+---+---+----------+------------+\n",
      "\n"
     ]
    }
   ],
   "source": [
    "df.select(df.id, df.a, df.custom.key, df.custom.value).show()"
   ]
  },
  {
   "cell_type": "code",
   "execution_count": 194,
   "id": "f69c9175-3f3a-45f7-a8d1-710249df4c98",
   "metadata": {},
   "outputs": [],
   "source": [
    "def select_rows_with_custom_key(df: DataFrame, key: str) -> DataFrame:\n",
    "    return (\n",
    "        df.where(\n",
    "            F.array_contains(df.custom.key,  key)\n",
    "        )\n",
    "        .select(\n",
    "            df.id,\n",
    "            df.a,\n",
    "            df.custom.key,\n",
    "            df.custom.value\n",
    "        )\n",
    "    )"
   ]
  },
  {
   "cell_type": "code",
   "execution_count": 195,
   "id": "fa803058-adc3-464e-80f4-ffc5115b6b3b",
   "metadata": {},
   "outputs": [
    {
     "name": "stdout",
     "output_type": "stream",
     "text": [
      "--- custom key c\n"
     ]
    },
    {
     "data": {
      "text/html": [
       "<div>\n",
       "<style scoped>\n",
       "    .dataframe tbody tr th:only-of-type {\n",
       "        vertical-align: middle;\n",
       "    }\n",
       "\n",
       "    .dataframe tbody tr th {\n",
       "        vertical-align: top;\n",
       "    }\n",
       "\n",
       "    .dataframe thead th {\n",
       "        text-align: right;\n",
       "    }\n",
       "</style>\n",
       "<table border=\"1\" class=\"dataframe\">\n",
       "  <thead>\n",
       "    <tr style=\"text-align: right;\">\n",
       "      <th></th>\n",
       "      <th>id</th>\n",
       "      <th>a</th>\n",
       "      <th>custom.key</th>\n",
       "      <th>custom.value</th>\n",
       "    </tr>\n",
       "  </thead>\n",
       "  <tbody>\n",
       "    <tr>\n",
       "      <th>0</th>\n",
       "      <td>123</td>\n",
       "      <td>1</td>\n",
       "      <td>[c, z]</td>\n",
       "      <td>[d, zz]</td>\n",
       "    </tr>\n",
       "  </tbody>\n",
       "</table>\n",
       "</div>"
      ],
      "text/plain": [
       "    id  a custom.key custom.value\n",
       "0  123  1     [c, z]      [d, zz]"
      ]
     },
     "metadata": {},
     "output_type": "display_data"
    },
    {
     "name": "stdout",
     "output_type": "stream",
     "text": [
      "--- custom key z\n"
     ]
    },
    {
     "data": {
      "text/html": [
       "<div>\n",
       "<style scoped>\n",
       "    .dataframe tbody tr th:only-of-type {\n",
       "        vertical-align: middle;\n",
       "    }\n",
       "\n",
       "    .dataframe tbody tr th {\n",
       "        vertical-align: top;\n",
       "    }\n",
       "\n",
       "    .dataframe thead th {\n",
       "        text-align: right;\n",
       "    }\n",
       "</style>\n",
       "<table border=\"1\" class=\"dataframe\">\n",
       "  <thead>\n",
       "    <tr style=\"text-align: right;\">\n",
       "      <th></th>\n",
       "      <th>id</th>\n",
       "      <th>a</th>\n",
       "      <th>custom.key</th>\n",
       "      <th>custom.value</th>\n",
       "    </tr>\n",
       "  </thead>\n",
       "  <tbody>\n",
       "    <tr>\n",
       "      <th>0</th>\n",
       "      <td>123</td>\n",
       "      <td>1</td>\n",
       "      <td>[c, z]</td>\n",
       "      <td>[d, zz]</td>\n",
       "    </tr>\n",
       "  </tbody>\n",
       "</table>\n",
       "</div>"
      ],
      "text/plain": [
       "    id  a custom.key custom.value\n",
       "0  123  1     [c, z]      [d, zz]"
      ]
     },
     "metadata": {},
     "output_type": "display_data"
    },
    {
     "name": "stdout",
     "output_type": "stream",
     "text": [
      "--- custom key d\n"
     ]
    },
    {
     "data": {
      "text/html": [
       "<div>\n",
       "<style scoped>\n",
       "    .dataframe tbody tr th:only-of-type {\n",
       "        vertical-align: middle;\n",
       "    }\n",
       "\n",
       "    .dataframe tbody tr th {\n",
       "        vertical-align: top;\n",
       "    }\n",
       "\n",
       "    .dataframe thead th {\n",
       "        text-align: right;\n",
       "    }\n",
       "</style>\n",
       "<table border=\"1\" class=\"dataframe\">\n",
       "  <thead>\n",
       "    <tr style=\"text-align: right;\">\n",
       "      <th></th>\n",
       "      <th>id</th>\n",
       "      <th>a</th>\n",
       "      <th>custom.key</th>\n",
       "      <th>custom.value</th>\n",
       "    </tr>\n",
       "  </thead>\n",
       "  <tbody>\n",
       "    <tr>\n",
       "      <th>0</th>\n",
       "      <td>234</td>\n",
       "      <td>z</td>\n",
       "      <td>[d]</td>\n",
       "      <td>[z]</td>\n",
       "    </tr>\n",
       "  </tbody>\n",
       "</table>\n",
       "</div>"
      ],
      "text/plain": [
       "    id  a custom.key custom.value\n",
       "0  234  z        [d]          [z]"
      ]
     },
     "metadata": {},
     "output_type": "display_data"
    }
   ],
   "source": [
    "k = UnexpectedKeys(schema)\n",
    "for record in records:\n",
    "    list(k.check(record))\n",
    "\n",
    "for key in k.unique_keys:\n",
    "    print(\"--- custom key\", key)\n",
    "    display(select_rows_with_custom_key(df, key).toPandas())"
   ]
  },
  {
   "cell_type": "code",
   "execution_count": 196,
   "id": "21b8866c-2d85-4036-b63f-2f5b45a74f6d",
   "metadata": {},
   "outputs": [],
   "source": [
    "# select_rows_with_custom_key(df, 'c').select(F.filter(df.custom"
   ]
  },
  {
   "cell_type": "code",
   "execution_count": 198,
   "id": "91ff8d16-155f-4870-ad13-f93491bbeb81",
   "metadata": {},
   "outputs": [],
   "source": [
    "schema = {\n",
    "  \"fields\": [\n",
    "    {\n",
    "      \"metadata\": {},\n",
    "      \"name\": \"a\",\n",
    "      \"nullable\": True,\n",
    "      \"type\": \"string\"\n",
    "    },\n",
    "    {\n",
    "      \"metadata\": {},\n",
    "      \"name\": \"custom\",\n",
    "      \"nullable\": True,\n",
    "      \"type\": {\n",
    "        \"containsNull\": True,\n",
    "        \"elementType\": {\n",
    "          \"fields\": [\n",
    "            {\n",
    "              \"metadata\": {},\n",
    "              \"name\": \"key\",\n",
    "              \"nullable\": True,\n",
    "              \"type\": \"string\"\n",
    "            },\n",
    "            {\n",
    "              \"metadata\": {},\n",
    "              \"name\": \"value\",\n",
    "              \"nullable\": True,\n",
    "              \"type\": \"string\"\n",
    "            }\n",
    "          ],\n",
    "          \"type\": \"struct\"\n",
    "        },\n",
    "        \"type\": \"array\"\n",
    "      }\n",
    "    },\n",
    "    {\n",
    "      \"metadata\": {},\n",
    "      \"name\": \"id\",\n",
    "      \"nullable\": True,\n",
    "      \"type\": \"long\"\n",
    "    }\n",
    "  ],\n",
    "  \"type\": \"struct\"\n",
    "}"
   ]
  },
  {
   "cell_type": "code",
   "execution_count": 199,
   "id": "c89ab534-e926-4a99-98ec-38d2bba4d67a",
   "metadata": {},
   "outputs": [
    {
     "ename": "UnknownType",
     "evalue": "Unknown type 'struct' for validator with schema:\n    {'fields': [{'metadata': {},\n                 'name': 'a',\n                 'nullable': True,\n                 'type': 'string'},\n                {'metadata': {},\n                 'name': 'custom',\n                 'nullable': True,\n                 'type': {'containsNull': True,\n                          'elementType': {'fields': [{'metadata': {},\n                                                      'name': 'key',\n                                                      'nullable': True,\n                                                      'type': 'string'},\n                                                     {'metadata': {},\n                                                      'name': 'value',\n                                                      'nullable': True,\n                                                      'type': 'string'}],\n                                          'type': 'struct'},\n                          'type': 'array'}},\n                {'metadata': {},\n                 'name': 'id',\n                 'nullable': True,\n                 'type': 'long'}],\n     'type': 'struct'}\n\nWhile checking instance:\n    {'a': '1', 'c': 'd', 'id': 123, 'z': 'zz'}",
     "output_type": "error",
     "traceback": [
      "\u001b[0;31m---------------------------------------------------------------------------\u001b[0m",
      "\u001b[0;31mUndefinedTypeCheck\u001b[0m                        Traceback (most recent call last)",
      "\u001b[0;32m/opt/conda/lib/python3.9/site-packages/jsonschema/validators.py\u001b[0m in \u001b[0;36mis_type\u001b[0;34m(self, instance, type)\u001b[0m\n\u001b[1;32m    252\u001b[0m             \u001b[0;32mtry\u001b[0m\u001b[0;34m:\u001b[0m\u001b[0;34m\u001b[0m\u001b[0;34m\u001b[0m\u001b[0m\n\u001b[0;32m--> 253\u001b[0;31m                 \u001b[0;32mreturn\u001b[0m \u001b[0mself\u001b[0m\u001b[0;34m.\u001b[0m\u001b[0mTYPE_CHECKER\u001b[0m\u001b[0;34m.\u001b[0m\u001b[0mis_type\u001b[0m\u001b[0;34m(\u001b[0m\u001b[0minstance\u001b[0m\u001b[0;34m,\u001b[0m \u001b[0mtype\u001b[0m\u001b[0;34m)\u001b[0m\u001b[0;34m\u001b[0m\u001b[0;34m\u001b[0m\u001b[0m\n\u001b[0m\u001b[1;32m    254\u001b[0m             \u001b[0;32mexcept\u001b[0m \u001b[0mexceptions\u001b[0m\u001b[0;34m.\u001b[0m\u001b[0mUndefinedTypeCheck\u001b[0m\u001b[0;34m:\u001b[0m\u001b[0;34m\u001b[0m\u001b[0;34m\u001b[0m\u001b[0m\n",
      "\u001b[0;32m/opt/conda/lib/python3.9/site-packages/jsonschema/_types.py\u001b[0m in \u001b[0;36mis_type\u001b[0;34m(self, instance, type)\u001b[0m\n\u001b[1;32m     91\u001b[0m         \u001b[0;32mexcept\u001b[0m \u001b[0mKeyError\u001b[0m\u001b[0;34m:\u001b[0m\u001b[0;34m\u001b[0m\u001b[0;34m\u001b[0m\u001b[0m\n\u001b[0;32m---> 92\u001b[0;31m             \u001b[0;32mraise\u001b[0m \u001b[0mUndefinedTypeCheck\u001b[0m\u001b[0;34m(\u001b[0m\u001b[0mtype\u001b[0m\u001b[0;34m)\u001b[0m \u001b[0;32mfrom\u001b[0m \u001b[0;32mNone\u001b[0m\u001b[0;34m\u001b[0m\u001b[0;34m\u001b[0m\u001b[0m\n\u001b[0m\u001b[1;32m     93\u001b[0m \u001b[0;34m\u001b[0m\u001b[0m\n",
      "\u001b[0;31mUndefinedTypeCheck\u001b[0m: Type 'struct' is unknown to this type checker",
      "\nDuring handling of the above exception, another exception occurred:\n",
      "\u001b[0;31mUnknownType\u001b[0m                               Traceback (most recent call last)",
      "\u001b[0;32m/tmp/ipykernel_44/3360266405.py\u001b[0m in \u001b[0;36m<module>\u001b[0;34m\u001b[0m\n\u001b[0;32m----> 1\u001b[0;31m \u001b[0mdf\u001b[0m \u001b[0;34m=\u001b[0m \u001b[0mDFLoader\u001b[0m\u001b[0;34m.\u001b[0m\u001b[0mfrom_file\u001b[0m\u001b[0;34m(\u001b[0m\u001b[0mtranslate\u001b[0m\u001b[0;34m(\u001b[0m\u001b[0mrecords\u001b[0m\u001b[0;34m)\u001b[0m\u001b[0;34m,\u001b[0m \u001b[0mschema\u001b[0m\u001b[0;34m=\u001b[0m\u001b[0mschema\u001b[0m\u001b[0;34m)\u001b[0m\u001b[0;34m\u001b[0m\u001b[0;34m\u001b[0m\u001b[0m\n\u001b[0m",
      "\u001b[0;32m/tmp/ipykernel_44/502097247.py\u001b[0m in \u001b[0;36mfrom_file\u001b[0;34m(records, fpath, schema)\u001b[0m\n\u001b[1;32m     31\u001b[0m     \u001b[0;32mdef\u001b[0m \u001b[0mfrom_file\u001b[0m\u001b[0;34m(\u001b[0m\u001b[0mrecords\u001b[0m\u001b[0;34m:\u001b[0m \u001b[0mlist\u001b[0m\u001b[0;34m,\u001b[0m \u001b[0mfpath\u001b[0m\u001b[0;34m:\u001b[0m \u001b[0mstr\u001b[0m \u001b[0;34m=\u001b[0m \u001b[0;34m'f.ndjson'\u001b[0m\u001b[0;34m,\u001b[0m \u001b[0mschema\u001b[0m\u001b[0;34m:\u001b[0m \u001b[0mdict\u001b[0m \u001b[0;34m=\u001b[0m \u001b[0;34m{\u001b[0m\u001b[0;34m}\u001b[0m\u001b[0;34m)\u001b[0m \u001b[0;34m->\u001b[0m \u001b[0mDataFrame\u001b[0m\u001b[0;34m:\u001b[0m\u001b[0;34m\u001b[0m\u001b[0;34m\u001b[0m\u001b[0m\n\u001b[1;32m     32\u001b[0m         \u001b[0;32mwith\u001b[0m \u001b[0mopen\u001b[0m\u001b[0;34m(\u001b[0m\u001b[0mfpath\u001b[0m\u001b[0;34m,\u001b[0m \u001b[0;34m'w'\u001b[0m\u001b[0;34m)\u001b[0m \u001b[0;32mas\u001b[0m \u001b[0mostream\u001b[0m\u001b[0;34m:\u001b[0m\u001b[0;34m\u001b[0m\u001b[0;34m\u001b[0m\u001b[0m\n\u001b[0;32m---> 33\u001b[0;31m             \u001b[0;32mfor\u001b[0m \u001b[0mrecord\u001b[0m \u001b[0;32min\u001b[0m \u001b[0mrecords\u001b[0m\u001b[0;34m:\u001b[0m\u001b[0;34m\u001b[0m\u001b[0;34m\u001b[0m\u001b[0m\n\u001b[0m\u001b[1;32m     34\u001b[0m                 \u001b[0mprint\u001b[0m\u001b[0;34m(\u001b[0m\u001b[0mjson\u001b[0m\u001b[0;34m.\u001b[0m\u001b[0mdumps\u001b[0m\u001b[0;34m(\u001b[0m\u001b[0mrecord\u001b[0m\u001b[0;34m)\u001b[0m\u001b[0;34m,\u001b[0m \u001b[0mfile\u001b[0m\u001b[0;34m=\u001b[0m\u001b[0mostream\u001b[0m\u001b[0;34m,\u001b[0m \u001b[0mend\u001b[0m\u001b[0;34m=\u001b[0m\u001b[0;34m'\\n'\u001b[0m\u001b[0;34m)\u001b[0m\u001b[0;34m\u001b[0m\u001b[0;34m\u001b[0m\u001b[0m\n\u001b[1;32m     35\u001b[0m         \u001b[0;32mif\u001b[0m \u001b[0mschema\u001b[0m\u001b[0;34m:\u001b[0m\u001b[0;34m\u001b[0m\u001b[0;34m\u001b[0m\u001b[0m\n",
      "\u001b[0;32m/tmp/ipykernel_44/1778430109.py\u001b[0m in \u001b[0;36mtranslate\u001b[0;34m(df)\u001b[0m\n\u001b[1;32m     13\u001b[0m     \u001b[0muk\u001b[0m \u001b[0;34m=\u001b[0m \u001b[0mUnexpectedKeys\u001b[0m\u001b[0;34m(\u001b[0m\u001b[0mschema\u001b[0m\u001b[0;34m)\u001b[0m\u001b[0;34m\u001b[0m\u001b[0;34m\u001b[0m\u001b[0m\n\u001b[1;32m     14\u001b[0m     \u001b[0;32mfor\u001b[0m \u001b[0mrecord\u001b[0m \u001b[0;32min\u001b[0m \u001b[0mrecords\u001b[0m\u001b[0;34m:\u001b[0m\u001b[0;34m\u001b[0m\u001b[0;34m\u001b[0m\u001b[0m\n\u001b[0;32m---> 15\u001b[0;31m         \u001b[0;32mfor\u001b[0m \u001b[0merror\u001b[0m \u001b[0;32min\u001b[0m \u001b[0muk\u001b[0m\u001b[0;34m.\u001b[0m\u001b[0mcheck\u001b[0m\u001b[0;34m(\u001b[0m\u001b[0mrecord\u001b[0m\u001b[0;34m)\u001b[0m\u001b[0;34m:\u001b[0m\u001b[0;34m\u001b[0m\u001b[0;34m\u001b[0m\u001b[0m\n\u001b[0m\u001b[1;32m     16\u001b[0m             \u001b[0md\u001b[0m\u001b[0;34m,\u001b[0m \u001b[0mextras\u001b[0m \u001b[0;34m=\u001b[0m \u001b[0msplit_dict\u001b[0m\u001b[0;34m(\u001b[0m\u001b[0mrecord\u001b[0m\u001b[0;34m,\u001b[0m \u001b[0mUnexpectedKeys\u001b[0m\u001b[0;34m.\u001b[0m\u001b[0mparse_unexpected_keys\u001b[0m\u001b[0;34m(\u001b[0m\u001b[0merror\u001b[0m\u001b[0;34m)\u001b[0m\u001b[0;34m)\u001b[0m\u001b[0;34m\u001b[0m\u001b[0;34m\u001b[0m\u001b[0m\n\u001b[1;32m     17\u001b[0m             \u001b[0;32mif\u001b[0m \u001b[0mextras\u001b[0m\u001b[0;34m:\u001b[0m\u001b[0;34m\u001b[0m\u001b[0;34m\u001b[0m\u001b[0m\n",
      "\u001b[0;32m/tmp/ipykernel_44/2741591744.py\u001b[0m in \u001b[0;36mcheck\u001b[0;34m(self, instance)\u001b[0m\n\u001b[1;32m     35\u001b[0m \u001b[0;34m\u001b[0m\u001b[0m\n\u001b[1;32m     36\u001b[0m     \u001b[0;32mdef\u001b[0m \u001b[0mcheck\u001b[0m\u001b[0;34m(\u001b[0m\u001b[0mself\u001b[0m\u001b[0;34m,\u001b[0m \u001b[0minstance\u001b[0m\u001b[0;34m:\u001b[0m \u001b[0mdict\u001b[0m\u001b[0;34m)\u001b[0m\u001b[0;34m:\u001b[0m\u001b[0;34m\u001b[0m\u001b[0;34m\u001b[0m\u001b[0m\n\u001b[0;32m---> 37\u001b[0;31m         \u001b[0;32mfor\u001b[0m \u001b[0merror\u001b[0m \u001b[0;32min\u001b[0m \u001b[0msorted\u001b[0m\u001b[0;34m(\u001b[0m\u001b[0mself\u001b[0m\u001b[0;34m.\u001b[0m\u001b[0mvalidator\u001b[0m\u001b[0;34m.\u001b[0m\u001b[0miter_errors\u001b[0m\u001b[0;34m(\u001b[0m\u001b[0minstance\u001b[0m\u001b[0;34m)\u001b[0m\u001b[0;34m,\u001b[0m \u001b[0mkey\u001b[0m\u001b[0;34m=\u001b[0m\u001b[0mstr\u001b[0m\u001b[0;34m)\u001b[0m\u001b[0;34m:\u001b[0m\u001b[0;34m\u001b[0m\u001b[0;34m\u001b[0m\u001b[0m\n\u001b[0m\u001b[1;32m     38\u001b[0m             \u001b[0;32mfor\u001b[0m \u001b[0mkey\u001b[0m \u001b[0;32min\u001b[0m \u001b[0mUnexpectedKeys\u001b[0m\u001b[0;34m.\u001b[0m\u001b[0mparse_unexpected_keys\u001b[0m\u001b[0;34m(\u001b[0m\u001b[0merror\u001b[0m\u001b[0;34m)\u001b[0m\u001b[0;34m:\u001b[0m\u001b[0;34m\u001b[0m\u001b[0;34m\u001b[0m\u001b[0m\n\u001b[1;32m     39\u001b[0m                 \u001b[0mself\u001b[0m\u001b[0;34m.\u001b[0m\u001b[0munique_keys\u001b[0m\u001b[0;34m.\u001b[0m\u001b[0madd\u001b[0m\u001b[0;34m(\u001b[0m\u001b[0mkey\u001b[0m\u001b[0;34m)\u001b[0m\u001b[0;34m\u001b[0m\u001b[0;34m\u001b[0m\u001b[0m\n",
      "\u001b[0;32m/opt/conda/lib/python3.9/site-packages/jsonschema/validators.py\u001b[0m in \u001b[0;36miter_errors\u001b[0;34m(self, instance, _schema)\u001b[0m\n\u001b[1;32m    222\u001b[0m \u001b[0;34m\u001b[0m\u001b[0m\n\u001b[1;32m    223\u001b[0m                     \u001b[0merrors\u001b[0m \u001b[0;34m=\u001b[0m \u001b[0mvalidator\u001b[0m\u001b[0;34m(\u001b[0m\u001b[0mself\u001b[0m\u001b[0;34m,\u001b[0m \u001b[0mv\u001b[0m\u001b[0;34m,\u001b[0m \u001b[0minstance\u001b[0m\u001b[0;34m,\u001b[0m \u001b[0m_schema\u001b[0m\u001b[0;34m)\u001b[0m \u001b[0;32mor\u001b[0m \u001b[0;34m(\u001b[0m\u001b[0;34m)\u001b[0m\u001b[0;34m\u001b[0m\u001b[0;34m\u001b[0m\u001b[0m\n\u001b[0;32m--> 224\u001b[0;31m                     \u001b[0;32mfor\u001b[0m \u001b[0merror\u001b[0m \u001b[0;32min\u001b[0m \u001b[0merrors\u001b[0m\u001b[0;34m:\u001b[0m\u001b[0;34m\u001b[0m\u001b[0;34m\u001b[0m\u001b[0m\n\u001b[0m\u001b[1;32m    225\u001b[0m                         \u001b[0;31m# set details if not already set by the called fn\u001b[0m\u001b[0;34m\u001b[0m\u001b[0;34m\u001b[0m\u001b[0m\n\u001b[1;32m    226\u001b[0m                         error._set(\n",
      "\u001b[0;32m/opt/conda/lib/python3.9/site-packages/jsonschema/_legacy_validators.py\u001b[0m in \u001b[0;36mtype_draft3\u001b[0;34m(validator, types, instance, schema)\u001b[0m\n\u001b[1;32m    182\u001b[0m             \u001b[0mall_errors\u001b[0m\u001b[0;34m.\u001b[0m\u001b[0mextend\u001b[0m\u001b[0;34m(\u001b[0m\u001b[0merrors\u001b[0m\u001b[0;34m)\u001b[0m\u001b[0;34m\u001b[0m\u001b[0;34m\u001b[0m\u001b[0m\n\u001b[1;32m    183\u001b[0m         \u001b[0;32melse\u001b[0m\u001b[0;34m:\u001b[0m\u001b[0;34m\u001b[0m\u001b[0;34m\u001b[0m\u001b[0m\n\u001b[0;32m--> 184\u001b[0;31m             \u001b[0;32mif\u001b[0m \u001b[0mvalidator\u001b[0m\u001b[0;34m.\u001b[0m\u001b[0mis_type\u001b[0m\u001b[0;34m(\u001b[0m\u001b[0minstance\u001b[0m\u001b[0;34m,\u001b[0m \u001b[0mtype\u001b[0m\u001b[0;34m)\u001b[0m\u001b[0;34m:\u001b[0m\u001b[0;34m\u001b[0m\u001b[0;34m\u001b[0m\u001b[0m\n\u001b[0m\u001b[1;32m    185\u001b[0m                 \u001b[0;32mreturn\u001b[0m\u001b[0;34m\u001b[0m\u001b[0;34m\u001b[0m\u001b[0m\n\u001b[1;32m    186\u001b[0m     \u001b[0;32melse\u001b[0m\u001b[0;34m:\u001b[0m\u001b[0;34m\u001b[0m\u001b[0;34m\u001b[0m\u001b[0m\n",
      "\u001b[0;32m/opt/conda/lib/python3.9/site-packages/jsonschema/validators.py\u001b[0m in \u001b[0;36mis_type\u001b[0;34m(self, instance, type)\u001b[0m\n\u001b[1;32m    253\u001b[0m                 \u001b[0;32mreturn\u001b[0m \u001b[0mself\u001b[0m\u001b[0;34m.\u001b[0m\u001b[0mTYPE_CHECKER\u001b[0m\u001b[0;34m.\u001b[0m\u001b[0mis_type\u001b[0m\u001b[0;34m(\u001b[0m\u001b[0minstance\u001b[0m\u001b[0;34m,\u001b[0m \u001b[0mtype\u001b[0m\u001b[0;34m)\u001b[0m\u001b[0;34m\u001b[0m\u001b[0;34m\u001b[0m\u001b[0m\n\u001b[1;32m    254\u001b[0m             \u001b[0;32mexcept\u001b[0m \u001b[0mexceptions\u001b[0m\u001b[0;34m.\u001b[0m\u001b[0mUndefinedTypeCheck\u001b[0m\u001b[0;34m:\u001b[0m\u001b[0;34m\u001b[0m\u001b[0;34m\u001b[0m\u001b[0m\n\u001b[0;32m--> 255\u001b[0;31m                 \u001b[0;32mraise\u001b[0m \u001b[0mexceptions\u001b[0m\u001b[0;34m.\u001b[0m\u001b[0mUnknownType\u001b[0m\u001b[0;34m(\u001b[0m\u001b[0mtype\u001b[0m\u001b[0;34m,\u001b[0m \u001b[0minstance\u001b[0m\u001b[0;34m,\u001b[0m \u001b[0mself\u001b[0m\u001b[0;34m.\u001b[0m\u001b[0mschema\u001b[0m\u001b[0;34m)\u001b[0m\u001b[0;34m\u001b[0m\u001b[0;34m\u001b[0m\u001b[0m\n\u001b[0m\u001b[1;32m    256\u001b[0m \u001b[0;34m\u001b[0m\u001b[0m\n\u001b[1;32m    257\u001b[0m         \u001b[0;32mdef\u001b[0m \u001b[0mis_valid\u001b[0m\u001b[0;34m(\u001b[0m\u001b[0mself\u001b[0m\u001b[0;34m,\u001b[0m \u001b[0minstance\u001b[0m\u001b[0;34m,\u001b[0m \u001b[0m_schema\u001b[0m\u001b[0;34m=\u001b[0m\u001b[0;32mNone\u001b[0m\u001b[0;34m)\u001b[0m\u001b[0;34m:\u001b[0m\u001b[0;34m\u001b[0m\u001b[0;34m\u001b[0m\u001b[0m\n",
      "\u001b[0;31mUnknownType\u001b[0m: Unknown type 'struct' for validator with schema:\n    {'fields': [{'metadata': {},\n                 'name': 'a',\n                 'nullable': True,\n                 'type': 'string'},\n                {'metadata': {},\n                 'name': 'custom',\n                 'nullable': True,\n                 'type': {'containsNull': True,\n                          'elementType': {'fields': [{'metadata': {},\n                                                      'name': 'key',\n                                                      'nullable': True,\n                                                      'type': 'string'},\n                                                     {'metadata': {},\n                                                      'name': 'value',\n                                                      'nullable': True,\n                                                      'type': 'string'}],\n                                          'type': 'struct'},\n                          'type': 'array'}},\n                {'metadata': {},\n                 'name': 'id',\n                 'nullable': True,\n                 'type': 'long'}],\n     'type': 'struct'}\n\nWhile checking instance:\n    {'a': '1', 'c': 'd', 'id': 123, 'z': 'zz'}"
     ]
    }
   ],
   "source": [
    "df = DFLoader.from_file(translate(records), schema=schema)"
   ]
  },
  {
   "cell_type": "code",
   "execution_count": null,
   "id": "b2cfff8a-f25b-4f21-a608-a0f1bea03cb3",
   "metadata": {},
   "outputs": [],
   "source": [
    "for key in k.unique_keys:\n",
    "    print(\"--- custom key\", key)\n",
    "    display(select_rows_with_custom_key(df, key).toPandas())"
   ]
  },
  {
   "cell_type": "code",
   "execution_count": null,
   "id": "fc9d412d-3fb7-4d22-b7a3-d30f91f25944",
   "metadata": {},
   "outputs": [],
   "source": [
    "c = select_rows_with_custom_key(df, 'c')\n",
    "c.select(c.custom.value)"
   ]
  },
  {
   "cell_type": "code",
   "execution_count": null,
   "id": "9b6737ef-816f-4267-aec3-4259d7833587",
   "metadata": {},
   "outputs": [],
   "source": []
  }
 ],
 "metadata": {
  "kernelspec": {
   "display_name": "Python 3 (ipykernel)",
   "language": "python",
   "name": "python3"
  },
  "language_info": {
   "codemirror_mode": {
    "name": "ipython",
    "version": 3
   },
   "file_extension": ".py",
   "mimetype": "text/x-python",
   "name": "python",
   "nbconvert_exporter": "python",
   "pygments_lexer": "ipython3",
   "version": "3.9.7"
  }
 },
 "nbformat": 4,
 "nbformat_minor": 5
}
