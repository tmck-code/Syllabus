{
 "cells": [
  {
   "cell_type": "markdown",
   "metadata": {},
   "source": [
    "# Lesson 7: Bartender"
   ]
  },
  {
   "cell_type": "markdown",
   "metadata": {},
   "source": [
    "Last week we made a basic bartender program that could dispense us beers.\n",
    "\n",
    "This week we're going to be following the same example (I've transposed our progress from last week) and seeing what improvements we can make."
   ]
  },
  {
   "cell_type": "markdown",
   "metadata": {},
   "source": [
    "## Last week's agenda"
   ]
  },
  {
   "cell_type": "markdown",
   "metadata": {},
   "source": [
    "Our original criteria:\n",
    "\n",
    "1. Store many beers! Of a few different brands/types\n",
    "2. Report on (print) the current stock\n",
    "3. Serve/dispense a beer when requested\n",
    "  * And update the inventory\n",
    "4. Dispense the \"next best\" beer if the requested beer is out of stock"
   ]
  },
  {
   "cell_type": "markdown",
   "metadata": {},
   "source": [
    "## Improving the bartender\n",
    "\n",
    "So far, we can give the Bartender a name, add multiple beers to it at a time, and can ask it to serve us specific beers.\n",
    "\n",
    "* What if we don't care about giving our bartender a name?\n",
    "* Is the serve() method working as expected? What things _do_ we expect from this method?\n",
    "* What if we don't care what beer we get, or don't want to specify?\n",
    "* What happens if you request a beer that's out of stock?"
   ]
  },
  {
   "cell_type": "code",
   "execution_count": 1,
   "metadata": {},
   "outputs": [],
   "source": [
    "# Let's do step 1 first!\n",
    "# We're going to make a bartender 'class'\n",
    "\n",
    "class Bartender:\n",
    "    'A virtual bartender which serves beer and keeps stock'\n",
    "\n",
    "    def __init__(self, name):\n",
    "        self.name = name\n",
    "        self.beers = []\n",
    "\n",
    "    def add_beer(self, beer, quantity):\n",
    "        'Add a number of new beers to the stock'\n",
    "        new_beers = [beer]*quantity\n",
    "        self.beers.extend(new_beers)\n",
    "\n",
    "    def serve(self, beer):\n",
    "        'Serves the requested beer and updates the stock'\n",
    "        return self.beers.remove(beer)\n",
    "    \n",
    "    def display(self):\n",
    "        'Prints a human-readable status message'\n",
    "        print(f'Beers: {self.beers}')\n"
   ]
  },
  {
   "cell_type": "code",
   "execution_count": 2,
   "metadata": {},
   "outputs": [],
   "source": [
    "# Create a bartender\n",
    "bartender = Bartender('John')"
   ]
  },
  {
   "cell_type": "code",
   "execution_count": 3,
   "metadata": {},
   "outputs": [],
   "source": [
    "# Add beers to the stock\n",
    "bartender.add_beer('Kaiju', 3)"
   ]
  },
  {
   "cell_type": "code",
   "execution_count": 4,
   "metadata": {},
   "outputs": [],
   "source": [
    "# Request a beer!\n",
    "bartender.serve('Kaiju')"
   ]
  },
  {
   "cell_type": "code",
   "execution_count": 5,
   "metadata": {
    "scrolled": true
   },
   "outputs": [
    {
     "name": "stdout",
     "output_type": "stream",
     "text": [
      "Beers: ['Kaiju', 'Kaiju']\n"
     ]
    }
   ],
   "source": [
    "# Display the current stock levels\n",
    "bartender.display()"
   ]
  },
  {
   "cell_type": "markdown",
   "metadata": {},
   "source": [
    "___\n",
    "\n",
    "\n",
    "Now let's improve the existing code! Scoll down to the last section afterwards\n",
    "\n",
    "___\n"
   ]
  },
  {
   "cell_type": "markdown",
   "metadata": {},
   "source": [
    "## Extended: some ideas\n",
    "\n",
    "You might be interested in taking this example further on your own, these are a few ideas involving different techniques and data structures, some of which we may have only covered briefly."
   ]
  },
  {
   "cell_type": "markdown",
   "metadata": {},
   "source": [
    "### What if we want to store all kinds of booze, not just wine?\n",
    "\n",
    "* More generic variable and method names\n",
    "* Need name, unit and quantity. Need to store in a `dict`, or something similar\n",
    "* Don't accept requests to serve parts of a unit (e.g. if people request glasses of wine, but if you store in bottles)\n",
    "\n",
    "Disclaimer:\n",
    "\n",
    "This is meant to display functionality that you could achieve, without using principles that we haven't covered yet (like try/except for errors), or code that would become too unreadable"
   ]
  },
  {
   "cell_type": "code",
   "execution_count": 6,
   "metadata": {},
   "outputs": [],
   "source": [
    "# Let's do step 1 first!\n",
    "# We're going to make a bartender 'class'\n",
    "\n",
    "import json\n",
    "from collections import Counter\n",
    "\n",
    "class BartenderPlus:\n",
    "    'A virtual bartender which serves beer and keeps stock'\n",
    "\n",
    "    def __init__(self, name='Jordan'):\n",
    "        self.name = name\n",
    "        self.stock = {}\n",
    "\n",
    "    def add_product(self, product, unit, quantity=1):\n",
    "        'Add a product to the stock in a certain quantity and unit'\n",
    "\n",
    "        # Set up a new product entry if one doesn't already exist\n",
    "        if product not in self.stock.keys():\n",
    "            self.stock[product] = {'unit': unit,'quantity': quantity}\n",
    "\n",
    "        # Check if the unit given matches the unit that we have stored for this product\n",
    "        stock_unit = self.stock[product]['unit']\n",
    "        if stock_unit != unit:\n",
    "            print(f\"Did not add. The unit '{unit}' doesn't match the unit for {product}: {stock_unit}\")\n",
    "            return\n",
    "\n",
    "        # Add to the current stock quantity\n",
    "        self.stock[product]['quantity'] += quantity\n",
    "\n",
    "    def serve(self, product, quantity=1):\n",
    "        'Serves the requested product and updates the stock'\n",
    "        if product in self.stock.keys():\n",
    "            info = self.stock[product]\n",
    "            info['quantity'] -= 1\n",
    "            return f\"{quantity} {info['unit']} of {product}\"\n",
    "        else:\n",
    "            return f\"We don't stock '{product}' LOLOLOL\"\n",
    "            \n",
    "    def count_types(self):\n",
    "        counts = Counter()\n",
    "        for product, info in self.stock.items():\n",
    "            counts[info['unit']] += info['quantity']\n",
    "        return dict(counts)\n",
    "    \n",
    "    def display(self):\n",
    "        'Prints a human-readable status message'\n",
    "\n",
    "        msg = [f\"Hi, I'm {self.name}. I'll be your BartenderPlus™ this evening\"]\n",
    "        counts = self.count_types()\n",
    "        if sum(counts.values()) == 0:\n",
    "            msg.extend(['Stock is empty :('])\n",
    "        else:\n",
    "            msg.extend([\n",
    "                'Stock Counts:',\n",
    "                json.dumps(self.stock, indent=2),\n",
    "                'Stock Type Counts:',\n",
    "                json.dumps(counts, indent=2)\n",
    "            ])\n",
    "        print('\\n'.join(msg))\n",
    "        "
   ]
  },
  {
   "cell_type": "code",
   "execution_count": 7,
   "metadata": {},
   "outputs": [
    {
     "name": "stdout",
     "output_type": "stream",
     "text": [
      "Hi, I'm Jordan. I'll be your BartenderPlus™ this evening\n",
      "Stock is empty :(\n"
     ]
    }
   ],
   "source": [
    "bplus = BartenderPlus()\n",
    "bplus.display()"
   ]
  },
  {
   "cell_type": "code",
   "execution_count": 8,
   "metadata": {},
   "outputs": [],
   "source": [
    "bplus.add_product('vintage surprise', 'cask', 2)\n",
    "bplus.add_product('kaiju', 'can', 24)\n",
    "bplus.add_product('vb', 'can', 24)\n",
    "bplus.add_product('hunter valley shiraz', 'bottle', 12)\n",
    "bplus.add_product('malborough sauvignon blanc', 'bottle', 12)\n",
    "bplus.add_product('champagne', 'bottle', 3)"
   ]
  },
  {
   "cell_type": "code",
   "execution_count": 9,
   "metadata": {},
   "outputs": [
    {
     "data": {
      "text/plain": [
       "'1 cask of vintage surprise'"
      ]
     },
     "execution_count": 9,
     "metadata": {},
     "output_type": "execute_result"
    }
   ],
   "source": [
    "bplus.serve('vintage surprise')"
   ]
  },
  {
   "cell_type": "code",
   "execution_count": 10,
   "metadata": {},
   "outputs": [
    {
     "data": {
      "text/plain": [
       "\"We don't stock 'passion pop' LOLOLOL\""
      ]
     },
     "execution_count": 10,
     "metadata": {},
     "output_type": "execute_result"
    }
   ],
   "source": [
    "bplus.serve('passion pop')"
   ]
  },
  {
   "cell_type": "code",
   "execution_count": 11,
   "metadata": {},
   "outputs": [
    {
     "name": "stdout",
     "output_type": "stream",
     "text": [
      "Did not add. The unit 'carton' doesn't match the unit for kaiju: can\n"
     ]
    }
   ],
   "source": [
    "bplus.add_product('kaiju', 'carton', 10)"
   ]
  },
  {
   "cell_type": "code",
   "execution_count": 12,
   "metadata": {},
   "outputs": [
    {
     "name": "stdout",
     "output_type": "stream",
     "text": [
      "Hi, I'm Jordan. I'll be your BartenderPlus™ this evening\n",
      "Stock Counts:\n",
      "{\n",
      "  \"vintage surprise\": {\n",
      "    \"unit\": \"cask\",\n",
      "    \"quantity\": 3\n",
      "  },\n",
      "  \"kaiju\": {\n",
      "    \"unit\": \"can\",\n",
      "    \"quantity\": 48\n",
      "  },\n",
      "  \"vb\": {\n",
      "    \"unit\": \"can\",\n",
      "    \"quantity\": 48\n",
      "  },\n",
      "  \"hunter valley shiraz\": {\n",
      "    \"unit\": \"bottle\",\n",
      "    \"quantity\": 24\n",
      "  },\n",
      "  \"malborough sauvignon blanc\": {\n",
      "    \"unit\": \"bottle\",\n",
      "    \"quantity\": 24\n",
      "  },\n",
      "  \"champagne\": {\n",
      "    \"unit\": \"bottle\",\n",
      "    \"quantity\": 6\n",
      "  }\n",
      "}\n",
      "Stock Type Counts:\n",
      "{\n",
      "  \"cask\": 3,\n",
      "  \"can\": 96,\n",
      "  \"bottle\": 54\n",
      "}\n"
     ]
    }
   ],
   "source": [
    "bplus.display()"
   ]
  },
  {
   "cell_type": "code",
   "execution_count": null,
   "metadata": {},
   "outputs": [],
   "source": []
  }
 ],
 "metadata": {
  "kernelspec": {
   "display_name": "Python 3",
   "language": "python",
   "name": "python3"
  },
  "language_info": {
   "codemirror_mode": {
    "name": "ipython",
    "version": 3
   },
   "file_extension": ".py",
   "mimetype": "text/x-python",
   "name": "python",
   "nbconvert_exporter": "python",
   "pygments_lexer": "ipython3",
   "version": "3.6.5"
  }
 },
 "nbformat": 4,
 "nbformat_minor": 2
}
