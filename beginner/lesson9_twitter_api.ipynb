{
 "cells": [
  {
   "cell_type": "markdown",
   "metadata": {},
   "source": [
    "# Back to basics\n",
    "\n",
    "For our last two lessons, we've dived into a coding example featuring Object-Oriented Programming (OOP). Today, we're going to take it back to the basics, and create a _procedural_ program.\n",
    "\n",
    "Procedural programming is often perfect for small, quick programs, which is what we'll start working on today using the Twitter API."
   ]
  },
  {
   "cell_type": "markdown",
   "metadata": {},
   "source": [
    "## What is an API?\n",
    "\n",
    "API stands for Application Programming Interface. You can think of an `interface` as a set of commands, or a vocabulary, that you can use to talk to an external service, and how it talks back.\n",
    "\n",
    "e.g. \n",
    "\n",
    "```\n",
    "user_info(id: <int>): returns user object\n",
    "tweet_list(user_id: <int>, date_range: <range>): returns list of tweets\n",
    "```"
   ]
  },
  {
   "cell_type": "markdown",
   "metadata": {},
   "source": [
    "## Our program\n",
    "\n",
    "We're going to make a simple program that takes in a list of twitter IDs, and converts each of them to a screen name. We can extend this functionality in future lessons.\n",
    "\n",
    "### What do we need to know then?\n",
    "\n",
    "1. How to open a file and read it line-by-line\n",
    "\n",
    "```python\n",
    "with open('file.txt', 'r') as istream:\n",
    "    for line in istream:\n",
    "        print('processing a line', line)\n",
    "```\n",
    "\n",
    "2. How to install and use an external python package\n",
    "\n",
    "* `pip3 install tweepy`\n",
    "\n",
    "Then, later on in our file:\n",
    "* `import tweepy`\n",
    "\n",
    "3. What tweepy methods do we need to use?\n",
    "\n",
    "4. How to print results, and/or write results to another file\n",
    "\n",
    "```python\n",
    "with open('output.txt', 'r') as ostream:\n",
    "    print('123\\n')\n",
    "    ostream.write('123\\n')\n",
    "```"
   ]
  },
  {
   "cell_type": "code",
   "execution_count": null,
   "metadata": {},
   "outputs": [],
   "source": [
    "import tweepy\n",
    "\n",
    "CONSUMER_KEY = 'n4om9qk8X3EKzlmfVBU3n4K3b'\n",
    "CONSUMER_SECRET = 'ol5Ftaog6CnzebaJENibnxrg9vNdz4rgtnmxZ70RvNwaUYv9v3'\n",
    "ACCESS_TOKEN = '3637250534-dpI1Sz8T6Yfk2UbMyGSzfwTe6kXYEXJPrwBs5qF'\n",
    "ACCESS_TOKEN_SECRET = '7z6TIplUYGQtL9ZWDQ4scvs5cwFKMq5SaQpZ0Nx8nau'\n",
    "# 'xl'\n",
    "\n",
    "auth = tweepy.OAuthHandler(CONSUMER_KEY, CONSUMER_SECRET)\n",
    "auth.set_access_token(ACCESS_TOKEN, ACCESS_TOKEN_SECRET)\n",
    "\n",
    "api = tweepy.API(auth)\n",
    "\n",
    "public_tweets = api.home_timeline()\n",
    "for tweet in public_tweets:\n",
    "    print(tweet.text)"
   ]
  },
  {
   "cell_type": "code",
   "execution_count": null,
   "metadata": {},
   "outputs": [],
   "source": []
  }
 ],
 "metadata": {
  "kernelspec": {
   "display_name": "Python 3",
   "language": "python",
   "name": "python3"
  },
  "language_info": {
   "codemirror_mode": {
    "name": "ipython",
    "version": 3
   },
   "file_extension": ".py",
   "mimetype": "text/x-python",
   "name": "python",
   "nbconvert_exporter": "python",
   "pygments_lexer": "ipython3",
   "version": "3.6.5"
  }
 },
 "nbformat": 4,
 "nbformat_minor": 2
}
