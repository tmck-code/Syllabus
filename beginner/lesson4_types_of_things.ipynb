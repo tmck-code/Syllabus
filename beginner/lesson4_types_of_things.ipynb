{
 "cells": [
  {
   "cell_type": "markdown",
   "metadata": {},
   "source": [
    "# Lesson 4: Types of Things\n",
    "\n",
    "This lesson we're taking a step back, and a wider look at the different things that the Python language makes available to us.\n",
    "\n",
    "The official name for these things is `built-in types`. This means that we don't have to import or use any outside package to access them, we can just type and execute.\n",
    "\n",
    "___\n",
    "\n",
    "_**We'll cover 4 basic types this lesson:**_\n",
    "\n",
    "* Numbers (integers and floats)\n",
    "* Strings\n",
    "* Booleans"
   ]
  },
  {
   "cell_type": "markdown",
   "metadata": {},
   "source": [
    "## Numbers\n",
    "\n",
    "The two most common types of numbers in programming are:\n",
    "\n",
    "* `int`, which represents whole numbers (integer)\n",
    "* `float`, which represents numbers with decimal places (floating-point)"
   ]
  },
  {
   "cell_type": "markdown",
   "metadata": {},
   "source": [
    "### Integers\n",
    "\n",
    "Let's check out some basic operations that we can perform:"
   ]
  },
  {
   "cell_type": "code",
   "execution_count": 3,
   "metadata": {},
   "outputs": [
    {
     "data": {
      "text/plain": [
       "int"
      ]
     },
     "execution_count": 3,
     "metadata": {},
     "output_type": "execute_result"
    }
   ],
   "source": [
    "a = 2\n",
    "\n",
    "# what \"class\" (i.e. \"type\") is this variable that we've created?\n",
    "a.__class__"
   ]
  },
  {
   "cell_type": "markdown",
   "metadata": {},
   "source": [
    "_Try changing the `2` above and rerunning to see if the class changes_"
   ]
  },
  {
   "cell_type": "code",
   "execution_count": 4,
   "metadata": {},
   "outputs": [
    {
     "data": {
      "text/plain": [
       "5"
      ]
     },
     "execution_count": 4,
     "metadata": {},
     "output_type": "execute_result"
    }
   ],
   "source": [
    "# we can use addition\n",
    "a + 3"
   ]
  },
  {
   "cell_type": "markdown",
   "metadata": {},
   "source": [
    "_Try changing the number above and see if the sum changes_"
   ]
  },
  {
   "cell_type": "markdown",
   "metadata": {},
   "source": [
    "There are a truckload of number operations for integers. This is just for reference, we'll only be covering a few of these (taken from [https://docs.python.org/3/library/stdtypes.html#numeric-types-int-float-complex](https://docs.python.org/3/library/stdtypes.html#numeric-types-int-float-complex))"
   ]
  },
  {
   "cell_type": "markdown",
   "metadata": {},
   "source": [
    "Operation\t        | Result\n",
    "------------------|----------\n",
    "x + y\t            | sum of x and y\n",
    "x - y\t            | difference of x and y\n",
    "x * y\t            | product of x and y\n",
    "x / y\t            | quotient of x and y\n",
    "x // y            |\tfloored quotient of x and y\n",
    "x % y\t            | remainder of x / y\n",
    "-x\tx             | negated\t \t \n",
    "+x\tx             | unchanged\t \t \n",
    "abs(x)\t          | absolute value or magnitude of x\n",
    "int(x)\t          | x converted to integer\n",
    "float(x)\t        | x converted to floating point \n",
    "pow(x, y)\t        | x to the power y\n",
    "x ** y\t          | x to the power y"
   ]
  },
  {
   "cell_type": "markdown",
   "metadata": {},
   "source": [
    "#### Handy tricks "
   ]
  },
  {
   "cell_type": "code",
   "execution_count": 5,
   "metadata": {},
   "outputs": [
    {
     "data": {
      "text/plain": [
       "0"
      ]
     },
     "execution_count": 5,
     "metadata": {},
     "output_type": "execute_result"
    }
   ],
   "source": [
    "# Find out if a number is divisible by another, e.g. is 6 divisible by 3?\n",
    "6 % 3"
   ]
  },
  {
   "cell_type": "code",
   "execution_count": 6,
   "metadata": {},
   "outputs": [
    {
     "name": "stdout",
     "output_type": "stream",
     "text": [
      "2\n"
     ]
    }
   ],
   "source": [
    "# Increment a number by 1\n",
    "a = 1\n",
    "a += 1\n",
    "print(a)"
   ]
  },
  {
   "cell_type": "markdown",
   "metadata": {},
   "source": [
    "_Try changing the values in the two examples above and rerun them_"
   ]
  },
  {
   "cell_type": "markdown",
   "metadata": {},
   "source": [
    "## Floats\n",
    "\n",
    "Floats handle things like percentages, or anything where we need the numbers to be accurate to decimal places. Floats can handle any of the operations that were listed above for integers"
   ]
  },
  {
   "cell_type": "code",
   "execution_count": 7,
   "metadata": {},
   "outputs": [
    {
     "data": {
      "text/plain": [
       "float"
      ]
     },
     "execution_count": 7,
     "metadata": {},
     "output_type": "execute_result"
    }
   ],
   "source": [
    "b = 3.1415\n",
    "b.__class__"
   ]
  },
  {
   "cell_type": "code",
   "execution_count": 8,
   "metadata": {},
   "outputs": [
    {
     "data": {
      "text/plain": [
       "1.57075"
      ]
     },
     "execution_count": 8,
     "metadata": {},
     "output_type": "execute_result"
    }
   ],
   "source": [
    "b / 2"
   ]
  },
  {
   "cell_type": "markdown",
   "metadata": {},
   "source": [
    "## Strings\n",
    "\n",
    "Strings are awesome! They are the lifeblood of every program that does anything with text, they're used very frequently"
   ]
  },
  {
   "cell_type": "code",
   "execution_count": 9,
   "metadata": {},
   "outputs": [
    {
     "data": {
      "text/plain": [
       "str"
      ]
     },
     "execution_count": 9,
     "metadata": {},
     "output_type": "execute_result"
    }
   ],
   "source": [
    "s = \"yolo b**ches\"\n",
    "s.__class__"
   ]
  },
  {
   "cell_type": "markdown",
   "metadata": {},
   "source": [
    "> There are a bunch of super-useful methods on strings. We won't cover them all here, but if you ever need to look them up or check them, google \"Python string methods\", or go to [https://docs.python.org/3/library/stdtypes.html#string-methods](https://docs.python.org/3/library/stdtypes.html#string-methods)\n",
    "\n",
    "Let's look at a few of the cooler 😎 ones"
   ]
  },
  {
   "cell_type": "code",
   "execution_count": 10,
   "metadata": {},
   "outputs": [
    {
     "data": {
      "text/plain": [
       "'YOLO B**CHES'"
      ]
     },
     "execution_count": 10,
     "metadata": {},
     "output_type": "execute_result"
    }
   ],
   "source": [
    "# translate every letter to ALLCAPS\n",
    "s.upper()"
   ]
  },
  {
   "cell_type": "code",
   "execution_count": 11,
   "metadata": {},
   "outputs": [
    {
     "data": {
      "text/plain": [
       "'all caps wooo'"
      ]
     },
     "execution_count": 11,
     "metadata": {},
     "output_type": "execute_result"
    }
   ],
   "source": [
    "# translate every letter to lowercase\n",
    "'ALL CAPS WOOO'.lower()"
   ]
  },
  {
   "cell_type": "code",
   "execution_count": 12,
   "metadata": {},
   "outputs": [
    {
     "data": {
      "text/plain": [
       "1"
      ]
     },
     "execution_count": 12,
     "metadata": {},
     "output_type": "execute_result"
    }
   ],
   "source": [
    "# How many times does the letter 'y' appear in this string?\n",
    "s.count('y')"
   ]
  },
  {
   "cell_type": "code",
   "execution_count": 13,
   "metadata": {},
   "outputs": [
    {
     "data": {
      "text/plain": [
       "12"
      ]
     },
     "execution_count": 13,
     "metadata": {},
     "output_type": "execute_result"
    }
   ],
   "source": [
    "# How long is the string?\n",
    "len(s)"
   ]
  },
  {
   "cell_type": "code",
   "execution_count": 14,
   "metadata": {},
   "outputs": [
    {
     "data": {
      "text/plain": [
       "False"
      ]
     },
     "execution_count": 14,
     "metadata": {},
     "output_type": "execute_result"
    }
   ],
   "source": [
    "# Check if the string ends with 'yolo'\n",
    "s.endswith('yolo')"
   ]
  },
  {
   "cell_type": "code",
   "execution_count": 15,
   "metadata": {},
   "outputs": [
    {
     "data": {
      "text/plain": [
       "True"
      ]
     },
     "execution_count": 15,
     "metadata": {},
     "output_type": "execute_result"
    }
   ],
   "source": [
    "# Check if a string is actually a number\n",
    "'123'.isdigit()"
   ]
  },
  {
   "cell_type": "markdown",
   "metadata": {},
   "source": [
    "_Try changing the definition at [44] and rerun the next steps and see what changes_"
   ]
  },
  {
   "cell_type": "markdown",
   "metadata": {},
   "source": [
    "## Boolean\n",
    "\n",
    "Booleans are things that have two possible values (i.e. `true/false`). Traditional male/female gender would be another example of a boolean, but generally it's used to describe `true/false`.\n",
    "\n",
    "We usually use `true/false` in `if` statements in order to make a decision about what to do"
   ]
  },
  {
   "cell_type": "code",
   "execution_count": 16,
   "metadata": {},
   "outputs": [
    {
     "data": {
      "text/plain": [
       "bool"
      ]
     },
     "execution_count": 16,
     "metadata": {},
     "output_type": "execute_result"
    }
   ],
   "source": [
    "bool = True\n",
    "bool.__class__"
   ]
  },
  {
   "cell_type": "markdown",
   "metadata": {},
   "source": [
    "## Equality\n",
    "\n",
    "\"Equality\" in computer science means \"checking if things are the same\". There are only a couple of operators to remember, and they're usually the same in most programming languages\n",
    "\n",
    "1. `a == b` Is `a` the same as `b`?\n",
    "2. `a != b` Is `a` different to `b`?\n",
    "3. `a < b` Is `a` less than `b`?\n",
    "4. `a <= b` Is `a` less than or equal to `b`?\n",
    "5. `a > b` Is `a` more than `b`?\n",
    "5. `a >= b` Is `a` more than or equal to `b`?\n",
    "\n",
    "If you use these operators, the return will be a `boolean`"
   ]
  },
  {
   "cell_type": "code",
   "execution_count": 17,
   "metadata": {},
   "outputs": [
    {
     "data": {
      "text/plain": [
       "True"
      ]
     },
     "execution_count": 17,
     "metadata": {},
     "output_type": "execute_result"
    }
   ],
   "source": [
    "# Check if two strings are the same\n",
    "'123' == '123'"
   ]
  },
  {
   "cell_type": "code",
   "execution_count": 18,
   "metadata": {},
   "outputs": [
    {
     "data": {
      "text/plain": [
       "True"
      ]
     },
     "execution_count": 18,
     "metadata": {},
     "output_type": "execute_result"
    }
   ],
   "source": [
    "# Check if two strings are different\n",
    "'a' != 'b'"
   ]
  },
  {
   "cell_type": "code",
   "execution_count": 19,
   "metadata": {},
   "outputs": [
    {
     "data": {
      "text/plain": [
       "True"
      ]
     },
     "execution_count": 19,
     "metadata": {},
     "output_type": "execute_result"
    }
   ],
   "source": [
    "# Check if one number is less than another\n",
    "1 < 2"
   ]
  },
  {
   "cell_type": "markdown",
   "metadata": {},
   "source": [
    "_Python can only do comparisons that it already knows how to handle. Try changing the statement above to `'a' < 2`, rerun and see what happens_"
   ]
  },
  {
   "cell_type": "markdown",
   "metadata": {},
   "source": [
    "## Substituting"
   ]
  },
  {
   "cell_type": "markdown",
   "metadata": {},
   "source": [
    "You can also substitute in Python! For example:"
   ]
  },
  {
   "cell_type": "code",
   "execution_count": 20,
   "metadata": {},
   "outputs": [
    {
     "data": {
      "text/plain": [
       "True"
      ]
     },
     "execution_count": 20,
     "metadata": {},
     "output_type": "execute_result"
    }
   ],
   "source": [
    "# If we have an addition\n",
    "4 + 4\n",
    "\n",
    "# Then we could check the sum by doing\n",
    "4 + 4 == 8"
   ]
  },
  {
   "cell_type": "markdown",
   "metadata": {},
   "source": [
    "## If this, then that\n",
    "\n",
    "Now on to the (_slightly_) fun(ner) stuff! Now that we know all of our basic types, lets use them in a basic `if` statement.\n",
    "\n",
    "> We'll cover if statements in more detail next lesson"
   ]
  },
  {
   "cell_type": "code",
   "execution_count": 21,
   "metadata": {},
   "outputs": [
    {
     "name": "stdout",
     "output_type": "stream",
     "text": [
      "yay\n"
     ]
    }
   ],
   "source": [
    "# if two things are the same, print 'yay'\n",
    "if 'a' == 'a':\n",
    "    print('yay')"
   ]
  },
  {
   "cell_type": "markdown",
   "metadata": {},
   "source": [
    "## Homework\n",
    "\n",
    "* Write an if statement that does the following:\n",
    "\n",
    "    `if 3 is an even number, then print something`"
   ]
  },
  {
   "cell_type": "code",
   "execution_count": null,
   "metadata": {},
   "outputs": [],
   "source": []
  },
  {
   "cell_type": "markdown",
   "metadata": {},
   "source": [
    "* Bonus:\n",
    "\n",
    "    `if a string starts with 'yolo', the print it uppercased`"
   ]
  },
  {
   "cell_type": "code",
   "execution_count": 22,
   "metadata": {},
   "outputs": [],
   "source": [
    "# this will start you off\n",
    "s = 'yolo b**tches'\n",
    "\n"
   ]
  }
 ],
 "metadata": {
  "kernelspec": {
   "display_name": "Python 3",
   "language": "python",
   "name": "python3"
  },
  "language_info": {
   "codemirror_mode": {
    "name": "ipython",
    "version": 3
   },
   "file_extension": ".py",
   "mimetype": "text/x-python",
   "name": "python",
   "nbconvert_exporter": "python",
   "pygments_lexer": "ipython3",
   "version": "3.6.5"
  }
 },
 "nbformat": 4,
 "nbformat_minor": 2
}
