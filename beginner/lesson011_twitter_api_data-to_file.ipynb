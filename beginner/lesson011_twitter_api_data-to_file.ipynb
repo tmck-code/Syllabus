{
 "cells": [
  {
   "cell_type": "markdown",
   "metadata": {},
   "source": [
    "# Twitter API: Writing to file\n",
    "\n",
    "For our last couple of lessons, we've been working on a Twitter API program that would convert IDs <-> usernames for us.\n",
    "\n",
    "Today, we'll finish off this example by making a useable version that will write the results to a file"
   ]
  },
  {
   "cell_type": "markdown",
   "metadata": {},
   "source": [
    "## Things to know\n",
    "\n",
    "* how to write to a _very basic_ CSV file\n",
    "\n",
    "```python\n",
    "data = 'my_id'\n",
    "with open(fpath, 'w') as ostream:\n",
    "    line = '|'.join(data)\n",
    "    ostream.write(f'{line}\\n')\n",
    "```\n",
    "\n",
    "* methods - how do the variables work?"
   ]
  },
  {
   "cell_type": "code",
   "execution_count": null,
   "metadata": {},
   "outputs": [],
   "source": [
    "def print_variable(a):\n",
    "    print(f'a = {a}')\n",
    "\n",
    "print_variable(1)\n",
    "print_variable(100)"
   ]
  },
  {
   "cell_type": "code",
   "execution_count": null,
   "metadata": {},
   "outputs": [],
   "source": [
    "def increment(i):\n",
    "    new_i = i+1\n",
    "    print(f'before: {i}, variable is now: {new_i}')\n",
    "    \n",
    "increment(1)\n",
    "increment(200)"
   ]
  },
  {
   "cell_type": "markdown",
   "metadata": {},
   "source": [
    "## What should we do first?\n",
    "\n",
    "* Make the process write to a file\n",
    "* Refactor (aka rewrite) into methods"
   ]
  },
  {
   "cell_type": "code",
   "execution_count": null,
   "metadata": {},
   "outputs": [],
   "source": [
    "import tweepy\n",
    "import json\n",
    "\n",
    "CONSUMER_KEY = 'n4om9qk8X3EKzlmfVBU3n4K3b'\n",
    "CONSUMER_SECRET = 'ol5Ftaog6CnzebaJENibnxrg9vNdz4rgtnmxZ70RvNwaUYv9v3'\n",
    "ACCESS_TOKEN = '3637250534-dpI1Sz8T6Yfk2UbMyGSzfwTe6kXYEXJPrwBs5qF'\n",
    "ACCESS_TOKEN_SECRET = '7z6TIplUYGQtL9ZWDQ4scvs5cwFKMq5SaQpZ0Nx8nau'\n",
    "# 'xl'\n",
    "\n",
    "auth = tweepy.OAuthHandler(CONSUMER_KEY, CONSUMER_SECRET)\n",
    "auth.set_access_token(ACCESS_TOKEN, ACCESS_TOKEN_SECRET)\n",
    "\n",
    "api = tweepy.API(auth)\n",
    "user = api.get_user('potus')\n",
    "print(user.id_str)\n",
    "\n",
    "user = api.get_user('822215679726100480')\n",
    "print(user.screen_name)"
   ]
  },
  {
   "cell_type": "markdown",
   "metadata": {},
   "source": [
    "## Bonus/our topic for next week\n",
    "\n",
    "1. Read input from a local file containing either twitter screen names or IDs\n",
    "2. How could we make the input/output file path behaviour better?\n",
    "3. How could we store/use our twitter credentials better? (rather than storing them as plain text in the code file)\n",
    "  * Why is the current approach a bad idea?\n",
    "\n"
   ]
  },
  {
   "cell_type": "code",
   "execution_count": null,
   "metadata": {},
   "outputs": [],
   "source": []
  }
 ],
 "metadata": {
  "kernelspec": {
   "display_name": "Python 3",
   "language": "python",
   "name": "python3"
  },
  "language_info": {
   "codemirror_mode": {
    "name": "ipython",
    "version": 3
   },
   "file_extension": ".py",
   "mimetype": "text/x-python",
   "name": "python",
   "nbconvert_exporter": "python",
   "pygments_lexer": "ipython3",
   "version": "3.6.5"
  }
 },
 "nbformat": 4,
 "nbformat_minor": 2
}
