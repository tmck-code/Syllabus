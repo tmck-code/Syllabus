{
 "cells": [
  {
   "cell_type": "markdown",
   "metadata": {},
   "source": [
    "# Object Oriented Programming\n",
    "\n",
    "Although it's very effective to store details in basic structures like `lists` and `dictionaries`, **class and objects** are the backbone of most programming.\n",
    "\n",
    "Before starting it's handy to point out the different between a **class** and an **object**. Put simply:\n",
    "\n",
    "* **class** is the _definition_\n",
    "* **object** is an actual, living breathing thing\n",
    "\n",
    "A handy example might be for lego sets or ikea: the **blueprint** would be the class, the objects are the things that you **build**."
   ]
  },
  {
   "cell_type": "markdown",
   "metadata": {},
   "source": [
    "___\n",
    "\n",
    "## The basics\n",
    "\n",
    "Classes and objects can do many things, we'll start with the absolute basics\n",
    "\n",
    "* Storing different bits of information\n",
    "* Accessing that information\n",
    "* Easy printing!\n",
    "\n",
    "### Defining a basic class\n",
    "\n",
    "Lets make a 'Book' class to hold some information about itself, to begin with we'll make it very similar to our `library` dictionary.\n",
    "\n",
    "1. Every class definition begins with the word `class`, and all its methods are indented by 4 spaces\n",
    "2. To create an `object` of your class, you need to define the `__init__` method. (This can be called `initialize` or `new` in other languages)\n",
    "3. Every method in your class needs to have `self` as its first argument.\n",
    "\n",
    "Let's give it a go"
   ]
  },
  {
   "cell_type": "code",
   "execution_count": 12,
   "metadata": {},
   "outputs": [],
   "source": [
    "class Book:\n",
    "    'A class to hold information about a book'\n",
    "    \n",
    "    def __init__(self, title):\n",
    "        self.title = title"
   ]
  },
  {
   "cell_type": "markdown",
   "metadata": {},
   "source": [
    "Now that we've got our class definition, let's create a book object!"
   ]
  },
  {
   "cell_type": "code",
   "execution_count": 13,
   "metadata": {},
   "outputs": [
    {
     "name": "stdout",
     "output_type": "stream",
     "text": [
      "Harry Potter\n"
     ]
    }
   ],
   "source": [
    "# This is how we can create a new book object\n",
    "b = Book('Harry Potter')\n",
    "\n",
    "# And we can access information about the book, much like our dictionary version!\n",
    "print(b.title)"
   ]
  },
  {
   "cell_type": "markdown",
   "metadata": {},
   "source": [
    "Coolio, all seems legit. Let's now define a better class that contains all the info that our homework from last week did."
   ]
  },
  {
   "cell_type": "code",
   "execution_count": 15,
   "metadata": {},
   "outputs": [],
   "source": [
    "class Book:\n",
    "    'A class to hold information about a book'\n",
    "\n",
    "    def __init__(self, title, author, year):\n",
    "        self.title = title\n",
    "        self.author = author\n",
    "        self.year = year\n",
    "\n",
    "b = Book('Harry Potter', 'J.K. Rowling', 1994)"
   ]
  },
  {
   "cell_type": "markdown",
   "metadata": {},
   "source": [
    "Woohoo we have a better book!"
   ]
  },
  {
   "cell_type": "code",
   "execution_count": 17,
   "metadata": {},
   "outputs": [
    {
     "name": "stdout",
     "output_type": "stream",
     "text": [
      "-- Harry Potter (J.K. Rowling) by 1994\n"
     ]
    }
   ],
   "source": [
    "# Try printing some details with some formatting\n",
    "print('-- {:<10} ({}) by {}'.format(b.title, b.author, b.year))"
   ]
  },
  {
   "cell_type": "code",
   "execution_count": 19,
   "metadata": {},
   "outputs": [
    {
     "name": "stdout",
     "output_type": "stream",
     "text": [
      "<__main__.Book object at 0x109ddbcc0>\n"
     ]
    }
   ],
   "source": [
    "# What happens when we try and print the book object itself?\n",
    "print(b)"
   ]
  },
  {
   "cell_type": "markdown",
   "metadata": {},
   "source": [
    "___\n",
    "\n",
    "### String representation\n",
    "\n",
    "Well printing the book itself was fairly underwhelming! Where are all our details?\n",
    "\n",
    "In object-oriented languages there is the concept of defining a special method that will represent the object. It's called `toString` in languages like Java, and in python it's called `__repr__` (represent).\n",
    "\n",
    "Essentially, whenever you do a `print(something)`, python converts that in the background to print the output of `something.__repr__()`. This means that if we define that method ourselves, we can get some magic printing behaviour."
   ]
  },
  {
   "cell_type": "code",
   "execution_count": 29,
   "metadata": {},
   "outputs": [
    {
     "name": "stdout",
     "output_type": "stream",
     "text": [
      "-- Harry Potter         (1994) by J.K. Rowling\n"
     ]
    }
   ],
   "source": [
    "class Book:\n",
    "    'A class to hold information about a book'\n",
    "\n",
    "    def __init__(self, title, author, year):\n",
    "        self.title = title\n",
    "        self.author = author\n",
    "        self.year = year\n",
    "    \n",
    "    def __repr__(self):\n",
    "        return '-- {:<20} ({}) by {}'.format(self.title, self.year, self.author)\n",
    "\n",
    "b = Book('Harry Potter', 'J.K. Rowling', 1994)\n",
    "print(b)"
   ]
  },
  {
   "cell_type": "markdown",
   "metadata": {},
   "source": [
    "Noooice, much better!"
   ]
  },
  {
   "cell_type": "markdown",
   "metadata": {},
   "source": [
    "Now we can form a super-basic library that is just a list of all our Books!"
   ]
  },
  {
   "cell_type": "code",
   "execution_count": 33,
   "metadata": {},
   "outputs": [],
   "source": [
    "library = [\n",
    "    Book('A Tale of Two Cities', 'Charles Dickens', 1859),\n",
    "    Book('The Thorn Birds', 'Colleen McCullough', 1977),\n",
    "    Book('The Handmaid\\'s Tale', 'Margaret Atwood', 1985),\n",
    "    Book('The Book Thief', 'Marcus Zusak', 2005)\n",
    "]"
   ]
  },
  {
   "cell_type": "markdown",
   "metadata": {},
   "source": [
    "Now we can try to display the information of all our books again, this time using our slightly different structure"
   ]
  },
  {
   "cell_type": "code",
   "execution_count": 34,
   "metadata": {},
   "outputs": [
    {
     "name": "stdout",
     "output_type": "stream",
     "text": [
      "-- A Tale of Two Cities (1859) by Charles Dickens\n",
      "-- The Thorn Birds      (1977) by Colleen McCullough\n",
      "-- The Handmaid's Tale  (1985) by Margaret Atwood\n",
      "-- The Book Thief       (2005) by Marcus Zusak\n"
     ]
    }
   ],
   "source": [
    "def display():\n",
    "    for book in library:\n",
    "        print(book)\n",
    "\n",
    "display()"
   ]
  },
  {
   "cell_type": "markdown",
   "metadata": {},
   "source": [
    "Boom! We've successfully transferred our `dictionary` to a collection of `objects`"
   ]
  }
 ],
 "metadata": {
  "kernelspec": {
   "display_name": "Python 3",
   "language": "python",
   "name": "python3"
  },
  "language_info": {
   "codemirror_mode": {
    "name": "ipython",
    "version": 3
   },
   "file_extension": ".py",
   "mimetype": "text/x-python",
   "name": "python",
   "nbconvert_exporter": "python",
   "pygments_lexer": "ipython3",
   "version": "3.6.5"
  }
 },
 "nbformat": 4,
 "nbformat_minor": 2
}
