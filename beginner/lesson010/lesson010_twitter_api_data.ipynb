{
 "cells": [
  {
   "cell_type": "markdown",
   "metadata": {},
   "source": [
    "# Dealing with data: Twitter API\n",
    "\n",
    "Last lesson, we started work on a Twitter API program that would convert IDs <-> usernames for us. Today, we'll continue on with this example and take a look at the data structures used."
   ]
  },
  {
   "cell_type": "markdown",
   "metadata": {},
   "source": [
    "## What is data structure?\n",
    "\n",
    "The best definition I could find is essentially \n",
    "\n",
    "> \"A data structure is a specialized format for organizing and storing data.\"\n",
    "\n",
    "This is quite a general term, and covers things like:\n",
    "\n",
    "* lists\n",
    "* dicts\n",
    "* objects\n",
    "* strings\n",
    "\n",
    "\n",
    "Let's look at our program from last week, and see what Twitter returns to us."
   ]
  },
  {
   "cell_type": "code",
   "execution_count": null,
   "metadata": {},
   "outputs": [],
   "source": [
    "import tweepy\n",
    "import json\n",
    "\n",
    "CONSUMER_KEY = 'n4om9qk8X3EKzlmfVBU3n4K3b'\n",
    "CONSUMER_SECRET = 'ol5Ftaog6CnzebaJENibnxrg9vNdz4rgtnmxZ70RvNwaUYv9v3'\n",
    "ACCESS_TOKEN = '3637250534-dpI1Sz8T6Yfk2UbMyGSzfwTe6kXYEXJPrwBs5qF'\n",
    "ACCESS_TOKEN_SECRET = '7z6TIplUYGQtL9ZWDQ4scvs5cwFKMq5SaQpZ0Nx8nau'\n",
    "# 'xl'\n",
    "\n",
    "auth = tweepy.OAuthHandler(CONSUMER_KEY, CONSUMER_SECRET)\n",
    "auth.set_access_token(ACCESS_TOKEN, ACCESS_TOKEN_SECRET)\n",
    "\n",
    "api = tweepy.API(auth)\n",
    "user = api.get_user('potus')\n",
    "print(user._json)"
   ]
  },
  {
   "cell_type": "markdown",
   "metadata": {},
   "source": [
    "## Serde?\n",
    "\n",
    "Serde stands for **Ser**ialisation-**De**serialisation. This can be a complicated thing to explain, but essentially it means:\n",
    "\n",
    "* Q: I have a data structure in one language, and I need to pass it to another one. How will the second language understand it?\n",
    "* A: Use a universal standard as the format to pass between the languages. Each language will have to have a \"encoder/decoder\" in order to understand it\n",
    "\n",
    "The most popular of these formats is JSON (JavaScript Object Notation). You could also consider CSV as another serde format"
   ]
  },
  {
   "cell_type": "code",
   "execution_count": 14,
   "metadata": {},
   "outputs": [
    {
     "name": "stdout",
     "output_type": "stream",
     "text": [
      "this is the python dict: {'id': 123, 'name': 'tom'}\n",
      "this is the dict as JSON {\"id\": 123, \"name\": \"tom\"}\n"
     ]
    }
   ],
   "source": [
    "import json\n",
    "\n",
    "person = {\n",
    "    'id': 123,\n",
    "    'name': 'tom'\n",
    "}\n",
    "print('this is the python dict:', person)\n",
    "data = json.dumps(person)\n",
    "print('this is the dict as JSON', data)"
   ]
  },
  {
   "cell_type": "code",
   "execution_count": 15,
   "metadata": {},
   "outputs": [
    {
     "name": "stdout",
     "output_type": "stream",
     "text": [
      "now lets create a python dict from the JSON {'id': 123, 'name': 'tom'}\n"
     ]
    }
   ],
   "source": [
    "print('now lets create a python dict from the JSON', json.loads(data))"
   ]
  },
  {
   "cell_type": "code",
   "execution_count": 16,
   "metadata": {},
   "outputs": [
    {
     "name": "stdout",
     "output_type": "stream",
     "text": [
      "you can pretty-print JSON nicely:\n",
      " {\n",
      "    \"id\": 123,\n",
      "    \"name\": \"tom\"\n",
      "}\n"
     ]
    }
   ],
   "source": [
    "print('you can pretty-print JSON nicely:\\n', json.dumps(person, indent=4))"
   ]
  },
  {
   "cell_type": "markdown",
   "metadata": {},
   "source": [
    "## What's the difference between JSON and CSV? Which is better?\n",
    "\n",
    "A: neither are better, but there are more appropriate ones to use in certain situations."
   ]
  },
  {
   "cell_type": "code",
   "execution_count": 17,
   "metadata": {},
   "outputs": [],
   "source": [
    "person = {\n",
    "    'id': 123,\n",
    "    'age': 45,\n",
    "    'name': 'tom',\n",
    "    'gender': 'fluid'\n",
    "}"
   ]
  },
  {
   "cell_type": "code",
   "execution_count": 18,
   "metadata": {},
   "outputs": [
    {
     "name": "stdout",
     "output_type": "stream",
     "text": [
      "{\"id\": 123, \"age\": 45, \"name\": \"tom\", \"gender\": \"fluid\"}\n"
     ]
    }
   ],
   "source": [
    "# Let's print that as JSON\n",
    "print(json.dumps(person))"
   ]
  },
  {
   "cell_type": "code",
   "execution_count": 23,
   "metadata": {},
   "outputs": [
    {
     "name": "stdout",
     "output_type": "stream",
     "text": [
      "id|age|name|gender\n",
      "123|45|tom|fluid\n"
     ]
    }
   ],
   "source": [
    "# Let's print that as a CSV\n",
    "row = []\n",
    "for key, val in person.items():\n",
    "    # we need to put each value into a flat row first\n",
    "    row.append(str(val))\n",
    "\n",
    "print('|'.join(person.keys()))\n",
    "print('|'.join(row))"
   ]
  },
  {
   "cell_type": "markdown",
   "metadata": {},
   "source": [
    "## Now let's revisit our Twitter example\n",
    "\n",
    "What would be our preferred output format, and why?"
   ]
  },
  {
   "cell_type": "code",
   "execution_count": null,
   "metadata": {},
   "outputs": [],
   "source": [
    "import tweepy\n",
    "import json\n",
    "\n",
    "CONSUMER_KEY = 'n4om9qk8X3EKzlmfVBU3n4K3b'\n",
    "CONSUMER_SECRET = 'ol5Ftaog6CnzebaJENibnxrg9vNdz4rgtnmxZ70RvNwaUYv9v3'\n",
    "ACCESS_TOKEN = '3637250534-dpI1Sz8T6Yfk2UbMyGSzfwTe6kXYEXJPrwBs5qF'\n",
    "ACCESS_TOKEN_SECRET = '7z6TIplUYGQtL9ZWDQ4scvs5cwFKMq5SaQpZ0Nx8nauxl'\n",
    "# 'xl'\n",
    "\n",
    "auth = tweepy.OAuthHandler(CONSUMER_KEY, CONSUMER_SECRET)\n",
    "auth.set_access_token(ACCESS_TOKEN, ACCESS_TOKEN_SECRET)\n",
    "\n",
    "api = tweepy.API(auth)\n",
    "user = api.get_user('potus')\n",
    "data = user._json\n",
    "\n",
    "print(json.dumps(data, indent=4))"
   ]
  },
  {
   "cell_type": "code",
   "execution_count": null,
   "metadata": {},
   "outputs": [],
   "source": [
    "print(json.dumps(data['entities'], indent=4))"
   ]
  }
 ],
 "metadata": {
  "kernelspec": {
   "display_name": "Python 3",
   "language": "python",
   "name": "python3"
  },
  "language_info": {
   "codemirror_mode": {
    "name": "ipython",
    "version": 3
   },
   "file_extension": ".py",
   "mimetype": "text/x-python",
   "name": "python",
   "nbconvert_exporter": "python",
   "pygments_lexer": "ipython3",
   "version": "3.6.5"
  }
 },
 "nbformat": 4,
 "nbformat_minor": 2
}
