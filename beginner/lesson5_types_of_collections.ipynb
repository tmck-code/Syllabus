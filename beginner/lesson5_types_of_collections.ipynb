{
 "cells": [
  {
   "cell_type": "markdown",
   "metadata": {},
   "source": [
    "# Lesson 5: Types of Collections - Lists"
   ]
  },
  {
   "cell_type": "markdown",
   "metadata": {},
   "source": [
    "Last week, we took a step back from classes/objects and the higher-level stuff to take another look at the basic types that Python offers us out of the box.\n",
    "\n",
    "**_We covered 4 basic types this lesson:_**\n",
    "\n",
    "* Numbers (integers and floats)\n",
    "* Strings\n",
    "* Booleans"
   ]
  },
  {
   "cell_type": "markdown",
   "metadata": {},
   "source": [
    "This week, we're starting to look at containers! Strictly, in computer science, collections are objects that contain other objects.\n",
    "\n",
    "We've already seen (but not covered) the `dictionary` in Python.\n",
    "\n",
    "**_In the next two lessons we'll be covering two collections:_**\n",
    "\n",
    "* lists\n",
    "* dictionaries\n",
    "\n",
    "> Side note: _strings_ can often be thought of as collections of individual letters\n",
    "\n",
    "For each collection, we'll go through the features that make it a collection, e.g.\n",
    "\n",
    "1. Creating the collection, and inserting values\n",
    "2. Accessing individual values, or accessing each value in the collection\n",
    "3. Cool methods\n",
    "\n",
    "**(_These are otherwise known as storage, access and traversal_. In Python, we use the word _iteration_ instead of _traversal_)**\n",
    "\n",
    "> We're going to cover traversal at the end"
   ]
  },
  {
   "cell_type": "markdown",
   "metadata": {},
   "source": [
    "## Lists\n",
    "\n",
    "Lists (or arrays in other languages) contain one-dimensional data sets. The word 'list' is a pretty good explanation for the way that Python uses them"
   ]
  },
  {
   "cell_type": "markdown",
   "metadata": {},
   "source": [
    "### 1. Creating and adding"
   ]
  },
  {
   "cell_type": "code",
   "execution_count": 57,
   "metadata": {},
   "outputs": [
    {
     "name": "stdout",
     "output_type": "stream",
     "text": [
      "['john', 'mary', 'susan']\n"
     ]
    }
   ],
   "source": [
    "# Create a list of names\n",
    "names = ['john', 'mary', 'susan']\n",
    "print(names)"
   ]
  },
  {
   "cell_type": "code",
   "execution_count": 58,
   "metadata": {},
   "outputs": [
    {
     "name": "stdout",
     "output_type": "stream",
     "text": [
      "['john', 'mary', 'susan', 'jordan']\n"
     ]
    }
   ],
   "source": [
    "# Add a value to the list\n",
    "names.append('jordan')\n",
    "print(names)"
   ]
  },
  {
   "cell_type": "markdown",
   "metadata": {},
   "source": [
    "### 2. Accessing"
   ]
  },
  {
   "cell_type": "code",
   "execution_count": 59,
   "metadata": {},
   "outputs": [
    {
     "name": "stdout",
     "output_type": "stream",
     "text": [
      "john\n"
     ]
    }
   ],
   "source": [
    "# You can access a value directly by using its 'index'\n",
    "# E.g. to access the first element:\n",
    "print(names[0])"
   ]
  },
  {
   "cell_type": "markdown",
   "metadata": {},
   "source": [
    "### 3. Methods to use\n",
    "\n",
    "A quick distinction here: Python offers only a few methods that are 'list' methods, i.e. you would call `your_list.method()` in order to call the method\n",
    "\n",
    "method  | what do?\n",
    "--------|---------\n",
    "clear   | clears the list\n",
    "copy    | makes a copy of the list\n",
    "append  | adds an item to the _end_ of the list\n",
    "pop     | remove the item from the _end_ of the list and return it\n",
    "insert  | adds an item at a specific index\n",
    "remove  | remove the item at a specific index\n",
    "extend  | adds another list to the current one, merging them\n",
    "index   | finds the first index of an item\n",
    "count   | counts the number of times an item occurs\n",
    "reverse | reverses the list\n",
    "sort    | sorts the list"
   ]
  },
  {
   "cell_type": "code",
   "execution_count": 60,
   "metadata": {},
   "outputs": [
    {
     "data": {
      "text/plain": [
       "1"
      ]
     },
     "execution_count": 60,
     "metadata": {},
     "output_type": "execute_result"
    }
   ],
   "source": [
    "# Find number of times 'john' occurs in our list\n",
    "names.count('john')"
   ]
  },
  {
   "cell_type": "code",
   "execution_count": 61,
   "metadata": {},
   "outputs": [
    {
     "data": {
      "text/plain": [
       "['john', 'jordan', 'mary', 'susan']"
      ]
     },
     "execution_count": 61,
     "metadata": {},
     "output_type": "execute_result"
    }
   ],
   "source": [
    "# Sort any collection in Python (if Python knows how to compare the elements)\n",
    "names.sort()\n",
    "names"
   ]
  },
  {
   "cell_type": "code",
   "execution_count": 62,
   "metadata": {},
   "outputs": [
    {
     "ename": "TypeError",
     "evalue": "'<' not supported between instances of 'str' and 'int'",
     "output_type": "error",
     "traceback": [
      "\u001b[0;31m---------------------------------------------------------------------------\u001b[0m",
      "\u001b[0;31mTypeError\u001b[0m                                 Traceback (most recent call last)",
      "\u001b[0;32m<ipython-input-62-7826cdd66eb1>\u001b[0m in \u001b[0;36m<module>\u001b[0;34m()\u001b[0m\n\u001b[1;32m      1\u001b[0m \u001b[0;31m# We encountered this problem last week, when we attempted to do 'a' < 1\u001b[0m\u001b[0;34m\u001b[0m\u001b[0;34m\u001b[0m\u001b[0m\n\u001b[1;32m      2\u001b[0m \u001b[0mothernames\u001b[0m \u001b[0;34m=\u001b[0m \u001b[0;34m[\u001b[0m\u001b[0;36m1\u001b[0m\u001b[0;34m,\u001b[0m \u001b[0;34m'a'\u001b[0m\u001b[0;34m,\u001b[0m \u001b[0;36m2\u001b[0m\u001b[0;34m]\u001b[0m\u001b[0;34m\u001b[0m\u001b[0m\n\u001b[0;32m----> 3\u001b[0;31m \u001b[0mothernames\u001b[0m\u001b[0;34m.\u001b[0m\u001b[0msort\u001b[0m\u001b[0;34m(\u001b[0m\u001b[0;34m)\u001b[0m\u001b[0;34m\u001b[0m\u001b[0m\n\u001b[0m",
      "\u001b[0;31mTypeError\u001b[0m: '<' not supported between instances of 'str' and 'int'"
     ]
    }
   ],
   "source": [
    "# We encountered this problem last week, when we attempted to do 'a' < 1\n",
    "othernames = [1, 'a', 2]\n",
    "othernames.sort()"
   ]
  },
  {
   "cell_type": "code",
   "execution_count": 63,
   "metadata": {},
   "outputs": [
    {
     "data": {
      "text/plain": [
       "['susan', 'mary', 'jordan', 'john']"
      ]
     },
     "execution_count": 63,
     "metadata": {},
     "output_type": "execute_result"
    }
   ],
   "source": [
    "# We can reverse our list\n",
    "names.reverse()\n",
    "names"
   ]
  },
  {
   "cell_type": "code",
   "execution_count": 64,
   "metadata": {},
   "outputs": [
    {
     "data": {
      "text/plain": [
       "'john'"
      ]
     },
     "execution_count": 64,
     "metadata": {},
     "output_type": "execute_result"
    }
   ],
   "source": [
    "# Let's try 'popping' an element from the list\n",
    "names.pop()"
   ]
  },
  {
   "cell_type": "code",
   "execution_count": 65,
   "metadata": {},
   "outputs": [
    {
     "data": {
      "text/plain": [
       "['susan', 'mary', 'jordan']"
      ]
     },
     "execution_count": 65,
     "metadata": {},
     "output_type": "execute_result"
    }
   ],
   "source": [
    "names"
   ]
  },
  {
   "cell_type": "markdown",
   "metadata": {},
   "source": [
    "#### FIFO vs LIFO, aka \"Queue\" vs \"Stack\""
   ]
  },
  {
   "cell_type": "markdown",
   "metadata": {},
   "source": [
    "In programming languages 'list' or 'array' data types usually fall under a more specific category, a queue or a list\n",
    "\n",
    "FIFO = First In, First Out, aka a Queue\n",
    "LIFO = Last In, First Out, aka a Stack\n",
    "\n",
    "Think eating pancakes vs queueing up for something:\n",
    "\n",
    "* In a queue, the person that arrives first gets to be served first\n",
    "* In a pancake stack, the last pancake to be put on (the top one) is the first to be eaten!\n",
    "\n",
    "So, what is the implementation in Python? Let's examine the two methods that make this distinction: `append` and `pop`, as these are the two methods to either insert or remove an element (without using an index)"
   ]
  },
  {
   "cell_type": "code",
   "execution_count": 66,
   "metadata": {},
   "outputs": [
    {
     "name": "stdout",
     "output_type": "stream",
     "text": [
      "[1, 2, 3, 4, 5]\n"
     ]
    }
   ],
   "source": [
    "numberz = [1, 2, 3, 4, 5]\n",
    "print(numberz)"
   ]
  },
  {
   "cell_type": "code",
   "execution_count": 67,
   "metadata": {},
   "outputs": [
    {
     "name": "stdout",
     "output_type": "stream",
     "text": [
      "[1, 2, 3, 4, 5, 6]\n"
     ]
    }
   ],
   "source": [
    "numberz.append(6)\n",
    "print(numberz)"
   ]
  },
  {
   "cell_type": "code",
   "execution_count": 68,
   "metadata": {},
   "outputs": [
    {
     "data": {
      "text/plain": [
       "6"
      ]
     },
     "execution_count": 68,
     "metadata": {},
     "output_type": "execute_result"
    }
   ],
   "source": [
    "numberz.pop()"
   ]
  },
  {
   "cell_type": "code",
   "execution_count": 69,
   "metadata": {},
   "outputs": [
    {
     "name": "stdout",
     "output_type": "stream",
     "text": [
      "[1, 2, 3, 4, 5]\n"
     ]
    }
   ],
   "source": [
    "print(numberz)"
   ]
  },
  {
   "cell_type": "markdown",
   "metadata": {},
   "source": [
    "> Q: **_What are Python lists? Are they queues or stacks?_**"
   ]
  },
  {
   "cell_type": "markdown",
   "metadata": {},
   "source": [
    "### 4. Iteration\n",
    "\n",
    "Now onto the fun one - iteration. When we have a list of items, how can we go through it to do things with each item?"
   ]
  },
  {
   "cell_type": "markdown",
   "metadata": {},
   "source": [
    "#### The old-school way"
   ]
  },
  {
   "cell_type": "code",
   "execution_count": 1,
   "metadata": {},
   "outputs": [
    {
     "name": "stdout",
     "output_type": "stream",
     "text": [
      "tom\n",
      "holly\n",
      "emma\n"
     ]
    }
   ],
   "source": [
    "# We used to only be able to use indexes to go through an array :scream:\n",
    "\n",
    "thingz = ['tom', 'holly', 'emma']\n",
    "\n",
    "for i in range(0, len(thingz)):\n",
    "    print(thingz[i])\n"
   ]
  },
  {
   "cell_type": "markdown",
   "metadata": {},
   "source": [
    "This is obviously not ideal, in other languages it looks even worse!"
   ]
  },
  {
   "cell_type": "markdown",
   "metadata": {},
   "source": [
    "#### The new-school way (syntactic sugar!)"
   ]
  },
  {
   "cell_type": "code",
   "execution_count": 4,
   "metadata": {},
   "outputs": [
    {
     "name": "stdout",
     "output_type": "stream",
     "text": [
      "tom\n",
      "holly\n",
      "emma\n"
     ]
    }
   ],
   "source": [
    "for thing in thingz:\n",
    "    print(thing)"
   ]
  },
  {
   "cell_type": "code",
   "execution_count": null,
   "metadata": {},
   "outputs": [],
   "source": []
  }
 ],
 "metadata": {
  "kernelspec": {
   "display_name": "Python 3",
   "language": "python",
   "name": "python3"
  },
  "language_info": {
   "codemirror_mode": {
    "name": "ipython",
    "version": 3
   },
   "file_extension": ".py",
   "mimetype": "text/x-python",
   "name": "python",
   "nbconvert_exporter": "python",
   "pygments_lexer": "ipython3",
   "version": "3.6.5"
  }
 },
 "nbformat": 4,
 "nbformat_minor": 2
}
