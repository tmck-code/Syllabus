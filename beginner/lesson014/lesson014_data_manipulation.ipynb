{
 "cells": [
  {
   "cell_type": "code",
   "execution_count": 5,
   "metadata": {},
   "outputs": [
    {
     "name": "stdout",
     "output_type": "stream",
     "text": [
      "\n",
      "turning a csv from:\n",
      "(cell one)\n",
      "tom, matt, aaron\n",
      "tom, matt, aaron\n",
      "tom, matt\n",
      "\n",
      "(cell two)\n",
      "red, yellow, blue\n",
      "blue, blue, blue\n",
      "green\n",
      "\n",
      "into\n",
      "\n",
      "(cell one)\n",
      "tom\n",
      "matt\n",
      "aaron\n",
      "\n",
      "(cell two)\n",
      "red, yellow, red\n",
      "blue, blue, blue\n",
      "blue, green\n",
      "\n"
     ]
    }
   ],
   "source": [
    "print('''\n",
    "turning a csv from:\n",
    "(cell one)\n",
    "tom, matt, aaron\n",
    "tom, matt, aaron\n",
    "tom, matt\n",
    "\n",
    "(cell two)\n",
    "red, yellow, blue\n",
    "blue, blue, blue\n",
    "green\n",
    "\n",
    "into\n",
    "\n",
    "(cell one)\n",
    "tom\n",
    "matt\n",
    "aaron\n",
    "\n",
    "(cell two)\n",
    "red, yellow, red\n",
    "blue, blue, blue\n",
    "blue, green\n",
    "''')"
   ]
  },
  {
   "cell_type": "code",
   "execution_count": 6,
   "metadata": {},
   "outputs": [],
   "source": [
    "csv = '''\n",
    "tom, matt, aaron|red, yellow, blue\n",
    "tom, matt, aaron|blue, blue, blue\n",
    "tom, matt|green\n",
    "'''\n",
    "\n",
    "result = '''\n",
    "tom|red, yellow, red\n",
    "matt|blue, blue, blue\n",
    "aaron|blue, green\n",
    "'''"
   ]
  },
  {
   "cell_type": "code",
   "execution_count": 7,
   "metadata": {},
   "outputs": [
    {
     "name": "stdout",
     "output_type": "stream",
     "text": [
      "\n",
      "tom, matt, aaron|red, yellow, blue\n",
      "tom, matt, aaron|blue, blue, blue\n",
      "tom, matt|green\n",
      "\n",
      "{\n",
      "  \"tom\": [\n",
      "    \"red\",\n",
      "    \"green\",\n",
      "    \"blue\",\n",
      "    \"yellow\"\n",
      "  ],\n",
      "  \"matt\": [\n",
      "    \"red\",\n",
      "    \"green\",\n",
      "    \"blue\",\n",
      "    \"yellow\"\n",
      "  ],\n",
      "  \"aaron\": [\n",
      "    \"red\",\n",
      "    \"green\",\n",
      "    \"blue\",\n",
      "    \"yellow\"\n",
      "  ]\n",
      "}\n"
     ]
    }
   ],
   "source": [
    "import json\n",
    "\n",
    "collection = {}\n",
    "\n",
    "for line in csv.split('\\n'):\n",
    "    print(line)\n",
    "    if len(line) == 0:\n",
    "        continue\n",
    "    people, colours = line.split('|')\n",
    "    people = people.split(', ')\n",
    "    colours = set(colours.split(', '))\n",
    "    for person in people:\n",
    "        try:\n",
    "            collection[person] |= colours\n",
    "        except KeyError:\n",
    "            collection[person] = colours\n",
    "\n",
    "\n",
    "print(json.dumps({k: list(v) for k, v in collection.items()}, indent=2))"
   ]
  },
  {
   "cell_type": "code",
   "execution_count": null,
   "metadata": {},
   "outputs": [],
   "source": []
  }
 ],
 "metadata": {
  "kernelspec": {
   "display_name": "Python 3",
   "language": "python",
   "name": "python3"
  },
  "language_info": {
   "codemirror_mode": {
    "name": "ipython",
    "version": 3
   },
   "file_extension": ".py",
   "mimetype": "text/x-python",
   "name": "python",
   "nbconvert_exporter": "python",
   "pygments_lexer": "ipython3",
   "version": "3.6.2"
  }
 },
 "nbformat": 4,
 "nbformat_minor": 2
}
