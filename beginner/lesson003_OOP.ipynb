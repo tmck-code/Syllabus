{
 "cells": [
  {
   "cell_type": "markdown",
   "metadata": {},
   "source": [
    "# Objects in objects!?"
   ]
  },
  {
   "cell_type": "markdown",
   "metadata": {},
   "source": [
    "For the past few lessons, we've been working with our book & library example\n",
    "\n",
    "* Create something that can hold information about an individual book\n",
    "* Make a collection that can hold many books\n",
    "* Print information to the user about the books\n",
    "\n",
    "So far, we've started by working with `dictionaries`, and then last lesson defined our first class, a `Book`.\n",
    "This lesson, we'll make a class for our library!"
   ]
  },
  {
   "cell_type": "markdown",
   "metadata": {},
   "source": [
    "Firstly, lets redefine our `Book` class"
   ]
  },
  {
   "cell_type": "code",
   "execution_count": 1,
   "metadata": {},
   "outputs": [],
   "source": [
    "class Book:\n",
    "    'A class to hold information about a book'\n",
    "\n",
    "    def __init__(self, title, author, year):\n",
    "        self.title = title\n",
    "        self.author = author\n",
    "        self.year = year\n",
    "    \n",
    "    def __repr__(self):\n",
    "        return '{} ({}) by {}'.format(self.title, self.year, self.author)"
   ]
  },
  {
   "cell_type": "markdown",
   "metadata": {},
   "source": [
    "And now lets define our `Library`! For now, all we need is:\n",
    "\n",
    "* To be able to give it a name\n",
    "* To be able to store books in some kind of structure\n",
    "* A nice print method"
   ]
  },
  {
   "cell_type": "code",
   "execution_count": 7,
   "metadata": {},
   "outputs": [],
   "source": [
    "class Library:\n",
    "    'A class to hold several Books'\n",
    "    \n",
    "    def __init__(self, name):\n",
    "        self.name = name\n",
    "        self.inventory = []\n",
    "    \n",
    "    def __repr__(self):\n",
    "        string = f'''\n",
    "        ~~~\n",
    "        Welcome to {self.name}!\n",
    "        \n",
    "        We currently have {len(self.inventory)} books:\n",
    "\n",
    "        '''\n",
    "        for index, book in enumerate(self.inventory):\n",
    "            string += f'{index+1}: {book}'\n",
    "        return string"
   ]
  },
  {
   "cell_type": "markdown",
   "metadata": {},
   "source": [
    "Now that we have a very basic library class, lets create one library and one book. They are separate at the moment - we haven't added our book to the library yet."
   ]
  },
  {
   "cell_type": "code",
   "execution_count": 8,
   "metadata": {},
   "outputs": [],
   "source": [
    "b = Book('The Thorn Birds', 'Colleen McCullough', 1977)\n",
    "library = Library('lib')"
   ]
  },
  {
   "cell_type": "markdown",
   "metadata": {},
   "source": [
    "Now lets see what it looks like"
   ]
  },
  {
   "cell_type": "code",
   "execution_count": 12,
   "metadata": {},
   "outputs": [
    {
     "name": "stdout",
     "output_type": "stream",
     "text": [
      "\n",
      "        ~~~\n",
      "        Welcome to lib!\n",
      "        \n",
      "        We currently have 0 books:\n",
      "\n",
      "        \n"
     ]
    }
   ],
   "source": [
    "print(library)"
   ]
  },
  {
   "cell_type": "markdown",
   "metadata": {},
   "source": [
    "## Homework\n",
    "\n",
    "___\n",
    "\n",
    "This week there are two tasks. In the Library class that we defined above, add these methods one at a time:\n",
    "\n",
    "1. A method to add a book to the library\n",
    "2. A method to check (return true/false) whether the library contains a certain book\n",
    "\n",
    "Test out by calling your new methods and by printing the library!"
   ]
  }
 ],
 "metadata": {
  "kernelspec": {
   "display_name": "Python 3",
   "language": "python",
   "name": "python3"
  },
  "language_info": {
   "codemirror_mode": {
    "name": "ipython",
    "version": 3
   },
   "file_extension": ".py",
   "mimetype": "text/x-python",
   "name": "python",
   "nbconvert_exporter": "python",
   "pygments_lexer": "ipython3",
   "version": "3.6.5"
  }
 },
 "nbformat": 4,
 "nbformat_minor": 2
}
