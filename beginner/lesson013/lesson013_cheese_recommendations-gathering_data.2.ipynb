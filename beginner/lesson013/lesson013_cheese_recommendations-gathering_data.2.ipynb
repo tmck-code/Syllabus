{
 "cells": [
  {
   "cell_type": "code",
   "execution_count": 1,
   "metadata": {},
   "outputs": [],
   "source": [
    "# Our cheese dataset\n",
    "raw = '''\n",
    "Hard cheese,Parmigiano Reggiano,Cabernet Savignon\n",
    "Hard cheese,Pecorino,Zinfandel\n",
    "Hard cheese,Aged Manchego,Pinot Noir\n",
    "Semi-hard cheese,Cheddar,Pinot Noir\n",
    "Semi-hard cheese,Gouda,Pinot Gris\n",
    "Semi-hard cheese,Baby Swiss,Sauvignon Blanc\n",
    "Blue cheese & brie,Gorgonzola,Zinfandel\n",
    "Blue cheese & brie,Roquefort,Chardonnay\n",
    "Blue cheese & brie,Stilton,Merlot\n",
    "Blue cheese & brie,Stilton,Riesling\n",
    "'''"
   ]
  },
  {
   "cell_type": "code",
   "execution_count": 14,
   "metadata": {},
   "outputs": [
    {
     "name": "stdout",
     "output_type": "stream",
     "text": [
      "{'type': 'Hard cheese', 'name': 'Pecorino'}\n"
     ]
    }
   ],
   "source": [
    "cheeses = [\n",
    "    {\n",
    "        'type': 'Hard cheese',\n",
    "        'name': 'Pecorino'\n",
    "    }\n",
    "]\n",
    "\n",
    "cheeses = [cheese]\n",
    "\n",
    "wine = {\n",
    "    'name': 'Merlot',\n",
    "    'type': 'Red'\n",
    "}\n",
    "\n",
    "wines = [wine]\n",
    "\n",
    "pairing = {\n",
    "    'cheese_type': 'Hard cheese',\n",
    "    'wine_type': 'Red'\n",
    "}\n",
    "pairings = [pairing]\n",
    "\n",
    "def find_cheese_by_name(cheese_name=''):\n",
    "    for c in cheeses:\n",
    "        if c['name'] == cheese_name:\n",
    "            return c\n",
    "\n",
    "def find_wine_by_type(wine_type=''):\n",
    "    for w in wines:\n",
    "        if w['type'] == wine_type:\n",
    "            return w\n",
    "\n",
    "def find_pairing_by_cheese_type(cheese_type=''):\n",
    "    for p in pairings:\n",
    "        if p['cheese_type'] == cheese_type:\n",
    "            return p\n",
    "        \n",
    "def find_wine_pairing(cheese_name=''):\n",
    "    c = find_cheese_by_name(cheese_name)\n",
    "    print(c)\n",
    "    \n",
    "    p = find_pairing_by_cheese_type(c['type'])\n",
    "    w = find_wine_by_type(p['wine_type'])\n",
    "    return w\n",
    "            \n",
    "find_wine_pairing('Pecorino')\n",
    "\n",
    "def lookup_cheese(key, value):\n",
    "    for c in cheeses:\n",
    "        if c[key] == value:\n",
    "            return c\n",
    "        \n",
    "lookup_cheese('name', 'Pecorin')"
   ]
  },
  {
   "cell_type": "code",
   "execution_count": null,
   "metadata": {},
   "outputs": [],
   "source": [
    "class T"
   ]
  }
 ],
 "metadata": {
  "kernelspec": {
   "display_name": "Python 3",
   "language": "python",
   "name": "python3"
  },
  "language_info": {
   "codemirror_mode": {
    "name": "ipython",
    "version": 3
   },
   "file_extension": ".py",
   "mimetype": "text/x-python",
   "name": "python",
   "nbconvert_exporter": "python",
   "pygments_lexer": "ipython3",
   "version": "3.7.2"
  }
 },
 "nbformat": 4,
 "nbformat_minor": 2
}
