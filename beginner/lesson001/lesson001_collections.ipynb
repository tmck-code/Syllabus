{
 "cells": [
  {
   "cell_type": "markdown",
   "metadata": {},
   "source": [
    "# Coding with Clarkey: Lesson 1!\n",
    "\n",
    "This aims to build a little dictionaries which we covered in person.\n",
    "\n",
    "* There is a library that holds a collection of books (mostly just the ones that\n",
    "  I could remember an author for :p)\n",
    "\n",
    "* There is a simple loop set up that will go through the dictionary, getting both\n",
    "  the title (the 'key'), and the info about the book (the 'value')\n",
    "* Currently, this loop just prints out very unsexy information"
   ]
  },
  {
   "cell_type": "code",
   "execution_count": 2,
   "metadata": {},
   "outputs": [
    {
     "name": "stdout",
     "output_type": "stream",
     "text": [
      "A Tale of Two Cities {'author': 'Charles Dickens', 'year': 1859}\n",
      "The Thorn Birds {'author': 'Colleen McCullough', 'year': 1977}\n",
      "The Handmaid's Tale {'author': 'Margaret Atwood', 'year': 1985}\n",
      "The Book Thief {'author': 'Marcus Zusak', 'year': 2005}\n"
     ]
    }
   ],
   "source": [
    "library = {\n",
    "    'A Tale of Two Cities': {\n",
    "        'author': 'Charles Dickens',\n",
    "        'year': 1859\n",
    "    },\n",
    "    'The Thorn Birds': {\n",
    "        'author': 'Colleen McCullough',\n",
    "        'year': 1977\n",
    "    },\n",
    "    'The Handmaid\\'s Tale': {\n",
    "        'author': 'Margaret Atwood',\n",
    "        'year': 1985\n",
    "    },\n",
    "    'The Book Thief': {\n",
    "        'author': 'Marcus Zusak',\n",
    "        'year': 2005\n",
    "    }\n",
    "}\n",
    "\n",
    "def display():\n",
    "    for title, info in library.items():\n",
    "        print(title, info)\n",
    "        \n",
    "# now, let's call our display() method to see what it looks like\n",
    "display()"
   ]
  },
  {
   "cell_type": "code",
   "execution_count": null,
   "metadata": {},
   "outputs": [],
   "source": []
  }
 ],
 "metadata": {
  "kernelspec": {
   "display_name": "Python 3",
   "language": "python",
   "name": "python3"
  },
  "language_info": {
   "codemirror_mode": {
    "name": "ipython",
    "version": 3
   },
   "file_extension": ".py",
   "mimetype": "text/x-python",
   "name": "python",
   "nbconvert_exporter": "python",
   "pygments_lexer": "ipython3",
   "version": "3.6.5"
  }
 },
 "nbformat": 4,
 "nbformat_minor": 2
}
