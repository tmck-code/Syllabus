{
 "cells": [
  {
   "cell_type": "markdown",
   "metadata": {},
   "source": [
    "# Lesson 7: Bartender"
   ]
  },
  {
   "cell_type": "markdown",
   "metadata": {},
   "source": [
    "We've covered a lot in the last few weeks! Today we're going to be reviewing the stuff we've done so far, so we're all GTG moving into the next lessons.\n",
    "\n",
    "So far, these are the basics we've visited:\n",
    "\n",
    "* objects/classes\n",
    "* numbers\n",
    "* strings\n",
    "* lists\n",
    "* dictionaries\n",
    "* for loops\n",
    "\n",
    "___\n",
    "\n",
    "* Objects and classes\n",
    "  * Classes are the _blueprint_\n",
    "  * Objects are then made from that blueprint. There can be many, many objects made from a single class"
   ]
  },
  {
   "cell_type": "markdown",
   "metadata": {},
   "source": [
    "## Wait, what does a class look like again?"
   ]
  },
  {
   "cell_type": "code",
   "execution_count": 5,
   "metadata": {},
   "outputs": [],
   "source": [
    "class Book:\n",
    "    # In a class, the first \"argument\" of every method must be \"self\"\n",
    "    def __init__(self, title):\n",
    "        # Variables that are referenced like `self.title` are available across all methods\n",
    "        self.title = title\n",
    "\n",
    "    def print_title(self):\n",
    "        print(self.title)\n"
   ]
  },
  {
   "cell_type": "code",
   "execution_count": 6,
   "metadata": {},
   "outputs": [
    {
     "name": "stdout",
     "output_type": "stream",
     "text": [
      "My Book\n"
     ]
    }
   ],
   "source": [
    "b = Book('My Book')\n",
    "b.print_title()"
   ]
  },
  {
   "cell_type": "markdown",
   "metadata": {},
   "source": [
    "## Let's make something!"
   ]
  },
  {
   "cell_type": "markdown",
   "metadata": {},
   "source": [
    "Today we're going to make a bartender program! The best \"toy problems\" have narrow scope on what they do, so let's define what we want our bartender to do.\n",
    "\n",
    "In no particular order:\n",
    "\n",
    "1. Store many beers! Of a few different brands/types\n",
    "2. Report on (print) the current stock\n",
    "3. Serve/dispense a beer when requested\n",
    "  * And update the inventory\n",
    "4. Dispense the \"next best\" beer if the requested beer is out of stock"
   ]
  },
  {
   "cell_type": "markdown",
   "metadata": {},
   "source": [
    "### Making our Bartender\n",
    "\n",
    "You might notice that this section is emptier than usual! We are now the masters of our own destiny"
   ]
  },
  {
   "cell_type": "code",
   "execution_count": 7,
   "metadata": {},
   "outputs": [],
   "source": [
    "# Let's do step 1 first!\n",
    "# We're going to make a bartender 'class'\n",
    "\n",
    "class Bartender:\n",
    "    pass\n",
    "\n"
   ]
  },
  {
   "cell_type": "markdown",
   "metadata": {},
   "source": [
    "## Using the bartender"
   ]
  },
  {
   "cell_type": "code",
   "execution_count": null,
   "metadata": {},
   "outputs": [],
   "source": [
    "# Create a bartender\n",
    "bartender = Bartender()"
   ]
  },
  {
   "cell_type": "code",
   "execution_count": null,
   "metadata": {},
   "outputs": [],
   "source": [
    "# Request a beer!\n",
    "bartender.serve()"
   ]
  }
 ],
 "metadata": {
  "kernelspec": {
   "display_name": "Python 3",
   "language": "python",
   "name": "python3"
  },
  "language_info": {
   "codemirror_mode": {
    "name": "ipython",
    "version": 3
   },
   "file_extension": ".py",
   "mimetype": "text/x-python",
   "name": "python",
   "nbconvert_exporter": "python",
   "pygments_lexer": "ipython3",
   "version": "3.6.5"
  }
 },
 "nbformat": 4,
 "nbformat_minor": 2
}
