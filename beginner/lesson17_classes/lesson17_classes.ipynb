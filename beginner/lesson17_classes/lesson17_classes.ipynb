{
 "cells": [
  {
   "cell_type": "markdown",
   "id": "fe4df563-bdfb-43a4-8a5b-9156387a095d",
   "metadata": {
    "execution": {
     "iopub.execute_input": "2022-12-11T13:02:48.751829Z",
     "iopub.status.busy": "2022-12-11T13:02:48.751524Z",
     "iopub.status.idle": "2022-12-11T13:02:48.753816Z",
     "shell.execute_reply": "2022-12-11T13:02:48.753553Z",
     "shell.execute_reply.started": "2022-12-11T13:02:48.751814Z"
    },
    "tags": []
   },
   "source": [
    "# Lesson 17: Classes (and objects)\n",
    "\n",
    "\n",
    "## What is a class?\n",
    "\n",
    "Fromthe official Python docs https://docs.python.org/3/tutorial/classes.html#classes:\n",
    "\n",
    "### Properties\n",
    "\n",
    "- Classes provide a means of bundling data and functionality together. Creating a new class creates a new type of object, allowing new instances of that type to be made.   \n",
    "- Each class instance can have attributes attached to it for maintaining its state.   \n",
    "- Class instances can also have methods (defined by its class) for modifying its state.\n",
    "\n",
    "### Features\n",
    "\n",
    "> Python classes provide all the standard features of Object Oriented Programming: \n",
    "\n",
    "- the `class inheritance` mechanism allows multiple `base classes`, a `derived class` can override any methods of its base class or classes\n",
    "    - and a method can call the method of a base class with the **same name**.\n",
    "- Objects can contain arbitrary amounts and kinds of data\n",
    "- As is true for modules, classes partake of the dynamic nature of Python: they are created at runtime, and can be modified further after creation."
   ]
  },
  {
   "cell_type": "code",
   "execution_count": null,
   "id": "14a08d14-c0d2-4275-9329-1f70ee3fcf79",
   "metadata": {},
   "outputs": [],
   "source": [
    "class Something: pass"
   ]
  },
  {
   "cell_type": "code",
   "execution_count": 16,
   "id": "2454a840-ce3c-481f-ae0d-e09c05fbb3e5",
   "metadata": {
    "execution": {
     "iopub.execute_input": "2022-12-11T13:42:47.539496Z",
     "iopub.status.busy": "2022-12-11T13:42:47.539272Z",
     "iopub.status.idle": "2022-12-11T13:42:47.548363Z",
     "shell.execute_reply": "2022-12-11T13:42:47.547956Z",
     "shell.execute_reply.started": "2022-12-11T13:42:47.539483Z"
    },
    "tags": []
   },
   "outputs": [
    {
     "name": "stdout",
     "output_type": "stream",
     "text": [
      "other=<__main__.Other object at 0x7f963eb6fa60>\n",
      "other2=<__main__.Other object at 0x7f963edbdba0>\n",
      "are they equal?  False\n"
     ]
    }
   ],
   "source": [
    "class Other:\n",
    "    def __init__(self, name, id_number):\n",
    "        self.name = name\n",
    "        self.id_number = id_number\n",
    "\n",
    "other  = Other('my name', 'xx796')\n",
    "other2 = Other('my name', 'xx796')\n",
    "\n",
    "print(f'{other=}', f'{other2=}', sep='\\n')\n",
    "\n",
    "print('are they equal? ', other == other2)"
   ]
  },
  {
   "cell_type": "code",
   "execution_count": 18,
   "id": "c5d04292-86e3-4c1f-93ce-0bba001d8dc1",
   "metadata": {
    "execution": {
     "iopub.execute_input": "2022-12-11T13:43:06.046637Z",
     "iopub.status.busy": "2022-12-11T13:43:06.046407Z",
     "iopub.status.idle": "2022-12-11T13:43:06.050115Z",
     "shell.execute_reply": "2022-12-11T13:43:06.049783Z",
     "shell.execute_reply.started": "2022-12-11T13:43:06.046623Z"
    },
    "tags": []
   },
   "outputs": [
    {
     "name": "stdout",
     "output_type": "stream",
     "text": [
      "score: 0\n",
      "score: 1\n"
     ]
    }
   ],
   "source": [
    "class Other:\n",
    "    def __init__(self, name, id_number):\n",
    "        self.name = name\n",
    "        self.id_number = id_number\n",
    "        self.score = 0\n",
    "        \n",
    "    def incrememnt_score(self):\n",
    "        self.score += 1\n",
    "        \n",
    "other = Other('namey', '2598')\n",
    "print('score:', other.score)\n",
    "other.incrememnt_score()\n",
    "print('score:', other.score)"
   ]
  },
  {
   "cell_type": "markdown",
   "id": "eaea7363-ef19-4607-9a53-6db80b1d5fa7",
   "metadata": {
    "execution": {
     "iopub.execute_input": "2022-12-11T13:29:53.779000Z",
     "iopub.status.busy": "2022-12-11T13:29:53.778774Z",
     "iopub.status.idle": "2022-12-11T13:29:53.780940Z",
     "shell.execute_reply": "2022-12-11T13:29:53.780651Z",
     "shell.execute_reply.started": "2022-12-11T13:29:53.778985Z"
    }
   },
   "source": [
    "## But _why_ do all of this?\n",
    "\n",
    "Object-oriented programming (OO) is aimed at making code easier to read, reason about and design, especially within a company environment, where the code base is large and many people are likely to work on it.\n",
    "\n",
    "OO isn't always required if you are working on a small personal project, but it becomes a better idea to implement if work is repeatedly done on it, by multiple people."
   ]
  },
  {
   "cell_type": "markdown",
   "id": "979251ee-4442-406e-846c-e206ec0c9ee0",
   "metadata": {},
   "source": [
    "![](https://miro.medium.com/max/1264/1*HaGM6vCJAxHyw_j3kXJdUw.webp)"
   ]
  },
  {
   "cell_type": "markdown",
   "id": "9b0ed02f-bf4b-4ce3-b7f3-d6f8e81640a2",
   "metadata": {},
   "source": [
    "## Functions\n",
    "\n",
    "Functions are the most common way of grouping and encapsulating code in python.\n",
    "\n",
    "- Functions have 0 or more \"arguments\", which are the values that they depend upon to use.\n",
    "- Functions always have a return value"
   ]
  },
  {
   "cell_type": "code",
   "execution_count": null,
   "id": "03d4bf56-f9ae-4144-a343-f4ca88f4fddc",
   "metadata": {},
   "outputs": [],
   "source": []
  }
 ],
 "metadata": {
  "kernelspec": {
   "display_name": "Python 3 (ipykernel)",
   "language": "python",
   "name": "python3"
  },
  "language_info": {
   "codemirror_mode": {
    "name": "ipython",
    "version": 3
   },
   "file_extension": ".py",
   "mimetype": "text/x-python",
   "name": "python",
   "nbconvert_exporter": "python",
   "pygments_lexer": "ipython3",
   "version": "3.10.8"
  }
 },
 "nbformat": 4,
 "nbformat_minor": 5
}
