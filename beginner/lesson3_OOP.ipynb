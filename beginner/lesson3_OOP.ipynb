{
 "cells": [
  {
   "cell_type": "markdown",
   "metadata": {},
   "source": [
    "# Objects in objects!?"
   ]
  },
  {
   "cell_type": "code",
   "execution_count": 43,
   "metadata": {},
   "outputs": [
    {
     "name": "stdout",
     "output_type": "stream",
     "text": [
      "\n",
      "        ~~~\n",
      "        Welcome to lib!\n",
      "        \n",
      "        We currently have 0 books:\n",
      "\n",
      "        \n"
     ]
    }
   ],
   "source": [
    "class Book:\n",
    "    'A class to hold information about a book'\n",
    "    def __init__(self, title, author, year):\n",
    "        self.title = title\n",
    "        self.author = author\n",
    "        self.year = year\n",
    "    \n",
    "    def __repr__(self):\n",
    "        return '{} ({}) by {}'.format(self.title, self.year, self.author)\n",
    "\n",
    "class Library:\n",
    "    def __init__(self, name):\n",
    "        self.name = name\n",
    "        self.inventory = []\n",
    "        \n",
    "    def add_book(self, book):\n",
    "        self.inventory.append(book)\n",
    "        \n",
    "    def has_book(self, book):\n",
    "        return book in self.inventory\n",
    "    \n",
    "    def __repr__(self):\n",
    "        string = f'''\n",
    "        ~~~\n",
    "        Welcome to {self.name}!\n",
    "        \n",
    "        We currently have {len(self.inventory)} books:\n",
    "\n",
    "        '''\n",
    "        for index, book in enumerate(self.inventory):\n",
    "            string += f'{index+1}: {book}'\n",
    "        return string\n",
    "\n",
    "b = Book('The Thorn Birds', 'Colleen McCullough', 1977)\n",
    "library = Library('lib')\n",
    "\n",
    "print(library)"
   ]
  },
  {
   "cell_type": "code",
   "execution_count": 44,
   "metadata": {},
   "outputs": [
    {
     "name": "stdout",
     "output_type": "stream",
     "text": [
      "does our library have the book \"The Thorn Birds (1977) by Colleen McCullough\"?\n"
     ]
    },
    {
     "data": {
      "text/plain": [
       "False"
      ]
     },
     "execution_count": 44,
     "metadata": {},
     "output_type": "execute_result"
    }
   ],
   "source": [
    "print(f'does our library have the book \"{b}\"?')\n",
    "library.has_book(b)"
   ]
  },
  {
   "cell_type": "code",
   "execution_count": 45,
   "metadata": {},
   "outputs": [
    {
     "name": "stdout",
     "output_type": "stream",
     "text": [
      "does our library have the book \"The Thorn Birds (1977) by Colleen McCullough\"?\n"
     ]
    },
    {
     "data": {
      "text/plain": [
       "True"
      ]
     },
     "execution_count": 45,
     "metadata": {},
     "output_type": "execute_result"
    }
   ],
   "source": [
    "library.add_book(b)"
   ]
  },
  {
   "cell_type": "code",
   "execution_count": 47,
   "metadata": {},
   "outputs": [
    {
     "name": "stdout",
     "output_type": "stream",
     "text": [
      "does our library have the book \"The Thorn Birds (1977) by Colleen McCullough\"?\n"
     ]
    },
    {
     "data": {
      "text/plain": [
       "True"
      ]
     },
     "execution_count": 47,
     "metadata": {},
     "output_type": "execute_result"
    }
   ],
   "source": [
    "print(f'does our library have the book \"{b}\"?')\n",
    "library.has_book(b)"
   ]
  },
  {
   "cell_type": "code",
   "execution_count": 46,
   "metadata": {},
   "outputs": [
    {
     "name": "stdout",
     "output_type": "stream",
     "text": [
      "\n",
      "        ~~~\n",
      "        Welcome to lib!\n",
      "        \n",
      "        We currently have 1 books:\n",
      "\n",
      "        1: The Thorn Birds (1977) by Colleen McCullough\n"
     ]
    }
   ],
   "source": [
    "print(library)"
   ]
  }
 ],
 "metadata": {
  "kernelspec": {
   "display_name": "Python 3",
   "language": "python",
   "name": "python3"
  },
  "language_info": {
   "codemirror_mode": {
    "name": "ipython",
    "version": 3
   },
   "file_extension": ".py",
   "mimetype": "text/x-python",
   "name": "python",
   "nbconvert_exporter": "python",
   "pygments_lexer": "ipython3",
   "version": "3.6.5"
  }
 },
 "nbformat": 4,
 "nbformat_minor": 2
}
