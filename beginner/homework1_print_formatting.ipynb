{
 "cells": [
  {
   "cell_type": "markdown",
   "metadata": {},
   "source": [
    "\n",
    "# **</>** Coding with Clarkey\n",
    "\n",
    "> **Homework Volume 1!**\n",
    "\n",
    "_This aims to build a little on what we did with dictionaries this week._\n",
    "\n",
    "\n",
    "Welcome to our library!\n",
    "We aren't very good yet though. We don't have many books, and we don't know much about them"
   ]
  },
  {
   "cell_type": "markdown",
   "metadata": {},
   "source": [
    "___\n",
    "\n",
    "## -> A quick refresher\n",
    "\n",
    "In programming there are structures called 'key/value' stores, which store information about a certain _something_\n",
    "e.g. the dewey decimal system for books, where the reference number is the `key`, and the `value` that is stored is the book itself.\n",
    "\n",
    "`dictionaries` are the key/value structure in python. In a somewhat meta example, here is how you would store the data found when you google [for the definition of the word 'wow'](https://www.google.com.au/search?ei=SLEXW42iOM308AWF36zgAw&q=define%3A+wows&oq=define%3A+wows&gs_l=psy-ab.3..0i10i67k1j0l6j0i10k1l2j0.4894.5478.0.5482.4.4.0.0.0.0.267.267.2-1.1.0....0...1c.1.64.psy-ab..3.1.267....0.eo7n_HHkw9M#dobs=wow)"
   ]
  },
  {
   "cell_type": "code",
   "execution_count": 10,
   "metadata": {},
   "outputs": [
    {
     "data": {
      "text/plain": [
       "\"your play's a wow\""
      ]
     },
     "execution_count": 10,
     "metadata": {},
     "output_type": "execute_result"
    }
   ],
   "source": [
    "wow = {\n",
    "    'formality': 'informal',\n",
    "    'type': 'noun',\n",
    "    'plural': 'wows',\n",
    "    'definition': 'a sensational success.',\n",
    "    'example': \"your play's a wow\"\n",
    "}\n",
    "\n",
    "# You access the information by using the 'keys',\n",
    "# e.g. to get the example of the word, use:\n",
    "wow['example']"
   ]
  },
  {
   "cell_type": "markdown",
   "metadata": {},
   "source": [
    "___\n",
    "\n",
    "## -> Our dictionary\n",
    "\n",
    "I've made a slightly larger dictionary that contains several items, meant to represent a library\n",
    "\n",
    "Currently, it only contains two bits of info on each book: the author and the year it was published.\n",
    "\n",
    "> Currently, it's filled with 4 of my all time favourites :)\n"
   ]
  },
  {
   "cell_type": "code",
   "execution_count": 7,
   "metadata": {},
   "outputs": [],
   "source": [
    "library = {\n",
    "    'The Count of Monte Cristo': {\n",
    "        'author': 'Alexandre Dumas',\n",
    "        'year': 1844\n",
    "    },\n",
    "    'The Thorn Birds': {\n",
    "        'author': 'Colleen McCullough',\n",
    "        'year': 1977\n",
    "    },\n",
    "    'The Handmaid\\'s Tale': {\n",
    "        'author': 'Margaret Atwood',\n",
    "        'year': 1985\n",
    "    },\n",
    "    'The Book Thief': {\n",
    "        'author': 'Marcus Zusak',\n",
    "        'year': 2005\n",
    "    }\n",
    "}"
   ]
  },
  {
   "cell_type": "markdown",
   "metadata": {},
   "source": [
    "Now that we have our `library`, let's make a simple method to `display` what we have on offer.\n",
    "\n",
    "\n",
    "> **Side note:** This method contains a `docstring`, a sentence surrounded by single quotes that describes what the method does. _It's not always needed, but is often present in nice code._"
   ]
  },
  {
   "cell_type": "code",
   "execution_count": 12,
   "metadata": {},
   "outputs": [],
   "source": [
    "def display():\n",
    "    'Displays information about the books in the library'\n",
    "\n",
    "    for title, info in library.items():\n",
    "        print(title, info)"
   ]
  },
  {
   "cell_type": "code",
   "execution_count": 11,
   "metadata": {
    "scrolled": true
   },
   "outputs": [
    {
     "name": "stdout",
     "output_type": "stream",
     "text": [
      "-- The Count of Monte Cristo (1844), by Alexandre Dumas\n",
      "-- The Thorn Birds      (1977), by Colleen McCullough\n",
      "-- The Handmaid's Tale  (1985), by Margaret Atwood\n",
      "-- The Book Thief       (2005), by Marcus Zusak\n",
      "2005\n"
     ]
    }
   ],
   "source": [
    "# Run me!\n",
    "display()\n",
    "print(library['The Book Thief']['year'])"
   ]
  },
  {
   "cell_type": "markdown",
   "metadata": {},
   "source": [
    "___\n",
    "\n",
    "\n",
    "## -> Printing 'stuff'\n",
    "\n",
    "Printing is one of the most underrated areas of programming, but one of the hardest to master! Even using very quick, basic techniques can make a huge difference.\n",
    "\n",
    "### Decisions, decisions\n",
    "\n",
    "There are several ways to print variables in python! This is unusual among programming languages, and you'll probably end up just using one."
   ]
  },
  {
   "cell_type": "code",
   "execution_count": 14,
   "metadata": {},
   "outputs": [
    {
     "data": {
      "text/plain": [
       "'coding with clarkey'"
      ]
     },
     "execution_count": 14,
     "metadata": {},
     "output_type": "execute_result"
    }
   ],
   "source": [
    "# 1. using `.format`\n",
    "activity = 'coding'\n",
    "person = 'clarkey'\n",
    "\n",
    "'{} with {}'.format(activity, person)"
   ]
  },
  {
   "cell_type": "code",
   "execution_count": 16,
   "metadata": {},
   "outputs": [
    {
     "data": {
      "text/plain": [
       "'coding with clarkey'"
      ]
     },
     "execution_count": 16,
     "metadata": {},
     "output_type": "execute_result"
    }
   ],
   "source": [
    "# 2. using an `f` string\n",
    "activity = 'coding'\n",
    "person = 'clarkasdfey'\n",
    "emoji = '🌹'\n",
    "\n",
    "f'{activity} with {emoji} {person}'\n"
   ]
  },
  {
   "cell_type": "markdown",
   "metadata": {},
   "source": [
    "> Recommending a single version is difficult: I prefer the `f` strings, but they only exist in Python 3.6+, so if you use an older version of Python then it won't work.\n",
    "\n",
    "I'd probably recommend being familiar with both methods, they are very similar, which becomes apparent as you use them more.\n",
    "\n",
    "___\n",
    "\n",
    "Let's try a better way of displaying our books by accessing their info:"
   ]
  },
  {
   "cell_type": "code",
   "execution_count": 28,
   "metadata": {},
   "outputs": [
    {
     "name": "stdout",
     "output_type": "stream",
     "text": [
      "-- The Count of Monte Cristo (1844), by Alexandre Dumas\n",
      "-- The Thorn Birds (1977), by Colleen McCullough\n",
      "-- The Handmaid's Tale (1985), by Margaret Atwood\n",
      "-- The Book Thief (2005), by Marcus Zusak\n"
     ]
    }
   ],
   "source": [
    "def display():\n",
    "    'Displays information about the books in the library'\n",
    "\n",
    "    for title, info in library.items():\n",
    "        # title, \n",
    "        print(f\"-- {title} ({info['year']}), by {info['author']}\")\n",
    "\n",
    "# Now let's run our new improved method\n",
    "display()"
   ]
  },
  {
   "cell_type": "markdown",
   "metadata": {},
   "source": [
    "___\n",
    "\n",
    "Here's a little peek of the power of string formatting in python - instead of using the usual `{}` to print the `title` variable, you can align things!\n",
    "Let's see what happens when we align things left and right, with a certain width"
   ]
  },
  {
   "cell_type": "code",
   "execution_count": 33,
   "metadata": {},
   "outputs": [
    {
     "data": {
      "text/plain": [
       "'1      test'"
      ]
     },
     "execution_count": 33,
     "metadata": {},
     "output_type": "execute_result"
    }
   ],
   "source": [
    "'1{:>10}'.format('test')"
   ]
  },
  {
   "cell_type": "code",
   "execution_count": 19,
   "metadata": {},
   "outputs": [
    {
     "data": {
      "text/plain": [
       "'test      '"
      ]
     },
     "execution_count": 19,
     "metadata": {},
     "output_type": "execute_result"
    }
   ],
   "source": [
    "'{:<10}'.format('test')"
   ]
  },
  {
   "cell_type": "markdown",
   "metadata": {},
   "source": [
    "### Combining all this...\n",
    "\n",
    "Now, taking what we've tried out with **print formatting** and accessing **dictionary keys/values**, we can give our display another red-hot go.\n"
   ]
  },
  {
   "cell_type": "code",
   "execution_count": 35,
   "metadata": {},
   "outputs": [
    {
     "name": "stdout",
     "output_type": "stream",
     "text": [
      "-- The Count of Monte Cristo      (1844), by Alexandre Dumas\n",
      "-- The Thorn Birds                (1977), by Colleen McCullough\n",
      "-- The Handmaid's Tale            (1985), by Margaret Atwood\n",
      "-- The Book Thief                 (2005), by Marcus Zusak\n"
     ]
    }
   ],
   "source": [
    "def display():\n",
    "    'Displays information about the books in the library'\n",
    "\n",
    "    for title, info in library.items():\n",
    "        print(\"-- {:<30} ({}), by {}\".format(title, info['year'], info['author']))\n",
    "\n",
    "# Now let's try our new equivalent\n",
    "display()"
   ]
  },
  {
   "cell_type": "markdown",
   "metadata": {},
   "source": [
    "___\n",
    "\n",
    "_**<insert_mic_drop>**_"
   ]
  },
  {
   "cell_type": "markdown",
   "metadata": {},
   "source": [
    "## Exercises to the reader\n",
    "\n",
    "1. Retrieve and print all books by a certain author\n",
    "2. _(optional bonus)_ How might you find and print the oldest book?"
   ]
  },
  {
   "cell_type": "code",
   "execution_count": 41,
   "metadata": {},
   "outputs": [],
   "source": [
    "# 1.\n",
    "def books_by_author(author):\n",
    "    for title, info in library.items():\n",
    "        if info['author']== author:\n",
    "            print(f'found book: {title}')"
   ]
  },
  {
   "cell_type": "code",
   "execution_count": 44,
   "metadata": {},
   "outputs": [
    {
     "name": "stdout",
     "output_type": "stream",
     "text": [
      "found book: The Thorn Birds\n"
     ]
    }
   ],
   "source": [
    "books_by_author('Colleen McCullough')"
   ]
  },
  {
   "cell_type": "code",
   "execution_count": 51,
   "metadata": {},
   "outputs": [
    {
     "name": "stdout",
     "output_type": "stream",
     "text": [
      "-----------------\n",
      "comparing, current year is: 2018\n",
      "comparing against: The Count of Monte Cristo, {'author': 'Alexandre Dumas', 'year': 1844}\n",
      "=> found new oldest book! resetting current\n",
      "-----------------\n",
      "comparing, current year is: 1844\n",
      "comparing against: The Thorn Birds, {'author': 'Colleen McCullough', 'year': 1977}\n",
      "-----------------\n",
      "comparing, current year is: 1844\n",
      "comparing against: The Handmaid's Tale, {'author': 'Margaret Atwood', 'year': 1985}\n",
      "-----------------\n",
      "comparing, current year is: 1844\n",
      "comparing against: The Book Thief, {'author': 'Marcus Zusak', 'year': 2005}\n",
      "the oldest book found was The Count of Monte Cristo\n"
     ]
    }
   ],
   "source": [
    "# 2.\n",
    "def oldest_book():\n",
    "    current_year = 2018\n",
    "    oldest_title = ''\n",
    "\n",
    "    for title, info in library.items():\n",
    "        print('-----------------')\n",
    "        print(f'comparing, current year is: {current_year}')\n",
    "        print(f'comparing against: {title}, {info}')\n",
    "        if info['year'] < current_year:\n",
    "            print('=> found new oldest book! resetting current')\n",
    "            oldest_title = title\n",
    "            current_year = info['year']\n",
    "\n",
    "    print(f'the oldest book found was {oldest_title}')\n",
    "\n",
    "oldest_book()"
   ]
  },
  {
   "cell_type": "code",
   "execution_count": null,
   "metadata": {},
   "outputs": [],
   "source": []
  },
  {
   "cell_type": "code",
   "execution_count": null,
   "metadata": {},
   "outputs": [],
   "source": []
  }
 ],
 "metadata": {
  "kernelspec": {
   "display_name": "Python 3",
   "language": "python",
   "name": "python3"
  },
  "language_info": {
   "codemirror_mode": {
    "name": "ipython",
    "version": 3
   },
   "file_extension": ".py",
   "mimetype": "text/x-python",
   "name": "python",
   "nbconvert_exporter": "python",
   "pygments_lexer": "ipython3",
   "version": "3.6.5"
  }
 },
 "nbformat": 4,
 "nbformat_minor": 2
}
