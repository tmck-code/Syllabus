{
 "cells": [
  {
   "cell_type": "code",
   "execution_count": 1,
   "metadata": {},
   "outputs": [],
   "source": [
    "from datetime import datetime, timedelta, timezone"
   ]
  },
  {
   "cell_type": "markdown",
   "metadata": {},
   "source": [
    "Naming things is hard! This is a recent example that I caught myself writing.\n",
    "\n",
    "I was trying to implement behaviour in a `force_timezone` method that essentially said:\n",
    "\n",
    "* If I give you a `date/datetime` with _no timezone_, just give it **UTC** automatically\n",
    "* _Buuut_, if it already has a timezone, then *leave it* as it is.\n",
    "* _Unless_ there's a flag set! The flag is **turned off by default**.\n"
   ]
  },
  {
   "cell_type": "markdown",
   "metadata": {},
   "source": [
    "### v1. Negate the condition"
   ]
  },
  {
   "cell_type": "code",
   "execution_count": 2,
   "metadata": {},
   "outputs": [],
   "source": [
    "def force_timezone(dt, utc_offset=0, keep_existing=False, fmt=True):\n",
    "    'Forces a timezone from the given offset, does _not_ adjust time or date'\n",
    "\n",
    "    if not (keep_existing and dt.tzinfo):\n",
    "        dt = dt.replace(tzinfo=timezone(timedelta(hours=utc_offset)))\n",
    "    if fmt:\n",
    "        dt = dt.isoformat()\n",
    "    return dt"
   ]
  },
  {
   "cell_type": "markdown",
   "metadata": {},
   "source": [
    "### v2: Skip over the positive case"
   ]
  },
  {
   "cell_type": "code",
   "execution_count": 3,
   "metadata": {},
   "outputs": [],
   "source": [
    "def force_timezone(dt, utc_offset=0, keep_existing=False, fmt=True):\n",
    "    'Forces a timezone from the given offset, does _not_ adjust time or date'\n",
    "\n",
    "    if keep_existing and dt.tzinfo:\n",
    "        pass\n",
    "    else:\n",
    "        dt = dt.replace(tzinfo=timezone(timedelta(hours=utc_offset)))\n",
    "    if fmt:\n",
    "        dt = dt.isoformat()\n",
    "    return dt"
   ]
  },
  {
   "cell_type": "markdown",
   "metadata": {},
   "source": [
    "### v3: Negate the flag, then switch the boolean\n",
    "> (who can remember what this is called!?)"
   ]
  },
  {
   "cell_type": "code",
   "execution_count": null,
   "metadata": {},
   "outputs": [],
   "source": [
    "def force_timezone(dt, utc_offset=0, ignore_existing=True, fmt=True):\n",
    "    'Forces a timezone from the given offset, does _not_ adjust time or date'\n",
    "\n",
    "    if ignore_existing and dt.tzinfo:\n",
    "        dt = dt.replace(tzinfo=timezone(timedelta(hours=utc_offset)))\n",
    "    if fmt:\n",
    "        dt = dt.isoformat()\n",
    "    return dt"
   ]
  }
 ],
 "metadata": {
  "kernelspec": {
   "display_name": "Python 3",
   "language": "python",
   "name": "python3"
  },
  "language_info": {
   "codemirror_mode": {
    "name": "ipython",
    "version": 3
   },
   "file_extension": ".py",
   "mimetype": "text/x-python",
   "name": "python",
   "nbconvert_exporter": "python",
   "pygments_lexer": "ipython3",
   "version": "3.8.0"
  }
 },
 "nbformat": 4,
 "nbformat_minor": 2
}
